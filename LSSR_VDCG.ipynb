{
  "cells": [
    {
      "cell_type": "code",
      "execution_count": 1,
      "metadata": {
        "colab": {
          "base_uri": "https://localhost:8080/"
        },
        "id": "xnnIWNxjYSJj",
        "outputId": "7eb419c3-98ed-4ceb-ba7f-4fa1facd377f",
        "collapsed": true
      },
      "outputs": [
        {
          "output_type": "stream",
          "name": "stderr",
          "text": [
            "\u001b[32m\u001b[1m    Updating\u001b[22m\u001b[39m registry at `~/.julia/registries/General.toml`\n",
            "\u001b[32m\u001b[1m   Resolving\u001b[22m\u001b[39m package versions...\n",
            "\u001b[32m\u001b[1m   Installed\u001b[22m\u001b[39m HiGHS_jll ─────────── v1.11.0+1\n",
            "\u001b[32m\u001b[1m   Installed\u001b[22m\u001b[39m ZygoteRules ───────── v0.2.7\n",
            "\u001b[32m\u001b[1m   Installed\u001b[22m\u001b[39m ProgressBars ──────── v1.5.1\n",
            "\u001b[32m\u001b[1m   Installed\u001b[22m\u001b[39m Distances ─────────── v0.10.12\n",
            "\u001b[32m\u001b[1m   Installed\u001b[22m\u001b[39m IRTools ───────────── v0.4.15\n",
            "\u001b[32m\u001b[1m   Installed\u001b[22m\u001b[39m RealDot ───────────── v0.1.0\n",
            "\u001b[32m\u001b[1m   Installed\u001b[22m\u001b[39m MutableArithmetics ── v1.6.4\n",
            "\u001b[32m\u001b[1m   Installed\u001b[22m\u001b[39m MathOptInterface ──── v1.43.0\n",
            "\u001b[32m\u001b[1m   Installed\u001b[22m\u001b[39m CodecBzip2 ────────── v0.8.5\n",
            "\u001b[32m\u001b[1m   Installed\u001b[22m\u001b[39m StructTypes ───────── v1.11.0\n",
            "\u001b[32m\u001b[1m   Installed\u001b[22m\u001b[39m JSON3 ─────────────── v1.14.3\n",
            "\u001b[32m\u001b[1m   Installed\u001b[22m\u001b[39m BenchmarkTools ────── v1.6.0\n",
            "\u001b[32m\u001b[1m   Installed\u001b[22m\u001b[39m Zygote ────────────── v0.7.10\n",
            "\u001b[32m\u001b[1m   Installed\u001b[22m\u001b[39m ChainRules ────────── v1.72.5\n",
            "\u001b[32m\u001b[1m   Installed\u001b[22m\u001b[39m SparseInverseSubset ─ v0.1.2\n",
            "\u001b[32m\u001b[1m   Installed\u001b[22m\u001b[39m MathOptIIS ────────── v0.1.1\n",
            "\u001b[32m\u001b[1m   Installed\u001b[22m\u001b[39m HiGHS ─────────────── v1.19.0\n",
            "\u001b[32m\u001b[1m   Installed\u001b[22m\u001b[39m JuMP ──────────────── v1.28.0\n",
            "\u001b[32m\u001b[1m   Installed\u001b[22m\u001b[39m LIBSVMdata ────────── v0.1.4\n",
            "\u001b[32m\u001b[1m    Updating\u001b[22m\u001b[39m `~/.julia/environments/v1.11/Project.toml`\n",
            "  \u001b[90m[b4f34e82] \u001b[39m\u001b[92m+ Distances v0.10.12\u001b[39m\n",
            "  \u001b[90m[87dc4568] \u001b[39m\u001b[92m+ HiGHS v1.19.0\u001b[39m\n",
            "  \u001b[90m[4076af6c] \u001b[39m\u001b[92m+ JuMP v1.28.0\u001b[39m\n",
            "  \u001b[90m[e26130ba] \u001b[39m\u001b[92m+ LIBSVMdata v0.1.4\u001b[39m\n",
            "  \u001b[90m[10745b16] \u001b[39m\u001b[92m+ Statistics v1.11.1\u001b[39m\n",
            "  \u001b[90m[e88e6eb3] \u001b[39m\u001b[92m+ Zygote v0.7.10\u001b[39m\n",
            "  \u001b[90m[f43a241f] \u001b[39m\u001b[92m+ Downloads v1.6.0\u001b[39m\n",
            "  \u001b[90m[de0858da] \u001b[39m\u001b[92m+ Printf v1.11.0\u001b[39m\n",
            "  \u001b[90m[9a3f8284] \u001b[39m\u001b[92m+ Random v1.11.0\u001b[39m\n",
            "  \u001b[90m[2f01184e] \u001b[39m\u001b[92m+ SparseArrays v1.11.0\u001b[39m\n",
            "\u001b[32m\u001b[1m    Updating\u001b[22m\u001b[39m `~/.julia/environments/v1.11/Manifest.toml`\n",
            "  \u001b[90m[6e4b80f9] \u001b[39m\u001b[92m+ BenchmarkTools v1.6.0\u001b[39m\n",
            "  \u001b[90m[082447d4] \u001b[39m\u001b[92m+ ChainRules v1.72.5\u001b[39m\n",
            "  \u001b[90m[523fee87] \u001b[39m\u001b[92m+ CodecBzip2 v0.8.5\u001b[39m\n",
            "  \u001b[90m[b4f34e82] \u001b[39m\u001b[92m+ Distances v0.10.12\u001b[39m\n",
            "  \u001b[90m[87dc4568] \u001b[39m\u001b[92m+ HiGHS v1.19.0\u001b[39m\n",
            "  \u001b[90m[7869d1d1] \u001b[39m\u001b[92m+ IRTools v0.4.15\u001b[39m\n",
            "  \u001b[90m[0f8b85d8] \u001b[39m\u001b[92m+ JSON3 v1.14.3\u001b[39m\n",
            "  \u001b[90m[4076af6c] \u001b[39m\u001b[92m+ JuMP v1.28.0\u001b[39m\n",
            "  \u001b[90m[e26130ba] \u001b[39m\u001b[92m+ LIBSVMdata v0.1.4\u001b[39m\n",
            "  \u001b[90m[8c4f8055] \u001b[39m\u001b[92m+ MathOptIIS v0.1.1\u001b[39m\n",
            "  \u001b[90m[b8f27783] \u001b[39m\u001b[92m+ MathOptInterface v1.43.0\u001b[39m\n",
            "  \u001b[90m[d8a4904e] \u001b[39m\u001b[92m+ MutableArithmetics v1.6.4\u001b[39m\n",
            "  \u001b[90m[49802e3a] \u001b[39m\u001b[92m+ ProgressBars v1.5.1\u001b[39m\n",
            "  \u001b[90m[c1ae055f] \u001b[39m\u001b[92m+ RealDot v0.1.0\u001b[39m\n",
            "  \u001b[90m[dc90abb0] \u001b[39m\u001b[92m+ SparseInverseSubset v0.1.2\u001b[39m\n",
            "  \u001b[90m[856f2bd8] \u001b[39m\u001b[92m+ StructTypes v1.11.0\u001b[39m\n",
            "  \u001b[90m[e88e6eb3] \u001b[39m\u001b[92m+ Zygote v0.7.10\u001b[39m\n",
            "  \u001b[90m[700de1a5] \u001b[39m\u001b[92m+ ZygoteRules v0.2.7\u001b[39m\n",
            "  \u001b[90m[8fd58aa0] \u001b[39m\u001b[92m+ HiGHS_jll v1.11.0+1\u001b[39m\n",
            "  \u001b[90m[9abbd945] \u001b[39m\u001b[92m+ Profile v1.11.0\u001b[39m\n",
            "\u001b[92m\u001b[1mPrecompiling\u001b[22m\u001b[39m project...\n",
            "   3798.7 ms\u001b[32m  ✓ \u001b[39m\u001b[90mRealDot\u001b[39m\n",
            "   4200.7 ms\u001b[32m  ✓ \u001b[39mDistances\n",
            "   4222.9 ms\u001b[32m  ✓ \u001b[39m\u001b[90mProgressBars\u001b[39m\n",
            "   2122.2 ms\u001b[32m  ✓ \u001b[39m\u001b[90mSparseInverseSubset\u001b[39m\n",
            "   2970.0 ms\u001b[32m  ✓ \u001b[39m\u001b[90mStructTypes\u001b[39m\n",
            "   2436.7 ms\u001b[32m  ✓ \u001b[39m\u001b[90mZygoteRules\u001b[39m\n",
            "   6013.6 ms\u001b[32m  ✓ \u001b[39m\u001b[90mIRTools\u001b[39m\n",
            "   1986.7 ms\u001b[32m  ✓ \u001b[39m\u001b[90mHiGHS_jll\u001b[39m\n",
            "   1656.9 ms\u001b[32m  ✓ \u001b[39m\u001b[90mCodecBzip2\u001b[39m\n",
            "   2345.7 ms\u001b[32m  ✓ \u001b[39mDistances → DistancesSparseArraysExt\n",
            "   4015.8 ms\u001b[32m  ✓ \u001b[39m\u001b[90mBenchmarkTools\u001b[39m\n",
            "   1570.8 ms\u001b[32m  ✓ \u001b[39mDistances → DistancesChainRulesCoreExt\n",
            "   5021.0 ms\u001b[32m  ✓ \u001b[39mLIBSVMdata\n",
            "  26482.3 ms\u001b[32m  ✓ \u001b[39m\u001b[90mMutableArithmetics\u001b[39m\n",
            "  19897.7 ms\u001b[32m  ✓ \u001b[39m\u001b[90mChainRules\u001b[39m\n",
            "   2248.7 ms\u001b[32m  ✓ \u001b[39m\u001b[90mArrayInterface → ArrayInterfaceChainRulesExt\u001b[39m\n",
            "   2070.1 ms\u001b[32m  ✓ \u001b[39m\u001b[90mMLDataDevices → MLDataDevicesChainRulesExt\u001b[39m\n",
            "  31627.9 ms\u001b[32m  ✓ \u001b[39m\u001b[90mJSON3\u001b[39m\n",
            " 119152.3 ms\u001b[32m  ✓ \u001b[39mZygote\n",
            "   5014.9 ms\u001b[32m  ✓ \u001b[39mZygote → ZygoteColorsExt\n",
            "   6777.2 ms\u001b[32m  ✓ \u001b[39mZygote → ZygoteDistancesExt\n",
            "   4672.7 ms\u001b[32m  ✓ \u001b[39m\u001b[90mMLDataDevices → MLDataDevicesZygoteExt\u001b[39m\n",
            "   7518.7 ms\u001b[32m  ✓ \u001b[39mLux → LuxZygoteExt\n",
            " 135390.7 ms\u001b[32m  ✓ \u001b[39m\u001b[90mMathOptInterface\u001b[39m\n",
            "   3841.9 ms\u001b[32m  ✓ \u001b[39m\u001b[90mMathOptIIS\u001b[39m\n",
            "  50099.5 ms\u001b[32m  ✓ \u001b[39mHiGHS\n",
            "  67209.8 ms\u001b[32m  ✓ \u001b[39mJuMP\n",
            "  27 dependencies successfully precompiled in 263 seconds. 497 already precompiled.\n"
          ]
        }
      ],
      "source": [
        "using Pkg\n",
        "Pkg.add([\"JuMP\", \"Downloads\", \"Distances\",\"HiGHS\",\"Random\",\"Statistics\",\"Printf\",\"Zygote\",\"SparseArrays\",\"LIBSVMdata\"])"
      ]
    },
    {
      "cell_type": "code",
      "execution_count": null,
      "metadata": {
        "colab": {
          "base_uri": "https://localhost:8080/"
        },
        "id": "glhASYJ8YYMg",
        "outputId": "4cccb536-e8e4-41d4-ff80-d5614ea930e3"
      },
      "outputs": [
        {
          "name": "stderr",
          "output_type": "stream",
          "text": [
            "\u001b[36m\u001b[1m[ \u001b[22m\u001b[39m\u001b[36m\u001b[1mInfo: \u001b[22m\u001b[39mLoading LIBSVM dataset 'a1a'...\n"
          ]
        },
        {
          "name": "stdout",
          "output_type": "stream",
          "text": [
            "Downloading the dataset a1a...\n"
          ]
        },
        {
          "name": "stderr",
          "output_type": "stream",
          "text": [
            "* Couldn't find host www.csie.ntu.edu.tw in the .netrc file; using defaults\n",
            "* Host www.csie.ntu.edu.tw:443 was resolved.\n",
            "* IPv6: (none)\n",
            "* IPv4: 140.112.30.26\n",
            "*   Trying 140.112.30.26:443...\n",
            "* Connected to www.csie.ntu.edu.tw (140.112.30.26) port 443\n",
            "* mbedTLS: Connecting to www.csie.ntu.edu.tw:443\n",
            "* mbedTLS: Set min SSL version to TLS 1.0\n",
            "* ALPN: curl offers h2,http/1.1\n",
            "* mbedTLS: Handshake complete, cipher is TLS-ECDHE-RSA-WITH-AES-128-GCM-SHA256\n",
            "* Dumping cert info: * cert. version     : 3\n",
            "* serial number     : 47:E8:00:00:00:07:87:FE:49:35:DC:01:F3:CD:23:5B\n",
            "* issuer name       : C=TW, O=TAIWAN-CA, CN=TWCA Secure SSL Certification Authority\n",
            "* subject name      : C=TW, ST=Taiwan, L=Taipei, O=National Taiwan University, CN=*.csie.ntu.edu.tw\n",
            "* issued  on        : 2024-10-16 09:35:59\n",
            "* expires on        : 2025-11-03 15:59:59\n",
            "* signed using      : RSA with SHA-256\n",
            "* RSA key size      : 2048 bits\n",
            "* basic constraints : CA=false\n",
            "* subject alt name  :\n",
            "*     dNSName : *.csie.ntu.edu.tw\n",
            "*     dNSName : csie.ntu.edu.tw\n",
            "* key usage         : Digital Signature, Key Encipherment\n",
            "* ext key usage     : TLS Web Server Authentication, TLS Web Client Authentication\n",
            "* certificate policies : ???, ???\n",
            "\n",
            "* ALPN: server did not agree on a protocol. Uses default.\n",
            "* SSL connected\n",
            "* using HTTP/1.x\n",
            "> GET /~cjlin/libsvmtools/datasets/binary/a1a HTTP/1.1\n",
            "Host: www.csie.ntu.edu.tw\n",
            "Accept: */*\n",
            "User-Agent: curl/8.6.0 julia/1.11\n",
            "\n",
            "< HTTP/1.1 200 OK\n",
            "< Date: Sat, 30 Aug 2025 19:16:42 GMT\n",
            "< Server: Apache/2.4.57 (Debian)\n",
            "< Strict-Transport-Security: max-age=31536000; includeSubDomains\n",
            "< Last-Modified: Wed, 08 Jun 2005 06:29:23 GMT\n",
            "< ETag: \"1c082-3f9020ec256c0\"\n",
            "< Accept-Ranges: bytes\n",
            "< Content-Length: 114818\n",
            "< \n"
          ]
        },
        {
          "name": "stdout",
          "output_type": "stream",
          "text": [
            "Loading the dataset...\n"
          ]
        },
        {
          "name": "stderr",
          "output_type": "stream",
          "text": [
            "* Connection #0 to host www.csie.ntu.edu.tw left intact\n",
            "0.0%┣                                             ┫ 0/1.6k [00:00<00:00, -0s/it]\n",
            "0.1%┣                                         ┫ 1/1.6k [00:00<Inf:Inf, InfGs/it]\n",
            "16.0%┣██████▋                                  ┫ 257/1.6k [00:01<00:03, 461it/s]\n",
            "100.0%┣██████████████████████████████████████┫ 1.6k/1.6k [00:01<00:00, 2.7kit/s]\n",
            "100.0%┣██████████████████████████████████████┫ 1.6k/1.6k [00:01<00:00, 2.7kit/s]\n",
            "\u001b[36m\u001b[1m[ \u001b[22m\u001b[39m\u001b[36m\u001b[1mInfo: \u001b[22m\u001b[39mData loaded: 1605 samples, 123 features\n"
          ]
        },
        {
          "name": "stdout",
          "output_type": "stream",
          "text": [
            "\n",
            "🚀 Starting VDCG...\n",
            "Initial solution: f(x) = 0.950277\n"
          ]
        },
        {
          "name": "stderr",
          "output_type": "stream",
          "text": [
            "\u001b[36m\u001b[1m[ \u001b[22m\u001b[39m\u001b[36m\u001b[1mInfo: \u001b[22m\u001b[39mInitial point x0 set on L1-ball boundary\n"
          ]
        },
        {
          "name": "stdout",
          "output_type": "stream",
          "text": [
            "→ VDCG Level 1: 2 sites, Current best f(x) = 0.950277\n"
          ]
        },
        {
          "name": "stderr",
          "output_type": "stream",
          "text": [
            "\u001b[36m\u001b[1m[ \u001b[22m\u001b[39m\u001b[36m\u001b[1mInfo: \u001b[22m\u001b[39mDistance between x0 and x_init: 36.58307617700622\n",
            "\u001b[36m\u001b[1m[ \u001b[22m\u001b[39m\u001b[36m\u001b[1mInfo: \u001b[22m\u001b[39mInterior point LP: τ = -669.16073129, Status = Interior\n",
            "\u001b[36m\u001b[1m[ \u001b[22m\u001b[39m\u001b[36m\u001b[1mInfo: \u001b[22m\u001b[39mCell 1: New point not added, obj = 0.950277, min distance = 0.0, better = false\n"
          ]
        },
        {
          "name": "stdout",
          "output_type": "stream",
          "text": [
            "  New point found: f(x) = 0.987716\n",
            "  ✅ Level 1 completed in 4.4745 sec | Best objective so far: 0.950277\n"
          ]
        },
        {
          "name": "stderr",
          "output_type": "stream",
          "text": [
            "\u001b[36m\u001b[1m[ \u001b[22m\u001b[39m\u001b[36m\u001b[1mInfo: \u001b[22m\u001b[39mInterior point LP: τ = -2886.59012374, Status = Interior\n"
          ]
        },
        {
          "name": "stdout",
          "output_type": "stream",
          "text": [
            "→ VDCG Level 2: 3 sites, Current best f(x) = 0.950277\n"
          ]
        },
        {
          "name": "stderr",
          "output_type": "stream",
          "text": [
            "\u001b[36m\u001b[1m[ \u001b[22m\u001b[39m\u001b[36m\u001b[1mInfo: \u001b[22m\u001b[39mInterior point LP: τ = -669.16073129, Status = Interior\n",
            "\u001b[36m\u001b[1m[ \u001b[22m\u001b[39m\u001b[36m\u001b[1mInfo: \u001b[22m\u001b[39mCell 1: New point not added, obj = 0.950277, min distance = 0.0, better = false\n"
          ]
        },
        {
          "name": "stdout",
          "output_type": "stream",
          "text": [
            "  New point found: f(x) = 0.934306\n"
          ]
        },
        {
          "name": "stderr",
          "output_type": "stream",
          "text": [
            "\u001b[36m\u001b[1m[ \u001b[22m\u001b[39m\u001b[36m\u001b[1mInfo: \u001b[22m\u001b[39mInterior point LP: τ = -556.31197053, Status = Interior\n",
            "\u001b[36m\u001b[1m[ \u001b[22m\u001b[39m\u001b[36m\u001b[1mInfo: \u001b[22m\u001b[39mInterior point LP: τ = -1447.87771356, Status = Interior\n",
            "\u001b[36m\u001b[1m[ \u001b[22m\u001b[39m\u001b[36m\u001b[1mInfo: \u001b[22m\u001b[39mCell 3: New point not added, obj = 0.987716, min distance = 0.0, better = false\n"
          ]
        },
        {
          "name": "stdout",
          "output_type": "stream",
          "text": [
            "  ✅ Level 2 completed in 1.3738 sec | Best objective so far: 0.934306\n",
            "→ VDCG Level 3: 4 sites, Current best f(x) = 0.934306\n"
          ]
        },
        {
          "name": "stderr",
          "output_type": "stream",
          "text": [
            "\u001b[36m\u001b[1m[ \u001b[22m\u001b[39m\u001b[36m\u001b[1mInfo: \u001b[22m\u001b[39mInterior point LP: τ = -669.16073129, Status = Interior\n",
            "\u001b[36m\u001b[1m[ \u001b[22m\u001b[39m\u001b[36m\u001b[1mInfo: \u001b[22m\u001b[39mCell 1: New point not added, obj = 0.950277, min distance = 0.0, better = false\n"
          ]
        },
        {
          "name": "stdout",
          "output_type": "stream",
          "text": [
            "  New point found: f(x) = 0.938645\n"
          ]
        },
        {
          "name": "stderr",
          "output_type": "stream",
          "text": [
            "\u001b[36m\u001b[1m[ \u001b[22m\u001b[39m\u001b[36m\u001b[1mInfo: \u001b[22m\u001b[39mInterior point LP: τ = -268.15833565, Status = Interior\n",
            "\u001b[36m\u001b[1m[ \u001b[22m\u001b[39m\u001b[36m\u001b[1mInfo: \u001b[22m\u001b[39mInterior point LP: τ = -661.03302423, Status = Interior\n",
            "\u001b[36m\u001b[1m[ \u001b[22m\u001b[39m\u001b[36m\u001b[1mInfo: \u001b[22m\u001b[39mCell 3: New point not added, obj = 0.987716, min distance = 0.0, better = false\n"
          ]
        },
        {
          "name": "stdout",
          "output_type": "stream",
          "text": [
            "  New point found: f(x) = 0.933927\n",
            "  ✅ Level 3 completed in 1.2611 sec | Best objective so far: 0.933927\n"
          ]
        },
        {
          "name": "stderr",
          "output_type": "stream",
          "text": [
            "\u001b[36m\u001b[1m[ \u001b[22m\u001b[39m\u001b[36m\u001b[1mInfo: \u001b[22m\u001b[39mInterior point LP: τ = -157.99629435, Status = Interior\n"
          ]
        },
        {
          "name": "stdout",
          "output_type": "stream",
          "text": [
            "→ VDCG Level 4: 6 sites, Current best f(x) = 0.933927\n"
          ]
        },
        {
          "name": "stderr",
          "output_type": "stream",
          "text": [
            "\u001b[36m\u001b[1m[ \u001b[22m\u001b[39m\u001b[36m\u001b[1mInfo: \u001b[22m\u001b[39mInterior point LP: τ = -669.16073129, Status = Interior\n",
            "\u001b[36m\u001b[1m[ \u001b[22m\u001b[39m\u001b[36m\u001b[1mInfo: \u001b[22m\u001b[39mCell 1: New point not added, obj = 0.950277, min distance = 0.0, better = false\n"
          ]
        },
        {
          "name": "stdout",
          "output_type": "stream",
          "text": [
            "  New point found: f(x) = 0.935578\n"
          ]
        },
        {
          "name": "stderr",
          "output_type": "stream",
          "text": [
            "\u001b[36m\u001b[1m[ \u001b[22m\u001b[39m\u001b[36m\u001b[1mInfo: \u001b[22m\u001b[39mInterior point LP: τ = -259.51295394, Status = Interior\n",
            "\u001b[36m\u001b[1m[ \u001b[22m\u001b[39m\u001b[36m\u001b[1mInfo: \u001b[22m\u001b[39mInterior point LP: τ = -633.8899233, Status = Interior\n",
            "\u001b[36m\u001b[1m[ \u001b[22m\u001b[39m\u001b[36m\u001b[1mInfo: \u001b[22m\u001b[39mCell 3: New point not added, obj = 0.987716, min distance = 0.0, better = false\n"
          ]
        },
        {
          "name": "stdout",
          "output_type": "stream",
          "text": [
            "  New point found: f(x) = 0.935313\n"
          ]
        },
        {
          "name": "stderr",
          "output_type": "stream",
          "text": [
            "\u001b[36m\u001b[1m[ \u001b[22m\u001b[39m\u001b[36m\u001b[1mInfo: \u001b[22m\u001b[39mInterior point LP: τ = -26.32292902, Status = Interior\n"
          ]
        },
        {
          "name": "stdout",
          "output_type": "stream",
          "text": [
            "  New point found: f(x) = 0.936211\n"
          ]
        },
        {
          "name": "stderr",
          "output_type": "stream",
          "text": [
            "\u001b[36m\u001b[1m[ \u001b[22m\u001b[39m\u001b[36m\u001b[1mInfo: \u001b[22m\u001b[39mInterior point LP: τ = -104.70355133, Status = Interior\n"
          ]
        },
        {
          "name": "stdout",
          "output_type": "stream",
          "text": [
            "  New point found: f(x) = 1.008385\n",
            "  ✅ Level 4 completed in 1.8289 sec | Best objective so far: 0.933927\n"
          ]
        },
        {
          "name": "stderr",
          "output_type": "stream",
          "text": [
            "\u001b[36m\u001b[1m[ \u001b[22m\u001b[39m\u001b[36m\u001b[1mInfo: \u001b[22m\u001b[39mInterior point LP: τ = -43.32291362, Status = Interior\n"
          ]
        },
        {
          "name": "stdout",
          "output_type": "stream",
          "text": [
            "→ VDCG Level 5: 10 sites, Current best f(x) = 0.933927\n"
          ]
        },
        {
          "name": "stderr",
          "output_type": "stream",
          "text": [
            "\u001b[36m\u001b[1m[ \u001b[22m\u001b[39m\u001b[36m\u001b[1mInfo: \u001b[22m\u001b[39mInterior point LP: τ = -669.16073129, Status = Interior\n",
            "\u001b[36m\u001b[1m[ \u001b[22m\u001b[39m\u001b[36m\u001b[1mInfo: \u001b[22m\u001b[39mCell 1: New point not added, obj = 0.950277, min distance = 0.0, better = false\n"
          ]
        },
        {
          "name": "stdout",
          "output_type": "stream",
          "text": [
            "  New point found: f(x) = 0.934404\n"
          ]
        },
        {
          "name": "stderr",
          "output_type": "stream",
          "text": [
            "\u001b[36m\u001b[1m[ \u001b[22m\u001b[39m\u001b[36m\u001b[1mInfo: \u001b[22m\u001b[39mInterior point LP: τ = -256.89345652, Status = Interior\n",
            "\u001b[36m\u001b[1m[ \u001b[22m\u001b[39m\u001b[36m\u001b[1mInfo: \u001b[22m\u001b[39mInterior point LP: τ = -623.21399799, Status = Interior\n",
            "\u001b[36m\u001b[1m[ \u001b[22m\u001b[39m\u001b[36m\u001b[1mInfo: \u001b[22m\u001b[39mCell 3: New point not added, obj = 0.987716, min distance = 0.0, better = false\n"
          ]
        },
        {
          "name": "stdout",
          "output_type": "stream",
          "text": [
            "  New point found: f(x) = 0.933540\n"
          ]
        },
        {
          "name": "stderr",
          "output_type": "stream",
          "text": [
            "\u001b[36m\u001b[1m[ \u001b[22m\u001b[39m\u001b[36m\u001b[1mInfo: \u001b[22m\u001b[39mInterior point LP: τ = -22.0612639, Status = Interior\n"
          ]
        },
        {
          "name": "stdout",
          "output_type": "stream",
          "text": [
            "  New point found: f(x) = 0.935501\n"
          ]
        },
        {
          "name": "stderr",
          "output_type": "stream",
          "text": [
            "\u001b[36m\u001b[1m[ \u001b[22m\u001b[39m\u001b[36m\u001b[1mInfo: \u001b[22m\u001b[39mInterior point LP: τ = -55.84927764, Status = Interior\n"
          ]
        },
        {
          "name": "stdout",
          "output_type": "stream",
          "text": [
            "  New point found: f(x) = 0.935537\n"
          ]
        },
        {
          "name": "stderr",
          "output_type": "stream",
          "text": [
            "\u001b[36m\u001b[1m[ \u001b[22m\u001b[39m\u001b[36m\u001b[1mInfo: \u001b[22m\u001b[39mInterior point LP: τ = -38.19366971, Status = Interior\n"
          ]
        },
        {
          "name": "stdout",
          "output_type": "stream",
          "text": [
            "  New point found: f(x) = 0.934717\n"
          ]
        },
        {
          "name": "stderr",
          "output_type": "stream",
          "text": [
            "\u001b[36m\u001b[1m[ \u001b[22m\u001b[39m\u001b[36m\u001b[1mInfo: \u001b[22m\u001b[39mInterior point LP: τ = -106.4074382, Status = Interior\n"
          ]
        },
        {
          "name": "stdout",
          "output_type": "stream",
          "text": [
            "  New point found: f(x) = 0.934570\n"
          ]
        },
        {
          "name": "stderr",
          "output_type": "stream",
          "text": [
            "\u001b[36m\u001b[1m[ \u001b[22m\u001b[39m\u001b[36m\u001b[1mInfo: \u001b[22m\u001b[39mInterior point LP: τ = -19.12110946, Status = Interior\n"
          ]
        },
        {
          "name": "stdout",
          "output_type": "stream",
          "text": [
            "  New point found: f(x) = 0.935506\n"
          ]
        },
        {
          "name": "stderr",
          "output_type": "stream",
          "text": [
            "\u001b[36m\u001b[1m[ \u001b[22m\u001b[39m\u001b[36m\u001b[1mInfo: \u001b[22m\u001b[39mInterior point LP: τ = -19.43640866, Status = Interior\n"
          ]
        },
        {
          "name": "stdout",
          "output_type": "stream",
          "text": [
            "  New point found: f(x) = 1.008169\n",
            "  ✅ Level 5 completed in 3.1072 sec | Best objective so far: 0.933540\n"
          ]
        },
        {
          "name": "stderr",
          "output_type": "stream",
          "text": [
            "\u001b[36m\u001b[1m[ \u001b[22m\u001b[39m\u001b[36m\u001b[1mInfo: \u001b[22m\u001b[39mInterior point LP: τ = -575.42938963, Status = Interior\n"
          ]
        },
        {
          "name": "stdout",
          "output_type": "stream",
          "text": [
            "→ VDCG Level 6: 18 sites, Current best f(x) = 0.933540\n"
          ]
        },
        {
          "name": "stderr",
          "output_type": "stream",
          "text": [
            "\u001b[36m\u001b[1m[ \u001b[22m\u001b[39m\u001b[36m\u001b[1mInfo: \u001b[22m\u001b[39mInterior point LP: τ = -669.16073129, Status = Interior\n",
            "\u001b[36m\u001b[1m[ \u001b[22m\u001b[39m\u001b[36m\u001b[1mInfo: \u001b[22m\u001b[39mCell 1: New point not added, obj = 0.950277, min distance = 0.0, better = false\n"
          ]
        },
        {
          "name": "stdout",
          "output_type": "stream",
          "text": [
            "  New point found: f(x) = 0.934829\n"
          ]
        },
        {
          "name": "stderr",
          "output_type": "stream",
          "text": [
            "\u001b[36m\u001b[1m[ \u001b[22m\u001b[39m\u001b[36m\u001b[1mInfo: \u001b[22m\u001b[39mInterior point LP: τ = -254.37714752, Status = Interior\n",
            "\u001b[36m\u001b[1m[ \u001b[22m\u001b[39m\u001b[36m\u001b[1mInfo: \u001b[22m\u001b[39mInterior point LP: τ = -613.34863667, Status = Interior\n",
            "\u001b[36m\u001b[1m[ \u001b[22m\u001b[39m\u001b[36m\u001b[1mInfo: \u001b[22m\u001b[39mCell 3: New point not added, obj = 0.987716, min distance = 0.0, better = false\n"
          ]
        },
        {
          "name": "stdout",
          "output_type": "stream",
          "text": [
            "  New point found: f(x) = 0.934605\n"
          ]
        },
        {
          "name": "stderr",
          "output_type": "stream",
          "text": [
            "\u001b[36m\u001b[1m[ \u001b[22m\u001b[39m\u001b[36m\u001b[1mInfo: \u001b[22m\u001b[39mInterior point LP: τ = -17.41899665, Status = Interior\n"
          ]
        },
        {
          "name": "stdout",
          "output_type": "stream",
          "text": [
            "  New point found: f(x) = 0.937604\n"
          ]
        },
        {
          "name": "stderr",
          "output_type": "stream",
          "text": [
            "\u001b[36m\u001b[1m[ \u001b[22m\u001b[39m\u001b[36m\u001b[1mInfo: \u001b[22m\u001b[39mInterior point LP: τ = -41.76076502, Status = Interior\n"
          ]
        },
        {
          "name": "stdout",
          "output_type": "stream",
          "text": [
            "  New point found: f(x) = 0.934672\n"
          ]
        },
        {
          "name": "stderr",
          "output_type": "stream",
          "text": [
            "\u001b[36m\u001b[1m[ \u001b[22m\u001b[39m\u001b[36m\u001b[1mInfo: \u001b[22m\u001b[39mInterior point LP: τ = -29.3006755, Status = Interior\n"
          ]
        },
        {
          "name": "stdout",
          "output_type": "stream",
          "text": [
            "  New point found: f(x) = 0.934689\n"
          ]
        },
        {
          "name": "stderr",
          "output_type": "stream",
          "text": [
            "\u001b[36m\u001b[1m[ \u001b[22m\u001b[39m\u001b[36m\u001b[1mInfo: \u001b[22m\u001b[39mInterior point LP: τ = -36.05619098, Status = Interior\n"
          ]
        },
        {
          "name": "stdout",
          "output_type": "stream",
          "text": [
            "  New point found: f(x) = 0.936624\n"
          ]
        },
        {
          "name": "stderr",
          "output_type": "stream",
          "text": [
            "\u001b[36m\u001b[1m[ \u001b[22m\u001b[39m\u001b[36m\u001b[1mInfo: \u001b[22m\u001b[39mInterior point LP: τ = -16.60222594, Status = Interior\n"
          ]
        },
        {
          "name": "stdout",
          "output_type": "stream",
          "text": [
            "  New point found: f(x) = 0.934641\n"
          ]
        },
        {
          "name": "stderr",
          "output_type": "stream",
          "text": [
            "\u001b[36m\u001b[1m[ \u001b[22m\u001b[39m\u001b[36m\u001b[1mInfo: \u001b[22m\u001b[39mInterior point LP: τ = -17.66669725, Status = Interior\n",
            "\u001b[36m\u001b[1m[ \u001b[22m\u001b[39m\u001b[36m\u001b[1mInfo: \u001b[22m\u001b[39mInterior point LP: τ = -7.8784842, Status = Interior\n",
            "\u001b[36m\u001b[1m[ \u001b[22m\u001b[39m\u001b[36m\u001b[1mInfo: \u001b[22m\u001b[39mCell 10: New point not added, obj = 1.008169, min distance = 0.0, better = false\n"
          ]
        },
        {
          "name": "stdout",
          "output_type": "stream",
          "text": [
            "  New point found: f(x) = 0.934552\n"
          ]
        },
        {
          "name": "stderr",
          "output_type": "stream",
          "text": [
            "\u001b[36m\u001b[1m[ \u001b[22m\u001b[39m\u001b[36m\u001b[1mInfo: \u001b[22m\u001b[39mInterior point LP: τ = -29.03122443, Status = Interior\n"
          ]
        },
        {
          "name": "stdout",
          "output_type": "stream",
          "text": [
            "  New point found: f(x) = 0.935324\n"
          ]
        },
        {
          "name": "stderr",
          "output_type": "stream",
          "text": [
            "\u001b[36m\u001b[1m[ \u001b[22m\u001b[39m\u001b[36m\u001b[1mInfo: \u001b[22m\u001b[39mInterior point LP: τ = -25.62450184, Status = Interior\n"
          ]
        },
        {
          "name": "stdout",
          "output_type": "stream",
          "text": [
            "  New point found: f(x) = 0.931995\n"
          ]
        },
        {
          "name": "stderr",
          "output_type": "stream",
          "text": [
            "\u001b[36m\u001b[1m[ \u001b[22m\u001b[39m\u001b[36m\u001b[1mInfo: \u001b[22m\u001b[39mInterior point LP: τ = -15.17208113, Status = Interior\n"
          ]
        },
        {
          "name": "stdout",
          "output_type": "stream",
          "text": [
            "  New point found: f(x) = 0.934641\n"
          ]
        },
        {
          "name": "stderr",
          "output_type": "stream",
          "text": [
            "\u001b[36m\u001b[1m[ \u001b[22m\u001b[39m\u001b[36m\u001b[1mInfo: \u001b[22m\u001b[39mInterior point LP: τ = -36.07014681, Status = Interior\n",
            "\u001b[36m\u001b[1m[ \u001b[22m\u001b[39m\u001b[36m\u001b[1mInfo: \u001b[22m\u001b[39mInterior point LP: τ = -458.80136792, Status = Interior\n",
            "\u001b[36m\u001b[1m[ \u001b[22m\u001b[39m\u001b[36m\u001b[1mInfo: \u001b[22m\u001b[39mCell 15: New point not added, obj = 0.934717, min distance = 0.0, better = false\n"
          ]
        },
        {
          "name": "stdout",
          "output_type": "stream",
          "text": [
            "  New point found: f(x) = 0.935839\n"
          ]
        },
        {
          "name": "stderr",
          "output_type": "stream",
          "text": [
            "\u001b[36m\u001b[1m[ \u001b[22m\u001b[39m\u001b[36m\u001b[1mInfo: \u001b[22m\u001b[39mInterior point LP: τ = -127.09499523, Status = Interior\n"
          ]
        },
        {
          "name": "stdout",
          "output_type": "stream",
          "text": [
            "  New point found: f(x) = 0.936837\n"
          ]
        },
        {
          "name": "stderr",
          "output_type": "stream",
          "text": [
            "\u001b[36m\u001b[1m[ \u001b[22m\u001b[39m\u001b[36m\u001b[1mInfo: \u001b[22m\u001b[39mInterior point LP: τ = -83.06579308, Status = Interior\n"
          ]
        },
        {
          "name": "stdout",
          "output_type": "stream",
          "text": [
            "  New point found: f(x) = 0.934534\n",
            "  ✅ Level 6 completed in 6.5831 sec | Best objective so far: 0.931995\n"
          ]
        },
        {
          "name": "stderr",
          "output_type": "stream",
          "text": [
            "\u001b[36m\u001b[1m[ \u001b[22m\u001b[39m\u001b[36m\u001b[1mInfo: \u001b[22m\u001b[39mInterior point LP: τ = -7.31938694, Status = Interior\n"
          ]
        },
        {
          "name": "stdout",
          "output_type": "stream",
          "text": [
            "→ VDCG Level 7: 32 sites, Current best f(x) = 0.931995\n"
          ]
        },
        {
          "name": "stderr",
          "output_type": "stream",
          "text": [
            "\u001b[36m\u001b[1m[ \u001b[22m\u001b[39m\u001b[36m\u001b[1mInfo: \u001b[22m\u001b[39mInterior point LP: τ = -669.16073129, Status = Interior\n",
            "\u001b[36m\u001b[1m[ \u001b[22m\u001b[39m\u001b[36m\u001b[1mInfo: \u001b[22m\u001b[39mCell 1: New point not added, obj = 0.950277, min distance = 0.0, better = false\n"
          ]
        },
        {
          "name": "stdout",
          "output_type": "stream",
          "text": [
            "  New point found: f(x) = 0.935410\n"
          ]
        },
        {
          "name": "stderr",
          "output_type": "stream",
          "text": [
            "\u001b[36m\u001b[1m[ \u001b[22m\u001b[39m\u001b[36m\u001b[1mInfo: \u001b[22m\u001b[39mInterior point LP: τ = -254.10879109, Status = Interior\n",
            "\u001b[36m\u001b[1m[ \u001b[22m\u001b[39m\u001b[36m\u001b[1mInfo: \u001b[22m\u001b[39mInterior point LP: τ = -559.10385884, Status = Interior\n",
            "\u001b[36m\u001b[1m[ \u001b[22m\u001b[39m\u001b[36m\u001b[1mInfo: \u001b[22m\u001b[39mCell 3: New point not added, obj = 0.987716, min distance = 0.0, better = false\n",
            "\u001b[36m\u001b[1m[ \u001b[22m\u001b[39m\u001b[36m\u001b[1mInfo: \u001b[22m\u001b[39mInterior point LP: τ = -17.41899665, Status = Interior\n",
            "\u001b[36m\u001b[1m[ \u001b[22m\u001b[39m\u001b[36m\u001b[1mInfo: \u001b[22m\u001b[39mCell 4: New point not added, obj = 0.934605, min distance = 0.0, better = false\n"
          ]
        },
        {
          "name": "stdout",
          "output_type": "stream",
          "text": [
            "  New point found: f(x) = 0.946692\n"
          ]
        },
        {
          "name": "stderr",
          "output_type": "stream",
          "text": [
            "\u001b[36m\u001b[1m[ \u001b[22m\u001b[39m\u001b[36m\u001b[1mInfo: \u001b[22m\u001b[39mInterior point LP: τ = -31.23931672, Status = Interior\n"
          ]
        },
        {
          "name": "stdout",
          "output_type": "stream",
          "text": [
            "  New point found: f(x) = 0.934367\n"
          ]
        },
        {
          "name": "stderr",
          "output_type": "stream",
          "text": [
            "\u001b[36m\u001b[1m[ \u001b[22m\u001b[39m\u001b[36m\u001b[1mInfo: \u001b[22m\u001b[39mInterior point LP: τ = -15.27486941, Status = Interior\n"
          ]
        },
        {
          "name": "stdout",
          "output_type": "stream",
          "text": [
            "  New point found: f(x) = 0.937660\n"
          ]
        },
        {
          "name": "stderr",
          "output_type": "stream",
          "text": [
            "\u001b[36m\u001b[1m[ \u001b[22m\u001b[39m\u001b[36m\u001b[1mInfo: \u001b[22m\u001b[39mInterior point LP: τ = -28.59493611, Status = Interior\n"
          ]
        },
        {
          "name": "stdout",
          "output_type": "stream",
          "text": [
            "  New point found: f(x) = 0.935665\n"
          ]
        },
        {
          "name": "stderr",
          "output_type": "stream",
          "text": [
            "\u001b[36m\u001b[1m[ \u001b[22m\u001b[39m\u001b[36m\u001b[1mInfo: \u001b[22m\u001b[39mInterior point LP: τ = -9.69981274, Status = Interior\n"
          ]
        },
        {
          "name": "stdout",
          "output_type": "stream",
          "text": [
            "  New point found: f(x) = 0.936015\n"
          ]
        },
        {
          "name": "stderr",
          "output_type": "stream",
          "text": [
            "\u001b[36m\u001b[1m[ \u001b[22m\u001b[39m\u001b[36m\u001b[1mInfo: \u001b[22m\u001b[39mInterior point LP: τ = -14.06320402, Status = Interior\n",
            "\u001b[36m\u001b[1m[ \u001b[22m\u001b[39m\u001b[36m\u001b[1mInfo: \u001b[22m\u001b[39mInterior point LP: τ = -7.8784842, Status = Interior\n",
            "\u001b[36m\u001b[1m[ \u001b[22m\u001b[39m\u001b[36m\u001b[1mInfo: \u001b[22m\u001b[39mCell 10: New point not added, obj = 1.008169, min distance = 0.0, better = false\n"
          ]
        },
        {
          "name": "stdout",
          "output_type": "stream",
          "text": [
            "  New point found: f(x) = 0.930894\n"
          ]
        },
        {
          "name": "stderr",
          "output_type": "stream",
          "text": [
            "\u001b[36m\u001b[1m[ \u001b[22m\u001b[39m\u001b[36m\u001b[1mInfo: \u001b[22m\u001b[39mInterior point LP: τ = -18.88273892, Status = Interior\n"
          ]
        },
        {
          "name": "stdout",
          "output_type": "stream",
          "text": [
            "  New point found: f(x) = 0.932605\n"
          ]
        },
        {
          "name": "stderr",
          "output_type": "stream",
          "text": [
            "\u001b[36m\u001b[1m[ \u001b[22m\u001b[39m\u001b[36m\u001b[1mInfo: \u001b[22m\u001b[39mInterior point LP: τ = -17.24270967, Status = Interior\n"
          ]
        },
        {
          "name": "stdout",
          "output_type": "stream",
          "text": [
            "  New point found: f(x) = 0.933674\n"
          ]
        },
        {
          "name": "stderr",
          "output_type": "stream",
          "text": [
            "\u001b[36m\u001b[1m[ \u001b[22m\u001b[39m\u001b[36m\u001b[1mInfo: \u001b[22m\u001b[39mInterior point LP: τ = -10.6732206, Status = Interior\n"
          ]
        },
        {
          "name": "stdout",
          "output_type": "stream",
          "text": [
            "  New point found: f(x) = 0.933974\n"
          ]
        },
        {
          "name": "stderr",
          "output_type": "stream",
          "text": [
            "\u001b[36m\u001b[1m[ \u001b[22m\u001b[39m\u001b[36m\u001b[1mInfo: \u001b[22m\u001b[39mInterior point LP: τ = -19.21544517, Status = Interior\n",
            "\u001b[36m\u001b[1m[ \u001b[22m\u001b[39m\u001b[36m\u001b[1mInfo: \u001b[22m\u001b[39mInterior point LP: τ = -458.80136792, Status = Interior\n",
            "\u001b[36m\u001b[1m[ \u001b[22m\u001b[39m\u001b[36m\u001b[1mInfo: \u001b[22m\u001b[39mCell 15: New point not added, obj = 0.934717, min distance = 0.0, better = false\n"
          ]
        },
        {
          "name": "stdout",
          "output_type": "stream",
          "text": [
            "  New point found: f(x) = 0.935458\n"
          ]
        },
        {
          "name": "stderr",
          "output_type": "stream",
          "text": [
            "\u001b[36m\u001b[1m[ \u001b[22m\u001b[39m\u001b[36m\u001b[1mInfo: \u001b[22m\u001b[39mInterior point LP: τ = -104.00541701, Status = Interior\n"
          ]
        },
        {
          "name": "stdout",
          "output_type": "stream",
          "text": [
            "  New point found: f(x) = 0.935181\n"
          ]
        },
        {
          "name": "stderr",
          "output_type": "stream",
          "text": [
            "\u001b[36m\u001b[1m[ \u001b[22m\u001b[39m\u001b[36m\u001b[1mInfo: \u001b[22m\u001b[39mInterior point LP: τ = -49.32955747, Status = Interior\n"
          ]
        },
        {
          "name": "stdout",
          "output_type": "stream",
          "text": [
            "  New point found: f(x) = 0.934384\n"
          ]
        },
        {
          "name": "stderr",
          "output_type": "stream",
          "text": [
            "\u001b[36m\u001b[1m[ \u001b[22m\u001b[39m\u001b[36m\u001b[1mInfo: \u001b[22m\u001b[39mInterior point LP: τ = -6.784508, Status = Interior\n"
          ]
        },
        {
          "name": "stdout",
          "output_type": "stream",
          "text": [
            "  New point found: f(x) = 0.935038\n"
          ]
        },
        {
          "name": "stderr",
          "output_type": "stream",
          "text": [
            "\u001b[36m\u001b[1m[ \u001b[22m\u001b[39m\u001b[36m\u001b[1mInfo: \u001b[22m\u001b[39mInterior point LP: τ = -37.07767537, Status = Interior\n"
          ]
        },
        {
          "name": "stdout",
          "output_type": "stream",
          "text": [
            "  New point found: f(x) = 0.933149\n"
          ]
        },
        {
          "name": "stderr",
          "output_type": "stream",
          "text": [
            "\u001b[36m\u001b[1m[ \u001b[22m\u001b[39m\u001b[36m\u001b[1mInfo: \u001b[22m\u001b[39mInterior point LP: τ = -9.94091039, Status = Interior\n"
          ]
        },
        {
          "name": "stdout",
          "output_type": "stream",
          "text": [
            "  New point found: f(x) = 0.935021\n"
          ]
        },
        {
          "name": "stderr",
          "output_type": "stream",
          "text": [
            "\u001b[36m\u001b[1m[ \u001b[22m\u001b[39m\u001b[36m\u001b[1mInfo: \u001b[22m\u001b[39mInterior point LP: τ = -10.68711581, Status = Interior\n"
          ]
        },
        {
          "name": "stdout",
          "output_type": "stream",
          "text": [
            "  New point found: f(x) = 0.935056\n"
          ]
        },
        {
          "name": "stderr",
          "output_type": "stream",
          "text": [
            "\u001b[36m\u001b[1m[ \u001b[22m\u001b[39m\u001b[36m\u001b[1mInfo: \u001b[22m\u001b[39mInterior point LP: τ = -31.6494036, Status = Interior\n"
          ]
        },
        {
          "name": "stdout",
          "output_type": "stream",
          "text": [
            "  New point found: f(x) = 0.935676\n"
          ]
        },
        {
          "name": "stderr",
          "output_type": "stream",
          "text": [
            "\u001b[36m\u001b[1m[ \u001b[22m\u001b[39m\u001b[36m\u001b[1mInfo: \u001b[22m\u001b[39mInterior point LP: τ = -17.55553307, Status = Interior\n"
          ]
        },
        {
          "name": "stdout",
          "output_type": "stream",
          "text": [
            "  New point found: f(x) = 0.933767\n"
          ]
        },
        {
          "name": "stderr",
          "output_type": "stream",
          "text": [
            "\u001b[36m\u001b[1m[ \u001b[22m\u001b[39m\u001b[36m\u001b[1mInfo: \u001b[22m\u001b[39mInterior point LP: τ = -29.45086779, Status = Interior\n"
          ]
        },
        {
          "name": "stdout",
          "output_type": "stream",
          "text": [
            "  New point found: f(x) = 0.985209\n"
          ]
        },
        {
          "name": "stderr",
          "output_type": "stream",
          "text": [
            "\u001b[36m\u001b[1m[ \u001b[22m\u001b[39m\u001b[36m\u001b[1mInfo: \u001b[22m\u001b[39mInterior point LP: τ = -20.73602877, Status = Interior\n"
          ]
        },
        {
          "name": "stdout",
          "output_type": "stream",
          "text": [
            "  New point found: f(x) = 0.935212\n"
          ]
        },
        {
          "name": "stderr",
          "output_type": "stream",
          "text": [
            "\u001b[36m\u001b[1m[ \u001b[22m\u001b[39m\u001b[36m\u001b[1mInfo: \u001b[22m\u001b[39mInterior point LP: τ = -26.61042025, Status = Interior\n",
            "\u001b[36m\u001b[1m[ \u001b[22m\u001b[39m\u001b[36m\u001b[1mInfo: \u001b[22m\u001b[39mInterior point LP: τ = -568.71597652, Status = Interior\n",
            "\u001b[36m\u001b[1m[ \u001b[22m\u001b[39m\u001b[36m\u001b[1mInfo: \u001b[22m\u001b[39mCell 27: New point not added, obj = 0.935324, min distance = 0.0, better = false\n"
          ]
        },
        {
          "name": "stdout",
          "output_type": "stream",
          "text": [
            "  New point found: f(x) = 0.942521\n"
          ]
        },
        {
          "name": "stderr",
          "output_type": "stream",
          "text": [
            "\u001b[36m\u001b[1m[ \u001b[22m\u001b[39m\u001b[36m\u001b[1mInfo: \u001b[22m\u001b[39mInterior point LP: τ = -72.93645603, Status = Interior\n"
          ]
        },
        {
          "name": "stdout",
          "output_type": "stream",
          "text": [
            "  New point found: f(x) = 0.934473\n"
          ]
        },
        {
          "name": "stderr",
          "output_type": "stream",
          "text": [
            "\u001b[36m\u001b[1m[ \u001b[22m\u001b[39m\u001b[36m\u001b[1mInfo: \u001b[22m\u001b[39mInterior point LP: τ = -71.00924358, Status = Interior\n"
          ]
        },
        {
          "name": "stdout",
          "output_type": "stream",
          "text": [
            "  New point found: f(x) = 0.935845\n"
          ]
        },
        {
          "name": "stderr",
          "output_type": "stream",
          "text": [
            "\u001b[36m\u001b[1m[ \u001b[22m\u001b[39m\u001b[36m\u001b[1mInfo: \u001b[22m\u001b[39mInterior point LP: τ = -15.03600973, Status = Interior\n"
          ]
        },
        {
          "name": "stdout",
          "output_type": "stream",
          "text": [
            "  New point found: f(x) = 0.937968\n"
          ]
        },
        {
          "name": "stderr",
          "output_type": "stream",
          "text": [
            "\u001b[36m\u001b[1m[ \u001b[22m\u001b[39m\u001b[36m\u001b[1mInfo: \u001b[22m\u001b[39mInterior point LP: τ = -281.45148207, Status = Interior\n"
          ]
        },
        {
          "name": "stdout",
          "output_type": "stream",
          "text": [
            "  New point found: f(x) = 0.932885\n",
            "  ✅ Level 7 completed in 10.9724 sec | Best objective so far: 0.930894\n"
          ]
        },
        {
          "name": "stderr",
          "output_type": "stream",
          "text": [
            "\u001b[36m\u001b[1m[ \u001b[22m\u001b[39m\u001b[36m\u001b[1mInfo: \u001b[22m\u001b[39mInterior point LP: τ = -51.48933848, Status = Interior\n"
          ]
        },
        {
          "name": "stdout",
          "output_type": "stream",
          "text": [
            "→ VDCG Level 8: 58 sites, Current best f(x) = 0.930894\n"
          ]
        },
        {
          "name": "stderr",
          "output_type": "stream",
          "text": [
            "\u001b[36m\u001b[1m[ \u001b[22m\u001b[39m\u001b[36m\u001b[1mInfo: \u001b[22m\u001b[39mInterior point LP: τ = -669.16073129, Status = Interior\n",
            "\u001b[36m\u001b[1m[ \u001b[22m\u001b[39m\u001b[36m\u001b[1mInfo: \u001b[22m\u001b[39mCell 1: New point not added, obj = 0.950277, min distance = 0.0, better = false\n"
          ]
        },
        {
          "name": "stdout",
          "output_type": "stream",
          "text": [
            "  New point found: f(x) = 0.935908\n"
          ]
        },
        {
          "name": "stderr",
          "output_type": "stream",
          "text": [
            "\u001b[36m\u001b[1m[ \u001b[22m\u001b[39m\u001b[36m\u001b[1mInfo: \u001b[22m\u001b[39mInterior point LP: τ = -249.6660439, Status = Interior\n",
            "\u001b[36m\u001b[1m[ \u001b[22m\u001b[39m\u001b[36m\u001b[1mInfo: \u001b[22m\u001b[39mInterior point LP: τ = -559.10385884, Status = Interior\n",
            "\u001b[36m\u001b[1m[ \u001b[22m\u001b[39m\u001b[36m\u001b[1mInfo: \u001b[22m\u001b[39mCell 3: New point not added, obj = 0.987716, min distance = 0.0, better = false\n"
          ]
        },
        {
          "name": "stdout",
          "output_type": "stream",
          "text": [
            "  New point found: f(x) = 0.931561\n"
          ]
        },
        {
          "name": "stderr",
          "output_type": "stream",
          "text": [
            "\u001b[36m\u001b[1m[ \u001b[22m\u001b[39m\u001b[36m\u001b[1mInfo: \u001b[22m\u001b[39mInterior point LP: τ = -15.15250195, Status = Interior\n"
          ]
        },
        {
          "name": "stdout",
          "output_type": "stream",
          "text": [
            "  New point found: f(x) = 0.935948\n"
          ]
        },
        {
          "name": "stderr",
          "output_type": "stream",
          "text": [
            "\u001b[36m\u001b[1m[ \u001b[22m\u001b[39m\u001b[36m\u001b[1mInfo: \u001b[22m\u001b[39mInterior point LP: τ = -25.83567265, Status = Interior\n",
            "\u001b[36m\u001b[1m[ \u001b[22m\u001b[39m\u001b[36m\u001b[1mInfo: \u001b[22m\u001b[39mInterior point LP: τ = -15.27486941, Status = Interior\n",
            "\u001b[36m\u001b[1m[ \u001b[22m\u001b[39m\u001b[36m\u001b[1mInfo: \u001b[22m\u001b[39mCell 6: New point not added, obj = 0.934367, min distance = 0.0, better = false\n"
          ]
        },
        {
          "name": "stdout",
          "output_type": "stream",
          "text": [
            "  New point found: f(x) = 0.934647\n"
          ]
        },
        {
          "name": "stderr",
          "output_type": "stream",
          "text": [
            "\u001b[36m\u001b[1m[ \u001b[22m\u001b[39m\u001b[36m\u001b[1mInfo: \u001b[22m\u001b[39mInterior point LP: τ = -26.85824035, Status = Interior\n"
          ]
        },
        {
          "name": "stdout",
          "output_type": "stream",
          "text": [
            "  New point found: f(x) = 0.935382\n"
          ]
        },
        {
          "name": "stderr",
          "output_type": "stream",
          "text": [
            "\u001b[36m\u001b[1m[ \u001b[22m\u001b[39m\u001b[36m\u001b[1mInfo: \u001b[22m\u001b[39mInterior point LP: τ = -7.77552091, Status = Interior\n"
          ]
        },
        {
          "name": "stdout",
          "output_type": "stream",
          "text": [
            "  New point found: f(x) = 0.936172\n"
          ]
        },
        {
          "name": "stderr",
          "output_type": "stream",
          "text": [
            "\u001b[36m\u001b[1m[ \u001b[22m\u001b[39m\u001b[36m\u001b[1mInfo: \u001b[22m\u001b[39mInterior point LP: τ = -14.04228042, Status = Interior\n",
            "\u001b[36m\u001b[1m[ \u001b[22m\u001b[39m\u001b[36m\u001b[1mInfo: \u001b[22m\u001b[39mInterior point LP: τ = -7.8784842, Status = Interior\n",
            "\u001b[36m\u001b[1m[ \u001b[22m\u001b[39m\u001b[36m\u001b[1mInfo: \u001b[22m\u001b[39mCell 10: New point not added, obj = 1.008169, min distance = 0.0, better = false\n"
          ]
        },
        {
          "name": "stdout",
          "output_type": "stream",
          "text": [
            "  New point found: f(x) = 0.933582\n"
          ]
        },
        {
          "name": "stderr",
          "output_type": "stream",
          "text": [
            "\u001b[36m\u001b[1m[ \u001b[22m\u001b[39m\u001b[36m\u001b[1mInfo: \u001b[22m\u001b[39mInterior point LP: τ = -14.2703036, Status = Interior\n"
          ]
        },
        {
          "name": "stdout",
          "output_type": "stream",
          "text": [
            "  New point found: f(x) = 0.934564\n"
          ]
        },
        {
          "name": "stderr",
          "output_type": "stream",
          "text": [
            "\u001b[36m\u001b[1m[ \u001b[22m\u001b[39m\u001b[36m\u001b[1mInfo: \u001b[22m\u001b[39mInterior point LP: τ = -11.22946328, Status = Interior\n"
          ]
        },
        {
          "name": "stdout",
          "output_type": "stream",
          "text": [
            "  New point found: f(x) = 0.934327\n"
          ]
        },
        {
          "name": "stderr",
          "output_type": "stream",
          "text": [
            "\u001b[36m\u001b[1m[ \u001b[22m\u001b[39m\u001b[36m\u001b[1mInfo: \u001b[22m\u001b[39mInterior point LP: τ = -7.19343507, Status = Interior\n"
          ]
        },
        {
          "name": "stdout",
          "output_type": "stream",
          "text": [
            "  New point found: f(x) = 0.935768\n"
          ]
        },
        {
          "name": "stderr",
          "output_type": "stream",
          "text": [
            "\u001b[36m\u001b[1m[ \u001b[22m\u001b[39m\u001b[36m\u001b[1mInfo: \u001b[22m\u001b[39mInterior point LP: τ = -14.348216, Status = Interior\n",
            "\u001b[36m\u001b[1m[ \u001b[22m\u001b[39m\u001b[36m\u001b[1mInfo: \u001b[22m\u001b[39mInterior point LP: τ = -458.80136792, Status = Interior\n",
            "\u001b[36m\u001b[1m[ \u001b[22m\u001b[39m\u001b[36m\u001b[1mInfo: \u001b[22m\u001b[39mCell 15: New point not added, obj = 0.934717, min distance = 0.0, better = false\n",
            "\u001b[36m\u001b[1m[ \u001b[22m\u001b[39m\u001b[36m\u001b[1mInfo: \u001b[22m\u001b[39mInterior point LP: τ = -81.80143118, Status = Interior\n",
            "\u001b[36m\u001b[1m[ \u001b[22m\u001b[39m\u001b[36m\u001b[1mInfo: \u001b[22m\u001b[39mCell 16: New point not added, obj = 0.935839, min distance = 0.0, better = false\n"
          ]
        },
        {
          "name": "stdout",
          "output_type": "stream",
          "text": [
            "  New point found: f(x) = 0.933761\n"
          ]
        },
        {
          "name": "stderr",
          "output_type": "stream",
          "text": [
            "\u001b[36m\u001b[1m[ \u001b[22m\u001b[39m\u001b[36m\u001b[1mInfo: \u001b[22m\u001b[39mInterior point LP: τ = -18.45974612, Status = Interior\n"
          ]
        },
        {
          "name": "stdout",
          "output_type": "stream",
          "text": [
            "  New point found: f(x) = 0.935506\n"
          ]
        },
        {
          "name": "stderr",
          "output_type": "stream",
          "text": [
            "\u001b[36m\u001b[1m[ \u001b[22m\u001b[39m\u001b[36m\u001b[1mInfo: \u001b[22m\u001b[39mInterior point LP: τ = -6.77053568, Status = Interior\n"
          ]
        },
        {
          "name": "stdout",
          "output_type": "stream",
          "text": [
            "  New point found: f(x) = 0.932875\n"
          ]
        },
        {
          "name": "stderr",
          "output_type": "stream",
          "text": [
            "\u001b[36m\u001b[1m[ \u001b[22m\u001b[39m\u001b[36m\u001b[1mInfo: \u001b[22m\u001b[39mInterior point LP: τ = -18.66090869, Status = Interior\n"
          ]
        },
        {
          "name": "stdout",
          "output_type": "stream",
          "text": [
            "  New point found: f(x) = 0.934570\n"
          ]
        },
        {
          "name": "stderr",
          "output_type": "stream",
          "text": [
            "\u001b[36m\u001b[1m[ \u001b[22m\u001b[39m\u001b[36m\u001b[1mInfo: \u001b[22m\u001b[39mInterior point LP: τ = -7.00946774, Status = Interior\n",
            "\u001b[36m\u001b[1m[ \u001b[22m\u001b[39m\u001b[36m\u001b[1mInfo: \u001b[22m\u001b[39mInterior point LP: τ = -10.68711581, Status = Interior\n",
            "\u001b[36m\u001b[1m[ \u001b[22m\u001b[39m\u001b[36m\u001b[1mInfo: \u001b[22m\u001b[39mCell 21: New point not added, obj = 0.935021, min distance = 0.0, better = false\n"
          ]
        },
        {
          "name": "stdout",
          "output_type": "stream",
          "text": [
            "  New point found: f(x) = 0.935706\n"
          ]
        },
        {
          "name": "stderr",
          "output_type": "stream",
          "text": [
            "\u001b[36m\u001b[1m[ \u001b[22m\u001b[39m\u001b[36m\u001b[1mInfo: \u001b[22m\u001b[39mInterior point LP: τ = -15.72221414, Status = Interior\n"
          ]
        },
        {
          "name": "stdout",
          "output_type": "stream",
          "text": [
            "  New point found: f(x) = 0.935297\n"
          ]
        },
        {
          "name": "stderr",
          "output_type": "stream",
          "text": [
            "\u001b[36m\u001b[1m[ \u001b[22m\u001b[39m\u001b[36m\u001b[1mInfo: \u001b[22m\u001b[39mInterior point LP: τ = -14.09341425, Status = Interior\n"
          ]
        },
        {
          "name": "stdout",
          "output_type": "stream",
          "text": [
            "  New point found: f(x) = 0.935972\n"
          ]
        },
        {
          "name": "stderr",
          "output_type": "stream",
          "text": [
            "\u001b[36m\u001b[1m[ \u001b[22m\u001b[39m\u001b[36m\u001b[1mInfo: \u001b[22m\u001b[39mInterior point LP: τ = -20.38850488, Status = Interior\n"
          ]
        },
        {
          "name": "stdout",
          "output_type": "stream",
          "text": [
            "  New point found: f(x) = 0.934542\n"
          ]
        },
        {
          "name": "stderr",
          "output_type": "stream",
          "text": [
            "\u001b[36m\u001b[1m[ \u001b[22m\u001b[39m\u001b[36m\u001b[1mInfo: \u001b[22m\u001b[39mInterior point LP: τ = -16.61031393, Status = Interior\n"
          ]
        },
        {
          "name": "stdout",
          "output_type": "stream",
          "text": [
            "  New point found: f(x) = 0.933128\n"
          ]
        },
        {
          "name": "stderr",
          "output_type": "stream",
          "text": [
            "\u001b[36m\u001b[1m[ \u001b[22m\u001b[39m\u001b[36m\u001b[1mInfo: \u001b[22m\u001b[39mInterior point LP: τ = -7.82837894, Status = Interior\n",
            "\u001b[36m\u001b[1m[ \u001b[22m\u001b[39m\u001b[36m\u001b[1mInfo: \u001b[22m\u001b[39mInterior point LP: τ = -564.52476821, Status = Interior\n",
            "\u001b[36m\u001b[1m[ \u001b[22m\u001b[39m\u001b[36m\u001b[1mInfo: \u001b[22m\u001b[39mCell 27: New point not added, obj = 0.935324, min distance = 0.0, better = false\n"
          ]
        },
        {
          "name": "stdout",
          "output_type": "stream",
          "text": [
            "  New point found: f(x) = 0.934756\n"
          ]
        },
        {
          "name": "stderr",
          "output_type": "stream",
          "text": [
            "\u001b[36m\u001b[1m[ \u001b[22m\u001b[39m\u001b[36m\u001b[1mInfo: \u001b[22m\u001b[39mInterior point LP: τ = -30.88431603, Status = Interior\n"
          ]
        },
        {
          "name": "stdout",
          "output_type": "stream",
          "text": [
            "  New point found: f(x) = 0.935735\n"
          ]
        },
        {
          "name": "stderr",
          "output_type": "stream",
          "text": [
            "\u001b[36m\u001b[1m[ \u001b[22m\u001b[39m\u001b[36m\u001b[1mInfo: \u001b[22m\u001b[39mInterior point LP: τ = -53.02462626, Status = Interior\n"
          ]
        },
        {
          "name": "stdout",
          "output_type": "stream",
          "text": [
            "  New point found: f(x) = 0.937498\n"
          ]
        },
        {
          "name": "stderr",
          "output_type": "stream",
          "text": [
            "\u001b[36m\u001b[1m[ \u001b[22m\u001b[39m\u001b[36m\u001b[1mInfo: \u001b[22m\u001b[39mInterior point LP: τ = -8.82243578, Status = Interior\n"
          ]
        },
        {
          "name": "stdout",
          "output_type": "stream",
          "text": [
            "  New point found: f(x) = 0.934938\n"
          ]
        },
        {
          "name": "stderr",
          "output_type": "stream",
          "text": [
            "\u001b[36m\u001b[1m[ \u001b[22m\u001b[39m\u001b[36m\u001b[1mInfo: \u001b[22m\u001b[39mInterior point LP: τ = -74.91589635, Status = Interior\n"
          ]
        },
        {
          "name": "stdout",
          "output_type": "stream",
          "text": [
            "  New point found: f(x) = 0.934701\n"
          ]
        },
        {
          "name": "stderr",
          "output_type": "stream",
          "text": [
            "\u001b[36m\u001b[1m[ \u001b[22m\u001b[39m\u001b[36m\u001b[1mInfo: \u001b[22m\u001b[39mInterior point LP: τ = -42.77717026, Status = Interior\n"
          ]
        },
        {
          "name": "stdout",
          "output_type": "stream",
          "text": [
            "  New point found: f(x) = 0.933661\n"
          ]
        },
        {
          "name": "stderr",
          "output_type": "stream",
          "text": [
            "\u001b[36m\u001b[1m[ \u001b[22m\u001b[39m\u001b[36m\u001b[1mInfo: \u001b[22m\u001b[39mInterior point LP: τ = -13.21766195, Status = Interior\n"
          ]
        },
        {
          "name": "stdout",
          "output_type": "stream",
          "text": [
            "  New point found: f(x) = 0.947501\n"
          ]
        },
        {
          "name": "stderr",
          "output_type": "stream",
          "text": [
            "\u001b[36m\u001b[1m[ \u001b[22m\u001b[39m\u001b[36m\u001b[1mInfo: \u001b[22m\u001b[39mInterior point LP: τ = -332.34662019, Status = Interior\n"
          ]
        },
        {
          "name": "stdout",
          "output_type": "stream",
          "text": [
            "  New point found: f(x) = 0.931656\n"
          ]
        },
        {
          "name": "stderr",
          "output_type": "stream",
          "text": [
            "\u001b[36m\u001b[1m[ \u001b[22m\u001b[39m\u001b[36m\u001b[1mInfo: \u001b[22m\u001b[39mInterior point LP: τ = -15.54940059, Status = Interior\n"
          ]
        },
        {
          "name": "stdout",
          "output_type": "stream",
          "text": [
            "  New point found: f(x) = 0.939417\n"
          ]
        },
        {
          "name": "stderr",
          "output_type": "stream",
          "text": [
            "\u001b[36m\u001b[1m[ \u001b[22m\u001b[39m\u001b[36m\u001b[1mInfo: \u001b[22m\u001b[39mInterior point LP: τ = -229.47690783, Status = Interior\n"
          ]
        },
        {
          "name": "stdout",
          "output_type": "stream",
          "text": [
            "  New point found: f(x) = 0.936066\n"
          ]
        },
        {
          "name": "stderr",
          "output_type": "stream",
          "text": [
            "\u001b[36m\u001b[1m[ \u001b[22m\u001b[39m\u001b[36m\u001b[1mInfo: \u001b[22m\u001b[39mInterior point LP: τ = -12.98310033, Status = Interior\n"
          ]
        },
        {
          "name": "stdout",
          "output_type": "stream",
          "text": [
            "  New point found: f(x) = 0.934808\n"
          ]
        },
        {
          "name": "stderr",
          "output_type": "stream",
          "text": [
            "\u001b[36m\u001b[1m[ \u001b[22m\u001b[39m\u001b[36m\u001b[1mInfo: \u001b[22m\u001b[39mInterior point LP: τ = -29.56418253, Status = Interior\n"
          ]
        },
        {
          "name": "stdout",
          "output_type": "stream",
          "text": [
            "  New point found: f(x) = 0.930190\n"
          ]
        },
        {
          "name": "stderr",
          "output_type": "stream",
          "text": [
            "\u001b[36m\u001b[1m[ \u001b[22m\u001b[39m\u001b[36m\u001b[1mInfo: \u001b[22m\u001b[39mInterior point LP: τ = -36.11211677, Status = Interior\n"
          ]
        },
        {
          "name": "stdout",
          "output_type": "stream",
          "text": [
            "  New point found: f(x) = 0.933966\n"
          ]
        },
        {
          "name": "stderr",
          "output_type": "stream",
          "text": [
            "\u001b[36m\u001b[1m[ \u001b[22m\u001b[39m\u001b[36m\u001b[1mInfo: \u001b[22m\u001b[39mInterior point LP: τ = -67.49087689, Status = Interior\n"
          ]
        },
        {
          "name": "stdout",
          "output_type": "stream",
          "text": [
            "  New point found: f(x) = 0.933919\n"
          ]
        },
        {
          "name": "stderr",
          "output_type": "stream",
          "text": [
            "\u001b[36m\u001b[1m[ \u001b[22m\u001b[39m\u001b[36m\u001b[1mInfo: \u001b[22m\u001b[39mInterior point LP: τ = -19.02218895, Status = Interior\n"
          ]
        },
        {
          "name": "stdout",
          "output_type": "stream",
          "text": [
            "  New point found: f(x) = 0.938074\n"
          ]
        },
        {
          "name": "stderr",
          "output_type": "stream",
          "text": [
            "\u001b[36m\u001b[1m[ \u001b[22m\u001b[39m\u001b[36m\u001b[1mInfo: \u001b[22m\u001b[39mInterior point LP: τ = -35.59640869, Status = Interior\n"
          ]
        },
        {
          "name": "stdout",
          "output_type": "stream",
          "text": [
            "  New point found: f(x) = 0.936446\n"
          ]
        },
        {
          "name": "stderr",
          "output_type": "stream",
          "text": [
            "\u001b[36m\u001b[1m[ \u001b[22m\u001b[39m\u001b[36m\u001b[1mInfo: \u001b[22m\u001b[39mInterior point LP: τ = -14.8206212, Status = Interior\n"
          ]
        },
        {
          "name": "stdout",
          "output_type": "stream",
          "text": [
            "  New point found: f(x) = 1.047975\n",
            "  New point found: f(x) = 0.935227\n"
          ]
        },
        {
          "name": "stderr",
          "output_type": "stream",
          "text": [
            "\u001b[36m\u001b[1m[ \u001b[22m\u001b[39m\u001b[36m\u001b[1mInfo: \u001b[22m\u001b[39mInterior point LP: τ = -86.10940834, Status = Interior\n",
            "\u001b[36m\u001b[1m[ \u001b[22m\u001b[39m\u001b[36m\u001b[1mInfo: \u001b[22m\u001b[39mInterior point LP: τ = -279.07986216, Status = Interior\n",
            "\u001b[36m\u001b[1m[ \u001b[22m\u001b[39m\u001b[36m\u001b[1mInfo: \u001b[22m\u001b[39mInterior point LP: τ = -587.38823462, Status = Interior\n",
            "\u001b[36m\u001b[1m[ \u001b[22m\u001b[39m\u001b[36m\u001b[1mInfo: \u001b[22m\u001b[39mCell 46: New point not added, obj = 0.935038, min distance = 0.0, better = false\n"
          ]
        },
        {
          "name": "stdout",
          "output_type": "stream",
          "text": [
            "  New point found: f(x) = 0.939379\n"
          ]
        },
        {
          "name": "stderr",
          "output_type": "stream",
          "text": [
            "\u001b[36m\u001b[1m[ \u001b[22m\u001b[39m\u001b[36m\u001b[1mInfo: \u001b[22m\u001b[39mInterior point LP: τ = -65.27571431, Status = Interior\n"
          ]
        },
        {
          "name": "stdout",
          "output_type": "stream",
          "text": [
            "  New point found: f(x) = 0.935275\n"
          ]
        },
        {
          "name": "stderr",
          "output_type": "stream",
          "text": [
            "\u001b[36m\u001b[1m[ \u001b[22m\u001b[39m\u001b[36m\u001b[1mInfo: \u001b[22m\u001b[39mInterior point LP: τ = -13.99535712, Status = Interior\n"
          ]
        },
        {
          "name": "stdout",
          "output_type": "stream",
          "text": [
            "  New point found: f(x) = 0.934522\n"
          ]
        },
        {
          "name": "stderr",
          "output_type": "stream",
          "text": [
            "\u001b[36m\u001b[1m[ \u001b[22m\u001b[39m\u001b[36m\u001b[1mInfo: \u001b[22m\u001b[39mInterior point LP: τ = -6.38529714, Status = Interior\n"
          ]
        },
        {
          "name": "stdout",
          "output_type": "stream",
          "text": [
            "  New point found: f(x) = 0.935103\n"
          ]
        },
        {
          "name": "stderr",
          "output_type": "stream",
          "text": [
            "\u001b[36m\u001b[1m[ \u001b[22m\u001b[39m\u001b[36m\u001b[1mInfo: \u001b[22m\u001b[39mInterior point LP: τ = -35.28063767, Status = Interior\n"
          ]
        },
        {
          "name": "stdout",
          "output_type": "stream",
          "text": [
            "  New point found: f(x) = 0.932743\n"
          ]
        },
        {
          "name": "stderr",
          "output_type": "stream",
          "text": [
            "\u001b[36m\u001b[1m[ \u001b[22m\u001b[39m\u001b[36m\u001b[1mInfo: \u001b[22m\u001b[39mInterior point LP: τ = -49.98804334, Status = Interior\n"
          ]
        },
        {
          "name": "stdout",
          "output_type": "stream",
          "text": [
            "  New point found: f(x) = 0.984781\n"
          ]
        },
        {
          "name": "stderr",
          "output_type": "stream",
          "text": [
            "\u001b[36m\u001b[1m[ \u001b[22m\u001b[39m\u001b[36m\u001b[1mInfo: \u001b[22m\u001b[39mInterior point LP: τ = -437.86394584, Status = Interior\n"
          ]
        },
        {
          "name": "stdout",
          "output_type": "stream",
          "text": [
            "  New point found: f(x) = 0.939172\n"
          ]
        },
        {
          "name": "stderr",
          "output_type": "stream",
          "text": [
            "\u001b[36m\u001b[1m[ \u001b[22m\u001b[39m\u001b[36m\u001b[1mInfo: \u001b[22m\u001b[39mInterior point LP: τ = -62.99319037, Status = Interior\n"
          ]
        },
        {
          "name": "stdout",
          "output_type": "stream",
          "text": [
            "  New point found: f(x) = 0.943453\n"
          ]
        },
        {
          "name": "stderr",
          "output_type": "stream",
          "text": [
            "\u001b[36m\u001b[1m[ \u001b[22m\u001b[39m\u001b[36m\u001b[1mInfo: \u001b[22m\u001b[39mInterior point LP: τ = -314.93574497, Status = Interior\n",
            "\u001b[36m\u001b[1m[ \u001b[22m\u001b[39m\u001b[36m\u001b[1mInfo: \u001b[22m\u001b[39mInterior point LP: τ = -493.5395787, Status = Interior\n",
            "\u001b[36m\u001b[1m[ \u001b[22m\u001b[39m\u001b[36m\u001b[1mInfo: \u001b[22m\u001b[39mCell 55: New point not added, obj = 0.934473, min distance = 0.0, better = false\n"
          ]
        },
        {
          "name": "stdout",
          "output_type": "stream",
          "text": [
            "  New point found: f(x) = 0.936871\n"
          ]
        },
        {
          "name": "stderr",
          "output_type": "stream",
          "text": [
            "\u001b[36m\u001b[1m[ \u001b[22m\u001b[39m\u001b[36m\u001b[1mInfo: \u001b[22m\u001b[39mInterior point LP: τ = -77.74566753, Status = Interior\n",
            "\u001b[36m\u001b[1m[ \u001b[22m\u001b[39m\u001b[36m\u001b[1mInfo: \u001b[22m\u001b[39mInterior point LP: τ = -189.07573742, Status = Interior\n",
            "\u001b[36m\u001b[1m[ \u001b[22m\u001b[39m\u001b[36m\u001b[1mInfo: \u001b[22m\u001b[39mCell 57: New point not added, obj = 0.937968, min distance = 0.0, better = false\n"
          ]
        },
        {
          "name": "stdout",
          "output_type": "stream",
          "text": [
            "  New point found: f(x) = 0.933626\n",
            "  ✅ Level 8 completed in 20.4761 sec | Best objective so far: 0.930190\n"
          ]
        },
        {
          "name": "stderr",
          "output_type": "stream",
          "text": [
            "\u001b[36m\u001b[1m[ \u001b[22m\u001b[39m\u001b[36m\u001b[1mInfo: \u001b[22m\u001b[39mInterior point LP: τ = -38.87286661, Status = Interior\n"
          ]
        },
        {
          "name": "stdout",
          "output_type": "stream",
          "text": [
            " 60.414592 seconds (35.75 M allocations: 28.031 GiB, 8.08% gc time, 22.49% compilation time)\n",
            "\n",
            "✅ VDCG Best Objective: 0.930190\n",
            "✅ VDCG Total Time: 86.0436 sec, Total Points: 134\n",
            "📊 Running Standard CG...\n",
            "📊 Standard CG Objective: 0.950277\n",
            "🔍 Running Multi-start CG (time-limited)...\n",
            "  Seed 23: f(x) = 0.950277, Time so far: 0.2857 sec, Points: 1\n",
            "  Seed 24: f(x) = 0.940751, Time so far: 0.5751 sec, Points: 2\n",
            "  Seed 25: f(x) = 0.937425, Time so far: 0.8613 sec, Points: 3\n",
            "  Seed 26: f(x) = 0.936839, Time so far: 1.1492 sec, Points: 4\n",
            "  Seed 27: f(x) = 0.941972, Time so far: 1.4266 sec, Points: 5\n",
            "  Seed 28: f(x) = 0.936335, Time so far: 1.7306 sec, Points: 6\n",
            "  Seed 29: f(x) = 1.168775, Time so far: 2.0256 sec, Points: 7\n",
            "  Seed 30: f(x) = 0.942528, Time so far: 2.3102 sec, Points: 8\n",
            "  Seed 31: f(x) = 0.936355, Time so far: 2.6018 sec, Points: 9\n",
            "  Seed 32: f(x) = 0.934619, Time so far: 2.9514 sec, Points: 10\n",
            "  Seed 33: f(x) = 0.939360, Time so far: 3.2703 sec, Points: 11\n",
            "  Seed 34: f(x) = 0.957168, Time so far: 3.7878 sec, Points: 12\n",
            "  Seed 35: f(x) = 0.945330, Time so far: 4.2959 sec, Points: 13\n",
            "  Seed 36: f(x) = 0.937346, Time so far: 4.7821 sec, Points: 14\n",
            "  Seed 37: f(x) = 0.935919, Time so far: 5.2558 sec, Points: 15\n",
            "  Seed 38: f(x) = 0.939025, Time so far: 5.7263 sec, Points: 16\n",
            "  Seed 39: f(x) = 0.936424, Time so far: 6.2060 sec, Points: 17\n",
            "  Seed 40: f(x) = 0.935038, Time so far: 6.5155 sec, Points: 18\n",
            "  Seed 41: f(x) = 0.936919, Time so far: 6.8053 sec, Points: 19\n",
            "  Seed 42: f(x) = 0.942974, Time so far: 7.1068 sec, Points: 20\n",
            "  Seed 43: f(x) = 0.932978, Time so far: 7.4132 sec, Points: 21\n",
            "  Seed 44: f(x) = 0.940751, Time so far: 7.7227 sec, Points: 22\n",
            "  Seed 45: f(x) = 0.941376, Time so far: 8.0404 sec, Points: 23\n",
            "  Seed 46: f(x) = 0.936335, Time so far: 8.3333 sec, Points: 24\n",
            "  Seed 47: f(x) = 0.946835, Time so far: 8.6253 sec, Points: 25\n",
            "  Seed 48: f(x) = 0.939025, Time so far: 8.9275 sec, Points: 26\n",
            "  Seed 49: f(x) = 0.941998, Time so far: 9.2833 sec, Points: 27\n",
            "  Seed 50: f(x) = 0.938979, Time so far: 9.5788 sec, Points: 28\n",
            "  Seed 51: f(x) = 0.936335, Time so far: 9.8804 sec, Points: 29\n",
            "  Seed 52: f(x) = 1.168775, Time so far: 10.1927 sec, Points: 30\n",
            "  Seed 53: f(x) = 0.939847, Time so far: 10.4793 sec, Points: 31\n",
            "  Seed 54: f(x) = 0.936367, Time so far: 10.7653 sec, Points: 32\n",
            "  Seed 55: f(x) = 0.936424, Time so far: 11.0583 sec, Points: 33\n",
            "  Seed 56: f(x) = 0.940146, Time so far: 11.3669 sec, Points: 34\n",
            "  Seed 57: f(x) = 0.937706, Time so far: 11.6680 sec, Points: 35\n",
            "  Seed 58: f(x) = 0.936316, Time so far: 11.9643 sec, Points: 36\n",
            "  Seed 59: f(x) = 0.936253, Time so far: 12.2671 sec, Points: 37\n",
            "  Seed 60: f(x) = 0.938053, Time so far: 12.5487 sec, Points: 38\n",
            "  Seed 61: f(x) = 0.940949, Time so far: 12.8460 sec, Points: 39\n",
            "  Seed 62: f(x) = 0.935167, Time so far: 13.3089 sec, Points: 40\n",
            "  Seed 63: f(x) = 1.015906, Time so far: 13.6593 sec, Points: 41\n",
            "  Seed 64: f(x) = 0.945330, Time so far: 14.0213 sec, Points: 42\n",
            "  Seed 65: f(x) = 0.946739, Time so far: 14.4143 sec, Points: 43\n",
            "  Seed 66: f(x) = 0.939168, Time so far: 14.7849 sec, Points: 44\n",
            "  Seed 67: f(x) = 0.936335, Time so far: 15.1952 sec, Points: 45\n",
            "  Seed 68: f(x) = 0.936347, Time so far: 15.6430 sec, Points: 46\n",
            "  Seed 69: f(x) = 0.936335, Time so far: 16.0344 sec, Points: 47\n",
            "  Seed 70: f(x) = 0.936688, Time so far: 16.5825 sec, Points: 48\n",
            "  Seed 71: f(x) = 0.938675, Time so far: 17.1740 sec, Points: 49\n",
            "  Seed 72: f(x) = 0.938511, Time so far: 17.8581 sec, Points: 50\n",
            "  Seed 73: f(x) = 0.936722, Time so far: 18.9829 sec, Points: 51\n",
            "  Seed 74: f(x) = 0.939768, Time so far: 19.7047 sec, Points: 52\n",
            "  Seed 75: f(x) = 0.936335, Time so far: 20.4096 sec, Points: 53\n",
            "  Seed 76: f(x) = 0.941640, Time so far: 20.9518 sec, Points: 54\n",
            "  Seed 77: f(x) = 0.980046, Time so far: 21.5698 sec, Points: 55\n",
            "  Seed 78: f(x) = 0.936223, Time so far: 22.1166 sec, Points: 56\n",
            "  Seed 79: f(x) = 0.938558, Time so far: 22.4943 sec, Points: 57\n",
            "  Seed 80: f(x) = 0.935845, Time so far: 22.8242 sec, Points: 58\n",
            "  Seed 81: f(x) = 0.942450, Time so far: 23.1342 sec, Points: 59\n",
            "  Seed 82: f(x) = 0.938986, Time so far: 24.5901 sec, Points: 60\n",
            "  Seed 83: f(x) = 0.938590, Time so far: 24.9012 sec, Points: 61\n",
            "  Seed 84: f(x) = 0.936335, Time so far: 25.2017 sec, Points: 62\n",
            "  Seed 85: f(x) = 0.936335, Time so far: 25.4912 sec, Points: 63\n",
            "  Seed 86: f(x) = 0.962632, Time so far: 25.7811 sec, Points: 64\n",
            "  Seed 87: f(x) = 0.936335, Time so far: 26.0904 sec, Points: 65\n",
            "  Seed 88: f(x) = 0.939038, Time so far: 26.4078 sec, Points: 66\n",
            "  Seed 89: f(x) = 0.935919, Time so far: 26.7432 sec, Points: 67\n",
            "  Seed 90: f(x) = 0.940751, Time so far: 27.0536 sec, Points: 68\n",
            "  Seed 91: f(x) = 0.934875, Time so far: 27.3678 sec, Points: 69\n",
            "  Seed 92: f(x) = 0.952972, Time so far: 27.6770 sec, Points: 70\n",
            "  Seed 93: f(x) = 0.937706, Time so far: 27.9854 sec, Points: 71\n",
            "  Seed 94: f(x) = 0.959669, Time so far: 28.2820 sec, Points: 72\n",
            "  Seed 95: f(x) = 0.941750, Time so far: 28.5801 sec, Points: 73\n",
            "  Seed 96: f(x) = 0.936335, Time so far: 28.8908 sec, Points: 74\n",
            "  Seed 97: f(x) = 0.936228, Time so far: 29.1925 sec, Points: 75\n",
            "  Seed 98: f(x) = 0.935227, Time so far: 29.4971 sec, Points: 76\n",
            "  Seed 99: f(x) = 0.939360, Time so far: 29.8076 sec, Points: 77\n",
            "  Seed 100: f(x) = 0.939847, Time so far: 30.0960 sec, Points: 78\n",
            "  Seed 101: f(x) = 0.934717, Time so far: 30.3914 sec, Points: 79\n",
            "  Seed 102: f(x) = 0.936253, Time so far: 30.7044 sec, Points: 80\n",
            "  Seed 103: f(x) = 0.938272, Time so far: 31.0414 sec, Points: 81\n",
            "  Seed 104: f(x) = 0.950277, Time so far: 31.3484 sec, Points: 82\n",
            "  Seed 105: f(x) = 0.935552, Time so far: 31.6838 sec, Points: 83\n",
            "  Seed 106: f(x) = 0.936335, Time so far: 32.0078 sec, Points: 84\n",
            "  Seed 107: f(x) = 0.959669, Time so far: 32.3799 sec, Points: 85\n",
            "  Seed 108: f(x) = 0.936223, Time so far: 32.8807 sec, Points: 86\n",
            "  Seed 109: f(x) = 0.941640, Time so far: 33.3762 sec, Points: 87\n",
            "  Seed 110: f(x) = 0.950888, Time so far: 33.8646 sec, Points: 88\n",
            "  Seed 111: f(x) = 0.938216, Time so far: 34.3584 sec, Points: 89\n",
            "  Seed 112: f(x) = 0.937461, Time so far: 34.9143 sec, Points: 90\n",
            "  Seed 113: f(x) = 0.935590, Time so far: 35.4240 sec, Points: 91\n",
            "  Seed 114: f(x) = 0.938511, Time so far: 35.7275 sec, Points: 92\n",
            "  Seed 115: f(x) = 0.935590, Time so far: 36.0354 sec, Points: 93\n",
            "  Seed 116: f(x) = 0.934875, Time so far: 36.3530 sec, Points: 94\n",
            "  Seed 117: f(x) = 0.938162, Time so far: 36.6732 sec, Points: 95\n",
            "  Seed 118: f(x) = 0.936549, Time so far: 36.9738 sec, Points: 96\n",
            "  Seed 119: f(x) = 0.936205, Time so far: 37.2991 sec, Points: 97\n",
            "  Seed 120: f(x) = 0.936347, Time so far: 37.6310 sec, Points: 98\n",
            "  Seed 121: f(x) = 0.960477, Time so far: 37.9474 sec, Points: 99\n",
            "  Seed 122: f(x) = 0.936083, Time so far: 38.2512 sec, Points: 100\n",
            "  Seed 123: f(x) = 0.962632, Time so far: 38.5857 sec, Points: 101\n",
            "  Seed 124: f(x) = 0.935845, Time so far: 38.8833 sec, Points: 102\n",
            "  Seed 125: f(x) = 0.952972, Time so far: 39.1782 sec, Points: 103\n",
            "  Seed 126: f(x) = 0.939265, Time so far: 39.5537 sec, Points: 104\n",
            "  Seed 127: f(x) = 0.939313, Time so far: 39.8757 sec, Points: 105\n",
            "  Seed 128: f(x) = 0.936335, Time so far: 40.1736 sec, Points: 106\n",
            "  Seed 129: f(x) = 0.945565, Time so far: 40.4842 sec, Points: 107\n",
            "  Seed 130: f(x) = 0.936424, Time so far: 40.7872 sec, Points: 108\n",
            "  Seed 131: f(x) = 0.938675, Time so far: 41.0933 sec, Points: 109\n",
            "  Seed 132: f(x) = 0.940685, Time so far: 41.4178 sec, Points: 110\n",
            "  Seed 133: f(x) = 0.939025, Time so far: 41.7329 sec, Points: 111\n",
            "  Seed 134: f(x) = 0.972590, Time so far: 42.0300 sec, Points: 112\n",
            "  Seed 135: f(x) = 0.935749, Time so far: 42.3234 sec, Points: 113\n",
            "  Seed 136: f(x) = 1.047975, Time so far: 42.3388 sec, Points: 114\n",
            "  Seed 137: f(x) = 0.938413, Time so far: 42.6672 sec, Points: 115\n",
            "  Seed 138: f(x) = 0.936335, Time so far: 42.9553 sec, Points: 116\n",
            "  Seed 139: f(x) = 0.936302, Time so far: 43.2385 sec, Points: 117\n",
            "  Seed 140: f(x) = 0.936335, Time so far: 43.5532 sec, Points: 118\n",
            "  Seed 141: f(x) = 0.937766, Time so far: 43.8658 sec, Points: 119\n",
            "  Seed 142: f(x) = 0.940242, Time so far: 44.1778 sec, Points: 120\n",
            "  Seed 143: f(x) = 0.936688, Time so far: 44.4945 sec, Points: 121\n",
            "  Seed 144: f(x) = 0.943453, Time so far: 44.8191 sec, Points: 122\n",
            "  Seed 145: f(x) = 0.936211, Time so far: 45.1222 sec, Points: 123\n",
            "  Seed 146: f(x) = 0.942065, Time so far: 45.4617 sec, Points: 124\n",
            "  Seed 147: f(x) = 0.936584, Time so far: 45.9766 sec, Points: 125\n",
            "  Seed 148: f(x) = 0.941707, Time so far: 46.4668 sec, Points: 126\n",
            "  Seed 149: f(x) = 0.936229, Time so far: 46.9692 sec, Points: 127\n",
            "  Seed 150: f(x) = 0.942528, Time so far: 47.4689 sec, Points: 128\n",
            "  Seed 151: f(x) = 0.936452, Time so far: 48.0177 sec, Points: 129\n",
            "  Seed 152: f(x) = 0.939319, Time so far: 48.5206 sec, Points: 130\n",
            "  Seed 153: f(x) = 0.936348, Time so far: 48.8570 sec, Points: 131\n",
            "  Seed 154: f(x) = 0.939313, Time so far: 49.1503 sec, Points: 132\n",
            "  Seed 155: f(x) = 0.941640, Time so far: 49.4450 sec, Points: 133\n",
            "  Seed 156: f(x) = 0.941640, Time so far: 49.7478 sec, Points: 134\n",
            "  Seed 157: f(x) = 0.939954, Time so far: 50.0518 sec, Points: 135\n",
            "  Seed 158: f(x) = 0.935267, Time so far: 50.3407 sec, Points: 136\n",
            "  Seed 159: f(x) = 0.935749, Time so far: 50.6299 sec, Points: 137\n",
            "  Seed 160: f(x) = 0.938272, Time so far: 50.9302 sec, Points: 138\n",
            "  Seed 161: f(x) = 0.941640, Time so far: 51.2587 sec, Points: 139\n",
            "  Seed 162: f(x) = 0.945330, Time so far: 51.5787 sec, Points: 140\n",
            "  Seed 163: f(x) = 0.938479, Time so far: 51.8827 sec, Points: 141\n",
            "  Seed 164: f(x) = 0.935986, Time so far: 52.2091 sec, Points: 142\n",
            "  Seed 165: f(x) = 0.936335, Time so far: 52.5008 sec, Points: 143\n",
            "  Seed 166: f(x) = 0.947501, Time so far: 52.7885 sec, Points: 144\n",
            "  Seed 167: f(x) = 0.980046, Time so far: 53.1055 sec, Points: 145\n",
            "  Seed 168: f(x) = 0.936549, Time so far: 53.4068 sec, Points: 146\n",
            "  Seed 169: f(x) = 0.987716, Time so far: 53.7111 sec, Points: 147\n",
            "  Seed 170: f(x) = 0.938172, Time so far: 54.0259 sec, Points: 148\n",
            "  Seed 171: f(x) = 0.937425, Time so far: 54.3337 sec, Points: 149\n",
            "  Seed 172: f(x) = 0.938172, Time so far: 54.6336 sec, Points: 150\n",
            "  Seed 173: f(x) = 0.941931, Time so far: 54.9199 sec, Points: 151\n",
            "  Seed 174: f(x) = 0.959669, Time so far: 55.2337 sec, Points: 152\n",
            "  Seed 175: f(x) = 0.942274, Time so far: 55.5362 sec, Points: 153\n",
            "  Seed 176: f(x) = 0.935267, Time so far: 55.8470 sec, Points: 154\n",
            "  Seed 177: f(x) = 0.939673, Time so far: 56.1626 sec, Points: 155\n",
            "  Seed 178: f(x) = 0.939379, Time so far: 56.4786 sec, Points: 156\n",
            "  Seed 179: f(x) = 0.938459, Time so far: 56.7920 sec, Points: 157\n",
            "  Seed 180: f(x) = 0.936335, Time so far: 57.0984 sec, Points: 158\n",
            "  Seed 181: f(x) = 0.937706, Time so far: 57.4160 sec, Points: 159\n",
            "  Seed 182: f(x) = 0.941750, Time so far: 57.7446 sec, Points: 160\n",
            "  Seed 183: f(x) = 0.941972, Time so far: 58.0495 sec, Points: 161\n",
            "  Seed 184: f(x) = 0.936845, Time so far: 58.3643 sec, Points: 162\n",
            "  Seed 185: f(x) = 0.943301, Time so far: 58.7789 sec, Points: 163\n",
            "  Seed 186: f(x) = 1.015906, Time so far: 59.2662 sec, Points: 164\n",
            "  Seed 187: f(x) = 0.936335, Time so far: 59.7772 sec, Points: 165\n",
            "  Seed 188: f(x) = 0.936302, Time so far: 60.2642 sec, Points: 166\n",
            "  Seed 189: f(x) = 0.936919, Time so far: 60.7545 sec, Points: 167\n",
            "  Seed 190: f(x) = 0.937471, Time so far: 61.2431 sec, Points: 168\n",
            "  Seed 191: f(x) = 1.026486, Time so far: 61.6803 sec, Points: 169\n",
            "  Seed 192: f(x) = 0.937766, Time so far: 61.9832 sec, Points: 170\n",
            "  Seed 193: f(x) = 0.938743, Time so far: 62.2951 sec, Points: 171\n",
            "  Seed 194: f(x) = 0.936361, Time so far: 62.6565 sec, Points: 172\n",
            "  Seed 195: f(x) = 0.946795, Time so far: 62.9612 sec, Points: 173\n",
            "  Seed 196: f(x) = 0.937471, Time so far: 63.2613 sec, Points: 174\n",
            "  Seed 197: f(x) = 0.938979, Time so far: 63.5476 sec, Points: 175\n",
            "  Seed 198: f(x) = 0.936995, Time so far: 63.8488 sec, Points: 176\n",
            "  Seed 199: f(x) = 0.936347, Time so far: 64.1369 sec, Points: 177\n",
            "  Seed 200: f(x) = 0.936919, Time so far: 64.4359 sec, Points: 178\n",
            "  Seed 201: f(x) = 0.937706, Time so far: 64.7467 sec, Points: 179\n",
            "  Seed 202: f(x) = 0.937024, Time so far: 65.0363 sec, Points: 180\n",
            "  Seed 203: f(x) = 1.014035, Time so far: 65.3220 sec, Points: 181\n",
            "  Seed 204: f(x) = 0.937077, Time so far: 65.6055 sec, Points: 182\n",
            "  Seed 205: f(x) = 0.935845, Time so far: 65.9057 sec, Points: 183\n",
            "  Seed 206: f(x) = 0.936367, Time so far: 66.1930 sec, Points: 184\n",
            "  Seed 207: f(x) = 0.943960, Time so far: 66.4975 sec, Points: 185\n",
            "  Seed 208: f(x) = 0.940616, Time so far: 66.8338 sec, Points: 186\n",
            "  Seed 209: f(x) = 0.936335, Time so far: 67.1454 sec, Points: 187\n",
            "  Seed 210: f(x) = 0.936098, Time so far: 67.4431 sec, Points: 188\n",
            "  Seed 211: f(x) = 1.015906, Time so far: 67.7708 sec, Points: 189\n",
            "  Seed 212: f(x) = 0.935845, Time so far: 68.0800 sec, Points: 190\n",
            "  Seed 213: f(x) = 0.940949, Time so far: 68.4015 sec, Points: 191\n",
            "  Seed 214: f(x) = 0.936090, Time so far: 68.6970 sec, Points: 192\n",
            "  Seed 215: f(x) = 0.939276, Time so far: 69.0112 sec, Points: 193\n",
            "  Seed 216: f(x) = 0.936335, Time so far: 69.3553 sec, Points: 194\n",
            "  Seed 217: f(x) = 0.941556, Time so far: 69.6778 sec, Points: 195\n",
            "  Seed 218: f(x) = 0.936335, Time so far: 69.9796 sec, Points: 196\n",
            "  Seed 219: f(x) = 0.942974, Time so far: 70.2714 sec, Points: 197\n",
            "  Seed 220: f(x) = 0.942450, Time so far: 70.5629 sec, Points: 198\n",
            "  Seed 221: f(x) = 0.937834, Time so far: 70.8695 sec, Points: 199\n",
            "  Seed 222: f(x) = 0.936028, Time so far: 71.1767 sec, Points: 200\n",
            "  Seed 223: f(x) = 0.937946, Time so far: 71.4784 sec, Points: 201\n",
            "  Seed 224: f(x) = 0.936098, Time so far: 71.9300 sec, Points: 202\n",
            "  Seed 225: f(x) = 0.935839, Time so far: 72.4477 sec, Points: 203\n",
            "  Seed 226: f(x) = 0.938559, Time so far: 72.9651 sec, Points: 204\n",
            "  Seed 227: f(x) = 0.937024, Time so far: 73.4550 sec, Points: 205\n",
            "  Seed 228: f(x) = 1.047975, Time so far: 73.4701 sec, Points: 206\n",
            "  Seed 229: f(x) = 0.935080, Time so far: 73.9868 sec, Points: 207\n",
            "  Seed 230: f(x) = 0.937292, Time so far: 74.5012 sec, Points: 208\n",
            "  Seed 231: f(x) = 0.934619, Time so far: 74.8433 sec, Points: 209\n",
            "  Seed 232: f(x) = 0.938590, Time so far: 75.5847 sec, Points: 210\n",
            "  Seed 233: f(x) = 0.950087, Time so far: 75.8673 sec, Points: 211\n",
            "  Seed 234: f(x) = 0.934875, Time so far: 76.1715 sec, Points: 212\n",
            "  Seed 235: f(x) = 0.951289, Time so far: 76.4652 sec, Points: 213\n",
            "  Seed 236: f(x) = 0.938592, Time so far: 76.7474 sec, Points: 214\n",
            "  Seed 237: f(x) = 0.942450, Time so far: 77.0429 sec, Points: 215\n",
            "  Seed 238: f(x) = 0.934475, Time so far: 77.3593 sec, Points: 216\n",
            "  Seed 239: f(x) = 0.947501, Time so far: 77.6751 sec, Points: 217\n",
            "  Seed 240: f(x) = 0.937968, Time so far: 77.9727 sec, Points: 218\n",
            "  Seed 241: f(x) = 0.939038, Time so far: 78.2679 sec, Points: 219\n",
            "  Seed 242: f(x) = 0.941707, Time so far: 78.5772 sec, Points: 220\n",
            "  Seed 243: f(x) = 0.942065, Time so far: 78.8735 sec, Points: 221\n",
            "  Seed 244: f(x) = 0.936460, Time so far: 79.1674 sec, Points: 222\n",
            "  Seed 245: f(x) = 0.934473, Time so far: 79.4771 sec, Points: 223\n",
            "  Seed 246: f(x) = 0.940339, Time so far: 79.7851 sec, Points: 224\n",
            "  Seed 247: f(x) = 1.000000, Time so far: 79.7991 sec, Points: 225\n",
            "  Seed 248: f(x) = 0.936335, Time so far: 80.1064 sec, Points: 226\n",
            "  Seed 249: f(x) = 0.939417, Time so far: 80.4294 sec, Points: 227\n",
            "  Seed 250: f(x) = 0.936995, Time so far: 80.7493 sec, Points: 228\n",
            "  Seed 251: f(x) = 0.937425, Time so far: 81.0571 sec, Points: 229\n",
            "  Seed 252: f(x) = 0.937461, Time so far: 81.3682 sec, Points: 230\n",
            "  Seed 253: f(x) = 0.941229, Time so far: 81.6910 sec, Points: 231\n",
            "  Seed 254: f(x) = 0.938217, Time so far: 81.9757 sec, Points: 232\n",
            "  Seed 255: f(x) = 0.939168, Time so far: 82.2773 sec, Points: 233\n",
            "  Seed 256: f(x) = 0.941484, Time so far: 82.5950 sec, Points: 234\n",
            "  Seed 257: f(x) = 0.948706, Time so far: 82.9121 sec, Points: 235\n",
            "  Seed 258: f(x) = 0.936296, Time so far: 83.2256 sec, Points: 236\n",
            "  Seed 259: f(x) = 0.936335, Time so far: 83.5373 sec, Points: 237\n",
            "  Seed 260: f(x) = 0.939417, Time so far: 83.8665 sec, Points: 238\n",
            "  Seed 261: f(x) = 0.936347, Time so far: 84.1857 sec, Points: 239\n",
            "  Seed 262: f(x) = 0.936205, Time so far: 84.4906 sec, Points: 240\n",
            "  Seed 263: f(x) = 0.936326, Time so far: 84.9613 sec, Points: 241\n",
            "  Seed 264: f(x) = 0.936270, Time so far: 85.4728 sec, Points: 242\n",
            "  Seed 265: f(x) = 0.951289, Time so far: 86.0100 sec, Points: 243\n",
            "  Seed 266: f(x) = 0.940339, Time so far: 86.5214 sec, Points: 244\n",
            "🔍 Multi-start CG Best: 0.932978 (Time: 86.5214 sec, Points: 244)\n",
            "\n",
            "📋 Summary of Results for Sigmoid Regression (a1a)\n",
            "┌──────────────────────┬─────────────────┬──────────────┬─────────────────┐\n",
            "│ Method               │ Objective Value │ Runtime (sec) │ Points Evaluated │\n",
            "├──────────────────────┼─────────────────┼──────────────┼─────────────────┤\n",
            "│ VDCG                 │ 0.930190        │ 86.0436      │ 134             │\n",
            "│ Standard CG          │ 0.950277        │ 0.2348       │ 1               │\n",
            "│ Multi-start CG       │ 0.932978        │ 86.5214      │ 244             │\n",
            "└──────────────────────┴─────────────────┴──────────────┴─────────────────┘\n"
          ]
        }
      ],
      "source": [
        "using JuMP, HiGHS    #a1a\n",
        "using LinearAlgebra\n",
        "using Zygote\n",
        "using LIBSVMdata\n",
        "using Printf\n",
        "using Random\n",
        "using Statistics\n",
        "using SparseArrays\n",
        "\n",
        "# Set random seed for reproducibility\n",
        "Random.seed!(23)\n",
        "\n",
        "# ================== Configuration ================== #\n",
        "const MAX_LEVELS = 8\n",
        "const TOL_UNIQUE = 1e-3\n",
        "const TOL_CONVERGENCE = 1e-6\n",
        "const TAU_L1 = 50.0  # L1-norm ball radius\n",
        "const tau = 50.0     # L1-norm ball radius\n",
        "\n",
        "# ================== Global Data ================== #\n",
        "A = spzeros(1, 1)\n",
        "y = zeros(1)\n",
        "n = 1\n",
        "\n",
        "# Sigmoid function\n",
        "sigmoid(z) = 1 / (1 + exp(-z))\n",
        "\n",
        "# Objective and gradient\n",
        "f(x) = mean((y .- sigmoid.(A * x)).^2)\n",
        "grad_f(x) = Zygote.gradient(f, x)[1]\n",
        "\n",
        "# Linear Minimization Oracle for the L1-ball ||x||_1 ≤ τ\n",
        "function lmo(g)\n",
        "    i = argmax(abs.(g))\n",
        "    v = zeros(n)\n",
        "    v[i] = -TAU_L1 * sign(g[i])\n",
        "    return v\n",
        "end\n",
        "\n",
        "# Check if a point is new\n",
        "function is_new_point(x, points, tol=TOL_UNIQUE)\n",
        "    all(norm(x - p) >= tol for p in points)\n",
        "end\n",
        "\n",
        "# ================== Adaptive Frank-Wolfe Algorithm ================== #\n",
        "function conditional_gradient_adjustable_scaling(f, grad_f, lmo, x0; max_iter=1000, epsilon=TOL_CONVERGENCE, delta=1e-10, beta=2, gamma=0.5)\n",
        "    x_prev = copy(x0)\n",
        "    x_curr = copy(x0)\n",
        "    values = [f(x_curr)]\n",
        "    times = [0.0]\n",
        "    gaps = Float64[]\n",
        "    L_ks = Float64[]\n",
        "    steps = Float64[]\n",
        "    backtrack_counts = Int[]\n",
        "    gamma_history = [gamma]\n",
        "    k = 0\n",
        "    prev_grad = grad_f(x_prev)\n",
        "    current_f = f(x_curr)\n",
        "    recent_backtracks = Int[]\n",
        "\n",
        "    while k < max_iter\n",
        "        start = time()\n",
        "        current_grad = grad_f(x_curr)\n",
        "        v = lmo(current_grad)\n",
        "        d = v - x_curr\n",
        "        normd2 = dot(d, d)\n",
        "        gap = -dot(current_grad, d)\n",
        "\n",
        "        if gap <= epsilon\n",
        "            push!(times, time() - start)\n",
        "            push!(gaps, gap)\n",
        "            break\n",
        "        end\n",
        "\n",
        "        if k == 0\n",
        "            d0 = ones(length(x0)) / sqrt(length(x0))\n",
        "            x_temp = x0 + 1e-3 * d0\n",
        "            L_k = gamma * (norm(grad_f(x0) - grad_f(x_temp)) / (1e-3 * norm(d0)) + delta)\n",
        "        else\n",
        "            grad_diff = norm(current_grad - prev_grad)\n",
        "            x_diff = norm(x_curr - x_prev)\n",
        "            L_k = gamma * (grad_diff / x_diff + delta)\n",
        "        end\n",
        "        Lknormd2 = L_k * normd2\n",
        "        t_k = min(gap / Lknormd2, 1.0)\n",
        "        i = 0\n",
        "        while true\n",
        "            x_new = x_curr + t_k * d\n",
        "            new_f = f(x_new)\n",
        "            if current_f - new_f >= t_k * gap - (Lknormd2 / 2) * t_k^2\n",
        "                x_prev = copy(x_curr)\n",
        "                x_curr = x_new\n",
        "                push!(backtrack_counts, i)\n",
        "                push!(recent_backtracks, i)\n",
        "                break\n",
        "            else\n",
        "                L_k *= beta\n",
        "                Lknormd2 = L_k * normd2\n",
        "                t_k = min(gap / Lknormd2, 1.0)\n",
        "                i += 1\n",
        "            end\n",
        "        end\n",
        "\n",
        "        if k % 10 == 0 && k > 0\n",
        "            total_backtracks = sum(recent_backtracks)\n",
        "            if total_backtracks == 0\n",
        "                gamma = max(1e-4, gamma * 0.9)\n",
        "            elseif total_backtracks > 10\n",
        "                gamma = min(1.0, gamma * 1.1)\n",
        "            end\n",
        "            push!(gamma_history, gamma)\n",
        "            recent_backtracks = Int[]\n",
        "        elseif k % 10 == 0\n",
        "            push!(gamma_history, gamma)\n",
        "            recent_backtracks = Int[]\n",
        "        else\n",
        "            push!(recent_backtracks, i)\n",
        "        end\n",
        "        k += 1\n",
        "        iteration_time = time() - start\n",
        "\n",
        "        current_f = f(x_curr)\n",
        "        prev_grad = current_grad\n",
        "        push!(gaps, gap)\n",
        "        push!(steps, t_k)\n",
        "        push!(values, current_f)\n",
        "        push!(times, iteration_time)\n",
        "        push!(L_ks, L_k)\n",
        "\n",
        "        if k % 100 == 0\n",
        "            # println(\"k=$k, gap=$(round(gap, digits=4)), t_k=$(round(t_k, digits=4)), L_k=$(round(L_ks[end], digits=6)), Time=$(round(times[end], digits=4)), f=$(round(values[end], digits=6))\")\n",
        "        end\n",
        "    end\n",
        "    total_time = sum(times)\n",
        "    return (x_curr, values, times, gaps, L_ks, backtrack_counts, steps, gamma_history, total_time)\n",
        "end\n",
        "\n",
        "# ================== Interior Point via Slack (Paper's Method) ================== #\n",
        "function find_interior_point(p_i, sites)\n",
        "    model = Model(HiGHS.Optimizer)\n",
        "    set_silent(model)\n",
        "    @variable(model, xp[1:n] >= 0)\n",
        "    @variable(model, xn[1:n] >= 0)\n",
        "    @variable(model, τ)\n",
        "\n",
        "    # L1 constraint: ||x||_1 ≤ TAU_L1\n",
        "    @constraint(model, sum(xp) + sum(xn) <= TAU_L1)\n",
        "\n",
        "    # Reconstruct x = xp - xn\n",
        "    x = xp - xn\n",
        "\n",
        "    # Voronoi cell constraints with slack\n",
        "    for j in 1:length(sites)\n",
        "        if sites[j] ≈ p_i\n",
        "            continue\n",
        "        end\n",
        "        p_j = sites[j]\n",
        "        a = p_j - p_i\n",
        "        b_val = 0.5 * dot(p_j + p_i, p_j - p_i)\n",
        "        @constraint(model, dot(a, x) <= b_val + τ)\n",
        "    end\n",
        "    @objective(model, Min, τ)\n",
        "    optimize!(model)\n",
        "    if termination_status(model) == OPTIMAL\n",
        "        x_sol = value.(xp) - value.(xn)\n",
        "        τ_sol = value(τ)\n",
        "        @info \"Interior point LP: τ = $(round(τ_sol, digits=8)), Status = $(τ_sol < -1e-8 ? \"Interior\" : \"Boundary\")\"\n",
        "        return τ_sol < -1e-8 ? (x_sol, \"Interior\") : (x_sol, \"Boundary\")\n",
        "    else\n",
        "        @warn \"Interior point LP failed: Infeasible or unbounded\"\n",
        "        if length(sites) == 1\n",
        "            @info \"Returning barycenter as fallback\"\n",
        "            return zeros(n), \"Interior\"\n",
        "        end\n",
        "        return nothing, \"Infeasible\"\n",
        "    end\n",
        "end\n",
        "\n",
        "# ================== Voronoi Partitioning ================== #\n",
        "function create_voronoi_partitions(sites)\n",
        "    base_A = vcat(\n",
        "        Matrix{Float64}(I, n, n),      # x ≥ -TAU_L1\n",
        "        -Matrix{Float64}(I, n, n)      # x ≤ TAU_L1\n",
        "    )\n",
        "    base_b = vcat(\n",
        "        TAU_L1 * ones(n),\n",
        "        TAU_L1 * ones(n)\n",
        "    )\n",
        "    partitions = []\n",
        "    K = length(sites)\n",
        "    if K == 1\n",
        "        push!(partitions, (base_A, base_b))\n",
        "        return partitions\n",
        "    end\n",
        "    for i in 1:K\n",
        "        A_i = copy(base_A)\n",
        "        b_i = copy(base_b)\n",
        "        p_i = sites[i]\n",
        "        for j in 1:K\n",
        "            i == j && continue\n",
        "            p_j = sites[j]\n",
        "            a = (p_j - p_i)'\n",
        "            b_val = 0.5 * dot(p_j + p_i, p_j - p_i)\n",
        "            A_i = vcat(A_i, a)\n",
        "            b_i = vcat(b_i, b_val)\n",
        "        end\n",
        "        push!(partitions, (A_i, b_i))\n",
        "    end\n",
        "    return partitions\n",
        "end\n",
        "\n",
        "# ================== Main VDCG Algorithm ================== #\n",
        "function voronoi_conditional_gradient(f, grad_f, lmo, x0)\n",
        "    x_init, _, cg_times, _, _, _, _, _, init_time = conditional_gradient_adjustable_scaling(f, grad_f, lmo, x0)\n",
        "    total_time = init_time\n",
        "    sites = [x0, x_init]\n",
        "    num_points = 1\n",
        "    archive = [(x_init, f(x_init))]\n",
        "    best_so_far = f(x_init)\n",
        "    @printf(\"Initial solution: f(x) = %.6f\\n\", f(x_init))\n",
        "    @info \"Distance between x0 and x_init: $(norm(x0 - x_init))\"\n",
        "\n",
        "    for level in 1:MAX_LEVELS\n",
        "        start_time = time()\n",
        "        @printf(\"→ VDCG Level %d: %d sites, Current best f(x) = %.6f\\n\", level, length(sites), best_so_far)\n",
        "        partitions = create_voronoi_partitions(sites)\n",
        "        new_sites = []\n",
        "        for (i, (A_cell, b_cell)) in enumerate(partitions)\n",
        "            x_inner, status = find_interior_point(sites[i], sites)\n",
        "            if x_inner === nothing || status == \"Infeasible\"\n",
        "                @info \"Skipping cell $i: $status\"\n",
        "                continue\n",
        "            end\n",
        "            x_stat, _, cg_times, _, _, _, _, _, cg_time = conditional_gradient_adjustable_scaling(f, grad_f, lmo, x_inner)\n",
        "            total_time += cg_time\n",
        "            num_points += 1\n",
        "            obj = f(x_stat)\n",
        "            all_points = [s for (s, _) in archive]\n",
        "            if is_new_point(x_stat, all_points) && is_new_point(x_stat, new_sites)\n",
        "                push!(new_sites, x_stat)\n",
        "                push!(archive, (x_stat, obj))\n",
        "                @printf(\"  New point found: f(x) = %.6f\\n\", obj)\n",
        "                best_so_far = min(best_so_far, obj)\n",
        "            else\n",
        "                min_dist = minimum(norm(x_stat - p) for p in all_points)\n",
        "                @info \"Cell $i: New point not added, obj = $(round(obj, digits=6)), min distance = $(round(min_dist, digits=6)), better = $(obj < best_so_far)\"\n",
        "            end\n",
        "        end\n",
        "        elapsed = time() - start_time\n",
        "        total_time += elapsed\n",
        "        if isempty(new_sites)\n",
        "            @printf(\"→ No new points found. Terminating at level %d.\\n\", level)\n",
        "            @printf(\"  🕒 Level %d runtime: %.4f sec | Best objective: %.6f\\n\", level, elapsed, best_so_far)\n",
        "            break\n",
        "        else\n",
        "            append!(sites, new_sites)\n",
        "            @printf(\"  ✅ Level %d completed in %.4f sec | Best objective so far: %.6f\\n\", level, elapsed, best_so_far)\n",
        "        end\n",
        "    end\n",
        "    best_idx = argmin([obj for (_, obj) in archive])\n",
        "    x_best, f_best = archive[best_idx]\n",
        "    return x_best, f_best, archive, sites, total_time, num_points\n",
        "end\n",
        "\n",
        "# ================== Load Problem Data ================== #\n",
        "function load_libsvm_data()\n",
        "    data_name = \"a1a\"\n",
        "    @info \"Loading LIBSVM dataset '$data_name'...\"\n",
        "    global A, y, n\n",
        "    A_loaded, y_loaded = load_dataset(data_name, dense=false, replace=false, verbose=true)\n",
        "    A = A_loaded\n",
        "    y = Float64.(y_loaded)\n",
        "    m, n = size(A)\n",
        "    # Map labels: {-1,1} → {0,1} for sigmoid output (optional)\n",
        "    # y = (y .+ 1) ./ 2\n",
        "    Random.seed!(23)\n",
        "    V = vcat(tau * I(n), -tau * I(n))\n",
        "    global x0 = V[rand(1:size(V, 1)), :]\n",
        "    @info \"Data loaded: $m samples, $n features\"\n",
        "    @info \"Initial point x0 set on L1-ball boundary\"\n",
        "end\n",
        "\n",
        "# ================== Run Experiment ================== #\n",
        "function main()\n",
        "    # Load data for sigmoid regression\n",
        "    load_libsvm_data()\n",
        "\n",
        "    # Run VDCG\n",
        "    @printf(\"\\n🚀 Starting VDCG...\\n\")\n",
        "    @time x_vdcg, f_vdcg, archive, sites, vdcg_time, vdcg_points = voronoi_conditional_gradient(f, grad_f, lmo, x0)\n",
        "    @printf(\"\\n✅ VDCG Best Objective: %.6f\\n\", f_vdcg)\n",
        "    @printf(\"✅ VDCG Total Time: %.4f sec, Total Points: %d\\n\", vdcg_time, vdcg_points)\n",
        "\n",
        "    # Standard CG\n",
        "    @printf(\"📊 Running Standard CG...\\n\")\n",
        "    x_std, _, _, _, _, _, _, _, std_time = conditional_gradient_adjustable_scaling(f, grad_f, lmo, x0)\n",
        "    f_std = f(x_std)\n",
        "    @printf(\"📊 Standard CG Objective: %.6f\\n\", f_std)\n",
        "\n",
        "    # Multi-start CG (limited by VDCG time)\n",
        "    @printf(\"🔍 Running Multi-start CG (time-limited)...\\n\")\n",
        "    f_multi = Inf\n",
        "    total_multi_time = 0.0\n",
        "    points_evaluated = 0\n",
        "    seed = 23\n",
        "    while total_multi_time < vdcg_time\n",
        "        Random.seed!(seed)\n",
        "        start = time()\n",
        "\n",
        "        # For the first iteration (seed 23), use the same x0 as standard CG\n",
        "        if seed == 23\n",
        "            x_rand = copy(x0)\n",
        "        else\n",
        "            V = vcat(tau * I(n), -tau * I(n))\n",
        "            x_rand = V[rand(1:size(V, 1)), :]\n",
        "        end\n",
        "\n",
        "        x, _, _, _, _, _, _, _, cg_time = conditional_gradient_adjustable_scaling(f, grad_f, lmo, x_rand)\n",
        "        total_multi_time += time() - start\n",
        "        points_evaluated += 1\n",
        "        f_current = f(x)\n",
        "        f_multi = min(f_multi, f_current)\n",
        "\n",
        "        @printf(\"  Seed %d: f(x) = %.6f, Time so far: %.4f sec, Points: %d\\n\", seed, f_current, total_multi_time, points_evaluated)\n",
        "        seed += 1\n",
        "    end\n",
        "    @printf(\"🔍 Multi-start CG Best: %.6f (Time: %.4f sec, Points: %d)\\n\", f_multi, total_multi_time, points_evaluated)\n",
        "\n",
        "    # Summary Table\n",
        "    @printf(\"\\n📋 Summary of Results for Sigmoid Regression (a1a)\\n\")\n",
        "    @printf(\"┌──────────────────────┬─────────────────┬──────────────┬─────────────────┐\\n\")\n",
        "    @printf(\"│ %-20s │ %-15s │ %-12s │ %-15s │\\n\", \"Method\", \"Objective Value\", \"Runtime (sec)\", \"Points Evaluated\")\n",
        "    @printf(\"├──────────────────────┼─────────────────┼──────────────┼─────────────────┤\\n\")\n",
        "    @printf(\"│ %-20s │ %-15.6f │ %-12.4f │ %-15d │\\n\", \"VDCG\", f_vdcg, vdcg_time, vdcg_points)\n",
        "    @printf(\"│ %-20s │ %-15.6f │ %-12.4f │ %-15d │\\n\", \"Standard CG\", f_std, std_time, 1)\n",
        "    @printf(\"│ %-20s │ %-15.6f │ %-12.4f │ %-15d │\\n\", \"Multi-start CG\", f_multi, total_multi_time, points_evaluated)\n",
        "    @printf(\"└──────────────────────┴─────────────────┴──────────────┴─────────────────┘\\n\")\n",
        "end\n",
        "\n",
        "# Run everything\n",
        "main()"
      ]
    },
    {
      "cell_type": "markdown",
      "metadata": {
        "id": "_RPlgAvRca4O"
      },
      "source": []
    },
    {
      "cell_type": "code",
      "execution_count": null,
      "metadata": {
        "colab": {
          "base_uri": "https://localhost:8080/"
        },
        "id": "Z6VStLLtcbla",
        "outputId": "682f738d-a9c8-4a54-d329-36f0f0843575"
      },
      "outputs": [
        {
          "name": "stderr",
          "output_type": "stream",
          "text": [
            "WARNING: redefinition of constant Main.TAU_L1. This may fail, cause incorrect answers, or produce other errors.\n",
            "WARNING: redefinition of constant Main.tau. This may fail, cause incorrect answers, or produce other errors.\n",
            "\u001b[36m\u001b[1m[ \u001b[22m\u001b[39m\u001b[36m\u001b[1mInfo: \u001b[22m\u001b[39mLoading LIBSVM dataset 'a2a'...\n"
          ]
        },
        {
          "name": "stdout",
          "output_type": "stream",
          "text": [
            "Downloading the dataset a2a...\n"
          ]
        },
        {
          "name": "stderr",
          "output_type": "stream",
          "text": [
            "* Couldn't find host www.csie.ntu.edu.tw in the .netrc file; using defaults\n",
            "* Host www.csie.ntu.edu.tw:443 was resolved.\n",
            "* IPv6: (none)\n",
            "* IPv4: 140.112.30.26\n",
            "*   Trying 140.112.30.26:443...\n",
            "* Connected to www.csie.ntu.edu.tw (140.112.30.26) port 443\n",
            "* mbedTLS: Connecting to www.csie.ntu.edu.tw:443\n",
            "* mbedTLS: Set min SSL version to TLS 1.0\n",
            "* ALPN: curl offers h2,http/1.1\n",
            "* mbedTLS: Handshake complete, cipher is TLS-ECDHE-RSA-WITH-AES-128-GCM-SHA256\n",
            "* Dumping cert info: * cert. version     : 3\n",
            "* serial number     : 47:E8:00:00:00:07:87:FE:49:35:DC:01:F3:CD:23:5B\n",
            "* issuer name       : C=TW, O=TAIWAN-CA, CN=TWCA Secure SSL Certification Authority\n",
            "* subject name      : C=TW, ST=Taiwan, L=Taipei, O=National Taiwan University, CN=*.csie.ntu.edu.tw\n",
            "* issued  on        : 2024-10-16 09:35:59\n",
            "* expires on        : 2025-11-03 15:59:59\n",
            "* signed using      : RSA with SHA-256\n",
            "* RSA key size      : 2048 bits\n",
            "* basic constraints : CA=false\n",
            "* subject alt name  :\n",
            "*     dNSName : *.csie.ntu.edu.tw\n",
            "*     dNSName : csie.ntu.edu.tw\n",
            "* key usage         : Digital Signature, Key Encipherment\n",
            "* ext key usage     : TLS Web Server Authentication, TLS Web Client Authentication\n",
            "* certificate policies : ???, ???\n",
            "\n",
            "* ALPN: server did not agree on a protocol. Uses default.\n",
            "* SSL connected\n",
            "* using HTTP/1.x\n",
            "> GET /~cjlin/libsvmtools/datasets/binary/a2a HTTP/1.1\n",
            "Host: www.csie.ntu.edu.tw\n",
            "Accept: */*\n",
            "User-Agent: curl/8.6.0 julia/1.11\n",
            "\n",
            "< HTTP/1.1 200 OK\n",
            "< Date: Sat, 30 Aug 2025 19:26:41 GMT\n",
            "< Server: Apache/2.4.57 (Debian)\n",
            "< Strict-Transport-Security: max-age=31536000; includeSubDomains\n",
            "< Last-Modified: Wed, 08 Jun 2005 06:29:24 GMT\n",
            "< ETag: \"27905-3f9020ed19900\"\n",
            "< Accept-Ranges: bytes\n",
            "< Content-Length: 162053\n",
            "< \n"
          ]
        },
        {
          "name": "stdout",
          "output_type": "stream",
          "text": [
            "Loading the dataset...\n"
          ]
        },
        {
          "name": "stderr",
          "output_type": "stream",
          "text": [
            "* Connection #0 to host www.csie.ntu.edu.tw left intact\n",
            "\r0.0%┣                                             ┫ 0/2.3k [00:00<00:00, -0s/it]\n",
            "\u001b[1A"
          ]
        },
        {
          "name": "stdout",
          "output_type": "stream",
          "text": [
            "\n",
            "🚀 Starting VDCG...\n",
            "Initial solution: f(x) = 0.956188\n"
          ]
        },
        {
          "name": "stderr",
          "output_type": "stream",
          "text": [
            "\r98.7%┣█████████████████████████████████████▌┫ 2.2k/2.3k [00:00<00:00, 44.5kit/s]\n",
            "\u001b[1A\r100.0%┣█████████████████████████████████████┫ 2.3k/2.3k [00:00<00:00, 42.8kit/s]\n",
            "\u001b[1A\r100.0%┣█████████████████████████████████████┫ 2.3k/2.3k [00:00<00:00, 42.6kit/s]\n",
            "\u001b[36m\u001b[1m[ \u001b[22m\u001b[39m\u001b[36m\u001b[1mInfo: \u001b[22m\u001b[39mData loaded: 2265 samples, 123 features\n",
            "\u001b[36m\u001b[1m[ \u001b[22m\u001b[39m\u001b[36m\u001b[1mInfo: \u001b[22m\u001b[39mInitial point x0 set on L1-ball boundary\n"
          ]
        },
        {
          "name": "stdout",
          "output_type": "stream",
          "text": [
            "→ VDCG Level 1: 2 sites, Current best f(x) = 0.956188\n"
          ]
        },
        {
          "name": "stderr",
          "output_type": "stream",
          "text": [
            "\u001b[36m\u001b[1m[ \u001b[22m\u001b[39m\u001b[36m\u001b[1mInfo: \u001b[22m\u001b[39mDistance between x0 and x_init: 37.56932286044644\n",
            "\u001b[36m\u001b[1m[ \u001b[22m\u001b[39m\u001b[36m\u001b[1mInfo: \u001b[22m\u001b[39mInterior point LP: τ = -705.7270101, Status = Interior\n",
            "\u001b[36m\u001b[1m[ \u001b[22m\u001b[39m\u001b[36m\u001b[1mInfo: \u001b[22m\u001b[39mCell 1: New point not added, obj = 0.956188, min distance = 0.0, better = false\n"
          ]
        },
        {
          "name": "stdout",
          "output_type": "stream",
          "text": [
            "  New point found: f(x) = 0.998179\n",
            "  ✅ Level 1 completed in 1.6162 sec | Best objective so far: 0.956188\n"
          ]
        },
        {
          "name": "stderr",
          "output_type": "stream",
          "text": [
            "\u001b[36m\u001b[1m[ \u001b[22m\u001b[39m\u001b[36m\u001b[1mInfo: \u001b[22m\u001b[39mInterior point LP: τ = -2972.24044726, Status = Interior\n"
          ]
        },
        {
          "name": "stdout",
          "output_type": "stream",
          "text": [
            "→ VDCG Level 2: 3 sites, Current best f(x) = 0.956188\n"
          ]
        },
        {
          "name": "stderr",
          "output_type": "stream",
          "text": [
            "\u001b[36m\u001b[1m[ \u001b[22m\u001b[39m\u001b[36m\u001b[1mInfo: \u001b[22m\u001b[39mInterior point LP: τ = -705.7270101, Status = Interior\n",
            "\u001b[36m\u001b[1m[ \u001b[22m\u001b[39m\u001b[36m\u001b[1mInfo: \u001b[22m\u001b[39mCell 1: New point not added, obj = 0.956188, min distance = 0.0, better = false\n"
          ]
        },
        {
          "name": "stdout",
          "output_type": "stream",
          "text": [
            "  New point found: f(x) = 0.943416\n"
          ]
        },
        {
          "name": "stderr",
          "output_type": "stream",
          "text": [
            "\u001b[36m\u001b[1m[ \u001b[22m\u001b[39m\u001b[36m\u001b[1mInfo: \u001b[22m\u001b[39mInterior point LP: τ = -504.38939402, Status = Interior\n",
            "\u001b[36m\u001b[1m[ \u001b[22m\u001b[39m\u001b[36m\u001b[1mInfo: \u001b[22m\u001b[39mInterior point LP: τ = -1293.67643653, Status = Interior\n",
            "\u001b[36m\u001b[1m[ \u001b[22m\u001b[39m\u001b[36m\u001b[1mInfo: \u001b[22m\u001b[39mCell 3: New point not added, obj = 0.998179, min distance = 0.0, better = false\n"
          ]
        },
        {
          "name": "stdout",
          "output_type": "stream",
          "text": [
            "  ✅ Level 2 completed in 1.4128 sec | Best objective so far: 0.943416\n",
            "→ VDCG Level 3: 4 sites, Current best f(x) = 0.943416\n"
          ]
        },
        {
          "name": "stderr",
          "output_type": "stream",
          "text": [
            "\u001b[36m\u001b[1m[ \u001b[22m\u001b[39m\u001b[36m\u001b[1mInfo: \u001b[22m\u001b[39mInterior point LP: τ = -705.7270101, Status = Interior\n",
            "\u001b[36m\u001b[1m[ \u001b[22m\u001b[39m\u001b[36m\u001b[1mInfo: \u001b[22m\u001b[39mCell 1: New point not added, obj = 0.956188, min distance = 0.0, better = false\n"
          ]
        },
        {
          "name": "stdout",
          "output_type": "stream",
          "text": [
            "  New point found: f(x) = 0.946023\n"
          ]
        },
        {
          "name": "stderr",
          "output_type": "stream",
          "text": [
            "\u001b[36m\u001b[1m[ \u001b[22m\u001b[39m\u001b[36m\u001b[1mInfo: \u001b[22m\u001b[39mInterior point LP: τ = -260.35863418, Status = Interior\n",
            "\u001b[36m\u001b[1m[ \u001b[22m\u001b[39m\u001b[36m\u001b[1mInfo: \u001b[22m\u001b[39mInterior point LP: τ = -594.10700233, Status = Interior\n",
            "\u001b[36m\u001b[1m[ \u001b[22m\u001b[39m\u001b[36m\u001b[1mInfo: \u001b[22m\u001b[39mCell 3: New point not added, obj = 0.998179, min distance = 0.0, better = false\n"
          ]
        },
        {
          "name": "stdout",
          "output_type": "stream",
          "text": [
            "  New point found: f(x) = 0.966687\n",
            "  ✅ Level 3 completed in 1.7757 sec | Best objective so far: 0.943416\n"
          ]
        },
        {
          "name": "stderr",
          "output_type": "stream",
          "text": [
            "\u001b[36m\u001b[1m[ \u001b[22m\u001b[39m\u001b[36m\u001b[1mInfo: \u001b[22m\u001b[39mInterior point LP: τ = -160.3953179, Status = Interior\n"
          ]
        },
        {
          "name": "stdout",
          "output_type": "stream",
          "text": [
            "→ VDCG Level 4: 6 sites, Current best f(x) = 0.943416\n"
          ]
        },
        {
          "name": "stderr",
          "output_type": "stream",
          "text": [
            "\u001b[36m\u001b[1m[ \u001b[22m\u001b[39m\u001b[36m\u001b[1mInfo: \u001b[22m\u001b[39mInterior point LP: τ = -705.7270101, Status = Interior\n",
            "\u001b[36m\u001b[1m[ \u001b[22m\u001b[39m\u001b[36m\u001b[1mInfo: \u001b[22m\u001b[39mCell 1: New point not added, obj = 0.956188, min distance = 0.0, better = false\n"
          ]
        },
        {
          "name": "stdout",
          "output_type": "stream",
          "text": [
            "  New point found: f(x) = 0.945831\n"
          ]
        },
        {
          "name": "stderr",
          "output_type": "stream",
          "text": [
            "\u001b[36m\u001b[1m[ \u001b[22m\u001b[39m\u001b[36m\u001b[1mInfo: \u001b[22m\u001b[39mInterior point LP: τ = -252.87193074, Status = Interior\n",
            "\u001b[36m\u001b[1m[ \u001b[22m\u001b[39m\u001b[36m\u001b[1mInfo: \u001b[22m\u001b[39mInterior point LP: τ = -561.22139502, Status = Interior\n",
            "\u001b[36m\u001b[1m[ \u001b[22m\u001b[39m\u001b[36m\u001b[1mInfo: \u001b[22m\u001b[39mCell 3: New point not added, obj = 0.998179, min distance = 0.0, better = false\n"
          ]
        },
        {
          "name": "stdout",
          "output_type": "stream",
          "text": [
            "  New point found: f(x) = 0.946916\n"
          ]
        },
        {
          "name": "stderr",
          "output_type": "stream",
          "text": [
            "\u001b[36m\u001b[1m[ \u001b[22m\u001b[39m\u001b[36m\u001b[1mInfo: \u001b[22m\u001b[39mInterior point LP: τ = -95.3801664, Status = Interior\n"
          ]
        },
        {
          "name": "stdout",
          "output_type": "stream",
          "text": [
            "  New point found: f(x) = 0.947089\n"
          ]
        },
        {
          "name": "stderr",
          "output_type": "stream",
          "text": [
            "\u001b[36m\u001b[1m[ \u001b[22m\u001b[39m\u001b[36m\u001b[1mInfo: \u001b[22m\u001b[39mInterior point LP: τ = -117.78837566, Status = Interior\n"
          ]
        },
        {
          "name": "stdout",
          "output_type": "stream",
          "text": [
            "  New point found: f(x) = 0.966447\n",
            "  ✅ Level 4 completed in 3.7965 sec | Best objective so far: 0.943416\n"
          ]
        },
        {
          "name": "stderr",
          "output_type": "stream",
          "text": [
            "\u001b[36m\u001b[1m[ \u001b[22m\u001b[39m\u001b[36m\u001b[1mInfo: \u001b[22m\u001b[39mInterior point LP: τ = -415.94962776, Status = Interior\n"
          ]
        },
        {
          "name": "stdout",
          "output_type": "stream",
          "text": [
            "→ VDCG Level 5: 10 sites, Current best f(x) = 0.943416\n"
          ]
        },
        {
          "name": "stderr",
          "output_type": "stream",
          "text": [
            "\u001b[36m\u001b[1m[ \u001b[22m\u001b[39m\u001b[36m\u001b[1mInfo: \u001b[22m\u001b[39mInterior point LP: τ = -705.7270101, Status = Interior\n",
            "\u001b[36m\u001b[1m[ \u001b[22m\u001b[39m\u001b[36m\u001b[1mInfo: \u001b[22m\u001b[39mCell 1: New point not added, obj = 0.956188, min distance = 0.0, better = false\n"
          ]
        },
        {
          "name": "stdout",
          "output_type": "stream",
          "text": [
            "  New point found: f(x) = 0.945307\n"
          ]
        },
        {
          "name": "stderr",
          "output_type": "stream",
          "text": [
            "\u001b[36m\u001b[1m[ \u001b[22m\u001b[39m\u001b[36m\u001b[1mInfo: \u001b[22m\u001b[39mInterior point LP: τ = -247.28604722, Status = Interior\n",
            "\u001b[36m\u001b[1m[ \u001b[22m\u001b[39m\u001b[36m\u001b[1mInfo: \u001b[22m\u001b[39mInterior point LP: τ = -546.99977884, Status = Interior\n",
            "\u001b[36m\u001b[1m[ \u001b[22m\u001b[39m\u001b[36m\u001b[1mInfo: \u001b[22m\u001b[39mCell 3: New point not added, obj = 0.998179, min distance = 0.0, better = false\n"
          ]
        },
        {
          "name": "stdout",
          "output_type": "stream",
          "text": [
            "  New point found: f(x) = 0.967557\n"
          ]
        },
        {
          "name": "stderr",
          "output_type": "stream",
          "text": [
            "\u001b[36m\u001b[1m[ \u001b[22m\u001b[39m\u001b[36m\u001b[1mInfo: \u001b[22m\u001b[39mInterior point LP: τ = -54.15127, Status = Interior\n"
          ]
        },
        {
          "name": "stdout",
          "output_type": "stream",
          "text": [
            "  New point found: f(x) = 0.944104\n"
          ]
        },
        {
          "name": "stderr",
          "output_type": "stream",
          "text": [
            "\u001b[36m\u001b[1m[ \u001b[22m\u001b[39m\u001b[36m\u001b[1mInfo: \u001b[22m\u001b[39mInterior point LP: τ = -52.3070689, Status = Interior\n",
            "\u001b[36m\u001b[1m[ \u001b[22m\u001b[39m\u001b[36m\u001b[1mInfo: \u001b[22m\u001b[39mInterior point LP: τ = -18.1270791, Status = Interior\n",
            "\u001b[36m\u001b[1m[ \u001b[22m\u001b[39m\u001b[36m\u001b[1mInfo: \u001b[22m\u001b[39mCell 6: New point not added, obj = 0.966447, min distance = 0.0, better = false\n"
          ]
        },
        {
          "name": "stdout",
          "output_type": "stream",
          "text": [
            "  New point found: f(x) = 0.944250\n"
          ]
        },
        {
          "name": "stderr",
          "output_type": "stream",
          "text": [
            "\u001b[36m\u001b[1m[ \u001b[22m\u001b[39m\u001b[36m\u001b[1mInfo: \u001b[22m\u001b[39mInterior point LP: τ = -190.03276749, Status = Interior\n"
          ]
        },
        {
          "name": "stdout",
          "output_type": "stream",
          "text": [
            "  New point found: f(x) = 0.944899\n"
          ]
        },
        {
          "name": "stderr",
          "output_type": "stream",
          "text": [
            "\u001b[36m\u001b[1m[ \u001b[22m\u001b[39m\u001b[36m\u001b[1mInfo: \u001b[22m\u001b[39mInterior point LP: τ = -74.2703977, Status = Interior\n",
            "\u001b[36m\u001b[1m[ \u001b[22m\u001b[39m\u001b[36m\u001b[1mInfo: \u001b[22m\u001b[39mInterior point LP: τ = -614.78300615, Status = Interior\n",
            "\u001b[36m\u001b[1m[ \u001b[22m\u001b[39m\u001b[36m\u001b[1mInfo: \u001b[22m\u001b[39mCell 9: New point not added, obj = 0.947089, min distance = 0.0, better = false\n"
          ]
        },
        {
          "name": "stdout",
          "output_type": "stream",
          "text": [
            "  New point found: f(x) = 0.946489\n",
            "  ✅ Level 5 completed in 4.3672 sec | Best objective so far: 0.943416\n"
          ]
        },
        {
          "name": "stderr",
          "output_type": "stream",
          "text": [
            "\u001b[36m\u001b[1m[ \u001b[22m\u001b[39m\u001b[36m\u001b[1mInfo: \u001b[22m\u001b[39mInterior point LP: τ = -27.72651063, Status = Interior\n"
          ]
        },
        {
          "name": "stdout",
          "output_type": "stream",
          "text": [
            "→ VDCG Level 6: 16 sites, Current best f(x) = 0.943416\n"
          ]
        },
        {
          "name": "stderr",
          "output_type": "stream",
          "text": [
            "\u001b[36m\u001b[1m[ \u001b[22m\u001b[39m\u001b[36m\u001b[1mInfo: \u001b[22m\u001b[39mInterior point LP: τ = -705.7270101, Status = Interior\n",
            "\u001b[36m\u001b[1m[ \u001b[22m\u001b[39m\u001b[36m\u001b[1mInfo: \u001b[22m\u001b[39mCell 1: New point not added, obj = 0.956188, min distance = 0.0, better = false\n"
          ]
        },
        {
          "name": "stdout",
          "output_type": "stream",
          "text": [
            "  New point found: f(x) = 0.947242\n"
          ]
        },
        {
          "name": "stderr",
          "output_type": "stream",
          "text": [
            "\u001b[36m\u001b[1m[ \u001b[22m\u001b[39m\u001b[36m\u001b[1mInfo: \u001b[22m\u001b[39mInterior point LP: τ = -241.85960418, Status = Interior\n",
            "\u001b[36m\u001b[1m[ \u001b[22m\u001b[39m\u001b[36m\u001b[1mInfo: \u001b[22m\u001b[39mInterior point LP: τ = -528.16130234, Status = Interior\n",
            "\u001b[36m\u001b[1m[ \u001b[22m\u001b[39m\u001b[36m\u001b[1mInfo: \u001b[22m\u001b[39mCell 3: New point not added, obj = 0.998179, min distance = 0.0, better = false\n"
          ]
        },
        {
          "name": "stdout",
          "output_type": "stream",
          "text": [
            "  New point found: f(x) = 0.949023\n"
          ]
        },
        {
          "name": "stderr",
          "output_type": "stream",
          "text": [
            "\u001b[36m\u001b[1m[ \u001b[22m\u001b[39m\u001b[36m\u001b[1mInfo: \u001b[22m\u001b[39mInterior point LP: τ = -36.15705413, Status = Interior\n"
          ]
        },
        {
          "name": "stdout",
          "output_type": "stream",
          "text": [
            "  New point found: f(x) = 0.945528\n"
          ]
        },
        {
          "name": "stderr",
          "output_type": "stream",
          "text": [
            "\u001b[36m\u001b[1m[ \u001b[22m\u001b[39m\u001b[36m\u001b[1mInfo: \u001b[22m\u001b[39mInterior point LP: τ = -33.54461104, Status = Interior\n",
            "\u001b[36m\u001b[1m[ \u001b[22m\u001b[39m\u001b[36m\u001b[1mInfo: \u001b[22m\u001b[39mInterior point LP: τ = -18.1270791, Status = Interior\n",
            "\u001b[36m\u001b[1m[ \u001b[22m\u001b[39m\u001b[36m\u001b[1mInfo: \u001b[22m\u001b[39mCell 6: New point not added, obj = 0.966447, min distance = 0.0, better = false\n"
          ]
        },
        {
          "name": "stdout",
          "output_type": "stream",
          "text": [
            "  New point found: f(x) = 0.943064\n"
          ]
        },
        {
          "name": "stderr",
          "output_type": "stream",
          "text": [
            "\u001b[36m\u001b[1m[ \u001b[22m\u001b[39m\u001b[36m\u001b[1mInfo: \u001b[22m\u001b[39mInterior point LP: τ = -52.40750584, Status = Interior\n",
            "\u001b[36m\u001b[1m[ \u001b[22m\u001b[39m\u001b[36m\u001b[1mInfo: \u001b[22m\u001b[39mInterior point LP: τ = -43.58225869, Status = Interior\n",
            "\u001b[36m\u001b[1m[ \u001b[22m\u001b[39m\u001b[36m\u001b[1mInfo: \u001b[22m\u001b[39mCell 8: New point not added, obj = 0.946916, min distance = 0.0, better = false\n",
            "\u001b[36m\u001b[1m[ \u001b[22m\u001b[39m\u001b[36m\u001b[1mInfo: \u001b[22m\u001b[39mInterior point LP: τ = -591.39981718, Status = Interior\n",
            "\u001b[36m\u001b[1m[ \u001b[22m\u001b[39m\u001b[36m\u001b[1mInfo: \u001b[22m\u001b[39mCell 9: New point not added, obj = 0.947089, min distance = 0.0, better = false\n"
          ]
        },
        {
          "name": "stdout",
          "output_type": "stream",
          "text": [
            "  New point found: f(x) = 0.945828\n"
          ]
        },
        {
          "name": "stderr",
          "output_type": "stream",
          "text": [
            "\u001b[36m\u001b[1m[ \u001b[22m\u001b[39m\u001b[36m\u001b[1mInfo: \u001b[22m\u001b[39mInterior point LP: τ = -27.54995171, Status = Interior\n"
          ]
        },
        {
          "name": "stdout",
          "output_type": "stream",
          "text": [
            "  New point found: f(x) = 0.943985\n"
          ]
        },
        {
          "name": "stderr",
          "output_type": "stream",
          "text": [
            "\u001b[36m\u001b[1m[ \u001b[22m\u001b[39m\u001b[36m\u001b[1mInfo: \u001b[22m\u001b[39mInterior point LP: τ = -194.06804463, Status = Interior\n"
          ]
        },
        {
          "name": "stdout",
          "output_type": "stream",
          "text": [
            "  New point found: f(x) = 1.000000\n",
            "  New point found: f(x) = 0.952543\n"
          ]
        },
        {
          "name": "stderr",
          "output_type": "stream",
          "text": [
            "\u001b[36m\u001b[1m[ \u001b[22m\u001b[39m\u001b[36m\u001b[1mInfo: \u001b[22m\u001b[39mInterior point LP: τ = -375.92779674, Status = Interior\n",
            "\u001b[36m\u001b[1m[ \u001b[22m\u001b[39m\u001b[36m\u001b[1mInfo: \u001b[22m\u001b[39mInterior point LP: τ = -103.40277351, Status = Interior\n"
          ]
        },
        {
          "name": "stdout",
          "output_type": "stream",
          "text": [
            "  New point found: f(x) = 0.944319\n"
          ]
        },
        {
          "name": "stderr",
          "output_type": "stream",
          "text": [
            "\u001b[36m\u001b[1m[ \u001b[22m\u001b[39m\u001b[36m\u001b[1mInfo: \u001b[22m\u001b[39mInterior point LP: τ = -347.03189777, Status = Interior\n"
          ]
        },
        {
          "name": "stdout",
          "output_type": "stream",
          "text": [
            "  New point found: f(x) = 0.944258\n"
          ]
        },
        {
          "name": "stderr",
          "output_type": "stream",
          "text": [
            "\u001b[36m\u001b[1m[ \u001b[22m\u001b[39m\u001b[36m\u001b[1mInfo: \u001b[22m\u001b[39mInterior point LP: τ = -25.83048143, Status = Interior\n"
          ]
        },
        {
          "name": "stdout",
          "output_type": "stream",
          "text": [
            "  New point found: f(x) = 0.966100\n",
            "  ✅ Level 6 completed in 7.2997 sec | Best objective so far: 0.943064\n"
          ]
        },
        {
          "name": "stderr",
          "output_type": "stream",
          "text": [
            "\u001b[36m\u001b[1m[ \u001b[22m\u001b[39m\u001b[36m\u001b[1mInfo: \u001b[22m\u001b[39mInterior point LP: τ = -21.41943409, Status = Interior\n"
          ]
        },
        {
          "name": "stdout",
          "output_type": "stream",
          "text": [
            "→ VDCG Level 7: 27 sites, Current best f(x) = 0.943064\n"
          ]
        },
        {
          "name": "stderr",
          "output_type": "stream",
          "text": [
            "\u001b[36m\u001b[1m[ \u001b[22m\u001b[39m\u001b[36m\u001b[1mInfo: \u001b[22m\u001b[39mInterior point LP: τ = -705.7270101, Status = Interior\n",
            "\u001b[36m\u001b[1m[ \u001b[22m\u001b[39m\u001b[36m\u001b[1mInfo: \u001b[22m\u001b[39mCell 1: New point not added, obj = 0.956188, min distance = 0.0, better = false\n"
          ]
        },
        {
          "name": "stdout",
          "output_type": "stream",
          "text": [
            "  New point found: f(x) = 0.947079\n"
          ]
        },
        {
          "name": "stderr",
          "output_type": "stream",
          "text": [
            "\u001b[36m\u001b[1m[ \u001b[22m\u001b[39m\u001b[36m\u001b[1mInfo: \u001b[22m\u001b[39mInterior point LP: τ = -235.39148374, Status = Interior\n",
            "\u001b[36m\u001b[1m[ \u001b[22m\u001b[39m\u001b[36m\u001b[1mInfo: \u001b[22m\u001b[39mInterior point LP: τ = -528.16130234, Status = Interior\n",
            "\u001b[36m\u001b[1m[ \u001b[22m\u001b[39m\u001b[36m\u001b[1mInfo: \u001b[22m\u001b[39mCell 3: New point not added, obj = 0.998179, min distance = 0.0, better = false\n"
          ]
        },
        {
          "name": "stdout",
          "output_type": "stream",
          "text": [
            "  New point found: f(x) = 0.943636\n"
          ]
        },
        {
          "name": "stderr",
          "output_type": "stream",
          "text": [
            "\u001b[36m\u001b[1m[ \u001b[22m\u001b[39m\u001b[36m\u001b[1mInfo: \u001b[22m\u001b[39mInterior point LP: τ = -29.24935504, Status = Interior\n"
          ]
        },
        {
          "name": "stdout",
          "output_type": "stream",
          "text": [
            "  New point found: f(x) = 0.947062\n"
          ]
        },
        {
          "name": "stderr",
          "output_type": "stream",
          "text": [
            "\u001b[36m\u001b[1m[ \u001b[22m\u001b[39m\u001b[36m\u001b[1mInfo: \u001b[22m\u001b[39mInterior point LP: τ = -23.79972079, Status = Interior\n",
            "\u001b[36m\u001b[1m[ \u001b[22m\u001b[39m\u001b[36m\u001b[1mInfo: \u001b[22m\u001b[39mInterior point LP: τ = -18.1270791, Status = Interior\n",
            "\u001b[36m\u001b[1m[ \u001b[22m\u001b[39m\u001b[36m\u001b[1mInfo: \u001b[22m\u001b[39mCell 6: New point not added, obj = 0.966447, min distance = 0.0, better = false\n"
          ]
        },
        {
          "name": "stdout",
          "output_type": "stream",
          "text": [
            "  New point found: f(x) = 0.952873\n"
          ]
        },
        {
          "name": "stderr",
          "output_type": "stream",
          "text": [
            "\u001b[36m\u001b[1m[ \u001b[22m\u001b[39m\u001b[36m\u001b[1mInfo: \u001b[22m\u001b[39mInterior point LP: τ = -43.07046388, Status = Interior\n",
            "\u001b[36m\u001b[1m[ \u001b[22m\u001b[39m\u001b[36m\u001b[1mInfo: \u001b[22m\u001b[39mInterior point LP: τ = -43.58225869, Status = Interior\n",
            "\u001b[36m\u001b[1m[ \u001b[22m\u001b[39m\u001b[36m\u001b[1mInfo: \u001b[22m\u001b[39mCell 8: New point not added, obj = 0.946916, min distance = 0.0, better = false\n",
            "\u001b[36m\u001b[1m[ \u001b[22m\u001b[39m\u001b[36m\u001b[1mInfo: \u001b[22m\u001b[39mInterior point LP: τ = -568.06273176, Status = Interior\n",
            "\u001b[36m\u001b[1m[ \u001b[22m\u001b[39m\u001b[36m\u001b[1mInfo: \u001b[22m\u001b[39mCell 9: New point not added, obj = 0.947089, min distance = 0.0, better = false\n",
            "\u001b[36m\u001b[1m[ \u001b[22m\u001b[39m\u001b[36m\u001b[1mInfo: \u001b[22m\u001b[39mInterior point LP: τ = -27.54995171, Status = Interior\n",
            "\u001b[36m\u001b[1m[ \u001b[22m\u001b[39m\u001b[36m\u001b[1mInfo: \u001b[22m\u001b[39mCell 10: New point not added, obj = 0.945828, min distance = 0.0, better = false\n"
          ]
        },
        {
          "name": "stdout",
          "output_type": "stream",
          "text": [
            "  New point found: f(x) = 0.954197\n"
          ]
        },
        {
          "name": "stderr",
          "output_type": "stream",
          "text": [
            "\u001b[36m\u001b[1m[ \u001b[22m\u001b[39m\u001b[36m\u001b[1mInfo: \u001b[22m\u001b[39mInterior point LP: τ = -47.29314165, Status = Interior\n"
          ]
        },
        {
          "name": "stdout",
          "output_type": "stream",
          "text": [
            "  New point found: f(x) = 2.935541\n",
            "  New point found: f(x) = 0.945646\n"
          ]
        },
        {
          "name": "stderr",
          "output_type": "stream",
          "text": [
            "\u001b[36m\u001b[1m[ \u001b[22m\u001b[39m\u001b[36m\u001b[1mInfo: \u001b[22m\u001b[39mInterior point LP: τ = -186.81539371, Status = Interior\n",
            "\u001b[36m\u001b[1m[ \u001b[22m\u001b[39m\u001b[36m\u001b[1mInfo: \u001b[22m\u001b[39mInterior point LP: τ = -42.87676027, Status = Interior\n"
          ]
        },
        {
          "name": "stdout",
          "output_type": "stream",
          "text": [
            "  New point found: f(x) = 0.944603\n"
          ]
        },
        {
          "name": "stderr",
          "output_type": "stream",
          "text": [
            "\u001b[36m\u001b[1m[ \u001b[22m\u001b[39m\u001b[36m\u001b[1mInfo: \u001b[22m\u001b[39mInterior point LP: τ = -18.43841139, Status = Interior\n"
          ]
        },
        {
          "name": "stdout",
          "output_type": "stream",
          "text": [
            "  New point found: f(x) = 0.943158\n"
          ]
        },
        {
          "name": "stderr",
          "output_type": "stream",
          "text": [
            "\u001b[36m\u001b[1m[ \u001b[22m\u001b[39m\u001b[36m\u001b[1mInfo: \u001b[22m\u001b[39mInterior point LP: τ = -14.02474255, Status = Interior\n"
          ]
        },
        {
          "name": "stdout",
          "output_type": "stream",
          "text": [
            "  New point found: f(x) = 0.944480\n"
          ]
        },
        {
          "name": "stderr",
          "output_type": "stream",
          "text": [
            "\u001b[36m\u001b[1m[ \u001b[22m\u001b[39m\u001b[36m\u001b[1mInfo: \u001b[22m\u001b[39mInterior point LP: τ = -9.7912121, Status = Interior\n"
          ]
        },
        {
          "name": "stdout",
          "output_type": "stream",
          "text": [
            "  New point found: f(x) = 0.944191\n"
          ]
        },
        {
          "name": "stderr",
          "output_type": "stream",
          "text": [
            "\u001b[36m\u001b[1m[ \u001b[22m\u001b[39m\u001b[36m\u001b[1mInfo: \u001b[22m\u001b[39mInterior point LP: τ = -160.7622094, Status = Interior\n"
          ]
        },
        {
          "name": "stdout",
          "output_type": "stream",
          "text": [
            "  New point found: f(x) = 0.950193\n"
          ]
        },
        {
          "name": "stderr",
          "output_type": "stream",
          "text": [
            "\u001b[36m\u001b[1m[ \u001b[22m\u001b[39m\u001b[36m\u001b[1mInfo: \u001b[22m\u001b[39mInterior point LP: τ = -283.97614319, Status = Interior\n"
          ]
        },
        {
          "name": "stdout",
          "output_type": "stream",
          "text": [
            "  New point found: f(x) = 0.947224\n"
          ]
        },
        {
          "name": "stderr",
          "output_type": "stream",
          "text": [
            "\u001b[36m\u001b[1m[ \u001b[22m\u001b[39m\u001b[36m\u001b[1mInfo: \u001b[22m\u001b[39mInterior point LP: τ = -44.58814307, Status = Interior\n"
          ]
        },
        {
          "name": "stdout",
          "output_type": "stream",
          "text": [
            "  New point found: f(x) = 0.944852\n"
          ]
        },
        {
          "name": "stderr",
          "output_type": "stream",
          "text": [
            "\u001b[36m\u001b[1m[ \u001b[22m\u001b[39m\u001b[36m\u001b[1mInfo: \u001b[22m\u001b[39mInterior point LP: τ = -32.47728242, Status = Interior\n"
          ]
        },
        {
          "name": "stdout",
          "output_type": "stream",
          "text": [
            "  New point found: f(x) = 0.946269\n"
          ]
        },
        {
          "name": "stderr",
          "output_type": "stream",
          "text": [
            "\u001b[36m\u001b[1m[ \u001b[22m\u001b[39m\u001b[36m\u001b[1mInfo: \u001b[22m\u001b[39mInterior point LP: τ = -8.10842424, Status = Interior\n",
            "\u001b[36m\u001b[1m[ \u001b[22m\u001b[39m\u001b[36m\u001b[1mInfo: \u001b[22m\u001b[39mInterior point LP: τ = -365.88182409, Status = Interior\n",
            "\u001b[36m\u001b[1m[ \u001b[22m\u001b[39m\u001b[36m\u001b[1mInfo: \u001b[22m\u001b[39mCell 22: New point not added, obj = 0.943985, min distance = 0.0, better = false\n"
          ]
        },
        {
          "name": "stdout",
          "output_type": "stream",
          "text": [
            "  New point found: f(x) = 1.000000\n"
          ]
        },
        {
          "name": "stderr",
          "output_type": "stream",
          "text": [
            "\u001b[36m\u001b[1m[ \u001b[22m\u001b[39m\u001b[36m\u001b[1mInfo: \u001b[22m\u001b[39mInterior point LP: τ = -496.1264687, Status = Interior\n",
            "\u001b[36m\u001b[1m[ \u001b[22m\u001b[39m\u001b[36m\u001b[1mInfo: \u001b[22m\u001b[39mInterior point LP: τ = -423.87888301, Status = Interior\n",
            "\u001b[36m\u001b[1m[ \u001b[22m\u001b[39m\u001b[36m\u001b[1mInfo: \u001b[22m\u001b[39mCell 24: New point not added, obj = 0.952543, min distance = 0.0, better = false\n",
            "\u001b[36m\u001b[1m[ \u001b[22m\u001b[39m\u001b[36m\u001b[1mInfo: \u001b[22m\u001b[39mInterior point LP: τ = -23.56895592, Status = Interior\n",
            "\u001b[36m\u001b[1m[ \u001b[22m\u001b[39m\u001b[36m\u001b[1mInfo: \u001b[22m\u001b[39mCell 25: New point not added, obj = 0.944319, min distance = 0.0, better = false\n"
          ]
        },
        {
          "name": "stdout",
          "output_type": "stream",
          "text": [
            "  New point found: f(x) = 0.947046\n"
          ]
        },
        {
          "name": "stderr",
          "output_type": "stream",
          "text": [
            "\u001b[36m\u001b[1m[ \u001b[22m\u001b[39m\u001b[36m\u001b[1mInfo: \u001b[22m\u001b[39mInterior point LP: τ = -91.12167143, Status = Interior\n"
          ]
        },
        {
          "name": "stdout",
          "output_type": "stream",
          "text": [
            "  New point found: f(x) = 0.967018\n",
            "  ✅ Level 7 completed in 12.2547 sec | Best objective so far: 0.943064\n"
          ]
        },
        {
          "name": "stderr",
          "output_type": "stream",
          "text": [
            "\u001b[36m\u001b[1m[ \u001b[22m\u001b[39m\u001b[36m\u001b[1mInfo: \u001b[22m\u001b[39mInterior point LP: τ = -541.25647737, Status = Interior\n"
          ]
        },
        {
          "name": "stdout",
          "output_type": "stream",
          "text": [
            "→ VDCG Level 8: 45 sites, Current best f(x) = 0.943064\n"
          ]
        },
        {
          "name": "stderr",
          "output_type": "stream",
          "text": [
            "\u001b[36m\u001b[1m[ \u001b[22m\u001b[39m\u001b[36m\u001b[1mInfo: \u001b[22m\u001b[39mInterior point LP: τ = -705.7270101, Status = Interior\n",
            "\u001b[36m\u001b[1m[ \u001b[22m\u001b[39m\u001b[36m\u001b[1mInfo: \u001b[22m\u001b[39mCell 1: New point not added, obj = 0.956188, min distance = 0.0, better = false\n"
          ]
        },
        {
          "name": "stdout",
          "output_type": "stream",
          "text": [
            "  New point found: f(x) = 0.947690\n"
          ]
        },
        {
          "name": "stderr",
          "output_type": "stream",
          "text": [
            "\u001b[36m\u001b[1m[ \u001b[22m\u001b[39m\u001b[36m\u001b[1mInfo: \u001b[22m\u001b[39mInterior point LP: τ = -234.57776978, Status = Interior\n",
            "\u001b[36m\u001b[1m[ \u001b[22m\u001b[39m\u001b[36m\u001b[1mInfo: \u001b[22m\u001b[39mInterior point LP: τ = -510.05216085, Status = Interior\n",
            "\u001b[36m\u001b[1m[ \u001b[22m\u001b[39m\u001b[36m\u001b[1mInfo: \u001b[22m\u001b[39mCell 3: New point not added, obj = 0.998179, min distance = 0.0, better = false\n"
          ]
        },
        {
          "name": "stdout",
          "output_type": "stream",
          "text": [
            "  New point found: f(x) = 0.944535\n"
          ]
        },
        {
          "name": "stderr",
          "output_type": "stream",
          "text": [
            "\u001b[36m\u001b[1m[ \u001b[22m\u001b[39m\u001b[36m\u001b[1mInfo: \u001b[22m\u001b[39mInterior point LP: τ = -24.67193813, Status = Interior\n"
          ]
        },
        {
          "name": "stdout",
          "output_type": "stream",
          "text": [
            "  New point found: f(x) = 0.944729\n"
          ]
        },
        {
          "name": "stderr",
          "output_type": "stream",
          "text": [
            "\u001b[36m\u001b[1m[ \u001b[22m\u001b[39m\u001b[36m\u001b[1mInfo: \u001b[22m\u001b[39mInterior point LP: τ = -19.04592445, Status = Interior\n",
            "\u001b[36m\u001b[1m[ \u001b[22m\u001b[39m\u001b[36m\u001b[1mInfo: \u001b[22m\u001b[39mInterior point LP: τ = -18.1270791, Status = Interior\n",
            "\u001b[36m\u001b[1m[ \u001b[22m\u001b[39m\u001b[36m\u001b[1mInfo: \u001b[22m\u001b[39mCell 6: New point not added, obj = 0.966447, min distance = 0.0, better = false\n"
          ]
        },
        {
          "name": "stdout",
          "output_type": "stream",
          "text": [
            "  New point found: f(x) = 0.944595\n"
          ]
        },
        {
          "name": "stderr",
          "output_type": "stream",
          "text": [
            "\u001b[36m\u001b[1m[ \u001b[22m\u001b[39m\u001b[36m\u001b[1mInfo: \u001b[22m\u001b[39mInterior point LP: τ = -38.96105531, Status = Interior\n",
            "\u001b[36m\u001b[1m[ \u001b[22m\u001b[39m\u001b[36m\u001b[1mInfo: \u001b[22m\u001b[39mInterior point LP: τ = -43.58225869, Status = Interior\n",
            "\u001b[36m\u001b[1m[ \u001b[22m\u001b[39m\u001b[36m\u001b[1mInfo: \u001b[22m\u001b[39mCell 8: New point not added, obj = 0.946916, min distance = 0.0, better = false\n",
            "\u001b[36m\u001b[1m[ \u001b[22m\u001b[39m\u001b[36m\u001b[1mInfo: \u001b[22m\u001b[39mInterior point LP: τ = -568.06273176, Status = Interior\n",
            "\u001b[36m\u001b[1m[ \u001b[22m\u001b[39m\u001b[36m\u001b[1mInfo: \u001b[22m\u001b[39mCell 9: New point not added, obj = 0.947089, min distance = 0.0, better = false\n",
            "\u001b[36m\u001b[1m[ \u001b[22m\u001b[39m\u001b[36m\u001b[1mInfo: \u001b[22m\u001b[39mInterior point LP: τ = -27.54995171, Status = Interior\n",
            "\u001b[36m\u001b[1m[ \u001b[22m\u001b[39m\u001b[36m\u001b[1mInfo: \u001b[22m\u001b[39mCell 10: New point not added, obj = 0.945828, min distance = 0.0, better = false\n"
          ]
        },
        {
          "name": "stdout",
          "output_type": "stream",
          "text": [
            "  New point found: f(x) = 0.943565\n"
          ]
        },
        {
          "name": "stderr",
          "output_type": "stream",
          "text": [
            "\u001b[36m\u001b[1m[ \u001b[22m\u001b[39m\u001b[36m\u001b[1mInfo: \u001b[22m\u001b[39mInterior point LP: τ = -39.64394466, Status = Interior\n"
          ]
        },
        {
          "name": "stdout",
          "output_type": "stream",
          "text": [
            "  New point found: f(x) = 0.942411\n"
          ]
        },
        {
          "name": "stderr",
          "output_type": "stream",
          "text": [
            "\u001b[36m\u001b[1m[ \u001b[22m\u001b[39m\u001b[36m\u001b[1mInfo: \u001b[22m\u001b[39mInterior point LP: τ = -179.51763048, Status = Interior\n"
          ]
        },
        {
          "name": "stdout",
          "output_type": "stream",
          "text": [
            "  New point found: f(x) = 0.945179\n"
          ]
        },
        {
          "name": "stderr",
          "output_type": "stream",
          "text": [
            "\u001b[36m\u001b[1m[ \u001b[22m\u001b[39m\u001b[36m\u001b[1mInfo: \u001b[22m\u001b[39mInterior point LP: τ = -26.29667497, Status = Interior\n"
          ]
        },
        {
          "name": "stdout",
          "output_type": "stream",
          "text": [
            "  New point found: f(x) = 0.944491\n"
          ]
        },
        {
          "name": "stderr",
          "output_type": "stream",
          "text": [
            "\u001b[36m\u001b[1m[ \u001b[22m\u001b[39m\u001b[36m\u001b[1mInfo: \u001b[22m\u001b[39mInterior point LP: τ = -18.25372077, Status = Interior\n"
          ]
        },
        {
          "name": "stdout",
          "output_type": "stream",
          "text": [
            "  New point found: f(x) = 0.944034\n"
          ]
        },
        {
          "name": "stderr",
          "output_type": "stream",
          "text": [
            "\u001b[36m\u001b[1m[ \u001b[22m\u001b[39m\u001b[36m\u001b[1mInfo: \u001b[22m\u001b[39mInterior point LP: τ = -9.64198276, Status = Interior\n"
          ]
        },
        {
          "name": "stdout",
          "output_type": "stream",
          "text": [
            "  New point found: f(x) = 0.943529\n"
          ]
        },
        {
          "name": "stderr",
          "output_type": "stream",
          "text": [
            "\u001b[36m\u001b[1m[ \u001b[22m\u001b[39m\u001b[36m\u001b[1mInfo: \u001b[22m\u001b[39mInterior point LP: τ = -8.39535877, Status = Interior\n"
          ]
        },
        {
          "name": "stdout",
          "output_type": "stream",
          "text": [
            "  New point found: f(x) = 0.949028\n"
          ]
        },
        {
          "name": "stderr",
          "output_type": "stream",
          "text": [
            "\u001b[36m\u001b[1m[ \u001b[22m\u001b[39m\u001b[36m\u001b[1mInfo: \u001b[22m\u001b[39mInterior point LP: τ = -63.45929421, Status = Interior\n"
          ]
        },
        {
          "name": "stdout",
          "output_type": "stream",
          "text": [
            "  New point found: f(x) = 0.942567\n"
          ]
        },
        {
          "name": "stderr",
          "output_type": "stream",
          "text": [
            "\u001b[36m\u001b[1m[ \u001b[22m\u001b[39m\u001b[36m\u001b[1mInfo: \u001b[22m\u001b[39mInterior point LP: τ = -45.04247448, Status = Interior\n"
          ]
        },
        {
          "name": "stdout",
          "output_type": "stream",
          "text": [
            "  New point found: f(x) = 0.944538\n"
          ]
        },
        {
          "name": "stderr",
          "output_type": "stream",
          "text": [
            "\u001b[36m\u001b[1m[ \u001b[22m\u001b[39m\u001b[36m\u001b[1mInfo: \u001b[22m\u001b[39mInterior point LP: τ = -43.16583277, Status = Interior\n"
          ]
        },
        {
          "name": "stdout",
          "output_type": "stream",
          "text": [
            "  New point found: f(x) = 0.943793\n"
          ]
        },
        {
          "name": "stderr",
          "output_type": "stream",
          "text": [
            "\u001b[36m\u001b[1m[ \u001b[22m\u001b[39m\u001b[36m\u001b[1mInfo: \u001b[22m\u001b[39mInterior point LP: τ = -24.39622332, Status = Interior\n"
          ]
        },
        {
          "name": "stdout",
          "output_type": "stream",
          "text": [
            "  New point found: f(x) = 0.944216\n"
          ]
        },
        {
          "name": "stderr",
          "output_type": "stream",
          "text": [
            "\u001b[36m\u001b[1m[ \u001b[22m\u001b[39m\u001b[36m\u001b[1mInfo: \u001b[22m\u001b[39mInterior point LP: τ = -7.61487445, Status = Interior\n",
            "\u001b[36m\u001b[1m[ \u001b[22m\u001b[39m\u001b[36m\u001b[1mInfo: \u001b[22m\u001b[39mInterior point LP: τ = -365.88182409, Status = Interior\n",
            "\u001b[36m\u001b[1m[ \u001b[22m\u001b[39m\u001b[36m\u001b[1mInfo: \u001b[22m\u001b[39mCell 22: New point not added, obj = 0.943985, min distance = 0.0, better = false\n"
          ]
        },
        {
          "name": "stdout",
          "output_type": "stream",
          "text": [
            "  New point found: f(x) = 1.000000\n"
          ]
        },
        {
          "name": "stderr",
          "output_type": "stream",
          "text": [
            "\u001b[36m\u001b[1m[ \u001b[22m\u001b[39m\u001b[36m\u001b[1mInfo: \u001b[22m\u001b[39mInterior point LP: τ = -18.39558835, Status = Interior\n",
            "\u001b[36m\u001b[1m[ \u001b[22m\u001b[39m\u001b[36m\u001b[1mInfo: \u001b[22m\u001b[39mInterior point LP: τ = -423.87888301, Status = Interior\n",
            "\u001b[36m\u001b[1m[ \u001b[22m\u001b[39m\u001b[36m\u001b[1mInfo: \u001b[22m\u001b[39mCell 24: New point not added, obj = 0.952543, min distance = 0.0, better = false\n",
            "\u001b[36m\u001b[1m[ \u001b[22m\u001b[39m\u001b[36m\u001b[1mInfo: \u001b[22m\u001b[39mInterior point LP: τ = -23.56895592, Status = Interior\n",
            "\u001b[36m\u001b[1m[ \u001b[22m\u001b[39m\u001b[36m\u001b[1mInfo: \u001b[22m\u001b[39mCell 25: New point not added, obj = 0.944319, min distance = 0.0, better = false\n"
          ]
        },
        {
          "name": "stdout",
          "output_type": "stream",
          "text": [
            "  New point found: f(x) = 0.945101\n"
          ]
        },
        {
          "name": "stderr",
          "output_type": "stream",
          "text": [
            "\u001b[36m\u001b[1m[ \u001b[22m\u001b[39m\u001b[36m\u001b[1mInfo: \u001b[22m\u001b[39mInterior point LP: τ = -90.46249602, Status = Interior\n"
          ]
        },
        {
          "name": "stdout",
          "output_type": "stream",
          "text": [
            "  New point found: f(x) = 0.946659\n"
          ]
        },
        {
          "name": "stderr",
          "output_type": "stream",
          "text": [
            "\u001b[36m\u001b[1m[ \u001b[22m\u001b[39m\u001b[36m\u001b[1mInfo: \u001b[22m\u001b[39mInterior point LP: τ = -130.34328248, Status = Interior\n"
          ]
        },
        {
          "name": "stdout",
          "output_type": "stream",
          "text": [
            "  New point found: f(x) = 0.944325\n"
          ]
        },
        {
          "name": "stderr",
          "output_type": "stream",
          "text": [
            "\u001b[36m\u001b[1m[ \u001b[22m\u001b[39m\u001b[36m\u001b[1mInfo: \u001b[22m\u001b[39mInterior point LP: τ = -141.57738717, Status = Interior\n"
          ]
        },
        {
          "name": "stdout",
          "output_type": "stream",
          "text": [
            "  New point found: f(x) = 0.947309\n"
          ]
        },
        {
          "name": "stderr",
          "output_type": "stream",
          "text": [
            "\u001b[36m\u001b[1m[ \u001b[22m\u001b[39m\u001b[36m\u001b[1mInfo: \u001b[22m\u001b[39mInterior point LP: τ = -60.48719287, Status = Interior\n"
          ]
        },
        {
          "name": "stdout",
          "output_type": "stream",
          "text": [
            "  New point found: f(x) = 0.945202\n"
          ]
        },
        {
          "name": "stderr",
          "output_type": "stream",
          "text": [
            "\u001b[36m\u001b[1m[ \u001b[22m\u001b[39m\u001b[36m\u001b[1mInfo: \u001b[22m\u001b[39mInterior point LP: τ = -436.49999515, Status = Interior\n"
          ]
        },
        {
          "name": "stdout",
          "output_type": "stream",
          "text": [
            "  New point found: f(x) = 0.945009\n"
          ]
        },
        {
          "name": "stderr",
          "output_type": "stream",
          "text": [
            "\u001b[36m\u001b[1m[ \u001b[22m\u001b[39m\u001b[36m\u001b[1mInfo: \u001b[22m\u001b[39mInterior point LP: τ = -82.18779887, Status = Interior\n"
          ]
        },
        {
          "name": "stdout",
          "output_type": "stream",
          "text": [
            "  New point found: f(x) = 0.955098\n"
          ]
        },
        {
          "name": "stderr",
          "output_type": "stream",
          "text": [
            "\u001b[36m\u001b[1m[ \u001b[22m\u001b[39m\u001b[36m\u001b[1mInfo: \u001b[22m\u001b[39mInterior point LP: τ = -141.27564106, Status = Interior\n"
          ]
        },
        {
          "name": "stdout",
          "output_type": "stream",
          "text": [
            "  New point found: f(x) = 2.935541\n",
            "  New point found: f(x) = 0.946385\n"
          ]
        },
        {
          "name": "stderr",
          "output_type": "stream",
          "text": [
            "\u001b[36m\u001b[1m[ \u001b[22m\u001b[39m\u001b[36m\u001b[1mInfo: \u001b[22m\u001b[39mInterior point LP: τ = -633.44103967, Status = Interior\n",
            "\u001b[36m\u001b[1m[ \u001b[22m\u001b[39m\u001b[36m\u001b[1mInfo: \u001b[22m\u001b[39mInterior point LP: τ = -28.92757086, Status = Interior\n"
          ]
        },
        {
          "name": "stdout",
          "output_type": "stream",
          "text": [
            "  New point found: f(x) = 0.943508\n"
          ]
        },
        {
          "name": "stderr",
          "output_type": "stream",
          "text": [
            "\u001b[36m\u001b[1m[ \u001b[22m\u001b[39m\u001b[36m\u001b[1mInfo: \u001b[22m\u001b[39mInterior point LP: τ = -11.46853422, Status = Interior\n"
          ]
        },
        {
          "name": "stdout",
          "output_type": "stream",
          "text": [
            "  New point found: f(x) = 0.951473\n"
          ]
        },
        {
          "name": "stderr",
          "output_type": "stream",
          "text": [
            "\u001b[36m\u001b[1m[ \u001b[22m\u001b[39m\u001b[36m\u001b[1mInfo: \u001b[22m\u001b[39mInterior point LP: τ = -202.52690731, Status = Interior\n"
          ]
        },
        {
          "name": "stdout",
          "output_type": "stream",
          "text": [
            "  New point found: f(x) = 1.017734\n"
          ]
        },
        {
          "name": "stderr",
          "output_type": "stream",
          "text": [
            "\u001b[36m\u001b[1m[ \u001b[22m\u001b[39m\u001b[36m\u001b[1mInfo: \u001b[22m\u001b[39mInterior point LP: τ = -67.06276305, Status = Interior\n",
            "\u001b[36m\u001b[1m[ \u001b[22m\u001b[39m\u001b[36m\u001b[1mInfo: \u001b[22m\u001b[39mInterior point LP: τ = -385.33543834, Status = Interior\n",
            "\u001b[36m\u001b[1m[ \u001b[22m\u001b[39m\u001b[36m\u001b[1mInfo: \u001b[22m\u001b[39mCell 38: New point not added, obj = 0.944191, min distance = 0.0, better = false\n",
            "\u001b[36m\u001b[1m[ \u001b[22m\u001b[39m\u001b[36m\u001b[1mInfo: \u001b[22m\u001b[39mInterior point LP: τ = -322.08150264, Status = Interior\n",
            "\u001b[36m\u001b[1m[ \u001b[22m\u001b[39m\u001b[36m\u001b[1mInfo: \u001b[22m\u001b[39mCell 39: New point not added, obj = 0.950193, min distance = 0.0, better = false\n"
          ]
        },
        {
          "name": "stdout",
          "output_type": "stream",
          "text": [
            "  New point found: f(x) = 0.947320\n"
          ]
        },
        {
          "name": "stderr",
          "output_type": "stream",
          "text": [
            "\u001b[36m\u001b[1m[ \u001b[22m\u001b[39m\u001b[36m\u001b[1mInfo: \u001b[22m\u001b[39mInterior point LP: τ = -296.77338256, Status = Interior\n"
          ]
        },
        {
          "name": "stdout",
          "output_type": "stream",
          "text": [
            "  New point found: f(x) = 0.945655\n"
          ]
        },
        {
          "name": "stderr",
          "output_type": "stream",
          "text": [
            "\u001b[36m\u001b[1m[ \u001b[22m\u001b[39m\u001b[36m\u001b[1mInfo: \u001b[22m\u001b[39mInterior point LP: τ = -40.39458108, Status = Interior\n"
          ]
        },
        {
          "name": "stdout",
          "output_type": "stream",
          "text": [
            "  New point found: f(x) = 1.000000\n",
            "  New point found: f(x) = 0.945788\n"
          ]
        },
        {
          "name": "stderr",
          "output_type": "stream",
          "text": [
            "\u001b[36m\u001b[1m[ \u001b[22m\u001b[39m\u001b[36m\u001b[1mInfo: \u001b[22m\u001b[39mInterior point LP: τ = -22.20656462, Status = Interior\n",
            "\u001b[36m\u001b[1m[ \u001b[22m\u001b[39m\u001b[36m\u001b[1mInfo: \u001b[22m\u001b[39mInterior point LP: τ = -15.0433551, Status = Interior\n",
            "\u001b[36m\u001b[1m[ \u001b[22m\u001b[39m\u001b[36m\u001b[1mInfo: \u001b[22m\u001b[39mCell 43: New point not added, obj = 1.0, min distance = 0.0, better = false\n",
            "\u001b[36m\u001b[1m[ \u001b[22m\u001b[39m\u001b[36m\u001b[1mInfo: \u001b[22m\u001b[39mInterior point LP: τ = -23.56200839, Status = Interior\n",
            "\u001b[36m\u001b[1m[ \u001b[22m\u001b[39m\u001b[36m\u001b[1mInfo: \u001b[22m\u001b[39mInterior point LP: τ = -190.62550079, Status = Interior\n",
            "\u001b[36m\u001b[1m[ \u001b[22m\u001b[39m\u001b[36m\u001b[1mInfo: \u001b[22m\u001b[39mCell 45: New point not added, obj = 0.967018, min distance = 0.0, better = false\n"
          ]
        },
        {
          "name": "stdout",
          "output_type": "stream",
          "text": [
            "  ✅ Level 8 completed in 21.6030 sec | Best objective so far: 0.942411\n",
            " 55.489279 seconds (20.38 M allocations: 29.877 GiB, 11.31% gc time, 2.76% compilation time: 13% of which was recompilation)\n",
            "\n",
            "✅ VDCG Best Objective: 0.942411\n",
            "✅ VDCG Total Time: 95.8796 sec, Total Points: 114\n",
            "📊 Running Standard CG...\n",
            "📊 Standard CG Objective: 0.956188\n",
            "🔍 Running Multi-start CG (time-limited)...\n",
            "  Seed 23: f(x) = 0.956188, Time so far: 0.4332 sec, Points: 1\n",
            "  Seed 24: f(x) = 0.948558, Time so far: 0.8886 sec, Points: 2\n",
            "  Seed 25: f(x) = 0.946616, Time so far: 1.3289 sec, Points: 3\n",
            "  Seed 26: f(x) = 0.945308, Time so far: 1.7615 sec, Points: 4\n",
            "  Seed 27: f(x) = 0.949792, Time so far: 2.2321 sec, Points: 5\n",
            "  Seed 28: f(x) = 0.945766, Time so far: 2.6550 sec, Points: 6\n",
            "  Seed 29: f(x) = 0.950026, Time so far: 3.1185 sec, Points: 7\n",
            "  Seed 30: f(x) = 0.953997, Time so far: 3.7084 sec, Points: 8\n",
            "  Seed 31: f(x) = 0.946563, Time so far: 4.4354 sec, Points: 9\n",
            "  Seed 32: f(x) = 0.945797, Time so far: 5.0945 sec, Points: 10\n",
            "  Seed 33: f(x) = 0.949530, Time so far: 5.7522 sec, Points: 11\n",
            "  Seed 34: f(x) = 0.963017, Time so far: 6.3906 sec, Points: 12\n",
            "  Seed 35: f(x) = 0.950295, Time so far: 6.8319 sec, Points: 13\n",
            "  Seed 36: f(x) = 0.946760, Time so far: 7.2827 sec, Points: 14\n",
            "  Seed 37: f(x) = 0.945854, Time so far: 7.7006 sec, Points: 15\n",
            "  Seed 38: f(x) = 0.947708, Time so far: 8.1142 sec, Points: 16\n",
            "  Seed 39: f(x) = 0.945727, Time so far: 8.5564 sec, Points: 17\n",
            "  Seed 40: f(x) = 0.945102, Time so far: 8.9817 sec, Points: 18\n",
            "  Seed 41: f(x) = 0.945481, Time so far: 9.4449 sec, Points: 19\n",
            "  Seed 42: f(x) = 0.950193, Time so far: 9.8790 sec, Points: 20\n",
            "  Seed 43: f(x) = 0.945037, Time so far: 10.3333 sec, Points: 21\n",
            "  Seed 44: f(x) = 0.948558, Time so far: 10.7658 sec, Points: 22\n",
            "  Seed 45: f(x) = 0.951468, Time so far: 11.2042 sec, Points: 23\n",
            "  Seed 46: f(x) = 0.945845, Time so far: 11.6332 sec, Points: 24\n",
            "  Seed 47: f(x) = 0.957083, Time so far: 12.0403 sec, Points: 25\n",
            "  Seed 48: f(x) = 0.947708, Time so far: 12.4670 sec, Points: 26\n",
            "  Seed 49: f(x) = 0.952556, Time so far: 12.8669 sec, Points: 27\n",
            "  Seed 50: f(x) = 0.949015, Time so far: 13.2971 sec, Points: 28\n",
            "  Seed 51: f(x) = 0.945845, Time so far: 13.7451 sec, Points: 29\n",
            "  Seed 52: f(x) = 0.950026, Time so far: 14.1655 sec, Points: 30\n",
            "  Seed 53: f(x) = 0.948372, Time so far: 14.6013 sec, Points: 31\n",
            "  Seed 54: f(x) = 0.945502, Time so far: 15.0108 sec, Points: 32\n",
            "  Seed 55: f(x) = 0.945727, Time so far: 15.4244 sec, Points: 33\n",
            "  Seed 56: f(x) = 0.948644, Time so far: 15.8478 sec, Points: 34\n",
            "  Seed 57: f(x) = 0.948042, Time so far: 16.2540 sec, Points: 35\n",
            "  Seed 58: f(x) = 0.945467, Time so far: 16.8725 sec, Points: 36\n",
            "  Seed 59: f(x) = 0.946280, Time so far: 17.5582 sec, Points: 37\n",
            "  Seed 60: f(x) = 0.947958, Time so far: 18.2711 sec, Points: 38\n",
            "  Seed 61: f(x) = 0.948993, Time so far: 19.0123 sec, Points: 39\n",
            "  Seed 62: f(x) = 0.944777, Time so far: 19.5999 sec, Points: 40\n",
            "  Seed 63: f(x) = 0.949281, Time so far: 20.0589 sec, Points: 41\n",
            "  Seed 64: f(x) = 0.950295, Time so far: 20.4942 sec, Points: 42\n",
            "  Seed 65: f(x) = 0.953974, Time so far: 20.9463 sec, Points: 43\n",
            "  Seed 66: f(x) = 0.946784, Time so far: 21.3756 sec, Points: 44\n",
            "  Seed 67: f(x) = 0.945845, Time so far: 21.8397 sec, Points: 45\n",
            "  Seed 68: f(x) = 0.945636, Time so far: 22.2969 sec, Points: 46\n",
            "  Seed 69: f(x) = 0.945845, Time so far: 22.7395 sec, Points: 47\n",
            "  Seed 70: f(x) = 0.946645, Time so far: 23.1986 sec, Points: 48\n",
            "  Seed 71: f(x) = 0.947057, Time so far: 23.6206 sec, Points: 49\n",
            "  Seed 72: f(x) = 0.947558, Time so far: 24.0412 sec, Points: 50\n",
            "  Seed 73: f(x) = 0.946528, Time so far: 24.4527 sec, Points: 51\n",
            "  Seed 74: f(x) = 0.947164, Time so far: 24.8595 sec, Points: 52\n",
            "  Seed 75: f(x) = 0.945845, Time so far: 25.2815 sec, Points: 53\n",
            "  Seed 76: f(x) = 0.948316, Time so far: 25.6841 sec, Points: 54\n",
            "  Seed 77: f(x) = 0.985489, Time so far: 26.1401 sec, Points: 55\n",
            "  Seed 78: f(x) = 0.945369, Time so far: 26.5802 sec, Points: 56\n",
            "  Seed 79: f(x) = 0.948666, Time so far: 27.0091 sec, Points: 57\n",
            "  Seed 80: f(x) = 0.946005, Time so far: 27.4502 sec, Points: 58\n",
            "  Seed 81: f(x) = 0.990335, Time so far: 27.8914 sec, Points: 59\n",
            "  Seed 82: f(x) = 0.950868, Time so far: 28.3601 sec, Points: 60\n",
            "  Seed 83: f(x) = 0.947421, Time so far: 28.8109 sec, Points: 61\n",
            "  Seed 84: f(x) = 0.945845, Time so far: 29.2632 sec, Points: 62\n",
            "  Seed 85: f(x) = 0.945766, Time so far: 29.8534 sec, Points: 63\n",
            "  Seed 86: f(x) = 0.971482, Time so far: 30.5579 sec, Points: 64\n",
            "  Seed 87: f(x) = 0.945766, Time so far: 31.2584 sec, Points: 65\n",
            "  Seed 88: f(x) = 0.948739, Time so far: 31.9566 sec, Points: 66\n",
            "  Seed 89: f(x) = 0.945854, Time so far: 32.6141 sec, Points: 67\n",
            "  Seed 90: f(x) = 0.948558, Time so far: 33.0483 sec, Points: 68\n",
            "  Seed 91: f(x) = 0.944191, Time so far: 33.5058 sec, Points: 69\n",
            "  Seed 92: f(x) = 0.956908, Time so far: 33.9363 sec, Points: 70\n",
            "  Seed 93: f(x) = 0.948042, Time so far: 34.3838 sec, Points: 71\n",
            "  Seed 94: f(x) = 0.967018, Time so far: 34.8307 sec, Points: 72\n",
            "  Seed 95: f(x) = 0.952393, Time so far: 35.2780 sec, Points: 73\n",
            "  Seed 96: f(x) = 0.945845, Time so far: 35.9557 sec, Points: 74\n",
            "  Seed 97: f(x) = 0.946542, Time so far: 36.4650 sec, Points: 75\n",
            "  Seed 98: f(x) = 0.945143, Time so far: 36.9734 sec, Points: 76\n",
            "  Seed 99: f(x) = 0.949530, Time so far: 37.4963 sec, Points: 77\n",
            "  Seed 100: f(x) = 0.948372, Time so far: 38.0079 sec, Points: 78\n",
            "  Seed 101: f(x) = 0.945230, Time so far: 38.5123 sec, Points: 79\n",
            "  Seed 102: f(x) = 0.946280, Time so far: 39.0193 sec, Points: 80\n",
            "  Seed 103: f(x) = 0.945411, Time so far: 39.5279 sec, Points: 81\n",
            "  Seed 104: f(x) = 0.956188, Time so far: 40.0681 sec, Points: 82\n",
            "  Seed 105: f(x) = 0.944982, Time so far: 40.5909 sec, Points: 83\n",
            "  Seed 106: f(x) = 0.945845, Time so far: 41.1845 sec, Points: 84\n",
            "  Seed 107: f(x) = 0.967018, Time so far: 41.7205 sec, Points: 85\n",
            "  Seed 108: f(x) = 0.945369, Time so far: 42.2931 sec, Points: 86\n",
            "  Seed 109: f(x) = 0.948316, Time so far: 43.0389 sec, Points: 87\n",
            "  Seed 110: f(x) = 0.948616, Time so far: 43.8935 sec, Points: 88\n",
            "  Seed 111: f(x) = 0.946960, Time so far: 44.5953 sec, Points: 89\n",
            "  Seed 112: f(x) = 0.947320, Time so far: 45.2848 sec, Points: 90\n",
            "  Seed 113: f(x) = 0.943985, Time so far: 45.9633 sec, Points: 91\n",
            "  Seed 114: f(x) = 0.947558, Time so far: 46.6574 sec, Points: 92\n",
            "  Seed 115: f(x) = 0.943985, Time so far: 47.2156 sec, Points: 93\n",
            "  Seed 116: f(x) = 0.944191, Time so far: 47.6340 sec, Points: 94\n",
            "  Seed 117: f(x) = 0.946790, Time so far: 48.0473 sec, Points: 95\n",
            "  Seed 118: f(x) = 0.945579, Time so far: 48.4669 sec, Points: 96\n",
            "  Seed 119: f(x) = 0.945811, Time so far: 48.9284 sec, Points: 97\n",
            "  Seed 120: f(x) = 0.945636, Time so far: 49.3483 sec, Points: 98\n",
            "  Seed 121: f(x) = 0.972081, Time so far: 49.7674 sec, Points: 99\n",
            "  Seed 122: f(x) = 0.945615, Time so far: 50.1775 sec, Points: 100\n",
            "  Seed 123: f(x) = 0.971482, Time so far: 50.5861 sec, Points: 101\n",
            "  Seed 124: f(x) = 0.946005, Time so far: 50.9964 sec, Points: 102\n",
            "  Seed 125: f(x) = 0.956908, Time so far: 51.4228 sec, Points: 103\n",
            "  Seed 126: f(x) = 0.950249, Time so far: 51.8692 sec, Points: 104\n",
            "  Seed 127: f(x) = 0.948660, Time so far: 52.3440 sec, Points: 105\n",
            "  Seed 128: f(x) = 0.945845, Time so far: 52.8038 sec, Points: 106\n",
            "  Seed 129: f(x) = 0.953352, Time so far: 53.2616 sec, Points: 107\n",
            "  Seed 130: f(x) = 0.945727, Time so far: 53.6686 sec, Points: 108\n",
            "  Seed 131: f(x) = 0.947057, Time so far: 54.0820 sec, Points: 109\n",
            "  Seed 132: f(x) = 0.949737, Time so far: 54.4836 sec, Points: 110\n",
            "  Seed 133: f(x) = 0.947708, Time so far: 54.9105 sec, Points: 111\n",
            "  Seed 134: f(x) = 0.982693, Time so far: 55.3069 sec, Points: 112\n",
            "  Seed 135: f(x) = 0.945669, Time so far: 55.7102 sec, Points: 113\n",
            "  Seed 136: f(x) = 1.054305, Time so far: 55.7219 sec, Points: 114\n",
            "  Seed 137: f(x) = 0.947302, Time so far: 56.1404 sec, Points: 115\n",
            "  Seed 138: f(x) = 0.945845, Time so far: 56.5493 sec, Points: 116\n",
            "  Seed 139: f(x) = 0.945553, Time so far: 57.0664 sec, Points: 117\n",
            "  Seed 140: f(x) = 0.945845, Time so far: 57.7727 sec, Points: 118\n",
            "  Seed 141: f(x) = 0.948207, Time so far: 59.2069 sec, Points: 119\n",
            "  Seed 142: f(x) = 0.949160, Time so far: 59.8398 sec, Points: 120\n",
            "  Seed 143: f(x) = 0.946645, Time so far: 60.2764 sec, Points: 121\n",
            "  Seed 144: f(x) = 0.952543, Time so far: 60.6795 sec, Points: 122\n",
            "  Seed 145: f(x) = 0.951903, Time so far: 61.0925 sec, Points: 123\n",
            "  Seed 146: f(x) = 0.949975, Time so far: 61.5273 sec, Points: 124\n",
            "  Seed 147: f(x) = 0.946323, Time so far: 61.9820 sec, Points: 125\n",
            "  Seed 148: f(x) = 0.949905, Time so far: 62.4558 sec, Points: 126\n",
            "  Seed 149: f(x) = 0.946213, Time so far: 62.9050 sec, Points: 127\n",
            "  Seed 150: f(x) = 0.953997, Time so far: 63.3691 sec, Points: 128\n",
            "  Seed 151: f(x) = 0.945445, Time so far: 63.7956 sec, Points: 129\n",
            "  Seed 152: f(x) = 0.951604, Time so far: 64.2099 sec, Points: 130\n",
            "  Seed 153: f(x) = 0.945902, Time so far: 64.6379 sec, Points: 131\n",
            "  Seed 154: f(x) = 0.948660, Time so far: 65.0351 sec, Points: 132\n",
            "  Seed 155: f(x) = 0.948316, Time so far: 65.4651 sec, Points: 133\n",
            "  Seed 156: f(x) = 0.948316, Time so far: 65.8870 sec, Points: 134\n",
            "  Seed 157: f(x) = 0.950458, Time so far: 66.3274 sec, Points: 135\n",
            "  Seed 158: f(x) = 0.944973, Time so far: 66.7616 sec, Points: 136\n",
            "  Seed 159: f(x) = 0.945669, Time so far: 67.1661 sec, Points: 137\n",
            "  Seed 160: f(x) = 0.945411, Time so far: 67.6030 sec, Points: 138\n",
            "  Seed 161: f(x) = 0.948316, Time so far: 68.0237 sec, Points: 139\n",
            "  Seed 162: f(x) = 0.950295, Time so far: 68.4843 sec, Points: 140\n",
            "  Seed 163: f(x) = 0.949923, Time so far: 68.9301 sec, Points: 141\n",
            "  Seed 164: f(x) = 0.945555, Time so far: 69.3532 sec, Points: 142\n",
            "  Seed 165: f(x) = 0.946540, Time so far: 69.8163 sec, Points: 143\n",
            "  Seed 166: f(x) = 0.954519, Time so far: 70.4881 sec, Points: 144\n",
            "  Seed 167: f(x) = 0.985489, Time so far: 71.2188 sec, Points: 145\n",
            "  Seed 168: f(x) = 0.946366, Time so far: 71.9423 sec, Points: 146\n",
            "  Seed 169: f(x) = 0.998179, Time so far: 72.6473 sec, Points: 147\n",
            "  Seed 170: f(x) = 0.947076, Time so far: 73.2257 sec, Points: 148\n",
            "  Seed 171: f(x) = 0.946616, Time so far: 73.6679 sec, Points: 149\n",
            "  Seed 172: f(x) = 0.947076, Time so far: 74.1240 sec, Points: 150\n",
            "  Seed 173: f(x) = 0.954149, Time so far: 74.5400 sec, Points: 151\n",
            "  Seed 174: f(x) = 0.967018, Time so far: 74.9775 sec, Points: 152\n",
            "  Seed 175: f(x) = 0.951077, Time so far: 75.4193 sec, Points: 153\n",
            "  Seed 176: f(x) = 0.944973, Time so far: 75.8512 sec, Points: 154\n",
            "  Seed 177: f(x) = 0.947952, Time so far: 76.3103 sec, Points: 155\n",
            "  Seed 178: f(x) = 0.948280, Time so far: 76.7680 sec, Points: 156\n",
            "  Seed 179: f(x) = 0.947913, Time so far: 77.2243 sec, Points: 157\n",
            "  Seed 180: f(x) = 0.945845, Time so far: 77.6364 sec, Points: 158\n",
            "  Seed 181: f(x) = 0.948042, Time so far: 78.0782 sec, Points: 159\n",
            "  Seed 182: f(x) = 0.952393, Time so far: 78.5375 sec, Points: 160\n",
            "  Seed 183: f(x) = 0.949792, Time so far: 78.9995 sec, Points: 161\n",
            "  Seed 184: f(x) = 0.945732, Time so far: 79.4263 sec, Points: 162\n",
            "  Seed 185: f(x) = 0.951699, Time so far: 79.8280 sec, Points: 163\n",
            "  Seed 186: f(x) = 0.949281, Time so far: 80.2755 sec, Points: 164\n",
            "  Seed 187: f(x) = 0.945766, Time so far: 80.7219 sec, Points: 165\n",
            "  Seed 188: f(x) = 0.945553, Time so far: 81.1518 sec, Points: 166\n",
            "  Seed 189: f(x) = 0.945481, Time so far: 81.6291 sec, Points: 167\n",
            "  Seed 190: f(x) = 0.946439, Time so far: 82.0632 sec, Points: 168\n",
            "  Seed 191: f(x) = 1.021602, Time so far: 82.5047 sec, Points: 169\n",
            "  Seed 192: f(x) = 0.948207, Time so far: 82.9123 sec, Points: 170\n",
            "  Seed 193: f(x) = 0.948755, Time so far: 83.5702 sec, Points: 171\n",
            "  Seed 194: f(x) = 0.945754, Time so far: 84.2803 sec, Points: 172\n",
            "  Seed 195: f(x) = 0.954439, Time so far: 84.9988 sec, Points: 173\n",
            "  Seed 196: f(x) = 0.946439, Time so far: 85.7187 sec, Points: 174\n",
            "  Seed 197: f(x) = 0.949015, Time so far: 86.3635 sec, Points: 175\n",
            "  Seed 198: f(x) = 0.946552, Time so far: 86.8427 sec, Points: 176\n",
            "  Seed 199: f(x) = 0.945636, Time so far: 87.2820 sec, Points: 177\n",
            "  Seed 200: f(x) = 0.945481, Time so far: 87.7426 sec, Points: 178\n",
            "  Seed 201: f(x) = 0.948042, Time so far: 88.2160 sec, Points: 179\n",
            "  Seed 202: f(x) = 0.945794, Time so far: 88.6919 sec, Points: 180\n",
            "  Seed 203: f(x) = 0.950090, Time so far: 89.1610 sec, Points: 181\n",
            "  Seed 204: f(x) = 0.945866, Time so far: 89.6057 sec, Points: 182\n",
            "  Seed 205: f(x) = 0.946005, Time so far: 90.0616 sec, Points: 183\n",
            "  Seed 206: f(x) = 0.945502, Time so far: 90.4786 sec, Points: 184\n",
            "  Seed 207: f(x) = 0.954357, Time so far: 90.9108 sec, Points: 185\n",
            "  Seed 208: f(x) = 0.949143, Time so far: 91.3215 sec, Points: 186\n",
            "  Seed 209: f(x) = 0.945845, Time so far: 91.7793 sec, Points: 187\n",
            "  Seed 210: f(x) = 0.947135, Time so far: 92.2205 sec, Points: 188\n",
            "  Seed 211: f(x) = 0.949281, Time so far: 92.6583 sec, Points: 189\n",
            "  Seed 212: f(x) = 0.946005, Time so far: 93.1495 sec, Points: 190\n",
            "  Seed 213: f(x) = 0.948993, Time so far: 93.5878 sec, Points: 191\n",
            "  Seed 214: f(x) = 0.946299, Time so far: 94.0397 sec, Points: 192\n",
            "  Seed 215: f(x) = 0.946728, Time so far: 94.4958 sec, Points: 193\n",
            "  Seed 216: f(x) = 0.945845, Time so far: 94.9850 sec, Points: 194\n",
            "  Seed 217: f(x) = 0.954875, Time so far: 95.4631 sec, Points: 195\n",
            "  Seed 218: f(x) = 0.945845, Time so far: 95.8910 sec, Points: 196\n",
            "🔍 Multi-start CG Best: 0.943985 (Time: 95.8910 sec, Points: 196)\n",
            "\n",
            "📋 Summary of Results for Sigmoid Regression (a2a)\n",
            "┌──────────────────────┬─────────────────┬──────────────┬─────────────────┐\n",
            "│ Method               │ Objective Value │ Runtime (sec) │ Points Evaluated │\n",
            "├──────────────────────┼─────────────────┼──────────────┼─────────────────┤\n",
            "│ VDCG                 │ 0.942411        │ 95.8796      │ 114             │\n",
            "│ Standard CG          │ 0.956188        │ 0.3798       │ 1               │\n",
            "│ Multi-start CG       │ 0.943985        │ 95.8910      │ 196             │\n",
            "└──────────────────────┴─────────────────┴──────────────┴─────────────────┘\n"
          ]
        }
      ],
      "source": [
        "using JuMP, HiGHS    #a2a\n",
        "using LinearAlgebra\n",
        "using Zygote\n",
        "using LIBSVMdata\n",
        "using Printf\n",
        "using Random\n",
        "using Statistics\n",
        "using SparseArrays\n",
        "\n",
        "# Set random seed for reproducibility\n",
        "Random.seed!(23)\n",
        "\n",
        "# ================== Configuration ================== #\n",
        "const MAX_LEVELS = 8\n",
        "const TOL_UNIQUE = 1e-3\n",
        "const TOL_CONVERGENCE = 1e-6\n",
        "const TAU_L1 = 50.0  # L1-norm ball radius\n",
        "const tau = 50.0     # L1-norm ball radius\n",
        "\n",
        "# ================== Global Data ================== #\n",
        "A = spzeros(1, 1)\n",
        "y = zeros(1)\n",
        "n = 1\n",
        "\n",
        "# Sigmoid function\n",
        "sigmoid(z) = 1 / (1 + exp(-z))\n",
        "\n",
        "# Objective and gradient\n",
        "f(x) = mean((y .- sigmoid.(A * x)).^2)\n",
        "grad_f(x) = Zygote.gradient(f, x)[1]\n",
        "\n",
        "# Linear Minimization Oracle for the L1-ball ||x||_1 ≤ τ\n",
        "function lmo(g)\n",
        "    i = argmax(abs.(g))\n",
        "    v = zeros(n)\n",
        "    v[i] = -TAU_L1 * sign(g[i])\n",
        "    return v\n",
        "end\n",
        "\n",
        "# Check if a point is new\n",
        "function is_new_point(x, points, tol=TOL_UNIQUE)\n",
        "    all(norm(x - p) >= tol for p in points)\n",
        "end\n",
        "\n",
        "# ================== Adaptive Frank-Wolfe Algorithm ================== #\n",
        "function conditional_gradient_adjustable_scaling(f, grad_f, lmo, x0; max_iter=1000, epsilon=TOL_CONVERGENCE, delta=1e-10, beta=2, gamma=0.5)\n",
        "    x_prev = copy(x0)\n",
        "    x_curr = copy(x0)\n",
        "    values = [f(x_curr)]\n",
        "    times = [0.0]\n",
        "    gaps = Float64[]\n",
        "    L_ks = Float64[]\n",
        "    steps = Float64[]\n",
        "    backtrack_counts = Int[]\n",
        "    gamma_history = [gamma]\n",
        "    k = 0\n",
        "    prev_grad = grad_f(x_prev)\n",
        "    current_f = f(x_curr)\n",
        "    recent_backtracks = Int[]\n",
        "\n",
        "    while k < max_iter\n",
        "        start = time()\n",
        "        current_grad = grad_f(x_curr)\n",
        "        v = lmo(current_grad)\n",
        "        d = v - x_curr\n",
        "        normd2 = dot(d, d)\n",
        "        gap = -dot(current_grad, d)\n",
        "\n",
        "        if gap <= epsilon\n",
        "            push!(times, time() - start)\n",
        "            push!(gaps, gap)\n",
        "            break\n",
        "        end\n",
        "\n",
        "        if k == 0\n",
        "            d0 = ones(length(x0)) / sqrt(length(x0))\n",
        "            x_temp = x0 + 1e-3 * d0\n",
        "            L_k = gamma * (norm(grad_f(x0) - grad_f(x_temp)) / (1e-3 * norm(d0)) + delta)\n",
        "        else\n",
        "            grad_diff = norm(current_grad - prev_grad)\n",
        "            x_diff = norm(x_curr - x_prev)\n",
        "            L_k = gamma * (grad_diff / x_diff + delta)\n",
        "        end\n",
        "        Lknormd2 = L_k * normd2\n",
        "        t_k = min(gap / Lknormd2, 1.0)\n",
        "        i = 0\n",
        "        while true\n",
        "            x_new = x_curr + t_k * d\n",
        "            new_f = f(x_new)\n",
        "            if current_f - new_f >= t_k * gap - (Lknormd2 / 2) * t_k^2\n",
        "                x_prev = copy(x_curr)\n",
        "                x_curr = x_new\n",
        "                push!(backtrack_counts, i)\n",
        "                push!(recent_backtracks, i)\n",
        "                break\n",
        "            else\n",
        "                L_k *= beta\n",
        "                Lknormd2 = L_k * normd2\n",
        "                t_k = min(gap / Lknormd2, 1.0)\n",
        "                i += 1\n",
        "            end\n",
        "        end\n",
        "\n",
        "        if k % 10 == 0 && k > 0\n",
        "            total_backtracks = sum(recent_backtracks)\n",
        "            if total_backtracks == 0\n",
        "                gamma = max(1e-4, gamma * 0.9)\n",
        "            elseif total_backtracks > 10\n",
        "                gamma = min(1.0, gamma * 1.1)\n",
        "            end\n",
        "            push!(gamma_history, gamma)\n",
        "            recent_backtracks = Int[]\n",
        "        elseif k % 10 == 0\n",
        "            push!(gamma_history, gamma)\n",
        "            recent_backtracks = Int[]\n",
        "        else\n",
        "            push!(recent_backtracks, i)\n",
        "        end\n",
        "        k += 1\n",
        "        iteration_time = time() - start\n",
        "\n",
        "        current_f = f(x_curr)\n",
        "        prev_grad = current_grad\n",
        "        push!(gaps, gap)\n",
        "        push!(steps, t_k)\n",
        "        push!(values, current_f)\n",
        "        push!(times, iteration_time)\n",
        "        push!(L_ks, L_k)\n",
        "\n",
        "        if k % 100 == 0\n",
        "            # println(\"k=$k, gap=$(round(gap, digits=4)), t_k=$(round(t_k, digits=4)), L_k=$(round(L_ks[end], digits=6)), Time=$(round(times[end], digits=4)), f=$(round(values[end], digits=6))\")\n",
        "        end\n",
        "    end\n",
        "    total_time = sum(times)\n",
        "    return (x_curr, values, times, gaps, L_ks, backtrack_counts, steps, gamma_history, total_time)\n",
        "end\n",
        "\n",
        "# ================== Interior Point via Slack (Paper's Method) ================== #\n",
        "function find_interior_point(p_i, sites)\n",
        "    model = Model(HiGHS.Optimizer)\n",
        "    set_silent(model)\n",
        "    @variable(model, xp[1:n] >= 0)\n",
        "    @variable(model, xn[1:n] >= 0)\n",
        "    @variable(model, τ)\n",
        "\n",
        "    # L1 constraint: ||x||_1 ≤ TAU_L1\n",
        "    @constraint(model, sum(xp) + sum(xn) <= TAU_L1)\n",
        "\n",
        "    # Reconstruct x = xp - xn\n",
        "    x = xp - xn\n",
        "\n",
        "    # Voronoi cell constraints with slack\n",
        "    for j in 1:length(sites)\n",
        "        if sites[j] ≈ p_i\n",
        "            continue\n",
        "        end\n",
        "        p_j = sites[j]\n",
        "        a = p_j - p_i\n",
        "        b_val = 0.5 * dot(p_j + p_i, p_j - p_i)\n",
        "        @constraint(model, dot(a, x) <= b_val + τ)\n",
        "    end\n",
        "    @objective(model, Min, τ)\n",
        "    optimize!(model)\n",
        "    if termination_status(model) == OPTIMAL\n",
        "        x_sol = value.(xp) - value.(xn)\n",
        "        τ_sol = value(τ)\n",
        "        @info \"Interior point LP: τ = $(round(τ_sol, digits=8)), Status = $(τ_sol < -1e-8 ? \"Interior\" : \"Boundary\")\"\n",
        "        return τ_sol < -1e-8 ? (x_sol, \"Interior\") : (x_sol, \"Boundary\")\n",
        "    else\n",
        "        @warn \"Interior point LP failed: Infeasible or unbounded\"\n",
        "        if length(sites) == 1\n",
        "            @info \"Returning barycenter as fallback\"\n",
        "            return zeros(n), \"Interior\"\n",
        "        end\n",
        "        return nothing, \"Infeasible\"\n",
        "    end\n",
        "end\n",
        "\n",
        "# ================== Voronoi Partitioning ================== #\n",
        "function create_voronoi_partitions(sites)\n",
        "    base_A = vcat(\n",
        "        Matrix{Float64}(I, n, n),      # x ≥ -TAU_L1\n",
        "        -Matrix{Float64}(I, n, n)      # x ≤ TAU_L1\n",
        "    )\n",
        "    base_b = vcat(\n",
        "        TAU_L1 * ones(n),\n",
        "        TAU_L1 * ones(n)\n",
        "    )\n",
        "    partitions = []\n",
        "    K = length(sites)\n",
        "    if K == 1\n",
        "        push!(partitions, (base_A, base_b))\n",
        "        return partitions\n",
        "    end\n",
        "    for i in 1:K\n",
        "        A_i = copy(base_A)\n",
        "        b_i = copy(base_b)\n",
        "        p_i = sites[i]\n",
        "        for j in 1:K\n",
        "            i == j && continue\n",
        "            p_j = sites[j]\n",
        "            a = (p_j - p_i)'\n",
        "            b_val = 0.5 * dot(p_j + p_i, p_j - p_i)\n",
        "            A_i = vcat(A_i, a)\n",
        "            b_i = vcat(b_i, b_val)\n",
        "        end\n",
        "        push!(partitions, (A_i, b_i))\n",
        "    end\n",
        "    return partitions\n",
        "end\n",
        "\n",
        "# ================== Main VDCG Algorithm ================== #\n",
        "function voronoi_conditional_gradient(f, grad_f, lmo, x0)\n",
        "    x_init, _, cg_times, _, _, _, _, _, init_time = conditional_gradient_adjustable_scaling(f, grad_f, lmo, x0)\n",
        "    total_time = init_time\n",
        "    sites = [x0, x_init]\n",
        "    num_points = 1\n",
        "    archive = [(x_init, f(x_init))]\n",
        "    best_so_far = f(x_init)\n",
        "    @printf(\"Initial solution: f(x) = %.6f\\n\", f(x_init))\n",
        "    @info \"Distance between x0 and x_init: $(norm(x0 - x_init))\"\n",
        "\n",
        "    for level in 1:MAX_LEVELS\n",
        "        start_time = time()\n",
        "        @printf(\"→ VDCG Level %d: %d sites, Current best f(x) = %.6f\\n\", level, length(sites), best_so_far)\n",
        "        partitions = create_voronoi_partitions(sites)\n",
        "        new_sites = []\n",
        "        for (i, (A_cell, b_cell)) in enumerate(partitions)\n",
        "            x_inner, status = find_interior_point(sites[i], sites)\n",
        "            if x_inner === nothing || status == \"Infeasible\"\n",
        "                @info \"Skipping cell $i: $status\"\n",
        "                continue\n",
        "            end\n",
        "            x_stat, _, cg_times, _, _, _, _, _, cg_time = conditional_gradient_adjustable_scaling(f, grad_f, lmo, x_inner)\n",
        "            total_time += cg_time\n",
        "            num_points += 1\n",
        "            obj = f(x_stat)\n",
        "            all_points = [s for (s, _) in archive]\n",
        "            if is_new_point(x_stat, all_points) && is_new_point(x_stat, new_sites)\n",
        "                push!(new_sites, x_stat)\n",
        "                push!(archive, (x_stat, obj))\n",
        "                @printf(\"  New point found: f(x) = %.6f\\n\", obj)\n",
        "                best_so_far = min(best_so_far, obj)\n",
        "            else\n",
        "                min_dist = minimum(norm(x_stat - p) for p in all_points)\n",
        "                @info \"Cell $i: New point not added, obj = $(round(obj, digits=6)), min distance = $(round(min_dist, digits=6)), better = $(obj < best_so_far)\"\n",
        "            end\n",
        "        end\n",
        "        elapsed = time() - start_time\n",
        "        total_time += elapsed\n",
        "        if isempty(new_sites)\n",
        "            @printf(\"→ No new points found. Terminating at level %d.\\n\", level)\n",
        "            @printf(\"  🕒 Level %d runtime: %.4f sec | Best objective: %.6f\\n\", level, elapsed, best_so_far)\n",
        "            break\n",
        "        else\n",
        "            append!(sites, new_sites)\n",
        "            @printf(\"  ✅ Level %d completed in %.4f sec | Best objective so far: %.6f\\n\", level, elapsed, best_so_far)\n",
        "        end\n",
        "    end\n",
        "    best_idx = argmin([obj for (_, obj) in archive])\n",
        "    x_best, f_best = archive[best_idx]\n",
        "    return x_best, f_best, archive, sites, total_time, num_points\n",
        "end\n",
        "\n",
        "# ================== Load Problem Data ================== #\n",
        "function load_libsvm_data()\n",
        "    data_name = \"a2a\"\n",
        "    @info \"Loading LIBSVM dataset '$data_name'...\"\n",
        "    global A, y, n\n",
        "    A_loaded, y_loaded = load_dataset(data_name, dense=false, replace=false, verbose=true)\n",
        "    A = A_loaded\n",
        "    y = Float64.(y_loaded)\n",
        "    m, n = size(A)\n",
        "    # Map labels: {-1,1} → {0,1} for sigmoid output (optional)\n",
        "    # y = (y .+ 1) ./ 2\n",
        "    Random.seed!(23)\n",
        "    V = vcat(tau * I(n), -tau * I(n))\n",
        "    global x0 = V[rand(1:size(V, 1)), :]\n",
        "    @info \"Data loaded: $m samples, $n features\"\n",
        "    @info \"Initial point x0 set on L1-ball boundary\"\n",
        "end\n",
        "\n",
        "# ================== Run Experiment ================== #\n",
        "function main()\n",
        "    # Load data for sigmoid regression\n",
        "    load_libsvm_data()\n",
        "\n",
        "    # Run VDCG\n",
        "    @printf(\"\\n🚀 Starting VDCG...\\n\")\n",
        "    @time x_vdcg, f_vdcg, archive, sites, vdcg_time, vdcg_points = voronoi_conditional_gradient(f, grad_f, lmo, x0)\n",
        "    @printf(\"\\n✅ VDCG Best Objective: %.6f\\n\", f_vdcg)\n",
        "    @printf(\"✅ VDCG Total Time: %.4f sec, Total Points: %d\\n\", vdcg_time, vdcg_points)\n",
        "\n",
        "    # Standard CG\n",
        "    @printf(\"📊 Running Standard CG...\\n\")\n",
        "    x_std, _, _, _, _, _, _, _, std_time = conditional_gradient_adjustable_scaling(f, grad_f, lmo, x0)\n",
        "    f_std = f(x_std)\n",
        "    @printf(\"📊 Standard CG Objective: %.6f\\n\", f_std)\n",
        "\n",
        "    # Multi-start CG (limited by VDCG time)\n",
        "    @printf(\"🔍 Running Multi-start CG (time-limited)...\\n\")\n",
        "    f_multi = Inf\n",
        "    total_multi_time = 0.0\n",
        "    points_evaluated = 0\n",
        "    seed = 23\n",
        "    while total_multi_time < vdcg_time\n",
        "        Random.seed!(seed)\n",
        "        start = time()\n",
        "\n",
        "        # For the first iteration (seed 23), use the same x0 as standard CG\n",
        "        if seed == 23\n",
        "            x_rand = copy(x0)\n",
        "        else\n",
        "            V = vcat(tau * I(n), -tau * I(n))\n",
        "            x_rand = V[rand(1:size(V, 1)), :]\n",
        "        end\n",
        "\n",
        "        x, _, _, _, _, _, _, _, cg_time = conditional_gradient_adjustable_scaling(f, grad_f, lmo, x_rand)\n",
        "        total_multi_time += time() - start\n",
        "        points_evaluated += 1\n",
        "        f_current = f(x)\n",
        "        f_multi = min(f_multi, f_current)\n",
        "\n",
        "        @printf(\"  Seed %d: f(x) = %.6f, Time so far: %.4f sec, Points: %d\\n\", seed, f_current, total_multi_time, points_evaluated)\n",
        "        seed += 1\n",
        "    end\n",
        "    @printf(\"🔍 Multi-start CG Best: %.6f (Time: %.4f sec, Points: %d)\\n\", f_multi, total_multi_time, points_evaluated)\n",
        "\n",
        "    # Summary Table\n",
        "    @printf(\"\\n📋 Summary of Results for Sigmoid Regression (a2a)\\n\")\n",
        "    @printf(\"┌──────────────────────┬─────────────────┬──────────────┬─────────────────┐\\n\")\n",
        "    @printf(\"│ %-20s │ %-15s │ %-12s │ %-15s │\\n\", \"Method\", \"Objective Value\", \"Runtime (sec)\", \"Points Evaluated\")\n",
        "    @printf(\"├──────────────────────┼─────────────────┼──────────────┼─────────────────┤\\n\")\n",
        "    @printf(\"│ %-20s │ %-15.6f │ %-12.4f │ %-15d │\\n\", \"VDCG\", f_vdcg, vdcg_time, vdcg_points)\n",
        "    @printf(\"│ %-20s │ %-15.6f │ %-12.4f │ %-15d │\\n\", \"Standard CG\", f_std, std_time, 1)\n",
        "    @printf(\"│ %-20s │ %-15.6f │ %-12.4f │ %-15d │\\n\", \"Multi-start CG\", f_multi, total_multi_time, points_evaluated)\n",
        "    @printf(\"└──────────────────────┴─────────────────┴──────────────┴─────────────────┘\\n\")\n",
        "end\n",
        "\n",
        "# Run everything\n",
        "main()"
      ]
    },
    {
      "cell_type": "code",
      "execution_count": null,
      "metadata": {
        "colab": {
          "base_uri": "https://localhost:8080/"
        },
        "id": "QByOUshbckX1",
        "outputId": "ddadb34e-7262-43a9-fdf1-6de0bac6ca25"
      },
      "outputs": [
        {
          "name": "stderr",
          "output_type": "stream",
          "text": [
            "\u001b[36m\u001b[1m[ \u001b[22m\u001b[39m\u001b[36m\u001b[1mInfo: \u001b[22m\u001b[39mLoading LIBSVM dataset 'a3a'...\n"
          ]
        },
        {
          "name": "stdout",
          "output_type": "stream",
          "text": [
            "Downloading the dataset a3a...\n"
          ]
        },
        {
          "name": "stderr",
          "output_type": "stream",
          "text": [
            "* Couldn't find host www.csie.ntu.edu.tw in the .netrc file; using defaults\n",
            "* Host www.csie.ntu.edu.tw:443 was resolved.\n",
            "* IPv6: (none)\n",
            "* IPv4: 140.112.30.26\n",
            "*   Trying 140.112.30.26:443...\n",
            "* Connected to www.csie.ntu.edu.tw (140.112.30.26) port 443\n",
            "* mbedTLS: Connecting to www.csie.ntu.edu.tw:443\n",
            "* mbedTLS: Set min SSL version to TLS 1.0\n",
            "* ALPN: curl offers h2,http/1.1\n",
            "* mbedTLS: Handshake complete, cipher is TLS-ECDHE-RSA-WITH-AES-128-GCM-SHA256\n",
            "* Dumping cert info: * cert. version     : 3\n",
            "* serial number     : 47:E8:00:00:00:07:87:FE:49:35:DC:01:F3:CD:23:5B\n",
            "* issuer name       : C=TW, O=TAIWAN-CA, CN=TWCA Secure SSL Certification Authority\n",
            "* subject name      : C=TW, ST=Taiwan, L=Taipei, O=National Taiwan University, CN=*.csie.ntu.edu.tw\n",
            "* issued  on        : 2024-10-16 09:35:59\n",
            "* expires on        : 2025-11-03 15:59:59\n",
            "* signed using      : RSA with SHA-256\n",
            "* RSA key size      : 2048 bits\n",
            "* basic constraints : CA=false\n",
            "* subject alt name  :\n",
            "*     dNSName : *.csie.ntu.edu.tw\n",
            "*     dNSName : csie.ntu.edu.tw\n",
            "* key usage         : Digital Signature, Key Encipherment\n",
            "* ext key usage     : TLS Web Server Authentication, TLS Web Client Authentication\n",
            "* certificate policies : ???, ???\n",
            "\n",
            "* ALPN: server did not agree on a protocol. Uses default.\n",
            "* SSL connected\n",
            "* using HTTP/1.x\n",
            "> GET /~cjlin/libsvmtools/datasets/binary/a3a HTTP/1.1\n",
            "Host: www.csie.ntu.edu.tw\n",
            "Accept: */*\n",
            "User-Agent: curl/8.6.0 julia/1.11\n",
            "\n",
            "< HTTP/1.1 200 OK\n",
            "< Date: Sat, 30 Aug 2025 19:29:16 GMT\n",
            "< Server: Apache/2.4.57 (Debian)\n",
            "< Strict-Transport-Security: max-age=31536000; includeSubDomains\n",
            "< Last-Modified: Wed, 08 Jun 2005 06:29:24 GMT\n",
            "< ETag: \"37a3e-3f9020ed19900\"\n",
            "< Accept-Ranges: bytes\n",
            "< Content-Length: 227902\n",
            "< \n"
          ]
        },
        {
          "name": "stdout",
          "output_type": "stream",
          "text": [
            "Loading the dataset...\n"
          ]
        },
        {
          "name": "stderr",
          "output_type": "stream",
          "text": [
            "* Connection #0 to host www.csie.ntu.edu.tw left intact\n",
            "\r0.0%┣                                             ┫ 0/3.2k [00:00<00:00, -0s/it]\n",
            "\u001b[1A\r49.2%┣██████████████████▊                   ┫ 1.6k/3.2k [00:00<00:00, 31.1kit/s]\n",
            "\u001b[1A"
          ]
        },
        {
          "name": "stdout",
          "output_type": "stream",
          "text": [
            "\n",
            "🚀 Starting VDCG...\n",
            "Initial solution: f(x) = 0.956656\n"
          ]
        },
        {
          "name": "stderr",
          "output_type": "stream",
          "text": [
            "\r67.3%┣█████████████████████████▋            ┫ 2.1k/3.2k [00:00<00:00, 21.3kit/s]\n",
            "\u001b[1A\r100.0%┣█████████████████████████████████████┫ 3.2k/3.2k [00:00<00:00, 24.3kit/s]\n",
            "\u001b[1A\r100.0%┣█████████████████████████████████████┫ 3.2k/3.2k [00:00<00:00, 24.2kit/s]\n",
            "\u001b[36m\u001b[1m[ \u001b[22m\u001b[39m\u001b[36m\u001b[1mInfo: \u001b[22m\u001b[39mData loaded: 3185 samples, 123 features\n",
            "\u001b[36m\u001b[1m[ \u001b[22m\u001b[39m\u001b[36m\u001b[1mInfo: \u001b[22m\u001b[39mInitial point x0 set on L1-ball boundary\n"
          ]
        },
        {
          "name": "stdout",
          "output_type": "stream",
          "text": [
            "→ VDCG Level 1: 2 sites, Current best f(x) = 0.956656\n"
          ]
        },
        {
          "name": "stderr",
          "output_type": "stream",
          "text": [
            "\u001b[36m\u001b[1m[ \u001b[22m\u001b[39m\u001b[36m\u001b[1mInfo: \u001b[22m\u001b[39mDistance between x0 and x_init: 35.881791816162355\n",
            "\u001b[36m\u001b[1m[ \u001b[22m\u001b[39m\u001b[36m\u001b[1mInfo: \u001b[22m\u001b[39mInterior point LP: τ = -643.75149197, Status = Interior\n",
            "\u001b[36m\u001b[1m[ \u001b[22m\u001b[39m\u001b[36m\u001b[1mInfo: \u001b[22m\u001b[39mCell 1: New point not added, obj = 0.956656, min distance = 0.0, better = false\n"
          ]
        },
        {
          "name": "stdout",
          "output_type": "stream",
          "text": [
            "  New point found: f(x) = 1.003776\n",
            "  ✅ Level 1 completed in 1.9573 sec | Best objective so far: 0.956656\n"
          ]
        },
        {
          "name": "stderr",
          "output_type": "stream",
          "text": [
            "\u001b[36m\u001b[1m[ \u001b[22m\u001b[39m\u001b[36m\u001b[1mInfo: \u001b[22m\u001b[39mInterior point LP: τ = -2844.99513877, Status = Interior\n"
          ]
        },
        {
          "name": "stdout",
          "output_type": "stream",
          "text": [
            "→ VDCG Level 2: 3 sites, Current best f(x) = 0.956656\n"
          ]
        },
        {
          "name": "stderr",
          "output_type": "stream",
          "text": [
            "\u001b[36m\u001b[1m[ \u001b[22m\u001b[39m\u001b[36m\u001b[1mInfo: \u001b[22m\u001b[39mInterior point LP: τ = -643.75149197, Status = Interior\n",
            "\u001b[36m\u001b[1m[ \u001b[22m\u001b[39m\u001b[36m\u001b[1mInfo: \u001b[22m\u001b[39mCell 1: New point not added, obj = 0.956656, min distance = 0.0, better = false\n"
          ]
        },
        {
          "name": "stdout",
          "output_type": "stream",
          "text": [
            "  New point found: f(x) = 0.943712\n"
          ]
        },
        {
          "name": "stderr",
          "output_type": "stream",
          "text": [
            "\u001b[36m\u001b[1m[ \u001b[22m\u001b[39m\u001b[36m\u001b[1mInfo: \u001b[22m\u001b[39mInterior point LP: τ = -566.83782308, Status = Interior\n",
            "\u001b[36m\u001b[1m[ \u001b[22m\u001b[39m\u001b[36m\u001b[1mInfo: \u001b[22m\u001b[39mInterior point LP: τ = -1512.87906998, Status = Interior\n",
            "\u001b[36m\u001b[1m[ \u001b[22m\u001b[39m\u001b[36m\u001b[1mInfo: \u001b[22m\u001b[39mCell 3: New point not added, obj = 1.003776, min distance = 0.0, better = false\n"
          ]
        },
        {
          "name": "stdout",
          "output_type": "stream",
          "text": [
            "  ✅ Level 2 completed in 1.8451 sec | Best objective so far: 0.943712\n",
            "→ VDCG Level 3: 4 sites, Current best f(x) = 0.943712\n"
          ]
        },
        {
          "name": "stderr",
          "output_type": "stream",
          "text": [
            "\u001b[36m\u001b[1m[ \u001b[22m\u001b[39m\u001b[36m\u001b[1mInfo: \u001b[22m\u001b[39mInterior point LP: τ = -643.75149197, Status = Interior\n",
            "\u001b[36m\u001b[1m[ \u001b[22m\u001b[39m\u001b[36m\u001b[1mInfo: \u001b[22m\u001b[39mCell 1: New point not added, obj = 0.956656, min distance = 0.0, better = false\n"
          ]
        },
        {
          "name": "stdout",
          "output_type": "stream",
          "text": [
            "  New point found: f(x) = 0.945544\n"
          ]
        },
        {
          "name": "stderr",
          "output_type": "stream",
          "text": [
            "\u001b[36m\u001b[1m[ \u001b[22m\u001b[39m\u001b[36m\u001b[1mInfo: \u001b[22m\u001b[39mInterior point LP: τ = -280.93797821, Status = Interior\n",
            "\u001b[36m\u001b[1m[ \u001b[22m\u001b[39m\u001b[36m\u001b[1mInfo: \u001b[22m\u001b[39mInterior point LP: τ = -810.94122161, Status = Interior\n",
            "\u001b[36m\u001b[1m[ \u001b[22m\u001b[39m\u001b[36m\u001b[1mInfo: \u001b[22m\u001b[39mCell 3: New point not added, obj = 1.003776, min distance = 0.0, better = false\n"
          ]
        },
        {
          "name": "stdout",
          "output_type": "stream",
          "text": [
            "  New point found: f(x) = 0.947360\n",
            "  ✅ Level 3 completed in 2.4539 sec | Best objective so far: 0.943712\n"
          ]
        },
        {
          "name": "stderr",
          "output_type": "stream",
          "text": [
            "\u001b[36m\u001b[1m[ \u001b[22m\u001b[39m\u001b[36m\u001b[1mInfo: \u001b[22m\u001b[39mInterior point LP: τ = -236.12392645, Status = Interior\n"
          ]
        },
        {
          "name": "stdout",
          "output_type": "stream",
          "text": [
            "→ VDCG Level 4: 6 sites, Current best f(x) = 0.943712\n"
          ]
        },
        {
          "name": "stderr",
          "output_type": "stream",
          "text": [
            "\u001b[36m\u001b[1m[ \u001b[22m\u001b[39m\u001b[36m\u001b[1mInfo: \u001b[22m\u001b[39mInterior point LP: τ = -643.75149197, Status = Interior\n",
            "\u001b[36m\u001b[1m[ \u001b[22m\u001b[39m\u001b[36m\u001b[1mInfo: \u001b[22m\u001b[39mCell 1: New point not added, obj = 0.956656, min distance = 0.0, better = false\n"
          ]
        },
        {
          "name": "stdout",
          "output_type": "stream",
          "text": [
            "  New point found: f(x) = 0.945065\n"
          ]
        },
        {
          "name": "stderr",
          "output_type": "stream",
          "text": [
            "\u001b[36m\u001b[1m[ \u001b[22m\u001b[39m\u001b[36m\u001b[1mInfo: \u001b[22m\u001b[39mInterior point LP: τ = -261.67134617, Status = Interior\n",
            "\u001b[36m\u001b[1m[ \u001b[22m\u001b[39m\u001b[36m\u001b[1mInfo: \u001b[22m\u001b[39mInterior point LP: τ = -676.05460517, Status = Interior\n",
            "\u001b[36m\u001b[1m[ \u001b[22m\u001b[39m\u001b[36m\u001b[1mInfo: \u001b[22m\u001b[39mCell 3: New point not added, obj = 1.003776, min distance = 0.0, better = false\n"
          ]
        },
        {
          "name": "stdout",
          "output_type": "stream",
          "text": [
            "  New point found: f(x) = 0.944996\n"
          ]
        },
        {
          "name": "stderr",
          "output_type": "stream",
          "text": [
            "\u001b[36m\u001b[1m[ \u001b[22m\u001b[39m\u001b[36m\u001b[1mInfo: \u001b[22m\u001b[39mInterior point LP: τ = -134.74167152, Status = Interior\n"
          ]
        },
        {
          "name": "stdout",
          "output_type": "stream",
          "text": [
            "  New point found: f(x) = 0.986646\n"
          ]
        },
        {
          "name": "stderr",
          "output_type": "stream",
          "text": [
            "\u001b[36m\u001b[1m[ \u001b[22m\u001b[39m\u001b[36m\u001b[1mInfo: \u001b[22m\u001b[39mInterior point LP: τ = -155.07827393, Status = Interior\n"
          ]
        },
        {
          "name": "stdout",
          "output_type": "stream",
          "text": [
            "  New point found: f(x) = 0.947412\n",
            "  ✅ Level 4 completed in 4.3976 sec | Best objective so far: 0.943712\n"
          ]
        },
        {
          "name": "stderr",
          "output_type": "stream",
          "text": [
            "\u001b[36m\u001b[1m[ \u001b[22m\u001b[39m\u001b[36m\u001b[1mInfo: \u001b[22m\u001b[39mInterior point LP: τ = -579.45504275, Status = Interior\n"
          ]
        },
        {
          "name": "stdout",
          "output_type": "stream",
          "text": [
            "→ VDCG Level 5: 10 sites, Current best f(x) = 0.943712\n"
          ]
        },
        {
          "name": "stderr",
          "output_type": "stream",
          "text": [
            "\u001b[36m\u001b[1m[ \u001b[22m\u001b[39m\u001b[36m\u001b[1mInfo: \u001b[22m\u001b[39mInterior point LP: τ = -643.75149197, Status = Interior\n",
            "\u001b[36m\u001b[1m[ \u001b[22m\u001b[39m\u001b[36m\u001b[1mInfo: \u001b[22m\u001b[39mCell 1: New point not added, obj = 0.956656, min distance = 0.0, better = false\n"
          ]
        },
        {
          "name": "stdout",
          "output_type": "stream",
          "text": [
            "  New point found: f(x) = 0.945070\n"
          ]
        },
        {
          "name": "stderr",
          "output_type": "stream",
          "text": [
            "\u001b[36m\u001b[1m[ \u001b[22m\u001b[39m\u001b[36m\u001b[1mInfo: \u001b[22m\u001b[39mInterior point LP: τ = -255.83604525, Status = Interior\n",
            "\u001b[36m\u001b[1m[ \u001b[22m\u001b[39m\u001b[36m\u001b[1mInfo: \u001b[22m\u001b[39mInterior point LP: τ = -640.89787351, Status = Interior\n",
            "\u001b[36m\u001b[1m[ \u001b[22m\u001b[39m\u001b[36m\u001b[1mInfo: \u001b[22m\u001b[39mCell 3: New point not added, obj = 1.003776, min distance = 0.0, better = false\n",
            "\u001b[36m\u001b[1m[ \u001b[22m\u001b[39m\u001b[36m\u001b[1mInfo: \u001b[22m\u001b[39mInterior point LP: τ = -118.20850385, Status = Interior\n",
            "\u001b[36m\u001b[1m[ \u001b[22m\u001b[39m\u001b[36m\u001b[1mInfo: \u001b[22m\u001b[39mCell 4: New point not added, obj = 0.944996, min distance = 0.0, better = false\n"
          ]
        },
        {
          "name": "stdout",
          "output_type": "stream",
          "text": [
            "  New point found: f(x) = 0.946097\n"
          ]
        },
        {
          "name": "stderr",
          "output_type": "stream",
          "text": [
            "\u001b[36m\u001b[1m[ \u001b[22m\u001b[39m\u001b[36m\u001b[1mInfo: \u001b[22m\u001b[39mInterior point LP: τ = -13.56469841, Status = Interior\n"
          ]
        },
        {
          "name": "stdout",
          "output_type": "stream",
          "text": [
            "  New point found: f(x) = 0.944955\n"
          ]
        },
        {
          "name": "stderr",
          "output_type": "stream",
          "text": [
            "\u001b[36m\u001b[1m[ \u001b[22m\u001b[39m\u001b[36m\u001b[1mInfo: \u001b[22m\u001b[39mInterior point LP: τ = -4.78113454, Status = Interior\n"
          ]
        },
        {
          "name": "stdout",
          "output_type": "stream",
          "text": [
            "  New point found: f(x) = 0.945162\n"
          ]
        },
        {
          "name": "stderr",
          "output_type": "stream",
          "text": [
            "\u001b[36m\u001b[1m[ \u001b[22m\u001b[39m\u001b[36m\u001b[1mInfo: \u001b[22m\u001b[39mInterior point LP: τ = -16.71946344, Status = Interior\n"
          ]
        },
        {
          "name": "stdout",
          "output_type": "stream",
          "text": [
            "  New point found: f(x) = 0.945458\n"
          ]
        },
        {
          "name": "stderr",
          "output_type": "stream",
          "text": [
            "\u001b[36m\u001b[1m[ \u001b[22m\u001b[39m\u001b[36m\u001b[1mInfo: \u001b[22m\u001b[39mInterior point LP: τ = -34.63635997, Status = Interior\n"
          ]
        },
        {
          "name": "stdout",
          "output_type": "stream",
          "text": [
            "  New point found: f(x) = 0.986646\n"
          ]
        },
        {
          "name": "stderr",
          "output_type": "stream",
          "text": [
            "\u001b[36m\u001b[1m[ \u001b[22m\u001b[39m\u001b[36m\u001b[1mInfo: \u001b[22m\u001b[39mInterior point LP: τ = -627.54655552, Status = Interior\n",
            "\u001b[36m\u001b[1m[ \u001b[22m\u001b[39m\u001b[36m\u001b[1mInfo: \u001b[22m\u001b[39mInterior point LP: τ = -4.67289772, Status = Interior\n",
            "\u001b[36m\u001b[1m[ \u001b[22m\u001b[39m\u001b[36m\u001b[1mInfo: \u001b[22m\u001b[39mCell 10: New point not added, obj = 0.947412, min distance = 0.0, better = false\n"
          ]
        },
        {
          "name": "stdout",
          "output_type": "stream",
          "text": [
            "  ✅ Level 5 completed in 6.4840 sec | Best objective so far: 0.943712\n",
            "→ VDCG Level 6: 16 sites, Current best f(x) = 0.943712\n"
          ]
        },
        {
          "name": "stderr",
          "output_type": "stream",
          "text": [
            "\u001b[36m\u001b[1m[ \u001b[22m\u001b[39m\u001b[36m\u001b[1mInfo: \u001b[22m\u001b[39mInterior point LP: τ = -643.75149197, Status = Interior\n",
            "\u001b[36m\u001b[1m[ \u001b[22m\u001b[39m\u001b[36m\u001b[1mInfo: \u001b[22m\u001b[39mCell 1: New point not added, obj = 0.956656, min distance = 0.0, better = false\n"
          ]
        },
        {
          "name": "stdout",
          "output_type": "stream",
          "text": [
            "  New point found: f(x) = 0.944719\n"
          ]
        },
        {
          "name": "stderr",
          "output_type": "stream",
          "text": [
            "\u001b[36m\u001b[1m[ \u001b[22m\u001b[39m\u001b[36m\u001b[1mInfo: \u001b[22m\u001b[39mInterior point LP: τ = -254.78111788, Status = Interior\n",
            "\u001b[36m\u001b[1m[ \u001b[22m\u001b[39m\u001b[36m\u001b[1mInfo: \u001b[22m\u001b[39mInterior point LP: τ = -587.26025775, Status = Interior\n",
            "\u001b[36m\u001b[1m[ \u001b[22m\u001b[39m\u001b[36m\u001b[1mInfo: \u001b[22m\u001b[39mCell 3: New point not added, obj = 1.003776, min distance = 0.0, better = false\n",
            "\u001b[36m\u001b[1m[ \u001b[22m\u001b[39m\u001b[36m\u001b[1mInfo: \u001b[22m\u001b[39mInterior point LP: τ = -114.69337457, Status = Interior\n",
            "\u001b[36m\u001b[1m[ \u001b[22m\u001b[39m\u001b[36m\u001b[1mInfo: \u001b[22m\u001b[39mCell 4: New point not added, obj = 0.944996, min distance = 0.0, better = false\n"
          ]
        },
        {
          "name": "stdout",
          "output_type": "stream",
          "text": [
            "  New point found: f(x) = 0.942901\n"
          ]
        },
        {
          "name": "stderr",
          "output_type": "stream",
          "text": [
            "\u001b[36m\u001b[1m[ \u001b[22m\u001b[39m\u001b[36m\u001b[1mInfo: \u001b[22m\u001b[39mInterior point LP: τ = -9.01930215, Status = Interior\n"
          ]
        },
        {
          "name": "stdout",
          "output_type": "stream",
          "text": [
            "  New point found: f(x) = 0.944851\n"
          ]
        },
        {
          "name": "stderr",
          "output_type": "stream",
          "text": [
            "\u001b[36m\u001b[1m[ \u001b[22m\u001b[39m\u001b[36m\u001b[1mInfo: \u001b[22m\u001b[39mInterior point LP: τ = -4.16861694, Status = Interior\n"
          ]
        },
        {
          "name": "stdout",
          "output_type": "stream",
          "text": [
            "  New point found: f(x) = 0.946604\n"
          ]
        },
        {
          "name": "stderr",
          "output_type": "stream",
          "text": [
            "\u001b[36m\u001b[1m[ \u001b[22m\u001b[39m\u001b[36m\u001b[1mInfo: \u001b[22m\u001b[39mInterior point LP: τ = -8.44754304, Status = Interior\n"
          ]
        },
        {
          "name": "stdout",
          "output_type": "stream",
          "text": [
            "  New point found: f(x) = 0.944470\n"
          ]
        },
        {
          "name": "stderr",
          "output_type": "stream",
          "text": [
            "\u001b[36m\u001b[1m[ \u001b[22m\u001b[39m\u001b[36m\u001b[1mInfo: \u001b[22m\u001b[39mInterior point LP: τ = -19.05466954, Status = Interior\n"
          ]
        },
        {
          "name": "stdout",
          "output_type": "stream",
          "text": [
            "  New point found: f(x) = 0.945228\n"
          ]
        },
        {
          "name": "stderr",
          "output_type": "stream",
          "text": [
            "\u001b[36m\u001b[1m[ \u001b[22m\u001b[39m\u001b[36m\u001b[1mInfo: \u001b[22m\u001b[39mInterior point LP: τ = -0.08607577, Status = Interior\n",
            "\u001b[36m\u001b[1m[ \u001b[22m\u001b[39m\u001b[36m\u001b[1mInfo: \u001b[22m\u001b[39mInterior point LP: τ = -4.67289772, Status = Interior\n",
            "\u001b[36m\u001b[1m[ \u001b[22m\u001b[39m\u001b[36m\u001b[1mInfo: \u001b[22m\u001b[39mCell 10: New point not added, obj = 0.947412, min distance = 0.0, better = false\n"
          ]
        },
        {
          "name": "stdout",
          "output_type": "stream",
          "text": [
            "  New point found: f(x) = 0.946250\n"
          ]
        },
        {
          "name": "stderr",
          "output_type": "stream",
          "text": [
            "\u001b[36m\u001b[1m[ \u001b[22m\u001b[39m\u001b[36m\u001b[1mInfo: \u001b[22m\u001b[39mInterior point LP: τ = -9.22862072, Status = Interior\n"
          ]
        },
        {
          "name": "stdout",
          "output_type": "stream",
          "text": [
            "  New point found: f(x) = 0.945124\n"
          ]
        },
        {
          "name": "stderr",
          "output_type": "stream",
          "text": [
            "\u001b[36m\u001b[1m[ \u001b[22m\u001b[39m\u001b[36m\u001b[1mInfo: \u001b[22m\u001b[39mInterior point LP: τ = -13.50368973, Status = Interior\n"
          ]
        },
        {
          "name": "stdout",
          "output_type": "stream",
          "text": [
            "  New point found: f(x) = 0.944714\n"
          ]
        },
        {
          "name": "stderr",
          "output_type": "stream",
          "text": [
            "\u001b[36m\u001b[1m[ \u001b[22m\u001b[39m\u001b[36m\u001b[1mInfo: \u001b[22m\u001b[39mInterior point LP: τ = -347.74446084, Status = Interior\n"
          ]
        },
        {
          "name": "stdout",
          "output_type": "stream",
          "text": [
            "  New point found: f(x) = 0.943914\n"
          ]
        },
        {
          "name": "stderr",
          "output_type": "stream",
          "text": [
            "\u001b[36m\u001b[1m[ \u001b[22m\u001b[39m\u001b[36m\u001b[1mInfo: \u001b[22m\u001b[39mInterior point LP: τ = -80.89410847, Status = Interior\n"
          ]
        },
        {
          "name": "stdout",
          "output_type": "stream",
          "text": [
            "  New point found: f(x) = 0.951325\n"
          ]
        },
        {
          "name": "stderr",
          "output_type": "stream",
          "text": [
            "\u001b[36m\u001b[1m[ \u001b[22m\u001b[39m\u001b[36m\u001b[1mInfo: \u001b[22m\u001b[39mInterior point LP: τ = -44.50805874, Status = Interior\n",
            "\u001b[36m\u001b[1m[ \u001b[22m\u001b[39m\u001b[36m\u001b[1mInfo: \u001b[22m\u001b[39mInterior point LP: τ = -0.20681065, Status = Interior\n",
            "\u001b[36m\u001b[1m[ \u001b[22m\u001b[39m\u001b[36m\u001b[1mInfo: \u001b[22m\u001b[39mCell 16: New point not added, obj = 0.986646, min distance = 0.0, better = false\n"
          ]
        },
        {
          "name": "stdout",
          "output_type": "stream",
          "text": [
            "  ✅ Level 6 completed in 11.0282 sec | Best objective so far: 0.942901\n",
            "→ VDCG Level 7: 27 sites, Current best f(x) = 0.942901\n"
          ]
        },
        {
          "name": "stderr",
          "output_type": "stream",
          "text": [
            "\u001b[36m\u001b[1m[ \u001b[22m\u001b[39m\u001b[36m\u001b[1mInfo: \u001b[22m\u001b[39mInterior point LP: τ = -643.75149197, Status = Interior\n",
            "\u001b[36m\u001b[1m[ \u001b[22m\u001b[39m\u001b[36m\u001b[1mInfo: \u001b[22m\u001b[39mCell 1: New point not added, obj = 0.956656, min distance = 0.0, better = false\n"
          ]
        },
        {
          "name": "stdout",
          "output_type": "stream",
          "text": [
            "  New point found: f(x) = 0.945228\n"
          ]
        },
        {
          "name": "stderr",
          "output_type": "stream",
          "text": [
            "\u001b[36m\u001b[1m[ \u001b[22m\u001b[39m\u001b[36m\u001b[1mInfo: \u001b[22m\u001b[39mInterior point LP: τ = -253.10278286, Status = Interior\n",
            "\u001b[36m\u001b[1m[ \u001b[22m\u001b[39m\u001b[36m\u001b[1mInfo: \u001b[22m\u001b[39mInterior point LP: τ = -587.26025775, Status = Interior\n",
            "\u001b[36m\u001b[1m[ \u001b[22m\u001b[39m\u001b[36m\u001b[1mInfo: \u001b[22m\u001b[39mCell 3: New point not added, obj = 1.003776, min distance = 0.0, better = false\n",
            "\u001b[36m\u001b[1m[ \u001b[22m\u001b[39m\u001b[36m\u001b[1mInfo: \u001b[22m\u001b[39mInterior point LP: τ = -113.0491448, Status = Interior\n",
            "\u001b[36m\u001b[1m[ \u001b[22m\u001b[39m\u001b[36m\u001b[1mInfo: \u001b[22m\u001b[39mCell 4: New point not added, obj = 0.944996, min distance = 0.0, better = false\n"
          ]
        },
        {
          "name": "stdout",
          "output_type": "stream",
          "text": [
            "  New point found: f(x) = 1.000000\n",
            "  New point found: f(x) = 0.945527\n"
          ]
        },
        {
          "name": "stderr",
          "output_type": "stream",
          "text": [
            "\u001b[36m\u001b[1m[ \u001b[22m\u001b[39m\u001b[36m\u001b[1mInfo: \u001b[22m\u001b[39mInterior point LP: τ = -8.09763015, Status = Interior\n",
            "\u001b[36m\u001b[1m[ \u001b[22m\u001b[39m\u001b[36m\u001b[1mInfo: \u001b[22m\u001b[39mInterior point LP: τ = -3.95941579, Status = Interior\n"
          ]
        },
        {
          "name": "stdout",
          "output_type": "stream",
          "text": [
            "  New point found: f(x) = 0.947149\n"
          ]
        },
        {
          "name": "stderr",
          "output_type": "stream",
          "text": [
            "\u001b[36m\u001b[1m[ \u001b[22m\u001b[39m\u001b[36m\u001b[1mInfo: \u001b[22m\u001b[39mInterior point LP: τ = -5.94870502, Status = Interior\n"
          ]
        },
        {
          "name": "stdout",
          "output_type": "stream",
          "text": [
            "  New point found: f(x) = 0.945357\n"
          ]
        },
        {
          "name": "stderr",
          "output_type": "stream",
          "text": [
            "\u001b[36m\u001b[1m[ \u001b[22m\u001b[39m\u001b[36m\u001b[1mInfo: \u001b[22m\u001b[39mInterior point LP: τ = -14.79914732, Status = Interior\n"
          ]
        },
        {
          "name": "stdout",
          "output_type": "stream",
          "text": [
            "  New point found: f(x) = 0.945104\n"
          ]
        },
        {
          "name": "stderr",
          "output_type": "stream",
          "text": [
            "\u001b[36m\u001b[1m[ \u001b[22m\u001b[39m\u001b[36m\u001b[1mInfo: \u001b[22m\u001b[39mInterior point LP: τ = -0.08600582, Status = Interior\n",
            "\u001b[36m\u001b[1m[ \u001b[22m\u001b[39m\u001b[36m\u001b[1mInfo: \u001b[22m\u001b[39mInterior point LP: τ = -4.67289772, Status = Interior\n",
            "\u001b[36m\u001b[1m[ \u001b[22m\u001b[39m\u001b[36m\u001b[1mInfo: \u001b[22m\u001b[39mCell 10: New point not added, obj = 0.947412, min distance = 0.0, better = false\n"
          ]
        },
        {
          "name": "stdout",
          "output_type": "stream",
          "text": [
            "  New point found: f(x) = 0.944444\n"
          ]
        },
        {
          "name": "stderr",
          "output_type": "stream",
          "text": [
            "\u001b[36m\u001b[1m[ \u001b[22m\u001b[39m\u001b[36m\u001b[1mInfo: \u001b[22m\u001b[39mInterior point LP: τ = -8.04049593, Status = Interior\n"
          ]
        },
        {
          "name": "stdout",
          "output_type": "stream",
          "text": [
            "  New point found: f(x) = 1.000000\n",
            "  New point found: f(x) = 0.944206\n"
          ]
        },
        {
          "name": "stderr",
          "output_type": "stream",
          "text": [
            "\u001b[36m\u001b[1m[ \u001b[22m\u001b[39m\u001b[36m\u001b[1mInfo: \u001b[22m\u001b[39mInterior point LP: τ = -10.81548216, Status = Interior\n",
            "\u001b[36m\u001b[1m[ \u001b[22m\u001b[39m\u001b[36m\u001b[1mInfo: \u001b[22m\u001b[39mInterior point LP: τ = -107.70638787, Status = Interior\n"
          ]
        },
        {
          "name": "stdout",
          "output_type": "stream",
          "text": [
            "  New point found: f(x) = 0.967606\n"
          ]
        },
        {
          "name": "stderr",
          "output_type": "stream",
          "text": [
            "\u001b[36m\u001b[1m[ \u001b[22m\u001b[39m\u001b[36m\u001b[1mInfo: \u001b[22m\u001b[39mInterior point LP: τ = -60.82126869, Status = Interior\n"
          ]
        },
        {
          "name": "stdout",
          "output_type": "stream",
          "text": [
            "  New point found: f(x) = 0.944846\n"
          ]
        },
        {
          "name": "stderr",
          "output_type": "stream",
          "text": [
            "\u001b[36m\u001b[1m[ \u001b[22m\u001b[39m\u001b[36m\u001b[1mInfo: \u001b[22m\u001b[39mInterior point LP: τ = -36.1631154, Status = Interior\n",
            "\u001b[36m\u001b[1m[ \u001b[22m\u001b[39m\u001b[36m\u001b[1mInfo: \u001b[22m\u001b[39mInterior point LP: τ = -0.20681065, Status = Interior\n",
            "\u001b[36m\u001b[1m[ \u001b[22m\u001b[39m\u001b[36m\u001b[1mInfo: \u001b[22m\u001b[39mCell 16: New point not added, obj = 0.986646, min distance = 0.0, better = false\n"
          ]
        },
        {
          "name": "stdout",
          "output_type": "stream",
          "text": [
            "  New point found: f(x) = 0.942938\n"
          ]
        },
        {
          "name": "stderr",
          "output_type": "stream",
          "text": [
            "\u001b[36m\u001b[1m[ \u001b[22m\u001b[39m\u001b[36m\u001b[1mInfo: \u001b[22m\u001b[39mInterior point LP: τ = -16.63146287, Status = Interior\n"
          ]
        },
        {
          "name": "stdout",
          "output_type": "stream",
          "text": [
            "  New point found: f(x) = 0.944774\n"
          ]
        },
        {
          "name": "stderr",
          "output_type": "stream",
          "text": [
            "\u001b[36m\u001b[1m[ \u001b[22m\u001b[39m\u001b[36m\u001b[1mInfo: \u001b[22m\u001b[39mInterior point LP: τ = -96.83085263, Status = Interior\n"
          ]
        },
        {
          "name": "stdout",
          "output_type": "stream",
          "text": [
            "  New point found: f(x) = 0.944691\n"
          ]
        },
        {
          "name": "stderr",
          "output_type": "stream",
          "text": [
            "\u001b[36m\u001b[1m[ \u001b[22m\u001b[39m\u001b[36m\u001b[1mInfo: \u001b[22m\u001b[39mInterior point LP: τ = -493.91944022, Status = Interior\n"
          ]
        },
        {
          "name": "stdout",
          "output_type": "stream",
          "text": [
            "  New point found: f(x) = 0.945489\n"
          ]
        },
        {
          "name": "stderr",
          "output_type": "stream",
          "text": [
            "\u001b[36m\u001b[1m[ \u001b[22m\u001b[39m\u001b[36m\u001b[1mInfo: \u001b[22m\u001b[39mInterior point LP: τ = -351.18005521, Status = Interior\n"
          ]
        },
        {
          "name": "stdout",
          "output_type": "stream",
          "text": [
            "  New point found: f(x) = 0.945876\n"
          ]
        },
        {
          "name": "stderr",
          "output_type": "stream",
          "text": [
            "\u001b[36m\u001b[1m[ \u001b[22m\u001b[39m\u001b[36m\u001b[1mInfo: \u001b[22m\u001b[39mInterior point LP: τ = -318.17065195, Status = Interior\n"
          ]
        },
        {
          "name": "stdout",
          "output_type": "stream",
          "text": [
            "  New point found: f(x) = 0.943903\n"
          ]
        },
        {
          "name": "stderr",
          "output_type": "stream",
          "text": [
            "\u001b[36m\u001b[1m[ \u001b[22m\u001b[39m\u001b[36m\u001b[1mInfo: \u001b[22m\u001b[39mInterior point LP: τ = -8.51967934, Status = Interior\n"
          ]
        },
        {
          "name": "stdout",
          "output_type": "stream",
          "text": [
            "  New point found: f(x) = 0.947354\n"
          ]
        },
        {
          "name": "stderr",
          "output_type": "stream",
          "text": [
            "\u001b[36m\u001b[1m[ \u001b[22m\u001b[39m\u001b[36m\u001b[1mInfo: \u001b[22m\u001b[39mInterior point LP: τ = -14.32392342, Status = Interior\n"
          ]
        },
        {
          "name": "stdout",
          "output_type": "stream",
          "text": [
            "  New point found: f(x) = 0.945798\n"
          ]
        },
        {
          "name": "stderr",
          "output_type": "stream",
          "text": [
            "\u001b[36m\u001b[1m[ \u001b[22m\u001b[39m\u001b[36m\u001b[1mInfo: \u001b[22m\u001b[39mInterior point LP: τ = -70.78740978, Status = Interior\n",
            "\u001b[36m\u001b[1m[ \u001b[22m\u001b[39m\u001b[36m\u001b[1mInfo: \u001b[22m\u001b[39mInterior point LP: τ = -244.19588111, Status = Interior\n",
            "\u001b[36m\u001b[1m[ \u001b[22m\u001b[39m\u001b[36m\u001b[1mInfo: \u001b[22m\u001b[39mCell 25: New point not added, obj = 0.944714, min distance = 0.0, better = false\n"
          ]
        },
        {
          "name": "stdout",
          "output_type": "stream",
          "text": [
            "  New point found: f(x) = 0.945180\n"
          ]
        },
        {
          "name": "stderr",
          "output_type": "stream",
          "text": [
            "\u001b[36m\u001b[1m[ \u001b[22m\u001b[39m\u001b[36m\u001b[1mInfo: \u001b[22m\u001b[39mInterior point LP: τ = -425.37509079, Status = Interior\n",
            "\u001b[36m\u001b[1m[ \u001b[22m\u001b[39m\u001b[36m\u001b[1mInfo: \u001b[22m\u001b[39mInterior point LP: τ = -537.12316814, Status = Interior\n",
            "\u001b[36m\u001b[1m[ \u001b[22m\u001b[39m\u001b[36m\u001b[1mInfo: \u001b[22m\u001b[39mCell 27: New point not added, obj = 0.951325, min distance = 0.0, better = false\n"
          ]
        },
        {
          "name": "stdout",
          "output_type": "stream",
          "text": [
            "  ✅ Level 7 completed in 17.6605 sec | Best objective so far: 0.942901\n",
            "→ VDCG Level 8: 47 sites, Current best f(x) = 0.942901\n"
          ]
        },
        {
          "name": "stderr",
          "output_type": "stream",
          "text": [
            "\u001b[36m\u001b[1m[ \u001b[22m\u001b[39m\u001b[36m\u001b[1mInfo: \u001b[22m\u001b[39mInterior point LP: τ = -643.75149197, Status = Interior\n",
            "\u001b[36m\u001b[1m[ \u001b[22m\u001b[39m\u001b[36m\u001b[1mInfo: \u001b[22m\u001b[39mCell 1: New point not added, obj = 0.956656, min distance = 0.0, better = false\n"
          ]
        },
        {
          "name": "stdout",
          "output_type": "stream",
          "text": [
            "  New point found: f(x) = 0.945378\n"
          ]
        },
        {
          "name": "stderr",
          "output_type": "stream",
          "text": [
            "\u001b[36m\u001b[1m[ \u001b[22m\u001b[39m\u001b[36m\u001b[1mInfo: \u001b[22m\u001b[39mInterior point LP: τ = -253.08186034, Status = Interior\n",
            "\u001b[36m\u001b[1m[ \u001b[22m\u001b[39m\u001b[36m\u001b[1mInfo: \u001b[22m\u001b[39mInterior point LP: τ = -556.44296188, Status = Interior\n",
            "\u001b[36m\u001b[1m[ \u001b[22m\u001b[39m\u001b[36m\u001b[1mInfo: \u001b[22m\u001b[39mCell 3: New point not added, obj = 1.003776, min distance = 0.0, better = false\n",
            "\u001b[36m\u001b[1m[ \u001b[22m\u001b[39m\u001b[36m\u001b[1mInfo: \u001b[22m\u001b[39mInterior point LP: τ = -113.0491448, Status = Interior\n",
            "\u001b[36m\u001b[1m[ \u001b[22m\u001b[39m\u001b[36m\u001b[1mInfo: \u001b[22m\u001b[39mCell 4: New point not added, obj = 0.944996, min distance = 0.0, better = false\n"
          ]
        },
        {
          "name": "stdout",
          "output_type": "stream",
          "text": [
            "  New point found: f(x) = 0.944649\n"
          ]
        },
        {
          "name": "stderr",
          "output_type": "stream",
          "text": [
            "\u001b[36m\u001b[1m[ \u001b[22m\u001b[39m\u001b[36m\u001b[1mInfo: \u001b[22m\u001b[39mInterior point LP: τ = -7.02718651, Status = Interior\n"
          ]
        },
        {
          "name": "stdout",
          "output_type": "stream",
          "text": [
            "  New point found: f(x) = 0.945977\n"
          ]
        },
        {
          "name": "stderr",
          "output_type": "stream",
          "text": [
            "\u001b[36m\u001b[1m[ \u001b[22m\u001b[39m\u001b[36m\u001b[1mInfo: \u001b[22m\u001b[39mInterior point LP: τ = -3.81428113, Status = Interior\n"
          ]
        },
        {
          "name": "stdout",
          "output_type": "stream",
          "text": [
            "  New point found: f(x) = 0.944672\n"
          ]
        },
        {
          "name": "stderr",
          "output_type": "stream",
          "text": [
            "\u001b[36m\u001b[1m[ \u001b[22m\u001b[39m\u001b[36m\u001b[1mInfo: \u001b[22m\u001b[39mInterior point LP: τ = -5.57809898, Status = Interior\n"
          ]
        },
        {
          "name": "stdout",
          "output_type": "stream",
          "text": [
            "  New point found: f(x) = 0.943946\n"
          ]
        },
        {
          "name": "stderr",
          "output_type": "stream",
          "text": [
            "\u001b[36m\u001b[1m[ \u001b[22m\u001b[39m\u001b[36m\u001b[1mInfo: \u001b[22m\u001b[39mInterior point LP: τ = -11.63346817, Status = Interior\n"
          ]
        },
        {
          "name": "stdout",
          "output_type": "stream",
          "text": [
            "  New point found: f(x) = 0.944896\n"
          ]
        },
        {
          "name": "stderr",
          "output_type": "stream",
          "text": [
            "\u001b[36m\u001b[1m[ \u001b[22m\u001b[39m\u001b[36m\u001b[1mInfo: \u001b[22m\u001b[39mInterior point LP: τ = -0.08597424, Status = Interior\n",
            "\u001b[36m\u001b[1m[ \u001b[22m\u001b[39m\u001b[36m\u001b[1mInfo: \u001b[22m\u001b[39mInterior point LP: τ = -4.67289772, Status = Interior\n",
            "\u001b[36m\u001b[1m[ \u001b[22m\u001b[39m\u001b[36m\u001b[1mInfo: \u001b[22m\u001b[39mCell 10: New point not added, obj = 0.947412, min distance = 0.0, better = false\n"
          ]
        },
        {
          "name": "stdout",
          "output_type": "stream",
          "text": [
            "  New point found: f(x) = 0.945029\n"
          ]
        },
        {
          "name": "stderr",
          "output_type": "stream",
          "text": [
            "\u001b[36m\u001b[1m[ \u001b[22m\u001b[39m\u001b[36m\u001b[1mInfo: \u001b[22m\u001b[39mInterior point LP: τ = -6.72685439, Status = Interior\n"
          ]
        },
        {
          "name": "stdout",
          "output_type": "stream",
          "text": [
            "  New point found: f(x) = 0.945079\n"
          ]
        },
        {
          "name": "stderr",
          "output_type": "stream",
          "text": [
            "\u001b[36m\u001b[1m[ \u001b[22m\u001b[39m\u001b[36m\u001b[1mInfo: \u001b[22m\u001b[39mInterior point LP: τ = -10.66685588, Status = Interior\n"
          ]
        },
        {
          "name": "stdout",
          "output_type": "stream",
          "text": [
            "  New point found: f(x) = 0.944074\n"
          ]
        },
        {
          "name": "stderr",
          "output_type": "stream",
          "text": [
            "\u001b[36m\u001b[1m[ \u001b[22m\u001b[39m\u001b[36m\u001b[1mInfo: \u001b[22m\u001b[39mInterior point LP: τ = -66.01850041, Status = Interior\n"
          ]
        },
        {
          "name": "stdout",
          "output_type": "stream",
          "text": [
            "  New point found: f(x) = 0.944119\n"
          ]
        },
        {
          "name": "stderr",
          "output_type": "stream",
          "text": [
            "\u001b[36m\u001b[1m[ \u001b[22m\u001b[39m\u001b[36m\u001b[1mInfo: \u001b[22m\u001b[39mInterior point LP: τ = -48.12414795, Status = Interior\n"
          ]
        },
        {
          "name": "stdout",
          "output_type": "stream",
          "text": [
            "  New point found: f(x) = 0.945790\n"
          ]
        },
        {
          "name": "stderr",
          "output_type": "stream",
          "text": [
            "\u001b[36m\u001b[1m[ \u001b[22m\u001b[39m\u001b[36m\u001b[1mInfo: \u001b[22m\u001b[39mInterior point LP: τ = -14.58412575, Status = Interior\n",
            "\u001b[36m\u001b[1m[ \u001b[22m\u001b[39m\u001b[36m\u001b[1mInfo: \u001b[22m\u001b[39mInterior point LP: τ = -0.20681065, Status = Interior\n",
            "\u001b[36m\u001b[1m[ \u001b[22m\u001b[39m\u001b[36m\u001b[1mInfo: \u001b[22m\u001b[39mCell 16: New point not added, obj = 0.986646, min distance = 0.0, better = false\n"
          ]
        },
        {
          "name": "stdout",
          "output_type": "stream",
          "text": [
            "  New point found: f(x) = 0.943976\n"
          ]
        },
        {
          "name": "stderr",
          "output_type": "stream",
          "text": [
            "\u001b[36m\u001b[1m[ \u001b[22m\u001b[39m\u001b[36m\u001b[1mInfo: \u001b[22m\u001b[39mInterior point LP: τ = -7.35027167, Status = Interior\n"
          ]
        },
        {
          "name": "stdout",
          "output_type": "stream",
          "text": [
            "  New point found: f(x) = 0.944030\n"
          ]
        },
        {
          "name": "stderr",
          "output_type": "stream",
          "text": [
            "\u001b[36m\u001b[1m[ \u001b[22m\u001b[39m\u001b[36m\u001b[1mInfo: \u001b[22m\u001b[39mInterior point LP: τ = -44.55517448, Status = Interior\n"
          ]
        },
        {
          "name": "stdout",
          "output_type": "stream",
          "text": [
            "  New point found: f(x) = 0.943358\n"
          ]
        },
        {
          "name": "stderr",
          "output_type": "stream",
          "text": [
            "\u001b[36m\u001b[1m[ \u001b[22m\u001b[39m\u001b[36m\u001b[1mInfo: \u001b[22m\u001b[39mInterior point LP: τ = -75.4476389, Status = Interior\n"
          ]
        },
        {
          "name": "stdout",
          "output_type": "stream",
          "text": [
            "  New point found: f(x) = 0.946938\n"
          ]
        },
        {
          "name": "stderr",
          "output_type": "stream",
          "text": [
            "\u001b[36m\u001b[1m[ \u001b[22m\u001b[39m\u001b[36m\u001b[1mInfo: \u001b[22m\u001b[39mInterior point LP: τ = -56.62434849, Status = Interior\n"
          ]
        },
        {
          "name": "stdout",
          "output_type": "stream",
          "text": [
            "  New point found: f(x) = 0.944122\n"
          ]
        },
        {
          "name": "stderr",
          "output_type": "stream",
          "text": [
            "\u001b[36m\u001b[1m[ \u001b[22m\u001b[39m\u001b[36m\u001b[1mInfo: \u001b[22m\u001b[39mInterior point LP: τ = -218.52226831, Status = Interior\n"
          ]
        },
        {
          "name": "stdout",
          "output_type": "stream",
          "text": [
            "  New point found: f(x) = 0.944648\n"
          ]
        },
        {
          "name": "stderr",
          "output_type": "stream",
          "text": [
            "\u001b[36m\u001b[1m[ \u001b[22m\u001b[39m\u001b[36m\u001b[1mInfo: \u001b[22m\u001b[39mInterior point LP: τ = -6.20630879, Status = Interior\n"
          ]
        },
        {
          "name": "stdout",
          "output_type": "stream",
          "text": [
            "  New point found: f(x) = 0.945396\n"
          ]
        },
        {
          "name": "stderr",
          "output_type": "stream",
          "text": [
            "\u001b[36m\u001b[1m[ \u001b[22m\u001b[39m\u001b[36m\u001b[1mInfo: \u001b[22m\u001b[39mInterior point LP: τ = -12.74785117, Status = Interior\n"
          ]
        },
        {
          "name": "stdout",
          "output_type": "stream",
          "text": [
            "  New point found: f(x) = 0.945710\n"
          ]
        },
        {
          "name": "stderr",
          "output_type": "stream",
          "text": [
            "\u001b[36m\u001b[1m[ \u001b[22m\u001b[39m\u001b[36m\u001b[1mInfo: \u001b[22m\u001b[39mInterior point LP: τ = -24.85141998, Status = Interior\n",
            "\u001b[36m\u001b[1m[ \u001b[22m\u001b[39m\u001b[36m\u001b[1mInfo: \u001b[22m\u001b[39mInterior point LP: τ = -244.19588111, Status = Interior\n",
            "\u001b[36m\u001b[1m[ \u001b[22m\u001b[39m\u001b[36m\u001b[1mInfo: \u001b[22m\u001b[39mCell 25: New point not added, obj = 0.944714, min distance = 0.0, better = false\n"
          ]
        },
        {
          "name": "stdout",
          "output_type": "stream",
          "text": [
            "  New point found: f(x) = 0.943774\n"
          ]
        },
        {
          "name": "stderr",
          "output_type": "stream",
          "text": [
            "\u001b[36m\u001b[1m[ \u001b[22m\u001b[39m\u001b[36m\u001b[1mInfo: \u001b[22m\u001b[39mInterior point LP: τ = -30.47910988, Status = Interior\n",
            "\u001b[36m\u001b[1m[ \u001b[22m\u001b[39m\u001b[36m\u001b[1mInfo: \u001b[22m\u001b[39mInterior point LP: τ = -495.94966357, Status = Interior\n",
            "\u001b[36m\u001b[1m[ \u001b[22m\u001b[39m\u001b[36m\u001b[1mInfo: \u001b[22m\u001b[39mCell 27: New point not added, obj = 0.951325, min distance = 0.0, better = false\n"
          ]
        },
        {
          "name": "stdout",
          "output_type": "stream",
          "text": [
            "  New point found: f(x) = 0.944942\n"
          ]
        },
        {
          "name": "stderr",
          "output_type": "stream",
          "text": [
            "\u001b[36m\u001b[1m[ \u001b[22m\u001b[39m\u001b[36m\u001b[1mInfo: \u001b[22m\u001b[39mInterior point LP: τ = -6.88966585, Status = Interior\n"
          ]
        },
        {
          "name": "stdout",
          "output_type": "stream",
          "text": [
            "  New point found: f(x) = 1.000000\n",
            "  New point found: f(x) = 0.945438\n"
          ]
        },
        {
          "name": "stderr",
          "output_type": "stream",
          "text": [
            "\u001b[36m\u001b[1m[ \u001b[22m\u001b[39m\u001b[36m\u001b[1mInfo: \u001b[22m\u001b[39mInterior point LP: τ = -166.03632437, Status = Interior\n",
            "\u001b[36m\u001b[1m[ \u001b[22m\u001b[39m\u001b[36m\u001b[1mInfo: \u001b[22m\u001b[39mInterior point LP: τ = -39.99026062, Status = Interior\n"
          ]
        },
        {
          "name": "stdout",
          "output_type": "stream",
          "text": [
            "  New point found: f(x) = 0.947593\n"
          ]
        },
        {
          "name": "stderr",
          "output_type": "stream",
          "text": [
            "\u001b[36m\u001b[1m[ \u001b[22m\u001b[39m\u001b[36m\u001b[1mInfo: \u001b[22m\u001b[39mInterior point LP: τ = -226.39482506, Status = Interior\n"
          ]
        },
        {
          "name": "stdout",
          "output_type": "stream",
          "text": [
            "  New point found: f(x) = 0.945846\n"
          ]
        },
        {
          "name": "stderr",
          "output_type": "stream",
          "text": [
            "\u001b[36m\u001b[1m[ \u001b[22m\u001b[39m\u001b[36m\u001b[1mInfo: \u001b[22m\u001b[39mInterior point LP: τ = -97.45139678, Status = Interior\n"
          ]
        },
        {
          "name": "stdout",
          "output_type": "stream",
          "text": [
            "  New point found: f(x) = 0.944038\n"
          ]
        },
        {
          "name": "stderr",
          "output_type": "stream",
          "text": [
            "\u001b[36m\u001b[1m[ \u001b[22m\u001b[39m\u001b[36m\u001b[1mInfo: \u001b[22m\u001b[39mInterior point LP: τ = -4.85470299, Status = Interior\n"
          ]
        },
        {
          "name": "stdout",
          "output_type": "stream",
          "text": [
            "  New point found: f(x) = 0.944732\n"
          ]
        },
        {
          "name": "stderr",
          "output_type": "stream",
          "text": [
            "\u001b[36m\u001b[1m[ \u001b[22m\u001b[39m\u001b[36m\u001b[1mInfo: \u001b[22m\u001b[39mInterior point LP: τ = -37.69624224, Status = Interior\n"
          ]
        },
        {
          "name": "stdout",
          "output_type": "stream",
          "text": [
            "  New point found: f(x) = 0.955041\n"
          ]
        },
        {
          "name": "stderr",
          "output_type": "stream",
          "text": [
            "\u001b[36m\u001b[1m[ \u001b[22m\u001b[39m\u001b[36m\u001b[1mInfo: \u001b[22m\u001b[39mInterior point LP: τ = -371.84355296, Status = Interior\n"
          ]
        },
        {
          "name": "stdout",
          "output_type": "stream",
          "text": [
            "  New point found: f(x) = 0.945584\n"
          ]
        },
        {
          "name": "stderr",
          "output_type": "stream",
          "text": [
            "\u001b[36m\u001b[1m[ \u001b[22m\u001b[39m\u001b[36m\u001b[1mInfo: \u001b[22m\u001b[39mInterior point LP: τ = -87.99834859, Status = Interior\n"
          ]
        },
        {
          "name": "stdout",
          "output_type": "stream",
          "text": [
            "  New point found: f(x) = 1.000000\n",
            "  New point found: f(x) = 0.945771\n"
          ]
        },
        {
          "name": "stderr",
          "output_type": "stream",
          "text": [
            "\u001b[36m\u001b[1m[ \u001b[22m\u001b[39m\u001b[36m\u001b[1mInfo: \u001b[22m\u001b[39mInterior point LP: τ = -475.87085827, Status = Interior\n",
            "\u001b[36m\u001b[1m[ \u001b[22m\u001b[39m\u001b[36m\u001b[1mInfo: \u001b[22m\u001b[39mInterior point LP: τ = -36.6713917, Status = Interior\n"
          ]
        },
        {
          "name": "stdout",
          "output_type": "stream",
          "text": [
            "  New point found: f(x) = 0.957588\n"
          ]
        },
        {
          "name": "stderr",
          "output_type": "stream",
          "text": [
            "\u001b[36m\u001b[1m[ \u001b[22m\u001b[39m\u001b[36m\u001b[1mInfo: \u001b[22m\u001b[39mInterior point LP: τ = -216.00039679, Status = Interior\n"
          ]
        },
        {
          "name": "stdout",
          "output_type": "stream",
          "text": [
            "  New point found: f(x) = 0.945993\n"
          ]
        },
        {
          "name": "stderr",
          "output_type": "stream",
          "text": [
            "\u001b[36m\u001b[1m[ \u001b[22m\u001b[39m\u001b[36m\u001b[1mInfo: \u001b[22m\u001b[39mInterior point LP: τ = -148.16525892, Status = Interior\n",
            "\u001b[36m\u001b[1m[ \u001b[22m\u001b[39m\u001b[36m\u001b[1mInfo: \u001b[22m\u001b[39mInterior point LP: τ = -147.5261855, Status = Interior\n",
            "\u001b[36m\u001b[1m[ \u001b[22m\u001b[39m\u001b[36m\u001b[1mInfo: \u001b[22m\u001b[39mCell 41: New point not added, obj = 0.944691, min distance = 0.0, better = false\n",
            "\u001b[36m\u001b[1m[ \u001b[22m\u001b[39m\u001b[36m\u001b[1mInfo: \u001b[22m\u001b[39mInterior point LP: τ = -331.84301995, Status = Interior\n",
            "\u001b[36m\u001b[1m[ \u001b[22m\u001b[39m\u001b[36m\u001b[1mInfo: \u001b[22m\u001b[39mCell 42: New point not added, obj = 0.945489, min distance = 0.0, better = false\n",
            "\u001b[36m\u001b[1m[ \u001b[22m\u001b[39m\u001b[36m\u001b[1mInfo: \u001b[22m\u001b[39mInterior point LP: τ = -311.79699326, Status = Interior\n",
            "\u001b[36m\u001b[1m[ \u001b[22m\u001b[39m\u001b[36m\u001b[1mInfo: \u001b[22m\u001b[39mCell 43: New point not added, obj = 0.945876, min distance = 0.0, better = false\n"
          ]
        },
        {
          "name": "stdout",
          "output_type": "stream",
          "text": [
            "  New point found: f(x) = 0.946273\n"
          ]
        },
        {
          "name": "stderr",
          "output_type": "stream",
          "text": [
            "\u001b[36m\u001b[1m[ \u001b[22m\u001b[39m\u001b[36m\u001b[1mInfo: \u001b[22m\u001b[39mInterior point LP: τ = -35.21023777, Status = Interior\n"
          ]
        },
        {
          "name": "stdout",
          "output_type": "stream",
          "text": [
            "  New point found: f(x) = 0.947985\n"
          ]
        },
        {
          "name": "stderr",
          "output_type": "stream",
          "text": [
            "\u001b[36m\u001b[1m[ \u001b[22m\u001b[39m\u001b[36m\u001b[1mInfo: \u001b[22m\u001b[39mInterior point LP: τ = -155.33508667, Status = Interior\n",
            "\u001b[36m\u001b[1m[ \u001b[22m\u001b[39m\u001b[36m\u001b[1mInfo: \u001b[22m\u001b[39mInterior point LP: τ = -604.30986688, Status = Interior\n",
            "\u001b[36m\u001b[1m[ \u001b[22m\u001b[39m\u001b[36m\u001b[1mInfo: \u001b[22m\u001b[39mCell 46: New point not added, obj = 0.945798, min distance = 0.0, better = false\n",
            "\u001b[36m\u001b[1m[ \u001b[22m\u001b[39m\u001b[36m\u001b[1mInfo: \u001b[22m\u001b[39mInterior point LP: τ = -119.14444099, Status = Interior\n",
            "\u001b[36m\u001b[1m[ \u001b[22m\u001b[39m\u001b[36m\u001b[1mInfo: \u001b[22m\u001b[39mCell 47: New point not added, obj = 0.94518, min distance = 0.0, better = false\n"
          ]
        },
        {
          "name": "stdout",
          "output_type": "stream",
          "text": [
            "  ✅ Level 8 completed in 32.0528 sec | Best objective so far: 0.942901\n",
            " 79.450919 seconds (21.15 M allocations: 42.516 GiB, 9.99% gc time, 2.09% compilation time: 13% of which was recompilation)\n",
            "\n",
            "✅ VDCG Best Objective: 0.942901\n",
            "✅ VDCG Total Time: 139.5299 sec, Total Points: 116\n",
            "📊 Running Standard CG...\n",
            "📊 Standard CG Objective: 0.956656\n",
            "🔍 Running Multi-start CG (time-limited)...\n",
            "  Seed 23: f(x) = 0.956656, Time so far: 0.5825 sec, Points: 1\n",
            "  Seed 24: f(x) = 0.949314, Time so far: 1.1900 sec, Points: 2\n",
            "  Seed 25: f(x) = 0.947292, Time so far: 1.8120 sec, Points: 3\n",
            "  Seed 26: f(x) = 0.945849, Time so far: 2.4309 sec, Points: 4\n",
            "  Seed 27: f(x) = 1.340922, Time so far: 3.0311 sec, Points: 5\n",
            "  Seed 28: f(x) = 0.945774, Time so far: 3.5859 sec, Points: 6\n",
            "  Seed 29: f(x) = 0.948422, Time so far: 4.1755 sec, Points: 7\n",
            "  Seed 30: f(x) = 0.994024, Time so far: 4.7581 sec, Points: 8\n",
            "  Seed 31: f(x) = 0.945762, Time so far: 5.3342 sec, Points: 9\n",
            "  Seed 32: f(x) = 0.944996, Time so far: 5.8984 sec, Points: 10\n",
            "  Seed 33: f(x) = 0.948527, Time so far: 6.4825 sec, Points: 11\n",
            "  Seed 34: f(x) = 0.963743, Time so far: 7.0333 sec, Points: 12\n",
            "  Seed 35: f(x) = 0.956286, Time so far: 7.6165 sec, Points: 13\n",
            "  Seed 36: f(x) = 0.946679, Time so far: 8.1600 sec, Points: 14\n",
            "  Seed 37: f(x) = 0.945511, Time so far: 8.7390 sec, Points: 15\n",
            "  Seed 38: f(x) = 0.949229, Time so far: 9.4991 sec, Points: 16\n",
            "  Seed 39: f(x) = 0.945702, Time so far: 10.4851 sec, Points: 17\n",
            "  Seed 40: f(x) = 0.945489, Time so far: 11.4179 sec, Points: 18\n",
            "  Seed 41: f(x) = 0.946129, Time so far: 12.2926 sec, Points: 19\n",
            "  Seed 42: f(x) = 0.951571, Time so far: 12.9171 sec, Points: 20\n",
            "  Seed 43: f(x) = 0.943330, Time so far: 13.5605 sec, Points: 21\n",
            "  Seed 44: f(x) = 0.949314, Time so far: 14.1838 sec, Points: 22\n",
            "  Seed 45: f(x) = 1.034564, Time so far: 14.8342 sec, Points: 23\n",
            "  Seed 46: f(x) = 0.945762, Time so far: 15.4207 sec, Points: 24\n",
            "  Seed 47: f(x) = 0.962359, Time so far: 16.0329 sec, Points: 25\n",
            "  Seed 48: f(x) = 0.949229, Time so far: 16.5979 sec, Points: 26\n",
            "  Seed 49: f(x) = 0.950590, Time so far: 17.1784 sec, Points: 27\n",
            "  Seed 50: f(x) = 0.950624, Time so far: 17.7218 sec, Points: 28\n",
            "  Seed 51: f(x) = 0.945769, Time so far: 18.2960 sec, Points: 29\n",
            "  Seed 52: f(x) = 0.948422, Time so far: 18.8761 sec, Points: 30\n",
            "  Seed 53: f(x) = 0.948910, Time so far: 19.4470 sec, Points: 31\n",
            "  Seed 54: f(x) = 0.945665, Time so far: 20.0499 sec, Points: 32\n",
            "  Seed 55: f(x) = 0.945702, Time so far: 20.6302 sec, Points: 33\n",
            "  Seed 56: f(x) = 0.949797, Time so far: 21.1981 sec, Points: 34\n",
            "  Seed 57: f(x) = 0.946182, Time so far: 21.8197 sec, Points: 35\n",
            "  Seed 58: f(x) = 0.945678, Time so far: 22.6200 sec, Points: 36\n",
            "  Seed 59: f(x) = 0.945697, Time so far: 23.5916 sec, Points: 37\n",
            "  Seed 60: f(x) = 1.084593, Time so far: 24.5209 sec, Points: 38\n",
            "  Seed 61: f(x) = 1.684190, Time so far: 25.4397 sec, Points: 39\n",
            "  Seed 62: f(x) = 0.945172, Time so far: 26.0406 sec, Points: 40\n",
            "  Seed 63: f(x) = 1.035400, Time so far: 26.6364 sec, Points: 41\n",
            "  Seed 64: f(x) = 0.956286, Time so far: 27.1916 sec, Points: 42\n",
            "  Seed 65: f(x) = 0.951665, Time so far: 27.8014 sec, Points: 43\n",
            "  Seed 66: f(x) = 0.947985, Time so far: 28.4030 sec, Points: 44\n",
            "  Seed 67: f(x) = 0.945753, Time so far: 29.0080 sec, Points: 45\n",
            "  Seed 68: f(x) = 0.945792, Time so far: 29.6256 sec, Points: 46\n",
            "  Seed 69: f(x) = 0.945762, Time so far: 30.2477 sec, Points: 47\n",
            "  Seed 70: f(x) = 0.945876, Time so far: 30.8532 sec, Points: 48\n",
            "  Seed 71: f(x) = 0.947307, Time so far: 31.4465 sec, Points: 49\n",
            "  Seed 72: f(x) = 0.947795, Time so far: 32.0575 sec, Points: 50\n",
            "  Seed 73: f(x) = 0.945830, Time so far: 32.6599 sec, Points: 51\n",
            "  Seed 74: f(x) = 0.995523, Time so far: 33.2095 sec, Points: 52\n",
            "  Seed 75: f(x) = 0.946633, Time so far: 33.7854 sec, Points: 53\n",
            "  Seed 76: f(x) = 0.975439, Time so far: 34.3396 sec, Points: 54\n",
            "  Seed 77: f(x) = 0.978523, Time so far: 34.9280 sec, Points: 55\n",
            "  Seed 78: f(x) = 0.945599, Time so far: 35.5853 sec, Points: 56\n",
            "  Seed 79: f(x) = 0.948066, Time so far: 36.5738 sec, Points: 57\n",
            "  Seed 80: f(x) = 0.944962, Time so far: 37.5089 sec, Points: 58\n",
            "  Seed 81: f(x) = 0.995098, Time so far: 38.5024 sec, Points: 59\n",
            "  Seed 82: f(x) = 0.952190, Time so far: 39.0858 sec, Points: 60\n",
            "  Seed 83: f(x) = 0.949283, Time so far: 39.6517 sec, Points: 61\n",
            "  Seed 84: f(x) = 0.945762, Time so far: 40.2630 sec, Points: 62\n",
            "  Seed 85: f(x) = 0.945774, Time so far: 40.8649 sec, Points: 63\n",
            "  Seed 86: f(x) = 0.974066, Time so far: 41.4838 sec, Points: 64\n",
            "  Seed 87: f(x) = 0.945774, Time so far: 42.0970 sec, Points: 65\n",
            "  Seed 88: f(x) = 0.948862, Time so far: 42.7042 sec, Points: 66\n",
            "  Seed 89: f(x) = 0.945511, Time so far: 43.2915 sec, Points: 67\n",
            "  Seed 90: f(x) = 0.949314, Time so far: 43.8572 sec, Points: 68\n",
            "  Seed 91: f(x) = 0.944714, Time so far: 44.4520 sec, Points: 69\n",
            "  Seed 92: f(x) = 0.956366, Time so far: 45.0250 sec, Points: 70\n",
            "  Seed 93: f(x) = 0.946182, Time so far: 45.6011 sec, Points: 71\n",
            "  Seed 94: f(x) = 0.967789, Time so far: 46.1880 sec, Points: 72\n",
            "  Seed 95: f(x) = 0.951486, Time so far: 46.8079 sec, Points: 73\n",
            "  Seed 96: f(x) = 0.946677, Time so far: 47.4156 sec, Points: 74\n",
            "  Seed 97: f(x) = 0.945694, Time so far: 48.0192 sec, Points: 75\n",
            "  Seed 98: f(x) = 0.945336, Time so far: 48.7464 sec, Points: 76\n",
            "  Seed 99: f(x) = 0.948527, Time so far: 49.6936 sec, Points: 77\n",
            "  Seed 100: f(x) = 0.948910, Time so far: 50.6204 sec, Points: 78\n",
            "  Seed 101: f(x) = 0.946036, Time so far: 51.5666 sec, Points: 79\n",
            "  Seed 102: f(x) = 0.945697, Time so far: 52.1564 sec, Points: 80\n",
            "  Seed 103: f(x) = 0.945719, Time so far: 52.7544 sec, Points: 81\n",
            "  Seed 104: f(x) = 0.956656, Time so far: 53.3195 sec, Points: 82\n",
            "  Seed 105: f(x) = 0.946252, Time so far: 53.9098 sec, Points: 83\n",
            "  Seed 106: f(x) = 0.945762, Time so far: 54.4683 sec, Points: 84\n",
            "  Seed 107: f(x) = 0.967789, Time so far: 55.0765 sec, Points: 85\n",
            "  Seed 108: f(x) = 0.945599, Time so far: 55.6347 sec, Points: 86\n",
            "  Seed 109: f(x) = 0.975439, Time so far: 56.2289 sec, Points: 87\n",
            "  Seed 110: f(x) = 0.954235, Time so far: 57.3828 sec, Points: 88\n",
            "  Seed 111: f(x) = 0.947332, Time so far: 57.9530 sec, Points: 89\n",
            "  Seed 112: f(x) = 0.946273, Time so far: 58.4902 sec, Points: 90\n",
            "  Seed 113: f(x) = 0.944691, Time so far: 59.0939 sec, Points: 91\n",
            "  Seed 114: f(x) = 0.947795, Time so far: 59.7243 sec, Points: 92\n",
            "  Seed 115: f(x) = 0.944691, Time so far: 60.3696 sec, Points: 93\n",
            "  Seed 116: f(x) = 0.944714, Time so far: 60.9817 sec, Points: 94\n",
            "  Seed 117: f(x) = 0.946711, Time so far: 61.6402 sec, Points: 95\n",
            "  Seed 118: f(x) = 0.945766, Time so far: 62.5902 sec, Points: 96\n",
            "  Seed 119: f(x) = 0.945963, Time so far: 63.4971 sec, Points: 97\n",
            "  Seed 120: f(x) = 0.945792, Time so far: 64.4355 sec, Points: 98\n",
            "  Seed 121: f(x) = 0.970655, Time so far: 65.1501 sec, Points: 99\n",
            "  Seed 122: f(x) = 0.945694, Time so far: 65.7783 sec, Points: 100\n",
            "  Seed 123: f(x) = 0.974066, Time so far: 66.3995 sec, Points: 101\n",
            "  Seed 124: f(x) = 0.944962, Time so far: 66.9957 sec, Points: 102\n",
            "  Seed 125: f(x) = 0.956366, Time so far: 67.6122 sec, Points: 103\n",
            "  Seed 126: f(x) = 0.949370, Time so far: 68.2103 sec, Points: 104\n",
            "  Seed 127: f(x) = 0.948851, Time so far: 68.8274 sec, Points: 105\n",
            "  Seed 128: f(x) = 0.946677, Time so far: 69.4362 sec, Points: 106\n",
            "  Seed 129: f(x) = 0.952027, Time so far: 70.0519 sec, Points: 107\n",
            "  Seed 130: f(x) = 0.945702, Time so far: 70.6720 sec, Points: 108\n",
            "  Seed 131: f(x) = 0.947307, Time so far: 71.2787 sec, Points: 109\n",
            "  Seed 132: f(x) = 1.441937, Time so far: 71.9039 sec, Points: 110\n",
            "  Seed 133: f(x) = 0.949229, Time so far: 72.5215 sec, Points: 111\n",
            "  Seed 134: f(x) = 0.983902, Time so far: 73.1466 sec, Points: 112\n",
            "  Seed 135: f(x) = 0.945390, Time so far: 73.7663 sec, Points: 113\n",
            "  Seed 136: f(x) = 1.064050, Time so far: 73.7865 sec, Points: 114\n",
            "  Seed 137: f(x) = 0.948261, Time so far: 74.3649 sec, Points: 115\n",
            "  Seed 138: f(x) = 0.946677, Time so far: 75.0641 sec, Points: 116\n",
            "  Seed 139: f(x) = 0.945789, Time so far: 76.0525 sec, Points: 117\n",
            "  Seed 140: f(x) = 0.946677, Time so far: 77.0147 sec, Points: 118\n",
            "  Seed 141: f(x) = 0.948166, Time so far: 77.9322 sec, Points: 119\n",
            "  Seed 142: f(x) = 0.949152, Time so far: 78.5870 sec, Points: 120\n",
            "  Seed 143: f(x) = 0.945876, Time so far: 79.2245 sec, Points: 121\n",
            "  Seed 144: f(x) = 0.951325, Time so far: 79.8404 sec, Points: 122\n",
            "  Seed 145: f(x) = 0.950352, Time so far: 80.4356 sec, Points: 123\n",
            "  Seed 146: f(x) = 0.950075, Time so far: 81.0409 sec, Points: 124\n",
            "  Seed 147: f(x) = 0.948634, Time so far: 81.6603 sec, Points: 125\n",
            "  Seed 148: f(x) = 0.949572, Time so far: 82.2402 sec, Points: 126\n",
            "  Seed 149: f(x) = 0.945861, Time so far: 82.8086 sec, Points: 127\n",
            "  Seed 150: f(x) = 0.994024, Time so far: 83.3916 sec, Points: 128\n",
            "  Seed 151: f(x) = 0.946174, Time so far: 83.9979 sec, Points: 129\n",
            "  Seed 152: f(x) = 0.957743, Time so far: 84.6263 sec, Points: 130\n",
            "  Seed 153: f(x) = 0.945761, Time so far: 85.2878 sec, Points: 131\n",
            "  Seed 154: f(x) = 0.948851, Time so far: 85.8997 sec, Points: 132\n",
            "  Seed 155: f(x) = 0.975439, Time so far: 86.5264 sec, Points: 133\n",
            "  Seed 156: f(x) = 0.975439, Time so far: 87.1250 sec, Points: 134\n",
            "  Seed 157: f(x) = 0.950793, Time so far: 87.7394 sec, Points: 135\n",
            "  Seed 158: f(x) = 0.945486, Time so far: 88.6056 sec, Points: 136\n",
            "  Seed 159: f(x) = 0.945390, Time so far: 89.5943 sec, Points: 137\n",
            "  Seed 160: f(x) = 0.945719, Time so far: 90.5676 sec, Points: 138\n",
            "  Seed 161: f(x) = 0.975439, Time so far: 91.3927 sec, Points: 139\n",
            "  Seed 162: f(x) = 0.956286, Time so far: 92.0149 sec, Points: 140\n",
            "  Seed 163: f(x) = 1.089215, Time so far: 92.5852 sec, Points: 141\n",
            "  Seed 164: f(x) = 0.945965, Time so far: 93.2029 sec, Points: 142\n",
            "  Seed 165: f(x) = 0.945809, Time so far: 93.8358 sec, Points: 143\n",
            "  Seed 166: f(x) = 0.955225, Time so far: 94.4519 sec, Points: 144\n",
            "  Seed 167: f(x) = 0.978523, Time so far: 95.0811 sec, Points: 145\n",
            "  Seed 168: f(x) = 0.945695, Time so far: 95.6925 sec, Points: 146\n",
            "  Seed 169: f(x) = 1.003776, Time so far: 96.3046 sec, Points: 147\n",
            "  Seed 170: f(x) = 0.946642, Time so far: 96.8731 sec, Points: 148\n",
            "  Seed 171: f(x) = 0.947292, Time so far: 97.5106 sec, Points: 149\n",
            "  Seed 172: f(x) = 0.946642, Time so far: 98.1281 sec, Points: 150\n",
            "  Seed 173: f(x) = 0.954751, Time so far: 98.7513 sec, Points: 151\n",
            "  Seed 174: f(x) = 0.967789, Time so far: 99.3687 sec, Points: 152\n",
            "  Seed 175: f(x) = 0.949389, Time so far: 99.9767 sec, Points: 153\n",
            "  Seed 176: f(x) = 0.945486, Time so far: 100.5656 sec, Points: 154\n",
            "  Seed 177: f(x) = 0.949437, Time so far: 101.2183 sec, Points: 155\n",
            "  Seed 178: f(x) = 0.948525, Time so far: 102.1879 sec, Points: 156\n",
            "  Seed 179: f(x) = 0.946637, Time so far: 103.1550 sec, Points: 157\n",
            "  Seed 180: f(x) = 0.945762, Time so far: 104.1820 sec, Points: 158\n",
            "  Seed 181: f(x) = 0.946182, Time so far: 104.9119 sec, Points: 159\n",
            "  Seed 182: f(x) = 0.951486, Time so far: 105.5071 sec, Points: 160\n",
            "  Seed 183: f(x) = 1.340922, Time so far: 106.0815 sec, Points: 161\n",
            "  Seed 184: f(x) = 0.945938, Time so far: 106.7019 sec, Points: 162\n",
            "  Seed 185: f(x) = 0.950846, Time so far: 107.2930 sec, Points: 163\n",
            "  Seed 186: f(x) = 1.035400, Time so far: 107.8621 sec, Points: 164\n",
            "  Seed 187: f(x) = 0.945774, Time so far: 108.4487 sec, Points: 165\n",
            "  Seed 188: f(x) = 0.945789, Time so far: 109.0820 sec, Points: 166\n",
            "  Seed 189: f(x) = 0.946129, Time so far: 109.6970 sec, Points: 167\n",
            "  Seed 190: f(x) = 0.946755, Time so far: 110.2958 sec, Points: 168\n",
            "  Seed 191: f(x) = 1.032948, Time so far: 110.8689 sec, Points: 169\n",
            "  Seed 192: f(x) = 0.948166, Time so far: 111.4388 sec, Points: 170\n",
            "  Seed 193: f(x) = 0.949638, Time so far: 112.0473 sec, Points: 171\n",
            "  Seed 194: f(x) = 0.946480, Time so far: 112.6355 sec, Points: 172\n",
            "  Seed 195: f(x) = 0.954836, Time so far: 113.2545 sec, Points: 173\n",
            "  Seed 196: f(x) = 0.946755, Time so far: 113.8613 sec, Points: 174\n",
            "  Seed 197: f(x) = 0.950624, Time so far: 114.4511 sec, Points: 175\n",
            "  Seed 198: f(x) = 0.946018, Time so far: 115.3996 sec, Points: 176\n",
            "  Seed 199: f(x) = 0.945792, Time so far: 116.3749 sec, Points: 177\n",
            "  Seed 200: f(x) = 0.946129, Time so far: 117.3454 sec, Points: 178\n",
            "  Seed 201: f(x) = 0.946182, Time so far: 118.0026 sec, Points: 179\n",
            "  Seed 202: f(x) = 0.946053, Time so far: 118.6248 sec, Points: 180\n",
            "  Seed 203: f(x) = 1.012030, Time so far: 119.2575 sec, Points: 181\n",
            "  Seed 204: f(x) = 0.945963, Time so far: 119.8618 sec, Points: 182\n",
            "  Seed 205: f(x) = 0.944962, Time so far: 120.4900 sec, Points: 183\n",
            "  Seed 206: f(x) = 0.945665, Time so far: 121.0904 sec, Points: 184\n",
            "  Seed 207: f(x) = 0.955041, Time so far: 121.7261 sec, Points: 185\n",
            "  Seed 208: f(x) = 1.684190, Time so far: 122.3341 sec, Points: 186\n",
            "  Seed 209: f(x) = 0.945762, Time so far: 122.9125 sec, Points: 187\n",
            "  Seed 210: f(x) = 0.945846, Time so far: 123.4878 sec, Points: 188\n",
            "  Seed 211: f(x) = 1.035400, Time so far: 124.1184 sec, Points: 189\n",
            "  Seed 212: f(x) = 0.944962, Time so far: 124.7102 sec, Points: 190\n",
            "  Seed 213: f(x) = 1.684190, Time so far: 125.2794 sec, Points: 191\n",
            "  Seed 214: f(x) = 0.945564, Time so far: 125.8732 sec, Points: 192\n",
            "  Seed 215: f(x) = 1.018583, Time so far: 126.4912 sec, Points: 193\n",
            "  Seed 216: f(x) = 0.945762, Time so far: 127.0488 sec, Points: 194\n",
            "  Seed 217: f(x) = 0.954367, Time so far: 127.6597 sec, Points: 195\n",
            "  Seed 218: f(x) = 0.945762, Time so far: 128.6293 sec, Points: 196\n",
            "  Seed 219: f(x) = 0.951571, Time so far: 129.5642 sec, Points: 197\n",
            "  Seed 220: f(x) = 0.995098, Time so far: 130.5168 sec, Points: 198\n",
            "  Seed 221: f(x) = 0.950314, Time so far: 131.2308 sec, Points: 199\n",
            "  Seed 222: f(x) = 0.946705, Time so far: 131.8464 sec, Points: 200\n",
            "  Seed 223: f(x) = 0.946441, Time so far: 132.4464 sec, Points: 201\n",
            "  Seed 224: f(x) = 0.945846, Time so far: 133.0389 sec, Points: 202\n",
            "  Seed 225: f(x) = 0.944697, Time so far: 133.6392 sec, Points: 203\n",
            "  Seed 226: f(x) = 0.949171, Time so far: 134.2252 sec, Points: 204\n",
            "  Seed 227: f(x) = 0.946053, Time so far: 134.8295 sec, Points: 205\n",
            "  Seed 228: f(x) = 1.064050, Time so far: 134.8494 sec, Points: 206\n",
            "  Seed 229: f(x) = 0.947536, Time so far: 135.4116 sec, Points: 207\n",
            "  Seed 230: f(x) = 0.946260, Time so far: 135.9917 sec, Points: 208\n",
            "  Seed 231: f(x) = 0.944996, Time so far: 136.6011 sec, Points: 209\n",
            "  Seed 232: f(x) = 0.949283, Time so far: 137.2126 sec, Points: 210\n",
            "  Seed 233: f(x) = 0.960379, Time so far: 137.8086 sec, Points: 211\n",
            "  Seed 234: f(x) = 0.944714, Time so far: 138.4502 sec, Points: 212\n",
            "  Seed 235: f(x) = 0.960933, Time so far: 139.0837 sec, Points: 213\n",
            "  Seed 236: f(x) = 0.948381, Time so far: 139.6777 sec, Points: 214\n",
            "🔍 Multi-start CG Best: 0.943330 (Time: 139.6777 sec, Points: 214)\n",
            "\n",
            "📋 Summary of Results for Sigmoid Regression (a3a)\n",
            "┌──────────────────────┬─────────────────┬──────────────┬─────────────────┐\n",
            "│ Method               │ Objective Value │ Runtime (sec) │ Points Evaluated │\n",
            "├──────────────────────┼─────────────────┼──────────────┼─────────────────┤\n",
            "│ VDCG                 │ 0.942901        │ 139.5299     │ 116             │\n",
            "│ Standard CG          │ 0.956656        │ 0.4965       │ 1               │\n",
            "│ Multi-start CG       │ 0.943330        │ 139.6777     │ 214             │\n",
            "└──────────────────────┴─────────────────┴──────────────┴─────────────────┘\n"
          ]
        }
      ],
      "source": [
        "using JuMP, HiGHS    #a3a\n",
        "using LinearAlgebra\n",
        "using Zygote\n",
        "using LIBSVMdata\n",
        "using Printf\n",
        "using Random\n",
        "using Statistics\n",
        "using SparseArrays\n",
        "\n",
        "# Set random seed for reproducibility\n",
        "Random.seed!(23)\n",
        "\n",
        "# ================== Configuration ================== #\n",
        "const MAX_LEVELS = 8\n",
        "const TOL_UNIQUE = 1e-3\n",
        "const TOL_CONVERGENCE = 1e-6\n",
        "const TAU_L1 = 50.0  # L1-norm ball radius\n",
        "const tau = 50.0     # L1-norm ball radius\n",
        "\n",
        "# ================== Global Data ================== #\n",
        "A = spzeros(1, 1)\n",
        "y = zeros(1)\n",
        "n = 1\n",
        "\n",
        "# Sigmoid function\n",
        "sigmoid(z) = 1 / (1 + exp(-z))\n",
        "\n",
        "# Objective and gradient\n",
        "f(x) = mean((y .- sigmoid.(A * x)).^2)\n",
        "grad_f(x) = Zygote.gradient(f, x)[1]\n",
        "\n",
        "# Linear Minimization Oracle for the L1-ball ||x||_1 ≤ τ\n",
        "function lmo(g)\n",
        "    i = argmax(abs.(g))\n",
        "    v = zeros(n)\n",
        "    v[i] = -TAU_L1 * sign(g[i])\n",
        "    return v\n",
        "end\n",
        "\n",
        "# Check if a point is new\n",
        "function is_new_point(x, points, tol=TOL_UNIQUE)\n",
        "    all(norm(x - p) >= tol for p in points)\n",
        "end\n",
        "\n",
        "# ================== Adaptive Frank-Wolfe Algorithm ================== #\n",
        "function conditional_gradient_adjustable_scaling(f, grad_f, lmo, x0; max_iter=1000, epsilon=TOL_CONVERGENCE, delta=1e-10, beta=2, gamma=0.5)\n",
        "    x_prev = copy(x0)\n",
        "    x_curr = copy(x0)\n",
        "    values = [f(x_curr)]\n",
        "    times = [0.0]\n",
        "    gaps = Float64[]\n",
        "    L_ks = Float64[]\n",
        "    steps = Float64[]\n",
        "    backtrack_counts = Int[]\n",
        "    gamma_history = [gamma]\n",
        "    k = 0\n",
        "    prev_grad = grad_f(x_prev)\n",
        "    current_f = f(x_curr)\n",
        "    recent_backtracks = Int[]\n",
        "\n",
        "    while k < max_iter\n",
        "        start = time()\n",
        "        current_grad = grad_f(x_curr)\n",
        "        v = lmo(current_grad)\n",
        "        d = v - x_curr\n",
        "        normd2 = dot(d, d)\n",
        "        gap = -dot(current_grad, d)\n",
        "\n",
        "        if gap <= epsilon\n",
        "            push!(times, time() - start)\n",
        "            push!(gaps, gap)\n",
        "            break\n",
        "        end\n",
        "\n",
        "        if k == 0\n",
        "            d0 = ones(length(x0)) / sqrt(length(x0))\n",
        "            x_temp = x0 + 1e-3 * d0\n",
        "            L_k = gamma * (norm(grad_f(x0) - grad_f(x_temp)) / (1e-3 * norm(d0)) + delta)\n",
        "        else\n",
        "            grad_diff = norm(current_grad - prev_grad)\n",
        "            x_diff = norm(x_curr - x_prev)\n",
        "            L_k = gamma * (grad_diff / x_diff + delta)\n",
        "        end\n",
        "        Lknormd2 = L_k * normd2\n",
        "        t_k = min(gap / Lknormd2, 1.0)\n",
        "        i = 0\n",
        "        while true\n",
        "            x_new = x_curr + t_k * d\n",
        "            new_f = f(x_new)\n",
        "            if current_f - new_f >= t_k * gap - (Lknormd2 / 2) * t_k^2\n",
        "                x_prev = copy(x_curr)\n",
        "                x_curr = x_new\n",
        "                push!(backtrack_counts, i)\n",
        "                push!(recent_backtracks, i)\n",
        "                break\n",
        "            else\n",
        "                L_k *= beta\n",
        "                Lknormd2 = L_k * normd2\n",
        "                t_k = min(gap / Lknormd2, 1.0)\n",
        "                i += 1\n",
        "            end\n",
        "        end\n",
        "\n",
        "        if k % 10 == 0 && k > 0\n",
        "            total_backtracks = sum(recent_backtracks)\n",
        "            if total_backtracks == 0\n",
        "                gamma = max(1e-4, gamma * 0.9)\n",
        "            elseif total_backtracks > 10\n",
        "                gamma = min(1.0, gamma * 1.1)\n",
        "            end\n",
        "            push!(gamma_history, gamma)\n",
        "            recent_backtracks = Int[]\n",
        "        elseif k % 10 == 0\n",
        "            push!(gamma_history, gamma)\n",
        "            recent_backtracks = Int[]\n",
        "        else\n",
        "            push!(recent_backtracks, i)\n",
        "        end\n",
        "        k += 1\n",
        "        iteration_time = time() - start\n",
        "\n",
        "        current_f = f(x_curr)\n",
        "        prev_grad = current_grad\n",
        "        push!(gaps, gap)\n",
        "        push!(steps, t_k)\n",
        "        push!(values, current_f)\n",
        "        push!(times, iteration_time)\n",
        "        push!(L_ks, L_k)\n",
        "\n",
        "        if k % 100 == 0\n",
        "            # println(\"k=$k, gap=$(round(gap, digits=4)), t_k=$(round(t_k, digits=4)), L_k=$(round(L_ks[end], digits=6)), Time=$(round(times[end], digits=4)), f=$(round(values[end], digits=6))\")\n",
        "        end\n",
        "    end\n",
        "    total_time = sum(times)\n",
        "    return (x_curr, values, times, gaps, L_ks, backtrack_counts, steps, gamma_history, total_time)\n",
        "end\n",
        "\n",
        "# ================== Interior Point via Slack (Paper's Method) ================== #\n",
        "function find_interior_point(p_i, sites)\n",
        "    model = Model(HiGHS.Optimizer)\n",
        "    set_silent(model)\n",
        "    @variable(model, xp[1:n] >= 0)\n",
        "    @variable(model, xn[1:n] >= 0)\n",
        "    @variable(model, τ)\n",
        "\n",
        "    # L1 constraint: ||x||_1 ≤ TAU_L1\n",
        "    @constraint(model, sum(xp) + sum(xn) <= TAU_L1)\n",
        "\n",
        "    # Reconstruct x = xp - xn\n",
        "    x = xp - xn\n",
        "\n",
        "    # Voronoi cell constraints with slack\n",
        "    for j in 1:length(sites)\n",
        "        if sites[j] ≈ p_i\n",
        "            continue\n",
        "        end\n",
        "        p_j = sites[j]\n",
        "        a = p_j - p_i\n",
        "        b_val = 0.5 * dot(p_j + p_i, p_j - p_i)\n",
        "        @constraint(model, dot(a, x) <= b_val + τ)\n",
        "    end\n",
        "    @objective(model, Min, τ)\n",
        "    optimize!(model)\n",
        "    if termination_status(model) == OPTIMAL\n",
        "        x_sol = value.(xp) - value.(xn)\n",
        "        τ_sol = value(τ)\n",
        "        @info \"Interior point LP: τ = $(round(τ_sol, digits=8)), Status = $(τ_sol < -1e-8 ? \"Interior\" : \"Boundary\")\"\n",
        "        return τ_sol < -1e-8 ? (x_sol, \"Interior\") : (x_sol, \"Boundary\")\n",
        "    else\n",
        "        @warn \"Interior point LP failed: Infeasible or unbounded\"\n",
        "        if length(sites) == 1\n",
        "            @info \"Returning barycenter as fallback\"\n",
        "            return zeros(n), \"Interior\"\n",
        "        end\n",
        "        return nothing, \"Infeasible\"\n",
        "    end\n",
        "end\n",
        "\n",
        "# ================== Voronoi Partitioning ================== #\n",
        "function create_voronoi_partitions(sites)\n",
        "    base_A = vcat(\n",
        "        Matrix{Float64}(I, n, n),      # x ≥ -TAU_L1\n",
        "        -Matrix{Float64}(I, n, n)      # x ≤ TAU_L1\n",
        "    )\n",
        "    base_b = vcat(\n",
        "        TAU_L1 * ones(n),\n",
        "        TAU_L1 * ones(n)\n",
        "    )\n",
        "    partitions = []\n",
        "    K = length(sites)\n",
        "    if K == 1\n",
        "        push!(partitions, (base_A, base_b))\n",
        "        return partitions\n",
        "    end\n",
        "    for i in 1:K\n",
        "        A_i = copy(base_A)\n",
        "        b_i = copy(base_b)\n",
        "        p_i = sites[i]\n",
        "        for j in 1:K\n",
        "            i == j && continue\n",
        "            p_j = sites[j]\n",
        "            a = (p_j - p_i)'\n",
        "            b_val = 0.5 * dot(p_j + p_i, p_j - p_i)\n",
        "            A_i = vcat(A_i, a)\n",
        "            b_i = vcat(b_i, b_val)\n",
        "        end\n",
        "        push!(partitions, (A_i, b_i))\n",
        "    end\n",
        "    return partitions\n",
        "end\n",
        "\n",
        "# ================== Main VDCG Algorithm ================== #\n",
        "function voronoi_conditional_gradient(f, grad_f, lmo, x0)\n",
        "    x_init, _, cg_times, _, _, _, _, _, init_time = conditional_gradient_adjustable_scaling(f, grad_f, lmo, x0)\n",
        "    total_time = init_time\n",
        "    sites = [x0, x_init]\n",
        "    num_points = 1\n",
        "    archive = [(x_init, f(x_init))]\n",
        "    best_so_far = f(x_init)\n",
        "    @printf(\"Initial solution: f(x) = %.6f\\n\", f(x_init))\n",
        "    @info \"Distance between x0 and x_init: $(norm(x0 - x_init))\"\n",
        "\n",
        "    for level in 1:MAX_LEVELS\n",
        "        start_time = time()\n",
        "        @printf(\"→ VDCG Level %d: %d sites, Current best f(x) = %.6f\\n\", level, length(sites), best_so_far)\n",
        "        partitions = create_voronoi_partitions(sites)\n",
        "        new_sites = []\n",
        "        for (i, (A_cell, b_cell)) in enumerate(partitions)\n",
        "            x_inner, status = find_interior_point(sites[i], sites)\n",
        "            if x_inner === nothing || status == \"Infeasible\"\n",
        "                @info \"Skipping cell $i: $status\"\n",
        "                continue\n",
        "            end\n",
        "            x_stat, _, cg_times, _, _, _, _, _, cg_time = conditional_gradient_adjustable_scaling(f, grad_f, lmo, x_inner)\n",
        "            total_time += cg_time\n",
        "            num_points += 1\n",
        "            obj = f(x_stat)\n",
        "            all_points = [s for (s, _) in archive]\n",
        "            if is_new_point(x_stat, all_points) && is_new_point(x_stat, new_sites)\n",
        "                push!(new_sites, x_stat)\n",
        "                push!(archive, (x_stat, obj))\n",
        "                @printf(\"  New point found: f(x) = %.6f\\n\", obj)\n",
        "                best_so_far = min(best_so_far, obj)\n",
        "            else\n",
        "                min_dist = minimum(norm(x_stat - p) for p in all_points)\n",
        "                @info \"Cell $i: New point not added, obj = $(round(obj, digits=6)), min distance = $(round(min_dist, digits=6)), better = $(obj < best_so_far)\"\n",
        "            end\n",
        "        end\n",
        "        elapsed = time() - start_time\n",
        "        total_time += elapsed\n",
        "        if isempty(new_sites)\n",
        "            @printf(\"→ No new points found. Terminating at level %d.\\n\", level)\n",
        "            @printf(\"  🕒 Level %d runtime: %.4f sec | Best objective: %.6f\\n\", level, elapsed, best_so_far)\n",
        "            break\n",
        "        else\n",
        "            append!(sites, new_sites)\n",
        "            @printf(\"  ✅ Level %d completed in %.4f sec | Best objective so far: %.6f\\n\", level, elapsed, best_so_far)\n",
        "        end\n",
        "    end\n",
        "    best_idx = argmin([obj for (_, obj) in archive])\n",
        "    x_best, f_best = archive[best_idx]\n",
        "    return x_best, f_best, archive, sites, total_time, num_points\n",
        "end\n",
        "\n",
        "# ================== Load Problem Data ================== #\n",
        "function load_libsvm_data()\n",
        "    data_name = \"a3a\"\n",
        "    @info \"Loading LIBSVM dataset '$data_name'...\"\n",
        "    global A, y, n\n",
        "    A_loaded, y_loaded = load_dataset(data_name, dense=false, replace=false, verbose=true)\n",
        "    A = A_loaded\n",
        "    y = Float64.(y_loaded)\n",
        "    m, n = size(A)\n",
        "    # Map labels: {-1,1} → {0,1} for sigmoid output (optional)\n",
        "    # y = (y .+ 1) ./ 2\n",
        "    Random.seed!(23)\n",
        "    V = vcat(tau * I(n), -tau * I(n))\n",
        "    global x0 = V[rand(1:size(V, 1)), :]\n",
        "    @info \"Data loaded: $m samples, $n features\"\n",
        "    @info \"Initial point x0 set on L1-ball boundary\"\n",
        "end\n",
        "\n",
        "# ================== Run Experiment ================== #\n",
        "function main()\n",
        "    # Load data for sigmoid regression\n",
        "    load_libsvm_data()\n",
        "\n",
        "    # Run VDCG\n",
        "    @printf(\"\\n🚀 Starting VDCG...\\n\")\n",
        "    @time x_vdcg, f_vdcg, archive, sites, vdcg_time, vdcg_points = voronoi_conditional_gradient(f, grad_f, lmo, x0)\n",
        "    @printf(\"\\n✅ VDCG Best Objective: %.6f\\n\", f_vdcg)\n",
        "    @printf(\"✅ VDCG Total Time: %.4f sec, Total Points: %d\\n\", vdcg_time, vdcg_points)\n",
        "\n",
        "    # Standard CG\n",
        "    @printf(\"📊 Running Standard CG...\\n\")\n",
        "    x_std, _, _, _, _, _, _, _, std_time = conditional_gradient_adjustable_scaling(f, grad_f, lmo, x0)\n",
        "    f_std = f(x_std)\n",
        "    @printf(\"📊 Standard CG Objective: %.6f\\n\", f_std)\n",
        "\n",
        "    # Multi-start CG (limited by VDCG time)\n",
        "    @printf(\"🔍 Running Multi-start CG (time-limited)...\\n\")\n",
        "    f_multi = Inf\n",
        "    total_multi_time = 0.0\n",
        "    points_evaluated = 0\n",
        "    seed = 23\n",
        "    while total_multi_time < vdcg_time\n",
        "        Random.seed!(seed)\n",
        "        start = time()\n",
        "\n",
        "        # For the first iteration (seed 23), use the same x0 as standard CG\n",
        "        if seed == 23\n",
        "            x_rand = copy(x0)\n",
        "        else\n",
        "            V = vcat(tau * I(n), -tau * I(n))\n",
        "            x_rand = V[rand(1:size(V, 1)), :]\n",
        "        end\n",
        "\n",
        "        x, _, _, _, _, _, _, _, cg_time = conditional_gradient_adjustable_scaling(f, grad_f, lmo, x_rand)\n",
        "        total_multi_time += time() - start\n",
        "        points_evaluated += 1\n",
        "        f_current = f(x)\n",
        "        f_multi = min(f_multi, f_current)\n",
        "\n",
        "        @printf(\"  Seed %d: f(x) = %.6f, Time so far: %.4f sec, Points: %d\\n\", seed, f_current, total_multi_time, points_evaluated)\n",
        "        seed += 1\n",
        "    end\n",
        "    @printf(\"🔍 Multi-start CG Best: %.6f (Time: %.4f sec, Points: %d)\\n\", f_multi, total_multi_time, points_evaluated)\n",
        "\n",
        "    # Summary Table\n",
        "    @printf(\"\\n📋 Summary of Results for Sigmoid Regression (a3a)\\n\")\n",
        "    @printf(\"┌──────────────────────┬─────────────────┬──────────────┬─────────────────┐\\n\")\n",
        "    @printf(\"│ %-20s │ %-15s │ %-12s │ %-15s │\\n\", \"Method\", \"Objective Value\", \"Runtime (sec)\", \"Points Evaluated\")\n",
        "    @printf(\"├──────────────────────┼─────────────────┼──────────────┼─────────────────┤\\n\")\n",
        "    @printf(\"│ %-20s │ %-15.6f │ %-12.4f │ %-15d │\\n\", \"VDCG\", f_vdcg, vdcg_time, vdcg_points)\n",
        "    @printf(\"│ %-20s │ %-15.6f │ %-12.4f │ %-15d │\\n\", \"Standard CG\", f_std, std_time, 1)\n",
        "    @printf(\"│ %-20s │ %-15.6f │ %-12.4f │ %-15d │\\n\", \"Multi-start CG\", f_multi, total_multi_time, points_evaluated)\n",
        "    @printf(\"└──────────────────────┴─────────────────┴──────────────┴─────────────────┘\\n\")\n",
        "end\n",
        "\n",
        "# Run everything\n",
        "main()"
      ]
    },
    {
      "cell_type": "code",
      "execution_count": null,
      "metadata": {
        "colab": {
          "base_uri": "https://localhost:8080/"
        },
        "id": "m7HWiFEKcrdS",
        "outputId": "7d74db93-b60d-44d6-de9b-4ef8ee3f1c67"
      },
      "outputs": [
        {
          "name": "stderr",
          "output_type": "stream",
          "text": [
            "\u001b[36m\u001b[1m[ \u001b[22m\u001b[39m\u001b[36m\u001b[1mInfo: \u001b[22m\u001b[39mLoading LIBSVM dataset 'a4a'...\n"
          ]
        },
        {
          "name": "stdout",
          "output_type": "stream",
          "text": [
            "Downloading the dataset a4a...\n"
          ]
        },
        {
          "name": "stderr",
          "output_type": "stream",
          "text": [
            "* Couldn't find host www.csie.ntu.edu.tw in the .netrc file; using defaults\n",
            "* Host www.csie.ntu.edu.tw:443 was resolved.\n",
            "* IPv6: (none)\n",
            "* IPv4: 140.112.30.26\n",
            "*   Trying 140.112.30.26:443...\n",
            "* Connected to www.csie.ntu.edu.tw (140.112.30.26) port 443\n",
            "* mbedTLS: Connecting to www.csie.ntu.edu.tw:443\n",
            "* mbedTLS: Set min SSL version to TLS 1.0\n",
            "* ALPN: curl offers h2,http/1.1\n",
            "* mbedTLS: Handshake complete, cipher is TLS-ECDHE-RSA-WITH-AES-128-GCM-SHA256\n",
            "* Dumping cert info: * cert. version     : 3\n",
            "* serial number     : 47:E8:00:00:00:07:87:FE:49:35:DC:01:F3:CD:23:5B\n",
            "* issuer name       : C=TW, O=TAIWAN-CA, CN=TWCA Secure SSL Certification Authority\n",
            "* subject name      : C=TW, ST=Taiwan, L=Taipei, O=National Taiwan University, CN=*.csie.ntu.edu.tw\n",
            "* issued  on        : 2024-10-16 09:35:59\n",
            "* expires on        : 2025-11-03 15:59:59\n",
            "* signed using      : RSA with SHA-256\n",
            "* RSA key size      : 2048 bits\n",
            "* basic constraints : CA=false\n",
            "* subject alt name  :\n",
            "*     dNSName : *.csie.ntu.edu.tw\n",
            "*     dNSName : csie.ntu.edu.tw\n",
            "* key usage         : Digital Signature, Key Encipherment\n",
            "* ext key usage     : TLS Web Server Authentication, TLS Web Client Authentication\n",
            "* certificate policies : ???, ???\n",
            "\n",
            "* ALPN: server did not agree on a protocol. Uses default.\n",
            "* SSL connected\n",
            "* using HTTP/1.x\n",
            "> GET /~cjlin/libsvmtools/datasets/binary/a4a HTTP/1.1\n",
            "Host: www.csie.ntu.edu.tw\n",
            "Accept: */*\n",
            "User-Agent: curl/8.6.0 julia/1.11\n",
            "\n",
            "< HTTP/1.1 200 OK\n",
            "< Date: Sat, 30 Aug 2025 19:32:58 GMT\n",
            "< Server: Apache/2.4.57 (Debian)\n",
            "< Strict-Transport-Security: max-age=31536000; includeSubDomains\n",
            "< Last-Modified: Wed, 08 Jun 2005 06:29:24 GMT\n",
            "< ETag: \"53822-3f9020ed19900\"\n",
            "< Accept-Ranges: bytes\n",
            "< Content-Length: 342050\n",
            "< \n"
          ]
        },
        {
          "name": "stdout",
          "output_type": "stream",
          "text": [
            "Loading the dataset...\n"
          ]
        },
        {
          "name": "stderr",
          "output_type": "stream",
          "text": [
            "* Connection #0 to host www.csie.ntu.edu.tw left intact\n",
            "0.0%┣                                             ┫ 0/4.8k [00:00<00:00, -0s/it]\n",
            "24.0%┣█████████▏                            ┫ 1.1k/4.8k [00:00<00:00, 22.8kit/s]\n",
            "44.5%┣█████████████████                     ┫ 2.1k/4.8k [00:00<00:00, 20.7kit/s]\n",
            "\u001b[1A"
          ]
        },
        {
          "name": "stdout",
          "output_type": "stream",
          "text": [
            "\n",
            "🚀 Starting VDCG...\n",
            "Initial solution: f(x) = 0.955828\n"
          ]
        },
        {
          "name": "stderr",
          "output_type": "stream",
          "text": [
            "\r60.5%┣███████████████████████               ┫ 2.9k/4.8k [00:00<00:00, 16.2kit/s]\n",
            "\u001b[1A\r84.5%┣████████████████████████████████▏     ┫ 4.0k/4.8k [00:00<00:00, 17.4kit/s]\n",
            "\u001b[1A\r100.0%┣█████████████████████████████████████┫ 4.8k/4.8k [00:00<00:00, 18.2kit/s]\n",
            "\u001b[1A\r100.0%┣█████████████████████████████████████┫ 4.8k/4.8k [00:00<00:00, 18.2kit/s]\n",
            "\u001b[36m\u001b[1m[ \u001b[22m\u001b[39m\u001b[36m\u001b[1mInfo: \u001b[22m\u001b[39mData loaded: 4781 samples, 123 features\n",
            "\u001b[36m\u001b[1m[ \u001b[22m\u001b[39m\u001b[36m\u001b[1mInfo: \u001b[22m\u001b[39mInitial point x0 set on L1-ball boundary\n"
          ]
        },
        {
          "name": "stdout",
          "output_type": "stream",
          "text": [
            "→ VDCG Level 1: 2 sites, Current best f(x) = 0.955828\n"
          ]
        },
        {
          "name": "stderr",
          "output_type": "stream",
          "text": [
            "\u001b[36m\u001b[1m[ \u001b[22m\u001b[39m\u001b[36m\u001b[1mInfo: \u001b[22m\u001b[39mDistance between x0 and x_init: 35.21812202766044\n",
            "\u001b[36m\u001b[1m[ \u001b[22m\u001b[39m\u001b[36m\u001b[1mInfo: \u001b[22m\u001b[39mInterior point LP: τ = -620.15805958, Status = Interior\n",
            "\u001b[36m\u001b[1m[ \u001b[22m\u001b[39m\u001b[36m\u001b[1mInfo: \u001b[22m\u001b[39mCell 1: New point not added, obj = 0.955828, min distance = 0.0, better = false\n"
          ]
        },
        {
          "name": "stdout",
          "output_type": "stream",
          "text": [
            "  New point found: f(x) = 0.998513\n",
            "  ✅ Level 1 completed in 2.5966 sec | Best objective so far: 0.955828\n"
          ]
        },
        {
          "name": "stderr",
          "output_type": "stream",
          "text": [
            "\u001b[36m\u001b[1m[ \u001b[22m\u001b[39m\u001b[36m\u001b[1mInfo: \u001b[22m\u001b[39mInterior point LP: τ = -2816.37551393, Status = Interior\n"
          ]
        },
        {
          "name": "stdout",
          "output_type": "stream",
          "text": [
            "→ VDCG Level 2: 3 sites, Current best f(x) = 0.955828\n"
          ]
        },
        {
          "name": "stderr",
          "output_type": "stream",
          "text": [
            "\u001b[36m\u001b[1m[ \u001b[22m\u001b[39m\u001b[36m\u001b[1mInfo: \u001b[22m\u001b[39mInterior point LP: τ = -620.15805958, Status = Interior\n",
            "\u001b[36m\u001b[1m[ \u001b[22m\u001b[39m\u001b[36m\u001b[1mInfo: \u001b[22m\u001b[39mCell 1: New point not added, obj = 0.955828, min distance = 0.0, better = false\n"
          ]
        },
        {
          "name": "stdout",
          "output_type": "stream",
          "text": [
            "  New point found: f(x) = 0.943113\n"
          ]
        },
        {
          "name": "stderr",
          "output_type": "stream",
          "text": [
            "\u001b[36m\u001b[1m[ \u001b[22m\u001b[39m\u001b[36m\u001b[1mInfo: \u001b[22m\u001b[39mInterior point LP: τ = -568.8728725, Status = Interior\n",
            "\u001b[36m\u001b[1m[ \u001b[22m\u001b[39m\u001b[36m\u001b[1mInfo: \u001b[22m\u001b[39mInterior point LP: τ = -1564.2555168, Status = Interior\n",
            "\u001b[36m\u001b[1m[ \u001b[22m\u001b[39m\u001b[36m\u001b[1mInfo: \u001b[22m\u001b[39mCell 3: New point not added, obj = 0.998513, min distance = 0.0, better = false\n"
          ]
        },
        {
          "name": "stdout",
          "output_type": "stream",
          "text": [
            "  ✅ Level 2 completed in 2.7373 sec | Best objective so far: 0.943113\n",
            "→ VDCG Level 3: 4 sites, Current best f(x) = 0.943113\n"
          ]
        },
        {
          "name": "stderr",
          "output_type": "stream",
          "text": [
            "\u001b[36m\u001b[1m[ \u001b[22m\u001b[39m\u001b[36m\u001b[1mInfo: \u001b[22m\u001b[39mInterior point LP: τ = -620.15805958, Status = Interior\n",
            "\u001b[36m\u001b[1m[ \u001b[22m\u001b[39m\u001b[36m\u001b[1mInfo: \u001b[22m\u001b[39mCell 1: New point not added, obj = 0.955828, min distance = 0.0, better = false\n"
          ]
        },
        {
          "name": "stdout",
          "output_type": "stream",
          "text": [
            "  New point found: f(x) = 0.955729\n"
          ]
        },
        {
          "name": "stderr",
          "output_type": "stream",
          "text": [
            "\u001b[36m\u001b[1m[ \u001b[22m\u001b[39m\u001b[36m\u001b[1mInfo: \u001b[22m\u001b[39mInterior point LP: τ = -279.37054075, Status = Interior\n",
            "\u001b[36m\u001b[1m[ \u001b[22m\u001b[39m\u001b[36m\u001b[1mInfo: \u001b[22m\u001b[39mInterior point LP: τ = -717.26874273, Status = Interior\n",
            "\u001b[36m\u001b[1m[ \u001b[22m\u001b[39m\u001b[36m\u001b[1mInfo: \u001b[22m\u001b[39mCell 3: New point not added, obj = 0.998513, min distance = 0.0, better = false\n"
          ]
        },
        {
          "name": "stdout",
          "output_type": "stream",
          "text": [
            "  New point found: f(x) = 0.983652\n",
            "  ✅ Level 3 completed in 3.9850 sec | Best objective so far: 0.943113\n"
          ]
        },
        {
          "name": "stderr",
          "output_type": "stream",
          "text": [
            "\u001b[36m\u001b[1m[ \u001b[22m\u001b[39m\u001b[36m\u001b[1mInfo: \u001b[22m\u001b[39mInterior point LP: τ = -170.31176136, Status = Interior\n"
          ]
        },
        {
          "name": "stdout",
          "output_type": "stream",
          "text": [
            "→ VDCG Level 4: 6 sites, Current best f(x) = 0.943113\n"
          ]
        },
        {
          "name": "stderr",
          "output_type": "stream",
          "text": [
            "\u001b[36m\u001b[1m[ \u001b[22m\u001b[39m\u001b[36m\u001b[1mInfo: \u001b[22m\u001b[39mInterior point LP: τ = -620.15805958, Status = Interior\n",
            "\u001b[36m\u001b[1m[ \u001b[22m\u001b[39m\u001b[36m\u001b[1mInfo: \u001b[22m\u001b[39mCell 1: New point not added, obj = 0.955828, min distance = 0.0, better = false\n"
          ]
        },
        {
          "name": "stdout",
          "output_type": "stream",
          "text": [
            "  New point found: f(x) = 0.943377\n"
          ]
        },
        {
          "name": "stderr",
          "output_type": "stream",
          "text": [
            "\u001b[36m\u001b[1m[ \u001b[22m\u001b[39m\u001b[36m\u001b[1mInfo: \u001b[22m\u001b[39mInterior point LP: τ = -190.21535072, Status = Interior\n",
            "\u001b[36m\u001b[1m[ \u001b[22m\u001b[39m\u001b[36m\u001b[1mInfo: \u001b[22m\u001b[39mInterior point LP: τ = -717.26874273, Status = Interior\n",
            "\u001b[36m\u001b[1m[ \u001b[22m\u001b[39m\u001b[36m\u001b[1mInfo: \u001b[22m\u001b[39mCell 3: New point not added, obj = 0.998513, min distance = 0.0, better = false\n"
          ]
        },
        {
          "name": "stdout",
          "output_type": "stream",
          "text": [
            "  New point found: f(x) = 1.065049\n",
            "  New point found: f(x) = 1.000000\n",
            "  New point found: f(x) = 0.983649\n",
            "  ✅ Level 4 completed in 4.6955 sec | Best objective so far: 0.943113\n"
          ]
        },
        {
          "name": "stderr",
          "output_type": "stream",
          "text": [
            "\u001b[36m\u001b[1m[ \u001b[22m\u001b[39m\u001b[36m\u001b[1mInfo: \u001b[22m\u001b[39mInterior point LP: τ = -151.56313666, Status = Interior\n",
            "\u001b[36m\u001b[1m[ \u001b[22m\u001b[39m\u001b[36m\u001b[1mInfo: \u001b[22m\u001b[39mInterior point LP: τ = -146.05432052, Status = Interior\n",
            "\u001b[36m\u001b[1m[ \u001b[22m\u001b[39m\u001b[36m\u001b[1mInfo: \u001b[22m\u001b[39mInterior point LP: τ = -340.88168646, Status = Interior\n"
          ]
        },
        {
          "name": "stdout",
          "output_type": "stream",
          "text": [
            "→ VDCG Level 5: 10 sites, Current best f(x) = 0.943113\n"
          ]
        },
        {
          "name": "stderr",
          "output_type": "stream",
          "text": [
            "\u001b[36m\u001b[1m[ \u001b[22m\u001b[39m\u001b[36m\u001b[1mInfo: \u001b[22m\u001b[39mInterior point LP: τ = -620.15805958, Status = Interior\n",
            "\u001b[36m\u001b[1m[ \u001b[22m\u001b[39m\u001b[36m\u001b[1mInfo: \u001b[22m\u001b[39mCell 1: New point not added, obj = 0.955828, min distance = 0.0, better = false\n",
            "\u001b[36m\u001b[1m[ \u001b[22m\u001b[39m\u001b[36m\u001b[1mInfo: \u001b[22m\u001b[39mInterior point LP: τ = -190.21535072, Status = Interior\n",
            "\u001b[36m\u001b[1m[ \u001b[22m\u001b[39m\u001b[36m\u001b[1mInfo: \u001b[22m\u001b[39mCell 2: New point not added, obj = 0.943377, min distance = 0.0, better = false\n",
            "\u001b[36m\u001b[1m[ \u001b[22m\u001b[39m\u001b[36m\u001b[1mInfo: \u001b[22m\u001b[39mInterior point LP: τ = -682.54936075, Status = Interior\n",
            "\u001b[36m\u001b[1m[ \u001b[22m\u001b[39m\u001b[36m\u001b[1mInfo: \u001b[22m\u001b[39mCell 3: New point not added, obj = 0.998513, min distance = 0.0, better = false\n"
          ]
        },
        {
          "name": "stdout",
          "output_type": "stream",
          "text": [
            "  New point found: f(x) = 0.955511\n"
          ]
        },
        {
          "name": "stderr",
          "output_type": "stream",
          "text": [
            "\u001b[36m\u001b[1m[ \u001b[22m\u001b[39m\u001b[36m\u001b[1mInfo: \u001b[22m\u001b[39mInterior point LP: τ = -32.8256519, Status = Interior\n"
          ]
        },
        {
          "name": "stdout",
          "output_type": "stream",
          "text": [
            "  New point found: f(x) = 0.943006\n"
          ]
        },
        {
          "name": "stderr",
          "output_type": "stream",
          "text": [
            "\u001b[36m\u001b[1m[ \u001b[22m\u001b[39m\u001b[36m\u001b[1mInfo: \u001b[22m\u001b[39mInterior point LP: τ = -108.04208338, Status = Interior\n"
          ]
        },
        {
          "name": "stdout",
          "output_type": "stream",
          "text": [
            "  New point found: f(x) = 0.944189\n"
          ]
        },
        {
          "name": "stderr",
          "output_type": "stream",
          "text": [
            "\u001b[36m\u001b[1m[ \u001b[22m\u001b[39m\u001b[36m\u001b[1mInfo: \u001b[22m\u001b[39mInterior point LP: τ = -10.6541281, Status = Interior\n"
          ]
        },
        {
          "name": "stdout",
          "output_type": "stream",
          "text": [
            "  New point found: f(x) = 0.943347\n"
          ]
        },
        {
          "name": "stderr",
          "output_type": "stream",
          "text": [
            "\u001b[36m\u001b[1m[ \u001b[22m\u001b[39m\u001b[36m\u001b[1mInfo: \u001b[22m\u001b[39mInterior point LP: τ = -45.02783658, Status = Interior\n"
          ]
        },
        {
          "name": "stdout",
          "output_type": "stream",
          "text": [
            "  New point found: f(x) = 1.065049\n",
            "  New point found: f(x) = 0.965496\n"
          ]
        },
        {
          "name": "stderr",
          "output_type": "stream",
          "text": [
            "\u001b[36m\u001b[1m[ \u001b[22m\u001b[39m\u001b[36m\u001b[1mInfo: \u001b[22m\u001b[39mInterior point LP: τ = -557.98704623, Status = Interior\n",
            "\u001b[36m\u001b[1m[ \u001b[22m\u001b[39m\u001b[36m\u001b[1mInfo: \u001b[22m\u001b[39mInterior point LP: τ = -813.41130683, Status = Interior\n"
          ]
        },
        {
          "name": "stdout",
          "output_type": "stream",
          "text": [
            "  New point found: f(x) = 0.954040\n",
            "  ✅ Level 5 completed in 9.9130 sec | Best objective so far: 0.943006\n"
          ]
        },
        {
          "name": "stderr",
          "output_type": "stream",
          "text": [
            "\u001b[36m\u001b[1m[ \u001b[22m\u001b[39m\u001b[36m\u001b[1mInfo: \u001b[22m\u001b[39mInterior point LP: τ = -11.94851783, Status = Interior\n"
          ]
        },
        {
          "name": "stdout",
          "output_type": "stream",
          "text": [
            "→ VDCG Level 6: 17 sites, Current best f(x) = 0.943006\n"
          ]
        },
        {
          "name": "stderr",
          "output_type": "stream",
          "text": [
            "\u001b[36m\u001b[1m[ \u001b[22m\u001b[39m\u001b[36m\u001b[1mInfo: \u001b[22m\u001b[39mInterior point LP: τ = -620.15805958, Status = Interior\n",
            "\u001b[36m\u001b[1m[ \u001b[22m\u001b[39m\u001b[36m\u001b[1mInfo: \u001b[22m\u001b[39mCell 1: New point not added, obj = 0.955828, min distance = 0.0, better = false\n"
          ]
        },
        {
          "name": "stdout",
          "output_type": "stream",
          "text": [
            "  New point found: f(x) = 0.943734\n"
          ]
        },
        {
          "name": "stderr",
          "output_type": "stream",
          "text": [
            "\u001b[36m\u001b[1m[ \u001b[22m\u001b[39m\u001b[36m\u001b[1mInfo: \u001b[22m\u001b[39mInterior point LP: τ = -189.94878269, Status = Interior\n",
            "\u001b[36m\u001b[1m[ \u001b[22m\u001b[39m\u001b[36m\u001b[1mInfo: \u001b[22m\u001b[39mInterior point LP: τ = -637.61762669, Status = Interior\n",
            "\u001b[36m\u001b[1m[ \u001b[22m\u001b[39m\u001b[36m\u001b[1mInfo: \u001b[22m\u001b[39mCell 3: New point not added, obj = 0.998513, min distance = 0.0, better = false\n"
          ]
        },
        {
          "name": "stdout",
          "output_type": "stream",
          "text": [
            "  New point found: f(x) = 0.941388\n"
          ]
        },
        {
          "name": "stderr",
          "output_type": "stream",
          "text": [
            "\u001b[36m\u001b[1m[ \u001b[22m\u001b[39m\u001b[36m\u001b[1mInfo: \u001b[22m\u001b[39mInterior point LP: τ = -31.3801907, Status = Interior\n"
          ]
        },
        {
          "name": "stdout",
          "output_type": "stream",
          "text": [
            "  New point found: f(x) = 0.944079\n"
          ]
        },
        {
          "name": "stderr",
          "output_type": "stream",
          "text": [
            "\u001b[36m\u001b[1m[ \u001b[22m\u001b[39m\u001b[36m\u001b[1mInfo: \u001b[22m\u001b[39mInterior point LP: τ = -65.10803119, Status = Interior\n",
            "\u001b[36m\u001b[1m[ \u001b[22m\u001b[39m\u001b[36m\u001b[1mInfo: \u001b[22m\u001b[39mInterior point LP: τ = -10.6541281, Status = Interior\n",
            "\u001b[36m\u001b[1m[ \u001b[22m\u001b[39m\u001b[36m\u001b[1mInfo: \u001b[22m\u001b[39mCell 6: New point not added, obj = 0.944189, min distance = 0.0, better = false\n"
          ]
        },
        {
          "name": "stdout",
          "output_type": "stream",
          "text": [
            "  New point found: f(x) = 0.947832\n"
          ]
        },
        {
          "name": "stderr",
          "output_type": "stream",
          "text": [
            "\u001b[36m\u001b[1m[ \u001b[22m\u001b[39m\u001b[36m\u001b[1mInfo: \u001b[22m\u001b[39mInterior point LP: τ = -20.04429289, Status = Interior\n"
          ]
        },
        {
          "name": "stdout",
          "output_type": "stream",
          "text": [
            "  New point found: f(x) = 0.974475\n"
          ]
        },
        {
          "name": "stderr",
          "output_type": "stream",
          "text": [
            "\u001b[36m\u001b[1m[ \u001b[22m\u001b[39m\u001b[36m\u001b[1mInfo: \u001b[22m\u001b[39mInterior point LP: τ = -424.0634533, Status = Interior\n"
          ]
        },
        {
          "name": "stdout",
          "output_type": "stream",
          "text": [
            "  New point found: f(x) = 0.943049\n"
          ]
        },
        {
          "name": "stderr",
          "output_type": "stream",
          "text": [
            "\u001b[36m\u001b[1m[ \u001b[22m\u001b[39m\u001b[36m\u001b[1mInfo: \u001b[22m\u001b[39mInterior point LP: τ = -248.54431197, Status = Interior\n"
          ]
        },
        {
          "name": "stdout",
          "output_type": "stream",
          "text": [
            "  New point found: f(x) = 0.943956\n"
          ]
        },
        {
          "name": "stderr",
          "output_type": "stream",
          "text": [
            "\u001b[36m\u001b[1m[ \u001b[22m\u001b[39m\u001b[36m\u001b[1mInfo: \u001b[22m\u001b[39mInterior point LP: τ = -7.41955892, Status = Interior\n"
          ]
        },
        {
          "name": "stdout",
          "output_type": "stream",
          "text": [
            "  New point found: f(x) = 0.955331\n"
          ]
        },
        {
          "name": "stderr",
          "output_type": "stream",
          "text": [
            "\u001b[36m\u001b[1m[ \u001b[22m\u001b[39m\u001b[36m\u001b[1mInfo: \u001b[22m\u001b[39mInterior point LP: τ = -140.53247692, Status = Interior\n"
          ]
        },
        {
          "name": "stdout",
          "output_type": "stream",
          "text": [
            "  New point found: f(x) = 0.943784\n"
          ]
        },
        {
          "name": "stderr",
          "output_type": "stream",
          "text": [
            "\u001b[36m\u001b[1m[ \u001b[22m\u001b[39m\u001b[36m\u001b[1mInfo: \u001b[22m\u001b[39mInterior point LP: τ = -53.77579916, Status = Interior\n"
          ]
        },
        {
          "name": "stdout",
          "output_type": "stream",
          "text": [
            "  New point found: f(x) = 0.943659\n"
          ]
        },
        {
          "name": "stderr",
          "output_type": "stream",
          "text": [
            "\u001b[36m\u001b[1m[ \u001b[22m\u001b[39m\u001b[36m\u001b[1mInfo: \u001b[22m\u001b[39mInterior point LP: τ = -28.96007076, Status = Interior\n"
          ]
        },
        {
          "name": "stdout",
          "output_type": "stream",
          "text": [
            "  New point found: f(x) = 0.952010\n"
          ]
        },
        {
          "name": "stderr",
          "output_type": "stream",
          "text": [
            "\u001b[36m\u001b[1m[ \u001b[22m\u001b[39m\u001b[36m\u001b[1mInfo: \u001b[22m\u001b[39mInterior point LP: τ = -30.70272459, Status = Interior\n"
          ]
        },
        {
          "name": "stdout",
          "output_type": "stream",
          "text": [
            "  New point found: f(x) = 1.030522\n"
          ]
        },
        {
          "name": "stderr",
          "output_type": "stream",
          "text": [
            "\u001b[36m\u001b[1m[ \u001b[22m\u001b[39m\u001b[36m\u001b[1mInfo: \u001b[22m\u001b[39mInterior point LP: τ = -394.00504816, Status = Interior\n"
          ]
        },
        {
          "name": "stdout",
          "output_type": "stream",
          "text": [
            "  New point found: f(x) = 2.941017\n",
            "  New point found: f(x) = 0.943164\n",
            "  ✅ Level 6 completed in 16.7913 sec | Best objective so far: 0.941388\n"
          ]
        },
        {
          "name": "stderr",
          "output_type": "stream",
          "text": [
            "\u001b[36m\u001b[1m[ \u001b[22m\u001b[39m\u001b[36m\u001b[1mInfo: \u001b[22m\u001b[39mInterior point LP: τ = -324.2476616, Status = Interior\n",
            "\u001b[36m\u001b[1m[ \u001b[22m\u001b[39m\u001b[36m\u001b[1mInfo: \u001b[22m\u001b[39mInterior point LP: τ = -45.32670676, Status = Interior\n"
          ]
        },
        {
          "name": "stdout",
          "output_type": "stream",
          "text": [
            "→ VDCG Level 7: 31 sites, Current best f(x) = 0.941388\n"
          ]
        },
        {
          "name": "stderr",
          "output_type": "stream",
          "text": [
            "\u001b[36m\u001b[1m[ \u001b[22m\u001b[39m\u001b[36m\u001b[1mInfo: \u001b[22m\u001b[39mInterior point LP: τ = -620.15805958, Status = Interior\n",
            "\u001b[36m\u001b[1m[ \u001b[22m\u001b[39m\u001b[36m\u001b[1mInfo: \u001b[22m\u001b[39mCell 1: New point not added, obj = 0.955828, min distance = 0.0, better = false\n"
          ]
        },
        {
          "name": "stdout",
          "output_type": "stream",
          "text": [
            "  New point found: f(x) = 0.943445\n"
          ]
        },
        {
          "name": "stderr",
          "output_type": "stream",
          "text": [
            "\u001b[36m\u001b[1m[ \u001b[22m\u001b[39m\u001b[36m\u001b[1mInfo: \u001b[22m\u001b[39mInterior point LP: τ = -186.22054132, Status = Interior\n",
            "\u001b[36m\u001b[1m[ \u001b[22m\u001b[39m\u001b[36m\u001b[1mInfo: \u001b[22m\u001b[39mInterior point LP: τ = -637.61762669, Status = Interior\n",
            "\u001b[36m\u001b[1m[ \u001b[22m\u001b[39m\u001b[36m\u001b[1mInfo: \u001b[22m\u001b[39mCell 3: New point not added, obj = 0.998513, min distance = 0.0, better = false\n"
          ]
        },
        {
          "name": "stdout",
          "output_type": "stream",
          "text": [
            "  New point found: f(x) = 0.942255\n"
          ]
        },
        {
          "name": "stderr",
          "output_type": "stream",
          "text": [
            "\u001b[36m\u001b[1m[ \u001b[22m\u001b[39m\u001b[36m\u001b[1mInfo: \u001b[22m\u001b[39mInterior point LP: τ = -26.69983635, Status = Interior\n"
          ]
        },
        {
          "name": "stdout",
          "output_type": "stream",
          "text": [
            "  New point found: f(x) = 0.945771\n"
          ]
        },
        {
          "name": "stderr",
          "output_type": "stream",
          "text": [
            "\u001b[36m\u001b[1m[ \u001b[22m\u001b[39m\u001b[36m\u001b[1mInfo: \u001b[22m\u001b[39mInterior point LP: τ = -52.30198223, Status = Interior\n"
          ]
        },
        {
          "name": "stdout",
          "output_type": "stream",
          "text": [
            "  New point found: f(x) = 0.943677\n"
          ]
        },
        {
          "name": "stderr",
          "output_type": "stream",
          "text": [
            "\u001b[36m\u001b[1m[ \u001b[22m\u001b[39m\u001b[36m\u001b[1mInfo: \u001b[22m\u001b[39mInterior point LP: τ = -10.22998029, Status = Interior\n"
          ]
        },
        {
          "name": "stdout",
          "output_type": "stream",
          "text": [
            "  New point found: f(x) = 0.942009\n"
          ]
        },
        {
          "name": "stderr",
          "output_type": "stream",
          "text": [
            "\u001b[36m\u001b[1m[ \u001b[22m\u001b[39m\u001b[36m\u001b[1mInfo: \u001b[22m\u001b[39mInterior point LP: τ = -10.86964598, Status = Interior\n"
          ]
        },
        {
          "name": "stdout",
          "output_type": "stream",
          "text": [
            "  New point found: f(x) = 0.945064\n"
          ]
        },
        {
          "name": "stderr",
          "output_type": "stream",
          "text": [
            "\u001b[36m\u001b[1m[ \u001b[22m\u001b[39m\u001b[36m\u001b[1mInfo: \u001b[22m\u001b[39mInterior point LP: τ = -257.93080404, Status = Interior\n"
          ]
        },
        {
          "name": "stdout",
          "output_type": "stream",
          "text": [
            "  New point found: f(x) = 1.000000\n",
            "  New point found: f(x) = 1.000000\n"
          ]
        },
        {
          "name": "stderr",
          "output_type": "stream",
          "text": [
            "\u001b[36m\u001b[1m[ \u001b[22m\u001b[39m\u001b[36m\u001b[1mInfo: \u001b[22m\u001b[39mInterior point LP: τ = -229.75537796, Status = Interior\n",
            "\u001b[36m\u001b[1m[ \u001b[22m\u001b[39m\u001b[36m\u001b[1mInfo: \u001b[22m\u001b[39mInterior point LP: τ = -7.3554858, Status = Interior\n",
            "\u001b[36m\u001b[1m[ \u001b[22m\u001b[39m\u001b[36m\u001b[1mInfo: \u001b[22m\u001b[39mInterior point LP: τ = -15.52537964, Status = Interior\n",
            "\u001b[36m\u001b[1m[ \u001b[22m\u001b[39m\u001b[36m\u001b[1mInfo: \u001b[22m\u001b[39mCell 11: New point not added, obj = 0.955331, min distance = 0.0, better = false\n"
          ]
        },
        {
          "name": "stdout",
          "output_type": "stream",
          "text": [
            "  New point found: f(x) = 0.941933\n"
          ]
        },
        {
          "name": "stderr",
          "output_type": "stream",
          "text": [
            "\u001b[36m\u001b[1m[ \u001b[22m\u001b[39m\u001b[36m\u001b[1mInfo: \u001b[22m\u001b[39mInterior point LP: τ = -18.54150272, Status = Interior\n"
          ]
        },
        {
          "name": "stdout",
          "output_type": "stream",
          "text": [
            "  New point found: f(x) = 0.990647\n"
          ]
        },
        {
          "name": "stderr",
          "output_type": "stream",
          "text": [
            "\u001b[36m\u001b[1m[ \u001b[22m\u001b[39m\u001b[36m\u001b[1mInfo: \u001b[22m\u001b[39mInterior point LP: τ = -20.74621276, Status = Interior\n"
          ]
        },
        {
          "name": "stdout",
          "output_type": "stream",
          "text": [
            "  New point found: f(x) = 0.942386\n"
          ]
        },
        {
          "name": "stderr",
          "output_type": "stream",
          "text": [
            "\u001b[36m\u001b[1m[ \u001b[22m\u001b[39m\u001b[36m\u001b[1mInfo: \u001b[22m\u001b[39mInterior point LP: τ = -18.3857658, Status = Interior\n",
            "\u001b[36m\u001b[1m[ \u001b[22m\u001b[39m\u001b[36m\u001b[1mInfo: \u001b[22m\u001b[39mInterior point LP: τ = -263.28741283, Status = Interior\n",
            "\u001b[36m\u001b[1m[ \u001b[22m\u001b[39m\u001b[36m\u001b[1mInfo: \u001b[22m\u001b[39mCell 15: New point not added, obj = 1.030522, min distance = 0.0, better = false\n"
          ]
        },
        {
          "name": "stdout",
          "output_type": "stream",
          "text": [
            "  New point found: f(x) = 0.945107\n"
          ]
        },
        {
          "name": "stderr",
          "output_type": "stream",
          "text": [
            "\u001b[36m\u001b[1m[ \u001b[22m\u001b[39m\u001b[36m\u001b[1mInfo: \u001b[22m\u001b[39mInterior point LP: τ = -221.91159152, Status = Interior\n"
          ]
        },
        {
          "name": "stdout",
          "output_type": "stream",
          "text": [
            "  New point found: f(x) = 0.942470\n"
          ]
        },
        {
          "name": "stderr",
          "output_type": "stream",
          "text": [
            "\u001b[36m\u001b[1m[ \u001b[22m\u001b[39m\u001b[36m\u001b[1mInfo: \u001b[22m\u001b[39mInterior point LP: τ = -38.63634621, Status = Interior\n"
          ]
        },
        {
          "name": "stdout",
          "output_type": "stream",
          "text": [
            "  New point found: f(x) = 0.943075\n"
          ]
        },
        {
          "name": "stderr",
          "output_type": "stream",
          "text": [
            "\u001b[36m\u001b[1m[ \u001b[22m\u001b[39m\u001b[36m\u001b[1mInfo: \u001b[22m\u001b[39mInterior point LP: τ = -20.0237196, Status = Interior\n"
          ]
        },
        {
          "name": "stdout",
          "output_type": "stream",
          "text": [
            "  New point found: f(x) = 0.946577\n"
          ]
        },
        {
          "name": "stderr",
          "output_type": "stream",
          "text": [
            "\u001b[36m\u001b[1m[ \u001b[22m\u001b[39m\u001b[36m\u001b[1mInfo: \u001b[22m\u001b[39mInterior point LP: τ = -107.01884527, Status = Interior\n"
          ]
        },
        {
          "name": "stdout",
          "output_type": "stream",
          "text": [
            "  New point found: f(x) = 0.943506\n"
          ]
        },
        {
          "name": "stderr",
          "output_type": "stream",
          "text": [
            "\u001b[36m\u001b[1m[ \u001b[22m\u001b[39m\u001b[36m\u001b[1mInfo: \u001b[22m\u001b[39mInterior point LP: τ = -18.76553039, Status = Interior\n"
          ]
        },
        {
          "name": "stdout",
          "output_type": "stream",
          "text": [
            "  New point found: f(x) = 0.947695\n"
          ]
        },
        {
          "name": "stderr",
          "output_type": "stream",
          "text": [
            "\u001b[36m\u001b[1m[ \u001b[22m\u001b[39m\u001b[36m\u001b[1mInfo: \u001b[22m\u001b[39mInterior point LP: τ = -287.94327118, Status = Interior\n"
          ]
        },
        {
          "name": "stdout",
          "output_type": "stream",
          "text": [
            "  New point found: f(x) = 0.943270\n"
          ]
        },
        {
          "name": "stderr",
          "output_type": "stream",
          "text": [
            "\u001b[36m\u001b[1m[ \u001b[22m\u001b[39m\u001b[36m\u001b[1mInfo: \u001b[22m\u001b[39mInterior point LP: τ = -198.2861636, Status = Interior\n"
          ]
        },
        {
          "name": "stdout",
          "output_type": "stream",
          "text": [
            "  New point found: f(x) = 0.941857\n"
          ]
        },
        {
          "name": "stderr",
          "output_type": "stream",
          "text": [
            "\u001b[36m\u001b[1m[ \u001b[22m\u001b[39m\u001b[36m\u001b[1mInfo: \u001b[22m\u001b[39mInterior point LP: τ = -23.80372162, Status = Interior\n"
          ]
        },
        {
          "name": "stdout",
          "output_type": "stream",
          "text": [
            "  New point found: f(x) = 0.943590\n"
          ]
        },
        {
          "name": "stderr",
          "output_type": "stream",
          "text": [
            "\u001b[36m\u001b[1m[ \u001b[22m\u001b[39m\u001b[36m\u001b[1mInfo: \u001b[22m\u001b[39mInterior point LP: τ = -94.23604044, Status = Interior\n"
          ]
        },
        {
          "name": "stdout",
          "output_type": "stream",
          "text": [
            "  New point found: f(x) = 0.943575\n"
          ]
        },
        {
          "name": "stderr",
          "output_type": "stream",
          "text": [
            "\u001b[36m\u001b[1m[ \u001b[22m\u001b[39m\u001b[36m\u001b[1mInfo: \u001b[22m\u001b[39mInterior point LP: τ = -14.23133108, Status = Interior\n"
          ]
        },
        {
          "name": "stdout",
          "output_type": "stream",
          "text": [
            "  New point found: f(x) = 0.943229\n"
          ]
        },
        {
          "name": "stderr",
          "output_type": "stream",
          "text": [
            "\u001b[36m\u001b[1m[ \u001b[22m\u001b[39m\u001b[36m\u001b[1mInfo: \u001b[22m\u001b[39mInterior point LP: τ = -28.34984741, Status = Interior\n"
          ]
        },
        {
          "name": "stdout",
          "output_type": "stream",
          "text": [
            "  New point found: f(x) = 0.943635\n"
          ]
        },
        {
          "name": "stderr",
          "output_type": "stream",
          "text": [
            "\u001b[36m\u001b[1m[ \u001b[22m\u001b[39m\u001b[36m\u001b[1mInfo: \u001b[22m\u001b[39mInterior point LP: τ = -261.49057246, Status = Interior\n"
          ]
        },
        {
          "name": "stdout",
          "output_type": "stream",
          "text": [
            "  New point found: f(x) = 0.952115\n"
          ]
        },
        {
          "name": "stderr",
          "output_type": "stream",
          "text": [
            "\u001b[36m\u001b[1m[ \u001b[22m\u001b[39m\u001b[36m\u001b[1mInfo: \u001b[22m\u001b[39mInterior point LP: τ = -524.53742077, Status = Interior\n"
          ]
        },
        {
          "name": "stdout",
          "output_type": "stream",
          "text": [
            "  New point found: f(x) = 3.006066\n",
            "  New point found: f(x) = 0.943765\n"
          ]
        },
        {
          "name": "stderr",
          "output_type": "stream",
          "text": [
            "\u001b[36m\u001b[1m[ \u001b[22m\u001b[39m\u001b[36m\u001b[1mInfo: \u001b[22m\u001b[39mInterior point LP: τ = -301.51657442, Status = Interior\n",
            "\u001b[36m\u001b[1m[ \u001b[22m\u001b[39m\u001b[36m\u001b[1mInfo: \u001b[22m\u001b[39mInterior point LP: τ = -613.19109348, Status = Interior\n"
          ]
        },
        {
          "name": "stdout",
          "output_type": "stream",
          "text": [
            "  New point found: f(x) = 0.942964\n",
            "  ✅ Level 7 completed in 28.5451 sec | Best objective so far: 0.941388\n"
          ]
        },
        {
          "name": "stderr",
          "output_type": "stream",
          "text": [
            "\u001b[36m\u001b[1m[ \u001b[22m\u001b[39m\u001b[36m\u001b[1mInfo: \u001b[22m\u001b[39mInterior point LP: τ = -519.54623248, Status = Interior\n"
          ]
        },
        {
          "name": "stdout",
          "output_type": "stream",
          "text": [
            "→ VDCG Level 8: 58 sites, Current best f(x) = 0.941388\n"
          ]
        },
        {
          "name": "stderr",
          "output_type": "stream",
          "text": [
            "\u001b[36m\u001b[1m[ \u001b[22m\u001b[39m\u001b[36m\u001b[1mInfo: \u001b[22m\u001b[39mInterior point LP: τ = -620.15805958, Status = Interior\n",
            "\u001b[36m\u001b[1m[ \u001b[22m\u001b[39m\u001b[36m\u001b[1mInfo: \u001b[22m\u001b[39mCell 1: New point not added, obj = 0.955828, min distance = 0.0, better = false\n",
            "\u001b[36m\u001b[1m[ \u001b[22m\u001b[39m\u001b[36m\u001b[1mInfo: \u001b[22m\u001b[39mInterior point LP: τ = -186.22054132, Status = Interior\n",
            "\u001b[36m\u001b[1m[ \u001b[22m\u001b[39m\u001b[36m\u001b[1mInfo: \u001b[22m\u001b[39mCell 2: New point not added, obj = 0.943445, min distance = 0.0, better = false\n",
            "\u001b[36m\u001b[1m[ \u001b[22m\u001b[39m\u001b[36m\u001b[1mInfo: \u001b[22m\u001b[39mInterior point LP: τ = -636.69829845, Status = Interior\n",
            "\u001b[36m\u001b[1m[ \u001b[22m\u001b[39m\u001b[36m\u001b[1mInfo: \u001b[22m\u001b[39mCell 3: New point not added, obj = 0.998513, min distance = 0.0, better = false\n"
          ]
        },
        {
          "name": "stdout",
          "output_type": "stream",
          "text": [
            "  New point found: f(x) = 0.944394\n"
          ]
        },
        {
          "name": "stderr",
          "output_type": "stream",
          "text": [
            "\u001b[36m\u001b[1m[ \u001b[22m\u001b[39m\u001b[36m\u001b[1mInfo: \u001b[22m\u001b[39mInterior point LP: τ = -25.90212693, Status = Interior\n"
          ]
        },
        {
          "name": "stdout",
          "output_type": "stream",
          "text": [
            "  New point found: f(x) = 0.944848\n"
          ]
        },
        {
          "name": "stderr",
          "output_type": "stream",
          "text": [
            "\u001b[36m\u001b[1m[ \u001b[22m\u001b[39m\u001b[36m\u001b[1mInfo: \u001b[22m\u001b[39mInterior point LP: τ = -50.2586286, Status = Interior\n"
          ]
        },
        {
          "name": "stdout",
          "output_type": "stream",
          "text": [
            "  New point found: f(x) = 1.047689\n",
            "  New point found: f(x) = 0.941409\n"
          ]
        },
        {
          "name": "stderr",
          "output_type": "stream",
          "text": [
            "\u001b[36m\u001b[1m[ \u001b[22m\u001b[39m\u001b[36m\u001b[1mInfo: \u001b[22m\u001b[39mInterior point LP: τ = -9.70802274, Status = Interior\n",
            "\u001b[36m\u001b[1m[ \u001b[22m\u001b[39m\u001b[36m\u001b[1mInfo: \u001b[22m\u001b[39mInterior point LP: τ = -6.41249886, Status = Interior\n",
            "\u001b[36m\u001b[1m[ \u001b[22m\u001b[39m\u001b[36m\u001b[1mInfo: \u001b[22m\u001b[39mInterior point LP: τ = -257.93080404, Status = Interior\n",
            "\u001b[36m\u001b[1m[ \u001b[22m\u001b[39m\u001b[36m\u001b[1mInfo: \u001b[22m\u001b[39mCell 8: New point not added, obj = 0.945064, min distance = 0.0, better = false\n"
          ]
        },
        {
          "name": "stdout",
          "output_type": "stream",
          "text": [
            "  New point found: f(x) = 0.964157\n"
          ]
        },
        {
          "name": "stderr",
          "output_type": "stream",
          "text": [
            "\u001b[36m\u001b[1m[ \u001b[22m\u001b[39m\u001b[36m\u001b[1mInfo: \u001b[22m\u001b[39mInterior point LP: τ = -198.01881681, Status = Interior\n"
          ]
        },
        {
          "name": "stdout",
          "output_type": "stream",
          "text": [
            "  New point found: f(x) = 0.943671\n"
          ]
        },
        {
          "name": "stderr",
          "output_type": "stream",
          "text": [
            "\u001b[36m\u001b[1m[ \u001b[22m\u001b[39m\u001b[36m\u001b[1mInfo: \u001b[22m\u001b[39mInterior point LP: τ = -5.83579797, Status = Interior\n",
            "\u001b[36m\u001b[1m[ \u001b[22m\u001b[39m\u001b[36m\u001b[1mInfo: \u001b[22m\u001b[39mInterior point LP: τ = -15.52537964, Status = Interior\n",
            "\u001b[36m\u001b[1m[ \u001b[22m\u001b[39m\u001b[36m\u001b[1mInfo: \u001b[22m\u001b[39mCell 11: New point not added, obj = 0.955331, min distance = 0.0, better = false\n"
          ]
        },
        {
          "name": "stdout",
          "output_type": "stream",
          "text": [
            "  New point found: f(x) = 0.941969\n"
          ]
        },
        {
          "name": "stderr",
          "output_type": "stream",
          "text": [
            "\u001b[36m\u001b[1m[ \u001b[22m\u001b[39m\u001b[36m\u001b[1mInfo: \u001b[22m\u001b[39mInterior point LP: τ = -13.96637219, Status = Interior\n"
          ]
        },
        {
          "name": "stdout",
          "output_type": "stream",
          "text": [
            "  New point found: f(x) = 0.944401\n"
          ]
        },
        {
          "name": "stderr",
          "output_type": "stream",
          "text": [
            "\u001b[36m\u001b[1m[ \u001b[22m\u001b[39m\u001b[36m\u001b[1mInfo: \u001b[22m\u001b[39mInterior point LP: τ = -9.58463878, Status = Interior\n"
          ]
        },
        {
          "name": "stdout",
          "output_type": "stream",
          "text": [
            "  New point found: f(x) = 0.943105\n"
          ]
        },
        {
          "name": "stderr",
          "output_type": "stream",
          "text": [
            "\u001b[36m\u001b[1m[ \u001b[22m\u001b[39m\u001b[36m\u001b[1mInfo: \u001b[22m\u001b[39mInterior point LP: τ = -12.88316133, Status = Interior\n"
          ]
        },
        {
          "name": "stdout",
          "output_type": "stream",
          "text": [
            "  New point found: f(x) = 1.030502\n"
          ]
        },
        {
          "name": "stderr",
          "output_type": "stream",
          "text": [
            "\u001b[36m\u001b[1m[ \u001b[22m\u001b[39m\u001b[36m\u001b[1mInfo: \u001b[22m\u001b[39mInterior point LP: τ = -254.94084012, Status = Interior\n"
          ]
        },
        {
          "name": "stdout",
          "output_type": "stream",
          "text": [
            "  New point found: f(x) = 0.964012\n"
          ]
        },
        {
          "name": "stderr",
          "output_type": "stream",
          "text": [
            "\u001b[36m\u001b[1m[ \u001b[22m\u001b[39m\u001b[36m\u001b[1mInfo: \u001b[22m\u001b[39mInterior point LP: τ = -220.2081095, Status = Interior\n"
          ]
        },
        {
          "name": "stdout",
          "output_type": "stream",
          "text": [
            "  New point found: f(x) = 0.943213\n"
          ]
        },
        {
          "name": "stderr",
          "output_type": "stream",
          "text": [
            "\u001b[36m\u001b[1m[ \u001b[22m\u001b[39m\u001b[36m\u001b[1mInfo: \u001b[22m\u001b[39mInterior point LP: τ = -31.57648913, Status = Interior\n"
          ]
        },
        {
          "name": "stdout",
          "output_type": "stream",
          "text": [
            "  New point found: f(x) = 0.943636\n"
          ]
        },
        {
          "name": "stderr",
          "output_type": "stream",
          "text": [
            "\u001b[36m\u001b[1m[ \u001b[22m\u001b[39m\u001b[36m\u001b[1mInfo: \u001b[22m\u001b[39mInterior point LP: τ = -17.038277, Status = Interior\n"
          ]
        },
        {
          "name": "stdout",
          "output_type": "stream",
          "text": [
            "  New point found: f(x) = 0.943083\n"
          ]
        },
        {
          "name": "stderr",
          "output_type": "stream",
          "text": [
            "\u001b[36m\u001b[1m[ \u001b[22m\u001b[39m\u001b[36m\u001b[1mInfo: \u001b[22m\u001b[39mInterior point LP: τ = -73.27798662, Status = Interior\n"
          ]
        },
        {
          "name": "stdout",
          "output_type": "stream",
          "text": [
            "  New point found: f(x) = 0.950125\n"
          ]
        },
        {
          "name": "stderr",
          "output_type": "stream",
          "text": [
            "\u001b[36m\u001b[1m[ \u001b[22m\u001b[39m\u001b[36m\u001b[1mInfo: \u001b[22m\u001b[39mInterior point LP: τ = -11.30453231, Status = Interior\n"
          ]
        },
        {
          "name": "stdout",
          "output_type": "stream",
          "text": [
            "  New point found: f(x) = 0.948477\n"
          ]
        },
        {
          "name": "stderr",
          "output_type": "stream",
          "text": [
            "\u001b[36m\u001b[1m[ \u001b[22m\u001b[39m\u001b[36m\u001b[1mInfo: \u001b[22m\u001b[39mInterior point LP: τ = -50.02708928, Status = Interior\n"
          ]
        },
        {
          "name": "stdout",
          "output_type": "stream",
          "text": [
            "  New point found: f(x) = 0.941117\n"
          ]
        },
        {
          "name": "stderr",
          "output_type": "stream",
          "text": [
            "\u001b[36m\u001b[1m[ \u001b[22m\u001b[39m\u001b[36m\u001b[1mInfo: \u001b[22m\u001b[39mInterior point LP: τ = -163.68724615, Status = Interior\n"
          ]
        },
        {
          "name": "stdout",
          "output_type": "stream",
          "text": [
            "  New point found: f(x) = 0.943448\n"
          ]
        },
        {
          "name": "stderr",
          "output_type": "stream",
          "text": [
            "\u001b[36m\u001b[1m[ \u001b[22m\u001b[39m\u001b[36m\u001b[1mInfo: \u001b[22m\u001b[39mInterior point LP: τ = -15.29833696, Status = Interior\n"
          ]
        },
        {
          "name": "stdout",
          "output_type": "stream",
          "text": [
            "  New point found: f(x) = 0.942841\n"
          ]
        },
        {
          "name": "stderr",
          "output_type": "stream",
          "text": [
            "\u001b[36m\u001b[1m[ \u001b[22m\u001b[39m\u001b[36m\u001b[1mInfo: \u001b[22m\u001b[39mInterior point LP: τ = -85.58563653, Status = Interior\n"
          ]
        },
        {
          "name": "stdout",
          "output_type": "stream",
          "text": [
            "  New point found: f(x) = 0.943527\n"
          ]
        },
        {
          "name": "stderr",
          "output_type": "stream",
          "text": [
            "\u001b[36m\u001b[1m[ \u001b[22m\u001b[39m\u001b[36m\u001b[1mInfo: \u001b[22m\u001b[39mInterior point LP: τ = -13.95161887, Status = Interior\n"
          ]
        },
        {
          "name": "stdout",
          "output_type": "stream",
          "text": [
            "  New point found: f(x) = 1.000000\n",
            "  New point found: f(x) = 0.943455\n"
          ]
        },
        {
          "name": "stderr",
          "output_type": "stream",
          "text": [
            "\u001b[36m\u001b[1m[ \u001b[22m\u001b[39m\u001b[36m\u001b[1mInfo: \u001b[22m\u001b[39mInterior point LP: τ = -27.45223038, Status = Interior\n",
            "\u001b[36m\u001b[1m[ \u001b[22m\u001b[39m\u001b[36m\u001b[1mInfo: \u001b[22m\u001b[39mInterior point LP: τ = -40.61189138, Status = Interior\n"
          ]
        },
        {
          "name": "stdout",
          "output_type": "stream",
          "text": [
            "  New point found: f(x) = 0.943393\n"
          ]
        },
        {
          "name": "stderr",
          "output_type": "stream",
          "text": [
            "\u001b[36m\u001b[1m[ \u001b[22m\u001b[39m\u001b[36m\u001b[1mInfo: \u001b[22m\u001b[39mInterior point LP: τ = -24.11099826, Status = Interior\n"
          ]
        },
        {
          "name": "stdout",
          "output_type": "stream",
          "text": [
            "  New point found: f(x) = 0.942013\n"
          ]
        },
        {
          "name": "stderr",
          "output_type": "stream",
          "text": [
            "\u001b[36m\u001b[1m[ \u001b[22m\u001b[39m\u001b[36m\u001b[1mInfo: \u001b[22m\u001b[39mInterior point LP: τ = -236.164958, Status = Interior\n",
            "\u001b[36m\u001b[1m[ \u001b[22m\u001b[39m\u001b[36m\u001b[1mInfo: \u001b[22m\u001b[39mInterior point LP: τ = -613.19109348, Status = Interior\n",
            "\u001b[36m\u001b[1m[ \u001b[22m\u001b[39m\u001b[36m\u001b[1mInfo: \u001b[22m\u001b[39mCell 30: New point not added, obj = 0.943765, min distance = 0.0, better = false\n"
          ]
        },
        {
          "name": "stdout",
          "output_type": "stream",
          "text": [
            "  New point found: f(x) = 0.943883\n"
          ]
        },
        {
          "name": "stderr",
          "output_type": "stream",
          "text": [
            "\u001b[36m\u001b[1m[ \u001b[22m\u001b[39m\u001b[36m\u001b[1mInfo: \u001b[22m\u001b[39mInterior point LP: τ = -44.88020283, Status = Interior\n"
          ]
        },
        {
          "name": "stdout",
          "output_type": "stream",
          "text": [
            "  New point found: f(x) = 0.941708\n"
          ]
        },
        {
          "name": "stderr",
          "output_type": "stream",
          "text": [
            "\u001b[36m\u001b[1m[ \u001b[22m\u001b[39m\u001b[36m\u001b[1mInfo: \u001b[22m\u001b[39mInterior point LP: τ = -18.31352994, Status = Interior\n"
          ]
        },
        {
          "name": "stdout",
          "output_type": "stream",
          "text": [
            "  New point found: f(x) = 0.940524\n"
          ]
        },
        {
          "name": "stderr",
          "output_type": "stream",
          "text": [
            "\u001b[36m\u001b[1m[ \u001b[22m\u001b[39m\u001b[36m\u001b[1mInfo: \u001b[22m\u001b[39mInterior point LP: τ = -14.24758151, Status = Interior\n"
          ]
        },
        {
          "name": "stdout",
          "output_type": "stream",
          "text": [
            "  New point found: f(x) = 0.944907\n"
          ]
        },
        {
          "name": "stderr",
          "output_type": "stream",
          "text": [
            "\u001b[36m\u001b[1m[ \u001b[22m\u001b[39m\u001b[36m\u001b[1mInfo: \u001b[22m\u001b[39mInterior point LP: τ = -244.94896696, Status = Interior\n"
          ]
        },
        {
          "name": "stdout",
          "output_type": "stream",
          "text": [
            "  New point found: f(x) = 0.942337\n"
          ]
        },
        {
          "name": "stderr",
          "output_type": "stream",
          "text": [
            "\u001b[36m\u001b[1m[ \u001b[22m\u001b[39m\u001b[36m\u001b[1mInfo: \u001b[22m\u001b[39mInterior point LP: τ = -6.94994362, Status = Interior\n"
          ]
        },
        {
          "name": "stdout",
          "output_type": "stream",
          "text": [
            "  New point found: f(x) = 0.946102\n"
          ]
        },
        {
          "name": "stderr",
          "output_type": "stream",
          "text": [
            "\u001b[36m\u001b[1m[ \u001b[22m\u001b[39m\u001b[36m\u001b[1mInfo: \u001b[22m\u001b[39mInterior point LP: τ = -37.89031848, Status = Interior\n"
          ]
        },
        {
          "name": "stdout",
          "output_type": "stream",
          "text": [
            "  New point found: f(x) = 0.942080\n"
          ]
        },
        {
          "name": "stderr",
          "output_type": "stream",
          "text": [
            "\u001b[36m\u001b[1m[ \u001b[22m\u001b[39m\u001b[36m\u001b[1mInfo: \u001b[22m\u001b[39mInterior point LP: τ = -24.51711424, Status = Interior\n"
          ]
        },
        {
          "name": "stdout",
          "output_type": "stream",
          "text": [
            "  New point found: f(x) = 0.943058\n"
          ]
        },
        {
          "name": "stderr",
          "output_type": "stream",
          "text": [
            "\u001b[36m\u001b[1m[ \u001b[22m\u001b[39m\u001b[36m\u001b[1mInfo: \u001b[22m\u001b[39mInterior point LP: τ = -251.87102218, Status = Interior\n"
          ]
        },
        {
          "name": "stdout",
          "output_type": "stream",
          "text": [
            "  New point found: f(x) = 1.000000\n",
            "  New point found: f(x) = 0.942466\n"
          ]
        },
        {
          "name": "stderr",
          "output_type": "stream",
          "text": [
            "\u001b[36m\u001b[1m[ \u001b[22m\u001b[39m\u001b[36m\u001b[1mInfo: \u001b[22m\u001b[39mInterior point LP: τ = -368.05512544, Status = Interior\n",
            "\u001b[36m\u001b[1m[ \u001b[22m\u001b[39m\u001b[36m\u001b[1mInfo: \u001b[22m\u001b[39mInterior point LP: τ = -18.90097726, Status = Interior\n"
          ]
        },
        {
          "name": "stdout",
          "output_type": "stream",
          "text": [
            "  New point found: f(x) = 0.990824\n"
          ]
        },
        {
          "name": "stderr",
          "output_type": "stream",
          "text": [
            "\u001b[36m\u001b[1m[ \u001b[22m\u001b[39m\u001b[36m\u001b[1mInfo: \u001b[22m\u001b[39mInterior point LP: τ = -335.35145203, Status = Interior\n"
          ]
        },
        {
          "name": "stdout",
          "output_type": "stream",
          "text": [
            "  New point found: f(x) = 0.948751\n"
          ]
        },
        {
          "name": "stderr",
          "output_type": "stream",
          "text": [
            "\u001b[36m\u001b[1m[ \u001b[22m\u001b[39m\u001b[36m\u001b[1mInfo: \u001b[22m\u001b[39mInterior point LP: τ = -83.33369466, Status = Interior\n"
          ]
        },
        {
          "name": "stdout",
          "output_type": "stream",
          "text": [
            "  New point found: f(x) = 0.943421\n"
          ]
        },
        {
          "name": "stderr",
          "output_type": "stream",
          "text": [
            "\u001b[36m\u001b[1m[ \u001b[22m\u001b[39m\u001b[36m\u001b[1mInfo: \u001b[22m\u001b[39mInterior point LP: τ = -27.36797523, Status = Interior\n"
          ]
        },
        {
          "name": "stdout",
          "output_type": "stream",
          "text": [
            "  New point found: f(x) = 0.942228\n"
          ]
        },
        {
          "name": "stderr",
          "output_type": "stream",
          "text": [
            "\u001b[36m\u001b[1m[ \u001b[22m\u001b[39m\u001b[36m\u001b[1mInfo: \u001b[22m\u001b[39mInterior point LP: τ = -161.48601086, Status = Interior\n"
          ]
        },
        {
          "name": "stdout",
          "output_type": "stream",
          "text": [
            "  New point found: f(x) = 0.989441\n"
          ]
        },
        {
          "name": "stderr",
          "output_type": "stream",
          "text": [
            "\u001b[36m\u001b[1m[ \u001b[22m\u001b[39m\u001b[36m\u001b[1mInfo: \u001b[22m\u001b[39mInterior point LP: τ = -27.67488572, Status = Interior\n"
          ]
        },
        {
          "name": "stdout",
          "output_type": "stream",
          "text": [
            "  New point found: f(x) = 0.942395\n"
          ]
        },
        {
          "name": "stderr",
          "output_type": "stream",
          "text": [
            "\u001b[36m\u001b[1m[ \u001b[22m\u001b[39m\u001b[36m\u001b[1mInfo: \u001b[22m\u001b[39mInterior point LP: τ = -36.46317624, Status = Interior\n"
          ]
        },
        {
          "name": "stdout",
          "output_type": "stream",
          "text": [
            "  New point found: f(x) = 0.941794\n"
          ]
        },
        {
          "name": "stderr",
          "output_type": "stream",
          "text": [
            "\u001b[36m\u001b[1m[ \u001b[22m\u001b[39m\u001b[36m\u001b[1mInfo: \u001b[22m\u001b[39mInterior point LP: τ = -19.54755134, Status = Interior\n",
            "\u001b[36m\u001b[1m[ \u001b[22m\u001b[39m\u001b[36m\u001b[1mInfo: \u001b[22m\u001b[39mInterior point LP: τ = -409.07727546, Status = Interior\n",
            "\u001b[36m\u001b[1m[ \u001b[22m\u001b[39m\u001b[36m\u001b[1mInfo: \u001b[22m\u001b[39mCell 48: New point not added, obj = 0.947695, min distance = 0.0, better = false\n"
          ]
        },
        {
          "name": "stdout",
          "output_type": "stream",
          "text": [
            "  New point found: f(x) = 0.942130\n"
          ]
        },
        {
          "name": "stderr",
          "output_type": "stream",
          "text": [
            "\u001b[36m\u001b[1m[ \u001b[22m\u001b[39m\u001b[36m\u001b[1mInfo: \u001b[22m\u001b[39mInterior point LP: τ = -15.0749879, Status = Interior\n"
          ]
        },
        {
          "name": "stdout",
          "output_type": "stream",
          "text": [
            "  New point found: f(x) = 1.003119\n"
          ]
        },
        {
          "name": "stderr",
          "output_type": "stream",
          "text": [
            "\u001b[36m\u001b[1m[ \u001b[22m\u001b[39m\u001b[36m\u001b[1mInfo: \u001b[22m\u001b[39mInterior point LP: τ = -57.16405024, Status = Interior\n"
          ]
        },
        {
          "name": "stdout",
          "output_type": "stream",
          "text": [
            "  New point found: f(x) = 0.942431\n"
          ]
        },
        {
          "name": "stderr",
          "output_type": "stream",
          "text": [
            "\u001b[36m\u001b[1m[ \u001b[22m\u001b[39m\u001b[36m\u001b[1mInfo: \u001b[22m\u001b[39mInterior point LP: τ = -15.44914599, Status = Interior\n"
          ]
        },
        {
          "name": "stdout",
          "output_type": "stream",
          "text": [
            "  New point found: f(x) = 0.942798\n"
          ]
        },
        {
          "name": "stderr",
          "output_type": "stream",
          "text": [
            "\u001b[36m\u001b[1m[ \u001b[22m\u001b[39m\u001b[36m\u001b[1mInfo: \u001b[22m\u001b[39mInterior point LP: τ = -222.18223428, Status = Interior\n"
          ]
        },
        {
          "name": "stdout",
          "output_type": "stream",
          "text": [
            "  New point found: f(x) = 0.943277\n"
          ]
        },
        {
          "name": "stderr",
          "output_type": "stream",
          "text": [
            "\u001b[36m\u001b[1m[ \u001b[22m\u001b[39m\u001b[36m\u001b[1mInfo: \u001b[22m\u001b[39mInterior point LP: τ = -25.406311, Status = Interior\n",
            "\u001b[36m\u001b[1m[ \u001b[22m\u001b[39m\u001b[36m\u001b[1mInfo: \u001b[22m\u001b[39mInterior point LP: τ = -361.9201515, Status = Interior\n",
            "\u001b[36m\u001b[1m[ \u001b[22m\u001b[39m\u001b[36m\u001b[1mInfo: \u001b[22m\u001b[39mCell 54: New point not added, obj = 0.943635, min distance = 0.0, better = false\n",
            "\u001b[36m\u001b[1m[ \u001b[22m\u001b[39m\u001b[36m\u001b[1mInfo: \u001b[22m\u001b[39mInterior point LP: τ = -87.69545353, Status = Interior\n",
            "\u001b[36m\u001b[1m[ \u001b[22m\u001b[39m\u001b[36m\u001b[1mInfo: \u001b[22m\u001b[39mCell 55: New point not added, obj = 0.952115, min distance = 0.0, better = false\n"
          ]
        },
        {
          "name": "stdout",
          "output_type": "stream",
          "text": [
            "  New point found: f(x) = 0.944251\n"
          ]
        },
        {
          "name": "stderr",
          "output_type": "stream",
          "text": [
            "\u001b[36m\u001b[1m[ \u001b[22m\u001b[39m\u001b[36m\u001b[1mInfo: \u001b[22m\u001b[39mInterior point LP: τ = -602.49096979, Status = Interior\n"
          ]
        },
        {
          "name": "stdout",
          "output_type": "stream",
          "text": [
            "  New point found: f(x) = 0.942493\n"
          ]
        },
        {
          "name": "stderr",
          "output_type": "stream",
          "text": [
            "\u001b[36m\u001b[1m[ \u001b[22m\u001b[39m\u001b[36m\u001b[1mInfo: \u001b[22m\u001b[39mInterior point LP: τ = -10.15104035, Status = Interior\n",
            "\u001b[36m\u001b[1m[ \u001b[22m\u001b[39m\u001b[36m\u001b[1mInfo: \u001b[22m\u001b[39mInterior point LP: τ = -136.84102495, Status = Interior\n",
            "\u001b[36m\u001b[1m[ \u001b[22m\u001b[39m\u001b[36m\u001b[1mInfo: \u001b[22m\u001b[39mCell 58: New point not added, obj = 0.942964, min distance = 0.0, better = false\n"
          ]
        },
        {
          "name": "stdout",
          "output_type": "stream",
          "text": [
            "  ✅ Level 8 completed in 57.2380 sec | Best objective so far: 0.940524\n",
            "128.596532 seconds (23.28 M allocations: 68.438 GiB, 9.58% gc time, 1.40% compilation time: 11% of which was recompilation)\n",
            "\n",
            "✅ VDCG Best Objective: 0.940524\n",
            "✅ VDCG Total Time: 226.3476 sec, Total Points: 132\n",
            "📊 Running Standard CG...\n",
            "📊 Standard CG Objective: 0.955828\n",
            "🔍 Running Multi-start CG (time-limited)...\n",
            "  Seed 23: f(x) = 0.955828, Time so far: 1.3941 sec, Points: 1\n",
            "  Seed 24: f(x) = 0.946862, Time so far: 2.8777 sec, Points: 2\n",
            "  Seed 25: f(x) = 0.944747, Time so far: 3.9064 sec, Points: 3\n",
            "  Seed 26: f(x) = 0.943847, Time so far: 4.8551 sec, Points: 4\n",
            "  Seed 27: f(x) = 1.310069, Time so far: 5.7998 sec, Points: 5\n",
            "  Seed 28: f(x) = 0.943906, Time so far: 6.7433 sec, Points: 6\n",
            "  Seed 29: f(x) = 1.172646, Time so far: 7.6683 sec, Points: 7\n",
            "  Seed 30: f(x) = 0.992443, Time so far: 8.6234 sec, Points: 8\n",
            "  Seed 31: f(x) = 0.944017, Time so far: 9.5607 sec, Points: 9\n",
            "  Seed 32: f(x) = 0.943064, Time so far: 10.4894 sec, Points: 10\n",
            "  Seed 33: f(x) = 0.946497, Time so far: 11.3827 sec, Points: 11\n",
            "  Seed 34: f(x) = 0.964519, Time so far: 12.2572 sec, Points: 12\n",
            "  Seed 35: f(x) = 0.951024, Time so far: 13.2256 sec, Points: 13\n",
            "  Seed 36: f(x) = 0.945875, Time so far: 14.6808 sec, Points: 14\n",
            "  Seed 37: f(x) = 0.943944, Time so far: 16.0990 sec, Points: 15\n",
            "  Seed 38: f(x) = 0.958360, Time so far: 17.0907 sec, Points: 16\n",
            "  Seed 39: f(x) = 0.944035, Time so far: 18.0287 sec, Points: 17\n",
            "  Seed 40: f(x) = 0.943329, Time so far: 18.9600 sec, Points: 18\n",
            "  Seed 41: f(x) = 0.944380, Time so far: 19.8692 sec, Points: 19\n",
            "  Seed 42: f(x) = 0.949174, Time so far: 20.7555 sec, Points: 20\n",
            "  Seed 43: f(x) = 0.942782, Time so far: 21.6735 sec, Points: 21\n",
            "  Seed 44: f(x) = 0.946862, Time so far: 22.5404 sec, Points: 22\n",
            "  Seed 45: f(x) = 1.025298, Time so far: 23.4460 sec, Points: 23\n",
            "  Seed 46: f(x) = 0.943989, Time so far: 24.8239 sec, Points: 24\n",
            "  Seed 47: f(x) = 0.967141, Time so far: 25.6388 sec, Points: 25\n",
            "  Seed 48: f(x) = 0.958360, Time so far: 26.5926 sec, Points: 26\n",
            "  Seed 49: f(x) = 0.949464, Time so far: 28.0272 sec, Points: 27\n",
            "  Seed 50: f(x) = 0.947323, Time so far: 29.3965 sec, Points: 28\n",
            "  Seed 51: f(x) = 0.944036, Time so far: 30.3699 sec, Points: 29\n",
            "  Seed 52: f(x) = 1.172646, Time so far: 31.2557 sec, Points: 30\n",
            "  Seed 53: f(x) = 0.946528, Time so far: 32.2233 sec, Points: 31\n",
            "  Seed 54: f(x) = 0.945362, Time so far: 33.1351 sec, Points: 32\n",
            "  Seed 55: f(x) = 0.944035, Time so far: 34.0541 sec, Points: 33\n",
            "  Seed 56: f(x) = 0.949394, Time so far: 34.9888 sec, Points: 34\n",
            "  Seed 57: f(x) = 0.946857, Time so far: 35.9341 sec, Points: 35\n",
            "  Seed 58: f(x) = 0.943855, Time so far: 36.8777 sec, Points: 36\n",
            "  Seed 59: f(x) = 0.943836, Time so far: 37.7575 sec, Points: 37\n",
            "  Seed 60: f(x) = 1.090510, Time so far: 38.6405 sec, Points: 38\n",
            "  Seed 61: f(x) = 1.695499, Time so far: 39.6396 sec, Points: 39\n",
            "  Seed 62: f(x) = 0.943435, Time so far: 41.0730 sec, Points: 40\n",
            "  Seed 63: f(x) = 0.947505, Time so far: 42.5073 sec, Points: 41\n",
            "  Seed 64: f(x) = 0.951024, Time so far: 43.5085 sec, Points: 42\n",
            "  Seed 65: f(x) = 0.949277, Time so far: 44.4179 sec, Points: 43\n",
            "  Seed 66: f(x) = 0.946601, Time so far: 45.3240 sec, Points: 44\n",
            "  Seed 67: f(x) = 0.943946, Time so far: 46.2445 sec, Points: 45\n",
            "  Seed 68: f(x) = 0.943960, Time so far: 47.1525 sec, Points: 46\n",
            "  Seed 69: f(x) = 0.945857, Time so far: 48.1210 sec, Points: 47\n",
            "  Seed 70: f(x) = 0.944318, Time so far: 49.0972 sec, Points: 48\n",
            "  Seed 71: f(x) = 0.946183, Time so far: 50.0428 sec, Points: 49\n",
            "  Seed 72: f(x) = 0.945712, Time so far: 50.9910 sec, Points: 50\n",
            "  Seed 73: f(x) = 0.944190, Time so far: 51.8866 sec, Points: 51\n",
            "  Seed 74: f(x) = 0.994598, Time so far: 52.8150 sec, Points: 52\n",
            "  Seed 75: f(x) = 0.944658, Time so far: 54.3172 sec, Points: 53\n",
            "  Seed 76: f(x) = 0.977847, Time so far: 55.7720 sec, Points: 54\n",
            "  Seed 77: f(x) = 0.972250, Time so far: 56.7909 sec, Points: 55\n",
            "  Seed 78: f(x) = 0.943813, Time so far: 57.7051 sec, Points: 56\n",
            "  Seed 79: f(x) = 0.947437, Time so far: 58.6491 sec, Points: 57\n",
            "  Seed 80: f(x) = 0.943387, Time so far: 59.6301 sec, Points: 58\n",
            "  Seed 81: f(x) = 1.000889, Time so far: 60.5928 sec, Points: 59\n",
            "  Seed 82: f(x) = 0.951677, Time so far: 61.5631 sec, Points: 60\n",
            "  Seed 83: f(x) = 0.946909, Time so far: 62.5318 sec, Points: 61\n",
            "  Seed 84: f(x) = 0.943906, Time so far: 63.4799 sec, Points: 62\n",
            "  Seed 85: f(x) = 0.943906, Time so far: 64.3874 sec, Points: 63\n",
            "  Seed 86: f(x) = 0.974347, Time so far: 65.3415 sec, Points: 64\n",
            "  Seed 87: f(x) = 0.943906, Time so far: 66.5453 sec, Points: 65\n",
            "  Seed 88: f(x) = 0.946581, Time so far: 67.9698 sec, Points: 66\n",
            "  Seed 89: f(x) = 0.943944, Time so far: 69.3322 sec, Points: 67\n",
            "  Seed 90: f(x) = 0.946862, Time so far: 70.2953 sec, Points: 68\n",
            "  Seed 91: f(x) = 0.942798, Time so far: 71.2119 sec, Points: 69\n",
            "  Seed 92: f(x) = 0.955688, Time so far: 72.1001 sec, Points: 70\n",
            "  Seed 93: f(x) = 0.946857, Time so far: 73.0234 sec, Points: 71\n",
            "  Seed 94: f(x) = 0.966647, Time so far: 73.9752 sec, Points: 72\n",
            "  Seed 95: f(x) = 0.948553, Time so far: 74.9138 sec, Points: 73\n",
            "  Seed 96: f(x) = 0.945235, Time so far: 75.8163 sec, Points: 74\n",
            "  Seed 97: f(x) = 0.943924, Time so far: 76.7966 sec, Points: 75\n",
            "  Seed 98: f(x) = 0.943654, Time so far: 77.7312 sec, Points: 76\n",
            "  Seed 99: f(x) = 0.946497, Time so far: 78.6266 sec, Points: 77\n",
            "  Seed 100: f(x) = 0.946528, Time so far: 79.7904 sec, Points: 78\n",
            "  Seed 101: f(x) = 0.944570, Time so far: 81.1649 sec, Points: 79\n",
            "  Seed 102: f(x) = 0.943836, Time so far: 82.5156 sec, Points: 80\n",
            "  Seed 103: f(x) = 0.944784, Time so far: 83.4367 sec, Points: 81\n",
            "  Seed 104: f(x) = 0.955828, Time so far: 84.3266 sec, Points: 82\n",
            "  Seed 105: f(x) = 0.983649, Time so far: 85.2345 sec, Points: 83\n",
            "  Seed 106: f(x) = 0.943906, Time so far: 86.1766 sec, Points: 84\n",
            "  Seed 107: f(x) = 0.966647, Time so far: 87.1380 sec, Points: 85\n",
            "  Seed 108: f(x) = 0.943813, Time so far: 88.0880 sec, Points: 86\n",
            "  Seed 109: f(x) = 0.977847, Time so far: 89.0342 sec, Points: 87\n",
            "  Seed 110: f(x) = 0.955934, Time so far: 89.9297 sec, Points: 88\n",
            "  Seed 111: f(x) = 0.945488, Time so far: 90.8288 sec, Points: 89\n",
            "  Seed 112: f(x) = 0.946271, Time so far: 91.7694 sec, Points: 90\n",
            "  Seed 113: f(x) = 0.942964, Time so far: 92.8716 sec, Points: 91\n",
            "  Seed 114: f(x) = 0.945712, Time so far: 94.3167 sec, Points: 92\n",
            "  Seed 115: f(x) = 0.942964, Time so far: 95.6821 sec, Points: 93\n",
            "  Seed 116: f(x) = 0.942798, Time so far: 96.5996 sec, Points: 94\n",
            "  Seed 117: f(x) = 0.945219, Time so far: 97.4784 sec, Points: 95\n",
            "  Seed 118: f(x) = 0.943950, Time so far: 98.3905 sec, Points: 96\n",
            "  Seed 119: f(x) = 0.944159, Time so far: 99.2772 sec, Points: 97\n",
            "  Seed 120: f(x) = 0.943960, Time so far: 100.2095 sec, Points: 98\n",
            "  Seed 121: f(x) = 0.969530, Time so far: 101.0822 sec, Points: 99\n",
            "  Seed 122: f(x) = 0.944001, Time so far: 101.9659 sec, Points: 100\n",
            "  Seed 123: f(x) = 0.974347, Time so far: 102.8699 sec, Points: 101\n",
            "  Seed 124: f(x) = 0.943387, Time so far: 103.8224 sec, Points: 102\n",
            "  Seed 125: f(x) = 0.955688, Time so far: 104.7681 sec, Points: 103\n",
            "  Seed 126: f(x) = 0.948155, Time so far: 105.7310 sec, Points: 104\n",
            "  Seed 127: f(x) = 0.946535, Time so far: 107.1624 sec, Points: 105\n",
            "  Seed 128: f(x) = 0.945235, Time so far: 108.5814 sec, Points: 106\n",
            "  Seed 129: f(x) = 0.951524, Time so far: 109.5878 sec, Points: 107\n",
            "  Seed 130: f(x) = 0.944035, Time so far: 110.5293 sec, Points: 108\n",
            "  Seed 131: f(x) = 0.946183, Time so far: 111.5010 sec, Points: 109\n",
            "  Seed 132: f(x) = 0.950215, Time so far: 112.4375 sec, Points: 110\n",
            "  Seed 133: f(x) = 0.958360, Time so far: 113.4179 sec, Points: 111\n",
            "  Seed 134: f(x) = 0.982593, Time so far: 114.3563 sec, Points: 112\n",
            "  Seed 135: f(x) = 0.943814, Time so far: 115.3142 sec, Points: 113\n",
            "  Seed 136: f(x) = 1.030522, Time so far: 116.2774 sec, Points: 114\n",
            "  Seed 137: f(x) = 0.945703, Time so far: 117.2342 sec, Points: 115\n",
            "  Seed 138: f(x) = 0.945235, Time so far: 118.1615 sec, Points: 116\n",
            "  Seed 139: f(x) = 0.944288, Time so far: 119.2484 sec, Points: 117\n",
            "  Seed 140: f(x) = 0.945235, Time so far: 120.6746 sec, Points: 118\n",
            "  Seed 141: f(x) = 0.947901, Time so far: 122.0731 sec, Points: 119\n",
            "  Seed 142: f(x) = 1.281614, Time so far: 123.0287 sec, Points: 120\n",
            "  Seed 143: f(x) = 0.944318, Time so far: 123.9704 sec, Points: 121\n",
            "  Seed 144: f(x) = 0.952115, Time so far: 124.8960 sec, Points: 122\n",
            "  Seed 145: f(x) = 0.947361, Time so far: 125.8235 sec, Points: 123\n",
            "  Seed 146: f(x) = 0.950470, Time so far: 126.7446 sec, Points: 124\n",
            "  Seed 147: f(x) = 0.946338, Time so far: 127.6861 sec, Points: 125\n",
            "  Seed 148: f(x) = 0.947695, Time so far: 128.5901 sec, Points: 126\n",
            "  Seed 149: f(x) = 0.943859, Time so far: 129.5326 sec, Points: 127\n",
            "  Seed 150: f(x) = 0.992443, Time so far: 130.5038 sec, Points: 128\n",
            "  Seed 151: f(x) = 0.944128, Time so far: 131.5008 sec, Points: 129\n",
            "  Seed 152: f(x) = 0.954671, Time so far: 132.6971 sec, Points: 130\n",
            "  Seed 153: f(x) = 0.944132, Time so far: 134.1599 sec, Points: 131\n",
            "  Seed 154: f(x) = 0.946535, Time so far: 135.4287 sec, Points: 132\n",
            "  Seed 155: f(x) = 0.977847, Time so far: 136.3768 sec, Points: 133\n",
            "  Seed 156: f(x) = 0.977847, Time so far: 137.2782 sec, Points: 134\n",
            "  Seed 157: f(x) = 1.003159, Time so far: 138.1744 sec, Points: 135\n",
            "  Seed 158: f(x) = 0.943656, Time so far: 139.0971 sec, Points: 136\n",
            "  Seed 159: f(x) = 0.943814, Time so far: 140.0357 sec, Points: 137\n",
            "  Seed 160: f(x) = 0.944784, Time so far: 140.9129 sec, Points: 138\n",
            "  Seed 161: f(x) = 0.977847, Time so far: 141.7786 sec, Points: 139\n",
            "  Seed 162: f(x) = 0.951024, Time so far: 142.6445 sec, Points: 140\n",
            "  Seed 163: f(x) = 0.964333, Time so far: 143.5527 sec, Points: 141\n",
            "  Seed 164: f(x) = 0.944767, Time so far: 144.4819 sec, Points: 142\n",
            "  Seed 165: f(x) = 0.944118, Time so far: 145.5552 sec, Points: 143\n",
            "  Seed 166: f(x) = 0.951844, Time so far: 146.9719 sec, Points: 144\n",
            "  Seed 167: f(x) = 0.972250, Time so far: 148.3701 sec, Points: 145\n",
            "  Seed 168: f(x) = 0.943971, Time so far: 149.2411 sec, Points: 146\n",
            "  Seed 169: f(x) = 0.998513, Time so far: 150.1337 sec, Points: 147\n",
            "  Seed 170: f(x) = 0.944597, Time so far: 151.0611 sec, Points: 148\n",
            "  Seed 171: f(x) = 0.944747, Time so far: 152.0008 sec, Points: 149\n",
            "  Seed 172: f(x) = 0.944597, Time so far: 152.9289 sec, Points: 150\n",
            "  Seed 173: f(x) = 0.955735, Time so far: 153.8810 sec, Points: 151\n",
            "  Seed 174: f(x) = 0.966647, Time so far: 154.7987 sec, Points: 152\n",
            "  Seed 175: f(x) = 0.947718, Time so far: 155.7012 sec, Points: 153\n",
            "  Seed 176: f(x) = 0.943656, Time so far: 156.6347 sec, Points: 154\n",
            "  Seed 177: f(x) = 0.946715, Time so far: 157.4869 sec, Points: 155\n",
            "  Seed 178: f(x) = 0.945770, Time so far: 158.4798 sec, Points: 156\n",
            "  Seed 179: f(x) = 0.946011, Time so far: 159.9085 sec, Points: 157\n",
            "  Seed 180: f(x) = 0.943906, Time so far: 161.2812 sec, Points: 158\n",
            "  Seed 181: f(x) = 0.946857, Time so far: 162.2494 sec, Points: 159\n",
            "  Seed 182: f(x) = 0.948553, Time so far: 163.1641 sec, Points: 160\n",
            "  Seed 183: f(x) = 1.310069, Time so far: 164.0901 sec, Points: 161\n",
            "  Seed 184: f(x) = 0.944139, Time so far: 164.9913 sec, Points: 162\n",
            "  Seed 185: f(x) = 0.948824, Time so far: 165.9149 sec, Points: 163\n",
            "  Seed 186: f(x) = 0.947505, Time so far: 166.8660 sec, Points: 164\n",
            "  Seed 187: f(x) = 0.943906, Time so far: 167.7956 sec, Points: 165\n",
            "  Seed 188: f(x) = 0.944288, Time so far: 168.7183 sec, Points: 166\n",
            "  Seed 189: f(x) = 0.944380, Time so far: 169.6475 sec, Points: 167\n",
            "  Seed 190: f(x) = 0.944684, Time so far: 170.5737 sec, Points: 168\n",
            "  Seed 191: f(x) = 0.949585, Time so far: 171.5495 sec, Points: 169\n",
            "  Seed 192: f(x) = 0.947901, Time so far: 173.7470 sec, Points: 170\n",
            "  Seed 193: f(x) = 0.947105, Time so far: 174.8452 sec, Points: 171\n",
            "  Seed 194: f(x) = 0.944507, Time so far: 175.7996 sec, Points: 172\n",
            "  Seed 195: f(x) = 0.951921, Time so far: 176.7542 sec, Points: 173\n",
            "  Seed 196: f(x) = 0.944684, Time so far: 177.6367 sec, Points: 174\n",
            "  Seed 197: f(x) = 0.947323, Time so far: 178.5255 sec, Points: 175\n",
            "  Seed 198: f(x) = 0.945538, Time so far: 179.4610 sec, Points: 176\n",
            "  Seed 199: f(x) = 0.943960, Time so far: 180.3841 sec, Points: 177\n",
            "  Seed 200: f(x) = 0.944380, Time so far: 181.2719 sec, Points: 178\n",
            "  Seed 201: f(x) = 0.946857, Time so far: 182.1752 sec, Points: 179\n",
            "  Seed 202: f(x) = 0.943990, Time so far: 183.1256 sec, Points: 180\n",
            "  Seed 203: f(x) = 1.014498, Time so far: 184.0070 sec, Points: 181\n",
            "  Seed 204: f(x) = 0.944288, Time so far: 185.2047 sec, Points: 182\n",
            "  Seed 205: f(x) = 0.943387, Time so far: 186.6872 sec, Points: 183\n",
            "  Seed 206: f(x) = 0.945362, Time so far: 187.9790 sec, Points: 184\n",
            "  Seed 207: f(x) = 0.953228, Time so far: 188.9564 sec, Points: 185\n",
            "  Seed 208: f(x) = 1.695499, Time so far: 189.9194 sec, Points: 186\n",
            "  Seed 209: f(x) = 0.943989, Time so far: 190.8792 sec, Points: 187\n",
            "  Seed 210: f(x) = 0.944487, Time so far: 192.0659 sec, Points: 188\n",
            "  Seed 211: f(x) = 0.947505, Time so far: 193.0345 sec, Points: 189\n",
            "  Seed 212: f(x) = 0.943387, Time so far: 193.9936 sec, Points: 190\n",
            "  Seed 213: f(x) = 1.695499, Time so far: 194.9214 sec, Points: 191\n",
            "  Seed 214: f(x) = 0.943905, Time so far: 195.8348 sec, Points: 192\n",
            "  Seed 215: f(x) = 1.019929, Time so far: 196.7673 sec, Points: 193\n",
            "  Seed 216: f(x) = 0.943983, Time so far: 197.6545 sec, Points: 194\n",
            "  Seed 217: f(x) = 0.953293, Time so far: 199.1162 sec, Points: 195\n",
            "  Seed 218: f(x) = 0.944017, Time so far: 200.5470 sec, Points: 196\n",
            "  Seed 219: f(x) = 0.949174, Time so far: 201.6219 sec, Points: 197\n",
            "  Seed 220: f(x) = 1.000889, Time so far: 202.5063 sec, Points: 198\n",
            "  Seed 221: f(x) = 0.948751, Time so far: 203.4629 sec, Points: 199\n",
            "  Seed 222: f(x) = 0.944613, Time so far: 204.4078 sec, Points: 200\n",
            "  Seed 223: f(x) = 0.944470, Time so far: 205.3439 sec, Points: 201\n",
            "  Seed 224: f(x) = 0.944487, Time so far: 206.2821 sec, Points: 202\n",
            "  Seed 225: f(x) = 0.943248, Time so far: 207.1902 sec, Points: 203\n",
            "  Seed 226: f(x) = 0.947653, Time so far: 208.1087 sec, Points: 204\n",
            "  Seed 227: f(x) = 0.943990, Time so far: 209.0834 sec, Points: 205\n",
            "  Seed 228: f(x) = 1.030522, Time so far: 210.0253 sec, Points: 206\n",
            "  Seed 229: f(x) = 0.947533, Time so far: 211.0387 sec, Points: 207\n",
            "  Seed 230: f(x) = 0.944811, Time so far: 212.4898 sec, Points: 208\n",
            "  Seed 231: f(x) = 0.943064, Time so far: 213.9528 sec, Points: 209\n",
            "  Seed 232: f(x) = 0.946909, Time so far: 214.8952 sec, Points: 210\n",
            "  Seed 233: f(x) = 0.958707, Time so far: 215.8111 sec, Points: 211\n",
            "  Seed 234: f(x) = 0.942798, Time so far: 216.7308 sec, Points: 212\n",
            "  Seed 235: f(x) = 0.963749, Time so far: 217.6532 sec, Points: 213\n",
            "  Seed 236: f(x) = 0.945880, Time so far: 218.5333 sec, Points: 214\n",
            "  Seed 237: f(x) = 1.000889, Time so far: 219.4444 sec, Points: 215\n",
            "  Seed 238: f(x) = 0.974456, Time so far: 220.3641 sec, Points: 216\n",
            "  Seed 239: f(x) = 0.951844, Time so far: 221.3097 sec, Points: 217\n",
            "  Seed 240: f(x) = 0.946654, Time so far: 222.2126 sec, Points: 218\n",
            "  Seed 241: f(x) = 0.946581, Time so far: 223.0757 sec, Points: 219\n",
            "  Seed 242: f(x) = 0.947695, Time so far: 224.0038 sec, Points: 220\n",
            "  Seed 243: f(x) = 0.950470, Time so far: 225.4373 sec, Points: 221\n",
            "  Seed 244: f(x) = 0.943806, Time so far: 226.8613 sec, Points: 222\n",
            "🔍 Multi-start CG Best: 0.942782 (Time: 226.8613 sec, Points: 222)\n",
            "\n",
            "📋 Summary of Results for Sigmoid Regression (a4a)\n",
            "┌──────────────────────┬─────────────────┬──────────────┬─────────────────┐\n",
            "│ Method               │ Objective Value │ Runtime (sec) │ Points Evaluated │\n",
            "├──────────────────────┼─────────────────┼──────────────┼─────────────────┤\n",
            "│ VDCG                 │ 0.940524        │ 226.3476     │ 132             │\n",
            "│ Standard CG          │ 0.955828        │ 0.7924       │ 1               │\n",
            "│ Multi-start CG       │ 0.942782        │ 226.8613     │ 222             │\n",
            "└──────────────────────┴─────────────────┴──────────────┴─────────────────┘\n"
          ]
        }
      ],
      "source": [
        "using JuMP, HiGHS    #a4a\n",
        "using LinearAlgebra\n",
        "using Zygote\n",
        "using LIBSVMdata\n",
        "using Printf\n",
        "using Random\n",
        "using Statistics\n",
        "using SparseArrays\n",
        "\n",
        "# Set random seed for reproducibility\n",
        "Random.seed!(23)\n",
        "\n",
        "# ================== Configuration ================== #\n",
        "const MAX_LEVELS = 8\n",
        "const TOL_UNIQUE = 1e-3\n",
        "const TOL_CONVERGENCE = 1e-6\n",
        "const TAU_L1 = 50.0  # L1-norm ball radius\n",
        "const tau = 50.0     # L1-norm ball radius\n",
        "\n",
        "# ================== Global Data ================== #\n",
        "A = spzeros(1, 1)\n",
        "y = zeros(1)\n",
        "n = 1\n",
        "\n",
        "# Sigmoid function\n",
        "sigmoid(z) = 1 / (1 + exp(-z))\n",
        "\n",
        "# Objective and gradient\n",
        "f(x) = mean((y .- sigmoid.(A * x)).^2)\n",
        "grad_f(x) = Zygote.gradient(f, x)[1]\n",
        "\n",
        "# Linear Minimization Oracle for the L1-ball ||x||_1 ≤ τ\n",
        "function lmo(g)\n",
        "    i = argmax(abs.(g))\n",
        "    v = zeros(n)\n",
        "    v[i] = -TAU_L1 * sign(g[i])\n",
        "    return v\n",
        "end\n",
        "\n",
        "# Check if a point is new\n",
        "function is_new_point(x, points, tol=TOL_UNIQUE)\n",
        "    all(norm(x - p) >= tol for p in points)\n",
        "end\n",
        "\n",
        "# ================== Adaptive Frank-Wolfe Algorithm ================== #\n",
        "function conditional_gradient_adjustable_scaling(f, grad_f, lmo, x0; max_iter=1000, epsilon=TOL_CONVERGENCE, delta=1e-10, beta=2, gamma=0.5)\n",
        "    x_prev = copy(x0)\n",
        "    x_curr = copy(x0)\n",
        "    values = [f(x_curr)]\n",
        "    times = [0.0]\n",
        "    gaps = Float64[]\n",
        "    L_ks = Float64[]\n",
        "    steps = Float64[]\n",
        "    backtrack_counts = Int[]\n",
        "    gamma_history = [gamma]\n",
        "    k = 0\n",
        "    prev_grad = grad_f(x_prev)\n",
        "    current_f = f(x_curr)\n",
        "    recent_backtracks = Int[]\n",
        "\n",
        "    while k < max_iter\n",
        "        start = time()\n",
        "        current_grad = grad_f(x_curr)\n",
        "        v = lmo(current_grad)\n",
        "        d = v - x_curr\n",
        "        normd2 = dot(d, d)\n",
        "        gap = -dot(current_grad, d)\n",
        "\n",
        "        if gap <= epsilon\n",
        "            push!(times, time() - start)\n",
        "            push!(gaps, gap)\n",
        "            break\n",
        "        end\n",
        "\n",
        "        if k == 0\n",
        "            d0 = ones(length(x0)) / sqrt(length(x0))\n",
        "            x_temp = x0 + 1e-3 * d0\n",
        "            L_k = gamma * (norm(grad_f(x0) - grad_f(x_temp)) / (1e-3 * norm(d0)) + delta)\n",
        "        else\n",
        "            grad_diff = norm(current_grad - prev_grad)\n",
        "            x_diff = norm(x_curr - x_prev)\n",
        "            L_k = gamma * (grad_diff / x_diff + delta)\n",
        "        end\n",
        "        Lknormd2 = L_k * normd2\n",
        "        t_k = min(gap / Lknormd2, 1.0)\n",
        "        i = 0\n",
        "        while true\n",
        "            x_new = x_curr + t_k * d\n",
        "            new_f = f(x_new)\n",
        "            if current_f - new_f >= t_k * gap - (Lknormd2 / 2) * t_k^2\n",
        "                x_prev = copy(x_curr)\n",
        "                x_curr = x_new\n",
        "                push!(backtrack_counts, i)\n",
        "                push!(recent_backtracks, i)\n",
        "                break\n",
        "            else\n",
        "                L_k *= beta\n",
        "                Lknormd2 = L_k * normd2\n",
        "                t_k = min(gap / Lknormd2, 1.0)\n",
        "                i += 1\n",
        "            end\n",
        "        end\n",
        "\n",
        "        if k % 10 == 0 && k > 0\n",
        "            total_backtracks = sum(recent_backtracks)\n",
        "            if total_backtracks == 0\n",
        "                gamma = max(1e-4, gamma * 0.9)\n",
        "            elseif total_backtracks > 10\n",
        "                gamma = min(1.0, gamma * 1.1)\n",
        "            end\n",
        "            push!(gamma_history, gamma)\n",
        "            recent_backtracks = Int[]\n",
        "        elseif k % 10 == 0\n",
        "            push!(gamma_history, gamma)\n",
        "            recent_backtracks = Int[]\n",
        "        else\n",
        "            push!(recent_backtracks, i)\n",
        "        end\n",
        "        k += 1\n",
        "        iteration_time = time() - start\n",
        "\n",
        "        current_f = f(x_curr)\n",
        "        prev_grad = current_grad\n",
        "        push!(gaps, gap)\n",
        "        push!(steps, t_k)\n",
        "        push!(values, current_f)\n",
        "        push!(times, iteration_time)\n",
        "        push!(L_ks, L_k)\n",
        "\n",
        "        if k % 100 == 0\n",
        "            # println(\"k=$k, gap=$(round(gap, digits=4)), t_k=$(round(t_k, digits=4)), L_k=$(round(L_ks[end], digits=6)), Time=$(round(times[end], digits=4)), f=$(round(values[end], digits=6))\")\n",
        "        end\n",
        "    end\n",
        "    total_time = sum(times)\n",
        "    return (x_curr, values, times, gaps, L_ks, backtrack_counts, steps, gamma_history, total_time)\n",
        "end\n",
        "\n",
        "# ================== Interior Point via Slack (Paper's Method) ================== #\n",
        "function find_interior_point(p_i, sites)\n",
        "    model = Model(HiGHS.Optimizer)\n",
        "    set_silent(model)\n",
        "    @variable(model, xp[1:n] >= 0)\n",
        "    @variable(model, xn[1:n] >= 0)\n",
        "    @variable(model, τ)\n",
        "\n",
        "    # L1 constraint: ||x||_1 ≤ TAU_L1\n",
        "    @constraint(model, sum(xp) + sum(xn) <= TAU_L1)\n",
        "\n",
        "    # Reconstruct x = xp - xn\n",
        "    x = xp - xn\n",
        "\n",
        "    # Voronoi cell constraints with slack\n",
        "    for j in 1:length(sites)\n",
        "        if sites[j] ≈ p_i\n",
        "            continue\n",
        "        end\n",
        "        p_j = sites[j]\n",
        "        a = p_j - p_i\n",
        "        b_val = 0.5 * dot(p_j + p_i, p_j - p_i)\n",
        "        @constraint(model, dot(a, x) <= b_val + τ)\n",
        "    end\n",
        "    @objective(model, Min, τ)\n",
        "    optimize!(model)\n",
        "    if termination_status(model) == OPTIMAL\n",
        "        x_sol = value.(xp) - value.(xn)\n",
        "        τ_sol = value(τ)\n",
        "        @info \"Interior point LP: τ = $(round(τ_sol, digits=8)), Status = $(τ_sol < -1e-8 ? \"Interior\" : \"Boundary\")\"\n",
        "        return τ_sol < -1e-8 ? (x_sol, \"Interior\") : (x_sol, \"Boundary\")\n",
        "    else\n",
        "        @warn \"Interior point LP failed: Infeasible or unbounded\"\n",
        "        if length(sites) == 1\n",
        "            @info \"Returning barycenter as fallback\"\n",
        "            return zeros(n), \"Interior\"\n",
        "        end\n",
        "        return nothing, \"Infeasible\"\n",
        "    end\n",
        "end\n",
        "\n",
        "# ================== Voronoi Partitioning ================== #\n",
        "function create_voronoi_partitions(sites)\n",
        "    base_A = vcat(\n",
        "        Matrix{Float64}(I, n, n),      # x ≥ -TAU_L1\n",
        "        -Matrix{Float64}(I, n, n)      # x ≤ TAU_L1\n",
        "    )\n",
        "    base_b = vcat(\n",
        "        TAU_L1 * ones(n),\n",
        "        TAU_L1 * ones(n)\n",
        "    )\n",
        "    partitions = []\n",
        "    K = length(sites)\n",
        "    if K == 1\n",
        "        push!(partitions, (base_A, base_b))\n",
        "        return partitions\n",
        "    end\n",
        "    for i in 1:K\n",
        "        A_i = copy(base_A)\n",
        "        b_i = copy(base_b)\n",
        "        p_i = sites[i]\n",
        "        for j in 1:K\n",
        "            i == j && continue\n",
        "            p_j = sites[j]\n",
        "            a = (p_j - p_i)'\n",
        "            b_val = 0.5 * dot(p_j + p_i, p_j - p_i)\n",
        "            A_i = vcat(A_i, a)\n",
        "            b_i = vcat(b_i, b_val)\n",
        "        end\n",
        "        push!(partitions, (A_i, b_i))\n",
        "    end\n",
        "    return partitions\n",
        "end\n",
        "\n",
        "# ================== Main VDCG Algorithm ================== #\n",
        "function voronoi_conditional_gradient(f, grad_f, lmo, x0)\n",
        "    x_init, _, cg_times, _, _, _, _, _, init_time = conditional_gradient_adjustable_scaling(f, grad_f, lmo, x0)\n",
        "    total_time = init_time\n",
        "    sites = [x0, x_init]\n",
        "    num_points = 1\n",
        "    archive = [(x_init, f(x_init))]\n",
        "    best_so_far = f(x_init)\n",
        "    @printf(\"Initial solution: f(x) = %.6f\\n\", f(x_init))\n",
        "    @info \"Distance between x0 and x_init: $(norm(x0 - x_init))\"\n",
        "\n",
        "    for level in 1:MAX_LEVELS\n",
        "        start_time = time()\n",
        "        @printf(\"→ VDCG Level %d: %d sites, Current best f(x) = %.6f\\n\", level, length(sites), best_so_far)\n",
        "        partitions = create_voronoi_partitions(sites)\n",
        "        new_sites = []\n",
        "        for (i, (A_cell, b_cell)) in enumerate(partitions)\n",
        "            x_inner, status = find_interior_point(sites[i], sites)\n",
        "            if x_inner === nothing || status == \"Infeasible\"\n",
        "                @info \"Skipping cell $i: $status\"\n",
        "                continue\n",
        "            end\n",
        "            x_stat, _, cg_times, _, _, _, _, _, cg_time = conditional_gradient_adjustable_scaling(f, grad_f, lmo, x_inner)\n",
        "            total_time += cg_time\n",
        "            num_points += 1\n",
        "            obj = f(x_stat)\n",
        "            all_points = [s for (s, _) in archive]\n",
        "            if is_new_point(x_stat, all_points) && is_new_point(x_stat, new_sites)\n",
        "                push!(new_sites, x_stat)\n",
        "                push!(archive, (x_stat, obj))\n",
        "                @printf(\"  New point found: f(x) = %.6f\\n\", obj)\n",
        "                best_so_far = min(best_so_far, obj)\n",
        "            else\n",
        "                min_dist = minimum(norm(x_stat - p) for p in all_points)\n",
        "                @info \"Cell $i: New point not added, obj = $(round(obj, digits=6)), min distance = $(round(min_dist, digits=6)), better = $(obj < best_so_far)\"\n",
        "            end\n",
        "        end\n",
        "        elapsed = time() - start_time\n",
        "        total_time += elapsed\n",
        "        if isempty(new_sites)\n",
        "            @printf(\"→ No new points found. Terminating at level %d.\\n\", level)\n",
        "            @printf(\"  🕒 Level %d runtime: %.4f sec | Best objective: %.6f\\n\", level, elapsed, best_so_far)\n",
        "            break\n",
        "        else\n",
        "            append!(sites, new_sites)\n",
        "            @printf(\"  ✅ Level %d completed in %.4f sec | Best objective so far: %.6f\\n\", level, elapsed, best_so_far)\n",
        "        end\n",
        "    end\n",
        "    best_idx = argmin([obj for (_, obj) in archive])\n",
        "    x_best, f_best = archive[best_idx]\n",
        "    return x_best, f_best, archive, sites, total_time, num_points\n",
        "end\n",
        "\n",
        "# ================== Load Problem Data ================== #\n",
        "function load_libsvm_data()\n",
        "    data_name = \"a4a\"\n",
        "    @info \"Loading LIBSVM dataset '$data_name'...\"\n",
        "    global A, y, n\n",
        "    A_loaded, y_loaded = load_dataset(data_name, dense=false, replace=false, verbose=true)\n",
        "    A = A_loaded\n",
        "    y = Float64.(y_loaded)\n",
        "    m, n = size(A)\n",
        "    # Map labels: {-1,1} → {0,1} for sigmoid output (optional)\n",
        "    # y = (y .+ 1) ./ 2\n",
        "    Random.seed!(23)\n",
        "    V = vcat(tau * I(n), -tau * I(n))\n",
        "    global x0 = V[rand(1:size(V, 1)), :]\n",
        "    @info \"Data loaded: $m samples, $n features\"\n",
        "    @info \"Initial point x0 set on L1-ball boundary\"\n",
        "end\n",
        "\n",
        "# ================== Run Experiment ================== #\n",
        "function main()\n",
        "    # Load data for sigmoid regression\n",
        "    load_libsvm_data()\n",
        "\n",
        "    # Run VDCG\n",
        "    @printf(\"\\n🚀 Starting VDCG...\\n\")\n",
        "    @time x_vdcg, f_vdcg, archive, sites, vdcg_time, vdcg_points = voronoi_conditional_gradient(f, grad_f, lmo, x0)\n",
        "    @printf(\"\\n✅ VDCG Best Objective: %.6f\\n\", f_vdcg)\n",
        "    @printf(\"✅ VDCG Total Time: %.4f sec, Total Points: %d\\n\", vdcg_time, vdcg_points)\n",
        "\n",
        "    # Standard CG\n",
        "    @printf(\"📊 Running Standard CG...\\n\")\n",
        "    x_std, _, _, _, _, _, _, _, std_time = conditional_gradient_adjustable_scaling(f, grad_f, lmo, x0)\n",
        "    f_std = f(x_std)\n",
        "    @printf(\"📊 Standard CG Objective: %.6f\\n\", f_std)\n",
        "\n",
        "    # Multi-start CG (limited by VDCG time)\n",
        "    @printf(\"🔍 Running Multi-start CG (time-limited)...\\n\")\n",
        "    f_multi = Inf\n",
        "    total_multi_time = 0.0\n",
        "    points_evaluated = 0\n",
        "    seed = 23\n",
        "    while total_multi_time < vdcg_time\n",
        "        Random.seed!(seed)\n",
        "        start = time()\n",
        "\n",
        "        # For the first iteration (seed 23), use the same x0 as standard CG\n",
        "        if seed == 23\n",
        "            x_rand = copy(x0)\n",
        "        else\n",
        "            V = vcat(tau * I(n), -tau * I(n))\n",
        "            x_rand = V[rand(1:size(V, 1)), :]\n",
        "        end\n",
        "\n",
        "        x, _, _, _, _, _, _, _, cg_time = conditional_gradient_adjustable_scaling(f, grad_f, lmo, x_rand)\n",
        "        total_multi_time += time() - start\n",
        "        points_evaluated += 1\n",
        "        f_current = f(x)\n",
        "        f_multi = min(f_multi, f_current)\n",
        "\n",
        "        @printf(\"  Seed %d: f(x) = %.6f, Time so far: %.4f sec, Points: %d\\n\", seed, f_current, total_multi_time, points_evaluated)\n",
        "        seed += 1\n",
        "    end\n",
        "    @printf(\"🔍 Multi-start CG Best: %.6f (Time: %.4f sec, Points: %d)\\n\", f_multi, total_multi_time, points_evaluated)\n",
        "\n",
        "    # Summary Table\n",
        "    @printf(\"\\n📋 Summary of Results for Sigmoid Regression (a4a)\\n\")\n",
        "    @printf(\"┌──────────────────────┬─────────────────┬──────────────┬─────────────────┐\\n\")\n",
        "    @printf(\"│ %-20s │ %-15s │ %-12s │ %-15s │\\n\", \"Method\", \"Objective Value\", \"Runtime (sec)\", \"Points Evaluated\")\n",
        "    @printf(\"├──────────────────────┼─────────────────┼──────────────┼─────────────────┤\\n\")\n",
        "    @printf(\"│ %-20s │ %-15.6f │ %-12.4f │ %-15d │\\n\", \"VDCG\", f_vdcg, vdcg_time, vdcg_points)\n",
        "    @printf(\"│ %-20s │ %-15.6f │ %-12.4f │ %-15d │\\n\", \"Standard CG\", f_std, std_time, 1)\n",
        "    @printf(\"│ %-20s │ %-15.6f │ %-12.4f │ %-15d │\\n\", \"Multi-start CG\", f_multi, total_multi_time, points_evaluated)\n",
        "    @printf(\"└──────────────────────┴─────────────────┴──────────────┴─────────────────┘\\n\")\n",
        "end\n",
        "\n",
        "# Run everything\n",
        "main()"
      ]
    },
    {
      "cell_type": "code",
      "execution_count": 2,
      "metadata": {
        "id": "CezIDNRccyH_",
        "colab": {
          "base_uri": "https://localhost:8080/"
        },
        "outputId": "86feeeb1-0197-4bf8-a4c9-a11087ecb2cd"
      },
      "outputs": [
        {
          "output_type": "stream",
          "name": "stderr",
          "text": [
            "\u001b[36m\u001b[1m[ \u001b[22m\u001b[39m\u001b[36m\u001b[1mInfo: \u001b[22m\u001b[39mLoading LIBSVM dataset 'a5a'...\n"
          ]
        },
        {
          "output_type": "stream",
          "name": "stdout",
          "text": [
            "Downloading the dataset a5a...\n"
          ]
        },
        {
          "output_type": "stream",
          "name": "stderr",
          "text": [
            "* Couldn't find host www.csie.ntu.edu.tw in the .netrc file; using defaults\n",
            "* Host www.csie.ntu.edu.tw:443 was resolved.\n",
            "* IPv6: (none)\n",
            "* IPv4: 140.112.30.26\n",
            "*   Trying 140.112.30.26:443...\n",
            "* Connected to www.csie.ntu.edu.tw (140.112.30.26) port 443\n",
            "* mbedTLS: Connecting to www.csie.ntu.edu.tw:443\n",
            "* mbedTLS: Set min SSL version to TLS 1.0\n",
            "* ALPN: curl offers h2,http/1.1\n",
            "* mbedTLS: Handshake complete, cipher is TLS-ECDHE-RSA-WITH-AES-128-GCM-SHA256\n",
            "* Dumping cert info: * cert. version     : 3\n",
            "* serial number     : 47:E8:00:00:00:07:87:FE:49:35:DC:01:F3:CD:23:5B\n",
            "* issuer name       : C=TW, O=TAIWAN-CA, CN=TWCA Secure SSL Certification Authority\n",
            "* subject name      : C=TW, ST=Taiwan, L=Taipei, O=National Taiwan University, CN=*.csie.ntu.edu.tw\n",
            "* issued  on        : 2024-10-16 09:35:59\n",
            "* expires on        : 2025-11-03 15:59:59\n",
            "* signed using      : RSA with SHA-256\n",
            "* RSA key size      : 2048 bits\n",
            "* basic constraints : CA=false\n",
            "* subject alt name  :\n",
            "*     dNSName : *.csie.ntu.edu.tw\n",
            "*     dNSName : csie.ntu.edu.tw\n",
            "* key usage         : Digital Signature, Key Encipherment\n",
            "* ext key usage     : TLS Web Server Authentication, TLS Web Client Authentication\n",
            "* certificate policies : ???, ???\n",
            "\n",
            "* ALPN: server did not agree on a protocol. Uses default.\n",
            "* SSL connected\n",
            "* using HTTP/1.x\n",
            "> GET /~cjlin/libsvmtools/datasets/binary/a5a HTTP/1.1\n",
            "Host: www.csie.ntu.edu.tw\n",
            "Accept: */*\n",
            "User-Agent: curl/8.6.0 julia/1.11\n",
            "\n",
            "< HTTP/1.1 200 OK\n",
            "< Date: Sun, 31 Aug 2025 05:22:47 GMT\n",
            "< Server: Apache/2.4.57 (Debian)\n",
            "< Strict-Transport-Security: max-age=31536000; includeSubDomains\n",
            "< Last-Modified: Wed, 08 Jun 2005 06:29:24 GMT\n",
            "< ETag: \"7008c-3f9020ed19900\"\n",
            "< Accept-Ranges: bytes\n",
            "< Content-Length: 458892\n",
            "< \n"
          ]
        },
        {
          "output_type": "stream",
          "name": "stdout",
          "text": [
            "Loading the dataset...\n"
          ]
        },
        {
          "output_type": "stream",
          "name": "stderr",
          "text": [
            "* Connection #0 to host www.csie.ntu.edu.tw left intact\n",
            "0.0%┣                                             ┫ 0/6.4k [00:00<00:00, -0s/it]\n",
            "0.0%┣                                         ┫ 1/6.4k [00:00<Inf:Inf, InfGs/it]\n",
            "34.9%┣█████████████▋                         ┫ 2.2k/6.4k [00:00<00:01, 5.2kit/s]\n",
            "68.4%┣██████████████████████████▊            ┫ 4.4k/6.4k [00:00<00:00, 9.1kit/s]\n",
            "78.7%┣██████████████████████████████▊        ┫ 5.1k/6.4k [00:01<00:00, 9.5kit/s]\n",
            "100.0%┣█████████████████████████████████████┫ 6.4k/6.4k [00:01<00:00, 11.4kit/s]\n",
            "100.0%┣█████████████████████████████████████┫ 6.4k/6.4k [00:01<00:00, 11.4kit/s]\n",
            "\u001b[36m\u001b[1m[ \u001b[22m\u001b[39m\u001b[36m\u001b[1mInfo: \u001b[22m\u001b[39mData loaded: 6414 samples, 123 features\n"
          ]
        },
        {
          "output_type": "stream",
          "name": "stdout",
          "text": [
            "\n",
            "🚀 Starting VDCG...\n",
            "Initial solution: f(x) = 0.958658\n"
          ]
        },
        {
          "output_type": "stream",
          "name": "stderr",
          "text": [
            "\u001b[36m\u001b[1m[ \u001b[22m\u001b[39m\u001b[36m\u001b[1mInfo: \u001b[22m\u001b[39mInitial point x0 set on L1-ball boundary\n"
          ]
        },
        {
          "output_type": "stream",
          "name": "stdout",
          "text": [
            "→ VDCG Level 1: 2 sites, Current best f(x) = 0.958658\n"
          ]
        },
        {
          "output_type": "stream",
          "name": "stderr",
          "text": [
            "\u001b[36m\u001b[1m[ \u001b[22m\u001b[39m\u001b[36m\u001b[1mInfo: \u001b[22m\u001b[39mDistance between x0 and x_init: 35.23671886514448\n",
            "\u001b[36m\u001b[1m[ \u001b[22m\u001b[39m\u001b[36m\u001b[1mInfo: \u001b[22m\u001b[39mInterior point LP: τ = -620.81317819, Status = Interior\n",
            "\u001b[36m\u001b[1m[ \u001b[22m\u001b[39m\u001b[36m\u001b[1mInfo: \u001b[22m\u001b[39mCell 1: New point not added, obj = 0.958658, min distance = 0.0, better = false\n"
          ]
        },
        {
          "output_type": "stream",
          "name": "stdout",
          "text": [
            "  New point found: f(x) = 1.002935\n",
            "  ✅ Level 1 completed in 5.3830 sec | Best objective so far: 0.958658\n"
          ]
        },
        {
          "output_type": "stream",
          "name": "stderr",
          "text": [
            "\u001b[36m\u001b[1m[ \u001b[22m\u001b[39m\u001b[36m\u001b[1mInfo: \u001b[22m\u001b[39mInterior point LP: τ = -2816.71433472, Status = Interior\n"
          ]
        },
        {
          "output_type": "stream",
          "name": "stdout",
          "text": [
            "→ VDCG Level 2: 3 sites, Current best f(x) = 0.958658\n"
          ]
        },
        {
          "output_type": "stream",
          "name": "stderr",
          "text": [
            "\u001b[36m\u001b[1m[ \u001b[22m\u001b[39m\u001b[36m\u001b[1mInfo: \u001b[22m\u001b[39mInterior point LP: τ = -620.81317819, Status = Interior\n",
            "\u001b[36m\u001b[1m[ \u001b[22m\u001b[39m\u001b[36m\u001b[1mInfo: \u001b[22m\u001b[39mCell 1: New point not added, obj = 0.958658, min distance = 0.0, better = false\n"
          ]
        },
        {
          "output_type": "stream",
          "name": "stdout",
          "text": [
            "  New point found: f(x) = 0.948524\n"
          ]
        },
        {
          "output_type": "stream",
          "name": "stderr",
          "text": [
            "\u001b[36m\u001b[1m[ \u001b[22m\u001b[39m\u001b[36m\u001b[1mInfo: \u001b[22m\u001b[39mInterior point LP: τ = -568.83655004, Status = Interior\n",
            "\u001b[36m\u001b[1m[ \u001b[22m\u001b[39m\u001b[36m\u001b[1mInfo: \u001b[22m\u001b[39mInterior point LP: τ = -1563.29952937, Status = Interior\n",
            "\u001b[36m\u001b[1m[ \u001b[22m\u001b[39m\u001b[36m\u001b[1mInfo: \u001b[22m\u001b[39mCell 3: New point not added, obj = 1.002935, min distance = 0.0, better = false\n"
          ]
        },
        {
          "output_type": "stream",
          "name": "stdout",
          "text": [
            "  ✅ Level 2 completed in 3.9444 sec | Best objective so far: 0.948524\n",
            "→ VDCG Level 3: 4 sites, Current best f(x) = 0.948524\n"
          ]
        },
        {
          "output_type": "stream",
          "name": "stderr",
          "text": [
            "\u001b[36m\u001b[1m[ \u001b[22m\u001b[39m\u001b[36m\u001b[1mInfo: \u001b[22m\u001b[39mInterior point LP: τ = -620.81317819, Status = Interior\n",
            "\u001b[36m\u001b[1m[ \u001b[22m\u001b[39m\u001b[36m\u001b[1mInfo: \u001b[22m\u001b[39mCell 1: New point not added, obj = 0.958658, min distance = 0.0, better = false\n"
          ]
        },
        {
          "output_type": "stream",
          "name": "stdout",
          "text": [
            "  New point found: f(x) = 0.946662\n"
          ]
        },
        {
          "output_type": "stream",
          "name": "stderr",
          "text": [
            "\u001b[36m\u001b[1m[ \u001b[22m\u001b[39m\u001b[36m\u001b[1mInfo: \u001b[22m\u001b[39mInterior point LP: τ = -293.93617031, Status = Interior\n",
            "\u001b[36m\u001b[1m[ \u001b[22m\u001b[39m\u001b[36m\u001b[1mInfo: \u001b[22m\u001b[39mInterior point LP: τ = -693.69569288, Status = Interior\n",
            "\u001b[36m\u001b[1m[ \u001b[22m\u001b[39m\u001b[36m\u001b[1mInfo: \u001b[22m\u001b[39mCell 3: New point not added, obj = 1.002935, min distance = 0.0, better = false\n"
          ]
        },
        {
          "output_type": "stream",
          "name": "stdout",
          "text": [
            "  New point found: f(x) = 1.000000\n",
            "  ✅ Level 3 completed in 3.9457 sec | Best objective so far: 0.946662\n",
            "→ VDCG Level 4: 6 sites, Current best f(x) = 0.946662\n"
          ]
        },
        {
          "output_type": "stream",
          "name": "stderr",
          "text": [
            "\u001b[36m\u001b[1m[ \u001b[22m\u001b[39m\u001b[36m\u001b[1mInfo: \u001b[22m\u001b[39mInterior point LP: τ = -226.86678172, Status = Interior\n",
            "\u001b[36m\u001b[1m[ \u001b[22m\u001b[39m\u001b[36m\u001b[1mInfo: \u001b[22m\u001b[39mInterior point LP: τ = -620.81317819, Status = Interior\n",
            "\u001b[36m\u001b[1m[ \u001b[22m\u001b[39m\u001b[36m\u001b[1mInfo: \u001b[22m\u001b[39mCell 1: New point not added, obj = 0.958658, min distance = 0.0, better = false\n"
          ]
        },
        {
          "output_type": "stream",
          "name": "stdout",
          "text": [
            "  New point found: f(x) = 0.947196\n"
          ]
        },
        {
          "output_type": "stream",
          "name": "stderr",
          "text": [
            "\u001b[36m\u001b[1m[ \u001b[22m\u001b[39m\u001b[36m\u001b[1mInfo: \u001b[22m\u001b[39mInterior point LP: τ = -278.87654433, Status = Interior\n",
            "\u001b[36m\u001b[1m[ \u001b[22m\u001b[39m\u001b[36m\u001b[1mInfo: \u001b[22m\u001b[39mInterior point LP: τ = -681.43956311, Status = Interior\n",
            "\u001b[36m\u001b[1m[ \u001b[22m\u001b[39m\u001b[36m\u001b[1mInfo: \u001b[22m\u001b[39mCell 3: New point not added, obj = 1.002935, min distance = 0.0, better = false\n"
          ]
        },
        {
          "output_type": "stream",
          "name": "stdout",
          "text": [
            "  New point found: f(x) = 0.975110\n"
          ]
        },
        {
          "output_type": "stream",
          "name": "stderr",
          "text": [
            "\u001b[36m\u001b[1m[ \u001b[22m\u001b[39m\u001b[36m\u001b[1mInfo: \u001b[22m\u001b[39mInterior point LP: τ = -133.70943806, Status = Interior\n"
          ]
        },
        {
          "output_type": "stream",
          "name": "stdout",
          "text": [
            "  New point found: f(x) = 1.054412\n",
            "  ✅ Level 4 completed in 4.5686 sec | Best objective so far: 0.946662\n",
            "→ VDCG Level 5: 9 sites, Current best f(x) = 0.946662\n"
          ]
        },
        {
          "output_type": "stream",
          "name": "stderr",
          "text": [
            "\u001b[36m\u001b[1m[ \u001b[22m\u001b[39m\u001b[36m\u001b[1mInfo: \u001b[22m\u001b[39mInterior point LP: τ = -172.57281459, Status = Interior\n",
            "\u001b[36m\u001b[1m[ \u001b[22m\u001b[39m\u001b[36m\u001b[1mInfo: \u001b[22m\u001b[39mInterior point LP: τ = -858.6066178, Status = Interior\n",
            "\u001b[36m\u001b[1m[ \u001b[22m\u001b[39m\u001b[36m\u001b[1mInfo: \u001b[22m\u001b[39mCell 6: New point not added, obj = 1.0, min distance = 0.000317, better = false\n",
            "\u001b[36m\u001b[1m[ \u001b[22m\u001b[39m\u001b[36m\u001b[1mInfo: \u001b[22m\u001b[39mInterior point LP: τ = -620.81317819, Status = Interior\n",
            "\u001b[36m\u001b[1m[ \u001b[22m\u001b[39m\u001b[36m\u001b[1mInfo: \u001b[22m\u001b[39mCell 1: New point not added, obj = 0.958658, min distance = 0.0, better = false\n"
          ]
        },
        {
          "output_type": "stream",
          "name": "stdout",
          "text": [
            "  New point found: f(x) = 0.957626\n"
          ]
        },
        {
          "output_type": "stream",
          "name": "stderr",
          "text": [
            "\u001b[36m\u001b[1m[ \u001b[22m\u001b[39m\u001b[36m\u001b[1mInfo: \u001b[22m\u001b[39mInterior point LP: τ = -274.25181643, Status = Interior\n",
            "\u001b[36m\u001b[1m[ \u001b[22m\u001b[39m\u001b[36m\u001b[1mInfo: \u001b[22m\u001b[39mInterior point LP: τ = -681.43956311, Status = Interior\n",
            "\u001b[36m\u001b[1m[ \u001b[22m\u001b[39m\u001b[36m\u001b[1mInfo: \u001b[22m\u001b[39mCell 3: New point not added, obj = 1.002935, min distance = 0.0, better = false\n"
          ]
        },
        {
          "output_type": "stream",
          "name": "stdout",
          "text": [
            "  New point found: f(x) = 0.946953\n"
          ]
        },
        {
          "output_type": "stream",
          "name": "stderr",
          "text": [
            "\u001b[36m\u001b[1m[ \u001b[22m\u001b[39m\u001b[36m\u001b[1mInfo: \u001b[22m\u001b[39mInterior point LP: τ = -64.03451413, Status = Interior\n"
          ]
        },
        {
          "output_type": "stream",
          "name": "stdout",
          "text": [
            "  New point found: f(x) = 3.021515\n",
            "  New point found: f(x) = 0.945544\n"
          ]
        },
        {
          "output_type": "stream",
          "name": "stderr",
          "text": [
            "\u001b[36m\u001b[1m[ \u001b[22m\u001b[39m\u001b[36m\u001b[1mInfo: \u001b[22m\u001b[39mInterior point LP: τ = -56.94602087, Status = Interior\n",
            "\u001b[36m\u001b[1m[ \u001b[22m\u001b[39m\u001b[36m\u001b[1mInfo: \u001b[22m\u001b[39mInterior point LP: τ = -858.6066178, Status = Interior\n",
            "\u001b[36m\u001b[1m[ \u001b[22m\u001b[39m\u001b[36m\u001b[1mInfo: \u001b[22m\u001b[39mCell 6: New point not added, obj = 1.0, min distance = 0.000317, better = false\n",
            "\u001b[36m\u001b[1m[ \u001b[22m\u001b[39m\u001b[36m\u001b[1mInfo: \u001b[22m\u001b[39mInterior point LP: τ = -32.55994443, Status = Interior\n"
          ]
        },
        {
          "output_type": "stream",
          "name": "stdout",
          "text": [
            "  New point found: f(x) = 0.975072\n"
          ]
        },
        {
          "output_type": "stream",
          "name": "stderr",
          "text": [
            "\u001b[36m\u001b[1m[ \u001b[22m\u001b[39m\u001b[36m\u001b[1mInfo: \u001b[22m\u001b[39mInterior point LP: τ = -406.18451029, Status = Interior\n"
          ]
        },
        {
          "output_type": "stream",
          "name": "stdout",
          "text": [
            "  ✅ Level 5 completed in 7.8445 sec | Best objective so far: 0.945544\n",
            "→ VDCG Level 6: 14 sites, Current best f(x) = 0.945544\n"
          ]
        },
        {
          "output_type": "stream",
          "name": "stderr",
          "text": [
            "\u001b[36m\u001b[1m[ \u001b[22m\u001b[39m\u001b[36m\u001b[1mInfo: \u001b[22m\u001b[39mInterior point LP: τ = -906.17246512, Status = Interior\n",
            "\u001b[36m\u001b[1m[ \u001b[22m\u001b[39m\u001b[36m\u001b[1mInfo: \u001b[22m\u001b[39mCell 9: New point not added, obj = 1.054412, min distance = 0.0, better = false\n",
            "\u001b[36m\u001b[1m[ \u001b[22m\u001b[39m\u001b[36m\u001b[1mInfo: \u001b[22m\u001b[39mInterior point LP: τ = -620.81317819, Status = Interior\n",
            "\u001b[36m\u001b[1m[ \u001b[22m\u001b[39m\u001b[36m\u001b[1mInfo: \u001b[22m\u001b[39mCell 1: New point not added, obj = 0.958658, min distance = 0.0, better = false\n"
          ]
        },
        {
          "output_type": "stream",
          "name": "stdout",
          "text": [
            "  New point found: f(x) = 0.947572\n"
          ]
        },
        {
          "output_type": "stream",
          "name": "stderr",
          "text": [
            "\u001b[36m\u001b[1m[ \u001b[22m\u001b[39m\u001b[36m\u001b[1mInfo: \u001b[22m\u001b[39mInterior point LP: τ = -197.23300083, Status = Interior\n",
            "\u001b[36m\u001b[1m[ \u001b[22m\u001b[39m\u001b[36m\u001b[1mInfo: \u001b[22m\u001b[39mInterior point LP: τ = -681.43956311, Status = Interior\n",
            "\u001b[36m\u001b[1m[ \u001b[22m\u001b[39m\u001b[36m\u001b[1mInfo: \u001b[22m\u001b[39mCell 3: New point not added, obj = 1.002935, min distance = 0.0, better = false\n"
          ]
        },
        {
          "output_type": "stream",
          "name": "stdout",
          "text": [
            "  New point found: f(x) = 0.948093\n"
          ]
        },
        {
          "output_type": "stream",
          "name": "stderr",
          "text": [
            "\u001b[36m\u001b[1m[ \u001b[22m\u001b[39m\u001b[36m\u001b[1mInfo: \u001b[22m\u001b[39mInterior point LP: τ = -44.20215, Status = Interior\n"
          ]
        },
        {
          "output_type": "stream",
          "name": "stdout",
          "text": [
            "  New point found: f(x) = 0.946408\n"
          ]
        },
        {
          "output_type": "stream",
          "name": "stderr",
          "text": [
            "\u001b[36m\u001b[1m[ \u001b[22m\u001b[39m\u001b[36m\u001b[1mInfo: \u001b[22m\u001b[39mInterior point LP: τ = -47.9125704, Status = Interior\n"
          ]
        },
        {
          "output_type": "stream",
          "name": "stdout",
          "text": [
            "  New point found: f(x) = 0.950329\n"
          ]
        },
        {
          "output_type": "stream",
          "name": "stderr",
          "text": [
            "\u001b[36m\u001b[1m[ \u001b[22m\u001b[39m\u001b[36m\u001b[1mInfo: \u001b[22m\u001b[39mInterior point LP: τ = -800.99753591, Status = Interior\n",
            "\u001b[36m\u001b[1m[ \u001b[22m\u001b[39m\u001b[36m\u001b[1mInfo: \u001b[22m\u001b[39mCell 6: New point not added, obj = 1.0, min distance = 0.000317, better = false\n",
            "\u001b[36m\u001b[1m[ \u001b[22m\u001b[39m\u001b[36m\u001b[1mInfo: \u001b[22m\u001b[39mInterior point LP: τ = -20.56366, Status = Interior\n"
          ]
        },
        {
          "output_type": "stream",
          "name": "stdout",
          "text": [
            "  New point found: f(x) = 0.948684\n"
          ]
        },
        {
          "output_type": "stream",
          "name": "stderr",
          "text": [
            "\u001b[36m\u001b[1m[ \u001b[22m\u001b[39m\u001b[36m\u001b[1mInfo: \u001b[22m\u001b[39mInterior point LP: τ = -37.88845474, Status = Interior\n"
          ]
        },
        {
          "output_type": "stream",
          "name": "stdout",
          "text": [
            "  New point found: f(x) = 1.054412\n",
            "  New point found: f(x) = 0.946079\n"
          ]
        },
        {
          "output_type": "stream",
          "name": "stderr",
          "text": [
            "\u001b[36m\u001b[1m[ \u001b[22m\u001b[39m\u001b[36m\u001b[1mInfo: \u001b[22m\u001b[39mInterior point LP: τ = -666.11289133, Status = Interior\n",
            "\u001b[36m\u001b[1m[ \u001b[22m\u001b[39m\u001b[36m\u001b[1mInfo: \u001b[22m\u001b[39mInterior point LP: τ = -168.85698362, Status = Interior\n"
          ]
        },
        {
          "output_type": "stream",
          "name": "stdout",
          "text": [
            "  New point found: f(x) = 0.945967\n"
          ]
        },
        {
          "output_type": "stream",
          "name": "stderr",
          "text": [
            "\u001b[36m\u001b[1m[ \u001b[22m\u001b[39m\u001b[36m\u001b[1mInfo: \u001b[22m\u001b[39mInterior point LP: τ = -52.87055225, Status = Interior\n"
          ]
        },
        {
          "output_type": "stream",
          "name": "stdout",
          "text": [
            "  New point found: f(x) = 3.021515\n",
            "  New point found: f(x) = 0.945293\n"
          ]
        },
        {
          "output_type": "stream",
          "name": "stderr",
          "text": [
            "\u001b[36m\u001b[1m[ \u001b[22m\u001b[39m\u001b[36m\u001b[1mInfo: \u001b[22m\u001b[39mInterior point LP: τ = -687.76725953, Status = Interior\n",
            "\u001b[36m\u001b[1m[ \u001b[22m\u001b[39m\u001b[36m\u001b[1mInfo: \u001b[22m\u001b[39mInterior point LP: τ = -17.08079461, Status = Interior\n",
            "\u001b[36m\u001b[1m[ \u001b[22m\u001b[39m\u001b[36m\u001b[1mInfo: \u001b[22m\u001b[39mInterior point LP: τ = -50.82973489, Status = Interior\n",
            "\u001b[36m\u001b[1m[ \u001b[22m\u001b[39m\u001b[36m\u001b[1mInfo: \u001b[22m\u001b[39mCell 14: New point not added, obj = 0.975072, min distance = 0.0, better = false\n"
          ]
        },
        {
          "output_type": "stream",
          "name": "stdout",
          "text": [
            "  ✅ Level 6 completed in 13.5016 sec | Best objective so far: 0.945293\n",
            "→ VDCG Level 7: 24 sites, Current best f(x) = 0.945293\n"
          ]
        },
        {
          "output_type": "stream",
          "name": "stderr",
          "text": [
            "\u001b[36m\u001b[1m[ \u001b[22m\u001b[39m\u001b[36m\u001b[1mInfo: \u001b[22m\u001b[39mInterior point LP: τ = -620.81317819, Status = Interior\n",
            "\u001b[36m\u001b[1m[ \u001b[22m\u001b[39m\u001b[36m\u001b[1mInfo: \u001b[22m\u001b[39mCell 1: New point not added, obj = 0.958658, min distance = 0.0, better = false\n",
            "\u001b[36m\u001b[1m[ \u001b[22m\u001b[39m\u001b[36m\u001b[1mInfo: \u001b[22m\u001b[39mInterior point LP: τ = -197.23300083, Status = Interior\n",
            "\u001b[36m\u001b[1m[ \u001b[22m\u001b[39m\u001b[36m\u001b[1mInfo: \u001b[22m\u001b[39mCell 2: New point not added, obj = 0.947572, min distance = 0.0, better = false\n",
            "\u001b[36m\u001b[1m[ \u001b[22m\u001b[39m\u001b[36m\u001b[1mInfo: \u001b[22m\u001b[39mInterior point LP: τ = -662.84985887, Status = Interior\n",
            "\u001b[36m\u001b[1m[ \u001b[22m\u001b[39m\u001b[36m\u001b[1mInfo: \u001b[22m\u001b[39mCell 3: New point not added, obj = 1.002935, min distance = 0.0, better = false\n"
          ]
        },
        {
          "output_type": "stream",
          "name": "stdout",
          "text": [
            "  New point found: f(x) = 1.000000\n",
            "  New point found: f(x) = 0.945960\n"
          ]
        },
        {
          "output_type": "stream",
          "name": "stderr",
          "text": [
            "\u001b[36m\u001b[1m[ \u001b[22m\u001b[39m\u001b[36m\u001b[1mInfo: \u001b[22m\u001b[39mInterior point LP: τ = -35.69201387, Status = Interior\n",
            "\u001b[36m\u001b[1m[ \u001b[22m\u001b[39m\u001b[36m\u001b[1mInfo: \u001b[22m\u001b[39mInterior point LP: τ = -28.60339324, Status = Interior\n"
          ]
        },
        {
          "output_type": "stream",
          "name": "stdout",
          "text": [
            "  New point found: f(x) = 0.946184\n"
          ]
        },
        {
          "output_type": "stream",
          "name": "stderr",
          "text": [
            "\u001b[36m\u001b[1m[ \u001b[22m\u001b[39m\u001b[36m\u001b[1mInfo: \u001b[22m\u001b[39mInterior point LP: τ = -732.30467235, Status = Interior\n",
            "\u001b[36m\u001b[1m[ \u001b[22m\u001b[39m\u001b[36m\u001b[1mInfo: \u001b[22m\u001b[39mCell 6: New point not added, obj = 1.0, min distance = 0.000317, better = false\n",
            "\u001b[36m\u001b[1m[ \u001b[22m\u001b[39m\u001b[36m\u001b[1mInfo: \u001b[22m\u001b[39mInterior point LP: τ = -14.70283028, Status = Interior\n"
          ]
        },
        {
          "output_type": "stream",
          "name": "stdout",
          "text": [
            "  New point found: f(x) = 0.946844\n"
          ]
        },
        {
          "output_type": "stream",
          "name": "stderr",
          "text": [
            "\u001b[36m\u001b[1m[ \u001b[22m\u001b[39m\u001b[36m\u001b[1mInfo: \u001b[22m\u001b[39mInterior point LP: τ = -26.55039359, Status = Interior\n"
          ]
        },
        {
          "output_type": "stream",
          "name": "stdout",
          "text": [
            "  New point found: f(x) = 0.947531\n"
          ]
        },
        {
          "output_type": "stream",
          "name": "stderr",
          "text": [
            "\u001b[36m\u001b[1m[ \u001b[22m\u001b[39m\u001b[36m\u001b[1mInfo: \u001b[22m\u001b[39mInterior point LP: τ = -13.21464028, Status = Interior\n"
          ]
        },
        {
          "output_type": "stream",
          "name": "stdout",
          "text": [
            "  New point found: f(x) = 0.947987\n"
          ]
        },
        {
          "output_type": "stream",
          "name": "stderr",
          "text": [
            "\u001b[36m\u001b[1m[ \u001b[22m\u001b[39m\u001b[36m\u001b[1mInfo: \u001b[22m\u001b[39mInterior point LP: τ = -53.60441844, Status = Interior\n"
          ]
        },
        {
          "output_type": "stream",
          "name": "stdout",
          "text": [
            "  New point found: f(x) = 0.946738\n"
          ]
        },
        {
          "output_type": "stream",
          "name": "stderr",
          "text": [
            "\u001b[36m\u001b[1m[ \u001b[22m\u001b[39m\u001b[36m\u001b[1mInfo: \u001b[22m\u001b[39mInterior point LP: τ = -34.11734567, Status = Interior\n"
          ]
        },
        {
          "output_type": "stream",
          "name": "stdout",
          "text": [
            "  New point found: f(x) = 0.951404\n"
          ]
        },
        {
          "output_type": "stream",
          "name": "stderr",
          "text": [
            "\u001b[36m\u001b[1m[ \u001b[22m\u001b[39m\u001b[36m\u001b[1mInfo: \u001b[22m\u001b[39mInterior point LP: τ = -73.00421026, Status = Interior\n"
          ]
        },
        {
          "output_type": "stream",
          "name": "stdout",
          "text": [
            "  New point found: f(x) = 0.946820\n"
          ]
        },
        {
          "output_type": "stream",
          "name": "stderr",
          "text": [
            "\u001b[36m\u001b[1m[ \u001b[22m\u001b[39m\u001b[36m\u001b[1mInfo: \u001b[22m\u001b[39mInterior point LP: τ = -13.24112233, Status = Interior\n",
            "\u001b[36m\u001b[1m[ \u001b[22m\u001b[39m\u001b[36m\u001b[1mInfo: \u001b[22m\u001b[39mInterior point LP: τ = -50.82973489, Status = Interior\n",
            "\u001b[36m\u001b[1m[ \u001b[22m\u001b[39m\u001b[36m\u001b[1mInfo: \u001b[22m\u001b[39mCell 14: New point not added, obj = 0.975072, min distance = 0.0, better = false\n"
          ]
        },
        {
          "output_type": "stream",
          "name": "stdout",
          "text": [
            "  New point found: f(x) = 0.947045\n"
          ]
        },
        {
          "output_type": "stream",
          "name": "stderr",
          "text": [
            "\u001b[36m\u001b[1m[ \u001b[22m\u001b[39m\u001b[36m\u001b[1mInfo: \u001b[22m\u001b[39mInterior point LP: τ = -15.48148447, Status = Interior\n"
          ]
        },
        {
          "output_type": "stream",
          "name": "stdout",
          "text": [
            "  New point found: f(x) = 0.948907\n"
          ]
        },
        {
          "output_type": "stream",
          "name": "stderr",
          "text": [
            "\u001b[36m\u001b[1m[ \u001b[22m\u001b[39m\u001b[36m\u001b[1mInfo: \u001b[22m\u001b[39mInterior point LP: τ = -342.41649213, Status = Interior\n"
          ]
        },
        {
          "output_type": "stream",
          "name": "stdout",
          "text": [
            "  New point found: f(x) = 0.946726\n"
          ]
        },
        {
          "output_type": "stream",
          "name": "stderr",
          "text": [
            "\u001b[36m\u001b[1m[ \u001b[22m\u001b[39m\u001b[36m\u001b[1mInfo: \u001b[22m\u001b[39mInterior point LP: τ = -59.96749657, Status = Interior\n"
          ]
        },
        {
          "output_type": "stream",
          "name": "stdout",
          "text": [
            "  New point found: f(x) = 0.950379\n"
          ]
        },
        {
          "output_type": "stream",
          "name": "stderr",
          "text": [
            "\u001b[36m\u001b[1m[ \u001b[22m\u001b[39m\u001b[36m\u001b[1mInfo: \u001b[22m\u001b[39mInterior point LP: τ = -581.67004527, Status = Interior\n"
          ]
        },
        {
          "output_type": "stream",
          "name": "stdout",
          "text": [
            "  New point found: f(x) = 0.954938\n"
          ]
        },
        {
          "output_type": "stream",
          "name": "stderr",
          "text": [
            "\u001b[36m\u001b[1m[ \u001b[22m\u001b[39m\u001b[36m\u001b[1mInfo: \u001b[22m\u001b[39mInterior point LP: τ = -243.74997914, Status = Interior\n"
          ]
        },
        {
          "output_type": "stream",
          "name": "stdout",
          "text": [
            "  New point found: f(x) = 0.945629\n"
          ]
        },
        {
          "output_type": "stream",
          "name": "stderr",
          "text": [
            "\u001b[36m\u001b[1m[ \u001b[22m\u001b[39m\u001b[36m\u001b[1mInfo: \u001b[22m\u001b[39mInterior point LP: τ = -12.41671458, Status = Interior\n",
            "\u001b[36m\u001b[1m[ \u001b[22m\u001b[39m\u001b[36m\u001b[1mInfo: \u001b[22m\u001b[39mCell 20: New point not added, obj = 1.054412, min distance = 0.0, better = false\n",
            "\u001b[36m\u001b[1m[ \u001b[22m\u001b[39m\u001b[36m\u001b[1mInfo: \u001b[22m\u001b[39mInterior point LP: τ = -315.4068291, Status = Interior\n"
          ]
        },
        {
          "output_type": "stream",
          "name": "stdout",
          "text": [
            "  New point found: f(x) = 0.945433\n"
          ]
        },
        {
          "output_type": "stream",
          "name": "stderr",
          "text": [
            "\u001b[36m\u001b[1m[ \u001b[22m\u001b[39m\u001b[36m\u001b[1mInfo: \u001b[22m\u001b[39mInterior point LP: τ = -94.28804236, Status = Interior\n"
          ]
        },
        {
          "output_type": "stream",
          "name": "stdout",
          "text": [
            "  New point found: f(x) = 1.054412\n",
            "  New point found: f(x) = 1.005532\n",
            "  ✅ Level 7 completed in 24.7411 sec | Best objective so far: 0.945293\n"
          ]
        },
        {
          "output_type": "stream",
          "name": "stderr",
          "text": [
            "\u001b[36m\u001b[1m[ \u001b[22m\u001b[39m\u001b[36m\u001b[1mInfo: \u001b[22m\u001b[39mInterior point LP: τ = -41.40296279, Status = Interior\n",
            "\u001b[36m\u001b[1m[ \u001b[22m\u001b[39m\u001b[36m\u001b[1mInfo: \u001b[22m\u001b[39mInterior point LP: τ = -57.44359464, Status = Interior\n"
          ]
        },
        {
          "output_type": "stream",
          "name": "stdout",
          "text": [
            "→ VDCG Level 8: 42 sites, Current best f(x) = 0.945293\n"
          ]
        },
        {
          "output_type": "stream",
          "name": "stderr",
          "text": [
            "\u001b[36m\u001b[1m[ \u001b[22m\u001b[39m\u001b[36m\u001b[1mInfo: \u001b[22m\u001b[39mInterior point LP: τ = -620.81317819, Status = Interior\n",
            "\u001b[36m\u001b[1m[ \u001b[22m\u001b[39m\u001b[36m\u001b[1mInfo: \u001b[22m\u001b[39mCell 1: New point not added, obj = 0.958658, min distance = 0.0, better = false\n",
            "\u001b[36m\u001b[1m[ \u001b[22m\u001b[39m\u001b[36m\u001b[1mInfo: \u001b[22m\u001b[39mInterior point LP: τ = -197.23300083, Status = Interior\n",
            "\u001b[36m\u001b[1m[ \u001b[22m\u001b[39m\u001b[36m\u001b[1mInfo: \u001b[22m\u001b[39mCell 2: New point not added, obj = 0.947572, min distance = 0.0, better = false\n",
            "\u001b[36m\u001b[1m[ \u001b[22m\u001b[39m\u001b[36m\u001b[1mInfo: \u001b[22m\u001b[39mInterior point LP: τ = -652.91500982, Status = Interior\n",
            "\u001b[36m\u001b[1m[ \u001b[22m\u001b[39m\u001b[36m\u001b[1mInfo: \u001b[22m\u001b[39mCell 3: New point not added, obj = 1.002935, min distance = 0.0, better = false\n"
          ]
        },
        {
          "output_type": "stream",
          "name": "stdout",
          "text": [
            "  New point found: f(x) = 0.945745\n"
          ]
        },
        {
          "output_type": "stream",
          "name": "stderr",
          "text": [
            "\u001b[36m\u001b[1m[ \u001b[22m\u001b[39m\u001b[36m\u001b[1mInfo: \u001b[22m\u001b[39mInterior point LP: τ = -23.36541957, Status = Interior\n"
          ]
        },
        {
          "output_type": "stream",
          "name": "stdout",
          "text": [
            "  New point found: f(x) = 0.946980\n"
          ]
        },
        {
          "output_type": "stream",
          "name": "stderr",
          "text": [
            "\u001b[36m\u001b[1m[ \u001b[22m\u001b[39m\u001b[36m\u001b[1mInfo: \u001b[22m\u001b[39mInterior point LP: τ = -26.09788432, Status = Interior\n"
          ]
        },
        {
          "output_type": "stream",
          "name": "stdout",
          "text": [
            "  New point found: f(x) = 0.946752\n"
          ]
        },
        {
          "output_type": "stream",
          "name": "stderr",
          "text": [
            "\u001b[36m\u001b[1m[ \u001b[22m\u001b[39m\u001b[36m\u001b[1mInfo: \u001b[22m\u001b[39mInterior point LP: τ = -701.89599485, Status = Interior\n",
            "\u001b[36m\u001b[1m[ \u001b[22m\u001b[39m\u001b[36m\u001b[1mInfo: \u001b[22m\u001b[39mCell 6: New point not added, obj = 1.0, min distance = 0.000317, better = false\n",
            "\u001b[36m\u001b[1m[ \u001b[22m\u001b[39m\u001b[36m\u001b[1mInfo: \u001b[22m\u001b[39mInterior point LP: τ = -10.25364116, Status = Interior\n"
          ]
        },
        {
          "output_type": "stream",
          "name": "stdout",
          "text": [
            "  New point found: f(x) = 0.946977\n"
          ]
        },
        {
          "output_type": "stream",
          "name": "stderr",
          "text": [
            "\u001b[36m\u001b[1m[ \u001b[22m\u001b[39m\u001b[36m\u001b[1mInfo: \u001b[22m\u001b[39mInterior point LP: τ = -25.36819688, Status = Interior\n"
          ]
        },
        {
          "output_type": "stream",
          "name": "stdout",
          "text": [
            "  New point found: f(x) = 1.054412\n",
            "  New point found: f(x) = 0.945306\n"
          ]
        },
        {
          "output_type": "stream",
          "name": "stderr",
          "text": [
            "\u001b[36m\u001b[1m[ \u001b[22m\u001b[39m\u001b[36m\u001b[1mInfo: \u001b[22m\u001b[39mInterior point LP: τ = -1.11230804, Status = Interior\n",
            "\u001b[36m\u001b[1m[ \u001b[22m\u001b[39m\u001b[36m\u001b[1mInfo: \u001b[22m\u001b[39mInterior point LP: τ = -52.5055609, Status = Interior\n"
          ]
        },
        {
          "output_type": "stream",
          "name": "stdout",
          "text": [
            "  New point found: f(x) = 0.948840\n"
          ]
        },
        {
          "output_type": "stream",
          "name": "stderr",
          "text": [
            "\u001b[36m\u001b[1m[ \u001b[22m\u001b[39m\u001b[36m\u001b[1mInfo: \u001b[22m\u001b[39mInterior point LP: τ = -33.76378346, Status = Interior\n",
            "\u001b[36m\u001b[1m[ \u001b[22m\u001b[39m\u001b[36m\u001b[1mInfo: \u001b[22m\u001b[39mInterior point LP: τ = -73.00421026, Status = Interior\n",
            "\u001b[36m\u001b[1m[ \u001b[22m\u001b[39m\u001b[36m\u001b[1mInfo: \u001b[22m\u001b[39mCell 12: New point not added, obj = 0.951404, min distance = 0.0, better = false\n"
          ]
        },
        {
          "output_type": "stream",
          "name": "stdout",
          "text": [
            "  New point found: f(x) = 0.943724\n"
          ]
        },
        {
          "output_type": "stream",
          "name": "stderr",
          "text": [
            "\u001b[36m\u001b[1m[ \u001b[22m\u001b[39m\u001b[36m\u001b[1mInfo: \u001b[22m\u001b[39mInterior point LP: τ = -9.86841248, Status = Interior\n",
            "\u001b[36m\u001b[1m[ \u001b[22m\u001b[39m\u001b[36m\u001b[1mInfo: \u001b[22m\u001b[39mInterior point LP: τ = -50.82973489, Status = Interior\n",
            "\u001b[36m\u001b[1m[ \u001b[22m\u001b[39m\u001b[36m\u001b[1mInfo: \u001b[22m\u001b[39mCell 14: New point not added, obj = 0.975072, min distance = 0.0, better = false\n"
          ]
        },
        {
          "output_type": "stream",
          "name": "stdout",
          "text": [
            "  New point found: f(x) = 0.948708\n"
          ]
        },
        {
          "output_type": "stream",
          "name": "stderr",
          "text": [
            "\u001b[36m\u001b[1m[ \u001b[22m\u001b[39m\u001b[36m\u001b[1mInfo: \u001b[22m\u001b[39mInterior point LP: τ = -14.13372046, Status = Interior\n"
          ]
        },
        {
          "output_type": "stream",
          "name": "stdout",
          "text": [
            "  New point found: f(x) = 0.945076\n"
          ]
        },
        {
          "output_type": "stream",
          "name": "stderr",
          "text": [
            "\u001b[36m\u001b[1m[ \u001b[22m\u001b[39m\u001b[36m\u001b[1mInfo: \u001b[22m\u001b[39mInterior point LP: τ = -53.37695451, Status = Interior\n"
          ]
        },
        {
          "output_type": "stream",
          "name": "stdout",
          "text": [
            "  New point found: f(x) = 0.946235\n"
          ]
        },
        {
          "output_type": "stream",
          "name": "stderr",
          "text": [
            "\u001b[36m\u001b[1m[ \u001b[22m\u001b[39m\u001b[36m\u001b[1mInfo: \u001b[22m\u001b[39mInterior point LP: τ = -25.61269997, Status = Interior\n"
          ]
        },
        {
          "output_type": "stream",
          "name": "stdout",
          "text": [
            "  New point found: f(x) = 0.946873\n"
          ]
        },
        {
          "output_type": "stream",
          "name": "stderr",
          "text": [
            "\u001b[36m\u001b[1m[ \u001b[22m\u001b[39m\u001b[36m\u001b[1mInfo: \u001b[22m\u001b[39mInterior point LP: τ = -42.33122375, Status = Interior\n"
          ]
        },
        {
          "output_type": "stream",
          "name": "stdout",
          "text": [
            "  New point found: f(x) = 0.947718\n"
          ]
        },
        {
          "output_type": "stream",
          "name": "stderr",
          "text": [
            "\u001b[36m\u001b[1m[ \u001b[22m\u001b[39m\u001b[36m\u001b[1mInfo: \u001b[22m\u001b[39mInterior point LP: τ = -35.27928223, Status = Interior\n"
          ]
        },
        {
          "output_type": "stream",
          "name": "stdout",
          "text": [
            "  New point found: f(x) = 0.946031\n"
          ]
        },
        {
          "output_type": "stream",
          "name": "stderr",
          "text": [
            "\u001b[36m\u001b[1m[ \u001b[22m\u001b[39m\u001b[36m\u001b[1mInfo: \u001b[22m\u001b[39mInterior point LP: τ = -12.41671458, Status = Interior\n",
            "\u001b[36m\u001b[1m[ \u001b[22m\u001b[39m\u001b[36m\u001b[1mInfo: \u001b[22m\u001b[39mCell 20: New point not added, obj = 1.054412, min distance = 0.0, better = false\n",
            "\u001b[36m\u001b[1m[ \u001b[22m\u001b[39m\u001b[36m\u001b[1mInfo: \u001b[22m\u001b[39mInterior point LP: τ = -74.81614351, Status = Interior\n",
            "\u001b[36m\u001b[1m[ \u001b[22m\u001b[39m\u001b[36m\u001b[1mInfo: \u001b[22m\u001b[39mInterior point LP: τ = -94.28804236, Status = Interior\n",
            "\u001b[36m\u001b[1m[ \u001b[22m\u001b[39m\u001b[36m\u001b[1mInfo: \u001b[22m\u001b[39mCell 22: New point not added, obj = 0.945433, min distance = 0.0, better = false\n"
          ]
        },
        {
          "output_type": "stream",
          "name": "stdout",
          "text": [
            "  New point found: f(x) = 0.946990\n"
          ]
        },
        {
          "output_type": "stream",
          "name": "stderr",
          "text": [
            "\u001b[36m\u001b[1m[ \u001b[22m\u001b[39m\u001b[36m\u001b[1mInfo: \u001b[22m\u001b[39mInterior point LP: τ = -41.40296279, Status = Interior\n",
            "\u001b[36m\u001b[1m[ \u001b[22m\u001b[39m\u001b[36m\u001b[1mInfo: \u001b[22m\u001b[39mCell 23: New point not added, obj = 1.054412, min distance = 0.0, better = false\n",
            "\u001b[36m\u001b[1m[ \u001b[22m\u001b[39m\u001b[36m\u001b[1mInfo: \u001b[22m\u001b[39mInterior point LP: τ = -34.87442928, Status = Interior\n"
          ]
        },
        {
          "output_type": "stream",
          "name": "stdout",
          "text": [
            "  New point found: f(x) = 0.995806\n"
          ]
        },
        {
          "output_type": "stream",
          "name": "stderr",
          "text": [
            "\u001b[36m\u001b[1m[ \u001b[22m\u001b[39m\u001b[36m\u001b[1mInfo: \u001b[22m\u001b[39mInterior point LP: τ = -363.12121303, Status = Interior\n"
          ]
        },
        {
          "output_type": "stream",
          "name": "stdout",
          "text": [
            "  New point found: f(x) = 0.946584\n"
          ]
        },
        {
          "output_type": "stream",
          "name": "stderr",
          "text": [
            "\u001b[36m\u001b[1m[ \u001b[22m\u001b[39m\u001b[36m\u001b[1mInfo: \u001b[22m\u001b[39mInterior point LP: τ = -33.76603036, Status = Interior\n"
          ]
        },
        {
          "output_type": "stream",
          "name": "stdout",
          "text": [
            "  New point found: f(x) = 0.957262\n"
          ]
        },
        {
          "output_type": "stream",
          "name": "stderr",
          "text": [
            "\u001b[36m\u001b[1m[ \u001b[22m\u001b[39m\u001b[36m\u001b[1mInfo: \u001b[22m\u001b[39mInterior point LP: τ = -138.62651223, Status = Interior\n"
          ]
        },
        {
          "output_type": "stream",
          "name": "stdout",
          "text": [
            "  New point found: f(x) = 0.946469\n"
          ]
        },
        {
          "output_type": "stream",
          "name": "stderr",
          "text": [
            "\u001b[36m\u001b[1m[ \u001b[22m\u001b[39m\u001b[36m\u001b[1mInfo: \u001b[22m\u001b[39mInterior point LP: τ = -468.83528212, Status = Interior\n"
          ]
        },
        {
          "output_type": "stream",
          "name": "stdout",
          "text": [
            "  New point found: f(x) = 0.945418\n"
          ]
        },
        {
          "output_type": "stream",
          "name": "stderr",
          "text": [
            "\u001b[36m\u001b[1m[ \u001b[22m\u001b[39m\u001b[36m\u001b[1mInfo: \u001b[22m\u001b[39mInterior point LP: τ = -11.8690373, Status = Interior\n"
          ]
        },
        {
          "output_type": "stream",
          "name": "stdout",
          "text": [
            "  New point found: f(x) = 0.948114\n"
          ]
        },
        {
          "output_type": "stream",
          "name": "stderr",
          "text": [
            "\u001b[36m\u001b[1m[ \u001b[22m\u001b[39m\u001b[36m\u001b[1mInfo: \u001b[22m\u001b[39mInterior point LP: τ = -417.77824509, Status = Interior\n"
          ]
        },
        {
          "output_type": "stream",
          "name": "stdout",
          "text": [
            "  New point found: f(x) = 0.953354\n"
          ]
        },
        {
          "output_type": "stream",
          "name": "stderr",
          "text": [
            "\u001b[36m\u001b[1m[ \u001b[22m\u001b[39m\u001b[36m\u001b[1mInfo: \u001b[22m\u001b[39mInterior point LP: τ = -12.02839221, Status = Interior\n"
          ]
        },
        {
          "output_type": "stream",
          "name": "stdout",
          "text": [
            "  New point found: f(x) = 0.946005\n"
          ]
        },
        {
          "output_type": "stream",
          "name": "stderr",
          "text": [
            "\u001b[36m\u001b[1m[ \u001b[22m\u001b[39m\u001b[36m\u001b[1mInfo: \u001b[22m\u001b[39mInterior point LP: τ = -39.78616199, Status = Interior\n"
          ]
        },
        {
          "output_type": "stream",
          "name": "stdout",
          "text": [
            "  New point found: f(x) = 1.019531\n"
          ]
        },
        {
          "output_type": "stream",
          "name": "stderr",
          "text": [
            "\u001b[36m\u001b[1m[ \u001b[22m\u001b[39m\u001b[36m\u001b[1mInfo: \u001b[22m\u001b[39mInterior point LP: τ = -50.11546, Status = Interior\n"
          ]
        },
        {
          "output_type": "stream",
          "name": "stdout",
          "text": [
            "  New point found: f(x) = 0.946122\n"
          ]
        },
        {
          "output_type": "stream",
          "name": "stderr",
          "text": [
            "\u001b[36m\u001b[1m[ \u001b[22m\u001b[39m\u001b[36m\u001b[1mInfo: \u001b[22m\u001b[39mInterior point LP: τ = -23.31483105, Status = Interior\n",
            "\u001b[36m\u001b[1m[ \u001b[22m\u001b[39m\u001b[36m\u001b[1mInfo: \u001b[22m\u001b[39mInterior point LP: τ = -415.47552586, Status = Interior\n",
            "\u001b[36m\u001b[1m[ \u001b[22m\u001b[39m\u001b[36m\u001b[1mInfo: \u001b[22m\u001b[39mCell 35: New point not added, obj = 0.948907, min distance = 0.0, better = false\n",
            "\u001b[36m\u001b[1m[ \u001b[22m\u001b[39m\u001b[36m\u001b[1mInfo: \u001b[22m\u001b[39mInterior point LP: τ = -586.10335237, Status = Interior\n",
            "\u001b[36m\u001b[1m[ \u001b[22m\u001b[39m\u001b[36m\u001b[1mInfo: \u001b[22m\u001b[39mCell 36: New point not added, obj = 0.946726, min distance = 0.0, better = false\n",
            "\u001b[36m\u001b[1m[ \u001b[22m\u001b[39m\u001b[36m\u001b[1mInfo: \u001b[22m\u001b[39mInterior point LP: τ = -102.69336021, Status = Interior\n",
            "\u001b[36m\u001b[1m[ \u001b[22m\u001b[39m\u001b[36m\u001b[1mInfo: \u001b[22m\u001b[39mCell 37: New point not added, obj = 0.950379, min distance = 0.0, better = false\n",
            "\u001b[36m\u001b[1m[ \u001b[22m\u001b[39m\u001b[36m\u001b[1mInfo: \u001b[22m\u001b[39mInterior point LP: τ = -420.56631957, Status = Interior\n",
            "\u001b[36m\u001b[1m[ \u001b[22m\u001b[39m\u001b[36m\u001b[1mInfo: \u001b[22m\u001b[39mCell 38: New point not added, obj = 0.954938, min distance = 0.0, better = false\n"
          ]
        },
        {
          "output_type": "stream",
          "name": "stdout",
          "text": [
            "  New point found: f(x) = 0.951413\n"
          ]
        },
        {
          "output_type": "stream",
          "name": "stderr",
          "text": [
            "\u001b[36m\u001b[1m[ \u001b[22m\u001b[39m\u001b[36m\u001b[1mInfo: \u001b[22m\u001b[39mInterior point LP: τ = -54.9553952, Status = Interior\n"
          ]
        },
        {
          "output_type": "stream",
          "name": "stdout",
          "text": [
            "  New point found: f(x) = 0.943594\n"
          ]
        },
        {
          "output_type": "stream",
          "name": "stderr",
          "text": [
            "\u001b[36m\u001b[1m[ \u001b[22m\u001b[39m\u001b[36m\u001b[1mInfo: \u001b[22m\u001b[39mInterior point LP: τ = -12.28202182, Status = Interior\n"
          ]
        },
        {
          "output_type": "stream",
          "name": "stdout",
          "text": [
            "  New point found: f(x) = 0.946155\n"
          ]
        },
        {
          "output_type": "stream",
          "name": "stderr",
          "text": [
            "\u001b[36m\u001b[1m[ \u001b[22m\u001b[39m\u001b[36m\u001b[1mInfo: \u001b[22m\u001b[39mInterior point LP: τ = -59.79414497, Status = Interior\n"
          ]
        },
        {
          "output_type": "stream",
          "name": "stdout",
          "text": [
            "  New point found: f(x) = 1.005602\n",
            "  ✅ Level 8 completed in 46.5073 sec | Best objective so far: 0.943594\n"
          ]
        },
        {
          "output_type": "stream",
          "name": "stderr",
          "text": [
            "\u001b[36m\u001b[1m[ \u001b[22m\u001b[39m\u001b[36m\u001b[1mInfo: \u001b[22m\u001b[39mInterior point LP: τ = -662.32606271, Status = Interior\n"
          ]
        },
        {
          "output_type": "stream",
          "name": "stdout",
          "text": [
            "120.078793 seconds (27.93 M allocations: 65.845 GiB, 6.81% gc time, 9.63% compilation time)\n",
            "\n",
            "✅ VDCG Best Objective: 0.943594\n",
            "✅ VDCG Total Time: 196.0998 sec, Total Points: 105\n",
            "📊 Running Standard CG...\n",
            "📊 Standard CG Objective: 0.958658\n",
            "🔍 Running Multi-start CG (time-limited)...\n",
            "  Seed 23: f(x) = 0.958658, Time so far: 1.7017 sec, Points: 1\n",
            "  Seed 24: f(x) = 0.948882, Time so far: 2.8331 sec, Points: 2\n",
            "  Seed 25: f(x) = 0.947474, Time so far: 3.9556 sec, Points: 3\n",
            "  Seed 26: f(x) = 0.947078, Time so far: 5.0646 sec, Points: 4\n",
            "  Seed 27: f(x) = 0.953103, Time so far: 6.1930 sec, Points: 5\n",
            "  Seed 28: f(x) = 0.947001, Time so far: 7.2843 sec, Points: 6\n",
            "  Seed 29: f(x) = 0.950725, Time so far: 8.3889 sec, Points: 7\n",
            "  Seed 30: f(x) = 0.959785, Time so far: 9.4822 sec, Points: 8\n",
            "  Seed 31: f(x) = 0.946974, Time so far: 10.5764 sec, Points: 9\n",
            "  Seed 32: f(x) = 0.946475, Time so far: 11.6823 sec, Points: 10\n",
            "  Seed 33: f(x) = 0.948720, Time so far: 13.3760 sec, Points: 11\n",
            "  Seed 34: f(x) = 0.966407, Time so far: 14.8929 sec, Points: 12\n",
            "  Seed 35: f(x) = 0.953400, Time so far: 16.0001 sec, Points: 13\n",
            "  Seed 36: f(x) = 0.949236, Time so far: 17.0974 sec, Points: 14\n",
            "  Seed 37: f(x) = 0.946908, Time so far: 18.1904 sec, Points: 15\n",
            "  Seed 38: f(x) = 0.949317, Time so far: 19.2752 sec, Points: 16\n",
            "  Seed 39: f(x) = 0.946909, Time so far: 20.3750 sec, Points: 17\n",
            "  Seed 40: f(x) = 0.946411, Time so far: 21.4700 sec, Points: 18\n",
            "  Seed 41: f(x) = 0.948114, Time so far: 22.5855 sec, Points: 19\n",
            "  Seed 42: f(x) = 0.951592, Time so far: 23.6734 sec, Points: 20\n",
            "  Seed 43: f(x) = 0.945433, Time so far: 24.8965 sec, Points: 21\n",
            "  Seed 44: f(x) = 0.948882, Time so far: 26.5896 sec, Points: 22\n",
            "  Seed 45: f(x) = 1.026084, Time so far: 28.0221 sec, Points: 23\n",
            "  Seed 46: f(x) = 0.947041, Time so far: 29.1082 sec, Points: 24\n",
            "  Seed 47: f(x) = 0.970481, Time so far: 30.2039 sec, Points: 25\n",
            "  Seed 48: f(x) = 0.949317, Time so far: 31.2832 sec, Points: 26\n",
            "  Seed 49: f(x) = 0.952446, Time so far: 32.3882 sec, Points: 27\n",
            "  Seed 50: f(x) = 0.949683, Time so far: 33.4960 sec, Points: 28\n",
            "  Seed 51: f(x) = 0.947026, Time so far: 34.5929 sec, Points: 29\n",
            "  Seed 52: f(x) = 0.950725, Time so far: 35.6895 sec, Points: 30\n",
            "  Seed 53: f(x) = 0.948557, Time so far: 36.8053 sec, Points: 31\n",
            "  Seed 54: f(x) = 0.948092, Time so far: 38.0853 sec, Points: 32\n",
            "  Seed 55: f(x) = 0.946909, Time so far: 39.7864 sec, Points: 33\n",
            "  Seed 56: f(x) = 0.950662, Time so far: 41.1157 sec, Points: 34\n",
            "  Seed 57: f(x) = 0.949882, Time so far: 42.2240 sec, Points: 35\n",
            "  Seed 58: f(x) = 0.946929, Time so far: 43.3274 sec, Points: 36\n",
            "  Seed 59: f(x) = 0.946983, Time so far: 44.4213 sec, Points: 37\n",
            "  Seed 60: f(x) = 1.088856, Time so far: 45.5102 sec, Points: 38\n",
            "  Seed 61: f(x) = 0.951580, Time so far: 46.6077 sec, Points: 39\n",
            "  Seed 62: f(x) = 0.946468, Time so far: 47.6927 sec, Points: 40\n",
            "  Seed 63: f(x) = 0.949225, Time so far: 48.8057 sec, Points: 41\n",
            "  Seed 64: f(x) = 0.953400, Time so far: 49.9001 sec, Points: 42\n",
            "  Seed 65: f(x) = 0.952719, Time so far: 51.2900 sec, Points: 43\n",
            "  Seed 66: f(x) = 0.949317, Time so far: 52.9648 sec, Points: 44\n",
            "  Seed 67: f(x) = 0.947125, Time so far: 54.2254 sec, Points: 45\n",
            "  Seed 68: f(x) = 0.946931, Time so far: 55.3051 sec, Points: 46\n",
            "  Seed 69: f(x) = 0.948228, Time so far: 56.3931 sec, Points: 47\n",
            "  Seed 70: f(x) = 0.947302, Time so far: 57.4710 sec, Points: 48\n",
            "  Seed 71: f(x) = 0.949523, Time so far: 58.5603 sec, Points: 49\n",
            "  Seed 72: f(x) = 0.948559, Time so far: 59.6465 sec, Points: 50\n",
            "  Seed 73: f(x) = 0.947418, Time so far: 60.7547 sec, Points: 51\n",
            "  Seed 74: f(x) = 0.995806, Time so far: 61.8391 sec, Points: 52\n",
            "  Seed 75: f(x) = 0.947450, Time so far: 62.9553 sec, Points: 53\n",
            "  Seed 76: f(x) = 0.983507, Time so far: 64.4197 sec, Points: 54\n",
            "  Seed 77: f(x) = 0.951251, Time so far: 66.1297 sec, Points: 55\n",
            "  Seed 78: f(x) = 0.946975, Time so far: 67.3322 sec, Points: 56\n",
            "  Seed 79: f(x) = 0.949444, Time so far: 68.4244 sec, Points: 57\n",
            "  Seed 80: f(x) = 0.946469, Time so far: 69.5077 sec, Points: 58\n",
            "  Seed 81: f(x) = 0.950884, Time so far: 70.6027 sec, Points: 59\n",
            "  Seed 82: f(x) = 0.954234, Time so far: 71.6918 sec, Points: 60\n",
            "  Seed 83: f(x) = 0.948976, Time so far: 72.7918 sec, Points: 61\n",
            "  Seed 84: f(x) = 0.946935, Time so far: 73.8833 sec, Points: 62\n",
            "  Seed 85: f(x) = 0.947001, Time so far: 74.9748 sec, Points: 63\n",
            "  Seed 86: f(x) = 0.976738, Time so far: 76.0501 sec, Points: 64\n",
            "  Seed 87: f(x) = 0.947001, Time so far: 77.5662 sec, Points: 65\n",
            "  Seed 88: f(x) = 0.949135, Time so far: 79.2215 sec, Points: 66\n",
            "  Seed 89: f(x) = 0.946908, Time so far: 80.3543 sec, Points: 67\n",
            "  Seed 90: f(x) = 0.948882, Time so far: 81.4410 sec, Points: 68\n",
            "  Seed 91: f(x) = 0.946031, Time so far: 82.5261 sec, Points: 69\n",
            "  Seed 92: f(x) = 0.957664, Time so far: 83.6168 sec, Points: 70\n",
            "  Seed 93: f(x) = 0.949882, Time so far: 84.7097 sec, Points: 71\n",
            "  Seed 94: f(x) = 0.969842, Time so far: 85.8033 sec, Points: 72\n",
            "  Seed 95: f(x) = 0.951574, Time so far: 86.8944 sec, Points: 73\n",
            "  Seed 96: f(x) = 0.948465, Time so far: 87.9965 sec, Points: 74\n",
            "  Seed 97: f(x) = 0.947015, Time so far: 89.1351 sec, Points: 75\n",
            "  Seed 98: f(x) = 0.946647, Time so far: 91.0324 sec, Points: 76\n",
            "  Seed 99: f(x) = 0.948720, Time so far: 93.4329 sec, Points: 77\n",
            "  Seed 100: f(x) = 0.948557, Time so far: 95.4238 sec, Points: 78\n",
            "  Seed 101: f(x) = 0.947189, Time so far: 96.9658 sec, Points: 79\n",
            "  Seed 102: f(x) = 0.946983, Time so far: 98.0754 sec, Points: 80\n",
            "  Seed 103: f(x) = 0.947606, Time so far: 99.2099 sec, Points: 81\n",
            "  Seed 104: f(x) = 0.958658, Time so far: 100.3176 sec, Points: 82\n",
            "  Seed 105: f(x) = 0.987080, Time so far: 101.4165 sec, Points: 83\n",
            "  Seed 106: f(x) = 0.946935, Time so far: 102.5281 sec, Points: 84\n",
            "  Seed 107: f(x) = 0.969842, Time so far: 103.6626 sec, Points: 85\n",
            "  Seed 108: f(x) = 0.946975, Time so far: 104.9482 sec, Points: 86\n",
            "  Seed 109: f(x) = 0.983507, Time so far: 106.6628 sec, Points: 87\n",
            "  Seed 110: f(x) = 0.953765, Time so far: 108.0890 sec, Points: 88\n",
            "  Seed 111: f(x) = 0.948511, Time so far: 109.2074 sec, Points: 89\n",
            "  Seed 112: f(x) = 0.947736, Time so far: 110.3177 sec, Points: 90\n",
            "  Seed 113: f(x) = 0.946328, Time so far: 111.4319 sec, Points: 91\n",
            "  Seed 114: f(x) = 0.948559, Time so far: 112.5357 sec, Points: 92\n",
            "  Seed 115: f(x) = 0.946328, Time so far: 113.6476 sec, Points: 93\n",
            "  Seed 116: f(x) = 0.946031, Time so far: 114.7438 sec, Points: 94\n",
            "  Seed 117: f(x) = 0.948316, Time so far: 115.8531 sec, Points: 95\n",
            "  Seed 118: f(x) = 0.947025, Time so far: 116.9589 sec, Points: 96\n",
            "  Seed 119: f(x) = 0.947296, Time so far: 118.3509 sec, Points: 97\n",
            "  Seed 120: f(x) = 0.946931, Time so far: 120.0585 sec, Points: 98\n",
            "  Seed 121: f(x) = 0.972353, Time so far: 121.3181 sec, Points: 99\n",
            "  Seed 122: f(x) = 0.947037, Time so far: 122.4410 sec, Points: 100\n",
            "  Seed 123: f(x) = 0.976738, Time so far: 123.5782 sec, Points: 101\n",
            "  Seed 124: f(x) = 0.946469, Time so far: 124.7004 sec, Points: 102\n",
            "  Seed 125: f(x) = 0.957664, Time so far: 125.8539 sec, Points: 103\n",
            "  Seed 126: f(x) = 0.949705, Time so far: 126.9592 sec, Points: 104\n",
            "  Seed 127: f(x) = 0.949088, Time so far: 128.0927 sec, Points: 105\n",
            "  Seed 128: f(x) = 0.948465, Time so far: 129.2000 sec, Points: 106\n",
            "  Seed 129: f(x) = 0.953230, Time so far: 130.3196 sec, Points: 107\n",
            "  Seed 130: f(x) = 0.946909, Time so far: 131.9454 sec, Points: 108\n",
            "  Seed 131: f(x) = 0.949523, Time so far: 133.5727 sec, Points: 109\n",
            "  Seed 132: f(x) = 0.950292, Time so far: 134.6743 sec, Points: 110\n",
            "  Seed 133: f(x) = 0.949317, Time so far: 135.7941 sec, Points: 111\n",
            "  Seed 134: f(x) = 0.949742, Time so far: 136.9160 sec, Points: 112\n",
            "  Seed 135: f(x) = 0.947210, Time so far: 138.0267 sec, Points: 113\n",
            "  Seed 136: f(x) = 1.054412, Time so far: 138.0624 sec, Points: 114\n",
            "  Seed 137: f(x) = 0.949635, Time so far: 139.2333 sec, Points: 115\n",
            "  Seed 138: f(x) = 0.948465, Time so far: 140.3735 sec, Points: 116\n",
            "  Seed 139: f(x) = 0.947256, Time so far: 141.4905 sec, Points: 117\n",
            "  Seed 140: f(x) = 0.948465, Time so far: 142.6092 sec, Points: 118\n",
            "  Seed 141: f(x) = 0.949078, Time so far: 143.9003 sec, Points: 119\n",
            "  Seed 142: f(x) = 1.288861, Time so far: 145.5907 sec, Points: 120\n",
            "  Seed 143: f(x) = 0.947302, Time so far: 147.0075 sec, Points: 121\n",
            "  Seed 144: f(x) = 0.953761, Time so far: 148.1178 sec, Points: 122\n",
            "  Seed 145: f(x) = 0.951404, Time so far: 149.2240 sec, Points: 123\n",
            "  Seed 146: f(x) = 0.953971, Time so far: 150.3271 sec, Points: 124\n",
            "  Seed 147: f(x) = 0.947162, Time so far: 151.4550 sec, Points: 125\n",
            "  Seed 148: f(x) = 0.949910, Time so far: 152.5600 sec, Points: 126\n",
            "  Seed 149: f(x) = 0.947128, Time so far: 153.6771 sec, Points: 127\n",
            "  Seed 150: f(x) = 0.959785, Time so far: 154.7775 sec, Points: 128\n",
            "  Seed 151: f(x) = 0.946731, Time so far: 155.9273 sec, Points: 129\n",
            "  Seed 152: f(x) = 0.952933, Time so far: 157.4060 sec, Points: 130\n",
            "  Seed 153: f(x) = 0.946934, Time so far: 159.0946 sec, Points: 131\n",
            "  Seed 154: f(x) = 0.949088, Time so far: 160.2838 sec, Points: 132\n",
            "  Seed 155: f(x) = 0.983507, Time so far: 161.4027 sec, Points: 133\n",
            "  Seed 156: f(x) = 0.983507, Time so far: 162.5240 sec, Points: 134\n",
            "  Seed 157: f(x) = 0.951051, Time so far: 163.6506 sec, Points: 135\n",
            "  Seed 158: f(x) = 0.946732, Time so far: 165.8378 sec, Points: 136\n",
            "  Seed 159: f(x) = 0.947210, Time so far: 166.9395 sec, Points: 137\n",
            "  Seed 160: f(x) = 0.947606, Time so far: 168.0533 sec, Points: 138\n",
            "  Seed 161: f(x) = 0.983507, Time so far: 169.1747 sec, Points: 139\n",
            "  Seed 162: f(x) = 0.953400, Time so far: 170.8338 sec, Points: 140\n",
            "  Seed 163: f(x) = 0.949364, Time so far: 172.4469 sec, Points: 141\n",
            "  Seed 164: f(x) = 0.947706, Time so far: 173.5800 sec, Points: 142\n",
            "  Seed 165: f(x) = 0.947082, Time so far: 174.7023 sec, Points: 143\n",
            "  Seed 166: f(x) = 0.954261, Time so far: 175.8160 sec, Points: 144\n",
            "  Seed 167: f(x) = 0.951251, Time so far: 176.9417 sec, Points: 145\n",
            "  Seed 168: f(x) = 0.947197, Time so far: 178.0684 sec, Points: 146\n",
            "  Seed 169: f(x) = 1.002935, Time so far: 179.1844 sec, Points: 147\n",
            "  Seed 170: f(x) = 0.947442, Time so far: 180.3034 sec, Points: 148\n",
            "  Seed 171: f(x) = 0.947474, Time so far: 181.4124 sec, Points: 149\n",
            "  Seed 172: f(x) = 0.947442, Time so far: 182.6997 sec, Points: 150\n",
            "  Seed 173: f(x) = 0.958552, Time so far: 184.4501 sec, Points: 151\n",
            "  Seed 174: f(x) = 0.969842, Time so far: 185.8875 sec, Points: 152\n",
            "  Seed 175: f(x) = 0.949835, Time so far: 187.0090 sec, Points: 153\n",
            "  Seed 176: f(x) = 0.946732, Time so far: 188.1274 sec, Points: 154\n",
            "  Seed 177: f(x) = 0.948567, Time so far: 189.2462 sec, Points: 155\n",
            "  Seed 178: f(x) = 0.948691, Time so far: 190.3543 sec, Points: 156\n",
            "  Seed 179: f(x) = 0.948936, Time so far: 191.4583 sec, Points: 157\n",
            "  Seed 180: f(x) = 0.946935, Time so far: 192.5720 sec, Points: 158\n",
            "  Seed 181: f(x) = 0.949882, Time so far: 193.7033 sec, Points: 159\n",
            "  Seed 182: f(x) = 0.951574, Time so far: 194.7972 sec, Points: 160\n",
            "  Seed 183: f(x) = 0.953103, Time so far: 196.2849 sec, Points: 161\n",
            "🔍 Multi-start CG Best: 0.945433 (Time: 196.2849 sec, Points: 161)\n",
            "\n",
            "📋 Summary of Results for Sigmoid Regression (a5a)\n",
            "┌──────────────────────┬─────────────────┬──────────────┬─────────────────┐\n",
            "│ Method               │ Objective Value │ Runtime (sec) │ Points Evaluated │\n",
            "├──────────────────────┼─────────────────┼──────────────┼─────────────────┤\n",
            "│ VDCG                 │ 0.943594        │ 196.0998     │ 105             │\n",
            "│ Standard CG          │ 0.958658        │ 1.0944       │ 1               │\n",
            "│ Multi-start CG       │ 0.945433        │ 196.2849     │ 161             │\n",
            "└──────────────────────┴─────────────────┴──────────────┴─────────────────┘\n"
          ]
        }
      ],
      "source": [
        "using JuMP, HiGHS    #a5a\n",
        "using LinearAlgebra\n",
        "using Zygote\n",
        "using LIBSVMdata\n",
        "using Printf\n",
        "using Random\n",
        "using Statistics\n",
        "using SparseArrays\n",
        "\n",
        "# Set random seed for reproducibility\n",
        "Random.seed!(23)\n",
        "\n",
        "# ================== Configuration ================== #\n",
        "const MAX_LEVELS = 8\n",
        "const TOL_UNIQUE = 1e-3\n",
        "const TOL_CONVERGENCE = 1e-6\n",
        "const TAU_L1 = 50.0  # L1-norm ball radius\n",
        "const tau = 50.0     # L1-norm ball radius\n",
        "\n",
        "# ================== Global Data ================== #\n",
        "A = spzeros(1, 1)\n",
        "y = zeros(1)\n",
        "n = 1\n",
        "\n",
        "# Sigmoid function\n",
        "sigmoid(z) = 1 / (1 + exp(-z))\n",
        "\n",
        "# Objective and gradient\n",
        "f(x) = mean((y .- sigmoid.(A * x)).^2)\n",
        "grad_f(x) = Zygote.gradient(f, x)[1]\n",
        "\n",
        "# Linear Minimization Oracle for the L1-ball ||x||_1 ≤ τ\n",
        "function lmo(g)\n",
        "    i = argmax(abs.(g))\n",
        "    v = zeros(n)\n",
        "    v[i] = -TAU_L1 * sign(g[i])\n",
        "    return v\n",
        "end\n",
        "\n",
        "# Check if a point is new\n",
        "function is_new_point(x, points, tol=TOL_UNIQUE)\n",
        "    all(norm(x - p) >= tol for p in points)\n",
        "end\n",
        "\n",
        "# ================== Adaptive Frank-Wolfe Algorithm ================== #\n",
        "function conditional_gradient_adjustable_scaling(f, grad_f, lmo, x0; max_iter=1000, epsilon=TOL_CONVERGENCE, delta=1e-10, beta=2, gamma=0.5)\n",
        "    x_prev = copy(x0)\n",
        "    x_curr = copy(x0)\n",
        "    values = [f(x_curr)]\n",
        "    times = [0.0]\n",
        "    gaps = Float64[]\n",
        "    L_ks = Float64[]\n",
        "    steps = Float64[]\n",
        "    backtrack_counts = Int[]\n",
        "    gamma_history = [gamma]\n",
        "    k = 0\n",
        "    prev_grad = grad_f(x_prev)\n",
        "    current_f = f(x_curr)\n",
        "    recent_backtracks = Int[]\n",
        "\n",
        "    while k < max_iter\n",
        "        start = time()\n",
        "        current_grad = grad_f(x_curr)\n",
        "        v = lmo(current_grad)\n",
        "        d = v - x_curr\n",
        "        normd2 = dot(d, d)\n",
        "        gap = -dot(current_grad, d)\n",
        "\n",
        "        if gap <= epsilon\n",
        "            push!(times, time() - start)\n",
        "            push!(gaps, gap)\n",
        "            break\n",
        "        end\n",
        "\n",
        "        if k == 0\n",
        "            d0 = ones(length(x0)) / sqrt(length(x0))\n",
        "            x_temp = x0 + 1e-3 * d0\n",
        "            L_k = gamma * (norm(grad_f(x0) - grad_f(x_temp)) / (1e-3 * norm(d0)) + delta)\n",
        "        else\n",
        "            grad_diff = norm(current_grad - prev_grad)\n",
        "            x_diff = norm(x_curr - x_prev)\n",
        "            L_k = gamma * (grad_diff / x_diff + delta)\n",
        "        end\n",
        "        Lknormd2 = L_k * normd2\n",
        "        t_k = min(gap / Lknormd2, 1.0)\n",
        "        i = 0\n",
        "        while true\n",
        "            x_new = x_curr + t_k * d\n",
        "            new_f = f(x_new)\n",
        "            if current_f - new_f >= t_k * gap - (Lknormd2 / 2) * t_k^2\n",
        "                x_prev = copy(x_curr)\n",
        "                x_curr = x_new\n",
        "                push!(backtrack_counts, i)\n",
        "                push!(recent_backtracks, i)\n",
        "                break\n",
        "            else\n",
        "                L_k *= beta\n",
        "                Lknormd2 = L_k * normd2\n",
        "                t_k = min(gap / Lknormd2, 1.0)\n",
        "                i += 1\n",
        "            end\n",
        "        end\n",
        "\n",
        "        if k % 10 == 0 && k > 0\n",
        "            total_backtracks = sum(recent_backtracks)\n",
        "            if total_backtracks == 0\n",
        "                gamma = max(1e-4, gamma * 0.9)\n",
        "            elseif total_backtracks > 10\n",
        "                gamma = min(1.0, gamma * 1.1)\n",
        "            end\n",
        "            push!(gamma_history, gamma)\n",
        "            recent_backtracks = Int[]\n",
        "        elseif k % 10 == 0\n",
        "            push!(gamma_history, gamma)\n",
        "            recent_backtracks = Int[]\n",
        "        else\n",
        "            push!(recent_backtracks, i)\n",
        "        end\n",
        "        k += 1\n",
        "        iteration_time = time() - start\n",
        "\n",
        "        current_f = f(x_curr)\n",
        "        prev_grad = current_grad\n",
        "        push!(gaps, gap)\n",
        "        push!(steps, t_k)\n",
        "        push!(values, current_f)\n",
        "        push!(times, iteration_time)\n",
        "        push!(L_ks, L_k)\n",
        "\n",
        "        if k % 100 == 0\n",
        "            # println(\"k=$k, gap=$(round(gap, digits=4)), t_k=$(round(t_k, digits=4)), L_k=$(round(L_ks[end], digits=6)), Time=$(round(times[end], digits=4)), f=$(round(values[end], digits=6))\")\n",
        "        end\n",
        "    end\n",
        "    total_time = sum(times)\n",
        "    return (x_curr, values, times, gaps, L_ks, backtrack_counts, steps, gamma_history, total_time)\n",
        "end\n",
        "\n",
        "# ================== Interior Point via Slack (Paper's Method) ================== #\n",
        "function find_interior_point(p_i, sites)\n",
        "    model = Model(HiGHS.Optimizer)\n",
        "    set_silent(model)\n",
        "    @variable(model, xp[1:n] >= 0)\n",
        "    @variable(model, xn[1:n] >= 0)\n",
        "    @variable(model, τ)\n",
        "\n",
        "    # L1 constraint: ||x||_1 ≤ TAU_L1\n",
        "    @constraint(model, sum(xp) + sum(xn) <= TAU_L1)\n",
        "\n",
        "    # Reconstruct x = xp - xn\n",
        "    x = xp - xn\n",
        "\n",
        "    # Voronoi cell constraints with slack\n",
        "    for j in 1:length(sites)\n",
        "        if sites[j] ≈ p_i\n",
        "            continue\n",
        "        end\n",
        "        p_j = sites[j]\n",
        "        a = p_j - p_i\n",
        "        b_val = 0.5 * dot(p_j + p_i, p_j - p_i)\n",
        "        @constraint(model, dot(a, x) <= b_val + τ)\n",
        "    end\n",
        "    @objective(model, Min, τ)\n",
        "    optimize!(model)\n",
        "    if termination_status(model) == OPTIMAL\n",
        "        x_sol = value.(xp) - value.(xn)\n",
        "        τ_sol = value(τ)\n",
        "        @info \"Interior point LP: τ = $(round(τ_sol, digits=8)), Status = $(τ_sol < -1e-8 ? \"Interior\" : \"Boundary\")\"\n",
        "        return τ_sol < -1e-8 ? (x_sol, \"Interior\") : (x_sol, \"Boundary\")\n",
        "    else\n",
        "        @warn \"Interior point LP failed: Infeasible or unbounded\"\n",
        "        if length(sites) == 1\n",
        "            @info \"Returning barycenter as fallback\"\n",
        "            return zeros(n), \"Interior\"\n",
        "        end\n",
        "        return nothing, \"Infeasible\"\n",
        "    end\n",
        "end\n",
        "\n",
        "# ================== Voronoi Partitioning ================== #\n",
        "function create_voronoi_partitions(sites)\n",
        "    base_A = vcat(\n",
        "        Matrix{Float64}(I, n, n),      # x ≥ -TAU_L1\n",
        "        -Matrix{Float64}(I, n, n)      # x ≤ TAU_L1\n",
        "    )\n",
        "    base_b = vcat(\n",
        "        TAU_L1 * ones(n),\n",
        "        TAU_L1 * ones(n)\n",
        "    )\n",
        "    partitions = []\n",
        "    K = length(sites)\n",
        "    if K == 1\n",
        "        push!(partitions, (base_A, base_b))\n",
        "        return partitions\n",
        "    end\n",
        "    for i in 1:K\n",
        "        A_i = copy(base_A)\n",
        "        b_i = copy(base_b)\n",
        "        p_i = sites[i]\n",
        "        for j in 1:K\n",
        "            i == j && continue\n",
        "            p_j = sites[j]\n",
        "            a = (p_j - p_i)'\n",
        "            b_val = 0.5 * dot(p_j + p_i, p_j - p_i)\n",
        "            A_i = vcat(A_i, a)\n",
        "            b_i = vcat(b_i, b_val)\n",
        "        end\n",
        "        push!(partitions, (A_i, b_i))\n",
        "    end\n",
        "    return partitions\n",
        "end\n",
        "\n",
        "# ================== Main VDCG Algorithm ================== #\n",
        "function voronoi_conditional_gradient(f, grad_f, lmo, x0)\n",
        "    x_init, _, cg_times, _, _, _, _, _, init_time = conditional_gradient_adjustable_scaling(f, grad_f, lmo, x0)\n",
        "    total_time = init_time\n",
        "    sites = [x0, x_init]\n",
        "    num_points = 1\n",
        "    archive = [(x_init, f(x_init))]\n",
        "    best_so_far = f(x_init)\n",
        "    @printf(\"Initial solution: f(x) = %.6f\\n\", f(x_init))\n",
        "    @info \"Distance between x0 and x_init: $(norm(x0 - x_init))\"\n",
        "\n",
        "    for level in 1:MAX_LEVELS\n",
        "        start_time = time()\n",
        "        @printf(\"→ VDCG Level %d: %d sites, Current best f(x) = %.6f\\n\", level, length(sites), best_so_far)\n",
        "        partitions = create_voronoi_partitions(sites)\n",
        "        new_sites = []\n",
        "        for (i, (A_cell, b_cell)) in enumerate(partitions)\n",
        "            x_inner, status = find_interior_point(sites[i], sites)\n",
        "            if x_inner === nothing || status == \"Infeasible\"\n",
        "                @info \"Skipping cell $i: $status\"\n",
        "                continue\n",
        "            end\n",
        "            x_stat, _, cg_times, _, _, _, _, _, cg_time = conditional_gradient_adjustable_scaling(f, grad_f, lmo, x_inner)\n",
        "            total_time += cg_time\n",
        "            num_points += 1\n",
        "            obj = f(x_stat)\n",
        "            all_points = [s for (s, _) in archive]\n",
        "            if is_new_point(x_stat, all_points) && is_new_point(x_stat, new_sites)\n",
        "                push!(new_sites, x_stat)\n",
        "                push!(archive, (x_stat, obj))\n",
        "                @printf(\"  New point found: f(x) = %.6f\\n\", obj)\n",
        "                best_so_far = min(best_so_far, obj)\n",
        "            else\n",
        "                min_dist = minimum(norm(x_stat - p) for p in all_points)\n",
        "                @info \"Cell $i: New point not added, obj = $(round(obj, digits=6)), min distance = $(round(min_dist, digits=6)), better = $(obj < best_so_far)\"\n",
        "            end\n",
        "        end\n",
        "        elapsed = time() - start_time\n",
        "        total_time += elapsed\n",
        "        if isempty(new_sites)\n",
        "            @printf(\"→ No new points found. Terminating at level %d.\\n\", level)\n",
        "            @printf(\"  🕒 Level %d runtime: %.4f sec | Best objective: %.6f\\n\", level, elapsed, best_so_far)\n",
        "            break\n",
        "        else\n",
        "            append!(sites, new_sites)\n",
        "            @printf(\"  ✅ Level %d completed in %.4f sec | Best objective so far: %.6f\\n\", level, elapsed, best_so_far)\n",
        "        end\n",
        "    end\n",
        "    best_idx = argmin([obj for (_, obj) in archive])\n",
        "    x_best, f_best = archive[best_idx]\n",
        "    return x_best, f_best, archive, sites, total_time, num_points\n",
        "end\n",
        "\n",
        "# ================== Load Problem Data ================== #\n",
        "function load_libsvm_data()\n",
        "    data_name = \"a5a\"\n",
        "    @info \"Loading LIBSVM dataset '$data_name'...\"\n",
        "    global A, y, n\n",
        "    A_loaded, y_loaded = load_dataset(data_name, dense=false, replace=false, verbose=true)\n",
        "    A = A_loaded\n",
        "    y = Float64.(y_loaded)\n",
        "    m, n = size(A)\n",
        "    # Map labels: {-1,1} → {0,1} for sigmoid output (optional)\n",
        "    # y = (y .+ 1) ./ 2\n",
        "    Random.seed!(23)\n",
        "    V = vcat(tau * I(n), -tau * I(n))\n",
        "    global x0 = V[rand(1:size(V, 1)), :]\n",
        "    @info \"Data loaded: $m samples, $n features\"\n",
        "    @info \"Initial point x0 set on L1-ball boundary\"\n",
        "end\n",
        "\n",
        "# ================== Run Experiment ================== #\n",
        "function main()\n",
        "    # Load data for sigmoid regression\n",
        "    load_libsvm_data()\n",
        "\n",
        "    # Run VDCG\n",
        "    @printf(\"\\n🚀 Starting VDCG...\\n\")\n",
        "    @time x_vdcg, f_vdcg, archive, sites, vdcg_time, vdcg_points = voronoi_conditional_gradient(f, grad_f, lmo, x0)\n",
        "    @printf(\"\\n✅ VDCG Best Objective: %.6f\\n\", f_vdcg)\n",
        "    @printf(\"✅ VDCG Total Time: %.4f sec, Total Points: %d\\n\", vdcg_time, vdcg_points)\n",
        "\n",
        "    # Standard CG\n",
        "    @printf(\"📊 Running Standard CG...\\n\")\n",
        "    x_std, _, _, _, _, _, _, _, std_time = conditional_gradient_adjustable_scaling(f, grad_f, lmo, x0)\n",
        "    f_std = f(x_std)\n",
        "    @printf(\"📊 Standard CG Objective: %.6f\\n\", f_std)\n",
        "\n",
        "    # Multi-start CG (limited by VDCG time)\n",
        "    @printf(\"🔍 Running Multi-start CG (time-limited)...\\n\")\n",
        "    f_multi = Inf\n",
        "    total_multi_time = 0.0\n",
        "    points_evaluated = 0\n",
        "    seed = 23\n",
        "    while total_multi_time < vdcg_time\n",
        "        Random.seed!(seed)\n",
        "        start = time()\n",
        "\n",
        "        # For the first iteration (seed 23), use the same x0 as standard CG\n",
        "        if seed == 23\n",
        "            x_rand = copy(x0)\n",
        "        else\n",
        "            V = vcat(tau * I(n), -tau * I(n))\n",
        "            x_rand = V[rand(1:size(V, 1)), :]\n",
        "        end\n",
        "\n",
        "        x, _, _, _, _, _, _, _, cg_time = conditional_gradient_adjustable_scaling(f, grad_f, lmo, x_rand)\n",
        "        total_multi_time += time() - start\n",
        "        points_evaluated += 1\n",
        "        f_current = f(x)\n",
        "        f_multi = min(f_multi, f_current)\n",
        "\n",
        "        @printf(\"  Seed %d: f(x) = %.6f, Time so far: %.4f sec, Points: %d\\n\", seed, f_current, total_multi_time, points_evaluated)\n",
        "        seed += 1\n",
        "    end\n",
        "    @printf(\"🔍 Multi-start CG Best: %.6f (Time: %.4f sec, Points: %d)\\n\", f_multi, total_multi_time, points_evaluated)\n",
        "\n",
        "    # Summary Table\n",
        "    @printf(\"\\n📋 Summary of Results for Sigmoid Regression (a5a)\\n\")\n",
        "    @printf(\"┌──────────────────────┬─────────────────┬──────────────┬─────────────────┐\\n\")\n",
        "    @printf(\"│ %-20s │ %-15s │ %-12s │ %-15s │\\n\", \"Method\", \"Objective Value\", \"Runtime (sec)\", \"Points Evaluated\")\n",
        "    @printf(\"├──────────────────────┼─────────────────┼──────────────┼─────────────────┤\\n\")\n",
        "    @printf(\"│ %-20s │ %-15.6f │ %-12.4f │ %-15d │\\n\", \"VDCG\", f_vdcg, vdcg_time, vdcg_points)\n",
        "    @printf(\"│ %-20s │ %-15.6f │ %-12.4f │ %-15d │\\n\", \"Standard CG\", f_std, std_time, 1)\n",
        "    @printf(\"│ %-20s │ %-15.6f │ %-12.4f │ %-15d │\\n\", \"Multi-start CG\", f_multi, total_multi_time, points_evaluated)\n",
        "    @printf(\"└──────────────────────┴─────────────────┴──────────────┴─────────────────┘\\n\")\n",
        "end\n",
        "\n",
        "# Run everything\n",
        "main()"
      ]
    },
    {
      "cell_type": "code",
      "execution_count": 3,
      "metadata": {
        "colab": {
          "base_uri": "https://localhost:8080/"
        },
        "id": "thtuaOEkc4g0",
        "outputId": "451a562f-890f-4bee-c8bc-327c9972e061"
      },
      "outputs": [
        {
          "output_type": "stream",
          "name": "stderr",
          "text": [
            "\u001b[36m\u001b[1m[ \u001b[22m\u001b[39m\u001b[36m\u001b[1mInfo: \u001b[22m\u001b[39mLoading LIBSVM dataset 'a6a'...\n"
          ]
        },
        {
          "output_type": "stream",
          "name": "stdout",
          "text": [
            "Downloading the dataset a6a...\n"
          ]
        },
        {
          "output_type": "stream",
          "name": "stderr",
          "text": [
            "* Couldn't find host www.csie.ntu.edu.tw in the .netrc file; using defaults\n",
            "* Host www.csie.ntu.edu.tw:443 was resolved.\n",
            "* IPv6: (none)\n",
            "* IPv4: 140.112.30.26\n",
            "*   Trying 140.112.30.26:443...\n",
            "* Connected to www.csie.ntu.edu.tw (140.112.30.26) port 443\n",
            "* mbedTLS: Connecting to www.csie.ntu.edu.tw:443\n",
            "* mbedTLS: Set min SSL version to TLS 1.0\n",
            "* ALPN: curl offers h2,http/1.1\n",
            "* mbedTLS: Handshake complete, cipher is TLS-ECDHE-RSA-WITH-AES-128-GCM-SHA256\n",
            "* Dumping cert info: * cert. version     : 3\n",
            "* serial number     : 47:E8:00:00:00:07:87:FE:49:35:DC:01:F3:CD:23:5B\n",
            "* issuer name       : C=TW, O=TAIWAN-CA, CN=TWCA Secure SSL Certification Authority\n",
            "* subject name      : C=TW, ST=Taiwan, L=Taipei, O=National Taiwan University, CN=*.csie.ntu.edu.tw\n",
            "* issued  on        : 2024-10-16 09:35:59\n",
            "* expires on        : 2025-11-03 15:59:59\n",
            "* signed using      : RSA with SHA-256\n",
            "* RSA key size      : 2048 bits\n",
            "* basic constraints : CA=false\n",
            "* subject alt name  :\n",
            "*     dNSName : *.csie.ntu.edu.tw\n",
            "*     dNSName : csie.ntu.edu.tw\n",
            "* key usage         : Digital Signature, Key Encipherment\n",
            "* ext key usage     : TLS Web Server Authentication, TLS Web Client Authentication\n",
            "* certificate policies : ???, ???\n",
            "\n",
            "* ALPN: server did not agree on a protocol. Uses default.\n",
            "* SSL connected\n",
            "* using HTTP/1.x\n",
            "> GET /~cjlin/libsvmtools/datasets/binary/a6a HTTP/1.1\n",
            "Host: www.csie.ntu.edu.tw\n",
            "Accept: */*\n",
            "User-Agent: curl/8.6.0 julia/1.11\n",
            "\n",
            "< HTTP/1.1 200 OK\n",
            "< Date: Sun, 31 Aug 2025 05:28:16 GMT\n",
            "< Server: Apache/2.4.57 (Debian)\n",
            "< Strict-Transport-Security: max-age=31536000; includeSubDomains\n",
            "< Last-Modified: Wed, 08 Jun 2005 06:29:24 GMT\n",
            "< ETag: \"c3ff0-3f9020ed19900\"\n",
            "< Accept-Ranges: bytes\n",
            "< Content-Length: 802800\n",
            "< \n"
          ]
        },
        {
          "output_type": "stream",
          "name": "stdout",
          "text": [
            "Loading the dataset...\n"
          ]
        },
        {
          "output_type": "stream",
          "name": "stderr",
          "text": [
            "* Connection #0 to host www.csie.ntu.edu.tw left intact\n",
            "0.0%┣                                            ┫ 0/11.2k [00:00<00:00, -0s/it]\n",
            "17.1%┣██████▎                              ┫ 1.9k/11.2k [00:00<00:00, 38.0kit/s]\n",
            "30.4%┣███████████▎                         ┫ 3.4k/11.2k [00:00<00:00, 33.8kit/s]\n",
            "46.9%┣█████████████████▍                   ┫ 5.3k/11.2k [00:00<00:00, 34.8kit/s]\n",
            "52.4%┣███████████████████▍                 ┫ 5.9k/11.2k [00:00<00:00, 29.2kit/s]\n",
            "\u001b[1A"
          ]
        },
        {
          "output_type": "stream",
          "name": "stdout",
          "text": [
            "\n",
            "🚀 Starting VDCG...\n",
            "Initial solution: f(x) = 0.962249\n"
          ]
        },
        {
          "output_type": "stream",
          "name": "stderr",
          "text": [
            "\r73.9%┣███████████████████████████▎         ┫ 8.3k/11.2k [00:00<00:00, 32.9kit/s]\n",
            "\u001b[1A\r94.3%┣██████████████████████████████████  ┫ 10.6k/11.2k [00:00<00:00, 35.0kit/s]\n",
            "\u001b[1A\r100.0%┣███████████████████████████████████┫ 11.2k/11.2k [00:00<00:00, 35.6kit/s]\n",
            "\u001b[1A\r100.0%┣███████████████████████████████████┫ 11.2k/11.2k [00:00<00:00, 35.5kit/s]\n",
            "\u001b[36m\u001b[1m[ \u001b[22m\u001b[39m\u001b[36m\u001b[1mInfo: \u001b[22m\u001b[39mData loaded: 11220 samples, 123 features\n",
            "\u001b[36m\u001b[1m[ \u001b[22m\u001b[39m\u001b[36m\u001b[1mInfo: \u001b[22m\u001b[39mInitial point x0 set on L1-ball boundary\n"
          ]
        },
        {
          "output_type": "stream",
          "name": "stdout",
          "text": [
            "→ VDCG Level 1: 2 sites, Current best f(x) = 0.962249\n"
          ]
        },
        {
          "output_type": "stream",
          "name": "stderr",
          "text": [
            "\u001b[36m\u001b[1m[ \u001b[22m\u001b[39m\u001b[36m\u001b[1mInfo: \u001b[22m\u001b[39mDistance between x0 and x_init: 34.660325263298326\n",
            "\u001b[36m\u001b[1m[ \u001b[22m\u001b[39m\u001b[36m\u001b[1mInfo: \u001b[22m\u001b[39mInterior point LP: τ = -600.66907368, Status = Interior\n",
            "\u001b[36m\u001b[1m[ \u001b[22m\u001b[39m\u001b[36m\u001b[1mInfo: \u001b[22m\u001b[39mCell 1: New point not added, obj = 0.962249, min distance = 0.0, better = false\n"
          ]
        },
        {
          "output_type": "stream",
          "name": "stdout",
          "text": [
            "  New point found: f(x) = 1.009539\n",
            "  ✅ Level 1 completed in 4.9011 sec | Best objective so far: 0.962249\n"
          ]
        },
        {
          "output_type": "stream",
          "name": "stderr",
          "text": [
            "\u001b[36m\u001b[1m[ \u001b[22m\u001b[39m\u001b[36m\u001b[1mInfo: \u001b[22m\u001b[39mInterior point LP: τ = -2769.78597604, Status = Interior\n"
          ]
        },
        {
          "output_type": "stream",
          "name": "stdout",
          "text": [
            "→ VDCG Level 2: 3 sites, Current best f(x) = 0.962249\n"
          ]
        },
        {
          "output_type": "stream",
          "name": "stderr",
          "text": [
            "\u001b[36m\u001b[1m[ \u001b[22m\u001b[39m\u001b[36m\u001b[1mInfo: \u001b[22m\u001b[39mInterior point LP: τ = -600.66907368, Status = Interior\n",
            "\u001b[36m\u001b[1m[ \u001b[22m\u001b[39m\u001b[36m\u001b[1mInfo: \u001b[22m\u001b[39mCell 1: New point not added, obj = 0.962249, min distance = 0.0, better = false\n"
          ]
        },
        {
          "output_type": "stream",
          "name": "stdout",
          "text": [
            "  New point found: f(x) = 0.951136\n"
          ]
        },
        {
          "output_type": "stream",
          "name": "stderr",
          "text": [
            "\u001b[36m\u001b[1m[ \u001b[22m\u001b[39m\u001b[36m\u001b[1mInfo: \u001b[22m\u001b[39mInterior point LP: τ = -579.97088673, Status = Interior\n",
            "\u001b[36m\u001b[1m[ \u001b[22m\u001b[39m\u001b[36m\u001b[1mInfo: \u001b[22m\u001b[39mInterior point LP: τ = -1624.64738402, Status = Interior\n",
            "\u001b[36m\u001b[1m[ \u001b[22m\u001b[39m\u001b[36m\u001b[1mInfo: \u001b[22m\u001b[39mCell 3: New point not added, obj = 1.009539, min distance = 0.0, better = false\n"
          ]
        },
        {
          "output_type": "stream",
          "name": "stdout",
          "text": [
            "  ✅ Level 2 completed in 6.3118 sec | Best objective so far: 0.951136\n",
            "→ VDCG Level 3: 4 sites, Current best f(x) = 0.951136\n"
          ]
        },
        {
          "output_type": "stream",
          "name": "stderr",
          "text": [
            "\u001b[36m\u001b[1m[ \u001b[22m\u001b[39m\u001b[36m\u001b[1mInfo: \u001b[22m\u001b[39mInterior point LP: τ = -600.66907368, Status = Interior\n",
            "\u001b[36m\u001b[1m[ \u001b[22m\u001b[39m\u001b[36m\u001b[1mInfo: \u001b[22m\u001b[39mCell 1: New point not added, obj = 0.962249, min distance = 0.0, better = false\n"
          ]
        },
        {
          "output_type": "stream",
          "name": "stdout",
          "text": [
            "  New point found: f(x) = 0.950553\n"
          ]
        },
        {
          "output_type": "stream",
          "name": "stderr",
          "text": [
            "\u001b[36m\u001b[1m[ \u001b[22m\u001b[39m\u001b[36m\u001b[1mInfo: \u001b[22m\u001b[39mInterior point LP: τ = -304.09273934, Status = Interior\n",
            "\u001b[36m\u001b[1m[ \u001b[22m\u001b[39m\u001b[36m\u001b[1mInfo: \u001b[22m\u001b[39mInterior point LP: τ = -706.43120355, Status = Interior\n",
            "\u001b[36m\u001b[1m[ \u001b[22m\u001b[39m\u001b[36m\u001b[1mInfo: \u001b[22m\u001b[39mCell 3: New point not added, obj = 1.009539, min distance = 0.0, better = false\n"
          ]
        },
        {
          "output_type": "stream",
          "name": "stdout",
          "text": [
            "  New point found: f(x) = 0.972454\n",
            "  ✅ Level 3 completed in 8.8015 sec | Best objective so far: 0.950553\n"
          ]
        },
        {
          "output_type": "stream",
          "name": "stderr",
          "text": [
            "\u001b[36m\u001b[1m[ \u001b[22m\u001b[39m\u001b[36m\u001b[1mInfo: \u001b[22m\u001b[39mInterior point LP: τ = -240.51100419, Status = Interior\n"
          ]
        },
        {
          "output_type": "stream",
          "name": "stdout",
          "text": [
            "→ VDCG Level 4: 6 sites, Current best f(x) = 0.950553\n"
          ]
        },
        {
          "output_type": "stream",
          "name": "stderr",
          "text": [
            "\u001b[36m\u001b[1m[ \u001b[22m\u001b[39m\u001b[36m\u001b[1mInfo: \u001b[22m\u001b[39mInterior point LP: τ = -600.66907368, Status = Interior\n",
            "\u001b[36m\u001b[1m[ \u001b[22m\u001b[39m\u001b[36m\u001b[1mInfo: \u001b[22m\u001b[39mCell 1: New point not added, obj = 0.962249, min distance = 0.0, better = false\n"
          ]
        },
        {
          "output_type": "stream",
          "name": "stdout",
          "text": [
            "  New point found: f(x) = 0.961431\n"
          ]
        },
        {
          "output_type": "stream",
          "name": "stderr",
          "text": [
            "\u001b[36m\u001b[1m[ \u001b[22m\u001b[39m\u001b[36m\u001b[1mInfo: \u001b[22m\u001b[39mInterior point LP: τ = -286.52143718, Status = Interior\n",
            "\u001b[36m\u001b[1m[ \u001b[22m\u001b[39m\u001b[36m\u001b[1mInfo: \u001b[22m\u001b[39mInterior point LP: τ = -679.39873915, Status = Interior\n",
            "\u001b[36m\u001b[1m[ \u001b[22m\u001b[39m\u001b[36m\u001b[1mInfo: \u001b[22m\u001b[39mCell 3: New point not added, obj = 1.009539, min distance = 0.0, better = false\n"
          ]
        },
        {
          "output_type": "stream",
          "name": "stdout",
          "text": [
            "  New point found: f(x) = 0.976370\n"
          ]
        },
        {
          "output_type": "stream",
          "name": "stderr",
          "text": [
            "\u001b[36m\u001b[1m[ \u001b[22m\u001b[39m\u001b[36m\u001b[1mInfo: \u001b[22m\u001b[39mInterior point LP: τ = -141.85855917, Status = Interior\n"
          ]
        },
        {
          "output_type": "stream",
          "name": "stdout",
          "text": [
            "  New point found: f(x) = 1.031661\n"
          ]
        },
        {
          "output_type": "stream",
          "name": "stderr",
          "text": [
            "\u001b[36m\u001b[1m[ \u001b[22m\u001b[39m\u001b[36m\u001b[1mInfo: \u001b[22m\u001b[39mInterior point LP: τ = -169.764493, Status = Interior\n"
          ]
        },
        {
          "output_type": "stream",
          "name": "stdout",
          "text": [
            "  New point found: f(x) = 0.972642\n",
            "  ✅ Level 4 completed in 12.6866 sec | Best objective so far: 0.950553\n"
          ]
        },
        {
          "output_type": "stream",
          "name": "stderr",
          "text": [
            "\u001b[36m\u001b[1m[ \u001b[22m\u001b[39m\u001b[36m\u001b[1mInfo: \u001b[22m\u001b[39mInterior point LP: τ = -605.38017808, Status = Interior\n"
          ]
        },
        {
          "output_type": "stream",
          "name": "stdout",
          "text": [
            "→ VDCG Level 5: 10 sites, Current best f(x) = 0.950553\n"
          ]
        },
        {
          "output_type": "stream",
          "name": "stderr",
          "text": [
            "\u001b[36m\u001b[1m[ \u001b[22m\u001b[39m\u001b[36m\u001b[1mInfo: \u001b[22m\u001b[39mInterior point LP: τ = -600.66907368, Status = Interior\n",
            "\u001b[36m\u001b[1m[ \u001b[22m\u001b[39m\u001b[36m\u001b[1mInfo: \u001b[22m\u001b[39mCell 1: New point not added, obj = 0.962249, min distance = 0.0, better = false\n"
          ]
        },
        {
          "output_type": "stream",
          "name": "stdout",
          "text": [
            "  New point found: f(x) = 0.950823\n"
          ]
        },
        {
          "output_type": "stream",
          "name": "stderr",
          "text": [
            "\u001b[36m\u001b[1m[ \u001b[22m\u001b[39m\u001b[36m\u001b[1mInfo: \u001b[22m\u001b[39mInterior point LP: τ = -199.60971642, Status = Interior\n",
            "\u001b[36m\u001b[1m[ \u001b[22m\u001b[39m\u001b[36m\u001b[1mInfo: \u001b[22m\u001b[39mInterior point LP: τ = -679.39873915, Status = Interior\n",
            "\u001b[36m\u001b[1m[ \u001b[22m\u001b[39m\u001b[36m\u001b[1mInfo: \u001b[22m\u001b[39mCell 3: New point not added, obj = 1.009539, min distance = 0.0, better = false\n"
          ]
        },
        {
          "output_type": "stream",
          "name": "stdout",
          "text": [
            "  New point found: f(x) = 0.949173\n"
          ]
        },
        {
          "output_type": "stream",
          "name": "stderr",
          "text": [
            "\u001b[36m\u001b[1m[ \u001b[22m\u001b[39m\u001b[36m\u001b[1mInfo: \u001b[22m\u001b[39mInterior point LP: τ = -77.15608335, Status = Interior\n"
          ]
        },
        {
          "output_type": "stream",
          "name": "stdout",
          "text": [
            "  New point found: f(x) = 0.950670\n"
          ]
        },
        {
          "output_type": "stream",
          "name": "stderr",
          "text": [
            "\u001b[36m\u001b[1m[ \u001b[22m\u001b[39m\u001b[36m\u001b[1mInfo: \u001b[22m\u001b[39mInterior point LP: τ = -162.28739419, Status = Interior\n"
          ]
        },
        {
          "output_type": "stream",
          "name": "stdout",
          "text": [
            "  New point found: f(x) = 0.949303\n"
          ]
        },
        {
          "output_type": "stream",
          "name": "stderr",
          "text": [
            "\u001b[36m\u001b[1m[ \u001b[22m\u001b[39m\u001b[36m\u001b[1mInfo: \u001b[22m\u001b[39mInterior point LP: τ = -12.26868981, Status = Interior\n"
          ]
        },
        {
          "output_type": "stream",
          "name": "stdout",
          "text": [
            "  New point found: f(x) = 0.949581\n"
          ]
        },
        {
          "output_type": "stream",
          "name": "stderr",
          "text": [
            "\u001b[36m\u001b[1m[ \u001b[22m\u001b[39m\u001b[36m\u001b[1mInfo: \u001b[22m\u001b[39mInterior point LP: τ = -174.67796087, Status = Interior\n"
          ]
        },
        {
          "output_type": "stream",
          "name": "stdout",
          "text": [
            "  New point found: f(x) = 0.976417\n"
          ]
        },
        {
          "output_type": "stream",
          "name": "stderr",
          "text": [
            "\u001b[36m\u001b[1m[ \u001b[22m\u001b[39m\u001b[36m\u001b[1mInfo: \u001b[22m\u001b[39mInterior point LP: τ = -438.08084875, Status = Interior\n",
            "\u001b[36m\u001b[1m[ \u001b[22m\u001b[39m\u001b[36m\u001b[1mInfo: \u001b[22m\u001b[39mInterior point LP: τ = -689.77056831, Status = Interior\n",
            "\u001b[36m\u001b[1m[ \u001b[22m\u001b[39m\u001b[36m\u001b[1mInfo: \u001b[22m\u001b[39mCell 9: New point not added, obj = 1.031661, min distance = 0.0, better = false\n",
            "\u001b[36m\u001b[1m[ \u001b[22m\u001b[39m\u001b[36m\u001b[1mInfo: \u001b[22m\u001b[39mInterior point LP: τ = -20.33615055, Status = Interior\n",
            "\u001b[36m\u001b[1m[ \u001b[22m\u001b[39m\u001b[36m\u001b[1mInfo: \u001b[22m\u001b[39mCell 10: New point not added, obj = 0.972642, min distance = 0.0, better = false\n"
          ]
        },
        {
          "output_type": "stream",
          "name": "stdout",
          "text": [
            "  ✅ Level 5 completed in 20.8048 sec | Best objective so far: 0.949173\n",
            "→ VDCG Level 6: 16 sites, Current best f(x) = 0.949173\n"
          ]
        },
        {
          "output_type": "stream",
          "name": "stderr",
          "text": [
            "\u001b[36m\u001b[1m[ \u001b[22m\u001b[39m\u001b[36m\u001b[1mInfo: \u001b[22m\u001b[39mInterior point LP: τ = -600.66907368, Status = Interior\n",
            "\u001b[36m\u001b[1m[ \u001b[22m\u001b[39m\u001b[36m\u001b[1mInfo: \u001b[22m\u001b[39mCell 1: New point not added, obj = 0.962249, min distance = 0.0, better = false\n",
            "\u001b[36m\u001b[1m[ \u001b[22m\u001b[39m\u001b[36m\u001b[1mInfo: \u001b[22m\u001b[39mInterior point LP: τ = -199.60971642, Status = Interior\n",
            "\u001b[36m\u001b[1m[ \u001b[22m\u001b[39m\u001b[36m\u001b[1mInfo: \u001b[22m\u001b[39mCell 2: New point not added, obj = 0.950823, min distance = 0.0, better = false\n",
            "\u001b[36m\u001b[1m[ \u001b[22m\u001b[39m\u001b[36m\u001b[1mInfo: \u001b[22m\u001b[39mInterior point LP: τ = -666.09242296, Status = Interior\n",
            "\u001b[36m\u001b[1m[ \u001b[22m\u001b[39m\u001b[36m\u001b[1mInfo: \u001b[22m\u001b[39mCell 3: New point not added, obj = 1.009539, min distance = 0.0, better = false\n"
          ]
        },
        {
          "output_type": "stream",
          "name": "stdout",
          "text": [
            "  New point found: f(x) = 0.950480\n"
          ]
        },
        {
          "output_type": "stream",
          "name": "stderr",
          "text": [
            "\u001b[36m\u001b[1m[ \u001b[22m\u001b[39m\u001b[36m\u001b[1mInfo: \u001b[22m\u001b[39mInterior point LP: τ = -40.14331573, Status = Interior\n"
          ]
        },
        {
          "output_type": "stream",
          "name": "stdout",
          "text": [
            "  New point found: f(x) = 0.949680\n"
          ]
        },
        {
          "output_type": "stream",
          "name": "stderr",
          "text": [
            "\u001b[36m\u001b[1m[ \u001b[22m\u001b[39m\u001b[36m\u001b[1mInfo: \u001b[22m\u001b[39mInterior point LP: τ = -17.12694731, Status = Interior\n"
          ]
        },
        {
          "output_type": "stream",
          "name": "stdout",
          "text": [
            "  New point found: f(x) = 0.949483\n"
          ]
        },
        {
          "output_type": "stream",
          "name": "stderr",
          "text": [
            "\u001b[36m\u001b[1m[ \u001b[22m\u001b[39m\u001b[36m\u001b[1mInfo: \u001b[22m\u001b[39mInterior point LP: τ = -12.04380223, Status = Interior\n"
          ]
        },
        {
          "output_type": "stream",
          "name": "stdout",
          "text": [
            "  New point found: f(x) = 0.949529\n"
          ]
        },
        {
          "output_type": "stream",
          "name": "stderr",
          "text": [
            "\u001b[36m\u001b[1m[ \u001b[22m\u001b[39m\u001b[36m\u001b[1mInfo: \u001b[22m\u001b[39mInterior point LP: τ = -53.54895825, Status = Interior\n"
          ]
        },
        {
          "output_type": "stream",
          "name": "stdout",
          "text": [
            "  New point found: f(x) = 0.949686\n"
          ]
        },
        {
          "output_type": "stream",
          "name": "stderr",
          "text": [
            "\u001b[36m\u001b[1m[ \u001b[22m\u001b[39m\u001b[36m\u001b[1mInfo: \u001b[22m\u001b[39mInterior point LP: τ = -13.45137758, Status = Interior\n",
            "\u001b[36m\u001b[1m[ \u001b[22m\u001b[39m\u001b[36m\u001b[1mInfo: \u001b[22m\u001b[39mInterior point LP: τ = -663.68249695, Status = Interior\n",
            "\u001b[36m\u001b[1m[ \u001b[22m\u001b[39m\u001b[36m\u001b[1mInfo: \u001b[22m\u001b[39mCell 9: New point not added, obj = 1.031661, min distance = 0.0, better = false\n",
            "\u001b[36m\u001b[1m[ \u001b[22m\u001b[39m\u001b[36m\u001b[1mInfo: \u001b[22m\u001b[39mInterior point LP: τ = -20.33615055, Status = Interior\n",
            "\u001b[36m\u001b[1m[ \u001b[22m\u001b[39m\u001b[36m\u001b[1mInfo: \u001b[22m\u001b[39mCell 10: New point not added, obj = 0.972642, min distance = 0.0, better = false\n"
          ]
        },
        {
          "output_type": "stream",
          "name": "stdout",
          "text": [
            "  New point found: f(x) = 0.957197\n"
          ]
        },
        {
          "output_type": "stream",
          "name": "stderr",
          "text": [
            "\u001b[36m\u001b[1m[ \u001b[22m\u001b[39m\u001b[36m\u001b[1mInfo: \u001b[22m\u001b[39mInterior point LP: τ = -22.65853401, Status = Interior\n"
          ]
        },
        {
          "output_type": "stream",
          "name": "stdout",
          "text": [
            "  New point found: f(x) = 0.948269\n"
          ]
        },
        {
          "output_type": "stream",
          "name": "stderr",
          "text": [
            "\u001b[36m\u001b[1m[ \u001b[22m\u001b[39m\u001b[36m\u001b[1mInfo: \u001b[22m\u001b[39mInterior point LP: τ = -37.21465262, Status = Interior\n"
          ]
        },
        {
          "output_type": "stream",
          "name": "stdout",
          "text": [
            "  New point found: f(x) = 0.960789\n"
          ]
        },
        {
          "output_type": "stream",
          "name": "stderr",
          "text": [
            "\u001b[36m\u001b[1m[ \u001b[22m\u001b[39m\u001b[36m\u001b[1mInfo: \u001b[22m\u001b[39mInterior point LP: τ = -38.51968202, Status = Interior\n"
          ]
        },
        {
          "output_type": "stream",
          "name": "stdout",
          "text": [
            "  New point found: f(x) = 0.957111\n"
          ]
        },
        {
          "output_type": "stream",
          "name": "stderr",
          "text": [
            "\u001b[36m\u001b[1m[ \u001b[22m\u001b[39m\u001b[36m\u001b[1mInfo: \u001b[22m\u001b[39mInterior point LP: τ = -35.94204493, Status = Interior\n"
          ]
        },
        {
          "output_type": "stream",
          "name": "stdout",
          "text": [
            "  New point found: f(x) = 0.949330\n"
          ]
        },
        {
          "output_type": "stream",
          "name": "stderr",
          "text": [
            "\u001b[36m\u001b[1m[ \u001b[22m\u001b[39m\u001b[36m\u001b[1mInfo: \u001b[22m\u001b[39mInterior point LP: τ = -317.34962264, Status = Interior\n",
            "\u001b[36m\u001b[1m[ \u001b[22m\u001b[39m\u001b[36m\u001b[1mInfo: \u001b[22m\u001b[39mInterior point LP: τ = -15.85461875, Status = Interior\n",
            "\u001b[36m\u001b[1m[ \u001b[22m\u001b[39m\u001b[36m\u001b[1mInfo: \u001b[22m\u001b[39mCell 16: New point not added, obj = 0.976417, min distance = 0.0, better = false\n"
          ]
        },
        {
          "output_type": "stream",
          "name": "stdout",
          "text": [
            "  ✅ Level 6 completed in 34.4214 sec | Best objective so far: 0.948269\n",
            "→ VDCG Level 7: 26 sites, Current best f(x) = 0.948269\n"
          ]
        },
        {
          "output_type": "stream",
          "name": "stderr",
          "text": [
            "\u001b[36m\u001b[1m[ \u001b[22m\u001b[39m\u001b[36m\u001b[1mInfo: \u001b[22m\u001b[39mInterior point LP: τ = -600.66907368, Status = Interior\n",
            "\u001b[36m\u001b[1m[ \u001b[22m\u001b[39m\u001b[36m\u001b[1mInfo: \u001b[22m\u001b[39mCell 1: New point not added, obj = 0.962249, min distance = 0.0, better = false\n",
            "\u001b[36m\u001b[1m[ \u001b[22m\u001b[39m\u001b[36m\u001b[1mInfo: \u001b[22m\u001b[39mInterior point LP: τ = -199.60971642, Status = Interior\n",
            "\u001b[36m\u001b[1m[ \u001b[22m\u001b[39m\u001b[36m\u001b[1mInfo: \u001b[22m\u001b[39mCell 2: New point not added, obj = 0.950823, min distance = 0.0, better = false\n",
            "\u001b[36m\u001b[1m[ \u001b[22m\u001b[39m\u001b[36m\u001b[1mInfo: \u001b[22m\u001b[39mInterior point LP: τ = -666.09242296, Status = Interior\n",
            "\u001b[36m\u001b[1m[ \u001b[22m\u001b[39m\u001b[36m\u001b[1mInfo: \u001b[22m\u001b[39mCell 3: New point not added, obj = 1.009539, min distance = 0.0, better = false\n"
          ]
        },
        {
          "output_type": "stream",
          "name": "stdout",
          "text": [
            "  New point found: f(x) = 0.950449\n"
          ]
        },
        {
          "output_type": "stream",
          "name": "stderr",
          "text": [
            "\u001b[36m\u001b[1m[ \u001b[22m\u001b[39m\u001b[36m\u001b[1mInfo: \u001b[22m\u001b[39mInterior point LP: τ = -21.75876424, Status = Interior\n"
          ]
        },
        {
          "output_type": "stream",
          "name": "stdout",
          "text": [
            "  New point found: f(x) = 0.949881\n"
          ]
        },
        {
          "output_type": "stream",
          "name": "stderr",
          "text": [
            "\u001b[36m\u001b[1m[ \u001b[22m\u001b[39m\u001b[36m\u001b[1mInfo: \u001b[22m\u001b[39mInterior point LP: τ = -14.20394197, Status = Interior\n"
          ]
        },
        {
          "output_type": "stream",
          "name": "stdout",
          "text": [
            "  New point found: f(x) = 0.949544\n"
          ]
        },
        {
          "output_type": "stream",
          "name": "stderr",
          "text": [
            "\u001b[36m\u001b[1m[ \u001b[22m\u001b[39m\u001b[36m\u001b[1mInfo: \u001b[22m\u001b[39mInterior point LP: τ = -11.63898654, Status = Interior\n"
          ]
        },
        {
          "output_type": "stream",
          "name": "stdout",
          "text": [
            "  New point found: f(x) = 0.949459\n"
          ]
        },
        {
          "output_type": "stream",
          "name": "stderr",
          "text": [
            "\u001b[36m\u001b[1m[ \u001b[22m\u001b[39m\u001b[36m\u001b[1mInfo: \u001b[22m\u001b[39mInterior point LP: τ = -52.15153926, Status = Interior\n"
          ]
        },
        {
          "output_type": "stream",
          "name": "stdout",
          "text": [
            "  New point found: f(x) = 0.949932\n"
          ]
        },
        {
          "output_type": "stream",
          "name": "stderr",
          "text": [
            "\u001b[36m\u001b[1m[ \u001b[22m\u001b[39m\u001b[36m\u001b[1mInfo: \u001b[22m\u001b[39mInterior point LP: τ = -10.27656241, Status = Interior\n",
            "\u001b[36m\u001b[1m[ \u001b[22m\u001b[39m\u001b[36m\u001b[1mInfo: \u001b[22m\u001b[39mInterior point LP: τ = -663.68249695, Status = Interior\n",
            "\u001b[36m\u001b[1m[ \u001b[22m\u001b[39m\u001b[36m\u001b[1mInfo: \u001b[22m\u001b[39mCell 9: New point not added, obj = 1.031661, min distance = 0.0, better = false\n",
            "\u001b[36m\u001b[1m[ \u001b[22m\u001b[39m\u001b[36m\u001b[1mInfo: \u001b[22m\u001b[39mInterior point LP: τ = -20.33615055, Status = Interior\n",
            "\u001b[36m\u001b[1m[ \u001b[22m\u001b[39m\u001b[36m\u001b[1mInfo: \u001b[22m\u001b[39mCell 10: New point not added, obj = 0.972642, min distance = 0.0, better = false\n"
          ]
        },
        {
          "output_type": "stream",
          "name": "stdout",
          "text": [
            "  New point found: f(x) = 0.954871\n"
          ]
        },
        {
          "output_type": "stream",
          "name": "stderr",
          "text": [
            "\u001b[36m\u001b[1m[ \u001b[22m\u001b[39m\u001b[36m\u001b[1mInfo: \u001b[22m\u001b[39mInterior point LP: τ = -19.11706316, Status = Interior\n"
          ]
        },
        {
          "output_type": "stream",
          "name": "stdout",
          "text": [
            "  New point found: f(x) = 0.949059\n"
          ]
        },
        {
          "output_type": "stream",
          "name": "stderr",
          "text": [
            "\u001b[36m\u001b[1m[ \u001b[22m\u001b[39m\u001b[36m\u001b[1mInfo: \u001b[22m\u001b[39mInterior point LP: τ = -33.5280517, Status = Interior\n"
          ]
        },
        {
          "output_type": "stream",
          "name": "stdout",
          "text": [
            "  New point found: f(x) = 0.988366\n"
          ]
        },
        {
          "output_type": "stream",
          "name": "stderr",
          "text": [
            "\u001b[36m\u001b[1m[ \u001b[22m\u001b[39m\u001b[36m\u001b[1mInfo: \u001b[22m\u001b[39mInterior point LP: τ = -38.13157163, Status = Interior\n"
          ]
        },
        {
          "output_type": "stream",
          "name": "stdout",
          "text": [
            "  New point found: f(x) = 0.949688\n"
          ]
        },
        {
          "output_type": "stream",
          "name": "stderr",
          "text": [
            "\u001b[36m\u001b[1m[ \u001b[22m\u001b[39m\u001b[36m\u001b[1mInfo: \u001b[22m\u001b[39mInterior point LP: τ = -9.22454825, Status = Interior\n"
          ]
        },
        {
          "output_type": "stream",
          "name": "stdout",
          "text": [
            "  New point found: f(x) = 0.949642\n"
          ]
        },
        {
          "output_type": "stream",
          "name": "stderr",
          "text": [
            "\u001b[36m\u001b[1m[ \u001b[22m\u001b[39m\u001b[36m\u001b[1mInfo: \u001b[22m\u001b[39mInterior point LP: τ = -52.96205462, Status = Interior\n",
            "\u001b[36m\u001b[1m[ \u001b[22m\u001b[39m\u001b[36m\u001b[1mInfo: \u001b[22m\u001b[39mInterior point LP: τ = -15.85461875, Status = Interior\n",
            "\u001b[36m\u001b[1m[ \u001b[22m\u001b[39m\u001b[36m\u001b[1mInfo: \u001b[22m\u001b[39mCell 16: New point not added, obj = 0.976417, min distance = 0.0, better = false\n"
          ]
        },
        {
          "output_type": "stream",
          "name": "stdout",
          "text": [
            "  New point found: f(x) = 1.027850\n"
          ]
        },
        {
          "output_type": "stream",
          "name": "stderr",
          "text": [
            "\u001b[36m\u001b[1m[ \u001b[22m\u001b[39m\u001b[36m\u001b[1mInfo: \u001b[22m\u001b[39mInterior point LP: τ = -49.49051751, Status = Interior\n"
          ]
        },
        {
          "output_type": "stream",
          "name": "stdout",
          "text": [
            "  New point found: f(x) = 0.950138\n"
          ]
        },
        {
          "output_type": "stream",
          "name": "stderr",
          "text": [
            "\u001b[36m\u001b[1m[ \u001b[22m\u001b[39m\u001b[36m\u001b[1mInfo: \u001b[22m\u001b[39mInterior point LP: τ = -79.47669979, Status = Interior\n"
          ]
        },
        {
          "output_type": "stream",
          "name": "stdout",
          "text": [
            "  New point found: f(x) = 0.949601\n"
          ]
        },
        {
          "output_type": "stream",
          "name": "stderr",
          "text": [
            "\u001b[36m\u001b[1m[ \u001b[22m\u001b[39m\u001b[36m\u001b[1mInfo: \u001b[22m\u001b[39mInterior point LP: τ = -4.54389247, Status = Interior\n"
          ]
        },
        {
          "output_type": "stream",
          "name": "stdout",
          "text": [
            "  New point found: f(x) = 0.951439\n"
          ]
        },
        {
          "output_type": "stream",
          "name": "stderr",
          "text": [
            "\u001b[36m\u001b[1m[ \u001b[22m\u001b[39m\u001b[36m\u001b[1mInfo: \u001b[22m\u001b[39mInterior point LP: τ = -35.0462984, Status = Interior\n"
          ]
        },
        {
          "output_type": "stream",
          "name": "stdout",
          "text": [
            "  New point found: f(x) = 0.949737\n"
          ]
        },
        {
          "output_type": "stream",
          "name": "stderr",
          "text": [
            "\u001b[36m\u001b[1m[ \u001b[22m\u001b[39m\u001b[36m\u001b[1mInfo: \u001b[22m\u001b[39mInterior point LP: τ = -549.0978555, Status = Interior\n"
          ]
        },
        {
          "output_type": "stream",
          "name": "stdout",
          "text": [
            "  New point found: f(x) = 0.957333\n"
          ]
        },
        {
          "output_type": "stream",
          "name": "stderr",
          "text": [
            "\u001b[36m\u001b[1m[ \u001b[22m\u001b[39m\u001b[36m\u001b[1mInfo: \u001b[22m\u001b[39mInterior point LP: τ = -491.7873952, Status = Interior\n"
          ]
        },
        {
          "output_type": "stream",
          "name": "stdout",
          "text": [
            "  New point found: f(x) = 0.950693\n"
          ]
        },
        {
          "output_type": "stream",
          "name": "stderr",
          "text": [
            "\u001b[36m\u001b[1m[ \u001b[22m\u001b[39m\u001b[36m\u001b[1mInfo: \u001b[22m\u001b[39mInterior point LP: τ = -202.92215453, Status = Interior\n"
          ]
        },
        {
          "output_type": "stream",
          "name": "stdout",
          "text": [
            "  New point found: f(x) = 0.960685\n"
          ]
        },
        {
          "output_type": "stream",
          "name": "stderr",
          "text": [
            "\u001b[36m\u001b[1m[ \u001b[22m\u001b[39m\u001b[36m\u001b[1mInfo: \u001b[22m\u001b[39mInterior point LP: τ = -644.74907195, Status = Interior\n"
          ]
        },
        {
          "output_type": "stream",
          "name": "stdout",
          "text": [
            "  New point found: f(x) = 0.957421\n"
          ]
        },
        {
          "output_type": "stream",
          "name": "stderr",
          "text": [
            "\u001b[36m\u001b[1m[ \u001b[22m\u001b[39m\u001b[36m\u001b[1mInfo: \u001b[22m\u001b[39mInterior point LP: τ = -521.11823312, Status = Interior\n"
          ]
        },
        {
          "output_type": "stream",
          "name": "stdout",
          "text": [
            "  New point found: f(x) = 0.949689\n",
            "  ✅ Level 7 completed in 55.0211 sec | Best objective so far: 0.948269\n"
          ]
        },
        {
          "output_type": "stream",
          "name": "stderr",
          "text": [
            "\u001b[36m\u001b[1m[ \u001b[22m\u001b[39m\u001b[36m\u001b[1mInfo: \u001b[22m\u001b[39mInterior point LP: τ = -51.24071505, Status = Interior\n"
          ]
        },
        {
          "output_type": "stream",
          "name": "stdout",
          "text": [
            "→ VDCG Level 8: 46 sites, Current best f(x) = 0.948269\n"
          ]
        },
        {
          "output_type": "stream",
          "name": "stderr",
          "text": [
            "\u001b[36m\u001b[1m[ \u001b[22m\u001b[39m\u001b[36m\u001b[1mInfo: \u001b[22m\u001b[39mInterior point LP: τ = -600.66907368, Status = Interior\n",
            "\u001b[36m\u001b[1m[ \u001b[22m\u001b[39m\u001b[36m\u001b[1mInfo: \u001b[22m\u001b[39mCell 1: New point not added, obj = 0.962249, min distance = 0.0, better = false\n",
            "\u001b[36m\u001b[1m[ \u001b[22m\u001b[39m\u001b[36m\u001b[1mInfo: \u001b[22m\u001b[39mInterior point LP: τ = -199.60971642, Status = Interior\n",
            "\u001b[36m\u001b[1m[ \u001b[22m\u001b[39m\u001b[36m\u001b[1mInfo: \u001b[22m\u001b[39mCell 2: New point not added, obj = 0.950823, min distance = 0.0, better = false\n",
            "\u001b[36m\u001b[1m[ \u001b[22m\u001b[39m\u001b[36m\u001b[1mInfo: \u001b[22m\u001b[39mInterior point LP: τ = -659.47613948, Status = Interior\n",
            "\u001b[36m\u001b[1m[ \u001b[22m\u001b[39m\u001b[36m\u001b[1mInfo: \u001b[22m\u001b[39mCell 3: New point not added, obj = 1.009539, min distance = 0.0, better = false\n"
          ]
        },
        {
          "output_type": "stream",
          "name": "stdout",
          "text": [
            "  New point found: f(x) = 0.949921\n"
          ]
        },
        {
          "output_type": "stream",
          "name": "stderr",
          "text": [
            "\u001b[36m\u001b[1m[ \u001b[22m\u001b[39m\u001b[36m\u001b[1mInfo: \u001b[22m\u001b[39mInterior point LP: τ = -21.52714877, Status = Interior\n"
          ]
        },
        {
          "output_type": "stream",
          "name": "stdout",
          "text": [
            "  New point found: f(x) = 1.000000\n"
          ]
        },
        {
          "output_type": "stream",
          "name": "stderr",
          "text": [
            "\u001b[36m\u001b[1m[ \u001b[22m\u001b[39m\u001b[36m\u001b[1mInfo: \u001b[22m\u001b[39mInterior point LP: τ = -11.86598528, Status = Interior\n",
            "\u001b[36m\u001b[1m[ \u001b[22m\u001b[39m\u001b[36m\u001b[1mInfo: \u001b[22m\u001b[39mInterior point LP: τ = -11.63898654, Status = Interior\n",
            "\u001b[36m\u001b[1m[ \u001b[22m\u001b[39m\u001b[36m\u001b[1mInfo: \u001b[22m\u001b[39mCell 6: New point not added, obj = 0.949544, min distance = 0.0, better = false\n",
            "\u001b[36m\u001b[1m[ \u001b[22m\u001b[39m\u001b[36m\u001b[1mInfo: \u001b[22m\u001b[39mInterior point LP: τ = -52.15153926, Status = Interior\n",
            "\u001b[36m\u001b[1m[ \u001b[22m\u001b[39m\u001b[36m\u001b[1mInfo: \u001b[22m\u001b[39mCell 7: New point not added, obj = 0.949459, min distance = 0.0, better = false\n"
          ]
        },
        {
          "output_type": "stream",
          "name": "stdout",
          "text": [
            "  New point found: f(x) = 0.949238\n"
          ]
        },
        {
          "output_type": "stream",
          "name": "stderr",
          "text": [
            "\u001b[36m\u001b[1m[ \u001b[22m\u001b[39m\u001b[36m\u001b[1mInfo: \u001b[22m\u001b[39mInterior point LP: τ = -10.07548026, Status = Interior\n",
            "\u001b[36m\u001b[1m[ \u001b[22m\u001b[39m\u001b[36m\u001b[1mInfo: \u001b[22m\u001b[39mInterior point LP: τ = -663.68249695, Status = Interior\n",
            "\u001b[36m\u001b[1m[ \u001b[22m\u001b[39m\u001b[36m\u001b[1mInfo: \u001b[22m\u001b[39mCell 9: New point not added, obj = 1.031661, min distance = 0.0, better = false\n",
            "\u001b[36m\u001b[1m[ \u001b[22m\u001b[39m\u001b[36m\u001b[1mInfo: \u001b[22m\u001b[39mInterior point LP: τ = -20.33615055, Status = Interior\n",
            "\u001b[36m\u001b[1m[ \u001b[22m\u001b[39m\u001b[36m\u001b[1mInfo: \u001b[22m\u001b[39mCell 10: New point not added, obj = 0.972642, min distance = 0.0, better = false\n"
          ]
        },
        {
          "output_type": "stream",
          "name": "stdout",
          "text": [
            "  New point found: f(x) = 0.949960\n"
          ]
        },
        {
          "output_type": "stream",
          "name": "stderr",
          "text": [
            "\u001b[36m\u001b[1m[ \u001b[22m\u001b[39m\u001b[36m\u001b[1mInfo: \u001b[22m\u001b[39mInterior point LP: τ = -18.77216307, Status = Interior\n"
          ]
        },
        {
          "output_type": "stream",
          "name": "stdout",
          "text": [
            "  New point found: f(x) = 0.948877\n"
          ]
        },
        {
          "output_type": "stream",
          "name": "stderr",
          "text": [
            "\u001b[36m\u001b[1m[ \u001b[22m\u001b[39m\u001b[36m\u001b[1mInfo: \u001b[22m\u001b[39mInterior point LP: τ = -16.86805058, Status = Interior\n"
          ]
        },
        {
          "output_type": "stream",
          "name": "stdout",
          "text": [
            "  New point found: f(x) = 0.950634\n"
          ]
        },
        {
          "output_type": "stream",
          "name": "stderr",
          "text": [
            "\u001b[36m\u001b[1m[ \u001b[22m\u001b[39m\u001b[36m\u001b[1mInfo: \u001b[22m\u001b[39mInterior point LP: τ = -29.59256703, Status = Interior\n"
          ]
        },
        {
          "output_type": "stream",
          "name": "stdout",
          "text": [
            "  New point found: f(x) = 0.949154\n"
          ]
        },
        {
          "output_type": "stream",
          "name": "stderr",
          "text": [
            "\u001b[36m\u001b[1m[ \u001b[22m\u001b[39m\u001b[36m\u001b[1mInfo: \u001b[22m\u001b[39mInterior point LP: τ = -4.93387954, Status = Interior\n"
          ]
        },
        {
          "output_type": "stream",
          "name": "stdout",
          "text": [
            "  New point found: f(x) = 0.950522\n"
          ]
        },
        {
          "output_type": "stream",
          "name": "stderr",
          "text": [
            "\u001b[36m\u001b[1m[ \u001b[22m\u001b[39m\u001b[36m\u001b[1mInfo: \u001b[22m\u001b[39mInterior point LP: τ = -34.5292817, Status = Interior\n",
            "\u001b[36m\u001b[1m[ \u001b[22m\u001b[39m\u001b[36m\u001b[1mInfo: \u001b[22m\u001b[39mInterior point LP: τ = -15.85461875, Status = Interior\n",
            "\u001b[36m\u001b[1m[ \u001b[22m\u001b[39m\u001b[36m\u001b[1mInfo: \u001b[22m\u001b[39mCell 16: New point not added, obj = 0.976417, min distance = 0.0, better = false\n"
          ]
        },
        {
          "output_type": "stream",
          "name": "stdout",
          "text": [
            "  New point found: f(x) = 0.949656\n"
          ]
        },
        {
          "output_type": "stream",
          "name": "stderr",
          "text": [
            "\u001b[36m\u001b[1m[ \u001b[22m\u001b[39m\u001b[36m\u001b[1mInfo: \u001b[22m\u001b[39mInterior point LP: τ = -25.782271, Status = Interior\n"
          ]
        },
        {
          "output_type": "stream",
          "name": "stdout",
          "text": [
            "  New point found: f(x) = 0.950882\n"
          ]
        },
        {
          "output_type": "stream",
          "name": "stderr",
          "text": [
            "\u001b[36m\u001b[1m[ \u001b[22m\u001b[39m\u001b[36m\u001b[1mInfo: \u001b[22m\u001b[39mInterior point LP: τ = -31.21986966, Status = Interior\n"
          ]
        },
        {
          "output_type": "stream",
          "name": "stdout",
          "text": [
            "  New point found: f(x) = 0.949867\n"
          ]
        },
        {
          "output_type": "stream",
          "name": "stderr",
          "text": [
            "\u001b[36m\u001b[1m[ \u001b[22m\u001b[39m\u001b[36m\u001b[1mInfo: \u001b[22m\u001b[39mInterior point LP: τ = -3.0020117, Status = Interior\n"
          ]
        },
        {
          "output_type": "stream",
          "name": "stdout",
          "text": [
            "  New point found: f(x) = 0.950103\n"
          ]
        },
        {
          "output_type": "stream",
          "name": "stderr",
          "text": [
            "\u001b[36m\u001b[1m[ \u001b[22m\u001b[39m\u001b[36m\u001b[1mInfo: \u001b[22m\u001b[39mInterior point LP: τ = -23.74137911, Status = Interior\n"
          ]
        },
        {
          "output_type": "stream",
          "name": "stdout",
          "text": [
            "  New point found: f(x) = 0.949370\n"
          ]
        },
        {
          "output_type": "stream",
          "name": "stderr",
          "text": [
            "\u001b[36m\u001b[1m[ \u001b[22m\u001b[39m\u001b[36m\u001b[1mInfo: \u001b[22m\u001b[39mInterior point LP: τ = -29.25229926, Status = Interior\n"
          ]
        },
        {
          "output_type": "stream",
          "name": "stdout",
          "text": [
            "  New point found: f(x) = 0.949655\n"
          ]
        },
        {
          "output_type": "stream",
          "name": "stderr",
          "text": [
            "\u001b[36m\u001b[1m[ \u001b[22m\u001b[39m\u001b[36m\u001b[1mInfo: \u001b[22m\u001b[39mInterior point LP: τ = -50.779146, Status = Interior\n"
          ]
        },
        {
          "output_type": "stream",
          "name": "stdout",
          "text": [
            "  New point found: f(x) = 0.948731\n"
          ]
        },
        {
          "output_type": "stream",
          "name": "stderr",
          "text": [
            "\u001b[36m\u001b[1m[ \u001b[22m\u001b[39m\u001b[36m\u001b[1mInfo: \u001b[22m\u001b[39mInterior point LP: τ = -44.52834937, Status = Interior\n"
          ]
        },
        {
          "output_type": "stream",
          "name": "stdout",
          "text": [
            "  New point found: f(x) = 0.951026\n"
          ]
        },
        {
          "output_type": "stream",
          "name": "stderr",
          "text": [
            "\u001b[36m\u001b[1m[ \u001b[22m\u001b[39m\u001b[36m\u001b[1mInfo: \u001b[22m\u001b[39mInterior point LP: τ = -15.33948641, Status = Interior\n"
          ]
        },
        {
          "output_type": "stream",
          "name": "stdout",
          "text": [
            "  New point found: f(x) = 0.949968\n"
          ]
        },
        {
          "output_type": "stream",
          "name": "stderr",
          "text": [
            "\u001b[36m\u001b[1m[ \u001b[22m\u001b[39m\u001b[36m\u001b[1mInfo: \u001b[22m\u001b[39mInterior point LP: τ = -52.5968814, Status = Interior\n"
          ]
        },
        {
          "output_type": "stream",
          "name": "stdout",
          "text": [
            "  New point found: f(x) = 0.992431\n"
          ]
        },
        {
          "output_type": "stream",
          "name": "stderr",
          "text": [
            "\u001b[36m\u001b[1m[ \u001b[22m\u001b[39m\u001b[36m\u001b[1mInfo: \u001b[22m\u001b[39mInterior point LP: τ = -46.90551177, Status = Interior\n"
          ]
        },
        {
          "output_type": "stream",
          "name": "stdout",
          "text": [
            "  New point found: f(x) = 0.952160\n"
          ]
        },
        {
          "output_type": "stream",
          "name": "stderr",
          "text": [
            "\u001b[36m\u001b[1m[ \u001b[22m\u001b[39m\u001b[36m\u001b[1mInfo: \u001b[22m\u001b[39mInterior point LP: τ = -17.70329, Status = Interior\n"
          ]
        },
        {
          "output_type": "stream",
          "name": "stdout",
          "text": [
            "  New point found: f(x) = 0.949368\n"
          ]
        },
        {
          "output_type": "stream",
          "name": "stderr",
          "text": [
            "\u001b[36m\u001b[1m[ \u001b[22m\u001b[39m\u001b[36m\u001b[1mInfo: \u001b[22m\u001b[39mInterior point LP: τ = -34.01302907, Status = Interior\n"
          ]
        },
        {
          "output_type": "stream",
          "name": "stdout",
          "text": [
            "  New point found: f(x) = 0.949888\n"
          ]
        },
        {
          "output_type": "stream",
          "name": "stderr",
          "text": [
            "\u001b[36m\u001b[1m[ \u001b[22m\u001b[39m\u001b[36m\u001b[1mInfo: \u001b[22m\u001b[39mInterior point LP: τ = -5.44663744, Status = Interior\n"
          ]
        },
        {
          "output_type": "stream",
          "name": "stdout",
          "text": [
            "  New point found: f(x) = 0.948596\n"
          ]
        },
        {
          "output_type": "stream",
          "name": "stderr",
          "text": [
            "\u001b[36m\u001b[1m[ \u001b[22m\u001b[39m\u001b[36m\u001b[1mInfo: \u001b[22m\u001b[39mInterior point LP: τ = -12.39813678, Status = Interior\n"
          ]
        },
        {
          "output_type": "stream",
          "name": "stdout",
          "text": [
            "  New point found: f(x) = 0.990502\n"
          ]
        },
        {
          "output_type": "stream",
          "name": "stderr",
          "text": [
            "\u001b[36m\u001b[1m[ \u001b[22m\u001b[39m\u001b[36m\u001b[1mInfo: \u001b[22m\u001b[39mInterior point LP: τ = -58.16153327, Status = Interior\n"
          ]
        },
        {
          "output_type": "stream",
          "name": "stdout",
          "text": [
            "  New point found: f(x) = 0.954925\n"
          ]
        },
        {
          "output_type": "stream",
          "name": "stderr",
          "text": [
            "\u001b[36m\u001b[1m[ \u001b[22m\u001b[39m\u001b[36m\u001b[1mInfo: \u001b[22m\u001b[39mInterior point LP: τ = -311.25639548, Status = Interior\n"
          ]
        },
        {
          "output_type": "stream",
          "name": "stdout",
          "text": [
            "  New point found: f(x) = 0.950183\n"
          ]
        },
        {
          "output_type": "stream",
          "name": "stderr",
          "text": [
            "\u001b[36m\u001b[1m[ \u001b[22m\u001b[39m\u001b[36m\u001b[1mInfo: \u001b[22m\u001b[39mInterior point LP: τ = -66.94993706, Status = Interior\n"
          ]
        },
        {
          "output_type": "stream",
          "name": "stdout",
          "text": [
            "  New point found: f(x) = 0.988553\n"
          ]
        },
        {
          "output_type": "stream",
          "name": "stderr",
          "text": [
            "\u001b[36m\u001b[1m[ \u001b[22m\u001b[39m\u001b[36m\u001b[1mInfo: \u001b[22m\u001b[39mInterior point LP: τ = -427.83005821, Status = Interior\n"
          ]
        },
        {
          "output_type": "stream",
          "name": "stdout",
          "text": [
            "  New point found: f(x) = 0.950814\n"
          ]
        },
        {
          "output_type": "stream",
          "name": "stderr",
          "text": [
            "\u001b[36m\u001b[1m[ \u001b[22m\u001b[39m\u001b[36m\u001b[1mInfo: \u001b[22m\u001b[39mInterior point LP: τ = -25.02627898, Status = Interior\n",
            "\u001b[36m\u001b[1m[ \u001b[22m\u001b[39m\u001b[36m\u001b[1mInfo: \u001b[22m\u001b[39mInterior point LP: τ = -168.99185931, Status = Interior\n",
            "\u001b[36m\u001b[1m[ \u001b[22m\u001b[39m\u001b[36m\u001b[1mInfo: \u001b[22m\u001b[39mCell 36: New point not added, obj = 0.949642, min distance = 0.0, better = false\n",
            "\u001b[36m\u001b[1m[ \u001b[22m\u001b[39m\u001b[36m\u001b[1mInfo: \u001b[22m\u001b[39mInterior point LP: τ = -612.80644518, Status = Interior\n",
            "\u001b[36m\u001b[1m[ \u001b[22m\u001b[39m\u001b[36m\u001b[1mInfo: \u001b[22m\u001b[39mCell 37: New point not added, obj = 1.02785, min distance = 0.0, better = false\n"
          ]
        },
        {
          "output_type": "stream",
          "name": "stdout",
          "text": [
            "  New point found: f(x) = 0.950297\n"
          ]
        },
        {
          "output_type": "stream",
          "name": "stderr",
          "text": [
            "\u001b[36m\u001b[1m[ \u001b[22m\u001b[39m\u001b[36m\u001b[1mInfo: \u001b[22m\u001b[39mInterior point LP: τ = -574.60332598, Status = Interior\n"
          ]
        },
        {
          "output_type": "stream",
          "name": "stdout",
          "text": [
            "  New point found: f(x) = 0.950446\n"
          ]
        },
        {
          "output_type": "stream",
          "name": "stderr",
          "text": [
            "\u001b[36m\u001b[1m[ \u001b[22m\u001b[39m\u001b[36m\u001b[1mInfo: \u001b[22m\u001b[39mInterior point LP: τ = -18.81650732, Status = Interior\n"
          ]
        },
        {
          "output_type": "stream",
          "name": "stdout",
          "text": [
            "  New point found: f(x) = 0.952066\n"
          ]
        },
        {
          "output_type": "stream",
          "name": "stderr",
          "text": [
            "\u001b[36m\u001b[1m[ \u001b[22m\u001b[39m\u001b[36m\u001b[1mInfo: \u001b[22m\u001b[39mInterior point LP: τ = -291.3044862, Status = Interior\n",
            "\u001b[36m\u001b[1m[ \u001b[22m\u001b[39m\u001b[36m\u001b[1mInfo: \u001b[22m\u001b[39mInterior point LP: τ = -62.99684313, Status = Interior\n",
            "\u001b[36m\u001b[1m[ \u001b[22m\u001b[39m\u001b[36m\u001b[1mInfo: \u001b[22m\u001b[39mCell 41: New point not added, obj = 0.949737, min distance = 0.0, better = false\n",
            "\u001b[36m\u001b[1m[ \u001b[22m\u001b[39m\u001b[36m\u001b[1mInfo: \u001b[22m\u001b[39mInterior point LP: τ = -200.19678984, Status = Interior\n",
            "\u001b[36m\u001b[1m[ \u001b[22m\u001b[39m\u001b[36m\u001b[1mInfo: \u001b[22m\u001b[39mCell 42: New point not added, obj = 0.957333, min distance = 0.0, better = false\n"
          ]
        },
        {
          "output_type": "stream",
          "name": "stdout",
          "text": [
            "  New point found: f(x) = 0.950230\n"
          ]
        },
        {
          "output_type": "stream",
          "name": "stderr",
          "text": [
            "\u001b[36m\u001b[1m[ \u001b[22m\u001b[39m\u001b[36m\u001b[1mInfo: \u001b[22m\u001b[39mInterior point LP: τ = -83.06561978, Status = Interior\n",
            "\u001b[36m\u001b[1m[ \u001b[22m\u001b[39m\u001b[36m\u001b[1mInfo: \u001b[22m\u001b[39mInterior point LP: τ = -15.01459418, Status = Interior\n",
            "\u001b[36m\u001b[1m[ \u001b[22m\u001b[39m\u001b[36m\u001b[1mInfo: \u001b[22m\u001b[39mCell 44: New point not added, obj = 0.960685, min distance = 0.0, better = false\n",
            "\u001b[36m\u001b[1m[ \u001b[22m\u001b[39m\u001b[36m\u001b[1mInfo: \u001b[22m\u001b[39mInterior point LP: τ = -111.54230138, Status = Interior\n",
            "\u001b[36m\u001b[1m[ \u001b[22m\u001b[39m\u001b[36m\u001b[1mInfo: \u001b[22m\u001b[39mCell 45: New point not added, obj = 0.957421, min distance = 0.0, better = false\n"
          ]
        },
        {
          "output_type": "stream",
          "name": "stdout",
          "text": [
            "  New point found: f(x) = 0.954475\n",
            "  ✅ Level 8 completed in 97.9449 sec | Best objective so far: 0.948269\n"
          ]
        },
        {
          "output_type": "stream",
          "name": "stderr",
          "text": [
            "\u001b[36m\u001b[1m[ \u001b[22m\u001b[39m\u001b[36m\u001b[1mInfo: \u001b[22m\u001b[39mInterior point LP: τ = -134.76867311, Status = Interior\n"
          ]
        },
        {
          "output_type": "stream",
          "name": "stdout",
          "text": [
            "243.731390 seconds (21.46 M allocations: 143.529 GiB, 7.42% gc time, 0.57% compilation time: 8% of which was recompilation)\n",
            "\n",
            "✅ VDCG Best Objective: 0.948269\n",
            "✅ VDCG Total Time: 432.1264 sec, Total Points: 114\n",
            "📊 Running Standard CG...\n",
            "📊 Standard CG Objective: 0.962249\n",
            "🔍 Running Multi-start CG (time-limited)...\n",
            "  Seed 23: f(x) = 0.962249, Time so far: 1.9273 sec, Points: 1\n",
            "  Seed 24: f(x) = 0.952247, Time so far: 3.8561 sec, Points: 2\n",
            "  Seed 25: f(x) = 0.951239, Time so far: 5.7832 sec, Points: 3\n",
            "  Seed 26: f(x) = 0.950755, Time so far: 7.8299 sec, Points: 4\n",
            "  Seed 27: f(x) = 0.952708, Time so far: 10.6621 sec, Points: 5\n",
            "  Seed 28: f(x) = 0.950469, Time so far: 12.5926 sec, Points: 6\n",
            "  Seed 29: f(x) = 1.186022, Time so far: 14.5155 sec, Points: 7\n",
            "  Seed 30: f(x) = 0.995092, Time so far: 16.4597 sec, Points: 8\n",
            "  Seed 31: f(x) = 0.950502, Time so far: 18.3977 sec, Points: 9\n",
            "  Seed 32: f(x) = 0.949645, Time so far: 20.3212 sec, Points: 10\n",
            "  Seed 33: f(x) = 0.952808, Time so far: 23.2025 sec, Points: 11\n",
            "  Seed 34: f(x) = 0.970160, Time so far: 25.2127 sec, Points: 12\n",
            "  Seed 35: f(x) = 0.956493, Time so far: 27.1506 sec, Points: 13\n",
            "  Seed 36: f(x) = 0.952066, Time so far: 29.0716 sec, Points: 14\n",
            "  Seed 37: f(x) = 0.950494, Time so far: 31.0039 sec, Points: 15\n",
            "  Seed 38: f(x) = 0.964432, Time so far: 32.9143 sec, Points: 16\n",
            "  Seed 39: f(x) = 0.950512, Time so far: 35.6348 sec, Points: 17\n",
            "  Seed 40: f(x) = 0.949737, Time so far: 37.8530 sec, Points: 18\n",
            "  Seed 41: f(x) = 0.950890, Time so far: 39.8275 sec, Points: 19\n",
            "  Seed 42: f(x) = 0.954925, Time so far: 41.7768 sec, Points: 20\n",
            "  Seed 43: f(x) = 0.950096, Time so far: 43.7198 sec, Points: 21\n",
            "  Seed 44: f(x) = 0.952247, Time so far: 45.6497 sec, Points: 22\n",
            "  Seed 45: f(x) = 1.031693, Time so far: 48.1901 sec, Points: 23\n",
            "  Seed 46: f(x) = 0.950515, Time so far: 50.5065 sec, Points: 24\n",
            "  Seed 47: f(x) = 0.954209, Time so far: 52.4563 sec, Points: 25\n",
            "  Seed 48: f(x) = 0.964432, Time so far: 54.4057 sec, Points: 26\n",
            "  Seed 49: f(x) = 0.955809, Time so far: 56.3280 sec, Points: 27\n",
            "  Seed 50: f(x) = 0.953258, Time so far: 58.2444 sec, Points: 28\n",
            "  Seed 51: f(x) = 0.950457, Time so far: 60.6330 sec, Points: 29\n",
            "  Seed 52: f(x) = 1.186022, Time so far: 63.1169 sec, Points: 30\n",
            "  Seed 53: f(x) = 0.952314, Time so far: 65.0419 sec, Points: 31\n",
            "  Seed 54: f(x) = 0.951463, Time so far: 66.9593 sec, Points: 32\n",
            "  Seed 55: f(x) = 0.950512, Time so far: 68.9126 sec, Points: 33\n",
            "  Seed 56: f(x) = 0.961040, Time so far: 70.8515 sec, Points: 34\n",
            "  Seed 57: f(x) = 0.952472, Time so far: 73.0981 sec, Points: 35\n",
            "  Seed 58: f(x) = 0.950608, Time so far: 75.7334 sec, Points: 36\n",
            "  Seed 59: f(x) = 0.950463, Time so far: 77.6866 sec, Points: 37\n",
            "  Seed 60: f(x) = 1.094946, Time so far: 79.6094 sec, Points: 38\n",
            "  Seed 61: f(x) = 0.954292, Time so far: 81.5436 sec, Points: 39\n",
            "  Seed 62: f(x) = 0.950088, Time so far: 83.4764 sec, Points: 40\n",
            "  Seed 63: f(x) = 0.953014, Time so far: 85.4805 sec, Points: 41\n",
            "  Seed 64: f(x) = 0.956493, Time so far: 88.3361 sec, Points: 42\n",
            "  Seed 65: f(x) = 0.955044, Time so far: 90.2946 sec, Points: 43\n",
            "  Seed 66: f(x) = 0.952566, Time so far: 92.2289 sec, Points: 44\n",
            "  Seed 67: f(x) = 0.950473, Time so far: 94.1785 sec, Points: 45\n",
            "  Seed 68: f(x) = 0.950490, Time so far: 96.1538 sec, Points: 46\n",
            "  Seed 69: f(x) = 0.952542, Time so far: 98.0934 sec, Points: 47\n",
            "  Seed 70: f(x) = 0.950657, Time so far: 101.0035 sec, Points: 48\n",
            "  Seed 71: f(x) = 0.952842, Time so far: 103.0759 sec, Points: 49\n",
            "  Seed 72: f(x) = 0.951125, Time so far: 104.9999 sec, Points: 50\n",
            "  Seed 73: f(x) = 0.950753, Time so far: 106.9205 sec, Points: 51\n",
            "  Seed 74: f(x) = 0.997002, Time so far: 108.8454 sec, Points: 52\n",
            "  Seed 75: f(x) = 0.950833, Time so far: 110.7645 sec, Points: 53\n",
            "  Seed 76: f(x) = 0.990964, Time so far: 113.3648 sec, Points: 54\n",
            "  Seed 77: f(x) = 0.953659, Time so far: 115.6557 sec, Points: 55\n",
            "  Seed 78: f(x) = 0.950427, Time so far: 117.5756 sec, Points: 56\n",
            "  Seed 79: f(x) = 0.952832, Time so far: 119.4923 sec, Points: 57\n",
            "  Seed 80: f(x) = 0.949945, Time so far: 121.4111 sec, Points: 58\n",
            "  Seed 81: f(x) = 0.953815, Time so far: 123.3410 sec, Points: 59\n",
            "  Seed 82: f(x) = 0.957121, Time so far: 125.7807 sec, Points: 60\n",
            "  Seed 83: f(x) = 0.954515, Time so far: 128.2061 sec, Points: 61\n",
            "  Seed 84: f(x) = 0.950504, Time so far: 130.1535 sec, Points: 62\n",
            "  Seed 85: f(x) = 0.950469, Time so far: 132.0865 sec, Points: 63\n",
            "  Seed 86: f(x) = 0.977808, Time so far: 134.0089 sec, Points: 64\n",
            "  Seed 87: f(x) = 0.950469, Time so far: 135.9671 sec, Points: 65\n",
            "  Seed 88: f(x) = 0.951997, Time so far: 138.2192 sec, Points: 66\n",
            "  Seed 89: f(x) = 0.950494, Time so far: 140.8518 sec, Points: 67\n",
            "  Seed 90: f(x) = 0.952247, Time so far: 142.7876 sec, Points: 68\n",
            "  Seed 91: f(x) = 0.949642, Time so far: 144.7179 sec, Points: 69\n",
            "  Seed 92: f(x) = 0.961375, Time so far: 146.6556 sec, Points: 70\n",
            "  Seed 93: f(x) = 0.952472, Time so far: 148.5989 sec, Points: 71\n",
            "  Seed 94: f(x) = 0.971929, Time so far: 150.6641 sec, Points: 72\n",
            "  Seed 95: f(x) = 0.956233, Time so far: 153.4916 sec, Points: 73\n",
            "  Seed 96: f(x) = 0.951598, Time so far: 155.4392 sec, Points: 74\n",
            "  Seed 97: f(x) = 0.950498, Time so far: 157.3851 sec, Points: 75\n",
            "  Seed 98: f(x) = 0.950545, Time so far: 159.3425 sec, Points: 76\n",
            "  Seed 99: f(x) = 0.952808, Time so far: 161.3124 sec, Points: 77\n",
            "  Seed 100: f(x) = 0.952314, Time so far: 163.2302 sec, Points: 78\n",
            "  Seed 101: f(x) = 0.950591, Time so far: 166.1371 sec, Points: 79\n",
            "  Seed 102: f(x) = 0.950463, Time so far: 168.1324 sec, Points: 80\n",
            "  Seed 103: f(x) = 0.951634, Time so far: 170.0601 sec, Points: 81\n",
            "  Seed 104: f(x) = 0.962249, Time so far: 171.9795 sec, Points: 82\n",
            "  Seed 105: f(x) = 0.988553, Time so far: 173.8871 sec, Points: 83\n",
            "  Seed 106: f(x) = 0.950504, Time so far: 175.8223 sec, Points: 84\n",
            "  Seed 107: f(x) = 0.971929, Time so far: 178.5599 sec, Points: 85\n",
            "  Seed 108: f(x) = 0.950427, Time so far: 180.7240 sec, Points: 86\n",
            "  Seed 109: f(x) = 0.990964, Time so far: 182.6635 sec, Points: 87\n",
            "  Seed 110: f(x) = 0.959398, Time so far: 184.5767 sec, Points: 88\n",
            "  Seed 111: f(x) = 0.951641, Time so far: 186.4961 sec, Points: 89\n",
            "  Seed 112: f(x) = 0.950693, Time so far: 188.4002 sec, Points: 90\n",
            "  Seed 113: f(x) = 0.950206, Time so far: 190.8959 sec, Points: 91\n",
            "  Seed 114: f(x) = 0.951125, Time so far: 193.2978 sec, Points: 92\n",
            "  Seed 115: f(x) = 0.950206, Time so far: 195.2272 sec, Points: 93\n",
            "  Seed 116: f(x) = 0.949642, Time so far: 197.1600 sec, Points: 94\n",
            "  Seed 117: f(x) = 0.952324, Time so far: 199.0851 sec, Points: 95\n",
            "  Seed 118: f(x) = 0.950438, Time so far: 201.0215 sec, Points: 96\n",
            "  Seed 119: f(x) = 0.950942, Time so far: 203.2732 sec, Points: 97\n",
            "  Seed 120: f(x) = 0.950490, Time so far: 205.8546 sec, Points: 98\n",
            "  Seed 121: f(x) = 0.975369, Time so far: 207.7914 sec, Points: 99\n",
            "  Seed 122: f(x) = 0.950502, Time so far: 209.7083 sec, Points: 100\n",
            "  Seed 123: f(x) = 0.977808, Time so far: 211.6284 sec, Points: 101\n",
            "  Seed 124: f(x) = 0.949945, Time so far: 213.5274 sec, Points: 102\n",
            "  Seed 125: f(x) = 0.961375, Time so far: 215.5719 sec, Points: 103\n",
            "  Seed 126: f(x) = 0.953080, Time so far: 218.4135 sec, Points: 104\n",
            "  Seed 127: f(x) = 0.953789, Time so far: 220.3505 sec, Points: 105\n",
            "  Seed 128: f(x) = 0.951598, Time so far: 222.2440 sec, Points: 106\n",
            "  Seed 129: f(x) = 0.955767, Time so far: 224.1687 sec, Points: 107\n",
            "  Seed 130: f(x) = 0.950512, Time so far: 226.0621 sec, Points: 108\n",
            "  Seed 131: f(x) = 0.952842, Time so far: 227.9802 sec, Points: 109\n",
            "  Seed 132: f(x) = 0.952802, Time so far: 230.7467 sec, Points: 110\n",
            "  Seed 133: f(x) = 0.964432, Time so far: 232.8216 sec, Points: 111\n",
            "  Seed 134: f(x) = 0.952532, Time so far: 234.7357 sec, Points: 112\n",
            "  Seed 135: f(x) = 0.950539, Time so far: 236.6385 sec, Points: 113\n",
            "  Seed 136: f(x) = 1.031661, Time so far: 238.5400 sec, Points: 114\n",
            "  Seed 137: f(x) = 0.952903, Time so far: 240.4454 sec, Points: 115\n",
            "  Seed 138: f(x) = 0.951598, Time so far: 242.9733 sec, Points: 116\n",
            "  Seed 139: f(x) = 0.950167, Time so far: 245.7217 sec, Points: 117\n",
            "  Seed 140: f(x) = 0.951598, Time so far: 247.6690 sec, Points: 118\n",
            "  Seed 141: f(x) = 0.953152, Time so far: 249.6120 sec, Points: 119\n",
            "  Seed 142: f(x) = 1.295540, Time so far: 251.9010 sec, Points: 120\n",
            "  Seed 143: f(x) = 0.950657, Time so far: 254.2319 sec, Points: 121\n",
            "  Seed 144: f(x) = 0.957421, Time so far: 258.5480 sec, Points: 122\n",
            "  Seed 145: f(x) = 0.954661, Time so far: 261.1138 sec, Points: 123\n",
            "  Seed 146: f(x) = 0.955652, Time so far: 263.0620 sec, Points: 124\n",
            "  Seed 147: f(x) = 0.950082, Time so far: 265.0166 sec, Points: 125\n",
            "  Seed 148: f(x) = 0.953240, Time so far: 266.9541 sec, Points: 126\n",
            "  Seed 149: f(x) = 0.950699, Time so far: 269.0114 sec, Points: 127\n",
            "  Seed 150: f(x) = 0.995092, Time so far: 271.8600 sec, Points: 128\n",
            "  Seed 151: f(x) = 0.950829, Time so far: 273.8268 sec, Points: 129\n",
            "  Seed 152: f(x) = 0.957417, Time so far: 275.7808 sec, Points: 130\n",
            "  Seed 153: f(x) = 0.950495, Time so far: 277.7584 sec, Points: 131\n",
            "  Seed 154: f(x) = 0.953789, Time so far: 279.7095 sec, Points: 132\n",
            "  Seed 155: f(x) = 0.990964, Time so far: 281.7848 sec, Points: 133\n",
            "  Seed 156: f(x) = 0.990964, Time so far: 284.7073 sec, Points: 134\n",
            "  Seed 157: f(x) = 0.955079, Time so far: 286.6783 sec, Points: 135\n",
            "  Seed 158: f(x) = 0.950244, Time so far: 288.6200 sec, Points: 136\n",
            "  Seed 159: f(x) = 0.950539, Time so far: 290.5714 sec, Points: 137\n",
            "  Seed 160: f(x) = 0.951634, Time so far: 292.4971 sec, Points: 138\n",
            "  Seed 161: f(x) = 0.990964, Time so far: 294.4550 sec, Points: 139\n",
            "  Seed 162: f(x) = 0.956493, Time so far: 297.2748 sec, Points: 140\n",
            "  Seed 163: f(x) = 0.952246, Time so far: 299.3426 sec, Points: 141\n",
            "  Seed 164: f(x) = 0.950709, Time so far: 301.2956 sec, Points: 142\n",
            "  Seed 165: f(x) = 0.950452, Time so far: 303.2430 sec, Points: 143\n",
            "  Seed 166: f(x) = 0.957521, Time so far: 305.1769 sec, Points: 144\n",
            "  Seed 167: f(x) = 0.953659, Time so far: 307.1377 sec, Points: 145\n",
            "  Seed 168: f(x) = 0.950465, Time so far: 309.8365 sec, Points: 146\n",
            "  Seed 169: f(x) = 1.009539, Time so far: 312.0613 sec, Points: 147\n",
            "  Seed 170: f(x) = 0.950798, Time so far: 313.9943 sec, Points: 148\n",
            "  Seed 171: f(x) = 0.951239, Time so far: 315.9373 sec, Points: 149\n",
            "  Seed 172: f(x) = 0.950798, Time so far: 317.8879 sec, Points: 150\n",
            "  Seed 173: f(x) = 0.961817, Time so far: 319.8284 sec, Points: 151\n",
            "  Seed 174: f(x) = 0.971929, Time so far: 322.4139 sec, Points: 152\n",
            "  Seed 175: f(x) = 0.952429, Time so far: 324.7859 sec, Points: 153\n",
            "  Seed 176: f(x) = 0.950244, Time so far: 326.7483 sec, Points: 154\n",
            "  Seed 177: f(x) = 0.951884, Time so far: 328.6937 sec, Points: 155\n",
            "  Seed 178: f(x) = 0.952027, Time so far: 330.6516 sec, Points: 156\n",
            "  Seed 179: f(x) = 0.951603, Time so far: 332.5926 sec, Points: 157\n",
            "  Seed 180: f(x) = 0.950504, Time so far: 334.9973 sec, Points: 158\n",
            "  Seed 181: f(x) = 0.952472, Time so far: 337.5683 sec, Points: 159\n",
            "  Seed 182: f(x) = 0.956233, Time so far: 339.5382 sec, Points: 160\n",
            "  Seed 183: f(x) = 0.952708, Time so far: 341.5189 sec, Points: 161\n",
            "  Seed 184: f(x) = 0.950542, Time so far: 343.4598 sec, Points: 162\n",
            "  Seed 185: f(x) = 0.954776, Time so far: 345.4262 sec, Points: 163\n",
            "  Seed 186: f(x) = 0.953014, Time so far: 347.6858 sec, Points: 164\n",
            "  Seed 187: f(x) = 0.950469, Time so far: 350.2952 sec, Points: 165\n",
            "  Seed 188: f(x) = 0.950167, Time so far: 352.2416 sec, Points: 166\n",
            "  Seed 189: f(x) = 0.950890, Time so far: 354.2006 sec, Points: 167\n",
            "  Seed 190: f(x) = 0.951356, Time so far: 356.1934 sec, Points: 168\n",
            "  Seed 191: f(x) = 0.952886, Time so far: 358.1295 sec, Points: 169\n",
            "  Seed 192: f(x) = 0.953152, Time so far: 360.2546 sec, Points: 170\n",
            "  Seed 193: f(x) = 0.952131, Time so far: 363.0356 sec, Points: 171\n",
            "  Seed 194: f(x) = 0.951261, Time so far: 364.9849 sec, Points: 172\n",
            "  Seed 195: f(x) = 0.955648, Time so far: 366.9454 sec, Points: 173\n",
            "  Seed 196: f(x) = 0.951356, Time so far: 368.9108 sec, Points: 174\n",
            "  Seed 197: f(x) = 0.953258, Time so far: 370.8907 sec, Points: 175\n",
            "  Seed 198: f(x) = 0.952031, Time so far: 372.9293 sec, Points: 176\n",
            "  Seed 199: f(x) = 0.950490, Time so far: 375.8431 sec, Points: 177\n",
            "  Seed 200: f(x) = 0.950890, Time so far: 377.8079 sec, Points: 178\n",
            "  Seed 201: f(x) = 0.952472, Time so far: 379.7624 sec, Points: 179\n",
            "  Seed 202: f(x) = 0.950551, Time so far: 381.7094 sec, Points: 180\n",
            "  Seed 203: f(x) = 1.018472, Time so far: 383.6652 sec, Points: 181\n",
            "  Seed 204: f(x) = 0.950493, Time so far: 385.6142 sec, Points: 182\n",
            "  Seed 205: f(x) = 0.949945, Time so far: 388.5356 sec, Points: 183\n",
            "  Seed 206: f(x) = 0.951463, Time so far: 390.5618 sec, Points: 184\n",
            "  Seed 207: f(x) = 0.959256, Time so far: 392.5171 sec, Points: 185\n",
            "  Seed 208: f(x) = 0.954171, Time so far: 394.4614 sec, Points: 186\n",
            "  Seed 209: f(x) = 0.950515, Time so far: 396.4152 sec, Points: 187\n",
            "  Seed 210: f(x) = 0.950956, Time so far: 398.3474 sec, Points: 188\n",
            "  Seed 211: f(x) = 0.953014, Time so far: 401.1118 sec, Points: 189\n",
            "  Seed 212: f(x) = 0.949945, Time so far: 403.2780 sec, Points: 190\n",
            "  Seed 213: f(x) = 0.954292, Time so far: 405.2268 sec, Points: 191\n",
            "  Seed 214: f(x) = 0.950641, Time so far: 407.3629 sec, Points: 192\n",
            "  Seed 215: f(x) = 1.027850, Time so far: 409.7905 sec, Points: 193\n",
            "  Seed 216: f(x) = 0.950518, Time so far: 412.1248 sec, Points: 194\n",
            "  Seed 217: f(x) = 0.957835, Time so far: 415.0427 sec, Points: 195\n",
            "  Seed 218: f(x) = 0.950502, Time so far: 417.0068 sec, Points: 196\n",
            "  Seed 219: f(x) = 0.954925, Time so far: 418.9617 sec, Points: 197\n",
            "  Seed 220: f(x) = 0.953815, Time so far: 420.9292 sec, Points: 198\n",
            "  Seed 221: f(x) = 0.954475, Time so far: 422.8734 sec, Points: 199\n",
            "  Seed 222: f(x) = 0.951375, Time so far: 424.8247 sec, Points: 200\n",
            "  Seed 223: f(x) = 0.951448, Time so far: 427.7758 sec, Points: 201\n",
            "  Seed 224: f(x) = 0.950956, Time so far: 429.7370 sec, Points: 202\n",
            "  Seed 225: f(x) = 0.950091, Time so far: 431.7358 sec, Points: 203\n",
            "  Seed 226: f(x) = 0.950924, Time so far: 433.6842 sec, Points: 204\n",
            "🔍 Multi-start CG Best: 0.949642 (Time: 433.6842 sec, Points: 204)\n",
            "\n",
            "📋 Summary of Results for Sigmoid Regression (a6a)\n",
            "┌──────────────────────┬─────────────────┬──────────────┬─────────────────┐\n",
            "│ Method               │ Objective Value │ Runtime (sec) │ Points Evaluated │\n",
            "├──────────────────────┼─────────────────┼──────────────┼─────────────────┤\n",
            "│ VDCG                 │ 0.948269        │ 432.1264     │ 114             │\n",
            "│ Standard CG          │ 0.962249        │ 1.5427       │ 1               │\n",
            "│ Multi-start CG       │ 0.949642        │ 433.6842     │ 204             │\n",
            "└──────────────────────┴─────────────────┴──────────────┴─────────────────┘\n"
          ]
        }
      ],
      "source": [
        "using JuMP, HiGHS    #a6a\n",
        "using LinearAlgebra\n",
        "using Zygote\n",
        "using LIBSVMdata\n",
        "using Printf\n",
        "using Random\n",
        "using Statistics\n",
        "using SparseArrays\n",
        "\n",
        "# Set random seed for reproducibility\n",
        "Random.seed!(23)\n",
        "\n",
        "# ================== Configuration ================== #\n",
        "const MAX_LEVELS = 8\n",
        "const TOL_UNIQUE = 1e-3\n",
        "const TOL_CONVERGENCE = 1e-6\n",
        "const TAU_L1 = 50.0  # L1-norm ball radius\n",
        "const tau = 50.0     # L1-norm ball radius\n",
        "\n",
        "# ================== Global Data ================== #\n",
        "A = spzeros(1, 1)\n",
        "y = zeros(1)\n",
        "n = 1\n",
        "\n",
        "# Sigmoid function\n",
        "sigmoid(z) = 1 / (1 + exp(-z))\n",
        "\n",
        "# Objective and gradient\n",
        "f(x) = mean((y .- sigmoid.(A * x)).^2)\n",
        "grad_f(x) = Zygote.gradient(f, x)[1]\n",
        "\n",
        "# Linear Minimization Oracle for the L1-ball ||x||_1 ≤ τ\n",
        "function lmo(g)\n",
        "    i = argmax(abs.(g))\n",
        "    v = zeros(n)\n",
        "    v[i] = -TAU_L1 * sign(g[i])\n",
        "    return v\n",
        "end\n",
        "\n",
        "# Check if a point is new\n",
        "function is_new_point(x, points, tol=TOL_UNIQUE)\n",
        "    all(norm(x - p) >= tol for p in points)\n",
        "end\n",
        "\n",
        "# ================== Adaptive Frank-Wolfe Algorithm ================== #\n",
        "function conditional_gradient_adjustable_scaling(f, grad_f, lmo, x0; max_iter=1000, epsilon=TOL_CONVERGENCE, delta=1e-10, beta=2, gamma=0.5)\n",
        "    x_prev = copy(x0)\n",
        "    x_curr = copy(x0)\n",
        "    values = [f(x_curr)]\n",
        "    times = [0.0]\n",
        "    gaps = Float64[]\n",
        "    L_ks = Float64[]\n",
        "    steps = Float64[]\n",
        "    backtrack_counts = Int[]\n",
        "    gamma_history = [gamma]\n",
        "    k = 0\n",
        "    prev_grad = grad_f(x_prev)\n",
        "    current_f = f(x_curr)\n",
        "    recent_backtracks = Int[]\n",
        "\n",
        "    while k < max_iter\n",
        "        start = time()\n",
        "        current_grad = grad_f(x_curr)\n",
        "        v = lmo(current_grad)\n",
        "        d = v - x_curr\n",
        "        normd2 = dot(d, d)\n",
        "        gap = -dot(current_grad, d)\n",
        "\n",
        "        if gap <= epsilon\n",
        "            push!(times, time() - start)\n",
        "            push!(gaps, gap)\n",
        "            break\n",
        "        end\n",
        "\n",
        "        if k == 0\n",
        "            d0 = ones(length(x0)) / sqrt(length(x0))\n",
        "            x_temp = x0 + 1e-3 * d0\n",
        "            L_k = gamma * (norm(grad_f(x0) - grad_f(x_temp)) / (1e-3 * norm(d0)) + delta)\n",
        "        else\n",
        "            grad_diff = norm(current_grad - prev_grad)\n",
        "            x_diff = norm(x_curr - x_prev)\n",
        "            L_k = gamma * (grad_diff / x_diff + delta)\n",
        "        end\n",
        "        Lknormd2 = L_k * normd2\n",
        "        t_k = min(gap / Lknormd2, 1.0)\n",
        "        i = 0\n",
        "        while true\n",
        "            x_new = x_curr + t_k * d\n",
        "            new_f = f(x_new)\n",
        "            if current_f - new_f >= t_k * gap - (Lknormd2 / 2) * t_k^2\n",
        "                x_prev = copy(x_curr)\n",
        "                x_curr = x_new\n",
        "                push!(backtrack_counts, i)\n",
        "                push!(recent_backtracks, i)\n",
        "                break\n",
        "            else\n",
        "                L_k *= beta\n",
        "                Lknormd2 = L_k * normd2\n",
        "                t_k = min(gap / Lknormd2, 1.0)\n",
        "                i += 1\n",
        "            end\n",
        "        end\n",
        "\n",
        "        if k % 10 == 0 && k > 0\n",
        "            total_backtracks = sum(recent_backtracks)\n",
        "            if total_backtracks == 0\n",
        "                gamma = max(1e-4, gamma * 0.9)\n",
        "            elseif total_backtracks > 10\n",
        "                gamma = min(1.0, gamma * 1.1)\n",
        "            end\n",
        "            push!(gamma_history, gamma)\n",
        "            recent_backtracks = Int[]\n",
        "        elseif k % 10 == 0\n",
        "            push!(gamma_history, gamma)\n",
        "            recent_backtracks = Int[]\n",
        "        else\n",
        "            push!(recent_backtracks, i)\n",
        "        end\n",
        "        k += 1\n",
        "        iteration_time = time() - start\n",
        "\n",
        "        current_f = f(x_curr)\n",
        "        prev_grad = current_grad\n",
        "        push!(gaps, gap)\n",
        "        push!(steps, t_k)\n",
        "        push!(values, current_f)\n",
        "        push!(times, iteration_time)\n",
        "        push!(L_ks, L_k)\n",
        "\n",
        "        if k % 100 == 0\n",
        "            # println(\"k=$k, gap=$(round(gap, digits=4)), t_k=$(round(t_k, digits=4)), L_k=$(round(L_ks[end], digits=6)), Time=$(round(times[end], digits=4)), f=$(round(values[end], digits=6))\")\n",
        "        end\n",
        "    end\n",
        "    total_time = sum(times)\n",
        "    return (x_curr, values, times, gaps, L_ks, backtrack_counts, steps, gamma_history, total_time)\n",
        "end\n",
        "\n",
        "# ================== Interior Point via Slack (Paper's Method) ================== #\n",
        "function find_interior_point(p_i, sites)\n",
        "    model = Model(HiGHS.Optimizer)\n",
        "    set_silent(model)\n",
        "    @variable(model, xp[1:n] >= 0)\n",
        "    @variable(model, xn[1:n] >= 0)\n",
        "    @variable(model, τ)\n",
        "\n",
        "    # L1 constraint: ||x||_1 ≤ TAU_L1\n",
        "    @constraint(model, sum(xp) + sum(xn) <= TAU_L1)\n",
        "\n",
        "    # Reconstruct x = xp - xn\n",
        "    x = xp - xn\n",
        "\n",
        "    # Voronoi cell constraints with slack\n",
        "    for j in 1:length(sites)\n",
        "        if sites[j] ≈ p_i\n",
        "            continue\n",
        "        end\n",
        "        p_j = sites[j]\n",
        "        a = p_j - p_i\n",
        "        b_val = 0.5 * dot(p_j + p_i, p_j - p_i)\n",
        "        @constraint(model, dot(a, x) <= b_val + τ)\n",
        "    end\n",
        "    @objective(model, Min, τ)\n",
        "    optimize!(model)\n",
        "    if termination_status(model) == OPTIMAL\n",
        "        x_sol = value.(xp) - value.(xn)\n",
        "        τ_sol = value(τ)\n",
        "        @info \"Interior point LP: τ = $(round(τ_sol, digits=8)), Status = $(τ_sol < -1e-8 ? \"Interior\" : \"Boundary\")\"\n",
        "        return τ_sol < -1e-8 ? (x_sol, \"Interior\") : (x_sol, \"Boundary\")\n",
        "    else\n",
        "        @warn \"Interior point LP failed: Infeasible or unbounded\"\n",
        "        if length(sites) == 1\n",
        "            @info \"Returning barycenter as fallback\"\n",
        "            return zeros(n), \"Interior\"\n",
        "        end\n",
        "        return nothing, \"Infeasible\"\n",
        "    end\n",
        "end\n",
        "\n",
        "# ================== Voronoi Partitioning ================== #\n",
        "function create_voronoi_partitions(sites)\n",
        "    base_A = vcat(\n",
        "        Matrix{Float64}(I, n, n),      # x ≥ -TAU_L1\n",
        "        -Matrix{Float64}(I, n, n)      # x ≤ TAU_L1\n",
        "    )\n",
        "    base_b = vcat(\n",
        "        TAU_L1 * ones(n),\n",
        "        TAU_L1 * ones(n)\n",
        "    )\n",
        "    partitions = []\n",
        "    K = length(sites)\n",
        "    if K == 1\n",
        "        push!(partitions, (base_A, base_b))\n",
        "        return partitions\n",
        "    end\n",
        "    for i in 1:K\n",
        "        A_i = copy(base_A)\n",
        "        b_i = copy(base_b)\n",
        "        p_i = sites[i]\n",
        "        for j in 1:K\n",
        "            i == j && continue\n",
        "            p_j = sites[j]\n",
        "            a = (p_j - p_i)'\n",
        "            b_val = 0.5 * dot(p_j + p_i, p_j - p_i)\n",
        "            A_i = vcat(A_i, a)\n",
        "            b_i = vcat(b_i, b_val)\n",
        "        end\n",
        "        push!(partitions, (A_i, b_i))\n",
        "    end\n",
        "    return partitions\n",
        "end\n",
        "\n",
        "# ================== Main VDCG Algorithm ================== #\n",
        "function voronoi_conditional_gradient(f, grad_f, lmo, x0)\n",
        "    x_init, _, cg_times, _, _, _, _, _, init_time = conditional_gradient_adjustable_scaling(f, grad_f, lmo, x0)\n",
        "    total_time = init_time\n",
        "    sites = [x0, x_init]\n",
        "    num_points = 1\n",
        "    archive = [(x_init, f(x_init))]\n",
        "    best_so_far = f(x_init)\n",
        "    @printf(\"Initial solution: f(x) = %.6f\\n\", f(x_init))\n",
        "    @info \"Distance between x0 and x_init: $(norm(x0 - x_init))\"\n",
        "\n",
        "    for level in 1:MAX_LEVELS\n",
        "        start_time = time()\n",
        "        @printf(\"→ VDCG Level %d: %d sites, Current best f(x) = %.6f\\n\", level, length(sites), best_so_far)\n",
        "        partitions = create_voronoi_partitions(sites)\n",
        "        new_sites = []\n",
        "        for (i, (A_cell, b_cell)) in enumerate(partitions)\n",
        "            x_inner, status = find_interior_point(sites[i], sites)\n",
        "            if x_inner === nothing || status == \"Infeasible\"\n",
        "                @info \"Skipping cell $i: $status\"\n",
        "                continue\n",
        "            end\n",
        "            x_stat, _, cg_times, _, _, _, _, _, cg_time = conditional_gradient_adjustable_scaling(f, grad_f, lmo, x_inner)\n",
        "            total_time += cg_time\n",
        "            num_points += 1\n",
        "            obj = f(x_stat)\n",
        "            all_points = [s for (s, _) in archive]\n",
        "            if is_new_point(x_stat, all_points) && is_new_point(x_stat, new_sites)\n",
        "                push!(new_sites, x_stat)\n",
        "                push!(archive, (x_stat, obj))\n",
        "                @printf(\"  New point found: f(x) = %.6f\\n\", obj)\n",
        "                best_so_far = min(best_so_far, obj)\n",
        "            else\n",
        "                min_dist = minimum(norm(x_stat - p) for p in all_points)\n",
        "                @info \"Cell $i: New point not added, obj = $(round(obj, digits=6)), min distance = $(round(min_dist, digits=6)), better = $(obj < best_so_far)\"\n",
        "            end\n",
        "        end\n",
        "        elapsed = time() - start_time\n",
        "        total_time += elapsed\n",
        "        if isempty(new_sites)\n",
        "            @printf(\"→ No new points found. Terminating at level %d.\\n\", level)\n",
        "            @printf(\"  🕒 Level %d runtime: %.4f sec | Best objective: %.6f\\n\", level, elapsed, best_so_far)\n",
        "            break\n",
        "        else\n",
        "            append!(sites, new_sites)\n",
        "            @printf(\"  ✅ Level %d completed in %.4f sec | Best objective so far: %.6f\\n\", level, elapsed, best_so_far)\n",
        "        end\n",
        "    end\n",
        "    best_idx = argmin([obj for (_, obj) in archive])\n",
        "    x_best, f_best = archive[best_idx]\n",
        "    return x_best, f_best, archive, sites, total_time, num_points\n",
        "end\n",
        "\n",
        "# ================== Load Problem Data ================== #\n",
        "function load_libsvm_data()\n",
        "    data_name = \"a6a\"\n",
        "    @info \"Loading LIBSVM dataset '$data_name'...\"\n",
        "    global A, y, n\n",
        "    A_loaded, y_loaded = load_dataset(data_name, dense=false, replace=false, verbose=true)\n",
        "    A = A_loaded\n",
        "    y = Float64.(y_loaded)\n",
        "    m, n = size(A)\n",
        "    # Map labels: {-1,1} → {0,1} for sigmoid output (optional)\n",
        "    # y = (y .+ 1) ./ 2\n",
        "    Random.seed!(23)\n",
        "    V = vcat(tau * I(n), -tau * I(n))\n",
        "    global x0 = V[rand(1:size(V, 1)), :]\n",
        "    @info \"Data loaded: $m samples, $n features\"\n",
        "    @info \"Initial point x0 set on L1-ball boundary\"\n",
        "end\n",
        "\n",
        "# ================== Run Experiment ================== #\n",
        "function main()\n",
        "    # Load data for sigmoid regression\n",
        "    load_libsvm_data()\n",
        "\n",
        "    # Run VDCG\n",
        "    @printf(\"\\n🚀 Starting VDCG...\\n\")\n",
        "    @time x_vdcg, f_vdcg, archive, sites, vdcg_time, vdcg_points = voronoi_conditional_gradient(f, grad_f, lmo, x0)\n",
        "    @printf(\"\\n✅ VDCG Best Objective: %.6f\\n\", f_vdcg)\n",
        "    @printf(\"✅ VDCG Total Time: %.4f sec, Total Points: %d\\n\", vdcg_time, vdcg_points)\n",
        "\n",
        "    # Standard CG\n",
        "    @printf(\"📊 Running Standard CG...\\n\")\n",
        "    x_std, _, _, _, _, _, _, _, std_time = conditional_gradient_adjustable_scaling(f, grad_f, lmo, x0)\n",
        "    f_std = f(x_std)\n",
        "    @printf(\"📊 Standard CG Objective: %.6f\\n\", f_std)\n",
        "\n",
        "    # Multi-start CG (limited by VDCG time)\n",
        "    @printf(\"🔍 Running Multi-start CG (time-limited)...\\n\")\n",
        "    f_multi = Inf\n",
        "    total_multi_time = 0.0\n",
        "    points_evaluated = 0\n",
        "    seed = 23\n",
        "    while total_multi_time < vdcg_time\n",
        "        Random.seed!(seed)\n",
        "        start = time()\n",
        "\n",
        "        # For the first iteration (seed 23), use the same x0 as standard CG\n",
        "        if seed == 23\n",
        "            x_rand = copy(x0)\n",
        "        else\n",
        "            V = vcat(tau * I(n), -tau * I(n))\n",
        "            x_rand = V[rand(1:size(V, 1)), :]\n",
        "        end\n",
        "\n",
        "        x, _, _, _, _, _, _, _, cg_time = conditional_gradient_adjustable_scaling(f, grad_f, lmo, x_rand)\n",
        "        total_multi_time += time() - start\n",
        "        points_evaluated += 1\n",
        "        f_current = f(x)\n",
        "        f_multi = min(f_multi, f_current)\n",
        "\n",
        "        @printf(\"  Seed %d: f(x) = %.6f, Time so far: %.4f sec, Points: %d\\n\", seed, f_current, total_multi_time, points_evaluated)\n",
        "        seed += 1\n",
        "    end\n",
        "    @printf(\"🔍 Multi-start CG Best: %.6f (Time: %.4f sec, Points: %d)\\n\", f_multi, total_multi_time, points_evaluated)\n",
        "\n",
        "    # Summary Table\n",
        "    @printf(\"\\n📋 Summary of Results for Sigmoid Regression (a6a)\\n\")\n",
        "    @printf(\"┌──────────────────────┬─────────────────┬──────────────┬─────────────────┐\\n\")\n",
        "    @printf(\"│ %-20s │ %-15s │ %-12s │ %-15s │\\n\", \"Method\", \"Objective Value\", \"Runtime (sec)\", \"Points Evaluated\")\n",
        "    @printf(\"├──────────────────────┼─────────────────┼──────────────┼─────────────────┤\\n\")\n",
        "    @printf(\"│ %-20s │ %-15.6f │ %-12.4f │ %-15d │\\n\", \"VDCG\", f_vdcg, vdcg_time, vdcg_points)\n",
        "    @printf(\"│ %-20s │ %-15.6f │ %-12.4f │ %-15d │\\n\", \"Standard CG\", f_std, std_time, 1)\n",
        "    @printf(\"│ %-20s │ %-15.6f │ %-12.4f │ %-15d │\\n\", \"Multi-start CG\", f_multi, total_multi_time, points_evaluated)\n",
        "    @printf(\"└──────────────────────┴─────────────────┴──────────────┴─────────────────┘\\n\")\n",
        "end\n",
        "\n",
        "# Run everything\n",
        "main()"
      ]
    },
    {
      "cell_type": "code",
      "execution_count": 4,
      "metadata": {
        "colab": {
          "base_uri": "https://localhost:8080/"
        },
        "id": "WvFqmVttdAqN",
        "outputId": "d050da01-7f08-4e31-fd3f-a914130efd77"
      },
      "outputs": [
        {
          "output_type": "stream",
          "name": "stderr",
          "text": [
            "\u001b[36m\u001b[1m[ \u001b[22m\u001b[39m\u001b[36m\u001b[1mInfo: \u001b[22m\u001b[39mLoading LIBSVM dataset 'a7a'...\n"
          ]
        },
        {
          "output_type": "stream",
          "name": "stdout",
          "text": [
            "Downloading the dataset a7a...\n"
          ]
        },
        {
          "output_type": "stream",
          "name": "stderr",
          "text": [
            "* Couldn't find host www.csie.ntu.edu.tw in the .netrc file; using defaults\n",
            "* Host www.csie.ntu.edu.tw:443 was resolved.\n",
            "* IPv6: (none)\n",
            "* IPv4: 140.112.30.26\n",
            "*   Trying 140.112.30.26:443...\n",
            "* Connected to www.csie.ntu.edu.tw (140.112.30.26) port 443\n",
            "* mbedTLS: Connecting to www.csie.ntu.edu.tw:443\n",
            "* mbedTLS: Set min SSL version to TLS 1.0\n",
            "* ALPN: curl offers h2,http/1.1\n",
            "* mbedTLS: Handshake complete, cipher is TLS-ECDHE-RSA-WITH-AES-128-GCM-SHA256\n",
            "* Dumping cert info: * cert. version     : 3\n",
            "* serial number     : 47:E8:00:00:00:07:87:FE:49:35:DC:01:F3:CD:23:5B\n",
            "* issuer name       : C=TW, O=TAIWAN-CA, CN=TWCA Secure SSL Certification Authority\n",
            "* subject name      : C=TW, ST=Taiwan, L=Taipei, O=National Taiwan University, CN=*.csie.ntu.edu.tw\n",
            "* issued  on        : 2024-10-16 09:35:59\n",
            "* expires on        : 2025-11-03 15:59:59\n",
            "* signed using      : RSA with SHA-256\n",
            "* RSA key size      : 2048 bits\n",
            "* basic constraints : CA=false\n",
            "* subject alt name  :\n",
            "*     dNSName : *.csie.ntu.edu.tw\n",
            "*     dNSName : csie.ntu.edu.tw\n",
            "* key usage         : Digital Signature, Key Encipherment\n",
            "* ext key usage     : TLS Web Server Authentication, TLS Web Client Authentication\n",
            "* certificate policies : ???, ???\n",
            "\n",
            "* ALPN: server did not agree on a protocol. Uses default.\n",
            "* SSL connected\n",
            "* using HTTP/1.x\n",
            "> GET /~cjlin/libsvmtools/datasets/binary/a7a HTTP/1.1\n",
            "Host: www.csie.ntu.edu.tw\n",
            "Accept: */*\n",
            "User-Agent: curl/8.6.0 julia/1.11\n",
            "\n",
            "< HTTP/1.1 200 OK\n",
            "< Date: Sun, 31 Aug 2025 05:39:39 GMT\n",
            "< Server: Apache/2.4.57 (Debian)\n",
            "< Strict-Transport-Security: max-age=31536000; includeSubDomains\n",
            "< Last-Modified: Wed, 08 Jun 2005 06:29:24 GMT\n",
            "< ETag: \"119438-3f9020ed19900\"\n",
            "< Accept-Ranges: bytes\n",
            "< Content-Length: 1152056\n",
            "< \n"
          ]
        },
        {
          "output_type": "stream",
          "name": "stdout",
          "text": [
            "Loading the dataset...\n"
          ]
        },
        {
          "output_type": "stream",
          "name": "stderr",
          "text": [
            "* Connection #0 to host www.csie.ntu.edu.tw left intact\n",
            "0.0%┣                                            ┫ 0/16.1k [00:00<00:00, -0s/it]\n",
            "12.1%┣████▌                                ┫ 2.0k/16.1k [00:00<00:00, 38.9kit/s]\n",
            "23.2%┣████████▋                            ┫ 3.7k/16.1k [00:00<00:00, 37.0kit/s]\n",
            "33.5%┣████████████▍                        ┫ 5.4k/16.1k [00:00<00:00, 35.7kit/s]\n",
            "40.7%┣███████████████                      ┫ 6.6k/16.1k [00:00<00:00, 32.5kit/s]\n",
            "53.9%┣████████████████████                 ┫ 8.7k/16.1k [00:00<00:00, 34.4kit/s]\n",
            "64.5%┣███████████████████████▎            ┫ 10.4k/16.1k [00:00<00:00, 34.4kit/s]\n",
            "75.0%┣███████████████████████████         ┫ 12.1k/16.1k [00:00<00:00, 34.3kit/s]\n",
            "85.3%┣██████████████████████████████▊     ┫ 13.7k/16.1k [00:00<00:00, 31.8kit/s]\n",
            "\u001b[1A"
          ]
        },
        {
          "output_type": "stream",
          "name": "stdout",
          "text": [
            "\n",
            "🚀 Starting VDCG...\n",
            "Initial solution: f(x) = 0.962249\n"
          ]
        },
        {
          "output_type": "stream",
          "name": "stderr",
          "text": [
            "\r100.0%┣███████████████████████████████████┫ 16.1k/16.1k [00:00<00:00, 33.4kit/s]\n",
            "\u001b[1A\r100.0%┣███████████████████████████████████┫ 16.1k/16.1k [00:00<00:00, 33.4kit/s]\n",
            "\u001b[1A\r100.0%┣███████████████████████████████████┫ 16.1k/16.1k [00:00<00:00, 33.4kit/s]\n",
            "\u001b[36m\u001b[1m[ \u001b[22m\u001b[39m\u001b[36m\u001b[1mInfo: \u001b[22m\u001b[39mData loaded: 16100 samples, 123 features\n",
            "\u001b[36m\u001b[1m[ \u001b[22m\u001b[39m\u001b[36m\u001b[1mInfo: \u001b[22m\u001b[39mInitial point x0 set on L1-ball boundary\n"
          ]
        },
        {
          "output_type": "stream",
          "name": "stdout",
          "text": [
            "→ VDCG Level 1: 2 sites, Current best f(x) = 0.962249\n"
          ]
        },
        {
          "output_type": "stream",
          "name": "stderr",
          "text": [
            "\u001b[36m\u001b[1m[ \u001b[22m\u001b[39m\u001b[36m\u001b[1mInfo: \u001b[22m\u001b[39mDistance between x0 and x_init: 34.87458566633593\n",
            "\u001b[36m\u001b[1m[ \u001b[22m\u001b[39m\u001b[36m\u001b[1mInfo: \u001b[22m\u001b[39mInterior point LP: τ = -608.1183627, Status = Interior\n",
            "\u001b[36m\u001b[1m[ \u001b[22m\u001b[39m\u001b[36m\u001b[1mInfo: \u001b[22m\u001b[39mCell 1: New point not added, obj = 0.962249, min distance = 0.0, better = false\n"
          ]
        },
        {
          "output_type": "stream",
          "name": "stdout",
          "text": [
            "  New point found: f(x) = 1.004588\n",
            "  ✅ Level 1 completed in 6.4589 sec | Best objective so far: 0.962249\n"
          ]
        },
        {
          "output_type": "stream",
          "name": "stderr",
          "text": [
            "\u001b[36m\u001b[1m[ \u001b[22m\u001b[39m\u001b[36m\u001b[1mInfo: \u001b[22m\u001b[39mInterior point LP: τ = -2793.034826, Status = Interior\n"
          ]
        },
        {
          "output_type": "stream",
          "name": "stdout",
          "text": [
            "→ VDCG Level 2: 3 sites, Current best f(x) = 0.962249\n"
          ]
        },
        {
          "output_type": "stream",
          "name": "stderr",
          "text": [
            "\u001b[36m\u001b[1m[ \u001b[22m\u001b[39m\u001b[36m\u001b[1mInfo: \u001b[22m\u001b[39mInterior point LP: τ = -608.1183627, Status = Interior\n",
            "\u001b[36m\u001b[1m[ \u001b[22m\u001b[39m\u001b[36m\u001b[1mInfo: \u001b[22m\u001b[39mCell 1: New point not added, obj = 0.962249, min distance = 0.0, better = false\n"
          ]
        },
        {
          "output_type": "stream",
          "name": "stdout",
          "text": [
            "  New point found: f(x) = 0.951071\n"
          ]
        },
        {
          "output_type": "stream",
          "name": "stderr",
          "text": [
            "\u001b[36m\u001b[1m[ \u001b[22m\u001b[39m\u001b[36m\u001b[1mInfo: \u001b[22m\u001b[39mInterior point LP: τ = -576.99348681, Status = Interior\n",
            "\u001b[36m\u001b[1m[ \u001b[22m\u001b[39m\u001b[36m\u001b[1mInfo: \u001b[22m\u001b[39mInterior point LP: τ = -1596.33736085, Status = Interior\n",
            "\u001b[36m\u001b[1m[ \u001b[22m\u001b[39m\u001b[36m\u001b[1mInfo: \u001b[22m\u001b[39mCell 3: New point not added, obj = 1.004588, min distance = 0.0, better = false\n"
          ]
        },
        {
          "output_type": "stream",
          "name": "stdout",
          "text": [
            "  ✅ Level 2 completed in 9.4335 sec | Best objective so far: 0.951071\n",
            "→ VDCG Level 3: 4 sites, Current best f(x) = 0.951071\n"
          ]
        },
        {
          "output_type": "stream",
          "name": "stderr",
          "text": [
            "\u001b[36m\u001b[1m[ \u001b[22m\u001b[39m\u001b[36m\u001b[1mInfo: \u001b[22m\u001b[39mInterior point LP: τ = -608.1183627, Status = Interior\n",
            "\u001b[36m\u001b[1m[ \u001b[22m\u001b[39m\u001b[36m\u001b[1mInfo: \u001b[22m\u001b[39mCell 1: New point not added, obj = 0.962249, min distance = 0.0, better = false\n"
          ]
        },
        {
          "output_type": "stream",
          "name": "stdout",
          "text": [
            "  New point found: f(x) = 0.949984\n"
          ]
        },
        {
          "output_type": "stream",
          "name": "stderr",
          "text": [
            "\u001b[36m\u001b[1m[ \u001b[22m\u001b[39m\u001b[36m\u001b[1mInfo: \u001b[22m\u001b[39mInterior point LP: τ = -296.21400392, Status = Interior\n",
            "\u001b[36m\u001b[1m[ \u001b[22m\u001b[39m\u001b[36m\u001b[1mInfo: \u001b[22m\u001b[39mInterior point LP: τ = -689.58888438, Status = Interior\n",
            "\u001b[36m\u001b[1m[ \u001b[22m\u001b[39m\u001b[36m\u001b[1mInfo: \u001b[22m\u001b[39mCell 3: New point not added, obj = 1.004588, min distance = 0.0, better = false\n"
          ]
        },
        {
          "output_type": "stream",
          "name": "stdout",
          "text": [
            "  New point found: f(x) = 1.000000\n",
            "  ✅ Level 3 completed in 9.5277 sec | Best objective so far: 0.949984\n"
          ]
        },
        {
          "output_type": "stream",
          "name": "stderr",
          "text": [
            "\u001b[36m\u001b[1m[ \u001b[22m\u001b[39m\u001b[36m\u001b[1mInfo: \u001b[22m\u001b[39mInterior point LP: τ = -223.58049386, Status = Interior\n"
          ]
        },
        {
          "output_type": "stream",
          "name": "stdout",
          "text": [
            "→ VDCG Level 4: 6 sites, Current best f(x) = 0.949984\n"
          ]
        },
        {
          "output_type": "stream",
          "name": "stderr",
          "text": [
            "\u001b[36m\u001b[1m[ \u001b[22m\u001b[39m\u001b[36m\u001b[1mInfo: \u001b[22m\u001b[39mInterior point LP: τ = -608.1183627, Status = Interior\n",
            "\u001b[36m\u001b[1m[ \u001b[22m\u001b[39m\u001b[36m\u001b[1mInfo: \u001b[22m\u001b[39mCell 1: New point not added, obj = 0.962249, min distance = 0.0, better = false\n"
          ]
        },
        {
          "output_type": "stream",
          "name": "stdout",
          "text": [
            "  New point found: f(x) = 0.961410\n"
          ]
        },
        {
          "output_type": "stream",
          "name": "stderr",
          "text": [
            "\u001b[36m\u001b[1m[ \u001b[22m\u001b[39m\u001b[36m\u001b[1mInfo: \u001b[22m\u001b[39mInterior point LP: τ = -281.46414026, Status = Interior\n",
            "\u001b[36m\u001b[1m[ \u001b[22m\u001b[39m\u001b[36m\u001b[1mInfo: \u001b[22m\u001b[39mInterior point LP: τ = -677.19575935, Status = Interior\n",
            "\u001b[36m\u001b[1m[ \u001b[22m\u001b[39m\u001b[36m\u001b[1mInfo: \u001b[22m\u001b[39mCell 3: New point not added, obj = 1.004588, min distance = 0.0, better = false\n"
          ]
        },
        {
          "output_type": "stream",
          "name": "stdout",
          "text": [
            "  New point found: f(x) = 0.976015\n"
          ]
        },
        {
          "output_type": "stream",
          "name": "stderr",
          "text": [
            "\u001b[36m\u001b[1m[ \u001b[22m\u001b[39m\u001b[36m\u001b[1mInfo: \u001b[22m\u001b[39mInterior point LP: τ = -110.97575117, Status = Interior\n"
          ]
        },
        {
          "output_type": "stream",
          "name": "stdout",
          "text": [
            "  New point found: f(x) = 1.054472\n"
          ]
        },
        {
          "output_type": "stream",
          "name": "stderr",
          "text": [
            "\u001b[36m\u001b[1m[ \u001b[22m\u001b[39m\u001b[36m\u001b[1mInfo: \u001b[22m\u001b[39mInterior point LP: τ = -141.13880987, Status = Interior\n"
          ]
        },
        {
          "output_type": "stream",
          "name": "stdout",
          "text": [
            "  New point found: f(x) = 1.000000\n",
            "  ✅ Level 4 completed in 12.1589 sec | Best objective so far: 0.949984\n"
          ]
        },
        {
          "output_type": "stream",
          "name": "stderr",
          "text": [
            "\u001b[36m\u001b[1m[ \u001b[22m\u001b[39m\u001b[36m\u001b[1mInfo: \u001b[22m\u001b[39mInterior point LP: τ = -867.07142602, Status = Interior\n"
          ]
        },
        {
          "output_type": "stream",
          "name": "stdout",
          "text": [
            "→ VDCG Level 5: 10 sites, Current best f(x) = 0.949984\n"
          ]
        },
        {
          "output_type": "stream",
          "name": "stderr",
          "text": [
            "\u001b[36m\u001b[1m[ \u001b[22m\u001b[39m\u001b[36m\u001b[1mInfo: \u001b[22m\u001b[39mInterior point LP: τ = -608.1183627, Status = Interior\n",
            "\u001b[36m\u001b[1m[ \u001b[22m\u001b[39m\u001b[36m\u001b[1mInfo: \u001b[22m\u001b[39mCell 1: New point not added, obj = 0.962249, min distance = 0.0, better = false\n"
          ]
        },
        {
          "output_type": "stream",
          "name": "stdout",
          "text": [
            "  New point found: f(x) = 0.950357\n"
          ]
        },
        {
          "output_type": "stream",
          "name": "stderr",
          "text": [
            "\u001b[36m\u001b[1m[ \u001b[22m\u001b[39m\u001b[36m\u001b[1mInfo: \u001b[22m\u001b[39mInterior point LP: τ = -213.34562029, Status = Interior\n",
            "\u001b[36m\u001b[1m[ \u001b[22m\u001b[39m\u001b[36m\u001b[1mInfo: \u001b[22m\u001b[39mInterior point LP: τ = -677.19575935, Status = Interior\n",
            "\u001b[36m\u001b[1m[ \u001b[22m\u001b[39m\u001b[36m\u001b[1mInfo: \u001b[22m\u001b[39mCell 3: New point not added, obj = 1.004588, min distance = 0.0, better = false\n"
          ]
        },
        {
          "output_type": "stream",
          "name": "stdout",
          "text": [
            "  New point found: f(x) = 0.948648\n"
          ]
        },
        {
          "output_type": "stream",
          "name": "stderr",
          "text": [
            "\u001b[36m\u001b[1m[ \u001b[22m\u001b[39m\u001b[36m\u001b[1mInfo: \u001b[22m\u001b[39mInterior point LP: τ = -81.95631017, Status = Interior\n"
          ]
        },
        {
          "output_type": "stream",
          "name": "stdout",
          "text": [
            "  New point found: f(x) = 3.026584\n",
            "  New point found: f(x) = 1.000000\n",
            "  New point found: f(x) = 0.949168\n"
          ]
        },
        {
          "output_type": "stream",
          "name": "stderr",
          "text": [
            "\u001b[36m\u001b[1m[ \u001b[22m\u001b[39m\u001b[36m\u001b[1mInfo: \u001b[22m\u001b[39mInterior point LP: τ = -137.31050481, Status = Interior\n",
            "\u001b[36m\u001b[1m[ \u001b[22m\u001b[39m\u001b[36m\u001b[1mInfo: \u001b[22m\u001b[39mInterior point LP: τ = -0.47932522, Status = Interior\n",
            "\u001b[36m\u001b[1m[ \u001b[22m\u001b[39m\u001b[36m\u001b[1mInfo: \u001b[22m\u001b[39mInterior point LP: τ = -197.78287267, Status = Interior\n"
          ]
        },
        {
          "output_type": "stream",
          "name": "stdout",
          "text": [
            "  New point found: f(x) = 0.976291\n"
          ]
        },
        {
          "output_type": "stream",
          "name": "stderr",
          "text": [
            "\u001b[36m\u001b[1m[ \u001b[22m\u001b[39m\u001b[36m\u001b[1mInfo: \u001b[22m\u001b[39mInterior point LP: τ = -331.13222509, Status = Interior\n",
            "\u001b[36m\u001b[1m[ \u001b[22m\u001b[39m\u001b[36m\u001b[1mInfo: \u001b[22m\u001b[39mInterior point LP: τ = -926.72640323, Status = Interior\n",
            "\u001b[36m\u001b[1m[ \u001b[22m\u001b[39m\u001b[36m\u001b[1mInfo: \u001b[22m\u001b[39mCell 9: New point not added, obj = 1.054472, min distance = 0.0, better = false\n",
            "\u001b[36m\u001b[1m[ \u001b[22m\u001b[39m\u001b[36m\u001b[1mInfo: \u001b[22m\u001b[39mInterior point LP: τ = -0.33730442, Status = Interior\n",
            "\u001b[36m\u001b[1m[ \u001b[22m\u001b[39m\u001b[36m\u001b[1mInfo: \u001b[22m\u001b[39mCell 10: New point not added, obj = 1.0, min distance = 0.0, better = false\n"
          ]
        },
        {
          "output_type": "stream",
          "name": "stdout",
          "text": [
            "  ✅ Level 5 completed in 18.3624 sec | Best objective so far: 0.948648\n",
            "→ VDCG Level 6: 16 sites, Current best f(x) = 0.948648\n"
          ]
        },
        {
          "output_type": "stream",
          "name": "stderr",
          "text": [
            "\u001b[36m\u001b[1m[ \u001b[22m\u001b[39m\u001b[36m\u001b[1mInfo: \u001b[22m\u001b[39mInterior point LP: τ = -608.1183627, Status = Interior\n",
            "\u001b[36m\u001b[1m[ \u001b[22m\u001b[39m\u001b[36m\u001b[1mInfo: \u001b[22m\u001b[39mCell 1: New point not added, obj = 0.962249, min distance = 0.0, better = false\n"
          ]
        },
        {
          "output_type": "stream",
          "name": "stdout",
          "text": [
            "  New point found: f(x) = 0.950494\n"
          ]
        },
        {
          "output_type": "stream",
          "name": "stderr",
          "text": [
            "\u001b[36m\u001b[1m[ \u001b[22m\u001b[39m\u001b[36m\u001b[1mInfo: \u001b[22m\u001b[39mInterior point LP: τ = -211.18821348, Status = Interior\n",
            "\u001b[36m\u001b[1m[ \u001b[22m\u001b[39m\u001b[36m\u001b[1mInfo: \u001b[22m\u001b[39mInterior point LP: τ = -677.19575935, Status = Interior\n",
            "\u001b[36m\u001b[1m[ \u001b[22m\u001b[39m\u001b[36m\u001b[1mInfo: \u001b[22m\u001b[39mCell 3: New point not added, obj = 1.004588, min distance = 0.0, better = false\n"
          ]
        },
        {
          "output_type": "stream",
          "name": "stdout",
          "text": [
            "  New point found: f(x) = 0.950120\n"
          ]
        },
        {
          "output_type": "stream",
          "name": "stderr",
          "text": [
            "\u001b[36m\u001b[1m[ \u001b[22m\u001b[39m\u001b[36m\u001b[1mInfo: \u001b[22m\u001b[39mInterior point LP: τ = -42.93404806, Status = Interior\n"
          ]
        },
        {
          "output_type": "stream",
          "name": "stdout",
          "text": [
            "  New point found: f(x) = 0.949680\n"
          ]
        },
        {
          "output_type": "stream",
          "name": "stderr",
          "text": [
            "\u001b[36m\u001b[1m[ \u001b[22m\u001b[39m\u001b[36m\u001b[1mInfo: \u001b[22m\u001b[39mInterior point LP: τ = -27.81441022, Status = Interior\n"
          ]
        },
        {
          "output_type": "stream",
          "name": "stdout",
          "text": [
            "  New point found: f(x) = 1.000000\n",
            "  New point found: f(x) = 0.948633\n"
          ]
        },
        {
          "output_type": "stream",
          "name": "stderr",
          "text": [
            "\u001b[36m\u001b[1m[ \u001b[22m\u001b[39m\u001b[36m\u001b[1mInfo: \u001b[22m\u001b[39mInterior point LP: τ = -0.29501349, Status = Interior\n",
            "\u001b[36m\u001b[1m[ \u001b[22m\u001b[39m\u001b[36m\u001b[1mInfo: \u001b[22m\u001b[39mInterior point LP: τ = -53.44874226, Status = Interior\n"
          ]
        },
        {
          "output_type": "stream",
          "name": "stdout",
          "text": [
            "  New point found: f(x) = 1.000000\n",
            "  New point found: f(x) = 1.054472\n"
          ]
        },
        {
          "output_type": "stream",
          "name": "stderr",
          "text": [
            "\u001b[36m\u001b[1m[ \u001b[22m\u001b[39m\u001b[36m\u001b[1mInfo: \u001b[22m\u001b[39mInterior point LP: τ = -44.96993444, Status = Interior\n",
            "\u001b[36m\u001b[1m[ \u001b[22m\u001b[39m\u001b[36m\u001b[1mInfo: \u001b[22m\u001b[39mInterior point LP: τ = -693.07468326, Status = Interior\n",
            "\u001b[36m\u001b[1m[ \u001b[22m\u001b[39m\u001b[36m\u001b[1mInfo: \u001b[22m\u001b[39mInterior point LP: τ = -0.33730442, Status = Interior\n",
            "\u001b[36m\u001b[1m[ \u001b[22m\u001b[39m\u001b[36m\u001b[1mInfo: \u001b[22m\u001b[39mCell 10: New point not added, obj = 1.0, min distance = 0.0, better = false\n"
          ]
        },
        {
          "output_type": "stream",
          "name": "stdout",
          "text": [
            "  New point found: f(x) = 0.949438\n"
          ]
        },
        {
          "output_type": "stream",
          "name": "stderr",
          "text": [
            "\u001b[36m\u001b[1m[ \u001b[22m\u001b[39m\u001b[36m\u001b[1mInfo: \u001b[22m\u001b[39mInterior point LP: τ = -13.93629496, Status = Interior\n"
          ]
        },
        {
          "output_type": "stream",
          "name": "stdout",
          "text": [
            "  New point found: f(x) = 0.948207\n"
          ]
        },
        {
          "output_type": "stream",
          "name": "stderr",
          "text": [
            "\u001b[36m\u001b[1m[ \u001b[22m\u001b[39m\u001b[36m\u001b[1mInfo: \u001b[22m\u001b[39mInterior point LP: τ = -110.78673553, Status = Interior\n"
          ]
        },
        {
          "output_type": "stream",
          "name": "stdout",
          "text": [
            "  New point found: f(x) = 3.026584\n",
            "  New point found: f(x) = 1.000000\n",
            "  New point found: f(x) = 0.948535\n"
          ]
        },
        {
          "output_type": "stream",
          "name": "stderr",
          "text": [
            "\u001b[36m\u001b[1m[ \u001b[22m\u001b[39m\u001b[36m\u001b[1mInfo: \u001b[22m\u001b[39mInterior point LP: τ = -696.25966784, Status = Interior\n",
            "\u001b[36m\u001b[1m[ \u001b[22m\u001b[39m\u001b[36m\u001b[1mInfo: \u001b[22m\u001b[39mInterior point LP: τ = -255.40549183, Status = Interior\n",
            "\u001b[36m\u001b[1m[ \u001b[22m\u001b[39m\u001b[36m\u001b[1mInfo: \u001b[22m\u001b[39mInterior point LP: τ = -315.71176086, Status = Interior\n"
          ]
        },
        {
          "output_type": "stream",
          "name": "stdout",
          "text": [
            "  New point found: f(x) = 0.976303\n",
            "  ✅ Level 6 completed in 30.5513 sec | Best objective so far: 0.948207\n"
          ]
        },
        {
          "output_type": "stream",
          "name": "stderr",
          "text": [
            "\u001b[36m\u001b[1m[ \u001b[22m\u001b[39m\u001b[36m\u001b[1mInfo: \u001b[22m\u001b[39mInterior point LP: τ = -129.35365055, Status = Interior\n"
          ]
        },
        {
          "output_type": "stream",
          "name": "stdout",
          "text": [
            "→ VDCG Level 7: 29 sites, Current best f(x) = 0.948207\n"
          ]
        },
        {
          "output_type": "stream",
          "name": "stderr",
          "text": [
            "\u001b[36m\u001b[1m[ \u001b[22m\u001b[39m\u001b[36m\u001b[1mInfo: \u001b[22m\u001b[39mInterior point LP: τ = -608.1183627, Status = Interior\n",
            "\u001b[36m\u001b[1m[ \u001b[22m\u001b[39m\u001b[36m\u001b[1mInfo: \u001b[22m\u001b[39mCell 1: New point not added, obj = 0.962249, min distance = 0.0, better = false\n"
          ]
        },
        {
          "output_type": "stream",
          "name": "stdout",
          "text": [
            "  New point found: f(x) = 0.950055\n"
          ]
        },
        {
          "output_type": "stream",
          "name": "stderr",
          "text": [
            "\u001b[36m\u001b[1m[ \u001b[22m\u001b[39m\u001b[36m\u001b[1mInfo: \u001b[22m\u001b[39mInterior point LP: τ = -210.63997305, Status = Interior\n",
            "\u001b[36m\u001b[1m[ \u001b[22m\u001b[39m\u001b[36m\u001b[1mInfo: \u001b[22m\u001b[39mInterior point LP: τ = -668.76904507, Status = Interior\n",
            "\u001b[36m\u001b[1m[ \u001b[22m\u001b[39m\u001b[36m\u001b[1mInfo: \u001b[22m\u001b[39mCell 3: New point not added, obj = 1.004588, min distance = 0.0, better = false\n"
          ]
        },
        {
          "output_type": "stream",
          "name": "stdout",
          "text": [
            "  New point found: f(x) = 0.949913\n"
          ]
        },
        {
          "output_type": "stream",
          "name": "stderr",
          "text": [
            "\u001b[36m\u001b[1m[ \u001b[22m\u001b[39m\u001b[36m\u001b[1mInfo: \u001b[22m\u001b[39mInterior point LP: τ = -33.4360102, Status = Interior\n"
          ]
        },
        {
          "output_type": "stream",
          "name": "stdout",
          "text": [
            "  New point found: f(x) = 0.949472\n"
          ]
        },
        {
          "output_type": "stream",
          "name": "stderr",
          "text": [
            "\u001b[36m\u001b[1m[ \u001b[22m\u001b[39m\u001b[36m\u001b[1mInfo: \u001b[22m\u001b[39mInterior point LP: τ = -23.35054272, Status = Interior\n"
          ]
        },
        {
          "output_type": "stream",
          "name": "stdout",
          "text": [
            "  New point found: f(x) = 1.000000\n",
            "  New point found: f(x) = 0.948032\n"
          ]
        },
        {
          "output_type": "stream",
          "name": "stderr",
          "text": [
            "\u001b[36m\u001b[1m[ \u001b[22m\u001b[39m\u001b[36m\u001b[1mInfo: \u001b[22m\u001b[39mInterior point LP: τ = -0.25737383, Status = Interior\n",
            "\u001b[36m\u001b[1m[ \u001b[22m\u001b[39m\u001b[36m\u001b[1mInfo: \u001b[22m\u001b[39mInterior point LP: τ = -53.3122793, Status = Interior\n"
          ]
        },
        {
          "output_type": "stream",
          "name": "stdout",
          "text": [
            "  New point found: f(x) = 0.948854\n"
          ]
        },
        {
          "output_type": "stream",
          "name": "stderr",
          "text": [
            "\u001b[36m\u001b[1m[ \u001b[22m\u001b[39m\u001b[36m\u001b[1mInfo: \u001b[22m\u001b[39mInterior point LP: τ = -38.56409319, Status = Interior\n"
          ]
        },
        {
          "output_type": "stream",
          "name": "stdout",
          "text": [
            "  New point found: f(x) = 0.950781\n"
          ]
        },
        {
          "output_type": "stream",
          "name": "stderr",
          "text": [
            "\u001b[36m\u001b[1m[ \u001b[22m\u001b[39m\u001b[36m\u001b[1mInfo: \u001b[22m\u001b[39mInterior point LP: τ = -10.73884689, Status = Interior\n",
            "\u001b[36m\u001b[1m[ \u001b[22m\u001b[39m\u001b[36m\u001b[1mInfo: \u001b[22m\u001b[39mInterior point LP: τ = -0.33730442, Status = Interior\n",
            "\u001b[36m\u001b[1m[ \u001b[22m\u001b[39m\u001b[36m\u001b[1mInfo: \u001b[22m\u001b[39mCell 10: New point not added, obj = 1.0, min distance = 0.0, better = false\n"
          ]
        },
        {
          "output_type": "stream",
          "name": "stdout",
          "text": [
            "  New point found: f(x) = 0.949808\n"
          ]
        },
        {
          "output_type": "stream",
          "name": "stderr",
          "text": [
            "\u001b[36m\u001b[1m[ \u001b[22m\u001b[39m\u001b[36m\u001b[1mInfo: \u001b[22m\u001b[39mInterior point LP: τ = -6.80020123, Status = Interior\n",
            "\u001b[36m\u001b[1m[ \u001b[22m\u001b[39m\u001b[36m\u001b[1mInfo: \u001b[22m\u001b[39mInterior point LP: τ = -110.78673553, Status = Interior\n",
            "\u001b[36m\u001b[1m[ \u001b[22m\u001b[39m\u001b[36m\u001b[1mInfo: \u001b[22m\u001b[39mCell 12: New point not added, obj = 0.948207, min distance = 0.0, better = false\n"
          ]
        },
        {
          "output_type": "stream",
          "name": "stdout",
          "text": [
            "  New point found: f(x) = 0.949861\n"
          ]
        },
        {
          "output_type": "stream",
          "name": "stderr",
          "text": [
            "\u001b[36m\u001b[1m[ \u001b[22m\u001b[39m\u001b[36m\u001b[1mInfo: \u001b[22m\u001b[39mInterior point LP: τ = -167.83753956, Status = Interior\n"
          ]
        },
        {
          "output_type": "stream",
          "name": "stdout",
          "text": [
            "  New point found: f(x) = 0.950607\n"
          ]
        },
        {
          "output_type": "stream",
          "name": "stderr",
          "text": [
            "\u001b[36m\u001b[1m[ \u001b[22m\u001b[39m\u001b[36m\u001b[1mInfo: \u001b[22m\u001b[39mInterior point LP: τ = -18.07937462, Status = Interior\n"
          ]
        },
        {
          "output_type": "stream",
          "name": "stdout",
          "text": [
            "  New point found: f(x) = 0.949188\n"
          ]
        },
        {
          "output_type": "stream",
          "name": "stderr",
          "text": [
            "\u001b[36m\u001b[1m[ \u001b[22m\u001b[39m\u001b[36m\u001b[1mInfo: \u001b[22m\u001b[39mInterior point LP: τ = -108.17154912, Status = Interior\n"
          ]
        },
        {
          "output_type": "stream",
          "name": "stdout",
          "text": [
            "  New point found: f(x) = 0.950023\n"
          ]
        },
        {
          "output_type": "stream",
          "name": "stderr",
          "text": [
            "\u001b[36m\u001b[1m[ \u001b[22m\u001b[39m\u001b[36m\u001b[1mInfo: \u001b[22m\u001b[39mInterior point LP: τ = -3.978431, Status = Interior\n"
          ]
        },
        {
          "output_type": "stream",
          "name": "stdout",
          "text": [
            "  New point found: f(x) = 0.947613\n"
          ]
        },
        {
          "output_type": "stream",
          "name": "stderr",
          "text": [
            "\u001b[36m\u001b[1m[ \u001b[22m\u001b[39m\u001b[36m\u001b[1mInfo: \u001b[22m\u001b[39mInterior point LP: τ = -7.09228611, Status = Interior\n"
          ]
        },
        {
          "output_type": "stream",
          "name": "stdout",
          "text": [
            "  New point found: f(x) = 0.950750\n"
          ]
        },
        {
          "output_type": "stream",
          "name": "stderr",
          "text": [
            "\u001b[36m\u001b[1m[ \u001b[22m\u001b[39m\u001b[36m\u001b[1mInfo: \u001b[22m\u001b[39mInterior point LP: τ = -14.63788789, Status = Interior\n"
          ]
        },
        {
          "output_type": "stream",
          "name": "stdout",
          "text": [
            "  New point found: f(x) = 0.949513\n"
          ]
        },
        {
          "output_type": "stream",
          "name": "stderr",
          "text": [
            "\u001b[36m\u001b[1m[ \u001b[22m\u001b[39m\u001b[36m\u001b[1mInfo: \u001b[22m\u001b[39mInterior point LP: τ = -240.47612911, Status = Interior\n",
            "\u001b[36m\u001b[1m[ \u001b[22m\u001b[39m\u001b[36m\u001b[1mInfo: \u001b[22m\u001b[39mInterior point LP: τ = -301.50071026, Status = Interior\n",
            "\u001b[36m\u001b[1m[ \u001b[22m\u001b[39m\u001b[36m\u001b[1mInfo: \u001b[22m\u001b[39mCell 20: New point not added, obj = 0.976303, min distance = 0.0, better = false\n"
          ]
        },
        {
          "output_type": "stream",
          "name": "stdout",
          "text": [
            "  New point found: f(x) = 0.949198\n"
          ]
        },
        {
          "output_type": "stream",
          "name": "stderr",
          "text": [
            "\u001b[36m\u001b[1m[ \u001b[22m\u001b[39m\u001b[36m\u001b[1mInfo: \u001b[22m\u001b[39mInterior point LP: τ = -209.95366091, Status = Interior\n"
          ]
        },
        {
          "output_type": "stream",
          "name": "stdout",
          "text": [
            "  New point found: f(x) = 0.989076\n"
          ]
        },
        {
          "output_type": "stream",
          "name": "stderr",
          "text": [
            "\u001b[36m\u001b[1m[ \u001b[22m\u001b[39m\u001b[36m\u001b[1mInfo: \u001b[22m\u001b[39mInterior point LP: τ = -750.98219552, Status = Interior\n",
            "\u001b[36m\u001b[1m[ \u001b[22m\u001b[39m\u001b[36m\u001b[1mInfo: \u001b[22m\u001b[39mInterior point LP: τ = -10.36274674, Status = Interior\n",
            "\u001b[36m\u001b[1m[ \u001b[22m\u001b[39m\u001b[36m\u001b[1mInfo: \u001b[22m\u001b[39mCell 23: New point not added, obj = 1.054472, min distance = 0.0, better = false\n"
          ]
        },
        {
          "output_type": "stream",
          "name": "stdout",
          "text": [
            "  New point found: f(x) = 0.992611\n"
          ]
        },
        {
          "output_type": "stream",
          "name": "stderr",
          "text": [
            "\u001b[36m\u001b[1m[ \u001b[22m\u001b[39m\u001b[36m\u001b[1mInfo: \u001b[22m\u001b[39mInterior point LP: τ = -8.33756096, Status = Interior\n"
          ]
        },
        {
          "output_type": "stream",
          "name": "stdout",
          "text": [
            "  New point found: f(x) = 0.949954\n"
          ]
        },
        {
          "output_type": "stream",
          "name": "stderr",
          "text": [
            "\u001b[36m\u001b[1m[ \u001b[22m\u001b[39m\u001b[36m\u001b[1mInfo: \u001b[22m\u001b[39mInterior point LP: τ = -46.08305405, Status = Interior\n"
          ]
        },
        {
          "output_type": "stream",
          "name": "stdout",
          "text": [
            "  New point found: f(x) = 1.054472\n"
          ]
        },
        {
          "output_type": "stream",
          "name": "stderr",
          "text": [
            "\u001b[36m\u001b[1m[ \u001b[22m\u001b[39m\u001b[36m\u001b[1mInfo: \u001b[22m\u001b[39mInterior point LP: τ = -92.85582707, Status = Interior\n"
          ]
        },
        {
          "output_type": "stream",
          "name": "stdout",
          "text": [
            "  New point found: f(x) = 0.949717\n"
          ]
        },
        {
          "output_type": "stream",
          "name": "stderr",
          "text": [
            "\u001b[36m\u001b[1m[ \u001b[22m\u001b[39m\u001b[36m\u001b[1mInfo: \u001b[22m\u001b[39mInterior point LP: τ = -22.55645522, Status = Interior\n"
          ]
        },
        {
          "output_type": "stream",
          "name": "stdout",
          "text": [
            "  New point found: f(x) = 0.949320\n"
          ]
        },
        {
          "output_type": "stream",
          "name": "stderr",
          "text": [
            "\u001b[36m\u001b[1m[ \u001b[22m\u001b[39m\u001b[36m\u001b[1mInfo: \u001b[22m\u001b[39mInterior point LP: τ = -50.55489519, Status = Interior\n"
          ]
        },
        {
          "output_type": "stream",
          "name": "stdout",
          "text": [
            "  New point found: f(x) = 0.949377\n",
            "  ✅ Level 7 completed in 77.7559 sec | Best objective so far: 0.947613\n"
          ]
        },
        {
          "output_type": "stream",
          "name": "stderr",
          "text": [
            "\u001b[36m\u001b[1m[ \u001b[22m\u001b[39m\u001b[36m\u001b[1mInfo: \u001b[22m\u001b[39mInterior point LP: τ = -4.26212672, Status = Interior\n"
          ]
        },
        {
          "output_type": "stream",
          "name": "stdout",
          "text": [
            "→ VDCG Level 8: 52 sites, Current best f(x) = 0.947613\n"
          ]
        },
        {
          "output_type": "stream",
          "name": "stderr",
          "text": [
            "\u001b[36m\u001b[1m[ \u001b[22m\u001b[39m\u001b[36m\u001b[1mInfo: \u001b[22m\u001b[39mInterior point LP: τ = -608.1183627, Status = Interior\n",
            "\u001b[36m\u001b[1m[ \u001b[22m\u001b[39m\u001b[36m\u001b[1mInfo: \u001b[22m\u001b[39mCell 1: New point not added, obj = 0.962249, min distance = 0.0, better = false\n",
            "\u001b[36m\u001b[1m[ \u001b[22m\u001b[39m\u001b[36m\u001b[1mInfo: \u001b[22m\u001b[39mInterior point LP: τ = -210.63997305, Status = Interior\n",
            "\u001b[36m\u001b[1m[ \u001b[22m\u001b[39m\u001b[36m\u001b[1mInfo: \u001b[22m\u001b[39mCell 2: New point not added, obj = 0.950055, min distance = 0.0, better = false\n",
            "\u001b[36m\u001b[1m[ \u001b[22m\u001b[39m\u001b[36m\u001b[1mInfo: \u001b[22m\u001b[39mInterior point LP: τ = -646.27081056, Status = Interior\n",
            "\u001b[36m\u001b[1m[ \u001b[22m\u001b[39m\u001b[36m\u001b[1mInfo: \u001b[22m\u001b[39mCell 3: New point not added, obj = 1.004588, min distance = 0.0, better = false\n"
          ]
        },
        {
          "output_type": "stream",
          "name": "stdout",
          "text": [
            "  New point found: f(x) = 0.950322\n"
          ]
        },
        {
          "output_type": "stream",
          "name": "stderr",
          "text": [
            "\u001b[36m\u001b[1m[ \u001b[22m\u001b[39m\u001b[36m\u001b[1mInfo: \u001b[22m\u001b[39mInterior point LP: τ = -14.01575425, Status = Interior\n"
          ]
        },
        {
          "output_type": "stream",
          "name": "stdout",
          "text": [
            "  New point found: f(x) = 0.949838\n"
          ]
        },
        {
          "output_type": "stream",
          "name": "stderr",
          "text": [
            "\u001b[36m\u001b[1m[ \u001b[22m\u001b[39m\u001b[36m\u001b[1mInfo: \u001b[22m\u001b[39mInterior point LP: τ = -19.5306891, Status = Interior\n"
          ]
        },
        {
          "output_type": "stream",
          "name": "stdout",
          "text": [
            "  New point found: f(x) = 1.000000\n"
          ]
        },
        {
          "output_type": "stream",
          "name": "stderr",
          "text": [
            "\u001b[36m\u001b[1m[ \u001b[22m\u001b[39m\u001b[36m\u001b[1mInfo: \u001b[22m\u001b[39mInterior point LP: τ = -0.21188452, Status = Interior\n"
          ]
        },
        {
          "output_type": "stream",
          "name": "stdout",
          "text": [
            "  New point found: f(x) = 0.948817\n"
          ]
        },
        {
          "output_type": "stream",
          "name": "stderr",
          "text": [
            "\u001b[36m\u001b[1m[ \u001b[22m\u001b[39m\u001b[36m\u001b[1mInfo: \u001b[22m\u001b[39mInterior point LP: τ = -53.24763506, Status = Interior\n"
          ]
        },
        {
          "output_type": "stream",
          "name": "stdout",
          "text": [
            "  New point found: f(x) = 0.947967\n"
          ]
        },
        {
          "output_type": "stream",
          "name": "stderr",
          "text": [
            "\u001b[36m\u001b[1m[ \u001b[22m\u001b[39m\u001b[36m\u001b[1mInfo: \u001b[22m\u001b[39mInterior point LP: τ = -35.42727553, Status = Interior\n"
          ]
        },
        {
          "output_type": "stream",
          "name": "stdout",
          "text": [
            "  New point found: f(x) = 1.054472\n"
          ]
        },
        {
          "output_type": "stream",
          "name": "stderr",
          "text": [
            "\u001b[36m\u001b[1m[ \u001b[22m\u001b[39m\u001b[36m\u001b[1mInfo: \u001b[22m\u001b[39mInterior point LP: τ = -1.47293788, Status = Interior\n",
            "\u001b[36m\u001b[1m[ \u001b[22m\u001b[39m\u001b[36m\u001b[1mInfo: \u001b[22m\u001b[39mInterior point LP: τ = -0.33730442, Status = Interior\n",
            "\u001b[36m\u001b[1m[ \u001b[22m\u001b[39m\u001b[36m\u001b[1mInfo: \u001b[22m\u001b[39mCell 10: New point not added, obj = 1.0, min distance = 0.0, better = false\n"
          ]
        },
        {
          "output_type": "stream",
          "name": "stdout",
          "text": [
            "  New point found: f(x) = 0.950020\n"
          ]
        },
        {
          "output_type": "stream",
          "name": "stderr",
          "text": [
            "\u001b[36m\u001b[1m[ \u001b[22m\u001b[39m\u001b[36m\u001b[1mInfo: \u001b[22m\u001b[39mInterior point LP: τ = -6.0789053, Status = Interior\n",
            "\u001b[36m\u001b[1m[ \u001b[22m\u001b[39m\u001b[36m\u001b[1mInfo: \u001b[22m\u001b[39mInterior point LP: τ = -110.78673553, Status = Interior\n",
            "\u001b[36m\u001b[1m[ \u001b[22m\u001b[39m\u001b[36m\u001b[1mInfo: \u001b[22m\u001b[39mCell 12: New point not added, obj = 0.948207, min distance = 0.0, better = false\n",
            "\u001b[36m\u001b[1m[ \u001b[22m\u001b[39m\u001b[36m\u001b[1mInfo: \u001b[22m\u001b[39mInterior point LP: τ = -167.83753956, Status = Interior\n",
            "\u001b[36m\u001b[1m[ \u001b[22m\u001b[39m\u001b[36m\u001b[1mInfo: \u001b[22m\u001b[39mCell 13: New point not added, obj = 0.949861, min distance = 0.0, better = false\n",
            "\u001b[36m\u001b[1m[ \u001b[22m\u001b[39m\u001b[36m\u001b[1mInfo: \u001b[22m\u001b[39mInterior point LP: τ = -18.07937462, Status = Interior\n",
            "\u001b[36m\u001b[1m[ \u001b[22m\u001b[39m\u001b[36m\u001b[1mInfo: \u001b[22m\u001b[39mCell 14: New point not added, obj = 0.950607, min distance = 0.0, better = false\n"
          ]
        },
        {
          "output_type": "stream",
          "name": "stdout",
          "text": [
            "  New point found: f(x) = 0.949735\n"
          ]
        },
        {
          "output_type": "stream",
          "name": "stderr",
          "text": [
            "\u001b[36m\u001b[1m[ \u001b[22m\u001b[39m\u001b[36m\u001b[1mInfo: \u001b[22m\u001b[39mInterior point LP: τ = -26.2196611, Status = Interior\n"
          ]
        },
        {
          "output_type": "stream",
          "name": "stdout",
          "text": [
            "  New point found: f(x) = 0.956620\n"
          ]
        },
        {
          "output_type": "stream",
          "name": "stderr",
          "text": [
            "\u001b[36m\u001b[1m[ \u001b[22m\u001b[39m\u001b[36m\u001b[1mInfo: \u001b[22m\u001b[39mInterior point LP: τ = -3.69217283, Status = Interior\n"
          ]
        },
        {
          "output_type": "stream",
          "name": "stdout",
          "text": [
            "  New point found: f(x) = 0.949248\n"
          ]
        },
        {
          "output_type": "stream",
          "name": "stderr",
          "text": [
            "\u001b[36m\u001b[1m[ \u001b[22m\u001b[39m\u001b[36m\u001b[1mInfo: \u001b[22m\u001b[39mInterior point LP: τ = -6.58876845, Status = Interior\n"
          ]
        },
        {
          "output_type": "stream",
          "name": "stdout",
          "text": [
            "  New point found: f(x) = 0.949862\n"
          ]
        },
        {
          "output_type": "stream",
          "name": "stderr",
          "text": [
            "\u001b[36m\u001b[1m[ \u001b[22m\u001b[39m\u001b[36m\u001b[1mInfo: \u001b[22m\u001b[39mInterior point LP: τ = -8.64868311, Status = Interior\n"
          ]
        },
        {
          "output_type": "stream",
          "name": "stdout",
          "text": [
            "  New point found: f(x) = 0.949335\n"
          ]
        },
        {
          "output_type": "stream",
          "name": "stderr",
          "text": [
            "\u001b[36m\u001b[1m[ \u001b[22m\u001b[39m\u001b[36m\u001b[1mInfo: \u001b[22m\u001b[39mInterior point LP: τ = -33.21947649, Status = Interior\n",
            "\u001b[36m\u001b[1m[ \u001b[22m\u001b[39m\u001b[36m\u001b[1mInfo: \u001b[22m\u001b[39mInterior point LP: τ = -301.50071026, Status = Interior\n",
            "\u001b[36m\u001b[1m[ \u001b[22m\u001b[39m\u001b[36m\u001b[1mInfo: \u001b[22m\u001b[39mCell 20: New point not added, obj = 0.976303, min distance = 0.0, better = false\n"
          ]
        },
        {
          "output_type": "stream",
          "name": "stdout",
          "text": [
            "  New point found: f(x) = 0.948520\n"
          ]
        },
        {
          "output_type": "stream",
          "name": "stderr",
          "text": [
            "\u001b[36m\u001b[1m[ \u001b[22m\u001b[39m\u001b[36m\u001b[1mInfo: \u001b[22m\u001b[39mInterior point LP: τ = -38.9596109, Status = Interior\n"
          ]
        },
        {
          "output_type": "stream",
          "name": "stdout",
          "text": [
            "  New point found: f(x) = 1.000000\n"
          ]
        },
        {
          "output_type": "stream",
          "name": "stderr",
          "text": [
            "\u001b[36m\u001b[1m[ \u001b[22m\u001b[39m\u001b[36m\u001b[1mInfo: \u001b[22m\u001b[39mInterior point LP: τ = -281.74050533, Status = Interior\n",
            "\u001b[36m\u001b[1m[ \u001b[22m\u001b[39m\u001b[36m\u001b[1mInfo: \u001b[22m\u001b[39mInterior point LP: τ = -10.36274674, Status = Interior\n",
            "\u001b[36m\u001b[1m[ \u001b[22m\u001b[39m\u001b[36m\u001b[1mInfo: \u001b[22m\u001b[39mCell 23: New point not added, obj = 1.054472, min distance = 0.0, better = false\n"
          ]
        },
        {
          "output_type": "stream",
          "name": "stdout",
          "text": [
            "  New point found: f(x) = 0.949104\n"
          ]
        },
        {
          "output_type": "stream",
          "name": "stderr",
          "text": [
            "\u001b[36m\u001b[1m[ \u001b[22m\u001b[39m\u001b[36m\u001b[1mInfo: \u001b[22m\u001b[39mInterior point LP: τ = -6.1482164, Status = Interior\n"
          ]
        },
        {
          "output_type": "stream",
          "name": "stdout",
          "text": [
            "  New point found: f(x) = 0.949131\n"
          ]
        },
        {
          "output_type": "stream",
          "name": "stderr",
          "text": [
            "\u001b[36m\u001b[1m[ \u001b[22m\u001b[39m\u001b[36m\u001b[1mInfo: \u001b[22m\u001b[39mInterior point LP: τ = -13.67381005, Status = Interior\n",
            "\u001b[36m\u001b[1m[ \u001b[22m\u001b[39m\u001b[36m\u001b[1mInfo: \u001b[22m\u001b[39mInterior point LP: τ = -92.85582707, Status = Interior\n",
            "\u001b[36m\u001b[1m[ \u001b[22m\u001b[39m\u001b[36m\u001b[1mInfo: \u001b[22m\u001b[39mCell 26: New point not added, obj = 1.054472, min distance = 0.0, better = false\n",
            "\u001b[36m\u001b[1m[ \u001b[22m\u001b[39m\u001b[36m\u001b[1mInfo: \u001b[22m\u001b[39mInterior point LP: τ = -22.55645522, Status = Interior\n",
            "\u001b[36m\u001b[1m[ \u001b[22m\u001b[39m\u001b[36m\u001b[1mInfo: \u001b[22m\u001b[39mCell 27: New point not added, obj = 0.949717, min distance = 0.0, better = false\n"
          ]
        },
        {
          "output_type": "stream",
          "name": "stdout",
          "text": [
            "  New point found: f(x) = 0.948724\n"
          ]
        },
        {
          "output_type": "stream",
          "name": "stderr",
          "text": [
            "\u001b[36m\u001b[1m[ \u001b[22m\u001b[39m\u001b[36m\u001b[1mInfo: \u001b[22m\u001b[39mInterior point LP: τ = -41.30891368, Status = Interior\n",
            "\u001b[36m\u001b[1m[ \u001b[22m\u001b[39m\u001b[36m\u001b[1mInfo: \u001b[22m\u001b[39mInterior point LP: τ = -4.26212672, Status = Interior\n",
            "\u001b[36m\u001b[1m[ \u001b[22m\u001b[39m\u001b[36m\u001b[1mInfo: \u001b[22m\u001b[39mCell 29: New point not added, obj = 0.949377, min distance = 0.0, better = false\n"
          ]
        },
        {
          "output_type": "stream",
          "name": "stdout",
          "text": [
            "  New point found: f(x) = 0.950354\n"
          ]
        },
        {
          "output_type": "stream",
          "name": "stderr",
          "text": [
            "\u001b[36m\u001b[1m[ \u001b[22m\u001b[39m\u001b[36m\u001b[1mInfo: \u001b[22m\u001b[39mInterior point LP: τ = -9.58909971, Status = Interior\n"
          ]
        },
        {
          "output_type": "stream",
          "name": "stdout",
          "text": [
            "  New point found: f(x) = 0.949201\n"
          ]
        },
        {
          "output_type": "stream",
          "name": "stderr",
          "text": [
            "\u001b[36m\u001b[1m[ \u001b[22m\u001b[39m\u001b[36m\u001b[1mInfo: \u001b[22m\u001b[39mInterior point LP: τ = -11.43559081, Status = Interior\n"
          ]
        },
        {
          "output_type": "stream",
          "name": "stdout",
          "text": [
            "  New point found: f(x) = 0.954382\n"
          ]
        },
        {
          "output_type": "stream",
          "name": "stderr",
          "text": [
            "\u001b[36m\u001b[1m[ \u001b[22m\u001b[39m\u001b[36m\u001b[1mInfo: \u001b[22m\u001b[39mInterior point LP: τ = -113.69827692, Status = Interior\n"
          ]
        },
        {
          "output_type": "stream",
          "name": "stdout",
          "text": [
            "  New point found: f(x) = 1.000000\n",
            "  New point found: f(x) = 0.947951\n"
          ]
        },
        {
          "output_type": "stream",
          "name": "stderr",
          "text": [
            "\u001b[36m\u001b[1m[ \u001b[22m\u001b[39m\u001b[36m\u001b[1mInfo: \u001b[22m\u001b[39mInterior point LP: τ = -84.76932034, Status = Interior\n",
            "\u001b[36m\u001b[1m[ \u001b[22m\u001b[39m\u001b[36m\u001b[1mInfo: \u001b[22m\u001b[39mInterior point LP: τ = -25.48877899, Status = Interior\n"
          ]
        },
        {
          "output_type": "stream",
          "name": "stdout",
          "text": [
            "  New point found: f(x) = 0.949678\n"
          ]
        },
        {
          "output_type": "stream",
          "name": "stderr",
          "text": [
            "\u001b[36m\u001b[1m[ \u001b[22m\u001b[39m\u001b[36m\u001b[1mInfo: \u001b[22m\u001b[39mInterior point LP: τ = -229.35859177, Status = Interior\n"
          ]
        },
        {
          "output_type": "stream",
          "name": "stdout",
          "text": [
            "  New point found: f(x) = 0.949614\n"
          ]
        },
        {
          "output_type": "stream",
          "name": "stderr",
          "text": [
            "\u001b[36m\u001b[1m[ \u001b[22m\u001b[39m\u001b[36m\u001b[1mInfo: \u001b[22m\u001b[39mInterior point LP: τ = -22.06815163, Status = Interior\n"
          ]
        },
        {
          "output_type": "stream",
          "name": "stdout",
          "text": [
            "  New point found: f(x) = 0.951373\n"
          ]
        },
        {
          "output_type": "stream",
          "name": "stderr",
          "text": [
            "\u001b[36m\u001b[1m[ \u001b[22m\u001b[39m\u001b[36m\u001b[1mInfo: \u001b[22m\u001b[39mInterior point LP: τ = -19.08897996, Status = Interior\n"
          ]
        },
        {
          "output_type": "stream",
          "name": "stdout",
          "text": [
            "  New point found: f(x) = 0.950048\n"
          ]
        },
        {
          "output_type": "stream",
          "name": "stderr",
          "text": [
            "\u001b[36m\u001b[1m[ \u001b[22m\u001b[39m\u001b[36m\u001b[1mInfo: \u001b[22m\u001b[39mInterior point LP: τ = -11.83731546, Status = Interior\n"
          ]
        },
        {
          "output_type": "stream",
          "name": "stdout",
          "text": [
            "  New point found: f(x) = 0.949715\n"
          ]
        },
        {
          "output_type": "stream",
          "name": "stderr",
          "text": [
            "\u001b[36m\u001b[1m[ \u001b[22m\u001b[39m\u001b[36m\u001b[1mInfo: \u001b[22m\u001b[39mInterior point LP: τ = -10.80953182, Status = Interior\n",
            "\u001b[36m\u001b[1m[ \u001b[22m\u001b[39m\u001b[36m\u001b[1mInfo: \u001b[22m\u001b[39mInterior point LP: τ = -160.41499855, Status = Interior\n",
            "\u001b[36m\u001b[1m[ \u001b[22m\u001b[39m\u001b[36m\u001b[1mInfo: \u001b[22m\u001b[39mCell 40: New point not added, obj = 0.949188, min distance = 0.0, better = false\n"
          ]
        },
        {
          "output_type": "stream",
          "name": "stdout",
          "text": [
            "  New point found: f(x) = 0.949553\n"
          ]
        },
        {
          "output_type": "stream",
          "name": "stderr",
          "text": [
            "\u001b[36m\u001b[1m[ \u001b[22m\u001b[39m\u001b[36m\u001b[1mInfo: \u001b[22m\u001b[39mInterior point LP: τ = -69.23781104, Status = Interior\n"
          ]
        },
        {
          "output_type": "stream",
          "name": "stdout",
          "text": [
            "  New point found: f(x) = 0.950261\n"
          ]
        },
        {
          "output_type": "stream",
          "name": "stderr",
          "text": [
            "\u001b[36m\u001b[1m[ \u001b[22m\u001b[39m\u001b[36m\u001b[1mInfo: \u001b[22m\u001b[39mInterior point LP: τ = -58.01500214, Status = Interior\n"
          ]
        },
        {
          "output_type": "stream",
          "name": "stdout",
          "text": [
            "  New point found: f(x) = 0.950957\n"
          ]
        },
        {
          "output_type": "stream",
          "name": "stderr",
          "text": [
            "\u001b[36m\u001b[1m[ \u001b[22m\u001b[39m\u001b[36m\u001b[1mInfo: \u001b[22m\u001b[39mInterior point LP: τ = -603.28493418, Status = Interior\n",
            "\u001b[36m\u001b[1m[ \u001b[22m\u001b[39m\u001b[36m\u001b[1mInfo: \u001b[22m\u001b[39mInterior point LP: τ = -410.50138821, Status = Interior\n",
            "\u001b[36m\u001b[1m[ \u001b[22m\u001b[39m\u001b[36m\u001b[1mInfo: \u001b[22m\u001b[39mCell 44: New point not added, obj = 0.949513, min distance = 0.0, better = false\n",
            "\u001b[36m\u001b[1m[ \u001b[22m\u001b[39m\u001b[36m\u001b[1mInfo: \u001b[22m\u001b[39mInterior point LP: τ = -385.03670436, Status = Interior\n",
            "\u001b[36m\u001b[1m[ \u001b[22m\u001b[39m\u001b[36m\u001b[1mInfo: \u001b[22m\u001b[39mCell 45: New point not added, obj = 0.949198, min distance = 0.0, better = false\n"
          ]
        },
        {
          "output_type": "stream",
          "name": "stdout",
          "text": [
            "  New point found: f(x) = 0.949540\n"
          ]
        },
        {
          "output_type": "stream",
          "name": "stderr",
          "text": [
            "\u001b[36m\u001b[1m[ \u001b[22m\u001b[39m\u001b[36m\u001b[1mInfo: \u001b[22m\u001b[39mInterior point LP: τ = -316.92865125, Status = Interior\n"
          ]
        },
        {
          "output_type": "stream",
          "name": "stdout",
          "text": [
            "  New point found: f(x) = 0.992570\n"
          ]
        },
        {
          "output_type": "stream",
          "name": "stderr",
          "text": [
            "\u001b[36m\u001b[1m[ \u001b[22m\u001b[39m\u001b[36m\u001b[1mInfo: \u001b[22m\u001b[39mInterior point LP: τ = -596.91318038, Status = Interior\n"
          ]
        },
        {
          "output_type": "stream",
          "name": "stdout",
          "text": [
            "  New point found: f(x) = 0.952004\n"
          ]
        },
        {
          "output_type": "stream",
          "name": "stderr",
          "text": [
            "\u001b[36m\u001b[1m[ \u001b[22m\u001b[39m\u001b[36m\u001b[1mInfo: \u001b[22m\u001b[39mInterior point LP: τ = -35.27609863, Status = Interior\n"
          ]
        },
        {
          "output_type": "stream",
          "name": "stdout",
          "text": [
            "  New point found: f(x) = 0.949730\n"
          ]
        },
        {
          "output_type": "stream",
          "name": "stderr",
          "text": [
            "\u001b[36m\u001b[1m[ \u001b[22m\u001b[39m\u001b[36m\u001b[1mInfo: \u001b[22m\u001b[39mInterior point LP: τ = -85.44445042, Status = Interior\n"
          ]
        },
        {
          "output_type": "stream",
          "name": "stdout",
          "text": [
            "  New point found: f(x) = 0.959478\n"
          ]
        },
        {
          "output_type": "stream",
          "name": "stderr",
          "text": [
            "\u001b[36m\u001b[1m[ \u001b[22m\u001b[39m\u001b[36m\u001b[1mInfo: \u001b[22m\u001b[39mInterior point LP: τ = -13.13334555, Status = Interior\n"
          ]
        },
        {
          "output_type": "stream",
          "name": "stdout",
          "text": [
            "  New point found: f(x) = 0.949767\n"
          ]
        },
        {
          "output_type": "stream",
          "name": "stderr",
          "text": [
            "\u001b[36m\u001b[1m[ \u001b[22m\u001b[39m\u001b[36m\u001b[1mInfo: \u001b[22m\u001b[39mInterior point LP: τ = -17.29381617, Status = Interior\n"
          ]
        },
        {
          "output_type": "stream",
          "name": "stdout",
          "text": [
            "  New point found: f(x) = 0.949381\n",
            "  ✅ Level 8 completed in 139.4150 sec | Best objective so far: 0.947613\n"
          ]
        },
        {
          "output_type": "stream",
          "name": "stderr",
          "text": [
            "\u001b[36m\u001b[1m[ \u001b[22m\u001b[39m\u001b[36m\u001b[1mInfo: \u001b[22m\u001b[39mInterior point LP: τ = -34.79464187, Status = Interior\n"
          ]
        },
        {
          "output_type": "stream",
          "name": "stdout",
          "text": [
            "308.288156 seconds (19.35 M allocations: 181.074 GiB, 7.38% gc time, 0.43% compilation time: 13% of which was recompilation)\n",
            "\n",
            "✅ VDCG Best Objective: 0.947613\n",
            "✅ VDCG Total Time: 546.1385 sec, Total Points: 123\n",
            "📊 Running Standard CG...\n",
            "📊 Standard CG Objective: 0.962249\n",
            "🔍 Running Multi-start CG (time-limited)...\n",
            "  Seed 23: f(x) = 0.962249, Time so far: 3.2142 sec, Points: 1\n",
            "  Seed 24: f(x) = 0.951342, Time so far: 6.5886 sec, Points: 2\n",
            "  Seed 25: f(x) = 0.950568, Time so far: 9.4187 sec, Points: 3\n",
            "  Seed 26: f(x) = 0.949695, Time so far: 12.2819 sec, Points: 4\n",
            "  Seed 27: f(x) = 0.952048, Time so far: 15.2194 sec, Points: 5\n",
            "  Seed 28: f(x) = 0.949920, Time so far: 18.9020 sec, Points: 6\n",
            "  Seed 29: f(x) = 1.183626, Time so far: 21.6841 sec, Points: 7\n",
            "  Seed 30: f(x) = 0.995734, Time so far: 24.4655 sec, Points: 8\n",
            "  Seed 31: f(x) = 0.949906, Time so far: 27.2594 sec, Points: 9\n",
            "  Seed 32: f(x) = 0.948999, Time so far: 31.0704 sec, Points: 10\n",
            "  Seed 33: f(x) = 0.951541, Time so far: 33.8737 sec, Points: 11\n",
            "  Seed 34: f(x) = 0.969273, Time so far: 36.6754 sec, Points: 12\n",
            "  Seed 35: f(x) = 0.955492, Time so far: 39.4680 sec, Points: 13\n",
            "  Seed 36: f(x) = 0.952143, Time so far: 42.9625 sec, Points: 14\n",
            "  Seed 37: f(x) = 0.949989, Time so far: 46.0361 sec, Points: 15\n",
            "  Seed 38: f(x) = 0.952848, Time so far: 48.8155 sec, Points: 16\n",
            "  Seed 39: f(x) = 0.949837, Time so far: 51.6043 sec, Points: 17\n",
            "  Seed 40: f(x) = 0.949198, Time so far: 54.7064 sec, Points: 18\n",
            "  Seed 41: f(x) = 0.950557, Time so far: 58.1666 sec, Points: 19\n",
            "  Seed 42: f(x) = 0.954913, Time so far: 60.9636 sec, Points: 20\n",
            "  Seed 43: f(x) = 0.948207, Time so far: 63.8061 sec, Points: 21\n",
            "  Seed 44: f(x) = 0.951342, Time so far: 66.5916 sec, Points: 22\n",
            "  Seed 45: f(x) = 1.030052, Time so far: 70.3920 sec, Points: 23\n",
            "  Seed 46: f(x) = 0.949880, Time so far: 73.1909 sec, Points: 24\n",
            "  Seed 47: f(x) = 0.952922, Time so far: 75.9912 sec, Points: 25\n",
            "  Seed 48: f(x) = 0.952848, Time so far: 78.7926 sec, Points: 26\n",
            "  Seed 49: f(x) = 0.954711, Time so far: 82.5222 sec, Points: 27\n",
            "  Seed 50: f(x) = 0.952401, Time so far: 85.3200 sec, Points: 28\n",
            "  Seed 51: f(x) = 0.949839, Time so far: 88.1036 sec, Points: 29\n",
            "  Seed 52: f(x) = 1.183626, Time so far: 90.8544 sec, Points: 30\n",
            "  Seed 53: f(x) = 0.951393, Time so far: 94.1593 sec, Points: 31\n",
            "  Seed 54: f(x) = 0.950571, Time so far: 97.4797 sec, Points: 32\n",
            "  Seed 55: f(x) = 0.949837, Time so far: 100.2599 sec, Points: 33\n",
            "  Seed 56: f(x) = 0.952070, Time so far: 103.0525 sec, Points: 34\n",
            "  Seed 57: f(x) = 0.952959, Time so far: 106.0175 sec, Points: 35\n",
            "  Seed 58: f(x) = 0.949932, Time so far: 109.6856 sec, Points: 36\n",
            "  Seed 59: f(x) = 0.949952, Time so far: 112.5041 sec, Points: 37\n",
            "  Seed 60: f(x) = 0.953052, Time so far: 115.2939 sec, Points: 38\n",
            "  Seed 61: f(x) = 0.952312, Time so far: 118.0749 sec, Points: 39\n",
            "  Seed 62: f(x) = 0.949517, Time so far: 121.8722 sec, Points: 40\n",
            "  Seed 63: f(x) = 0.952588, Time so far: 124.6789 sec, Points: 41\n",
            "  Seed 64: f(x) = 0.955492, Time so far: 127.5139 sec, Points: 42\n",
            "  Seed 65: f(x) = 0.954723, Time so far: 130.3618 sec, Points: 43\n",
            "  Seed 66: f(x) = 0.951746, Time so far: 133.9774 sec, Points: 44\n",
            "  Seed 67: f(x) = 0.949935, Time so far: 136.9726 sec, Points: 45\n",
            "  Seed 68: f(x) = 0.949908, Time so far: 139.7565 sec, Points: 46\n",
            "  Seed 69: f(x) = 0.951842, Time so far: 142.5384 sec, Points: 47\n",
            "  Seed 70: f(x) = 0.950156, Time so far: 145.6786 sec, Points: 48\n",
            "  Seed 71: f(x) = 0.952715, Time so far: 149.0562 sec, Points: 49\n",
            "  Seed 72: f(x) = 0.950589, Time so far: 151.7905 sec, Points: 50\n",
            "  Seed 73: f(x) = 0.949946, Time so far: 154.5661 sec, Points: 51\n",
            "  Seed 74: f(x) = 0.950119, Time so far: 157.3181 sec, Points: 52\n",
            "  Seed 75: f(x) = 0.950044, Time so far: 161.1005 sec, Points: 53\n",
            "  Seed 76: f(x) = 0.992267, Time so far: 163.8763 sec, Points: 54\n",
            "  Seed 77: f(x) = 0.953184, Time so far: 166.6971 sec, Points: 55\n",
            "  Seed 78: f(x) = 0.949847, Time so far: 169.4644 sec, Points: 56\n",
            "  Seed 79: f(x) = 0.951935, Time so far: 173.1147 sec, Points: 57\n",
            "  Seed 80: f(x) = 0.949678, Time so far: 175.9659 sec, Points: 58\n",
            "  Seed 81: f(x) = 0.952137, Time so far: 178.7644 sec, Points: 59\n",
            "  Seed 82: f(x) = 0.956445, Time so far: 181.5619 sec, Points: 60\n",
            "  Seed 83: f(x) = 0.954307, Time so far: 184.8433 sec, Points: 61\n",
            "  Seed 84: f(x) = 0.949890, Time so far: 188.1369 sec, Points: 62\n",
            "  Seed 85: f(x) = 0.949920, Time so far: 190.9378 sec, Points: 63\n",
            "  Seed 86: f(x) = 0.977624, Time so far: 193.7173 sec, Points: 64\n",
            "  Seed 87: f(x) = 0.949920, Time so far: 196.6205 sec, Points: 65\n",
            "  Seed 88: f(x) = 0.951294, Time so far: 200.2968 sec, Points: 66\n",
            "  Seed 89: f(x) = 0.949989, Time so far: 203.0599 sec, Points: 67\n",
            "  Seed 90: f(x) = 0.951342, Time so far: 205.8159 sec, Points: 68\n",
            "  Seed 91: f(x) = 0.949188, Time so far: 209.0484 sec, Points: 69\n",
            "  Seed 92: f(x) = 0.962119, Time so far: 212.8282 sec, Points: 70\n",
            "  Seed 93: f(x) = 0.952959, Time so far: 215.6183 sec, Points: 71\n",
            "  Seed 94: f(x) = 0.969961, Time so far: 218.4207 sec, Points: 72\n",
            "  Seed 95: f(x) = 0.956295, Time so far: 221.1638 sec, Points: 73\n",
            "  Seed 96: f(x) = 0.950964, Time so far: 224.8631 sec, Points: 74\n",
            "  Seed 97: f(x) = 0.949928, Time so far: 227.7698 sec, Points: 75\n",
            "  Seed 98: f(x) = 0.949976, Time so far: 230.5378 sec, Points: 76\n",
            "  Seed 99: f(x) = 0.951541, Time so far: 233.3315 sec, Points: 77\n",
            "  Seed 100: f(x) = 0.951393, Time so far: 236.5197 sec, Points: 78\n",
            "  Seed 101: f(x) = 0.949910, Time so far: 239.8864 sec, Points: 79\n",
            "  Seed 102: f(x) = 0.949952, Time so far: 242.6716 sec, Points: 80\n",
            "  Seed 103: f(x) = 0.950952, Time so far: 245.4708 sec, Points: 81\n",
            "  Seed 104: f(x) = 0.962249, Time so far: 248.2332 sec, Points: 82\n",
            "  Seed 105: f(x) = 0.989076, Time so far: 252.0484 sec, Points: 83\n",
            "  Seed 106: f(x) = 0.949890, Time so far: 254.8592 sec, Points: 84\n",
            "  Seed 107: f(x) = 0.969961, Time so far: 257.6971 sec, Points: 85\n",
            "  Seed 108: f(x) = 0.949847, Time so far: 260.5001 sec, Points: 86\n",
            "  Seed 109: f(x) = 0.992267, Time so far: 264.2944 sec, Points: 87\n",
            "  Seed 110: f(x) = 0.953398, Time so far: 267.0784 sec, Points: 88\n",
            "  Seed 111: f(x) = 0.951290, Time so far: 269.8768 sec, Points: 89\n",
            "  Seed 112: f(x) = 0.949569, Time so far: 272.6539 sec, Points: 90\n",
            "  Seed 113: f(x) = 0.949803, Time so far: 276.0789 sec, Points: 91\n",
            "  Seed 114: f(x) = 0.950589, Time so far: 279.2097 sec, Points: 92\n",
            "  Seed 115: f(x) = 0.949803, Time so far: 281.9795 sec, Points: 93\n",
            "  Seed 116: f(x) = 0.949188, Time so far: 284.7795 sec, Points: 94\n",
            "  Seed 117: f(x) = 0.951120, Time so far: 287.8142 sec, Points: 95\n",
            "  Seed 118: f(x) = 0.949873, Time so far: 291.3591 sec, Points: 96\n",
            "  Seed 119: f(x) = 0.950357, Time so far: 294.1645 sec, Points: 97\n",
            "  Seed 120: f(x) = 0.949908, Time so far: 296.9574 sec, Points: 98\n",
            "  Seed 121: f(x) = 0.975384, Time so far: 299.7603 sec, Points: 99\n",
            "  Seed 122: f(x) = 0.949859, Time so far: 303.5398 sec, Points: 100\n",
            "  Seed 123: f(x) = 0.977624, Time so far: 306.3236 sec, Points: 101\n",
            "  Seed 124: f(x) = 0.949678, Time so far: 309.0993 sec, Points: 102\n",
            "  Seed 125: f(x) = 0.962119, Time so far: 311.9016 sec, Points: 103\n",
            "  Seed 126: f(x) = 0.954471, Time so far: 315.4992 sec, Points: 104\n",
            "  Seed 127: f(x) = 0.955830, Time so far: 318.4334 sec, Points: 105\n",
            "  Seed 128: f(x) = 0.950964, Time so far: 321.2180 sec, Points: 106\n",
            "  Seed 129: f(x) = 0.955067, Time so far: 323.9828 sec, Points: 107\n",
            "  Seed 130: f(x) = 0.949837, Time so far: 327.1529 sec, Points: 108\n",
            "  Seed 131: f(x) = 0.952715, Time so far: 330.5749 sec, Points: 109\n",
            "  Seed 132: f(x) = 0.951787, Time so far: 333.3305 sec, Points: 110\n",
            "  Seed 133: f(x) = 0.952848, Time so far: 336.1341 sec, Points: 111\n",
            "  Seed 134: f(x) = 0.972035, Time so far: 338.9347 sec, Points: 112\n",
            "  Seed 135: f(x) = 0.949960, Time so far: 342.7074 sec, Points: 113\n",
            "  Seed 136: f(x) = 1.054472, Time so far: 342.7965 sec, Points: 114\n",
            "  Seed 137: f(x) = 0.953053, Time so far: 345.6121 sec, Points: 115\n",
            "  Seed 138: f(x) = 0.950964, Time so far: 348.3887 sec, Points: 116\n",
            "  Seed 139: f(x) = 0.949672, Time so far: 351.1632 sec, Points: 117\n",
            "  Seed 140: f(x) = 0.950964, Time so far: 354.9308 sec, Points: 118\n",
            "  Seed 141: f(x) = 0.952973, Time so far: 357.7552 sec, Points: 119\n",
            "  Seed 142: f(x) = 1.301245, Time so far: 360.4963 sec, Points: 120\n",
            "  Seed 143: f(x) = 0.950156, Time so far: 363.2656 sec, Points: 121\n",
            "  Seed 144: f(x) = 0.956731, Time so far: 366.6692 sec, Points: 122\n",
            "  Seed 145: f(x) = 0.952121, Time so far: 369.8567 sec, Points: 123\n",
            "  Seed 146: f(x) = 0.955216, Time so far: 372.6610 sec, Points: 124\n",
            "  Seed 147: f(x) = 0.950642, Time so far: 375.4725 sec, Points: 125\n",
            "  Seed 148: f(x) = 0.951877, Time so far: 378.4133 sec, Points: 126\n",
            "  Seed 149: f(x) = 0.950111, Time so far: 382.0130 sec, Points: 127\n",
            "  Seed 150: f(x) = 0.995734, Time so far: 384.7559 sec, Points: 128\n",
            "  Seed 151: f(x) = 0.950431, Time so far: 387.5216 sec, Points: 129\n",
            "  Seed 152: f(x) = 0.954790, Time so far: 390.3188 sec, Points: 130\n",
            "  Seed 153: f(x) = 0.949833, Time so far: 394.0848 sec, Points: 131\n",
            "  Seed 154: f(x) = 0.955830, Time so far: 396.8406 sec, Points: 132\n",
            "  Seed 155: f(x) = 0.992267, Time so far: 399.6269 sec, Points: 133\n",
            "  Seed 156: f(x) = 0.992267, Time so far: 402.3787 sec, Points: 134\n",
            "  Seed 157: f(x) = 0.953223, Time so far: 405.9036 sec, Points: 135\n",
            "  Seed 158: f(x) = 0.949778, Time so far: 408.9400 sec, Points: 136\n",
            "  Seed 159: f(x) = 0.949960, Time so far: 411.7049 sec, Points: 137\n",
            "  Seed 160: f(x) = 0.950952, Time so far: 414.4858 sec, Points: 138\n",
            "  Seed 161: f(x) = 0.992267, Time so far: 417.5287 sec, Points: 139\n",
            "  Seed 162: f(x) = 0.955492, Time so far: 421.0161 sec, Points: 140\n",
            "  Seed 163: f(x) = 0.951955, Time so far: 423.7870 sec, Points: 141\n",
            "  Seed 164: f(x) = 0.950007, Time so far: 426.5457 sec, Points: 142\n",
            "  Seed 165: f(x) = 0.949887, Time so far: 429.3440 sec, Points: 143\n",
            "  Seed 166: f(x) = 0.957245, Time so far: 433.1440 sec, Points: 144\n",
            "  Seed 167: f(x) = 0.953184, Time so far: 435.9556 sec, Points: 145\n",
            "  Seed 168: f(x) = 0.949910, Time so far: 438.7156 sec, Points: 146\n",
            "  Seed 169: f(x) = 1.004588, Time so far: 441.4716 sec, Points: 147\n",
            "  Seed 170: f(x) = 0.950413, Time so far: 445.0387 sec, Points: 148\n",
            "  Seed 171: f(x) = 0.950568, Time so far: 448.0035 sec, Points: 149\n",
            "  Seed 172: f(x) = 0.950413, Time so far: 450.7380 sec, Points: 150\n",
            "  Seed 173: f(x) = 0.960948, Time so far: 453.5098 sec, Points: 151\n",
            "  Seed 174: f(x) = 0.969961, Time so far: 456.6718 sec, Points: 152\n",
            "  Seed 175: f(x) = 0.951643, Time so far: 460.0677 sec, Points: 153\n",
            "  Seed 176: f(x) = 0.949778, Time so far: 462.8101 sec, Points: 154\n",
            "  Seed 177: f(x) = 0.951541, Time so far: 465.5896 sec, Points: 155\n",
            "  Seed 178: f(x) = 0.951589, Time so far: 468.3215 sec, Points: 156\n",
            "  Seed 179: f(x) = 0.951131, Time so far: 472.0900 sec, Points: 157\n",
            "  Seed 180: f(x) = 0.949890, Time so far: 474.8429 sec, Points: 158\n",
            "  Seed 181: f(x) = 0.952959, Time so far: 477.6156 sec, Points: 159\n",
            "  Seed 182: f(x) = 0.956295, Time so far: 480.3679 sec, Points: 160\n",
            "  Seed 183: f(x) = 0.952048, Time so far: 483.9246 sec, Points: 161\n",
            "  Seed 184: f(x) = 0.949913, Time so far: 486.8706 sec, Points: 162\n",
            "  Seed 185: f(x) = 0.954621, Time so far: 489.6615 sec, Points: 163\n",
            "  Seed 186: f(x) = 0.952588, Time so far: 492.4361 sec, Points: 164\n",
            "  Seed 187: f(x) = 0.949920, Time so far: 495.5902 sec, Points: 165\n",
            "  Seed 188: f(x) = 0.949672, Time so far: 498.9757 sec, Points: 166\n",
            "  Seed 189: f(x) = 0.950557, Time so far: 501.7508 sec, Points: 167\n",
            "  Seed 190: f(x) = 0.950756, Time so far: 504.5121 sec, Points: 168\n",
            "  Seed 191: f(x) = 0.952788, Time so far: 507.2709 sec, Points: 169\n",
            "  Seed 192: f(x) = 0.952973, Time so far: 511.0114 sec, Points: 170\n",
            "  Seed 193: f(x) = 0.952066, Time so far: 513.7537 sec, Points: 171\n",
            "  Seed 194: f(x) = 0.950509, Time so far: 516.5077 sec, Points: 172\n",
            "  Seed 195: f(x) = 0.953951, Time so far: 519.2828 sec, Points: 173\n",
            "  Seed 196: f(x) = 0.950756, Time so far: 522.9145 sec, Points: 174\n",
            "  Seed 197: f(x) = 0.952401, Time so far: 525.8219 sec, Points: 175\n",
            "  Seed 198: f(x) = 0.951594, Time so far: 528.5975 sec, Points: 176\n",
            "  Seed 199: f(x) = 0.949908, Time so far: 531.3529 sec, Points: 177\n",
            "  Seed 200: f(x) = 0.950557, Time so far: 534.5090 sec, Points: 178\n",
            "  Seed 201: f(x) = 0.952959, Time so far: 537.8519 sec, Points: 179\n",
            "  Seed 202: f(x) = 0.949860, Time so far: 540.6134 sec, Points: 180\n",
            "  Seed 203: f(x) = 0.954349, Time so far: 543.3811 sec, Points: 181\n",
            "  Seed 204: f(x) = 0.949918, Time so far: 546.1150 sec, Points: 182\n",
            "  Seed 205: f(x) = 0.949678, Time so far: 549.9109 sec, Points: 183\n",
            "🔍 Multi-start CG Best: 0.948207 (Time: 549.9109 sec, Points: 183)\n",
            "\n",
            "📋 Summary of Results for Sigmoid Regression (a7a)\n",
            "┌──────────────────────┬─────────────────┬──────────────┬─────────────────┐\n",
            "│ Method               │ Objective Value │ Runtime (sec) │ Points Evaluated │\n",
            "├──────────────────────┼─────────────────┼──────────────┼─────────────────┤\n",
            "│ VDCG                 │ 0.947613        │ 546.1385     │ 123             │\n",
            "│ Standard CG          │ 0.962249        │ 2.2073       │ 1               │\n",
            "│ Multi-start CG       │ 0.948207        │ 549.9109     │ 183             │\n",
            "└──────────────────────┴─────────────────┴──────────────┴─────────────────┘\n"
          ]
        }
      ],
      "source": [
        "using JuMP, HiGHS    #a7a\n",
        "using LinearAlgebra\n",
        "using Zygote\n",
        "using LIBSVMdata\n",
        "using Printf\n",
        "using Random\n",
        "using Statistics\n",
        "using SparseArrays\n",
        "\n",
        "# Set random seed for reproducibility\n",
        "Random.seed!(23)\n",
        "\n",
        "# ================== Configuration ================== #\n",
        "const MAX_LEVELS = 8\n",
        "const TOL_UNIQUE = 1e-3\n",
        "const TOL_CONVERGENCE = 1e-6\n",
        "const TAU_L1 = 50.0  # L1-norm ball radius\n",
        "const tau = 50.0     # L1-norm ball radius\n",
        "\n",
        "# ================== Global Data ================== #\n",
        "A = spzeros(1, 1)\n",
        "y = zeros(1)\n",
        "n = 1\n",
        "\n",
        "# Sigmoid function\n",
        "sigmoid(z) = 1 / (1 + exp(-z))\n",
        "\n",
        "# Objective and gradient\n",
        "f(x) = mean((y .- sigmoid.(A * x)).^2)\n",
        "grad_f(x) = Zygote.gradient(f, x)[1]\n",
        "\n",
        "# Linear Minimization Oracle for the L1-ball ||x||_1 ≤ τ\n",
        "function lmo(g)\n",
        "    i = argmax(abs.(g))\n",
        "    v = zeros(n)\n",
        "    v[i] = -TAU_L1 * sign(g[i])\n",
        "    return v\n",
        "end\n",
        "\n",
        "# Check if a point is new\n",
        "function is_new_point(x, points, tol=TOL_UNIQUE)\n",
        "    all(norm(x - p) >= tol for p in points)\n",
        "end\n",
        "\n",
        "# ================== Adaptive Frank-Wolfe Algorithm ================== #\n",
        "function conditional_gradient_adjustable_scaling(f, grad_f, lmo, x0; max_iter=1000, epsilon=TOL_CONVERGENCE, delta=1e-10, beta=2, gamma=0.5)\n",
        "    x_prev = copy(x0)\n",
        "    x_curr = copy(x0)\n",
        "    values = [f(x_curr)]\n",
        "    times = [0.0]\n",
        "    gaps = Float64[]\n",
        "    L_ks = Float64[]\n",
        "    steps = Float64[]\n",
        "    backtrack_counts = Int[]\n",
        "    gamma_history = [gamma]\n",
        "    k = 0\n",
        "    prev_grad = grad_f(x_prev)\n",
        "    current_f = f(x_curr)\n",
        "    recent_backtracks = Int[]\n",
        "\n",
        "    while k < max_iter\n",
        "        start = time()\n",
        "        current_grad = grad_f(x_curr)\n",
        "        v = lmo(current_grad)\n",
        "        d = v - x_curr\n",
        "        normd2 = dot(d, d)\n",
        "        gap = -dot(current_grad, d)\n",
        "\n",
        "        if gap <= epsilon\n",
        "            push!(times, time() - start)\n",
        "            push!(gaps, gap)\n",
        "            break\n",
        "        end\n",
        "\n",
        "        if k == 0\n",
        "            d0 = ones(length(x0)) / sqrt(length(x0))\n",
        "            x_temp = x0 + 1e-3 * d0\n",
        "            L_k = gamma * (norm(grad_f(x0) - grad_f(x_temp)) / (1e-3 * norm(d0)) + delta)\n",
        "        else\n",
        "            grad_diff = norm(current_grad - prev_grad)\n",
        "            x_diff = norm(x_curr - x_prev)\n",
        "            L_k = gamma * (grad_diff / x_diff + delta)\n",
        "        end\n",
        "        Lknormd2 = L_k * normd2\n",
        "        t_k = min(gap / Lknormd2, 1.0)\n",
        "        i = 0\n",
        "        while true\n",
        "            x_new = x_curr + t_k * d\n",
        "            new_f = f(x_new)\n",
        "            if current_f - new_f >= t_k * gap - (Lknormd2 / 2) * t_k^2\n",
        "                x_prev = copy(x_curr)\n",
        "                x_curr = x_new\n",
        "                push!(backtrack_counts, i)\n",
        "                push!(recent_backtracks, i)\n",
        "                break\n",
        "            else\n",
        "                L_k *= beta\n",
        "                Lknormd2 = L_k * normd2\n",
        "                t_k = min(gap / Lknormd2, 1.0)\n",
        "                i += 1\n",
        "            end\n",
        "        end\n",
        "\n",
        "        if k % 10 == 0 && k > 0\n",
        "            total_backtracks = sum(recent_backtracks)\n",
        "            if total_backtracks == 0\n",
        "                gamma = max(1e-4, gamma * 0.9)\n",
        "            elseif total_backtracks > 10\n",
        "                gamma = min(1.0, gamma * 1.1)\n",
        "            end\n",
        "            push!(gamma_history, gamma)\n",
        "            recent_backtracks = Int[]\n",
        "        elseif k % 10 == 0\n",
        "            push!(gamma_history, gamma)\n",
        "            recent_backtracks = Int[]\n",
        "        else\n",
        "            push!(recent_backtracks, i)\n",
        "        end\n",
        "        k += 1\n",
        "        iteration_time = time() - start\n",
        "\n",
        "        current_f = f(x_curr)\n",
        "        prev_grad = current_grad\n",
        "        push!(gaps, gap)\n",
        "        push!(steps, t_k)\n",
        "        push!(values, current_f)\n",
        "        push!(times, iteration_time)\n",
        "        push!(L_ks, L_k)\n",
        "\n",
        "        if k % 100 == 0\n",
        "            # println(\"k=$k, gap=$(round(gap, digits=4)), t_k=$(round(t_k, digits=4)), L_k=$(round(L_ks[end], digits=6)), Time=$(round(times[end], digits=4)), f=$(round(values[end], digits=6))\")\n",
        "        end\n",
        "    end\n",
        "    total_time = sum(times)\n",
        "    return (x_curr, values, times, gaps, L_ks, backtrack_counts, steps, gamma_history, total_time)\n",
        "end\n",
        "\n",
        "# ================== Interior Point via Slack (Paper's Method) ================== #\n",
        "function find_interior_point(p_i, sites)\n",
        "    model = Model(HiGHS.Optimizer)\n",
        "    set_silent(model)\n",
        "    @variable(model, xp[1:n] >= 0)\n",
        "    @variable(model, xn[1:n] >= 0)\n",
        "    @variable(model, τ)\n",
        "\n",
        "    # L1 constraint: ||x||_1 ≤ TAU_L1\n",
        "    @constraint(model, sum(xp) + sum(xn) <= TAU_L1)\n",
        "\n",
        "    # Reconstruct x = xp - xn\n",
        "    x = xp - xn\n",
        "\n",
        "    # Voronoi cell constraints with slack\n",
        "    for j in 1:length(sites)\n",
        "        if sites[j] ≈ p_i\n",
        "            continue\n",
        "        end\n",
        "        p_j = sites[j]\n",
        "        a = p_j - p_i\n",
        "        b_val = 0.5 * dot(p_j + p_i, p_j - p_i)\n",
        "        @constraint(model, dot(a, x) <= b_val + τ)\n",
        "    end\n",
        "    @objective(model, Min, τ)\n",
        "    optimize!(model)\n",
        "    if termination_status(model) == OPTIMAL\n",
        "        x_sol = value.(xp) - value.(xn)\n",
        "        τ_sol = value(τ)\n",
        "        @info \"Interior point LP: τ = $(round(τ_sol, digits=8)), Status = $(τ_sol < -1e-8 ? \"Interior\" : \"Boundary\")\"\n",
        "        return τ_sol < -1e-8 ? (x_sol, \"Interior\") : (x_sol, \"Boundary\")\n",
        "    else\n",
        "        @warn \"Interior point LP failed: Infeasible or unbounded\"\n",
        "        if length(sites) == 1\n",
        "            @info \"Returning barycenter as fallback\"\n",
        "            return zeros(n), \"Interior\"\n",
        "        end\n",
        "        return nothing, \"Infeasible\"\n",
        "    end\n",
        "end\n",
        "\n",
        "# ================== Voronoi Partitioning ================== #\n",
        "function create_voronoi_partitions(sites)\n",
        "    base_A = vcat(\n",
        "        Matrix{Float64}(I, n, n),      # x ≥ -TAU_L1\n",
        "        -Matrix{Float64}(I, n, n)      # x ≤ TAU_L1\n",
        "    )\n",
        "    base_b = vcat(\n",
        "        TAU_L1 * ones(n),\n",
        "        TAU_L1 * ones(n)\n",
        "    )\n",
        "    partitions = []\n",
        "    K = length(sites)\n",
        "    if K == 1\n",
        "        push!(partitions, (base_A, base_b))\n",
        "        return partitions\n",
        "    end\n",
        "    for i in 1:K\n",
        "        A_i = copy(base_A)\n",
        "        b_i = copy(base_b)\n",
        "        p_i = sites[i]\n",
        "        for j in 1:K\n",
        "            i == j && continue\n",
        "            p_j = sites[j]\n",
        "            a = (p_j - p_i)'\n",
        "            b_val = 0.5 * dot(p_j + p_i, p_j - p_i)\n",
        "            A_i = vcat(A_i, a)\n",
        "            b_i = vcat(b_i, b_val)\n",
        "        end\n",
        "        push!(partitions, (A_i, b_i))\n",
        "    end\n",
        "    return partitions\n",
        "end\n",
        "\n",
        "# ================== Main VDCG Algorithm ================== #\n",
        "function voronoi_conditional_gradient(f, grad_f, lmo, x0)\n",
        "    x_init, _, cg_times, _, _, _, _, _, init_time = conditional_gradient_adjustable_scaling(f, grad_f, lmo, x0)\n",
        "    total_time = init_time\n",
        "    sites = [x0, x_init]\n",
        "    num_points = 1\n",
        "    archive = [(x_init, f(x_init))]\n",
        "    best_so_far = f(x_init)\n",
        "    @printf(\"Initial solution: f(x) = %.6f\\n\", f(x_init))\n",
        "    @info \"Distance between x0 and x_init: $(norm(x0 - x_init))\"\n",
        "\n",
        "    for level in 1:MAX_LEVELS\n",
        "        start_time = time()\n",
        "        @printf(\"→ VDCG Level %d: %d sites, Current best f(x) = %.6f\\n\", level, length(sites), best_so_far)\n",
        "        partitions = create_voronoi_partitions(sites)\n",
        "        new_sites = []\n",
        "        for (i, (A_cell, b_cell)) in enumerate(partitions)\n",
        "            x_inner, status = find_interior_point(sites[i], sites)\n",
        "            if x_inner === nothing || status == \"Infeasible\"\n",
        "                @info \"Skipping cell $i: $status\"\n",
        "                continue\n",
        "            end\n",
        "            x_stat, _, cg_times, _, _, _, _, _, cg_time = conditional_gradient_adjustable_scaling(f, grad_f, lmo, x_inner)\n",
        "            total_time += cg_time\n",
        "            num_points += 1\n",
        "            obj = f(x_stat)\n",
        "            all_points = [s for (s, _) in archive]\n",
        "            if is_new_point(x_stat, all_points) && is_new_point(x_stat, new_sites)\n",
        "                push!(new_sites, x_stat)\n",
        "                push!(archive, (x_stat, obj))\n",
        "                @printf(\"  New point found: f(x) = %.6f\\n\", obj)\n",
        "                best_so_far = min(best_so_far, obj)\n",
        "            else\n",
        "                min_dist = minimum(norm(x_stat - p) for p in all_points)\n",
        "                @info \"Cell $i: New point not added, obj = $(round(obj, digits=6)), min distance = $(round(min_dist, digits=6)), better = $(obj < best_so_far)\"\n",
        "            end\n",
        "        end\n",
        "        elapsed = time() - start_time\n",
        "        total_time += elapsed\n",
        "        if isempty(new_sites)\n",
        "            @printf(\"→ No new points found. Terminating at level %d.\\n\", level)\n",
        "            @printf(\"  🕒 Level %d runtime: %.4f sec | Best objective: %.6f\\n\", level, elapsed, best_so_far)\n",
        "            break\n",
        "        else\n",
        "            append!(sites, new_sites)\n",
        "            @printf(\"  ✅ Level %d completed in %.4f sec | Best objective so far: %.6f\\n\", level, elapsed, best_so_far)\n",
        "        end\n",
        "    end\n",
        "    best_idx = argmin([obj for (_, obj) in archive])\n",
        "    x_best, f_best = archive[best_idx]\n",
        "    return x_best, f_best, archive, sites, total_time, num_points\n",
        "end\n",
        "\n",
        "# ================== Load Problem Data ================== #\n",
        "function load_libsvm_data()\n",
        "    data_name = \"a7a\"\n",
        "    @info \"Loading LIBSVM dataset '$data_name'...\"\n",
        "    global A, y, n\n",
        "    A_loaded, y_loaded = load_dataset(data_name, dense=false, replace=false, verbose=true)\n",
        "    A = A_loaded\n",
        "    y = Float64.(y_loaded)\n",
        "    m, n = size(A)\n",
        "    # Map labels: {-1,1} → {0,1} for sigmoid output (optional)\n",
        "    # y = (y .+ 1) ./ 2\n",
        "    Random.seed!(23)\n",
        "    V = vcat(tau * I(n), -tau * I(n))\n",
        "    global x0 = V[rand(1:size(V, 1)), :]\n",
        "    @info \"Data loaded: $m samples, $n features\"\n",
        "    @info \"Initial point x0 set on L1-ball boundary\"\n",
        "end\n",
        "\n",
        "# ================== Run Experiment ================== #\n",
        "function main()\n",
        "    # Load data for sigmoid regression\n",
        "    load_libsvm_data()\n",
        "\n",
        "    # Run VDCG\n",
        "    @printf(\"\\n🚀 Starting VDCG...\\n\")\n",
        "    @time x_vdcg, f_vdcg, archive, sites, vdcg_time, vdcg_points = voronoi_conditional_gradient(f, grad_f, lmo, x0)\n",
        "    @printf(\"\\n✅ VDCG Best Objective: %.6f\\n\", f_vdcg)\n",
        "    @printf(\"✅ VDCG Total Time: %.4f sec, Total Points: %d\\n\", vdcg_time, vdcg_points)\n",
        "\n",
        "    # Standard CG\n",
        "    @printf(\"📊 Running Standard CG...\\n\")\n",
        "    x_std, _, _, _, _, _, _, _, std_time = conditional_gradient_adjustable_scaling(f, grad_f, lmo, x0)\n",
        "    f_std = f(x_std)\n",
        "    @printf(\"📊 Standard CG Objective: %.6f\\n\", f_std)\n",
        "\n",
        "    # Multi-start CG (limited by VDCG time)\n",
        "    @printf(\"🔍 Running Multi-start CG (time-limited)...\\n\")\n",
        "    f_multi = Inf\n",
        "    total_multi_time = 0.0\n",
        "    points_evaluated = 0\n",
        "    seed = 23\n",
        "    while total_multi_time < vdcg_time\n",
        "        Random.seed!(seed)\n",
        "        start = time()\n",
        "\n",
        "        # For the first iteration (seed 23), use the same x0 as standard CG\n",
        "        if seed == 23\n",
        "            x_rand = copy(x0)\n",
        "        else\n",
        "            V = vcat(tau * I(n), -tau * I(n))\n",
        "            x_rand = V[rand(1:size(V, 1)), :]\n",
        "        end\n",
        "\n",
        "        x, _, _, _, _, _, _, _, cg_time = conditional_gradient_adjustable_scaling(f, grad_f, lmo, x_rand)\n",
        "        total_multi_time += time() - start\n",
        "        points_evaluated += 1\n",
        "        f_current = f(x)\n",
        "        f_multi = min(f_multi, f_current)\n",
        "\n",
        "        @printf(\"  Seed %d: f(x) = %.6f, Time so far: %.4f sec, Points: %d\\n\", seed, f_current, total_multi_time, points_evaluated)\n",
        "        seed += 1\n",
        "    end\n",
        "    @printf(\"🔍 Multi-start CG Best: %.6f (Time: %.4f sec, Points: %d)\\n\", f_multi, total_multi_time, points_evaluated)\n",
        "\n",
        "    # Summary Table\n",
        "    @printf(\"\\n📋 Summary of Results for Sigmoid Regression (a7a)\\n\")\n",
        "    @printf(\"┌──────────────────────┬─────────────────┬──────────────┬─────────────────┐\\n\")\n",
        "    @printf(\"│ %-20s │ %-15s │ %-12s │ %-15s │\\n\", \"Method\", \"Objective Value\", \"Runtime (sec)\", \"Points Evaluated\")\n",
        "    @printf(\"├──────────────────────┼─────────────────┼──────────────┼─────────────────┤\\n\")\n",
        "    @printf(\"│ %-20s │ %-15.6f │ %-12.4f │ %-15d │\\n\", \"VDCG\", f_vdcg, vdcg_time, vdcg_points)\n",
        "    @printf(\"│ %-20s │ %-15.6f │ %-12.4f │ %-15d │\\n\", \"Standard CG\", f_std, std_time, 1)\n",
        "    @printf(\"│ %-20s │ %-15.6f │ %-12.4f │ %-15d │\\n\", \"Multi-start CG\", f_multi, total_multi_time, points_evaluated)\n",
        "    @printf(\"└──────────────────────┴─────────────────┴──────────────┴─────────────────┘\\n\")\n",
        "end\n",
        "\n",
        "# Run everything\n",
        "main()"
      ]
    },
    {
      "cell_type": "code",
      "execution_count": 5,
      "metadata": {
        "colab": {
          "base_uri": "https://localhost:8080/"
        },
        "id": "zt5xZtRkdIiX",
        "outputId": "786d2686-5a4f-4225-a6b5-cc1bdc4a48e6"
      },
      "outputs": [
        {
          "output_type": "stream",
          "name": "stderr",
          "text": [
            "\u001b[36m\u001b[1m[ \u001b[22m\u001b[39m\u001b[36m\u001b[1mInfo: \u001b[22m\u001b[39mLoading LIBSVM dataset 'a8a'...\n"
          ]
        },
        {
          "output_type": "stream",
          "name": "stdout",
          "text": [
            "Downloading the dataset a8a...\n"
          ]
        },
        {
          "output_type": "stream",
          "name": "stderr",
          "text": [
            "* Couldn't find host www.csie.ntu.edu.tw in the .netrc file; using defaults\n",
            "* Host www.csie.ntu.edu.tw:443 was resolved.\n",
            "* IPv6: (none)\n",
            "* IPv4: 140.112.30.26\n",
            "*   Trying 140.112.30.26:443...\n",
            "* Connected to www.csie.ntu.edu.tw (140.112.30.26) port 443\n",
            "* mbedTLS: Connecting to www.csie.ntu.edu.tw:443\n",
            "* mbedTLS: Set min SSL version to TLS 1.0\n",
            "* ALPN: curl offers h2,http/1.1\n",
            "* mbedTLS: Handshake complete, cipher is TLS-ECDHE-RSA-WITH-AES-128-GCM-SHA256\n",
            "* Dumping cert info: * cert. version     : 3\n",
            "* serial number     : 47:E8:00:00:00:07:87:FE:49:35:DC:01:F3:CD:23:5B\n",
            "* issuer name       : C=TW, O=TAIWAN-CA, CN=TWCA Secure SSL Certification Authority\n",
            "* subject name      : C=TW, ST=Taiwan, L=Taipei, O=National Taiwan University, CN=*.csie.ntu.edu.tw\n",
            "* issued  on        : 2024-10-16 09:35:59\n",
            "* expires on        : 2025-11-03 15:59:59\n",
            "* signed using      : RSA with SHA-256\n",
            "* RSA key size      : 2048 bits\n",
            "* basic constraints : CA=false\n",
            "* subject alt name  :\n",
            "*     dNSName : *.csie.ntu.edu.tw\n",
            "*     dNSName : csie.ntu.edu.tw\n",
            "* key usage         : Digital Signature, Key Encipherment\n",
            "* ext key usage     : TLS Web Server Authentication, TLS Web Client Authentication\n",
            "* certificate policies : ???, ???\n",
            "\n",
            "* ALPN: server did not agree on a protocol. Uses default.\n",
            "* SSL connected\n",
            "* using HTTP/1.x\n",
            "> GET /~cjlin/libsvmtools/datasets/binary/a8a HTTP/1.1\n",
            "Host: www.csie.ntu.edu.tw\n",
            "Accept: */*\n",
            "User-Agent: curl/8.6.0 julia/1.11\n",
            "\n",
            "< HTTP/1.1 200 OK\n",
            "< Date: Sun, 31 Aug 2025 05:54:03 GMT\n",
            "< Server: Apache/2.4.57 (Debian)\n",
            "< Strict-Transport-Security: max-age=31536000; includeSubDomains\n",
            "< Last-Modified: Wed, 08 Jun 2005 06:29:24 GMT\n",
            "< ETag: \"18c866-3f9020ed19900\"\n",
            "< Accept-Ranges: bytes\n",
            "< Content-Length: 1624166\n",
            "< \n"
          ]
        },
        {
          "output_type": "stream",
          "name": "stdout",
          "text": [
            "Loading the dataset...\n"
          ]
        },
        {
          "output_type": "stream",
          "name": "stderr",
          "text": [
            "* Connection #0 to host www.csie.ntu.edu.tw left intact\n",
            "0.0%┣                                            ┫ 0/22.7k [00:00<00:00, -0s/it]\n",
            "9.6%┣███▊                                  ┫ 2.2k/22.7k [00:00<00:00, 43.5kit/s]\n",
            "14.1%┣█████▎                               ┫ 3.2k/22.7k [00:00<00:01, 31.8kit/s]\n",
            "24.1%┣█████████                            ┫ 5.5k/22.7k [00:00<00:00, 36.3kit/s]\n",
            "30.9%┣███████████▍                         ┫ 7.0k/22.7k [00:00<00:00, 34.6kit/s]\n",
            "40.9%┣███████████████▏                     ┫ 9.3k/22.7k [00:00<00:00, 36.7kit/s]\n",
            "50.4%┣██████████████████▏                 ┫ 11.4k/22.7k [00:00<00:00, 37.7kit/s]\n",
            "58.3%┣█████████████████████               ┫ 13.2k/22.7k [00:00<00:00, 35.5kit/s]\n",
            "68.2%┣████████████████████████▌           ┫ 15.5k/22.7k [00:00<00:00, 36.6kit/s]\n",
            "78.0%┣████████████████████████████        ┫ 17.7k/22.7k [00:00<00:00, 37.4kit/s]\n",
            "88.2%┣███████████████████████████████▊    ┫ 20.0k/22.7k [00:01<00:00, 38.2kit/s]\n",
            "\u001b[1A"
          ]
        },
        {
          "output_type": "stream",
          "name": "stdout",
          "text": [
            "\n",
            "🚀 Starting VDCG...\n",
            "Initial solution: f(x) = 0.963102\n"
          ]
        },
        {
          "output_type": "stream",
          "name": "stderr",
          "text": [
            "\r95.7%┣██████████████████████████████████▍ ┫ 21.7k/22.7k [00:01<00:00, 37.9kit/s]\n",
            "\u001b[1A\r100.0%┣███████████████████████████████████┫ 22.7k/22.7k [00:01<00:00, 38.0kit/s]\n",
            "\u001b[1A\r100.0%┣███████████████████████████████████┫ 22.7k/22.7k [00:01<00:00, 38.0kit/s]\n",
            "\u001b[36m\u001b[1m[ \u001b[22m\u001b[39m\u001b[36m\u001b[1mInfo: \u001b[22m\u001b[39mData loaded: 22696 samples, 123 features\n",
            "\u001b[36m\u001b[1m[ \u001b[22m\u001b[39m\u001b[36m\u001b[1mInfo: \u001b[22m\u001b[39mInitial point x0 set on L1-ball boundary\n"
          ]
        },
        {
          "output_type": "stream",
          "name": "stdout",
          "text": [
            "→ VDCG Level 1: 2 sites, Current best f(x) = 0.963102\n"
          ]
        },
        {
          "output_type": "stream",
          "name": "stderr",
          "text": [
            "\u001b[36m\u001b[1m[ \u001b[22m\u001b[39m\u001b[36m\u001b[1mInfo: \u001b[22m\u001b[39mDistance between x0 and x_init: 34.48580859134436\n",
            "\u001b[36m\u001b[1m[ \u001b[22m\u001b[39m\u001b[36m\u001b[1mInfo: \u001b[22m\u001b[39mInterior point LP: τ = -594.6354971, Status = Interior\n",
            "\u001b[36m\u001b[1m[ \u001b[22m\u001b[39m\u001b[36m\u001b[1mInfo: \u001b[22m\u001b[39mCell 1: New point not added, obj = 0.963102, min distance = 0.0, better = false\n"
          ]
        },
        {
          "output_type": "stream",
          "name": "stdout",
          "text": [
            "  New point found: f(x) = 1.004099\n",
            "  ✅ Level 1 completed in 9.4377 sec | Best objective so far: 0.963102\n"
          ]
        },
        {
          "output_type": "stream",
          "name": "stderr",
          "text": [
            "\u001b[36m\u001b[1m[ \u001b[22m\u001b[39m\u001b[36m\u001b[1mInfo: \u001b[22m\u001b[39mInterior point LP: τ = -2768.46088448, Status = Interior\n"
          ]
        },
        {
          "output_type": "stream",
          "name": "stdout",
          "text": [
            "→ VDCG Level 2: 3 sites, Current best f(x) = 0.963102\n"
          ]
        },
        {
          "output_type": "stream",
          "name": "stderr",
          "text": [
            "\u001b[36m\u001b[1m[ \u001b[22m\u001b[39m\u001b[36m\u001b[1mInfo: \u001b[22m\u001b[39mInterior point LP: τ = -594.6354971, Status = Interior\n",
            "\u001b[36m\u001b[1m[ \u001b[22m\u001b[39m\u001b[36m\u001b[1mInfo: \u001b[22m\u001b[39mCell 1: New point not added, obj = 0.963102, min distance = 0.0, better = false\n"
          ]
        },
        {
          "output_type": "stream",
          "name": "stdout",
          "text": [
            "  New point found: f(x) = 0.980767\n"
          ]
        },
        {
          "output_type": "stream",
          "name": "stderr",
          "text": [
            "\u001b[36m\u001b[1m[ \u001b[22m\u001b[39m\u001b[36m\u001b[1mInfo: \u001b[22m\u001b[39mInterior point LP: τ = -590.67393183, Status = Interior\n",
            "\u001b[36m\u001b[1m[ \u001b[22m\u001b[39m\u001b[36m\u001b[1mInfo: \u001b[22m\u001b[39mInterior point LP: τ = -1642.84211934, Status = Interior\n",
            "\u001b[36m\u001b[1m[ \u001b[22m\u001b[39m\u001b[36m\u001b[1mInfo: \u001b[22m\u001b[39mCell 3: New point not added, obj = 1.004099, min distance = 0.0, better = false\n"
          ]
        },
        {
          "output_type": "stream",
          "name": "stdout",
          "text": [
            "  ✅ Level 2 completed in 12.8233 sec | Best objective so far: 0.963102\n",
            "→ VDCG Level 3: 4 sites, Current best f(x) = 0.963102\n"
          ]
        },
        {
          "output_type": "stream",
          "name": "stderr",
          "text": [
            "\u001b[36m\u001b[1m[ \u001b[22m\u001b[39m\u001b[36m\u001b[1mInfo: \u001b[22m\u001b[39mInterior point LP: τ = -594.6354971, Status = Interior\n",
            "\u001b[36m\u001b[1m[ \u001b[22m\u001b[39m\u001b[36m\u001b[1mInfo: \u001b[22m\u001b[39mCell 1: New point not added, obj = 0.963102, min distance = 0.0, better = false\n"
          ]
        },
        {
          "output_type": "stream",
          "name": "stdout",
          "text": [
            "  New point found: f(x) = 0.951559\n"
          ]
        },
        {
          "output_type": "stream",
          "name": "stderr",
          "text": [
            "\u001b[36m\u001b[1m[ \u001b[22m\u001b[39m\u001b[36m\u001b[1mInfo: \u001b[22m\u001b[39mInterior point LP: τ = -434.31826649, Status = Interior\n",
            "\u001b[36m\u001b[1m[ \u001b[22m\u001b[39m\u001b[36m\u001b[1mInfo: \u001b[22m\u001b[39mInterior point LP: τ = -1141.12292306, Status = Interior\n",
            "\u001b[36m\u001b[1m[ \u001b[22m\u001b[39m\u001b[36m\u001b[1mInfo: \u001b[22m\u001b[39mCell 3: New point not added, obj = 1.004099, min distance = 0.0, better = false\n"
          ]
        },
        {
          "output_type": "stream",
          "name": "stdout",
          "text": [
            "  New point found: f(x) = 0.976362\n",
            "  ✅ Level 3 completed in 16.7539 sec | Best objective so far: 0.951559\n"
          ]
        },
        {
          "output_type": "stream",
          "name": "stderr",
          "text": [
            "\u001b[36m\u001b[1m[ \u001b[22m\u001b[39m\u001b[36m\u001b[1mInfo: \u001b[22m\u001b[39mInterior point LP: τ = -506.4077089, Status = Interior\n"
          ]
        },
        {
          "output_type": "stream",
          "name": "stdout",
          "text": [
            "→ VDCG Level 4: 6 sites, Current best f(x) = 0.951559\n"
          ]
        },
        {
          "output_type": "stream",
          "name": "stderr",
          "text": [
            "\u001b[36m\u001b[1m[ \u001b[22m\u001b[39m\u001b[36m\u001b[1mInfo: \u001b[22m\u001b[39mInterior point LP: τ = -594.6354971, Status = Interior\n",
            "\u001b[36m\u001b[1m[ \u001b[22m\u001b[39m\u001b[36m\u001b[1mInfo: \u001b[22m\u001b[39mCell 1: New point not added, obj = 0.963102, min distance = 0.0, better = false\n"
          ]
        },
        {
          "output_type": "stream",
          "name": "stdout",
          "text": [
            "  New point found: f(x) = 0.951440\n"
          ]
        },
        {
          "output_type": "stream",
          "name": "stderr",
          "text": [
            "\u001b[36m\u001b[1m[ \u001b[22m\u001b[39m\u001b[36m\u001b[1mInfo: \u001b[22m\u001b[39mInterior point LP: τ = -273.27863823, Status = Interior\n",
            "\u001b[36m\u001b[1m[ \u001b[22m\u001b[39m\u001b[36m\u001b[1mInfo: \u001b[22m\u001b[39mInterior point LP: τ = -698.06529662, Status = Interior\n",
            "\u001b[36m\u001b[1m[ \u001b[22m\u001b[39m\u001b[36m\u001b[1mInfo: \u001b[22m\u001b[39mCell 3: New point not added, obj = 1.004099, min distance = 0.0, better = false\n"
          ]
        },
        {
          "output_type": "stream",
          "name": "stdout",
          "text": [
            "  New point found: f(x) = 1.000000\n"
          ]
        },
        {
          "output_type": "stream",
          "name": "stderr",
          "text": [
            "\u001b[36m\u001b[1m[ \u001b[22m\u001b[39m\u001b[36m\u001b[1mInfo: \u001b[22m\u001b[39mInterior point LP: τ = -98.93160915, Status = Interior\n"
          ]
        },
        {
          "output_type": "stream",
          "name": "stdout",
          "text": [
            "  New point found: f(x) = 0.951635\n"
          ]
        },
        {
          "output_type": "stream",
          "name": "stderr",
          "text": [
            "\u001b[36m\u001b[1m[ \u001b[22m\u001b[39m\u001b[36m\u001b[1mInfo: \u001b[22m\u001b[39mInterior point LP: τ = -168.5519984, Status = Interior\n"
          ]
        },
        {
          "output_type": "stream",
          "name": "stdout",
          "text": [
            "  New point found: f(x) = 0.951019\n",
            "  ✅ Level 4 completed in 21.9079 sec | Best objective so far: 0.951019\n"
          ]
        },
        {
          "output_type": "stream",
          "name": "stderr",
          "text": [
            "\u001b[36m\u001b[1m[ \u001b[22m\u001b[39m\u001b[36m\u001b[1mInfo: \u001b[22m\u001b[39mInterior point LP: τ = -251.56420803, Status = Interior\n"
          ]
        },
        {
          "output_type": "stream",
          "name": "stdout",
          "text": [
            "→ VDCG Level 5: 10 sites, Current best f(x) = 0.951019\n"
          ]
        },
        {
          "output_type": "stream",
          "name": "stderr",
          "text": [
            "\u001b[36m\u001b[1m[ \u001b[22m\u001b[39m\u001b[36m\u001b[1mInfo: \u001b[22m\u001b[39mInterior point LP: τ = -594.6354971, Status = Interior\n",
            "\u001b[36m\u001b[1m[ \u001b[22m\u001b[39m\u001b[36m\u001b[1mInfo: \u001b[22m\u001b[39mCell 1: New point not added, obj = 0.963102, min distance = 0.0, better = false\n"
          ]
        },
        {
          "output_type": "stream",
          "name": "stdout",
          "text": [
            "  New point found: f(x) = 0.951121\n"
          ]
        },
        {
          "output_type": "stream",
          "name": "stderr",
          "text": [
            "\u001b[36m\u001b[1m[ \u001b[22m\u001b[39m\u001b[36m\u001b[1mInfo: \u001b[22m\u001b[39mInterior point LP: τ = -265.52899673, Status = Interior\n",
            "\u001b[36m\u001b[1m[ \u001b[22m\u001b[39m\u001b[36m\u001b[1mInfo: \u001b[22m\u001b[39mInterior point LP: τ = -671.7526777, Status = Interior\n",
            "\u001b[36m\u001b[1m[ \u001b[22m\u001b[39m\u001b[36m\u001b[1mInfo: \u001b[22m\u001b[39mCell 3: New point not added, obj = 1.004099, min distance = 0.0, better = false\n"
          ]
        },
        {
          "output_type": "stream",
          "name": "stdout",
          "text": [
            "  New point found: f(x) = 0.949848\n"
          ]
        },
        {
          "output_type": "stream",
          "name": "stderr",
          "text": [
            "\u001b[36m\u001b[1m[ \u001b[22m\u001b[39m\u001b[36m\u001b[1mInfo: \u001b[22m\u001b[39mInterior point LP: τ = -84.79013363, Status = Interior\n"
          ]
        },
        {
          "output_type": "stream",
          "name": "stdout",
          "text": [
            "  New point found: f(x) = 0.949581\n"
          ]
        },
        {
          "output_type": "stream",
          "name": "stderr",
          "text": [
            "\u001b[36m\u001b[1m[ \u001b[22m\u001b[39m\u001b[36m\u001b[1mInfo: \u001b[22m\u001b[39mInterior point LP: τ = -47.19175226, Status = Interior\n",
            "\u001b[36m\u001b[1m[ \u001b[22m\u001b[39m\u001b[36m\u001b[1mInfo: \u001b[22m\u001b[39mInterior point LP: τ = -251.56420803, Status = Interior\n",
            "\u001b[36m\u001b[1m[ \u001b[22m\u001b[39m\u001b[36m\u001b[1mInfo: \u001b[22m\u001b[39mCell 6: New point not added, obj = 0.951019, min distance = 0.0, better = false\n"
          ]
        },
        {
          "output_type": "stream",
          "name": "stdout",
          "text": [
            "  New point found: f(x) = 0.960481\n"
          ]
        },
        {
          "output_type": "stream",
          "name": "stderr",
          "text": [
            "\u001b[36m\u001b[1m[ \u001b[22m\u001b[39m\u001b[36m\u001b[1mInfo: \u001b[22m\u001b[39mInterior point LP: τ = -56.25740846, Status = Interior\n"
          ]
        },
        {
          "output_type": "stream",
          "name": "stdout",
          "text": [
            "  New point found: f(x) = 1.000000\n"
          ]
        },
        {
          "output_type": "stream",
          "name": "stderr",
          "text": [
            "\u001b[36m\u001b[1m[ \u001b[22m\u001b[39m\u001b[36m\u001b[1mInfo: \u001b[22m\u001b[39mInterior point LP: τ = -740.61088333, Status = Interior\n"
          ]
        },
        {
          "output_type": "stream",
          "name": "stdout",
          "text": [
            "  New point found: f(x) = 0.951736\n"
          ]
        },
        {
          "output_type": "stream",
          "name": "stderr",
          "text": [
            "\u001b[36m\u001b[1m[ \u001b[22m\u001b[39m\u001b[36m\u001b[1mInfo: \u001b[22m\u001b[39mInterior point LP: τ = -524.17140693, Status = Interior\n"
          ]
        },
        {
          "output_type": "stream",
          "name": "stdout",
          "text": [
            "  New point found: f(x) = 0.948825\n",
            "  ✅ Level 5 completed in 38.9210 sec | Best objective so far: 0.948825\n"
          ]
        },
        {
          "output_type": "stream",
          "name": "stderr",
          "text": [
            "\u001b[36m\u001b[1m[ \u001b[22m\u001b[39m\u001b[36m\u001b[1mInfo: \u001b[22m\u001b[39mInterior point LP: τ = -63.71584814, Status = Interior\n"
          ]
        },
        {
          "output_type": "stream",
          "name": "stdout",
          "text": [
            "→ VDCG Level 6: 17 sites, Current best f(x) = 0.948825\n"
          ]
        },
        {
          "output_type": "stream",
          "name": "stderr",
          "text": [
            "\u001b[36m\u001b[1m[ \u001b[22m\u001b[39m\u001b[36m\u001b[1mInfo: \u001b[22m\u001b[39mInterior point LP: τ = -594.6354971, Status = Interior\n",
            "\u001b[36m\u001b[1m[ \u001b[22m\u001b[39m\u001b[36m\u001b[1mInfo: \u001b[22m\u001b[39mCell 1: New point not added, obj = 0.963102, min distance = 0.0, better = false\n"
          ]
        },
        {
          "output_type": "stream",
          "name": "stdout",
          "text": [
            "  New point found: f(x) = 0.951048\n"
          ]
        },
        {
          "output_type": "stream",
          "name": "stderr",
          "text": [
            "\u001b[36m\u001b[1m[ \u001b[22m\u001b[39m\u001b[36m\u001b[1mInfo: \u001b[22m\u001b[39mInterior point LP: τ = -265.16650335, Status = Interior\n",
            "\u001b[36m\u001b[1m[ \u001b[22m\u001b[39m\u001b[36m\u001b[1mInfo: \u001b[22m\u001b[39mInterior point LP: τ = -663.73631745, Status = Interior\n",
            "\u001b[36m\u001b[1m[ \u001b[22m\u001b[39m\u001b[36m\u001b[1mInfo: \u001b[22m\u001b[39mCell 3: New point not added, obj = 1.004099, min distance = 0.0, better = false\n"
          ]
        },
        {
          "output_type": "stream",
          "name": "stdout",
          "text": [
            "  New point found: f(x) = 0.949842\n"
          ]
        },
        {
          "output_type": "stream",
          "name": "stderr",
          "text": [
            "\u001b[36m\u001b[1m[ \u001b[22m\u001b[39m\u001b[36m\u001b[1mInfo: \u001b[22m\u001b[39mInterior point LP: τ = -83.37831394, Status = Interior\n"
          ]
        },
        {
          "output_type": "stream",
          "name": "stdout",
          "text": [
            "  New point found: f(x) = 0.953868\n"
          ]
        },
        {
          "output_type": "stream",
          "name": "stderr",
          "text": [
            "\u001b[36m\u001b[1m[ \u001b[22m\u001b[39m\u001b[36m\u001b[1mInfo: \u001b[22m\u001b[39mInterior point LP: τ = -25.02749013, Status = Interior\n",
            "\u001b[36m\u001b[1m[ \u001b[22m\u001b[39m\u001b[36m\u001b[1mInfo: \u001b[22m\u001b[39mInterior point LP: τ = -251.56420803, Status = Interior\n",
            "\u001b[36m\u001b[1m[ \u001b[22m\u001b[39m\u001b[36m\u001b[1mInfo: \u001b[22m\u001b[39mCell 6: New point not added, obj = 0.951019, min distance = 0.0, better = false\n"
          ]
        },
        {
          "output_type": "stream",
          "name": "stdout",
          "text": [
            "  New point found: f(x) = 0.958523\n"
          ]
        },
        {
          "output_type": "stream",
          "name": "stderr",
          "text": [
            "\u001b[36m\u001b[1m[ \u001b[22m\u001b[39m\u001b[36m\u001b[1mInfo: \u001b[22m\u001b[39mInterior point LP: τ = -51.73496299, Status = Interior\n"
          ]
        },
        {
          "output_type": "stream",
          "name": "stdout",
          "text": [
            "  New point found: f(x) = 1.000000\n",
            "  New point found: f(x) = 0.950288\n"
          ]
        },
        {
          "output_type": "stream",
          "name": "stderr",
          "text": [
            "\u001b[36m\u001b[1m[ \u001b[22m\u001b[39m\u001b[36m\u001b[1mInfo: \u001b[22m\u001b[39mInterior point LP: τ = -142.15326378, Status = Interior\n",
            "\u001b[36m\u001b[1m[ \u001b[22m\u001b[39m\u001b[36m\u001b[1mInfo: \u001b[22m\u001b[39mInterior point LP: τ = -31.23213332, Status = Interior\n"
          ]
        },
        {
          "output_type": "stream",
          "name": "stdout",
          "text": [
            "  New point found: f(x) = 0.949233\n"
          ]
        },
        {
          "output_type": "stream",
          "name": "stderr",
          "text": [
            "\u001b[36m\u001b[1m[ \u001b[22m\u001b[39m\u001b[36m\u001b[1mInfo: \u001b[22m\u001b[39mInterior point LP: τ = -21.03753016, Status = Interior\n"
          ]
        },
        {
          "output_type": "stream",
          "name": "stdout",
          "text": [
            "  New point found: f(x) = 0.950624\n"
          ]
        },
        {
          "output_type": "stream",
          "name": "stderr",
          "text": [
            "\u001b[36m\u001b[1m[ \u001b[22m\u001b[39m\u001b[36m\u001b[1mInfo: \u001b[22m\u001b[39mInterior point LP: τ = -113.06647124, Status = Interior\n"
          ]
        },
        {
          "output_type": "stream",
          "name": "stdout",
          "text": [
            "  New point found: f(x) = 0.950091\n"
          ]
        },
        {
          "output_type": "stream",
          "name": "stderr",
          "text": [
            "\u001b[36m\u001b[1m[ \u001b[22m\u001b[39m\u001b[36m\u001b[1mInfo: \u001b[22m\u001b[39mInterior point LP: τ = -35.10880993, Status = Interior\n"
          ]
        },
        {
          "output_type": "stream",
          "name": "stdout",
          "text": [
            "  New point found: f(x) = 0.951236\n"
          ]
        },
        {
          "output_type": "stream",
          "name": "stderr",
          "text": [
            "\u001b[36m\u001b[1m[ \u001b[22m\u001b[39m\u001b[36m\u001b[1mInfo: \u001b[22m\u001b[39mInterior point LP: τ = -66.42642864, Status = Interior\n",
            "\u001b[36m\u001b[1m[ \u001b[22m\u001b[39m\u001b[36m\u001b[1mInfo: \u001b[22m\u001b[39mInterior point LP: τ = -676.61799356, Status = Interior\n",
            "\u001b[36m\u001b[1m[ \u001b[22m\u001b[39m\u001b[36m\u001b[1mInfo: \u001b[22m\u001b[39mCell 14: New point not added, obj = 0.960481, min distance = 0.0, better = false\n"
          ]
        },
        {
          "output_type": "stream",
          "name": "stdout",
          "text": [
            "  New point found: f(x) = 0.949969\n"
          ]
        },
        {
          "output_type": "stream",
          "name": "stderr",
          "text": [
            "\u001b[36m\u001b[1m[ \u001b[22m\u001b[39m\u001b[36m\u001b[1mInfo: \u001b[22m\u001b[39mInterior point LP: τ = -133.15216926, Status = Interior\n",
            "\u001b[36m\u001b[1m[ \u001b[22m\u001b[39m\u001b[36m\u001b[1mInfo: \u001b[22m\u001b[39mInterior point LP: τ = -154.31025583, Status = Interior\n",
            "\u001b[36m\u001b[1m[ \u001b[22m\u001b[39m\u001b[36m\u001b[1mInfo: \u001b[22m\u001b[39mCell 16: New point not added, obj = 0.951736, min distance = 0.0, better = false\n"
          ]
        },
        {
          "output_type": "stream",
          "name": "stdout",
          "text": [
            "  New point found: f(x) = 0.948888\n",
            "  ✅ Level 6 completed in 68.1950 sec | Best objective so far: 0.948825\n"
          ]
        },
        {
          "output_type": "stream",
          "name": "stderr",
          "text": [
            "\u001b[36m\u001b[1m[ \u001b[22m\u001b[39m\u001b[36m\u001b[1mInfo: \u001b[22m\u001b[39mInterior point LP: τ = -47.83975497, Status = Interior\n"
          ]
        },
        {
          "output_type": "stream",
          "name": "stdout",
          "text": [
            "→ VDCG Level 7: 29 sites, Current best f(x) = 0.948825\n"
          ]
        },
        {
          "output_type": "stream",
          "name": "stderr",
          "text": [
            "\u001b[36m\u001b[1m[ \u001b[22m\u001b[39m\u001b[36m\u001b[1mInfo: \u001b[22m\u001b[39mInterior point LP: τ = -594.6354971, Status = Interior\n",
            "\u001b[36m\u001b[1m[ \u001b[22m\u001b[39m\u001b[36m\u001b[1mInfo: \u001b[22m\u001b[39mCell 1: New point not added, obj = 0.963102, min distance = 0.0, better = false\n"
          ]
        },
        {
          "output_type": "stream",
          "name": "stdout",
          "text": [
            "  New point found: f(x) = 0.950206\n"
          ]
        },
        {
          "output_type": "stream",
          "name": "stderr",
          "text": [
            "\u001b[36m\u001b[1m[ \u001b[22m\u001b[39m\u001b[36m\u001b[1mInfo: \u001b[22m\u001b[39mInterior point LP: τ = -265.13645593, Status = Interior\n",
            "\u001b[36m\u001b[1m[ \u001b[22m\u001b[39m\u001b[36m\u001b[1mInfo: \u001b[22m\u001b[39mInterior point LP: τ = -597.98365568, Status = Interior\n",
            "\u001b[36m\u001b[1m[ \u001b[22m\u001b[39m\u001b[36m\u001b[1mInfo: \u001b[22m\u001b[39mCell 3: New point not added, obj = 1.004099, min distance = 0.0, better = false\n"
          ]
        },
        {
          "output_type": "stream",
          "name": "stdout",
          "text": [
            "  New point found: f(x) = 0.950002\n"
          ]
        },
        {
          "output_type": "stream",
          "name": "stderr",
          "text": [
            "\u001b[36m\u001b[1m[ \u001b[22m\u001b[39m\u001b[36m\u001b[1mInfo: \u001b[22m\u001b[39mInterior point LP: τ = -80.32171716, Status = Interior\n"
          ]
        },
        {
          "output_type": "stream",
          "name": "stdout",
          "text": [
            "  New point found: f(x) = 0.949568\n"
          ]
        },
        {
          "output_type": "stream",
          "name": "stderr",
          "text": [
            "\u001b[36m\u001b[1m[ \u001b[22m\u001b[39m\u001b[36m\u001b[1mInfo: \u001b[22m\u001b[39mInterior point LP: τ = -15.53806297, Status = Interior\n",
            "\u001b[36m\u001b[1m[ \u001b[22m\u001b[39m\u001b[36m\u001b[1mInfo: \u001b[22m\u001b[39mInterior point LP: τ = -251.56420803, Status = Interior\n",
            "\u001b[36m\u001b[1m[ \u001b[22m\u001b[39m\u001b[36m\u001b[1mInfo: \u001b[22m\u001b[39mCell 6: New point not added, obj = 0.951019, min distance = 0.0, better = false\n"
          ]
        },
        {
          "output_type": "stream",
          "name": "stdout",
          "text": [
            "  New point found: f(x) = 0.948984\n"
          ]
        },
        {
          "output_type": "stream",
          "name": "stderr",
          "text": [
            "\u001b[36m\u001b[1m[ \u001b[22m\u001b[39m\u001b[36m\u001b[1mInfo: \u001b[22m\u001b[39mInterior point LP: τ = -24.94495445, Status = Interior\n"
          ]
        },
        {
          "output_type": "stream",
          "name": "stdout",
          "text": [
            "  New point found: f(x) = 0.950301\n"
          ]
        },
        {
          "output_type": "stream",
          "name": "stderr",
          "text": [
            "\u001b[36m\u001b[1m[ \u001b[22m\u001b[39m\u001b[36m\u001b[1mInfo: \u001b[22m\u001b[39mInterior point LP: τ = -65.19751928, Status = Interior\n"
          ]
        },
        {
          "output_type": "stream",
          "name": "stdout",
          "text": [
            "  New point found: f(x) = 0.952017\n"
          ]
        },
        {
          "output_type": "stream",
          "name": "stderr",
          "text": [
            "\u001b[36m\u001b[1m[ \u001b[22m\u001b[39m\u001b[36m\u001b[1mInfo: \u001b[22m\u001b[39mInterior point LP: τ = -30.63518774, Status = Interior\n"
          ]
        },
        {
          "output_type": "stream",
          "name": "stdout",
          "text": [
            "  New point found: f(x) = 0.950176\n"
          ]
        },
        {
          "output_type": "stream",
          "name": "stderr",
          "text": [
            "\u001b[36m\u001b[1m[ \u001b[22m\u001b[39m\u001b[36m\u001b[1mInfo: \u001b[22m\u001b[39mInterior point LP: τ = -19.12821878, Status = Interior\n"
          ]
        },
        {
          "output_type": "stream",
          "name": "stdout",
          "text": [
            "  New point found: f(x) = 0.949239\n"
          ]
        },
        {
          "output_type": "stream",
          "name": "stderr",
          "text": [
            "\u001b[36m\u001b[1m[ \u001b[22m\u001b[39m\u001b[36m\u001b[1mInfo: \u001b[22m\u001b[39mInterior point LP: τ = -29.9980546, Status = Interior\n"
          ]
        },
        {
          "output_type": "stream",
          "name": "stdout",
          "text": [
            "  New point found: f(x) = 0.949566\n"
          ]
        },
        {
          "output_type": "stream",
          "name": "stderr",
          "text": [
            "\u001b[36m\u001b[1m[ \u001b[22m\u001b[39m\u001b[36m\u001b[1mInfo: \u001b[22m\u001b[39mInterior point LP: τ = -5.15134589, Status = Interior\n"
          ]
        },
        {
          "output_type": "stream",
          "name": "stdout",
          "text": [
            "  New point found: f(x) = 0.952352\n"
          ]
        },
        {
          "output_type": "stream",
          "name": "stderr",
          "text": [
            "\u001b[36m\u001b[1m[ \u001b[22m\u001b[39m\u001b[36m\u001b[1mInfo: \u001b[22m\u001b[39mInterior point LP: τ = -29.68184445, Status = Interior\n",
            "\u001b[36m\u001b[1m[ \u001b[22m\u001b[39m\u001b[36m\u001b[1mInfo: \u001b[22m\u001b[39mInterior point LP: τ = -533.62632793, Status = Interior\n",
            "\u001b[36m\u001b[1m[ \u001b[22m\u001b[39m\u001b[36m\u001b[1mInfo: \u001b[22m\u001b[39mCell 14: New point not added, obj = 0.960481, min distance = 0.0, better = false\n",
            "\u001b[36m\u001b[1m[ \u001b[22m\u001b[39m\u001b[36m\u001b[1mInfo: \u001b[22m\u001b[39mInterior point LP: τ = -133.15216926, Status = Interior\n",
            "\u001b[36m\u001b[1m[ \u001b[22m\u001b[39m\u001b[36m\u001b[1mInfo: \u001b[22m\u001b[39mCell 15: New point not added, obj = 0.949969, min distance = 0.0, better = false\n",
            "\u001b[36m\u001b[1m[ \u001b[22m\u001b[39m\u001b[36m\u001b[1mInfo: \u001b[22m\u001b[39mInterior point LP: τ = -154.31025583, Status = Interior\n",
            "\u001b[36m\u001b[1m[ \u001b[22m\u001b[39m\u001b[36m\u001b[1mInfo: \u001b[22m\u001b[39mCell 16: New point not added, obj = 0.951736, min distance = 0.0, better = false\n"
          ]
        },
        {
          "output_type": "stream",
          "name": "stdout",
          "text": [
            "  New point found: f(x) = 0.948806\n"
          ]
        },
        {
          "output_type": "stream",
          "name": "stderr",
          "text": [
            "\u001b[36m\u001b[1m[ \u001b[22m\u001b[39m\u001b[36m\u001b[1mInfo: \u001b[22m\u001b[39mInterior point LP: τ = -34.64562434, Status = Interior\n"
          ]
        },
        {
          "output_type": "stream",
          "name": "stdout",
          "text": [
            "  New point found: f(x) = 0.949825\n"
          ]
        },
        {
          "output_type": "stream",
          "name": "stderr",
          "text": [
            "\u001b[36m\u001b[1m[ \u001b[22m\u001b[39m\u001b[36m\u001b[1mInfo: \u001b[22m\u001b[39mInterior point LP: τ = -20.42885879, Status = Interior\n"
          ]
        },
        {
          "output_type": "stream",
          "name": "stdout",
          "text": [
            "  New point found: f(x) = 0.950204\n"
          ]
        },
        {
          "output_type": "stream",
          "name": "stderr",
          "text": [
            "\u001b[36m\u001b[1m[ \u001b[22m\u001b[39m\u001b[36m\u001b[1mInfo: \u001b[22m\u001b[39mInterior point LP: τ = -6.30534451, Status = Interior\n"
          ]
        },
        {
          "output_type": "stream",
          "name": "stdout",
          "text": [
            "  New point found: f(x) = 0.954551\n"
          ]
        },
        {
          "output_type": "stream",
          "name": "stderr",
          "text": [
            "\u001b[36m\u001b[1m[ \u001b[22m\u001b[39m\u001b[36m\u001b[1mInfo: \u001b[22m\u001b[39mInterior point LP: τ = -174.21682496, Status = Interior\n"
          ]
        },
        {
          "output_type": "stream",
          "name": "stdout",
          "text": [
            "  New point found: f(x) = 0.989402\n"
          ]
        },
        {
          "output_type": "stream",
          "name": "stderr",
          "text": [
            "\u001b[36m\u001b[1m[ \u001b[22m\u001b[39m\u001b[36m\u001b[1mInfo: \u001b[22m\u001b[39mInterior point LP: τ = -171.6344319, Status = Interior\n"
          ]
        },
        {
          "output_type": "stream",
          "name": "stdout",
          "text": [
            "  New point found: f(x) = 0.950515\n"
          ]
        },
        {
          "output_type": "stream",
          "name": "stderr",
          "text": [
            "\u001b[36m\u001b[1m[ \u001b[22m\u001b[39m\u001b[36m\u001b[1mInfo: \u001b[22m\u001b[39mInterior point LP: τ = -166.25415505, Status = Interior\n"
          ]
        },
        {
          "output_type": "stream",
          "name": "stdout",
          "text": [
            "  New point found: f(x) = 0.949704\n"
          ]
        },
        {
          "output_type": "stream",
          "name": "stderr",
          "text": [
            "\u001b[36m\u001b[1m[ \u001b[22m\u001b[39m\u001b[36m\u001b[1mInfo: \u001b[22m\u001b[39mInterior point LP: τ = -338.37352553, Status = Interior\n"
          ]
        },
        {
          "output_type": "stream",
          "name": "stdout",
          "text": [
            "  New point found: f(x) = 0.948087\n"
          ]
        },
        {
          "output_type": "stream",
          "name": "stderr",
          "text": [
            "\u001b[36m\u001b[1m[ \u001b[22m\u001b[39m\u001b[36m\u001b[1mInfo: \u001b[22m\u001b[39mInterior point LP: τ = -22.39352507, Status = Interior\n",
            "\u001b[36m\u001b[1m[ \u001b[22m\u001b[39m\u001b[36m\u001b[1mInfo: \u001b[22m\u001b[39mInterior point LP: τ = -500.106289, Status = Interior\n",
            "\u001b[36m\u001b[1m[ \u001b[22m\u001b[39m\u001b[36m\u001b[1mInfo: \u001b[22m\u001b[39mCell 25: New point not added, obj = 0.950624, min distance = 0.0, better = false\n"
          ]
        },
        {
          "output_type": "stream",
          "name": "stdout",
          "text": [
            "  New point found: f(x) = 0.950065\n"
          ]
        },
        {
          "output_type": "stream",
          "name": "stderr",
          "text": [
            "\u001b[36m\u001b[1m[ \u001b[22m\u001b[39m\u001b[36m\u001b[1mInfo: \u001b[22m\u001b[39mInterior point LP: τ = -73.73345198, Status = Interior\n",
            "\u001b[36m\u001b[1m[ \u001b[22m\u001b[39m\u001b[36m\u001b[1mInfo: \u001b[22m\u001b[39mInterior point LP: τ = -185.22240561, Status = Interior\n",
            "\u001b[36m\u001b[1m[ \u001b[22m\u001b[39m\u001b[36m\u001b[1mInfo: \u001b[22m\u001b[39mCell 27: New point not added, obj = 0.951236, min distance = 0.0, better = false\n"
          ]
        },
        {
          "output_type": "stream",
          "name": "stdout",
          "text": [
            "  New point found: f(x) = 0.952130\n"
          ]
        },
        {
          "output_type": "stream",
          "name": "stderr",
          "text": [
            "\u001b[36m\u001b[1m[ \u001b[22m\u001b[39m\u001b[36m\u001b[1mInfo: \u001b[22m\u001b[39mInterior point LP: τ = -68.16477, Status = Interior\n"
          ]
        },
        {
          "output_type": "stream",
          "name": "stdout",
          "text": [
            "  New point found: f(x) = 0.950620\n",
            "  ✅ Level 7 completed in 124.3767 sec | Best objective so far: 0.948087\n"
          ]
        },
        {
          "output_type": "stream",
          "name": "stderr",
          "text": [
            "\u001b[36m\u001b[1m[ \u001b[22m\u001b[39m\u001b[36m\u001b[1mInfo: \u001b[22m\u001b[39mInterior point LP: τ = -21.12840914, Status = Interior\n"
          ]
        },
        {
          "output_type": "stream",
          "name": "stdout",
          "text": [
            "→ VDCG Level 8: 50 sites, Current best f(x) = 0.948087\n"
          ]
        },
        {
          "output_type": "stream",
          "name": "stderr",
          "text": [
            "\u001b[36m\u001b[1m[ \u001b[22m\u001b[39m\u001b[36m\u001b[1mInfo: \u001b[22m\u001b[39mInterior point LP: τ = -594.6354971, Status = Interior\n",
            "\u001b[36m\u001b[1m[ \u001b[22m\u001b[39m\u001b[36m\u001b[1mInfo: \u001b[22m\u001b[39mCell 1: New point not added, obj = 0.963102, min distance = 0.0, better = false\n"
          ]
        },
        {
          "output_type": "stream",
          "name": "stdout",
          "text": [
            "  New point found: f(x) = 0.949730\n"
          ]
        },
        {
          "output_type": "stream",
          "name": "stderr",
          "text": [
            "\u001b[36m\u001b[1m[ \u001b[22m\u001b[39m\u001b[36m\u001b[1mInfo: \u001b[22m\u001b[39mInterior point LP: τ = -265.08862093, Status = Interior\n",
            "\u001b[36m\u001b[1m[ \u001b[22m\u001b[39m\u001b[36m\u001b[1mInfo: \u001b[22m\u001b[39mInterior point LP: τ = -597.98365568, Status = Interior\n",
            "\u001b[36m\u001b[1m[ \u001b[22m\u001b[39m\u001b[36m\u001b[1mInfo: \u001b[22m\u001b[39mCell 3: New point not added, obj = 1.004099, min distance = 0.0, better = false\n",
            "\u001b[36m\u001b[1m[ \u001b[22m\u001b[39m\u001b[36m\u001b[1mInfo: \u001b[22m\u001b[39mInterior point LP: τ = -80.32171716, Status = Interior\n",
            "\u001b[36m\u001b[1m[ \u001b[22m\u001b[39m\u001b[36m\u001b[1mInfo: \u001b[22m\u001b[39mCell 4: New point not added, obj = 0.950002, min distance = 0.0, better = false\n"
          ]
        },
        {
          "output_type": "stream",
          "name": "stdout",
          "text": [
            "  New point found: f(x) = 0.949220\n"
          ]
        },
        {
          "output_type": "stream",
          "name": "stderr",
          "text": [
            "\u001b[36m\u001b[1m[ \u001b[22m\u001b[39m\u001b[36m\u001b[1mInfo: \u001b[22m\u001b[39mInterior point LP: τ = -8.6741963, Status = Interior\n",
            "\u001b[36m\u001b[1m[ \u001b[22m\u001b[39m\u001b[36m\u001b[1mInfo: \u001b[22m\u001b[39mInterior point LP: τ = -251.56420803, Status = Interior\n",
            "\u001b[36m\u001b[1m[ \u001b[22m\u001b[39m\u001b[36m\u001b[1mInfo: \u001b[22m\u001b[39mCell 6: New point not added, obj = 0.951019, min distance = 0.0, better = false\n"
          ]
        },
        {
          "output_type": "stream",
          "name": "stdout",
          "text": [
            "  New point found: f(x) = 0.948924\n"
          ]
        },
        {
          "output_type": "stream",
          "name": "stderr",
          "text": [
            "\u001b[36m\u001b[1m[ \u001b[22m\u001b[39m\u001b[36m\u001b[1mInfo: \u001b[22m\u001b[39mInterior point LP: τ = -18.88878029, Status = Interior\n"
          ]
        },
        {
          "output_type": "stream",
          "name": "stdout",
          "text": [
            "  New point found: f(x) = 0.950120\n"
          ]
        },
        {
          "output_type": "stream",
          "name": "stderr",
          "text": [
            "\u001b[36m\u001b[1m[ \u001b[22m\u001b[39m\u001b[36m\u001b[1mInfo: \u001b[22m\u001b[39mInterior point LP: τ = -65.19411839, Status = Interior\n"
          ]
        },
        {
          "output_type": "stream",
          "name": "stdout",
          "text": [
            "  New point found: f(x) = 0.951210\n"
          ]
        },
        {
          "output_type": "stream",
          "name": "stderr",
          "text": [
            "\u001b[36m\u001b[1m[ \u001b[22m\u001b[39m\u001b[36m\u001b[1mInfo: \u001b[22m\u001b[39mInterior point LP: τ = -28.01533353, Status = Interior\n"
          ]
        },
        {
          "output_type": "stream",
          "name": "stdout",
          "text": [
            "  New point found: f(x) = 0.950636\n"
          ]
        },
        {
          "output_type": "stream",
          "name": "stderr",
          "text": [
            "\u001b[36m\u001b[1m[ \u001b[22m\u001b[39m\u001b[36m\u001b[1mInfo: \u001b[22m\u001b[39mInterior point LP: τ = -16.85006566, Status = Interior\n"
          ]
        },
        {
          "output_type": "stream",
          "name": "stdout",
          "text": [
            "  New point found: f(x) = 0.948277\n"
          ]
        },
        {
          "output_type": "stream",
          "name": "stderr",
          "text": [
            "\u001b[36m\u001b[1m[ \u001b[22m\u001b[39m\u001b[36m\u001b[1mInfo: \u001b[22m\u001b[39mInterior point LP: τ = -27.88873701, Status = Interior\n"
          ]
        },
        {
          "output_type": "stream",
          "name": "stdout",
          "text": [
            "  New point found: f(x) = 0.949656\n"
          ]
        },
        {
          "output_type": "stream",
          "name": "stderr",
          "text": [
            "\u001b[36m\u001b[1m[ \u001b[22m\u001b[39m\u001b[36m\u001b[1mInfo: \u001b[22m\u001b[39mInterior point LP: τ = -3.87924811, Status = Interior\n",
            "\u001b[36m\u001b[1m[ \u001b[22m\u001b[39m\u001b[36m\u001b[1mInfo: \u001b[22m\u001b[39mInterior point LP: τ = -29.68184445, Status = Interior\n",
            "\u001b[36m\u001b[1m[ \u001b[22m\u001b[39m\u001b[36m\u001b[1mInfo: \u001b[22m\u001b[39mCell 13: New point not added, obj = 0.952352, min distance = 0.0, better = false\n",
            "\u001b[36m\u001b[1m[ \u001b[22m\u001b[39m\u001b[36m\u001b[1mInfo: \u001b[22m\u001b[39mInterior point LP: τ = -533.62632793, Status = Interior\n",
            "\u001b[36m\u001b[1m[ \u001b[22m\u001b[39m\u001b[36m\u001b[1mInfo: \u001b[22m\u001b[39mCell 14: New point not added, obj = 0.960481, min distance = 0.0, better = false\n",
            "\u001b[36m\u001b[1m[ \u001b[22m\u001b[39m\u001b[36m\u001b[1mInfo: \u001b[22m\u001b[39mInterior point LP: τ = -133.15216926, Status = Interior\n",
            "\u001b[36m\u001b[1m[ \u001b[22m\u001b[39m\u001b[36m\u001b[1mInfo: \u001b[22m\u001b[39mCell 15: New point not added, obj = 0.949969, min distance = 0.0, better = false\n",
            "\u001b[36m\u001b[1m[ \u001b[22m\u001b[39m\u001b[36m\u001b[1mInfo: \u001b[22m\u001b[39mInterior point LP: τ = -154.31025583, Status = Interior\n",
            "\u001b[36m\u001b[1m[ \u001b[22m\u001b[39m\u001b[36m\u001b[1mInfo: \u001b[22m\u001b[39mCell 16: New point not added, obj = 0.951736, min distance = 0.0, better = false\n"
          ]
        },
        {
          "output_type": "stream",
          "name": "stdout",
          "text": [
            "  New point found: f(x) = 0.949604\n"
          ]
        },
        {
          "output_type": "stream",
          "name": "stderr",
          "text": [
            "\u001b[36m\u001b[1m[ \u001b[22m\u001b[39m\u001b[36m\u001b[1mInfo: \u001b[22m\u001b[39mInterior point LP: τ = -23.36110954, Status = Interior\n"
          ]
        },
        {
          "output_type": "stream",
          "name": "stdout",
          "text": [
            "  New point found: f(x) = 0.950314\n"
          ]
        },
        {
          "output_type": "stream",
          "name": "stderr",
          "text": [
            "\u001b[36m\u001b[1m[ \u001b[22m\u001b[39m\u001b[36m\u001b[1mInfo: \u001b[22m\u001b[39mInterior point LP: τ = -9.74287478, Status = Interior\n",
            "\u001b[36m\u001b[1m[ \u001b[22m\u001b[39m\u001b[36m\u001b[1mInfo: \u001b[22m\u001b[39mInterior point LP: τ = -6.30534451, Status = Interior\n",
            "\u001b[36m\u001b[1m[ \u001b[22m\u001b[39m\u001b[36m\u001b[1mInfo: \u001b[22m\u001b[39mCell 19: New point not added, obj = 0.950204, min distance = 0.0, better = false\n"
          ]
        },
        {
          "output_type": "stream",
          "name": "stdout",
          "text": [
            "  New point found: f(x) = 0.950742\n"
          ]
        },
        {
          "output_type": "stream",
          "name": "stderr",
          "text": [
            "\u001b[36m\u001b[1m[ \u001b[22m\u001b[39m\u001b[36m\u001b[1mInfo: \u001b[22m\u001b[39mInterior point LP: τ = -154.68882568, Status = Interior\n"
          ]
        },
        {
          "output_type": "stream",
          "name": "stdout",
          "text": [
            "  New point found: f(x) = 0.950255\n"
          ]
        },
        {
          "output_type": "stream",
          "name": "stderr",
          "text": [
            "\u001b[36m\u001b[1m[ \u001b[22m\u001b[39m\u001b[36m\u001b[1mInfo: \u001b[22m\u001b[39mInterior point LP: τ = -119.6555746, Status = Interior\n",
            "\u001b[36m\u001b[1m[ \u001b[22m\u001b[39m\u001b[36m\u001b[1mInfo: \u001b[22m\u001b[39mInterior point LP: τ = -166.25415505, Status = Interior\n",
            "\u001b[36m\u001b[1m[ \u001b[22m\u001b[39m\u001b[36m\u001b[1mInfo: \u001b[22m\u001b[39mCell 22: New point not added, obj = 0.950515, min distance = 0.0, better = false\n"
          ]
        },
        {
          "output_type": "stream",
          "name": "stdout",
          "text": [
            "  New point found: f(x) = 0.948985\n"
          ]
        },
        {
          "output_type": "stream",
          "name": "stderr",
          "text": [
            "\u001b[36m\u001b[1m[ \u001b[22m\u001b[39m\u001b[36m\u001b[1mInfo: \u001b[22m\u001b[39mInterior point LP: τ = -47.63757118, Status = Interior\n"
          ]
        },
        {
          "output_type": "stream",
          "name": "stdout",
          "text": [
            "  New point found: f(x) = 0.948977\n"
          ]
        },
        {
          "output_type": "stream",
          "name": "stderr",
          "text": [
            "\u001b[36m\u001b[1m[ \u001b[22m\u001b[39m\u001b[36m\u001b[1mInfo: \u001b[22m\u001b[39mInterior point LP: τ = -10.93500685, Status = Interior\n",
            "\u001b[36m\u001b[1m[ \u001b[22m\u001b[39m\u001b[36m\u001b[1mInfo: \u001b[22m\u001b[39mInterior point LP: τ = -500.106289, Status = Interior\n",
            "\u001b[36m\u001b[1m[ \u001b[22m\u001b[39m\u001b[36m\u001b[1mInfo: \u001b[22m\u001b[39mCell 25: New point not added, obj = 0.950624, min distance = 0.0, better = false\n"
          ]
        },
        {
          "output_type": "stream",
          "name": "stdout",
          "text": [
            "  New point found: f(x) = 0.949748\n"
          ]
        },
        {
          "output_type": "stream",
          "name": "stderr",
          "text": [
            "\u001b[36m\u001b[1m[ \u001b[22m\u001b[39m\u001b[36m\u001b[1mInfo: \u001b[22m\u001b[39mInterior point LP: τ = -69.14689009, Status = Interior\n",
            "\u001b[36m\u001b[1m[ \u001b[22m\u001b[39m\u001b[36m\u001b[1mInfo: \u001b[22m\u001b[39mInterior point LP: τ = -185.22240561, Status = Interior\n",
            "\u001b[36m\u001b[1m[ \u001b[22m\u001b[39m\u001b[36m\u001b[1mInfo: \u001b[22m\u001b[39mCell 27: New point not added, obj = 0.951236, min distance = 0.0, better = false\n"
          ]
        },
        {
          "output_type": "stream",
          "name": "stdout",
          "text": [
            "  New point found: f(x) = 0.950525\n"
          ]
        },
        {
          "output_type": "stream",
          "name": "stderr",
          "text": [
            "\u001b[36m\u001b[1m[ \u001b[22m\u001b[39m\u001b[36m\u001b[1mInfo: \u001b[22m\u001b[39mInterior point LP: τ = -67.68908919, Status = Interior\n"
          ]
        },
        {
          "output_type": "stream",
          "name": "stdout",
          "text": [
            "  New point found: f(x) = 0.948885\n"
          ]
        },
        {
          "output_type": "stream",
          "name": "stderr",
          "text": [
            "\u001b[36m\u001b[1m[ \u001b[22m\u001b[39m\u001b[36m\u001b[1mInfo: \u001b[22m\u001b[39mInterior point LP: τ = -12.8616943, Status = Interior\n"
          ]
        },
        {
          "output_type": "stream",
          "name": "stdout",
          "text": [
            "  New point found: f(x) = 0.949293\n"
          ]
        },
        {
          "output_type": "stream",
          "name": "stderr",
          "text": [
            "\u001b[36m\u001b[1m[ \u001b[22m\u001b[39m\u001b[36m\u001b[1mInfo: \u001b[22m\u001b[39mInterior point LP: τ = -12.28712286, Status = Interior\n"
          ]
        },
        {
          "output_type": "stream",
          "name": "stdout",
          "text": [
            "  New point found: f(x) = 0.950108\n"
          ]
        },
        {
          "output_type": "stream",
          "name": "stderr",
          "text": [
            "\u001b[36m\u001b[1m[ \u001b[22m\u001b[39m\u001b[36m\u001b[1mInfo: \u001b[22m\u001b[39mInterior point LP: τ = -9.49161346, Status = Interior\n"
          ]
        },
        {
          "output_type": "stream",
          "name": "stdout",
          "text": [
            "  New point found: f(x) = 0.950288\n"
          ]
        },
        {
          "output_type": "stream",
          "name": "stderr",
          "text": [
            "\u001b[36m\u001b[1m[ \u001b[22m\u001b[39m\u001b[36m\u001b[1mInfo: \u001b[22m\u001b[39mInterior point LP: τ = -21.72658031, Status = Interior\n"
          ]
        },
        {
          "output_type": "stream",
          "name": "stdout",
          "text": [
            "  New point found: f(x) = 0.953512\n"
          ]
        },
        {
          "output_type": "stream",
          "name": "stderr",
          "text": [
            "\u001b[36m\u001b[1m[ \u001b[22m\u001b[39m\u001b[36m\u001b[1mInfo: \u001b[22m\u001b[39mInterior point LP: τ = -29.3036888, Status = Interior\n"
          ]
        },
        {
          "output_type": "stream",
          "name": "stdout",
          "text": [
            "  New point found: f(x) = 0.950351\n"
          ]
        },
        {
          "output_type": "stream",
          "name": "stderr",
          "text": [
            "\u001b[36m\u001b[1m[ \u001b[22m\u001b[39m\u001b[36m\u001b[1mInfo: \u001b[22m\u001b[39mInterior point LP: τ = -12.50135792, Status = Interior\n"
          ]
        },
        {
          "output_type": "stream",
          "name": "stdout",
          "text": [
            "  New point found: f(x) = 0.951410\n"
          ]
        },
        {
          "output_type": "stream",
          "name": "stderr",
          "text": [
            "\u001b[36m\u001b[1m[ \u001b[22m\u001b[39m\u001b[36m\u001b[1mInfo: \u001b[22m\u001b[39mInterior point LP: τ = -27.37552099, Status = Interior\n"
          ]
        },
        {
          "output_type": "stream",
          "name": "stdout",
          "text": [
            "  New point found: f(x) = 0.948533\n"
          ]
        },
        {
          "output_type": "stream",
          "name": "stderr",
          "text": [
            "\u001b[36m\u001b[1m[ \u001b[22m\u001b[39m\u001b[36m\u001b[1mInfo: \u001b[22m\u001b[39mInterior point LP: τ = -15.82634567, Status = Interior\n"
          ]
        },
        {
          "output_type": "stream",
          "name": "stdout",
          "text": [
            "  New point found: f(x) = 0.952320\n"
          ]
        },
        {
          "output_type": "stream",
          "name": "stderr",
          "text": [
            "\u001b[36m\u001b[1m[ \u001b[22m\u001b[39m\u001b[36m\u001b[1mInfo: \u001b[22m\u001b[39mInterior point LP: τ = -31.89930395, Status = Interior\n"
          ]
        },
        {
          "output_type": "stream",
          "name": "stdout",
          "text": [
            "  New point found: f(x) = 0.950168\n"
          ]
        },
        {
          "output_type": "stream",
          "name": "stderr",
          "text": [
            "\u001b[36m\u001b[1m[ \u001b[22m\u001b[39m\u001b[36m\u001b[1mInfo: \u001b[22m\u001b[39mInterior point LP: τ = -337.85399521, Status = Interior\n"
          ]
        },
        {
          "output_type": "stream",
          "name": "stdout",
          "text": [
            "  New point found: f(x) = 0.949755\n"
          ]
        },
        {
          "output_type": "stream",
          "name": "stderr",
          "text": [
            "\u001b[36m\u001b[1m[ \u001b[22m\u001b[39m\u001b[36m\u001b[1mInfo: \u001b[22m\u001b[39mInterior point LP: τ = -39.43937833, Status = Interior\n"
          ]
        },
        {
          "output_type": "stream",
          "name": "stdout",
          "text": [
            "  New point found: f(x) = 0.949851\n"
          ]
        },
        {
          "output_type": "stream",
          "name": "stderr",
          "text": [
            "\u001b[36m\u001b[1m[ \u001b[22m\u001b[39m\u001b[36m\u001b[1mInfo: \u001b[22m\u001b[39mInterior point LP: τ = -11.81715832, Status = Interior\n"
          ]
        },
        {
          "output_type": "stream",
          "name": "stdout",
          "text": [
            "  New point found: f(x) = 0.949788\n"
          ]
        },
        {
          "output_type": "stream",
          "name": "stderr",
          "text": [
            "\u001b[36m\u001b[1m[ \u001b[22m\u001b[39m\u001b[36m\u001b[1mInfo: \u001b[22m\u001b[39mInterior point LP: τ = -8.54526215, Status = Interior\n"
          ]
        },
        {
          "output_type": "stream",
          "name": "stdout",
          "text": [
            "  New point found: f(x) = 0.949900\n"
          ]
        },
        {
          "output_type": "stream",
          "name": "stderr",
          "text": [
            "\u001b[36m\u001b[1m[ \u001b[22m\u001b[39m\u001b[36m\u001b[1mInfo: \u001b[22m\u001b[39mInterior point LP: τ = -7.89880877, Status = Interior\n",
            "\u001b[36m\u001b[1m[ \u001b[22m\u001b[39m\u001b[36m\u001b[1mInfo: \u001b[22m\u001b[39mInterior point LP: τ = -523.37623275, Status = Interior\n",
            "\u001b[36m\u001b[1m[ \u001b[22m\u001b[39m\u001b[36m\u001b[1mInfo: \u001b[22m\u001b[39mCell 43: New point not added, obj = 0.954551, min distance = 0.0, better = false\n",
            "\u001b[36m\u001b[1m[ \u001b[22m\u001b[39m\u001b[36m\u001b[1mInfo: \u001b[22m\u001b[39mInterior point LP: τ = -395.61486945, Status = Interior\n",
            "\u001b[36m\u001b[1m[ \u001b[22m\u001b[39m\u001b[36m\u001b[1mInfo: \u001b[22m\u001b[39mCell 44: New point not added, obj = 0.989402, min distance = 0.0, better = false\n"
          ]
        },
        {
          "output_type": "stream",
          "name": "stdout",
          "text": [
            "  New point found: f(x) = 0.950336\n"
          ]
        },
        {
          "output_type": "stream",
          "name": "stderr",
          "text": [
            "\u001b[36m\u001b[1m[ \u001b[22m\u001b[39m\u001b[36m\u001b[1mInfo: \u001b[22m\u001b[39mInterior point LP: τ = -13.45812467, Status = Interior\n",
            "\u001b[36m\u001b[1m[ \u001b[22m\u001b[39m\u001b[36m\u001b[1mInfo: \u001b[22m\u001b[39mInterior point LP: τ = -265.17346858, Status = Interior\n",
            "\u001b[36m\u001b[1m[ \u001b[22m\u001b[39m\u001b[36m\u001b[1mInfo: \u001b[22m\u001b[39mCell 46: New point not added, obj = 0.949704, min distance = 0.0, better = false\n"
          ]
        },
        {
          "output_type": "stream",
          "name": "stdout",
          "text": [
            "  New point found: f(x) = 0.952808\n"
          ]
        },
        {
          "output_type": "stream",
          "name": "stderr",
          "text": [
            "\u001b[36m\u001b[1m[ \u001b[22m\u001b[39m\u001b[36m\u001b[1mInfo: \u001b[22m\u001b[39mInterior point LP: τ = -41.20263258, Status = Interior\n"
          ]
        },
        {
          "output_type": "stream",
          "name": "stdout",
          "text": [
            "  New point found: f(x) = 0.949521\n"
          ]
        },
        {
          "output_type": "stream",
          "name": "stderr",
          "text": [
            "\u001b[36m\u001b[1m[ \u001b[22m\u001b[39m\u001b[36m\u001b[1mInfo: \u001b[22m\u001b[39mInterior point LP: τ = -7.3703151, Status = Interior\n"
          ]
        },
        {
          "output_type": "stream",
          "name": "stdout",
          "text": [
            "  New point found: f(x) = 1.049216\n"
          ]
        },
        {
          "output_type": "stream",
          "name": "stderr",
          "text": [
            "\u001b[36m\u001b[1m[ \u001b[22m\u001b[39m\u001b[36m\u001b[1mInfo: \u001b[22m\u001b[39mInterior point LP: τ = -28.95382435, Status = Interior\n"
          ]
        },
        {
          "output_type": "stream",
          "name": "stdout",
          "text": [
            "  New point found: f(x) = 0.993135\n",
            "  ✅ Level 8 completed in 210.2198 sec | Best objective so far: 0.948087\n"
          ]
        },
        {
          "output_type": "stream",
          "name": "stderr",
          "text": [
            "\u001b[36m\u001b[1m[ \u001b[22m\u001b[39m\u001b[36m\u001b[1mInfo: \u001b[22m\u001b[39mInterior point LP: τ = -53.40810146, Status = Interior\n"
          ]
        },
        {
          "output_type": "stream",
          "name": "stdout",
          "text": [
            "507.847619 seconds (22.47 M allocations: 301.116 GiB, 7.16% gc time, 0.25% compilation time: 14% of which was recompilation)\n",
            "\n",
            "✅ VDCG Best Objective: 0.948087\n",
            "✅ VDCG Total Time: 904.5734 sec, Total Points: 122\n",
            "📊 Running Standard CG...\n",
            "📊 Standard CG Objective: 0.963102\n",
            "🔍 Running Multi-start CG (time-limited)...\n",
            "  Seed 23: f(x) = 0.963102, Time so far: 4.9104 sec, Points: 1\n",
            "  Seed 24: f(x) = 0.952292, Time so far: 8.7710 sec, Points: 2\n",
            "  Seed 25: f(x) = 0.951167, Time so far: 12.6317 sec, Points: 3\n",
            "  Seed 26: f(x) = 0.950255, Time so far: 17.9269 sec, Points: 4\n",
            "  Seed 27: f(x) = 0.953081, Time so far: 21.8506 sec, Points: 5\n",
            "  Seed 28: f(x) = 0.950604, Time so far: 25.8126 sec, Points: 6\n",
            "  Seed 29: f(x) = 1.184993, Time so far: 30.7197 sec, Points: 7\n",
            "  Seed 30: f(x) = 0.995973, Time so far: 34.6503 sec, Points: 8\n",
            "  Seed 31: f(x) = 0.950593, Time so far: 38.5608 sec, Points: 9\n",
            "  Seed 32: f(x) = 0.949781, Time so far: 43.4889 sec, Points: 10\n",
            "  Seed 33: f(x) = 0.952354, Time so far: 47.4073 sec, Points: 11\n",
            "  Seed 34: f(x) = 0.969424, Time so far: 51.2991 sec, Points: 12\n",
            "  Seed 35: f(x) = 0.956231, Time so far: 56.2109 sec, Points: 13\n",
            "  Seed 36: f(x) = 0.953052, Time so far: 60.1230 sec, Points: 14\n",
            "  Seed 37: f(x) = 0.950568, Time so far: 64.0391 sec, Points: 15\n",
            "  Seed 38: f(x) = 0.965378, Time so far: 68.9705 sec, Points: 16\n",
            "  Seed 39: f(x) = 0.950589, Time so far: 72.8810 sec, Points: 17\n",
            "  Seed 40: f(x) = 0.949704, Time so far: 76.7882 sec, Points: 18\n",
            "  Seed 41: f(x) = 0.951579, Time so far: 81.7262 sec, Points: 19\n",
            "  Seed 42: f(x) = 0.955015, Time so far: 85.6469 sec, Points: 20\n",
            "  Seed 43: f(x) = 0.949696, Time so far: 89.5827 sec, Points: 21\n",
            "  Seed 44: f(x) = 0.952292, Time so far: 94.4931 sec, Points: 22\n",
            "  Seed 45: f(x) = 1.031094, Time so far: 98.3879 sec, Points: 23\n",
            "  Seed 46: f(x) = 0.950564, Time so far: 102.2941 sec, Points: 24\n",
            "  Seed 47: f(x) = 0.954367, Time so far: 107.2353 sec, Points: 25\n",
            "  Seed 48: f(x) = 0.965378, Time so far: 111.1711 sec, Points: 26\n",
            "  Seed 49: f(x) = 0.955575, Time so far: 115.1012 sec, Points: 27\n",
            "  Seed 50: f(x) = 0.953132, Time so far: 119.9002 sec, Points: 28\n",
            "  Seed 51: f(x) = 0.950541, Time so far: 123.9096 sec, Points: 29\n",
            "  Seed 52: f(x) = 1.184993, Time so far: 127.8030 sec, Points: 30\n",
            "  Seed 53: f(x) = 0.952357, Time so far: 132.5502 sec, Points: 31\n",
            "  Seed 54: f(x) = 0.951309, Time so far: 136.5981 sec, Points: 32\n",
            "  Seed 55: f(x) = 0.950589, Time so far: 140.5073 sec, Points: 33\n",
            "  Seed 56: f(x) = 0.990060, Time so far: 145.0837 sec, Points: 34\n",
            "  Seed 57: f(x) = 0.952893, Time so far: 149.3386 sec, Points: 35\n",
            "  Seed 58: f(x) = 0.950531, Time so far: 153.2867 sec, Points: 36\n",
            "  Seed 59: f(x) = 0.950467, Time so far: 157.7435 sec, Points: 37\n",
            "  Seed 60: f(x) = 0.956546, Time so far: 162.0564 sec, Points: 38\n",
            "  Seed 61: f(x) = 0.953482, Time so far: 165.9484 sec, Points: 39\n",
            "  Seed 62: f(x) = 0.950157, Time so far: 170.2607 sec, Points: 40\n",
            "  Seed 63: f(x) = 0.954189, Time so far: 174.7983 sec, Points: 41\n",
            "  Seed 64: f(x) = 0.956231, Time so far: 178.7027 sec, Points: 42\n",
            "  Seed 65: f(x) = 0.954582, Time so far: 182.8694 sec, Points: 43\n",
            "  Seed 66: f(x) = 0.952194, Time so far: 187.5344 sec, Points: 44\n",
            "  Seed 67: f(x) = 0.950564, Time so far: 191.4598 sec, Points: 45\n",
            "  Seed 68: f(x) = 0.950532, Time so far: 195.4846 sec, Points: 46\n",
            "  Seed 69: f(x) = 0.952553, Time so far: 200.2711 sec, Points: 47\n",
            "  Seed 70: f(x) = 0.950646, Time so far: 204.1953 sec, Points: 48\n",
            "  Seed 71: f(x) = 0.953283, Time so far: 208.1319 sec, Points: 49\n",
            "  Seed 72: f(x) = 0.951176, Time so far: 212.9801 sec, Points: 50\n",
            "  Seed 73: f(x) = 0.950584, Time so far: 216.9312 sec, Points: 51\n",
            "  Seed 74: f(x) = 0.962840, Time so far: 220.7741 sec, Points: 52\n",
            "  Seed 75: f(x) = 0.951089, Time so far: 225.6839 sec, Points: 53\n",
            "  Seed 76: f(x) = 0.994730, Time so far: 229.6096 sec, Points: 54\n",
            "  Seed 77: f(x) = 0.974128, Time so far: 233.5340 sec, Points: 55\n",
            "  Seed 78: f(x) = 0.950557, Time so far: 238.4375 sec, Points: 56\n",
            "  Seed 79: f(x) = 0.952943, Time so far: 242.3532 sec, Points: 57\n",
            "  Seed 80: f(x) = 0.950453, Time so far: 246.2600 sec, Points: 58\n",
            "  Seed 81: f(x) = 0.953346, Time so far: 251.1372 sec, Points: 59\n",
            "  Seed 82: f(x) = 0.957330, Time so far: 255.0429 sec, Points: 60\n",
            "  Seed 83: f(x) = 0.954011, Time so far: 258.9738 sec, Points: 61\n",
            "  Seed 84: f(x) = 0.950556, Time so far: 263.9119 sec, Points: 62\n",
            "  Seed 85: f(x) = 0.950604, Time so far: 267.8414 sec, Points: 63\n",
            "  Seed 86: f(x) = 0.978584, Time so far: 271.7594 sec, Points: 64\n",
            "  Seed 87: f(x) = 0.950604, Time so far: 276.7149 sec, Points: 65\n",
            "  Seed 88: f(x) = 0.952184, Time so far: 280.5911 sec, Points: 66\n",
            "  Seed 89: f(x) = 0.950568, Time so far: 284.4707 sec, Points: 67\n",
            "  Seed 90: f(x) = 0.952292, Time so far: 289.3482 sec, Points: 68\n",
            "  Seed 91: f(x) = 0.949739, Time so far: 293.2740 sec, Points: 69\n",
            "  Seed 92: f(x) = 0.962958, Time so far: 297.1685 sec, Points: 70\n",
            "  Seed 93: f(x) = 0.952893, Time so far: 302.0491 sec, Points: 71\n",
            "  Seed 94: f(x) = 0.970646, Time so far: 306.0044 sec, Points: 72\n",
            "  Seed 95: f(x) = 0.956909, Time so far: 309.9357 sec, Points: 73\n",
            "  Seed 96: f(x) = 0.951522, Time so far: 314.8542 sec, Points: 74\n",
            "  Seed 97: f(x) = 0.950580, Time so far: 318.7789 sec, Points: 75\n",
            "  Seed 98: f(x) = 0.950591, Time so far: 322.7139 sec, Points: 76\n",
            "  Seed 99: f(x) = 0.952354, Time so far: 327.6225 sec, Points: 77\n",
            "  Seed 100: f(x) = 0.952357, Time so far: 331.5293 sec, Points: 78\n",
            "  Seed 101: f(x) = 0.950428, Time so far: 335.5140 sec, Points: 79\n",
            "  Seed 102: f(x) = 0.950467, Time so far: 340.3411 sec, Points: 80\n",
            "  Seed 103: f(x) = 0.951364, Time so far: 344.3119 sec, Points: 81\n",
            "  Seed 104: f(x) = 0.963102, Time so far: 348.1909 sec, Points: 82\n",
            "  Seed 105: f(x) = 0.989402, Time so far: 352.9367 sec, Points: 83\n",
            "  Seed 106: f(x) = 0.950556, Time so far: 357.0639 sec, Points: 84\n",
            "  Seed 107: f(x) = 0.970646, Time so far: 361.0274 sec, Points: 85\n",
            "  Seed 108: f(x) = 0.950557, Time so far: 365.6692 sec, Points: 86\n",
            "  Seed 109: f(x) = 0.994730, Time so far: 369.8846 sec, Points: 87\n",
            "  Seed 110: f(x) = 0.959465, Time so far: 373.7679 sec, Points: 88\n",
            "  Seed 111: f(x) = 0.952074, Time so far: 378.2492 sec, Points: 89\n",
            "  Seed 112: f(x) = 0.951236, Time so far: 382.6022 sec, Points: 90\n",
            "  Seed 113: f(x) = 0.950604, Time so far: 386.5530 sec, Points: 91\n",
            "  Seed 114: f(x) = 0.951176, Time so far: 390.8760 sec, Points: 92\n",
            "  Seed 115: f(x) = 0.950604, Time so far: 395.3651 sec, Points: 93\n",
            "  Seed 116: f(x) = 0.949739, Time so far: 399.2663 sec, Points: 94\n",
            "  Seed 117: f(x) = 0.951955, Time so far: 403.5038 sec, Points: 95\n",
            "  Seed 118: f(x) = 0.950573, Time so far: 408.0826 sec, Points: 96\n",
            "  Seed 119: f(x) = 0.950844, Time so far: 412.0332 sec, Points: 97\n",
            "  Seed 120: f(x) = 0.950532, Time so far: 416.1603 sec, Points: 98\n",
            "  Seed 121: f(x) = 0.975581, Time so far: 420.8492 sec, Points: 99\n",
            "  Seed 122: f(x) = 0.950544, Time so far: 424.8006 sec, Points: 100\n",
            "  Seed 123: f(x) = 0.978584, Time so far: 428.8024 sec, Points: 101\n",
            "  Seed 124: f(x) = 0.950453, Time so far: 433.5820 sec, Points: 102\n",
            "  Seed 125: f(x) = 0.962958, Time so far: 437.4781 sec, Points: 103\n",
            "  Seed 126: f(x) = 0.954649, Time so far: 441.3768 sec, Points: 104\n",
            "  Seed 127: f(x) = 0.954266, Time so far: 446.2662 sec, Points: 105\n",
            "  Seed 128: f(x) = 0.951522, Time so far: 450.1542 sec, Points: 106\n",
            "  Seed 129: f(x) = 0.956003, Time so far: 454.0634 sec, Points: 107\n",
            "  Seed 130: f(x) = 0.950589, Time so far: 458.9696 sec, Points: 108\n",
            "  Seed 131: f(x) = 0.953283, Time so far: 462.8519 sec, Points: 109\n",
            "  Seed 132: f(x) = 0.952769, Time so far: 466.7234 sec, Points: 110\n",
            "  Seed 133: f(x) = 0.965378, Time so far: 471.6335 sec, Points: 111\n",
            "  Seed 134: f(x) = 0.985741, Time so far: 475.5207 sec, Points: 112\n",
            "  Seed 135: f(x) = 0.950526, Time so far: 479.3734 sec, Points: 113\n",
            "  Seed 136: f(x) = 1.049216, Time so far: 479.5036 sec, Points: 114\n",
            "  Seed 137: f(x) = 0.953807, Time so far: 484.4216 sec, Points: 115\n",
            "  Seed 138: f(x) = 0.951522, Time so far: 488.3146 sec, Points: 116\n",
            "  Seed 139: f(x) = 0.950441, Time so far: 492.2040 sec, Points: 117\n",
            "  Seed 140: f(x) = 0.951522, Time so far: 497.1270 sec, Points: 118\n",
            "  Seed 141: f(x) = 0.954094, Time so far: 501.0301 sec, Points: 119\n",
            "  Seed 142: f(x) = 1.303893, Time so far: 504.9336 sec, Points: 120\n",
            "  Seed 143: f(x) = 0.950646, Time so far: 509.8492 sec, Points: 121\n",
            "  Seed 144: f(x) = 0.957850, Time so far: 513.7382 sec, Points: 122\n",
            "  Seed 145: f(x) = 2.956741, Time so far: 517.6875 sec, Points: 123\n",
            "  Seed 146: f(x) = 0.955752, Time so far: 522.5659 sec, Points: 124\n",
            "  Seed 147: f(x) = 0.951204, Time so far: 526.4656 sec, Points: 125\n",
            "  Seed 148: f(x) = 0.952396, Time so far: 530.3410 sec, Points: 126\n",
            "  Seed 149: f(x) = 0.950759, Time so far: 535.2546 sec, Points: 127\n",
            "  Seed 150: f(x) = 0.995973, Time so far: 539.1336 sec, Points: 128\n",
            "  Seed 151: f(x) = 0.950949, Time so far: 543.0521 sec, Points: 129\n",
            "  Seed 152: f(x) = 0.955345, Time so far: 547.9551 sec, Points: 130\n",
            "  Seed 153: f(x) = 0.950524, Time so far: 551.8687 sec, Points: 131\n",
            "  Seed 154: f(x) = 0.954266, Time so far: 555.7338 sec, Points: 132\n",
            "  Seed 155: f(x) = 0.994730, Time so far: 560.5250 sec, Points: 133\n",
            "  Seed 156: f(x) = 0.994730, Time so far: 564.6032 sec, Points: 134\n",
            "  Seed 157: f(x) = 0.953664, Time so far: 568.5614 sec, Points: 135\n",
            "  Seed 158: f(x) = 0.950592, Time so far: 573.3207 sec, Points: 136\n",
            "  Seed 159: f(x) = 0.950526, Time so far: 577.4496 sec, Points: 137\n",
            "  Seed 160: f(x) = 0.951364, Time so far: 581.3227 sec, Points: 138\n",
            "  Seed 161: f(x) = 0.994730, Time so far: 585.9777 sec, Points: 139\n",
            "  Seed 162: f(x) = 0.956231, Time so far: 590.1718 sec, Points: 140\n",
            "  Seed 163: f(x) = 0.952618, Time so far: 594.6432 sec, Points: 141\n",
            "  Seed 164: f(x) = 0.950663, Time so far: 599.4679 sec, Points: 142\n",
            "  Seed 165: f(x) = 0.950584, Time so far: 603.4719 sec, Points: 143\n",
            "  Seed 166: f(x) = 0.957993, Time so far: 607.4294 sec, Points: 144\n",
            "  Seed 167: f(x) = 0.974128, Time so far: 612.1761 sec, Points: 145\n",
            "  Seed 168: f(x) = 0.950557, Time so far: 616.2862 sec, Points: 146\n",
            "  Seed 169: f(x) = 1.004099, Time so far: 620.1726 sec, Points: 147\n",
            "  Seed 170: f(x) = 0.951358, Time so far: 624.7858 sec, Points: 148\n",
            "  Seed 171: f(x) = 0.951167, Time so far: 629.0475 sec, Points: 149\n",
            "  Seed 172: f(x) = 0.951358, Time so far: 632.9501 sec, Points: 150\n",
            "  Seed 173: f(x) = 0.961494, Time so far: 637.4924 sec, Points: 151\n",
            "  Seed 174: f(x) = 0.970646, Time so far: 641.8592 sec, Points: 152\n",
            "  Seed 175: f(x) = 0.952481, Time so far: 645.7934 sec, Points: 153\n",
            "  Seed 176: f(x) = 0.950592, Time so far: 650.2458 sec, Points: 154\n",
            "  Seed 177: f(x) = 0.952532, Time so far: 654.6591 sec, Points: 155\n",
            "  Seed 178: f(x) = 0.952299, Time so far: 658.5760 sec, Points: 156\n",
            "  Seed 179: f(x) = 0.952264, Time so far: 662.8744 sec, Points: 157\n",
            "  Seed 180: f(x) = 0.950556, Time so far: 667.4296 sec, Points: 158\n",
            "  Seed 181: f(x) = 0.952893, Time so far: 671.3335 sec, Points: 159\n",
            "  Seed 182: f(x) = 0.956909, Time so far: 675.5868 sec, Points: 160\n",
            "  Seed 183: f(x) = 0.953081, Time so far: 680.2213 sec, Points: 161\n",
            "  Seed 184: f(x) = 0.950536, Time so far: 684.1574 sec, Points: 162\n",
            "  Seed 185: f(x) = 0.955568, Time so far: 688.3898 sec, Points: 163\n",
            "  Seed 186: f(x) = 0.954189, Time so far: 693.0545 sec, Points: 164\n",
            "  Seed 187: f(x) = 0.950604, Time so far: 697.0034 sec, Points: 165\n",
            "  Seed 188: f(x) = 0.950441, Time so far: 701.1121 sec, Points: 166\n",
            "  Seed 189: f(x) = 0.951579, Time so far: 705.8930 sec, Points: 167\n",
            "  Seed 190: f(x) = 0.951494, Time so far: 709.8355 sec, Points: 168\n",
            "  Seed 191: f(x) = 0.953250, Time so far: 713.8520 sec, Points: 169\n",
            "  Seed 192: f(x) = 0.954094, Time so far: 718.6786 sec, Points: 170\n",
            "  Seed 193: f(x) = 0.953188, Time so far: 722.6016 sec, Points: 171\n",
            "  Seed 194: f(x) = 0.951150, Time so far: 726.5259 sec, Points: 172\n",
            "  Seed 195: f(x) = 0.955584, Time so far: 731.4315 sec, Points: 173\n",
            "  Seed 196: f(x) = 0.951494, Time so far: 735.3724 sec, Points: 174\n",
            "  Seed 197: f(x) = 0.953132, Time so far: 739.2523 sec, Points: 175\n",
            "  Seed 198: f(x) = 0.952571, Time so far: 744.1779 sec, Points: 176\n",
            "  Seed 199: f(x) = 0.950532, Time so far: 748.1192 sec, Points: 177\n",
            "  Seed 200: f(x) = 0.951579, Time so far: 752.0234 sec, Points: 178\n",
            "  Seed 201: f(x) = 0.952893, Time so far: 756.9533 sec, Points: 179\n",
            "  Seed 202: f(x) = 0.950427, Time so far: 760.8267 sec, Points: 180\n",
            "  Seed 203: f(x) = 1.017255, Time so far: 764.7344 sec, Points: 181\n",
            "  Seed 204: f(x) = 0.950460, Time so far: 769.6444 sec, Points: 182\n",
            "  Seed 205: f(x) = 0.950453, Time so far: 773.5378 sec, Points: 183\n",
            "  Seed 206: f(x) = 0.951309, Time so far: 777.4239 sec, Points: 184\n",
            "  Seed 207: f(x) = 0.958130, Time so far: 782.3558 sec, Points: 185\n",
            "  Seed 208: f(x) = 0.953455, Time so far: 786.2614 sec, Points: 186\n",
            "  Seed 209: f(x) = 0.950564, Time so far: 790.1762 sec, Points: 187\n",
            "  Seed 210: f(x) = 0.951082, Time so far: 795.1048 sec, Points: 188\n",
            "  Seed 211: f(x) = 0.954189, Time so far: 799.0244 sec, Points: 189\n",
            "  Seed 212: f(x) = 0.950453, Time so far: 802.9480 sec, Points: 190\n",
            "  Seed 213: f(x) = 0.953482, Time so far: 807.8679 sec, Points: 191\n",
            "  Seed 214: f(x) = 0.950564, Time so far: 811.7812 sec, Points: 192\n",
            "  Seed 215: f(x) = 1.032897, Time so far: 815.7151 sec, Points: 193\n",
            "  Seed 216: f(x) = 0.950581, Time so far: 820.6175 sec, Points: 194\n",
            "  Seed 217: f(x) = 0.958000, Time so far: 824.5437 sec, Points: 195\n",
            "  Seed 218: f(x) = 0.950511, Time so far: 828.4472 sec, Points: 196\n",
            "  Seed 219: f(x) = 0.955015, Time so far: 833.4059 sec, Points: 197\n",
            "  Seed 220: f(x) = 0.953346, Time so far: 837.3072 sec, Points: 198\n",
            "  Seed 221: f(x) = 0.955711, Time so far: 841.2755 sec, Points: 199\n",
            "  Seed 222: f(x) = 0.951481, Time so far: 846.2120 sec, Points: 200\n",
            "  Seed 223: f(x) = 0.951333, Time so far: 850.1169 sec, Points: 201\n",
            "  Seed 224: f(x) = 0.951082, Time so far: 854.0365 sec, Points: 202\n",
            "  Seed 225: f(x) = 0.949860, Time so far: 858.8316 sec, Points: 203\n",
            "  Seed 226: f(x) = 0.952516, Time so far: 862.8852 sec, Points: 204\n",
            "  Seed 227: f(x) = 0.950427, Time so far: 866.8158 sec, Points: 205\n",
            "  Seed 228: f(x) = 1.049216, Time so far: 866.9475 sec, Points: 206\n",
            "  Seed 229: f(x) = 0.953290, Time so far: 871.8085 sec, Points: 207\n",
            "  Seed 230: f(x) = 0.951133, Time so far: 875.8424 sec, Points: 208\n",
            "  Seed 231: f(x) = 0.949781, Time so far: 879.7770 sec, Points: 209\n",
            "  Seed 232: f(x) = 0.954011, Time so far: 884.4964 sec, Points: 210\n",
            "  Seed 233: f(x) = 0.959503, Time so far: 888.5579 sec, Points: 211\n",
            "  Seed 234: f(x) = 0.949739, Time so far: 892.4504 sec, Points: 212\n",
            "  Seed 235: f(x) = 0.969010, Time so far: 896.9976 sec, Points: 213\n",
            "  Seed 236: f(x) = 0.951600, Time so far: 901.2413 sec, Points: 214\n",
            "  Seed 237: f(x) = 0.953346, Time so far: 905.1183 sec, Points: 215\n",
            "🔍 Multi-start CG Best: 0.949696 (Time: 905.1183 sec, Points: 215)\n",
            "\n",
            "📋 Summary of Results for Sigmoid Regression (a8a)\n",
            "┌──────────────────────┬─────────────────┬──────────────┬─────────────────┐\n",
            "│ Method               │ Objective Value │ Runtime (sec) │ Points Evaluated │\n",
            "├──────────────────────┼─────────────────┼──────────────┼─────────────────┤\n",
            "│ VDCG                 │ 0.948087        │ 904.5734     │ 122             │\n",
            "│ Standard CG          │ 0.963102        │ 3.1900       │ 1               │\n",
            "│ Multi-start CG       │ 0.949696        │ 905.1183     │ 215             │\n",
            "└──────────────────────┴─────────────────┴──────────────┴─────────────────┘\n"
          ]
        }
      ],
      "source": [
        "using JuMP, HiGHS    #a8a\n",
        "using LinearAlgebra\n",
        "using Zygote\n",
        "using LIBSVMdata\n",
        "using Printf\n",
        "using Random\n",
        "using Statistics\n",
        "using SparseArrays\n",
        "\n",
        "# Set random seed for reproducibility\n",
        "Random.seed!(23)\n",
        "\n",
        "# ================== Configuration ================== #\n",
        "const MAX_LEVELS = 8\n",
        "const TOL_UNIQUE = 1e-3\n",
        "const TOL_CONVERGENCE = 1e-6\n",
        "const TAU_L1 = 50.0  # L1-norm ball radius\n",
        "const tau = 50.0     # L1-norm ball radius\n",
        "\n",
        "# ================== Global Data ================== #\n",
        "A = spzeros(1, 1)\n",
        "y = zeros(1)\n",
        "n = 1\n",
        "\n",
        "# Sigmoid function\n",
        "sigmoid(z) = 1 / (1 + exp(-z))\n",
        "\n",
        "# Objective and gradient\n",
        "f(x) = mean((y .- sigmoid.(A * x)).^2)\n",
        "grad_f(x) = Zygote.gradient(f, x)[1]\n",
        "\n",
        "# Linear Minimization Oracle for the L1-ball ||x||_1 ≤ τ\n",
        "function lmo(g)\n",
        "    i = argmax(abs.(g))\n",
        "    v = zeros(n)\n",
        "    v[i] = -TAU_L1 * sign(g[i])\n",
        "    return v\n",
        "end\n",
        "\n",
        "# Check if a point is new\n",
        "function is_new_point(x, points, tol=TOL_UNIQUE)\n",
        "    all(norm(x - p) >= tol for p in points)\n",
        "end\n",
        "\n",
        "# ================== Adaptive Frank-Wolfe Algorithm ================== #\n",
        "function conditional_gradient_adjustable_scaling(f, grad_f, lmo, x0; max_iter=1000, epsilon=TOL_CONVERGENCE, delta=1e-10, beta=2, gamma=0.5)\n",
        "    x_prev = copy(x0)\n",
        "    x_curr = copy(x0)\n",
        "    values = [f(x_curr)]\n",
        "    times = [0.0]\n",
        "    gaps = Float64[]\n",
        "    L_ks = Float64[]\n",
        "    steps = Float64[]\n",
        "    backtrack_counts = Int[]\n",
        "    gamma_history = [gamma]\n",
        "    k = 0\n",
        "    prev_grad = grad_f(x_prev)\n",
        "    current_f = f(x_curr)\n",
        "    recent_backtracks = Int[]\n",
        "\n",
        "    while k < max_iter\n",
        "        start = time()\n",
        "        current_grad = grad_f(x_curr)\n",
        "        v = lmo(current_grad)\n",
        "        d = v - x_curr\n",
        "        normd2 = dot(d, d)\n",
        "        gap = -dot(current_grad, d)\n",
        "\n",
        "        if gap <= epsilon\n",
        "            push!(times, time() - start)\n",
        "            push!(gaps, gap)\n",
        "            break\n",
        "        end\n",
        "\n",
        "        if k == 0\n",
        "            d0 = ones(length(x0)) / sqrt(length(x0))\n",
        "            x_temp = x0 + 1e-3 * d0\n",
        "            L_k = gamma * (norm(grad_f(x0) - grad_f(x_temp)) / (1e-3 * norm(d0)) + delta)\n",
        "        else\n",
        "            grad_diff = norm(current_grad - prev_grad)\n",
        "            x_diff = norm(x_curr - x_prev)\n",
        "            L_k = gamma * (grad_diff / x_diff + delta)\n",
        "        end\n",
        "        Lknormd2 = L_k * normd2\n",
        "        t_k = min(gap / Lknormd2, 1.0)\n",
        "        i = 0\n",
        "        while true\n",
        "            x_new = x_curr + t_k * d\n",
        "            new_f = f(x_new)\n",
        "            if current_f - new_f >= t_k * gap - (Lknormd2 / 2) * t_k^2\n",
        "                x_prev = copy(x_curr)\n",
        "                x_curr = x_new\n",
        "                push!(backtrack_counts, i)\n",
        "                push!(recent_backtracks, i)\n",
        "                break\n",
        "            else\n",
        "                L_k *= beta\n",
        "                Lknormd2 = L_k * normd2\n",
        "                t_k = min(gap / Lknormd2, 1.0)\n",
        "                i += 1\n",
        "            end\n",
        "        end\n",
        "\n",
        "        if k % 10 == 0 && k > 0\n",
        "            total_backtracks = sum(recent_backtracks)\n",
        "            if total_backtracks == 0\n",
        "                gamma = max(1e-4, gamma * 0.9)\n",
        "            elseif total_backtracks > 10\n",
        "                gamma = min(1.0, gamma * 1.1)\n",
        "            end\n",
        "            push!(gamma_history, gamma)\n",
        "            recent_backtracks = Int[]\n",
        "        elseif k % 10 == 0\n",
        "            push!(gamma_history, gamma)\n",
        "            recent_backtracks = Int[]\n",
        "        else\n",
        "            push!(recent_backtracks, i)\n",
        "        end\n",
        "        k += 1\n",
        "        iteration_time = time() - start\n",
        "\n",
        "        current_f = f(x_curr)\n",
        "        prev_grad = current_grad\n",
        "        push!(gaps, gap)\n",
        "        push!(steps, t_k)\n",
        "        push!(values, current_f)\n",
        "        push!(times, iteration_time)\n",
        "        push!(L_ks, L_k)\n",
        "\n",
        "        if k % 100 == 0\n",
        "            # println(\"k=$k, gap=$(round(gap, digits=4)), t_k=$(round(t_k, digits=4)), L_k=$(round(L_ks[end], digits=6)), Time=$(round(times[end], digits=4)), f=$(round(values[end], digits=6))\")\n",
        "        end\n",
        "    end\n",
        "    total_time = sum(times)\n",
        "    return (x_curr, values, times, gaps, L_ks, backtrack_counts, steps, gamma_history, total_time)\n",
        "end\n",
        "\n",
        "# ================== Interior Point via Slack (Paper's Method) ================== #\n",
        "function find_interior_point(p_i, sites)\n",
        "    model = Model(HiGHS.Optimizer)\n",
        "    set_silent(model)\n",
        "    @variable(model, xp[1:n] >= 0)\n",
        "    @variable(model, xn[1:n] >= 0)\n",
        "    @variable(model, τ)\n",
        "\n",
        "    # L1 constraint: ||x||_1 ≤ TAU_L1\n",
        "    @constraint(model, sum(xp) + sum(xn) <= TAU_L1)\n",
        "\n",
        "    # Reconstruct x = xp - xn\n",
        "    x = xp - xn\n",
        "\n",
        "    # Voronoi cell constraints with slack\n",
        "    for j in 1:length(sites)\n",
        "        if sites[j] ≈ p_i\n",
        "            continue\n",
        "        end\n",
        "        p_j = sites[j]\n",
        "        a = p_j - p_i\n",
        "        b_val = 0.5 * dot(p_j + p_i, p_j - p_i)\n",
        "        @constraint(model, dot(a, x) <= b_val + τ)\n",
        "    end\n",
        "    @objective(model, Min, τ)\n",
        "    optimize!(model)\n",
        "    if termination_status(model) == OPTIMAL\n",
        "        x_sol = value.(xp) - value.(xn)\n",
        "        τ_sol = value(τ)\n",
        "        @info \"Interior point LP: τ = $(round(τ_sol, digits=8)), Status = $(τ_sol < -1e-8 ? \"Interior\" : \"Boundary\")\"\n",
        "        return τ_sol < -1e-8 ? (x_sol, \"Interior\") : (x_sol, \"Boundary\")\n",
        "    else\n",
        "        @warn \"Interior point LP failed: Infeasible or unbounded\"\n",
        "        if length(sites) == 1\n",
        "            @info \"Returning barycenter as fallback\"\n",
        "            return zeros(n), \"Interior\"\n",
        "        end\n",
        "        return nothing, \"Infeasible\"\n",
        "    end\n",
        "end\n",
        "\n",
        "# ================== Voronoi Partitioning ================== #\n",
        "function create_voronoi_partitions(sites)\n",
        "    base_A = vcat(\n",
        "        Matrix{Float64}(I, n, n),      # x ≥ -TAU_L1\n",
        "        -Matrix{Float64}(I, n, n)      # x ≤ TAU_L1\n",
        "    )\n",
        "    base_b = vcat(\n",
        "        TAU_L1 * ones(n),\n",
        "        TAU_L1 * ones(n)\n",
        "    )\n",
        "    partitions = []\n",
        "    K = length(sites)\n",
        "    if K == 1\n",
        "        push!(partitions, (base_A, base_b))\n",
        "        return partitions\n",
        "    end\n",
        "    for i in 1:K\n",
        "        A_i = copy(base_A)\n",
        "        b_i = copy(base_b)\n",
        "        p_i = sites[i]\n",
        "        for j in 1:K\n",
        "            i == j && continue\n",
        "            p_j = sites[j]\n",
        "            a = (p_j - p_i)'\n",
        "            b_val = 0.5 * dot(p_j + p_i, p_j - p_i)\n",
        "            A_i = vcat(A_i, a)\n",
        "            b_i = vcat(b_i, b_val)\n",
        "        end\n",
        "        push!(partitions, (A_i, b_i))\n",
        "    end\n",
        "    return partitions\n",
        "end\n",
        "\n",
        "# ================== Main VDCG Algorithm ================== #\n",
        "function voronoi_conditional_gradient(f, grad_f, lmo, x0)\n",
        "    x_init, _, cg_times, _, _, _, _, _, init_time = conditional_gradient_adjustable_scaling(f, grad_f, lmo, x0)\n",
        "    total_time = init_time\n",
        "    sites = [x0, x_init]\n",
        "    num_points = 1\n",
        "    archive = [(x_init, f(x_init))]\n",
        "    best_so_far = f(x_init)\n",
        "    @printf(\"Initial solution: f(x) = %.6f\\n\", f(x_init))\n",
        "    @info \"Distance between x0 and x_init: $(norm(x0 - x_init))\"\n",
        "\n",
        "    for level in 1:MAX_LEVELS\n",
        "        start_time = time()\n",
        "        @printf(\"→ VDCG Level %d: %d sites, Current best f(x) = %.6f\\n\", level, length(sites), best_so_far)\n",
        "        partitions = create_voronoi_partitions(sites)\n",
        "        new_sites = []\n",
        "        for (i, (A_cell, b_cell)) in enumerate(partitions)\n",
        "            x_inner, status = find_interior_point(sites[i], sites)\n",
        "            if x_inner === nothing || status == \"Infeasible\"\n",
        "                @info \"Skipping cell $i: $status\"\n",
        "                continue\n",
        "            end\n",
        "            x_stat, _, cg_times, _, _, _, _, _, cg_time = conditional_gradient_adjustable_scaling(f, grad_f, lmo, x_inner)\n",
        "            total_time += cg_time\n",
        "            num_points += 1\n",
        "            obj = f(x_stat)\n",
        "            all_points = [s for (s, _) in archive]\n",
        "            if is_new_point(x_stat, all_points) && is_new_point(x_stat, new_sites)\n",
        "                push!(new_sites, x_stat)\n",
        "                push!(archive, (x_stat, obj))\n",
        "                @printf(\"  New point found: f(x) = %.6f\\n\", obj)\n",
        "                best_so_far = min(best_so_far, obj)\n",
        "            else\n",
        "                min_dist = minimum(norm(x_stat - p) for p in all_points)\n",
        "                @info \"Cell $i: New point not added, obj = $(round(obj, digits=6)), min distance = $(round(min_dist, digits=6)), better = $(obj < best_so_far)\"\n",
        "            end\n",
        "        end\n",
        "        elapsed = time() - start_time\n",
        "        total_time += elapsed\n",
        "        if isempty(new_sites)\n",
        "            @printf(\"→ No new points found. Terminating at level %d.\\n\", level)\n",
        "            @printf(\"  🕒 Level %d runtime: %.4f sec | Best objective: %.6f\\n\", level, elapsed, best_so_far)\n",
        "            break\n",
        "        else\n",
        "            append!(sites, new_sites)\n",
        "            @printf(\"  ✅ Level %d completed in %.4f sec | Best objective so far: %.6f\\n\", level, elapsed, best_so_far)\n",
        "        end\n",
        "    end\n",
        "    best_idx = argmin([obj for (_, obj) in archive])\n",
        "    x_best, f_best = archive[best_idx]\n",
        "    return x_best, f_best, archive, sites, total_time, num_points\n",
        "end\n",
        "\n",
        "# ================== Load Problem Data ================== #\n",
        "function load_libsvm_data()\n",
        "    data_name = \"a8a\"\n",
        "    @info \"Loading LIBSVM dataset '$data_name'...\"\n",
        "    global A, y, n\n",
        "    A_loaded, y_loaded = load_dataset(data_name, dense=false, replace=false, verbose=true)\n",
        "    A = A_loaded\n",
        "    y = Float64.(y_loaded)\n",
        "    m, n = size(A)\n",
        "    # Map labels: {-1,1} → {0,1} for sigmoid output (optional)\n",
        "    # y = (y .+ 1) ./ 2\n",
        "    Random.seed!(23)\n",
        "    V = vcat(tau * I(n), -tau * I(n))\n",
        "    global x0 = V[rand(1:size(V, 1)), :]\n",
        "    @info \"Data loaded: $m samples, $n features\"\n",
        "    @info \"Initial point x0 set on L1-ball boundary\"\n",
        "end\n",
        "\n",
        "# ================== Run Experiment ================== #\n",
        "function main()\n",
        "    # Load data for sigmoid regression\n",
        "    load_libsvm_data()\n",
        "\n",
        "    # Run VDCG\n",
        "    @printf(\"\\n🚀 Starting VDCG...\\n\")\n",
        "    @time x_vdcg, f_vdcg, archive, sites, vdcg_time, vdcg_points = voronoi_conditional_gradient(f, grad_f, lmo, x0)\n",
        "    @printf(\"\\n✅ VDCG Best Objective: %.6f\\n\", f_vdcg)\n",
        "    @printf(\"✅ VDCG Total Time: %.4f sec, Total Points: %d\\n\", vdcg_time, vdcg_points)\n",
        "\n",
        "    # Standard CG\n",
        "    @printf(\"📊 Running Standard CG...\\n\")\n",
        "    x_std, _, _, _, _, _, _, _, std_time = conditional_gradient_adjustable_scaling(f, grad_f, lmo, x0)\n",
        "    f_std = f(x_std)\n",
        "    @printf(\"📊 Standard CG Objective: %.6f\\n\", f_std)\n",
        "\n",
        "    # Multi-start CG (limited by VDCG time)\n",
        "    @printf(\"🔍 Running Multi-start CG (time-limited)...\\n\")\n",
        "    f_multi = Inf\n",
        "    total_multi_time = 0.0\n",
        "    points_evaluated = 0\n",
        "    seed = 23\n",
        "    while total_multi_time < vdcg_time\n",
        "        Random.seed!(seed)\n",
        "        start = time()\n",
        "\n",
        "        # For the first iteration (seed 23), use the same x0 as standard CG\n",
        "        if seed == 23\n",
        "            x_rand = copy(x0)\n",
        "        else\n",
        "            V = vcat(tau * I(n), -tau * I(n))\n",
        "            x_rand = V[rand(1:size(V, 1)), :]\n",
        "        end\n",
        "\n",
        "        x, _, _, _, _, _, _, _, cg_time = conditional_gradient_adjustable_scaling(f, grad_f, lmo, x_rand)\n",
        "        total_multi_time += time() - start\n",
        "        points_evaluated += 1\n",
        "        f_current = f(x)\n",
        "        f_multi = min(f_multi, f_current)\n",
        "\n",
        "        @printf(\"  Seed %d: f(x) = %.6f, Time so far: %.4f sec, Points: %d\\n\", seed, f_current, total_multi_time, points_evaluated)\n",
        "        seed += 1\n",
        "    end\n",
        "    @printf(\"🔍 Multi-start CG Best: %.6f (Time: %.4f sec, Points: %d)\\n\", f_multi, total_multi_time, points_evaluated)\n",
        "\n",
        "    # Summary Table\n",
        "    @printf(\"\\n📋 Summary of Results for Sigmoid Regression (a8a)\\n\")\n",
        "    @printf(\"┌──────────────────────┬─────────────────┬──────────────┬─────────────────┐\\n\")\n",
        "    @printf(\"│ %-20s │ %-15s │ %-12s │ %-15s │\\n\", \"Method\", \"Objective Value\", \"Runtime (sec)\", \"Points Evaluated\")\n",
        "    @printf(\"├──────────────────────┼─────────────────┼──────────────┼─────────────────┤\\n\")\n",
        "    @printf(\"│ %-20s │ %-15.6f │ %-12.4f │ %-15d │\\n\", \"VDCG\", f_vdcg, vdcg_time, vdcg_points)\n",
        "    @printf(\"│ %-20s │ %-15.6f │ %-12.4f │ %-15d │\\n\", \"Standard CG\", f_std, std_time, 1)\n",
        "    @printf(\"│ %-20s │ %-15.6f │ %-12.4f │ %-15d │\\n\", \"Multi-start CG\", f_multi, total_multi_time, points_evaluated)\n",
        "    @printf(\"└──────────────────────┴─────────────────┴──────────────┴─────────────────┘\\n\")\n",
        "end\n",
        "\n",
        "# Run everything\n",
        "main()"
      ]
    },
    {
      "cell_type": "code",
      "source": [
        "using JuMP, HiGHS    #a9a\n",
        "using LinearAlgebra\n",
        "using Zygote\n",
        "using LIBSVMdata\n",
        "using Printf\n",
        "using Random\n",
        "using Statistics\n",
        "using SparseArrays\n",
        "\n",
        "# Set random seed for reproducibility\n",
        "Random.seed!(23)\n",
        "\n",
        "# ================== Configuration ================== #\n",
        "const MAX_LEVELS = 8\n",
        "const TOL_UNIQUE = 1e-3\n",
        "const TOL_CONVERGENCE = 1e-6\n",
        "const TAU_L1 = 50.0  # L1-norm ball radius\n",
        "const tau = 50.0     # L1-norm ball radius\n",
        "\n",
        "# ================== Global Data ================== #\n",
        "A = spzeros(1, 1)\n",
        "y = zeros(1)\n",
        "n = 1\n",
        "\n",
        "# Sigmoid function\n",
        "sigmoid(z) = 1 / (1 + exp(-z))\n",
        "\n",
        "# Objective and gradient\n",
        "f(x) = mean((y .- sigmoid.(A * x)).^2)\n",
        "grad_f(x) = Zygote.gradient(f, x)[1]\n",
        "\n",
        "# Linear Minimization Oracle for the L1-ball ||x||_1 ≤ τ\n",
        "function lmo(g)\n",
        "    i = argmax(abs.(g))\n",
        "    v = zeros(n)\n",
        "    v[i] = -TAU_L1 * sign(g[i])\n",
        "    return v\n",
        "end\n",
        "\n",
        "# Check if a point is new\n",
        "function is_new_point(x, points, tol=TOL_UNIQUE)\n",
        "    all(norm(x - p) >= tol for p in points)\n",
        "end\n",
        "\n",
        "# ================== Adaptive Frank-Wolfe Algorithm ================== #\n",
        "function conditional_gradient_adjustable_scaling(f, grad_f, lmo, x0; max_iter=1000, epsilon=TOL_CONVERGENCE, delta=1e-10, beta=2, gamma=0.5)\n",
        "    x_prev = copy(x0)\n",
        "    x_curr = copy(x0)\n",
        "    values = [f(x_curr)]\n",
        "    times = [0.0]\n",
        "    gaps = Float64[]\n",
        "    L_ks = Float64[]\n",
        "    steps = Float64[]\n",
        "    backtrack_counts = Int[]\n",
        "    gamma_history = [gamma]\n",
        "    k = 0\n",
        "    prev_grad = grad_f(x_prev)\n",
        "    current_f = f(x_curr)\n",
        "    recent_backtracks = Int[]\n",
        "\n",
        "    while k < max_iter\n",
        "        start = time()\n",
        "        current_grad = grad_f(x_curr)\n",
        "        v = lmo(current_grad)\n",
        "        d = v - x_curr\n",
        "        normd2 = dot(d, d)\n",
        "        gap = -dot(current_grad, d)\n",
        "\n",
        "        if gap <= epsilon\n",
        "            push!(times, time() - start)\n",
        "            push!(gaps, gap)\n",
        "            break\n",
        "        end\n",
        "\n",
        "        if k == 0\n",
        "            d0 = ones(length(x0)) / sqrt(length(x0))\n",
        "            x_temp = x0 + 1e-3 * d0\n",
        "            L_k = gamma * (norm(grad_f(x0) - grad_f(x_temp)) / (1e-3 * norm(d0)) + delta)\n",
        "        else\n",
        "            grad_diff = norm(current_grad - prev_grad)\n",
        "            x_diff = norm(x_curr - x_prev)\n",
        "            L_k = gamma * (grad_diff / x_diff + delta)\n",
        "        end\n",
        "        Lknormd2 = L_k * normd2\n",
        "        t_k = min(gap / Lknormd2, 1.0)\n",
        "        i = 0\n",
        "        while true\n",
        "            x_new = x_curr + t_k * d\n",
        "            new_f = f(x_new)\n",
        "            if current_f - new_f >= t_k * gap - (Lknormd2 / 2) * t_k^2\n",
        "                x_prev = copy(x_curr)\n",
        "                x_curr = x_new\n",
        "                push!(backtrack_counts, i)\n",
        "                push!(recent_backtracks, i)\n",
        "                break\n",
        "            else\n",
        "                L_k *= beta\n",
        "                Lknormd2 = L_k * normd2\n",
        "                t_k = min(gap / Lknormd2, 1.0)\n",
        "                i += 1\n",
        "            end\n",
        "        end\n",
        "\n",
        "        if k % 10 == 0 && k > 0\n",
        "            total_backtracks = sum(recent_backtracks)\n",
        "            if total_backtracks == 0\n",
        "                gamma = max(1e-4, gamma * 0.9)\n",
        "            elseif total_backtracks > 10\n",
        "                gamma = min(1.0, gamma * 1.1)\n",
        "            end\n",
        "            push!(gamma_history, gamma)\n",
        "            recent_backtracks = Int[]\n",
        "        elseif k % 10 == 0\n",
        "            push!(gamma_history, gamma)\n",
        "            recent_backtracks = Int[]\n",
        "        else\n",
        "            push!(recent_backtracks, i)\n",
        "        end\n",
        "        k += 1\n",
        "        iteration_time = time() - start\n",
        "\n",
        "        current_f = f(x_curr)\n",
        "        prev_grad = current_grad\n",
        "        push!(gaps, gap)\n",
        "        push!(steps, t_k)\n",
        "        push!(values, current_f)\n",
        "        push!(times, iteration_time)\n",
        "        push!(L_ks, L_k)\n",
        "\n",
        "        if k % 100 == 0\n",
        "            # println(\"k=$k, gap=$(round(gap, digits=4)), t_k=$(round(t_k, digits=4)), L_k=$(round(L_ks[end], digits=6)), Time=$(round(times[end], digits=4)), f=$(round(values[end], digits=6))\")\n",
        "        end\n",
        "    end\n",
        "    total_time = sum(times)\n",
        "    return (x_curr, values, times, gaps, L_ks, backtrack_counts, steps, gamma_history, total_time)\n",
        "end\n",
        "\n",
        "# ================== Interior Point via Slack (Paper's Method) ================== #\n",
        "function find_interior_point(p_i, sites)\n",
        "    model = Model(HiGHS.Optimizer)\n",
        "    set_silent(model)\n",
        "    @variable(model, xp[1:n] >= 0)\n",
        "    @variable(model, xn[1:n] >= 0)\n",
        "    @variable(model, τ)\n",
        "\n",
        "    # L1 constraint: ||x||_1 ≤ TAU_L1\n",
        "    @constraint(model, sum(xp) + sum(xn) <= TAU_L1)\n",
        "\n",
        "    # Reconstruct x = xp - xn\n",
        "    x = xp - xn\n",
        "\n",
        "    # Voronoi cell constraints with slack\n",
        "    for j in 1:length(sites)\n",
        "        if sites[j] ≈ p_i\n",
        "            continue\n",
        "        end\n",
        "        p_j = sites[j]\n",
        "        a = p_j - p_i\n",
        "        b_val = 0.5 * dot(p_j + p_i, p_j - p_i)\n",
        "        @constraint(model, dot(a, x) <= b_val + τ)\n",
        "    end\n",
        "    @objective(model, Min, τ)\n",
        "    optimize!(model)\n",
        "    if termination_status(model) == OPTIMAL\n",
        "        x_sol = value.(xp) - value.(xn)\n",
        "        τ_sol = value(τ)\n",
        "        @info \"Interior point LP: τ = $(round(τ_sol, digits=8)), Status = $(τ_sol < -1e-8 ? \"Interior\" : \"Boundary\")\"\n",
        "        return τ_sol < -1e-8 ? (x_sol, \"Interior\") : (x_sol, \"Boundary\")\n",
        "    else\n",
        "        @warn \"Interior point LP failed: Infeasible or unbounded\"\n",
        "        if length(sites) == 1\n",
        "            @info \"Returning barycenter as fallback\"\n",
        "            return zeros(n), \"Interior\"\n",
        "        end\n",
        "        return nothing, \"Infeasible\"\n",
        "    end\n",
        "end\n",
        "\n",
        "# ================== Voronoi Partitioning ================== #\n",
        "function create_voronoi_partitions(sites)\n",
        "    base_A = vcat(\n",
        "        Matrix{Float64}(I, n, n),      # x ≥ -TAU_L1\n",
        "        -Matrix{Float64}(I, n, n)      # x ≤ TAU_L1\n",
        "    )\n",
        "    base_b = vcat(\n",
        "        TAU_L1 * ones(n),\n",
        "        TAU_L1 * ones(n)\n",
        "    )\n",
        "    partitions = []\n",
        "    K = length(sites)\n",
        "    if K == 1\n",
        "        push!(partitions, (base_A, base_b))\n",
        "        return partitions\n",
        "    end\n",
        "    for i in 1:K\n",
        "        A_i = copy(base_A)\n",
        "        b_i = copy(base_b)\n",
        "        p_i = sites[i]\n",
        "        for j in 1:K\n",
        "            i == j && continue\n",
        "            p_j = sites[j]\n",
        "            a = (p_j - p_i)'\n",
        "            b_val = 0.5 * dot(p_j + p_i, p_j - p_i)\n",
        "            A_i = vcat(A_i, a)\n",
        "            b_i = vcat(b_i, b_val)\n",
        "        end\n",
        "        push!(partitions, (A_i, b_i))\n",
        "    end\n",
        "    return partitions\n",
        "end\n",
        "\n",
        "# ================== Main VDCG Algorithm ================== #\n",
        "function voronoi_conditional_gradient(f, grad_f, lmo, x0)\n",
        "    x_init, _, cg_times, _, _, _, _, _, init_time = conditional_gradient_adjustable_scaling(f, grad_f, lmo, x0)\n",
        "    total_time = init_time\n",
        "    sites = [x0, x_init]\n",
        "    num_points = 1\n",
        "    archive = [(x_init, f(x_init))]\n",
        "    best_so_far = f(x_init)\n",
        "    @printf(\"Initial solution: f(x) = %.6f\\n\", f(x_init))\n",
        "    @info \"Distance between x0 and x_init: $(norm(x0 - x_init))\"\n",
        "\n",
        "    for level in 1:MAX_LEVELS\n",
        "        start_time = time()\n",
        "        @printf(\"→ VDCG Level %d: %d sites, Current best f(x) = %.6f\\n\", level, length(sites), best_so_far)\n",
        "        partitions = create_voronoi_partitions(sites)\n",
        "        new_sites = []\n",
        "        for (i, (A_cell, b_cell)) in enumerate(partitions)\n",
        "            x_inner, status = find_interior_point(sites[i], sites)\n",
        "            if x_inner === nothing || status == \"Infeasible\"\n",
        "                @info \"Skipping cell $i: $status\"\n",
        "                continue\n",
        "            end\n",
        "            x_stat, _, cg_times, _, _, _, _, _, cg_time = conditional_gradient_adjustable_scaling(f, grad_f, lmo, x_inner)\n",
        "            total_time += cg_time\n",
        "            num_points += 1\n",
        "            obj = f(x_stat)\n",
        "            all_points = [s for (s, _) in archive]\n",
        "            if is_new_point(x_stat, all_points) && is_new_point(x_stat, new_sites)\n",
        "                push!(new_sites, x_stat)\n",
        "                push!(archive, (x_stat, obj))\n",
        "                @printf(\"  New point found: f(x) = %.6f\\n\", obj)\n",
        "                best_so_far = min(best_so_far, obj)\n",
        "            else\n",
        "                min_dist = minimum(norm(x_stat - p) for p in all_points)\n",
        "                @info \"Cell $i: New point not added, obj = $(round(obj, digits=6)), min distance = $(round(min_dist, digits=6)), better = $(obj < best_so_far)\"\n",
        "            end\n",
        "        end\n",
        "        elapsed = time() - start_time\n",
        "        total_time += elapsed\n",
        "        if isempty(new_sites)\n",
        "            @printf(\"→ No new points found. Terminating at level %d.\\n\", level)\n",
        "            @printf(\"  🕒 Level %d runtime: %.4f sec | Best objective: %.6f\\n\", level, elapsed, best_so_far)\n",
        "            break\n",
        "        else\n",
        "            append!(sites, new_sites)\n",
        "            @printf(\"  ✅ Level %d completed in %.4f sec | Best objective so far: %.6f\\n\", level, elapsed, best_so_far)\n",
        "        end\n",
        "    end\n",
        "    best_idx = argmin([obj for (_, obj) in archive])\n",
        "    x_best, f_best = archive[best_idx]\n",
        "    return x_best, f_best, archive, sites, total_time, num_points\n",
        "end\n",
        "\n",
        "# ================== Load Problem Data ================== #\n",
        "function load_libsvm_data()\n",
        "    data_name = \"a9a\"\n",
        "    @info \"Loading LIBSVM dataset '$data_name'...\"\n",
        "    global A, y, n\n",
        "    A_loaded, y_loaded = load_dataset(data_name, dense=false, replace=false, verbose=true)\n",
        "    A = A_loaded\n",
        "    y = Float64.(y_loaded)\n",
        "    m, n = size(A)\n",
        "    # Map labels: {-1,1} → {0,1} for sigmoid output (optional)\n",
        "    # y = (y .+ 1) ./ 2\n",
        "    Random.seed!(23)\n",
        "    V = vcat(tau * I(n), -tau * I(n))\n",
        "    global x0 = V[rand(1:size(V, 1)), :]\n",
        "    @info \"Data loaded: $m samples, $n features\"\n",
        "    @info \"Initial point x0 set on L1-ball boundary\"\n",
        "end\n",
        "\n",
        "# ================== Run Experiment ================== #\n",
        "function main()\n",
        "    # Load data for sigmoid regression\n",
        "    load_libsvm_data()\n",
        "\n",
        "    # Run VDCG\n",
        "    @printf(\"\\n🚀 Starting VDCG...\\n\")\n",
        "    @time x_vdcg, f_vdcg, archive, sites, vdcg_time, vdcg_points = voronoi_conditional_gradient(f, grad_f, lmo, x0)\n",
        "    @printf(\"\\n✅ VDCG Best Objective: %.6f\\n\", f_vdcg)\n",
        "    @printf(\"✅ VDCG Total Time: %.4f sec, Total Points: %d\\n\", vdcg_time, vdcg_points)\n",
        "\n",
        "    # Standard CG\n",
        "    @printf(\"📊 Running Standard CG...\\n\")\n",
        "    x_std, _, _, _, _, _, _, _, std_time = conditional_gradient_adjustable_scaling(f, grad_f, lmo, x0)\n",
        "    f_std = f(x_std)\n",
        "    @printf(\"📊 Standard CG Objective: %.6f\\n\", f_std)\n",
        "\n",
        "    # Multi-start CG (limited by VDCG time)\n",
        "    @printf(\"🔍 Running Multi-start CG (time-limited)...\\n\")\n",
        "    f_multi = Inf\n",
        "    total_multi_time = 0.0\n",
        "    points_evaluated = 0\n",
        "    seed = 23\n",
        "    while total_multi_time < vdcg_time\n",
        "        Random.seed!(seed)\n",
        "        start = time()\n",
        "\n",
        "        # For the first iteration (seed 23), use the same x0 as standard CG\n",
        "        if seed == 23\n",
        "            x_rand = copy(x0)\n",
        "        else\n",
        "            V = vcat(tau * I(n), -tau * I(n))\n",
        "            x_rand = V[rand(1:size(V, 1)), :]\n",
        "        end\n",
        "\n",
        "        x, _, _, _, _, _, _, _, cg_time = conditional_gradient_adjustable_scaling(f, grad_f, lmo, x_rand)\n",
        "        total_multi_time += time() - start\n",
        "        points_evaluated += 1\n",
        "        f_current = f(x)\n",
        "        f_multi = min(f_multi, f_current)\n",
        "\n",
        "        @printf(\"  Seed %d: f(x) = %.6f, Time so far: %.4f sec, Points: %d\\n\", seed, f_current, total_multi_time, points_evaluated)\n",
        "        seed += 1\n",
        "    end\n",
        "    @printf(\"🔍 Multi-start CG Best: %.6f (Time: %.4f sec, Points: %d)\\n\", f_multi, total_multi_time, points_evaluated)\n",
        "\n",
        "    # Summary Table\n",
        "    @printf(\"\\n📋 Summary of Results for Sigmoid Regression (a9a)\\n\")\n",
        "    @printf(\"┌──────────────────────┬─────────────────┬──────────────┬─────────────────┐\\n\")\n",
        "    @printf(\"│ %-20s │ %-15s │ %-12s │ %-15s │\\n\", \"Method\", \"Objective Value\", \"Runtime (sec)\", \"Points Evaluated\")\n",
        "    @printf(\"├──────────────────────┼─────────────────┼──────────────┼─────────────────┤\\n\")\n",
        "    @printf(\"│ %-20s │ %-15.6f │ %-12.4f │ %-15d │\\n\", \"VDCG\", f_vdcg, vdcg_time, vdcg_points)\n",
        "    @printf(\"│ %-20s │ %-15.6f │ %-12.4f │ %-15d │\\n\", \"Standard CG\", f_std, std_time, 1)\n",
        "    @printf(\"│ %-20s │ %-15.6f │ %-12.4f │ %-15d │\\n\", \"Multi-start CG\", f_multi, total_multi_time, points_evaluated)\n",
        "    @printf(\"└──────────────────────┴─────────────────┴──────────────┴─────────────────┘\\n\")\n",
        "end\n",
        "\n",
        "# Run everything\n",
        "main()"
      ],
      "metadata": {
        "colab": {
          "base_uri": "https://localhost:8080/"
        },
        "id": "zbbooknJuf-8",
        "outputId": "44b60e51-8bd1-4c7c-8638-09eb19ef3d99"
      },
      "execution_count": 6,
      "outputs": [
        {
          "output_type": "stream",
          "name": "stderr",
          "text": [
            "\u001b[36m\u001b[1m[ \u001b[22m\u001b[39m\u001b[36m\u001b[1mInfo: \u001b[22m\u001b[39mLoading LIBSVM dataset 'a9a'...\n"
          ]
        },
        {
          "output_type": "stream",
          "name": "stdout",
          "text": [
            "The data a9a was already downloaded\n",
            "Loading the dataset...\n"
          ]
        },
        {
          "output_type": "stream",
          "name": "stderr",
          "text": [
            "\r0.0%┣                                            ┫ 0/22.7k [00:00<00:00, -0s/it]\n",
            "9.8%┣███▊                                  ┫ 2.2k/22.7k [00:00<00:00, 44.4kit/s]\n",
            "15.0%┣█████▌                               ┫ 3.4k/22.7k [00:00<00:01, 33.7kit/s]\n",
            "23.4%┣████████▋                            ┫ 5.3k/22.7k [00:00<00:00, 35.1kit/s]\n",
            "29.4%┣██████████▉                          ┫ 6.7k/22.7k [00:00<00:00, 33.1kit/s]\n",
            "39.2%┣██████████████▌                      ┫ 8.9k/22.7k [00:00<00:00, 35.3kit/s]\n",
            "48.8%┣█████████████████▋                  ┫ 11.1k/22.7k [00:00<00:00, 36.6kit/s]\n",
            "57.2%┣████████████████████▋               ┫ 13.0k/22.7k [00:00<00:00, 36.8kit/s]\n",
            "65.9%┣███████████████████████▊            ┫ 15.0k/22.7k [00:00<00:00, 37.1kit/s]\n",
            "74.1%┣██████████████████████████▊         ┫ 16.8k/22.7k [00:00<00:00, 37.1kit/s]\n",
            "79.9%┣████████████████████████████▉       ┫ 18.1k/22.7k [00:01<00:00, 34.8kit/s]\n",
            "90.1%┣████████████████████████████████▍   ┫ 20.4k/22.7k [00:01<00:00, 35.7kit/s]\n",
            "100.0%┣███████████████████████████████████┫ 22.7k/22.7k [00:01<00:00, 36.7kit/s]\n",
            "100.0%┣███████████████████████████████████┫ 22.7k/22.7k [00:01<00:00, 36.7kit/s]\n",
            "\u001b[36m\u001b[1m[ \u001b[22m\u001b[39m\u001b[36m\u001b[1mInfo: \u001b[22m\u001b[39mData loaded: 32561 samples, 123 features\n"
          ]
        },
        {
          "output_type": "stream",
          "name": "stdout",
          "text": [
            "\n",
            "🚀 Starting VDCG...\n",
            "Initial solution: f(x) = 0.737647\n"
          ]
        },
        {
          "output_type": "stream",
          "name": "stderr",
          "text": [
            "\u001b[36m\u001b[1m[ \u001b[22m\u001b[39m\u001b[36m\u001b[1mInfo: \u001b[22m\u001b[39mInitial point x0 set on L1-ball boundary\n"
          ]
        },
        {
          "output_type": "stream",
          "name": "stdout",
          "text": [
            "→ VDCG Level 1: 2 sites, Current best f(x) = 0.737647\n"
          ]
        },
        {
          "output_type": "stream",
          "name": "stderr",
          "text": [
            "\u001b[36m\u001b[1m[ \u001b[22m\u001b[39m\u001b[36m\u001b[1mInfo: \u001b[22m\u001b[39mDistance between x0 and x_init: 34.48580825880967\n",
            "\u001b[36m\u001b[1m[ \u001b[22m\u001b[39m\u001b[36m\u001b[1mInfo: \u001b[22m\u001b[39mInterior point LP: τ = -594.63548563, Status = Interior\n",
            "\u001b[36m\u001b[1m[ \u001b[22m\u001b[39m\u001b[36m\u001b[1mInfo: \u001b[22m\u001b[39mCell 1: New point not added, obj = 0.737647, min distance = 0.0, better = false\n"
          ]
        },
        {
          "output_type": "stream",
          "name": "stdout",
          "text": [
            "  New point found: f(x) = 0.766223\n",
            "  ✅ Level 1 completed in 10.8610 sec | Best objective so far: 0.737647\n"
          ]
        },
        {
          "output_type": "stream",
          "name": "stderr",
          "text": [
            "\u001b[36m\u001b[1m[ \u001b[22m\u001b[39m\u001b[36m\u001b[1mInfo: \u001b[22m\u001b[39mInterior point LP: τ = -2768.46086256, Status = Interior\n"
          ]
        },
        {
          "output_type": "stream",
          "name": "stdout",
          "text": [
            "→ VDCG Level 2: 3 sites, Current best f(x) = 0.737647\n"
          ]
        },
        {
          "output_type": "stream",
          "name": "stderr",
          "text": [
            "\u001b[36m\u001b[1m[ \u001b[22m\u001b[39m\u001b[36m\u001b[1mInfo: \u001b[22m\u001b[39mInterior point LP: τ = -594.63548563, Status = Interior\n",
            "\u001b[36m\u001b[1m[ \u001b[22m\u001b[39m\u001b[36m\u001b[1mInfo: \u001b[22m\u001b[39mCell 1: New point not added, obj = 0.737647, min distance = 0.0, better = false\n"
          ]
        },
        {
          "output_type": "stream",
          "name": "stdout",
          "text": [
            "  New point found: f(x) = 0.749960\n"
          ]
        },
        {
          "output_type": "stream",
          "name": "stderr",
          "text": [
            "\u001b[36m\u001b[1m[ \u001b[22m\u001b[39m\u001b[36m\u001b[1mInfo: \u001b[22m\u001b[39mInterior point LP: τ = -590.67393843, Status = Interior\n",
            "\u001b[36m\u001b[1m[ \u001b[22m\u001b[39m\u001b[36m\u001b[1mInfo: \u001b[22m\u001b[39mInterior point LP: τ = -1642.84215225, Status = Interior\n",
            "\u001b[36m\u001b[1m[ \u001b[22m\u001b[39m\u001b[36m\u001b[1mInfo: \u001b[22m\u001b[39mCell 3: New point not added, obj = 0.766223, min distance = 0.0, better = false\n"
          ]
        },
        {
          "output_type": "stream",
          "name": "stdout",
          "text": [
            "  ✅ Level 2 completed in 15.2761 sec | Best objective so far: 0.737647\n",
            "→ VDCG Level 3: 4 sites, Current best f(x) = 0.737647\n"
          ]
        },
        {
          "output_type": "stream",
          "name": "stderr",
          "text": [
            "\u001b[36m\u001b[1m[ \u001b[22m\u001b[39m\u001b[36m\u001b[1mInfo: \u001b[22m\u001b[39mInterior point LP: τ = -594.63548563, Status = Interior\n",
            "\u001b[36m\u001b[1m[ \u001b[22m\u001b[39m\u001b[36m\u001b[1mInfo: \u001b[22m\u001b[39mCell 1: New point not added, obj = 0.737647, min distance = 0.0, better = false\n"
          ]
        },
        {
          "output_type": "stream",
          "name": "stdout",
          "text": [
            "  New point found: f(x) = 0.729601\n"
          ]
        },
        {
          "output_type": "stream",
          "name": "stderr",
          "text": [
            "\u001b[36m\u001b[1m[ \u001b[22m\u001b[39m\u001b[36m\u001b[1mInfo: \u001b[22m\u001b[39mInterior point LP: τ = -434.31831933, Status = Interior\n",
            "\u001b[36m\u001b[1m[ \u001b[22m\u001b[39m\u001b[36m\u001b[1mInfo: \u001b[22m\u001b[39mInterior point LP: τ = -1141.12298013, Status = Interior\n",
            "\u001b[36m\u001b[1m[ \u001b[22m\u001b[39m\u001b[36m\u001b[1mInfo: \u001b[22m\u001b[39mCell 3: New point not added, obj = 0.766223, min distance = 0.0, better = false\n"
          ]
        },
        {
          "output_type": "stream",
          "name": "stdout",
          "text": [
            "  New point found: f(x) = 0.746890\n",
            "  ✅ Level 3 completed in 20.3393 sec | Best objective so far: 0.729601\n"
          ]
        },
        {
          "output_type": "stream",
          "name": "stderr",
          "text": [
            "\u001b[36m\u001b[1m[ \u001b[22m\u001b[39m\u001b[36m\u001b[1mInfo: \u001b[22m\u001b[39mInterior point LP: τ = -506.40775852, Status = Interior\n"
          ]
        },
        {
          "output_type": "stream",
          "name": "stdout",
          "text": [
            "→ VDCG Level 4: 6 sites, Current best f(x) = 0.729601\n"
          ]
        },
        {
          "output_type": "stream",
          "name": "stderr",
          "text": [
            "\u001b[36m\u001b[1m[ \u001b[22m\u001b[39m\u001b[36m\u001b[1mInfo: \u001b[22m\u001b[39mInterior point LP: τ = -594.63548563, Status = Interior\n",
            "\u001b[36m\u001b[1m[ \u001b[22m\u001b[39m\u001b[36m\u001b[1mInfo: \u001b[22m\u001b[39mCell 1: New point not added, obj = 0.737647, min distance = 0.0, better = false\n"
          ]
        },
        {
          "output_type": "stream",
          "name": "stdout",
          "text": [
            "  New point found: f(x) = 0.729518\n"
          ]
        },
        {
          "output_type": "stream",
          "name": "stderr",
          "text": [
            "\u001b[36m\u001b[1m[ \u001b[22m\u001b[39m\u001b[36m\u001b[1mInfo: \u001b[22m\u001b[39mInterior point LP: τ = -273.27859252, Status = Interior\n",
            "\u001b[36m\u001b[1m[ \u001b[22m\u001b[39m\u001b[36m\u001b[1mInfo: \u001b[22m\u001b[39mInterior point LP: τ = -698.06552306, Status = Interior\n",
            "\u001b[36m\u001b[1m[ \u001b[22m\u001b[39m\u001b[36m\u001b[1mInfo: \u001b[22m\u001b[39mCell 3: New point not added, obj = 0.766223, min distance = 0.0, better = false\n"
          ]
        },
        {
          "output_type": "stream",
          "name": "stdout",
          "text": [
            "  New point found: f(x) = 0.763366\n"
          ]
        },
        {
          "output_type": "stream",
          "name": "stderr",
          "text": [
            "\u001b[36m\u001b[1m[ \u001b[22m\u001b[39m\u001b[36m\u001b[1mInfo: \u001b[22m\u001b[39mInterior point LP: τ = -98.93158501, Status = Interior\n"
          ]
        },
        {
          "output_type": "stream",
          "name": "stdout",
          "text": [
            "  New point found: f(x) = 0.729654\n"
          ]
        },
        {
          "output_type": "stream",
          "name": "stderr",
          "text": [
            "\u001b[36m\u001b[1m[ \u001b[22m\u001b[39m\u001b[36m\u001b[1mInfo: \u001b[22m\u001b[39mInterior point LP: τ = -168.55199612, Status = Interior\n"
          ]
        },
        {
          "output_type": "stream",
          "name": "stdout",
          "text": [
            "  New point found: f(x) = 0.729225\n",
            "  ✅ Level 4 completed in 25.7320 sec | Best objective so far: 0.729225\n"
          ]
        },
        {
          "output_type": "stream",
          "name": "stderr",
          "text": [
            "\u001b[36m\u001b[1m[ \u001b[22m\u001b[39m\u001b[36m\u001b[1mInfo: \u001b[22m\u001b[39mInterior point LP: τ = -251.56420776, Status = Interior\n"
          ]
        },
        {
          "output_type": "stream",
          "name": "stdout",
          "text": [
            "→ VDCG Level 5: 10 sites, Current best f(x) = 0.729225\n"
          ]
        },
        {
          "output_type": "stream",
          "name": "stderr",
          "text": [
            "\u001b[36m\u001b[1m[ \u001b[22m\u001b[39m\u001b[36m\u001b[1mInfo: \u001b[22m\u001b[39mInterior point LP: τ = -594.63548563, Status = Interior\n",
            "\u001b[36m\u001b[1m[ \u001b[22m\u001b[39m\u001b[36m\u001b[1mInfo: \u001b[22m\u001b[39mCell 1: New point not added, obj = 0.737647, min distance = 0.0, better = false\n"
          ]
        },
        {
          "output_type": "stream",
          "name": "stdout",
          "text": [
            "  New point found: f(x) = 0.729276\n"
          ]
        },
        {
          "output_type": "stream",
          "name": "stderr",
          "text": [
            "\u001b[36m\u001b[1m[ \u001b[22m\u001b[39m\u001b[36m\u001b[1mInfo: \u001b[22m\u001b[39mInterior point LP: τ = -265.53038987, Status = Interior\n",
            "\u001b[36m\u001b[1m[ \u001b[22m\u001b[39m\u001b[36m\u001b[1mInfo: \u001b[22m\u001b[39mInterior point LP: τ = -671.75270436, Status = Interior\n",
            "\u001b[36m\u001b[1m[ \u001b[22m\u001b[39m\u001b[36m\u001b[1mInfo: \u001b[22m\u001b[39mCell 3: New point not added, obj = 0.766223, min distance = 0.0, better = false\n"
          ]
        },
        {
          "output_type": "stream",
          "name": "stdout",
          "text": [
            "  New point found: f(x) = 0.728423\n"
          ]
        },
        {
          "output_type": "stream",
          "name": "stderr",
          "text": [
            "\u001b[36m\u001b[1m[ \u001b[22m\u001b[39m\u001b[36m\u001b[1mInfo: \u001b[22m\u001b[39mInterior point LP: τ = -84.79015935, Status = Interior\n"
          ]
        },
        {
          "output_type": "stream",
          "name": "stdout",
          "text": [
            "  New point found: f(x) = 0.728203\n"
          ]
        },
        {
          "output_type": "stream",
          "name": "stderr",
          "text": [
            "\u001b[36m\u001b[1m[ \u001b[22m\u001b[39m\u001b[36m\u001b[1mInfo: \u001b[22m\u001b[39mInterior point LP: τ = -47.19169413, Status = Interior\n",
            "\u001b[36m\u001b[1m[ \u001b[22m\u001b[39m\u001b[36m\u001b[1mInfo: \u001b[22m\u001b[39mInterior point LP: τ = -251.56420776, Status = Interior\n",
            "\u001b[36m\u001b[1m[ \u001b[22m\u001b[39m\u001b[36m\u001b[1mInfo: \u001b[22m\u001b[39mCell 6: New point not added, obj = 0.729225, min distance = 0.0, better = false\n"
          ]
        },
        {
          "output_type": "stream",
          "name": "stdout",
          "text": [
            "  New point found: f(x) = 0.735820\n"
          ]
        },
        {
          "output_type": "stream",
          "name": "stderr",
          "text": [
            "\u001b[36m\u001b[1m[ \u001b[22m\u001b[39m\u001b[36m\u001b[1mInfo: \u001b[22m\u001b[39mInterior point LP: τ = -56.25723519, Status = Interior\n"
          ]
        },
        {
          "output_type": "stream",
          "name": "stdout",
          "text": [
            "  New point found: f(x) = 0.763366\n"
          ]
        },
        {
          "output_type": "stream",
          "name": "stderr",
          "text": [
            "\u001b[36m\u001b[1m[ \u001b[22m\u001b[39m\u001b[36m\u001b[1mInfo: \u001b[22m\u001b[39mInterior point LP: τ = -740.62437748, Status = Interior\n"
          ]
        },
        {
          "output_type": "stream",
          "name": "stdout",
          "text": [
            "  New point found: f(x) = 0.729725\n"
          ]
        },
        {
          "output_type": "stream",
          "name": "stderr",
          "text": [
            "\u001b[36m\u001b[1m[ \u001b[22m\u001b[39m\u001b[36m\u001b[1mInfo: \u001b[22m\u001b[39mInterior point LP: τ = -524.17122389, Status = Interior\n"
          ]
        },
        {
          "output_type": "stream",
          "name": "stdout",
          "text": [
            "  New point found: f(x) = 0.727755\n",
            "  ✅ Level 5 completed in 46.7862 sec | Best objective so far: 0.727755\n"
          ]
        },
        {
          "output_type": "stream",
          "name": "stderr",
          "text": [
            "\u001b[36m\u001b[1m[ \u001b[22m\u001b[39m\u001b[36m\u001b[1mInfo: \u001b[22m\u001b[39mInterior point LP: τ = -63.71523313, Status = Interior\n"
          ]
        },
        {
          "output_type": "stream",
          "name": "stdout",
          "text": [
            "→ VDCG Level 6: 17 sites, Current best f(x) = 0.727755\n"
          ]
        },
        {
          "output_type": "stream",
          "name": "stderr",
          "text": [
            "\u001b[36m\u001b[1m[ \u001b[22m\u001b[39m\u001b[36m\u001b[1mInfo: \u001b[22m\u001b[39mInterior point LP: τ = -594.63548563, Status = Interior\n",
            "\u001b[36m\u001b[1m[ \u001b[22m\u001b[39m\u001b[36m\u001b[1mInfo: \u001b[22m\u001b[39mCell 1: New point not added, obj = 0.737647, min distance = 0.0, better = false\n"
          ]
        },
        {
          "output_type": "stream",
          "name": "stdout",
          "text": [
            "  New point found: f(x) = 0.728957\n"
          ]
        },
        {
          "output_type": "stream",
          "name": "stderr",
          "text": [
            "\u001b[36m\u001b[1m[ \u001b[22m\u001b[39m\u001b[36m\u001b[1mInfo: \u001b[22m\u001b[39mInterior point LP: τ = -265.17453172, Status = Interior\n",
            "\u001b[36m\u001b[1m[ \u001b[22m\u001b[39m\u001b[36m\u001b[1mInfo: \u001b[22m\u001b[39mInterior point LP: τ = -632.93164284, Status = Interior\n",
            "\u001b[36m\u001b[1m[ \u001b[22m\u001b[39m\u001b[36m\u001b[1mInfo: \u001b[22m\u001b[39mCell 3: New point not added, obj = 0.766223, min distance = 0.0, better = false\n"
          ]
        },
        {
          "output_type": "stream",
          "name": "stdout",
          "text": [
            "  New point found: f(x) = 0.728449\n"
          ]
        },
        {
          "output_type": "stream",
          "name": "stderr",
          "text": [
            "\u001b[36m\u001b[1m[ \u001b[22m\u001b[39m\u001b[36m\u001b[1mInfo: \u001b[22m\u001b[39mInterior point LP: τ = -83.34494114, Status = Interior\n"
          ]
        },
        {
          "output_type": "stream",
          "name": "stdout",
          "text": [
            "  New point found: f(x) = 0.728839\n"
          ]
        },
        {
          "output_type": "stream",
          "name": "stderr",
          "text": [
            "\u001b[36m\u001b[1m[ \u001b[22m\u001b[39m\u001b[36m\u001b[1mInfo: \u001b[22m\u001b[39mInterior point LP: τ = -25.59755088, Status = Interior\n"
          ]
        },
        {
          "output_type": "stream",
          "name": "stdout",
          "text": [
            "  New point found: f(x) = 0.729499\n"
          ]
        },
        {
          "output_type": "stream",
          "name": "stderr",
          "text": [
            "\u001b[36m\u001b[1m[ \u001b[22m\u001b[39m\u001b[36m\u001b[1mInfo: \u001b[22m\u001b[39mInterior point LP: τ = -251.16118347, Status = Interior\n"
          ]
        },
        {
          "output_type": "stream",
          "name": "stdout",
          "text": [
            "  New point found: f(x) = 0.734455\n"
          ]
        },
        {
          "output_type": "stream",
          "name": "stderr",
          "text": [
            "\u001b[36m\u001b[1m[ \u001b[22m\u001b[39m\u001b[36m\u001b[1mInfo: \u001b[22m\u001b[39mInterior point LP: τ = -51.73581864, Status = Interior\n"
          ]
        },
        {
          "output_type": "stream",
          "name": "stdout",
          "text": [
            "  New point found: f(x) = 0.763366\n"
          ]
        },
        {
          "output_type": "stream",
          "name": "stderr",
          "text": [
            "\u001b[36m\u001b[1m[ \u001b[22m\u001b[39m\u001b[36m\u001b[1mInfo: \u001b[22m\u001b[39mInterior point LP: τ = -142.88022425, Status = Interior\n",
            "\u001b[36m\u001b[1m[ \u001b[22m\u001b[39m\u001b[36m\u001b[1mInfo: \u001b[22m\u001b[39mInterior point LP: τ = -31.51733705, Status = Interior\n"
          ]
        },
        {
          "output_type": "stream",
          "name": "stdout",
          "text": [
            "  New point found: f(x) = 0.728969\n",
            "  New point found: f(x) = 0.728351\n"
          ]
        },
        {
          "output_type": "stream",
          "name": "stderr",
          "text": [
            "\u001b[36m\u001b[1m[ \u001b[22m\u001b[39m\u001b[36m\u001b[1mInfo: \u001b[22m\u001b[39mInterior point LP: τ = -19.91824671, Status = Interior\n"
          ]
        },
        {
          "output_type": "stream",
          "name": "stdout",
          "text": [
            "  New point found: f(x) = 0.728949\n"
          ]
        },
        {
          "output_type": "stream",
          "name": "stderr",
          "text": [
            "\u001b[36m\u001b[1m[ \u001b[22m\u001b[39m\u001b[36m\u001b[1mInfo: \u001b[22m\u001b[39mInterior point LP: τ = -112.20463312, Status = Interior\n"
          ]
        },
        {
          "output_type": "stream",
          "name": "stdout",
          "text": [
            "  New point found: f(x) = 0.728185\n"
          ]
        },
        {
          "output_type": "stream",
          "name": "stderr",
          "text": [
            "\u001b[36m\u001b[1m[ \u001b[22m\u001b[39m\u001b[36m\u001b[1mInfo: \u001b[22m\u001b[39mInterior point LP: τ = -36.22444774, Status = Interior\n"
          ]
        },
        {
          "output_type": "stream",
          "name": "stdout",
          "text": [
            "  New point found: f(x) = 0.729376\n"
          ]
        },
        {
          "output_type": "stream",
          "name": "stderr",
          "text": [
            "\u001b[36m\u001b[1m[ \u001b[22m\u001b[39m\u001b[36m\u001b[1mInfo: \u001b[22m\u001b[39mInterior point LP: τ = -66.77191978, Status = Interior\n",
            "\u001b[36m\u001b[1m[ \u001b[22m\u001b[39m\u001b[36m\u001b[1mInfo: \u001b[22m\u001b[39mInterior point LP: τ = -676.61818412, Status = Interior\n",
            "\u001b[36m\u001b[1m[ \u001b[22m\u001b[39m\u001b[36m\u001b[1mInfo: \u001b[22m\u001b[39mCell 14: New point not added, obj = 0.73582, min distance = 0.0, better = false\n",
            "\u001b[36m\u001b[1m[ \u001b[22m\u001b[39m\u001b[36m\u001b[1mInfo: \u001b[22m\u001b[39mInterior point LP: τ = -146.45332026, Status = Interior\n",
            "\u001b[36m\u001b[1m[ \u001b[22m\u001b[39m\u001b[36m\u001b[1mInfo: \u001b[22m\u001b[39mCell 15: New point not added, obj = 0.763366, min distance = 0.0, better = false\n",
            "\u001b[36m\u001b[1m[ \u001b[22m\u001b[39m\u001b[36m\u001b[1mInfo: \u001b[22m\u001b[39mInterior point LP: τ = -154.31045663, Status = Interior\n",
            "\u001b[36m\u001b[1m[ \u001b[22m\u001b[39m\u001b[36m\u001b[1mInfo: \u001b[22m\u001b[39mCell 16: New point not added, obj = 0.729725, min distance = 0.0, better = false\n"
          ]
        },
        {
          "output_type": "stream",
          "name": "stdout",
          "text": [
            "  New point found: f(x) = 0.728136\n",
            "  ✅ Level 6 completed in 77.0908 sec | Best objective so far: 0.727755\n"
          ]
        },
        {
          "output_type": "stream",
          "name": "stderr",
          "text": [
            "\u001b[36m\u001b[1m[ \u001b[22m\u001b[39m\u001b[36m\u001b[1mInfo: \u001b[22m\u001b[39mInterior point LP: τ = -59.98647107, Status = Interior\n"
          ]
        },
        {
          "output_type": "stream",
          "name": "stdout",
          "text": [
            "→ VDCG Level 7: 29 sites, Current best f(x) = 0.727755\n"
          ]
        },
        {
          "output_type": "stream",
          "name": "stderr",
          "text": [
            "\u001b[36m\u001b[1m[ \u001b[22m\u001b[39m\u001b[36m\u001b[1mInfo: \u001b[22m\u001b[39mInterior point LP: τ = -594.63548563, Status = Interior\n",
            "\u001b[36m\u001b[1m[ \u001b[22m\u001b[39m\u001b[36m\u001b[1mInfo: \u001b[22m\u001b[39mCell 1: New point not added, obj = 0.737647, min distance = 0.0, better = false\n"
          ]
        },
        {
          "output_type": "stream",
          "name": "stdout",
          "text": [
            "  New point found: f(x) = 0.728555\n"
          ]
        },
        {
          "output_type": "stream",
          "name": "stderr",
          "text": [
            "\u001b[36m\u001b[1m[ \u001b[22m\u001b[39m\u001b[36m\u001b[1mInfo: \u001b[22m\u001b[39mInterior point LP: τ = -265.09719694, Status = Interior\n",
            "\u001b[36m\u001b[1m[ \u001b[22m\u001b[39m\u001b[36m\u001b[1mInfo: \u001b[22m\u001b[39mInterior point LP: τ = -632.93164284, Status = Interior\n",
            "\u001b[36m\u001b[1m[ \u001b[22m\u001b[39m\u001b[36m\u001b[1mInfo: \u001b[22m\u001b[39mCell 3: New point not added, obj = 0.766223, min distance = 0.0, better = false\n"
          ]
        },
        {
          "output_type": "stream",
          "name": "stdout",
          "text": [
            "  New point found: f(x) = 0.728456\n"
          ]
        },
        {
          "output_type": "stream",
          "name": "stderr",
          "text": [
            "\u001b[36m\u001b[1m[ \u001b[22m\u001b[39m\u001b[36m\u001b[1mInfo: \u001b[22m\u001b[39mInterior point LP: τ = -80.32082615, Status = Interior\n"
          ]
        },
        {
          "output_type": "stream",
          "name": "stdout",
          "text": [
            "  New point found: f(x) = 0.731517\n"
          ]
        },
        {
          "output_type": "stream",
          "name": "stderr",
          "text": [
            "\u001b[36m\u001b[1m[ \u001b[22m\u001b[39m\u001b[36m\u001b[1mInfo: \u001b[22m\u001b[39mInterior point LP: τ = -18.87272359, Status = Interior\n",
            "\u001b[36m\u001b[1m[ \u001b[22m\u001b[39m\u001b[36m\u001b[1mInfo: \u001b[22m\u001b[39mInterior point LP: τ = -251.16118347, Status = Interior\n",
            "\u001b[36m\u001b[1m[ \u001b[22m\u001b[39m\u001b[36m\u001b[1mInfo: \u001b[22m\u001b[39mCell 6: New point not added, obj = 0.729499, min distance = 0.0, better = false\n"
          ]
        },
        {
          "output_type": "stream",
          "name": "stdout",
          "text": [
            "  New point found: f(x) = 0.728199\n"
          ]
        },
        {
          "output_type": "stream",
          "name": "stderr",
          "text": [
            "\u001b[36m\u001b[1m[ \u001b[22m\u001b[39m\u001b[36m\u001b[1mInfo: \u001b[22m\u001b[39mInterior point LP: τ = -25.37784957, Status = Interior\n"
          ]
        },
        {
          "output_type": "stream",
          "name": "stdout",
          "text": [
            "  New point found: f(x) = 0.763366\n",
            "  New point found: f(x) = 0.729545\n"
          ]
        },
        {
          "output_type": "stream",
          "name": "stderr",
          "text": [
            "\u001b[36m\u001b[1m[ \u001b[22m\u001b[39m\u001b[36m\u001b[1mInfo: \u001b[22m\u001b[39mInterior point LP: τ = -60.92839527, Status = Interior\n",
            "\u001b[36m\u001b[1m[ \u001b[22m\u001b[39m\u001b[36m\u001b[1mInfo: \u001b[22m\u001b[39mInterior point LP: τ = -30.71936544, Status = Interior\n"
          ]
        },
        {
          "output_type": "stream",
          "name": "stdout",
          "text": [
            "  New point found: f(x) = 0.728184\n"
          ]
        },
        {
          "output_type": "stream",
          "name": "stderr",
          "text": [
            "\u001b[36m\u001b[1m[ \u001b[22m\u001b[39m\u001b[36m\u001b[1mInfo: \u001b[22m\u001b[39mInterior point LP: τ = -10.24831311, Status = Interior\n"
          ]
        },
        {
          "output_type": "stream",
          "name": "stdout",
          "text": [
            "  New point found: f(x) = 0.729443\n"
          ]
        },
        {
          "output_type": "stream",
          "name": "stderr",
          "text": [
            "\u001b[36m\u001b[1m[ \u001b[22m\u001b[39m\u001b[36m\u001b[1mInfo: \u001b[22m\u001b[39mInterior point LP: τ = -29.26173126, Status = Interior\n"
          ]
        },
        {
          "output_type": "stream",
          "name": "stdout",
          "text": [
            "  New point found: f(x) = 0.728418\n"
          ]
        },
        {
          "output_type": "stream",
          "name": "stderr",
          "text": [
            "\u001b[36m\u001b[1m[ \u001b[22m\u001b[39m\u001b[36m\u001b[1mInfo: \u001b[22m\u001b[39mInterior point LP: τ = -5.00902043, Status = Interior\n"
          ]
        },
        {
          "output_type": "stream",
          "name": "stdout",
          "text": [
            "  New point found: f(x) = 0.727828\n"
          ]
        },
        {
          "output_type": "stream",
          "name": "stderr",
          "text": [
            "\u001b[36m\u001b[1m[ \u001b[22m\u001b[39m\u001b[36m\u001b[1mInfo: \u001b[22m\u001b[39mInterior point LP: τ = -25.01187818, Status = Interior\n",
            "\u001b[36m\u001b[1m[ \u001b[22m\u001b[39m\u001b[36m\u001b[1mInfo: \u001b[22m\u001b[39mInterior point LP: τ = -533.62891715, Status = Interior\n",
            "\u001b[36m\u001b[1m[ \u001b[22m\u001b[39m\u001b[36m\u001b[1mInfo: \u001b[22m\u001b[39mCell 14: New point not added, obj = 0.73582, min distance = 0.0, better = false\n",
            "\u001b[36m\u001b[1m[ \u001b[22m\u001b[39m\u001b[36m\u001b[1mInfo: \u001b[22m\u001b[39mInterior point LP: τ = -146.45332026, Status = Interior\n",
            "\u001b[36m\u001b[1m[ \u001b[22m\u001b[39m\u001b[36m\u001b[1mInfo: \u001b[22m\u001b[39mCell 15: New point not added, obj = 0.763366, min distance = 0.0, better = false\n",
            "\u001b[36m\u001b[1m[ \u001b[22m\u001b[39m\u001b[36m\u001b[1mInfo: \u001b[22m\u001b[39mInterior point LP: τ = -154.31045663, Status = Interior\n",
            "\u001b[36m\u001b[1m[ \u001b[22m\u001b[39m\u001b[36m\u001b[1mInfo: \u001b[22m\u001b[39mCell 16: New point not added, obj = 0.729725, min distance = 0.0, better = false\n"
          ]
        },
        {
          "output_type": "stream",
          "name": "stdout",
          "text": [
            "  New point found: f(x) = 0.727840\n"
          ]
        },
        {
          "output_type": "stream",
          "name": "stderr",
          "text": [
            "\u001b[36m\u001b[1m[ \u001b[22m\u001b[39m\u001b[36m\u001b[1mInfo: \u001b[22m\u001b[39mInterior point LP: τ = -51.50942605, Status = Interior\n"
          ]
        },
        {
          "output_type": "stream",
          "name": "stdout",
          "text": [
            "  New point found: f(x) = 0.728034\n"
          ]
        },
        {
          "output_type": "stream",
          "name": "stderr",
          "text": [
            "\u001b[36m\u001b[1m[ \u001b[22m\u001b[39m\u001b[36m\u001b[1mInfo: \u001b[22m\u001b[39mInterior point LP: τ = -25.7095863, Status = Interior\n"
          ]
        },
        {
          "output_type": "stream",
          "name": "stdout",
          "text": [
            "  New point found: f(x) = 0.728529\n"
          ]
        },
        {
          "output_type": "stream",
          "name": "stderr",
          "text": [
            "\u001b[36m\u001b[1m[ \u001b[22m\u001b[39m\u001b[36m\u001b[1mInfo: \u001b[22m\u001b[39mInterior point LP: τ = -6.11701902, Status = Interior\n"
          ]
        },
        {
          "output_type": "stream",
          "name": "stdout",
          "text": [
            "  New point found: f(x) = 0.729039\n"
          ]
        },
        {
          "output_type": "stream",
          "name": "stderr",
          "text": [
            "\u001b[36m\u001b[1m[ \u001b[22m\u001b[39m\u001b[36m\u001b[1mInfo: \u001b[22m\u001b[39mInterior point LP: τ = -142.84035514, Status = Interior\n"
          ]
        },
        {
          "output_type": "stream",
          "name": "stdout",
          "text": [
            "  New point found: f(x) = 0.728203\n"
          ]
        },
        {
          "output_type": "stream",
          "name": "stderr",
          "text": [
            "\u001b[36m\u001b[1m[ \u001b[22m\u001b[39m\u001b[36m\u001b[1mInfo: \u001b[22m\u001b[39mInterior point LP: τ = -22.71722276, Status = Interior\n"
          ]
        },
        {
          "output_type": "stream",
          "name": "stdout",
          "text": [
            "  New point found: f(x) = 0.755994\n"
          ]
        },
        {
          "output_type": "stream",
          "name": "stderr",
          "text": [
            "\u001b[36m\u001b[1m[ \u001b[22m\u001b[39m\u001b[36m\u001b[1mInfo: \u001b[22m\u001b[39mInterior point LP: τ = -171.64188561, Status = Interior\n"
          ]
        },
        {
          "output_type": "stream",
          "name": "stdout",
          "text": [
            "  New point found: f(x) = 0.728818\n"
          ]
        },
        {
          "output_type": "stream",
          "name": "stderr",
          "text": [
            "\u001b[36m\u001b[1m[ \u001b[22m\u001b[39m\u001b[36m\u001b[1mInfo: \u001b[22m\u001b[39mInterior point LP: τ = -169.68375393, Status = Interior\n"
          ]
        },
        {
          "output_type": "stream",
          "name": "stdout",
          "text": [
            "  New point found: f(x) = 0.728308\n"
          ]
        },
        {
          "output_type": "stream",
          "name": "stderr",
          "text": [
            "\u001b[36m\u001b[1m[ \u001b[22m\u001b[39m\u001b[36m\u001b[1mInfo: \u001b[22m\u001b[39mInterior point LP: τ = -512.05765322, Status = Interior\n"
          ]
        },
        {
          "output_type": "stream",
          "name": "stdout",
          "text": [
            "  New point found: f(x) = 0.727576\n"
          ]
        },
        {
          "output_type": "stream",
          "name": "stderr",
          "text": [
            "\u001b[36m\u001b[1m[ \u001b[22m\u001b[39m\u001b[36m\u001b[1mInfo: \u001b[22m\u001b[39mInterior point LP: τ = -17.81112538, Status = Interior\n",
            "\u001b[36m\u001b[1m[ \u001b[22m\u001b[39m\u001b[36m\u001b[1mInfo: \u001b[22m\u001b[39mInterior point LP: τ = -500.26280519, Status = Interior\n",
            "\u001b[36m\u001b[1m[ \u001b[22m\u001b[39m\u001b[36m\u001b[1mInfo: \u001b[22m\u001b[39mCell 26: New point not added, obj = 0.728949, min distance = 0.0, better = false\n"
          ]
        },
        {
          "output_type": "stream",
          "name": "stdout",
          "text": [
            "  New point found: f(x) = 0.728414\n"
          ]
        },
        {
          "output_type": "stream",
          "name": "stderr",
          "text": [
            "\u001b[36m\u001b[1m[ \u001b[22m\u001b[39m\u001b[36m\u001b[1mInfo: \u001b[22m\u001b[39mInterior point LP: τ = -38.00801605, Status = Interior\n",
            "\u001b[36m\u001b[1m[ \u001b[22m\u001b[39m\u001b[36m\u001b[1mInfo: \u001b[22m\u001b[39mInterior point LP: τ = -184.87559707, Status = Interior\n",
            "\u001b[36m\u001b[1m[ \u001b[22m\u001b[39m\u001b[36m\u001b[1mInfo: \u001b[22m\u001b[39mCell 28: New point not added, obj = 0.729376, min distance = 0.0, better = false\n"
          ]
        },
        {
          "output_type": "stream",
          "name": "stdout",
          "text": [
            "  New point found: f(x) = 0.728173\n",
            "  ✅ Level 7 completed in 138.6375 sec | Best objective so far: 0.727576\n"
          ]
        },
        {
          "output_type": "stream",
          "name": "stderr",
          "text": [
            "\u001b[36m\u001b[1m[ \u001b[22m\u001b[39m\u001b[36m\u001b[1mInfo: \u001b[22m\u001b[39mInterior point LP: τ = -38.13479301, Status = Interior\n"
          ]
        },
        {
          "output_type": "stream",
          "name": "stdout",
          "text": [
            "→ VDCG Level 8: 50 sites, Current best f(x) = 0.727576\n"
          ]
        },
        {
          "output_type": "stream",
          "name": "stderr",
          "text": [
            "\u001b[36m\u001b[1m[ \u001b[22m\u001b[39m\u001b[36m\u001b[1mInfo: \u001b[22m\u001b[39mInterior point LP: τ = -594.63548563, Status = Interior\n",
            "\u001b[36m\u001b[1m[ \u001b[22m\u001b[39m\u001b[36m\u001b[1mInfo: \u001b[22m\u001b[39mCell 1: New point not added, obj = 0.737647, min distance = 0.0, better = false\n",
            "\u001b[36m\u001b[1m[ \u001b[22m\u001b[39m\u001b[36m\u001b[1mInfo: \u001b[22m\u001b[39mInterior point LP: τ = -265.09719694, Status = Interior\n",
            "\u001b[36m\u001b[1m[ \u001b[22m\u001b[39m\u001b[36m\u001b[1mInfo: \u001b[22m\u001b[39mCell 2: New point not added, obj = 0.728555, min distance = 0.0, better = false\n",
            "\u001b[36m\u001b[1m[ \u001b[22m\u001b[39m\u001b[36m\u001b[1mInfo: \u001b[22m\u001b[39mInterior point LP: τ = -613.60181333, Status = Interior\n",
            "\u001b[36m\u001b[1m[ \u001b[22m\u001b[39m\u001b[36m\u001b[1mInfo: \u001b[22m\u001b[39mCell 3: New point not added, obj = 0.766223, min distance = 0.0, better = false\n"
          ]
        },
        {
          "output_type": "stream",
          "name": "stdout",
          "text": [
            "  New point found: f(x) = 0.728273\n"
          ]
        },
        {
          "output_type": "stream",
          "name": "stderr",
          "text": [
            "\u001b[36m\u001b[1m[ \u001b[22m\u001b[39m\u001b[36m\u001b[1mInfo: \u001b[22m\u001b[39mInterior point LP: τ = -79.8062456, Status = Interior\n"
          ]
        },
        {
          "output_type": "stream",
          "name": "stdout",
          "text": [
            "  New point found: f(x) = 0.729991\n"
          ]
        },
        {
          "output_type": "stream",
          "name": "stderr",
          "text": [
            "\u001b[36m\u001b[1m[ \u001b[22m\u001b[39m\u001b[36m\u001b[1mInfo: \u001b[22m\u001b[39mInterior point LP: τ = -13.44349118, Status = Interior\n"
          ]
        },
        {
          "output_type": "stream",
          "name": "stdout",
          "text": [
            "  New point found: f(x) = 0.728638\n"
          ]
        },
        {
          "output_type": "stream",
          "name": "stderr",
          "text": [
            "\u001b[36m\u001b[1m[ \u001b[22m\u001b[39m\u001b[36m\u001b[1mInfo: \u001b[22m\u001b[39mInterior point LP: τ = -200.15401746, Status = Interior\n"
          ]
        },
        {
          "output_type": "stream",
          "name": "stdout",
          "text": [
            "  New point found: f(x) = 0.728483\n"
          ]
        },
        {
          "output_type": "stream",
          "name": "stderr",
          "text": [
            "\u001b[36m\u001b[1m[ \u001b[22m\u001b[39m\u001b[36m\u001b[1mInfo: \u001b[22m\u001b[39mInterior point LP: τ = -21.6047739, Status = Interior\n"
          ]
        },
        {
          "output_type": "stream",
          "name": "stdout",
          "text": [
            "  New point found: f(x) = 0.763366\n",
            "  New point found: f(x) = 0.732382\n"
          ]
        },
        {
          "output_type": "stream",
          "name": "stderr",
          "text": [
            "\u001b[36m\u001b[1m[ \u001b[22m\u001b[39m\u001b[36m\u001b[1mInfo: \u001b[22m\u001b[39mInterior point LP: τ = -57.69000988, Status = Interior\n",
            "\u001b[36m\u001b[1m[ \u001b[22m\u001b[39m\u001b[36m\u001b[1mInfo: \u001b[22m\u001b[39mInterior point LP: τ = -28.48898458, Status = Interior\n"
          ]
        },
        {
          "output_type": "stream",
          "name": "stdout",
          "text": [
            "  New point found: f(x) = 0.728716\n"
          ]
        },
        {
          "output_type": "stream",
          "name": "stderr",
          "text": [
            "\u001b[36m\u001b[1m[ \u001b[22m\u001b[39m\u001b[36m\u001b[1mInfo: \u001b[22m\u001b[39mInterior point LP: τ = -9.75831301, Status = Interior\n"
          ]
        },
        {
          "output_type": "stream",
          "name": "stdout",
          "text": [
            "  New point found: f(x) = 0.727980\n"
          ]
        },
        {
          "output_type": "stream",
          "name": "stderr",
          "text": [
            "\u001b[36m\u001b[1m[ \u001b[22m\u001b[39m\u001b[36m\u001b[1mInfo: \u001b[22m\u001b[39mInterior point LP: τ = -26.29304746, Status = Interior\n"
          ]
        },
        {
          "output_type": "stream",
          "name": "stdout",
          "text": [
            "  New point found: f(x) = 0.727501\n"
          ]
        },
        {
          "output_type": "stream",
          "name": "stderr",
          "text": [
            "\u001b[36m\u001b[1m[ \u001b[22m\u001b[39m\u001b[36m\u001b[1mInfo: \u001b[22m\u001b[39mInterior point LP: τ = -2.94734454, Status = Interior\n"
          ]
        },
        {
          "output_type": "stream",
          "name": "stdout",
          "text": [
            "  New point found: f(x) = 0.728357\n"
          ]
        },
        {
          "output_type": "stream",
          "name": "stderr",
          "text": [
            "\u001b[36m\u001b[1m[ \u001b[22m\u001b[39m\u001b[36m\u001b[1mInfo: \u001b[22m\u001b[39mInterior point LP: τ = -21.70104186, Status = Interior\n",
            "\u001b[36m\u001b[1m[ \u001b[22m\u001b[39m\u001b[36m\u001b[1mInfo: \u001b[22m\u001b[39mInterior point LP: τ = -533.62891715, Status = Interior\n",
            "\u001b[36m\u001b[1m[ \u001b[22m\u001b[39m\u001b[36m\u001b[1mInfo: \u001b[22m\u001b[39mCell 14: New point not added, obj = 0.73582, min distance = 0.0, better = false\n",
            "\u001b[36m\u001b[1m[ \u001b[22m\u001b[39m\u001b[36m\u001b[1mInfo: \u001b[22m\u001b[39mInterior point LP: τ = -146.45332026, Status = Interior\n",
            "\u001b[36m\u001b[1m[ \u001b[22m\u001b[39m\u001b[36m\u001b[1mInfo: \u001b[22m\u001b[39mCell 15: New point not added, obj = 0.763366, min distance = 0.0, better = false\n",
            "\u001b[36m\u001b[1m[ \u001b[22m\u001b[39m\u001b[36m\u001b[1mInfo: \u001b[22m\u001b[39mInterior point LP: τ = -154.31045663, Status = Interior\n",
            "\u001b[36m\u001b[1m[ \u001b[22m\u001b[39m\u001b[36m\u001b[1mInfo: \u001b[22m\u001b[39mCell 16: New point not added, obj = 0.729725, min distance = 0.0, better = false\n"
          ]
        },
        {
          "output_type": "stream",
          "name": "stdout",
          "text": [
            "  New point found: f(x) = 0.727918\n"
          ]
        },
        {
          "output_type": "stream",
          "name": "stderr",
          "text": [
            "\u001b[36m\u001b[1m[ \u001b[22m\u001b[39m\u001b[36m\u001b[1mInfo: \u001b[22m\u001b[39mInterior point LP: τ = -47.56025393, Status = Interior\n"
          ]
        },
        {
          "output_type": "stream",
          "name": "stdout",
          "text": [
            "  New point found: f(x) = 0.728318\n"
          ]
        },
        {
          "output_type": "stream",
          "name": "stderr",
          "text": [
            "\u001b[36m\u001b[1m[ \u001b[22m\u001b[39m\u001b[36m\u001b[1mInfo: \u001b[22m\u001b[39mInterior point LP: τ = -13.30013636, Status = Interior\n"
          ]
        },
        {
          "output_type": "stream",
          "name": "stdout",
          "text": [
            "  New point found: f(x) = 0.728191\n"
          ]
        },
        {
          "output_type": "stream",
          "name": "stderr",
          "text": [
            "\u001b[36m\u001b[1m[ \u001b[22m\u001b[39m\u001b[36m\u001b[1mInfo: \u001b[22m\u001b[39mInterior point LP: τ = -4.22569154, Status = Interior\n"
          ]
        },
        {
          "output_type": "stream",
          "name": "stdout",
          "text": [
            "  New point found: f(x) = 0.728105\n"
          ]
        },
        {
          "output_type": "stream",
          "name": "stderr",
          "text": [
            "\u001b[36m\u001b[1m[ \u001b[22m\u001b[39m\u001b[36m\u001b[1mInfo: \u001b[22m\u001b[39mInterior point LP: τ = -37.89804245, Status = Interior\n"
          ]
        },
        {
          "output_type": "stream",
          "name": "stdout",
          "text": [
            "  New point found: f(x) = 0.729088\n"
          ]
        },
        {
          "output_type": "stream",
          "name": "stderr",
          "text": [
            "\u001b[36m\u001b[1m[ \u001b[22m\u001b[39m\u001b[36m\u001b[1mInfo: \u001b[22m\u001b[39mInterior point LP: τ = -22.45964107, Status = Interior\n"
          ]
        },
        {
          "output_type": "stream",
          "name": "stdout",
          "text": [
            "  New point found: f(x) = 0.728427\n"
          ]
        },
        {
          "output_type": "stream",
          "name": "stderr",
          "text": [
            "\u001b[36m\u001b[1m[ \u001b[22m\u001b[39m\u001b[36m\u001b[1mInfo: \u001b[22m\u001b[39mInterior point LP: τ = -105.65234533, Status = Interior\n",
            "\u001b[36m\u001b[1m[ \u001b[22m\u001b[39m\u001b[36m\u001b[1mInfo: \u001b[22m\u001b[39mInterior point LP: τ = -169.68375393, Status = Interior\n",
            "\u001b[36m\u001b[1m[ \u001b[22m\u001b[39m\u001b[36m\u001b[1mInfo: \u001b[22m\u001b[39mCell 23: New point not added, obj = 0.728818, min distance = 0.0, better = false\n"
          ]
        },
        {
          "output_type": "stream",
          "name": "stdout",
          "text": [
            "  New point found: f(x) = 0.729211\n"
          ]
        },
        {
          "output_type": "stream",
          "name": "stderr",
          "text": [
            "\u001b[36m\u001b[1m[ \u001b[22m\u001b[39m\u001b[36m\u001b[1mInfo: \u001b[22m\u001b[39mInterior point LP: τ = -53.48698972, Status = Interior\n"
          ]
        },
        {
          "output_type": "stream",
          "name": "stdout",
          "text": [
            "  New point found: f(x) = 0.728720\n"
          ]
        },
        {
          "output_type": "stream",
          "name": "stderr",
          "text": [
            "\u001b[36m\u001b[1m[ \u001b[22m\u001b[39m\u001b[36m\u001b[1mInfo: \u001b[22m\u001b[39mInterior point LP: τ = -12.32180538, Status = Interior\n",
            "\u001b[36m\u001b[1m[ \u001b[22m\u001b[39m\u001b[36m\u001b[1mInfo: \u001b[22m\u001b[39mInterior point LP: τ = -500.26280519, Status = Interior\n",
            "\u001b[36m\u001b[1m[ \u001b[22m\u001b[39m\u001b[36m\u001b[1mInfo: \u001b[22m\u001b[39mCell 26: New point not added, obj = 0.728949, min distance = 0.0, better = false\n"
          ]
        },
        {
          "output_type": "stream",
          "name": "stdout",
          "text": [
            "  New point found: f(x) = 0.727931\n"
          ]
        },
        {
          "output_type": "stream",
          "name": "stderr",
          "text": [
            "\u001b[36m\u001b[1m[ \u001b[22m\u001b[39m\u001b[36m\u001b[1mInfo: \u001b[22m\u001b[39mInterior point LP: τ = -34.38914983, Status = Interior\n"
          ]
        },
        {
          "output_type": "stream",
          "name": "stdout",
          "text": [
            "  New point found: f(x) = 0.728373\n"
          ]
        },
        {
          "output_type": "stream",
          "name": "stderr",
          "text": [
            "\u001b[36m\u001b[1m[ \u001b[22m\u001b[39m\u001b[36m\u001b[1mInfo: \u001b[22m\u001b[39mInterior point LP: τ = -169.06944442, Status = Interior\n"
          ]
        },
        {
          "output_type": "stream",
          "name": "stdout",
          "text": [
            "  New point found: f(x) = 0.728286\n"
          ]
        },
        {
          "output_type": "stream",
          "name": "stderr",
          "text": [
            "\u001b[36m\u001b[1m[ \u001b[22m\u001b[39m\u001b[36m\u001b[1mInfo: \u001b[22m\u001b[39mInterior point LP: τ = -18.6740997, Status = Interior\n"
          ]
        },
        {
          "output_type": "stream",
          "name": "stdout",
          "text": [
            "  New point found: f(x) = 0.728971\n"
          ]
        },
        {
          "output_type": "stream",
          "name": "stderr",
          "text": [
            "\u001b[36m\u001b[1m[ \u001b[22m\u001b[39m\u001b[36m\u001b[1mInfo: \u001b[22m\u001b[39mInterior point LP: τ = -9.71393037, Status = Interior\n"
          ]
        },
        {
          "output_type": "stream",
          "name": "stdout",
          "text": [
            "  New point found: f(x) = 0.728482\n"
          ]
        },
        {
          "output_type": "stream",
          "name": "stderr",
          "text": [
            "\u001b[36m\u001b[1m[ \u001b[22m\u001b[39m\u001b[36m\u001b[1mInfo: \u001b[22m\u001b[39mInterior point LP: τ = -17.04210791, Status = Interior\n"
          ]
        },
        {
          "output_type": "stream",
          "name": "stdout",
          "text": [
            "  New point found: f(x) = 0.731687\n"
          ]
        },
        {
          "output_type": "stream",
          "name": "stderr",
          "text": [
            "\u001b[36m\u001b[1m[ \u001b[22m\u001b[39m\u001b[36m\u001b[1mInfo: \u001b[22m\u001b[39mInterior point LP: τ = -214.60860106, Status = Interior\n"
          ]
        },
        {
          "output_type": "stream",
          "name": "stdout",
          "text": [
            "  New point found: f(x) = 0.727664\n"
          ]
        },
        {
          "output_type": "stream",
          "name": "stderr",
          "text": [
            "\u001b[36m\u001b[1m[ \u001b[22m\u001b[39m\u001b[36m\u001b[1mInfo: \u001b[22m\u001b[39mInterior point LP: τ = -21.36151974, Status = Interior\n"
          ]
        },
        {
          "output_type": "stream",
          "name": "stdout",
          "text": [
            "  New point found: f(x) = 0.763366\n",
            "  New point found: f(x) = 0.728346\n"
          ]
        },
        {
          "output_type": "stream",
          "name": "stderr",
          "text": [
            "\u001b[36m\u001b[1m[ \u001b[22m\u001b[39m\u001b[36m\u001b[1mInfo: \u001b[22m\u001b[39mInterior point LP: τ = -202.69358333, Status = Interior\n",
            "\u001b[36m\u001b[1m[ \u001b[22m\u001b[39m\u001b[36m\u001b[1mInfo: \u001b[22m\u001b[39mInterior point LP: τ = -18.91145898, Status = Interior\n"
          ]
        },
        {
          "output_type": "stream",
          "name": "stdout",
          "text": [
            "  New point found: f(x) = 0.730002\n"
          ]
        },
        {
          "output_type": "stream",
          "name": "stderr",
          "text": [
            "\u001b[36m\u001b[1m[ \u001b[22m\u001b[39m\u001b[36m\u001b[1mInfo: \u001b[22m\u001b[39mInterior point LP: τ = -50.20397455, Status = Interior\n"
          ]
        },
        {
          "output_type": "stream",
          "name": "stdout",
          "text": [
            "  New point found: f(x) = 0.730243\n"
          ]
        },
        {
          "output_type": "stream",
          "name": "stderr",
          "text": [
            "\u001b[36m\u001b[1m[ \u001b[22m\u001b[39m\u001b[36m\u001b[1mInfo: \u001b[22m\u001b[39mInterior point LP: τ = -267.92262413, Status = Interior\n"
          ]
        },
        {
          "output_type": "stream",
          "name": "stdout",
          "text": [
            "  New point found: f(x) = 0.728632\n"
          ]
        },
        {
          "output_type": "stream",
          "name": "stderr",
          "text": [
            "\u001b[36m\u001b[1m[ \u001b[22m\u001b[39m\u001b[36m\u001b[1mInfo: \u001b[22m\u001b[39mInterior point LP: τ = -364.11626943, Status = Interior\n"
          ]
        },
        {
          "output_type": "stream",
          "name": "stdout",
          "text": [
            "  New point found: f(x) = 0.728624\n"
          ]
        },
        {
          "output_type": "stream",
          "name": "stderr",
          "text": [
            "\u001b[36m\u001b[1m[ \u001b[22m\u001b[39m\u001b[36m\u001b[1mInfo: \u001b[22m\u001b[39mInterior point LP: τ = -286.1613523, Status = Interior\n"
          ]
        },
        {
          "output_type": "stream",
          "name": "stdout",
          "text": [
            "  New point found: f(x) = 0.728333\n"
          ]
        },
        {
          "output_type": "stream",
          "name": "stderr",
          "text": [
            "\u001b[36m\u001b[1m[ \u001b[22m\u001b[39m\u001b[36m\u001b[1mInfo: \u001b[22m\u001b[39mInterior point LP: τ = -14.05293842, Status = Interior\n"
          ]
        },
        {
          "output_type": "stream",
          "name": "stdout",
          "text": [
            "  New point found: f(x) = 0.758583\n"
          ]
        },
        {
          "output_type": "stream",
          "name": "stderr",
          "text": [
            "\u001b[36m\u001b[1m[ \u001b[22m\u001b[39m\u001b[36m\u001b[1mInfo: \u001b[22m\u001b[39mInterior point LP: τ = -31.2862567, Status = Interior\n"
          ]
        },
        {
          "output_type": "stream",
          "name": "stdout",
          "text": [
            "  New point found: f(x) = 0.728213\n"
          ]
        },
        {
          "output_type": "stream",
          "name": "stderr",
          "text": [
            "\u001b[36m\u001b[1m[ \u001b[22m\u001b[39m\u001b[36m\u001b[1mInfo: \u001b[22m\u001b[39mInterior point LP: τ = -6.4784523, Status = Interior\n",
            "\u001b[36m\u001b[1m[ \u001b[22m\u001b[39m\u001b[36m\u001b[1mInfo: \u001b[22m\u001b[39mInterior point LP: τ = -513.91048187, Status = Interior\n",
            "\u001b[36m\u001b[1m[ \u001b[22m\u001b[39m\u001b[36m\u001b[1mInfo: \u001b[22m\u001b[39mCell 43: New point not added, obj = 0.729039, min distance = 0.0, better = false\n"
          ]
        },
        {
          "output_type": "stream",
          "name": "stdout",
          "text": [
            "  New point found: f(x) = 0.729404\n"
          ]
        },
        {
          "output_type": "stream",
          "name": "stderr",
          "text": [
            "\u001b[36m\u001b[1m[ \u001b[22m\u001b[39m\u001b[36m\u001b[1mInfo: \u001b[22m\u001b[39mInterior point LP: τ = -49.6632551, Status = Interior\n",
            "\u001b[36m\u001b[1m[ \u001b[22m\u001b[39m\u001b[36m\u001b[1mInfo: \u001b[22m\u001b[39mInterior point LP: τ = -408.97059379, Status = Interior\n",
            "\u001b[36m\u001b[1m[ \u001b[22m\u001b[39m\u001b[36m\u001b[1mInfo: \u001b[22m\u001b[39mCell 45: New point not added, obj = 0.755994, min distance = 0.0, better = false\n"
          ]
        },
        {
          "output_type": "stream",
          "name": "stdout",
          "text": [
            "  New point found: f(x) = 0.728890\n"
          ]
        },
        {
          "output_type": "stream",
          "name": "stderr",
          "text": [
            "\u001b[36m\u001b[1m[ \u001b[22m\u001b[39m\u001b[36m\u001b[1mInfo: \u001b[22m\u001b[39mInterior point LP: τ = -13.02797998, Status = Interior\n"
          ]
        },
        {
          "output_type": "stream",
          "name": "stdout",
          "text": [
            "  New point found: f(x) = 0.727998\n"
          ]
        },
        {
          "output_type": "stream",
          "name": "stderr",
          "text": [
            "\u001b[36m\u001b[1m[ \u001b[22m\u001b[39m\u001b[36m\u001b[1mInfo: \u001b[22m\u001b[39mInterior point LP: τ = -131.57304841, Status = Interior\n"
          ]
        },
        {
          "output_type": "stream",
          "name": "stdout",
          "text": [
            "  New point found: f(x) = 0.727815\n"
          ]
        },
        {
          "output_type": "stream",
          "name": "stderr",
          "text": [
            "\u001b[36m\u001b[1m[ \u001b[22m\u001b[39m\u001b[36m\u001b[1mInfo: \u001b[22m\u001b[39mInterior point LP: τ = -34.08192627, Status = Interior\n"
          ]
        },
        {
          "output_type": "stream",
          "name": "stdout",
          "text": [
            "  New point found: f(x) = 0.728908\n"
          ]
        },
        {
          "output_type": "stream",
          "name": "stderr",
          "text": [
            "\u001b[36m\u001b[1m[ \u001b[22m\u001b[39m\u001b[36m\u001b[1mInfo: \u001b[22m\u001b[39mInterior point LP: τ = -6.77018838, Status = Interior\n"
          ]
        },
        {
          "output_type": "stream",
          "name": "stdout",
          "text": [
            "  New point found: f(x) = 0.727819\n",
            "  ✅ Level 8 completed in 242.7844 sec | Best objective so far: 0.727501\n"
          ]
        },
        {
          "output_type": "stream",
          "name": "stderr",
          "text": [
            "\u001b[36m\u001b[1m[ \u001b[22m\u001b[39m\u001b[36m\u001b[1mInfo: \u001b[22m\u001b[39mInterior point LP: τ = -28.60270843, Status = Interior\n"
          ]
        },
        {
          "output_type": "stream",
          "name": "stdout",
          "text": [
            "583.996868 seconds (21.64 M allocations: 412.821 GiB, 8.33% gc time, 0.23% compilation time: 13% of which was recompilation)\n",
            "\n",
            "✅ VDCG Best Objective: 0.727501\n",
            "✅ VDCG Total Time: 1039.1539 sec, Total Points: 122\n",
            "📊 Running Standard CG...\n",
            "📊 Standard CG Objective: 0.737647\n",
            "🔍 Running Multi-start CG (time-limited)...\n",
            "  Seed 23: f(x) = 0.737647, Time so far: 4.6699 sec, Points: 1\n",
            "  Seed 24: f(x) = 0.730112, Time so far: 9.3839 sec, Points: 2\n",
            "  Seed 25: f(x) = 0.729328, Time so far: 15.1119 sec, Points: 3\n",
            "  Seed 26: f(x) = 0.728692, Time so far: 19.7839 sec, Points: 4\n",
            "  Seed 27: f(x) = 0.730662, Time so far: 25.2588 sec, Points: 5\n",
            "  Seed 28: f(x) = 0.728936, Time so far: 30.2728 sec, Points: 6\n",
            "  Seed 29: f(x) = 0.892312, Time so far: 34.9485 sec, Points: 7\n",
            "  Seed 30: f(x) = 0.760559, Time so far: 41.1081 sec, Points: 8\n",
            "  Seed 31: f(x) = 0.728928, Time so far: 45.7503 sec, Points: 9\n",
            "  Seed 32: f(x) = 0.728362, Time so far: 51.2281 sec, Points: 10\n",
            "  Seed 33: f(x) = 0.730155, Time so far: 56.1643 sec, Points: 11\n",
            "  Seed 34: f(x) = 0.742053, Time so far: 60.9558 sec, Points: 12\n",
            "  Seed 35: f(x) = 0.732858, Time so far: 66.6909 sec, Points: 13\n",
            "  Seed 36: f(x) = 0.730642, Time so far: 71.3622 sec, Points: 14\n",
            "  Seed 37: f(x) = 0.728910, Time so far: 76.5241 sec, Points: 15\n",
            "  Seed 38: f(x) = 0.739233, Time so far: 81.7018 sec, Points: 16\n",
            "  Seed 39: f(x) = 0.728925, Time so far: 86.3972 sec, Points: 17\n",
            "  Seed 40: f(x) = 0.728308, Time so far: 92.1410 sec, Points: 18\n",
            "  Seed 41: f(x) = 0.729615, Time so far: 96.8068 sec, Points: 19\n",
            "  Seed 42: f(x) = 0.732010, Time so far: 101.7769 sec, Points: 20\n",
            "  Seed 43: f(x) = 0.728308, Time so far: 107.2538 sec, Points: 21\n",
            "  Seed 44: f(x) = 0.730112, Time so far: 111.8642 sec, Points: 22\n",
            "  Seed 45: f(x) = 0.785039, Time so far: 117.6078 sec, Points: 23\n",
            "  Seed 46: f(x) = 0.728907, Time so far: 122.2873 sec, Points: 24\n",
            "  Seed 47: f(x) = 0.731558, Time so far: 126.9867 sec, Points: 25\n",
            "  Seed 48: f(x) = 0.739233, Time so far: 132.7553 sec, Points: 26\n",
            "  Seed 49: f(x) = 0.732400, Time so far: 137.4648 sec, Points: 27\n",
            "  Seed 50: f(x) = 0.730697, Time so far: 143.1277 sec, Points: 28\n",
            "  Seed 51: f(x) = 0.728892, Time so far: 147.8578 sec, Points: 29\n",
            "  Seed 52: f(x) = 0.892312, Time so far: 152.5094 sec, Points: 30\n",
            "  Seed 53: f(x) = 0.730157, Time so far: 158.2510 sec, Points: 31\n",
            "  Seed 54: f(x) = 0.729427, Time so far: 162.8943 sec, Points: 32\n",
            "  Seed 55: f(x) = 0.728925, Time so far: 168.5096 sec, Points: 33\n",
            "  Seed 56: f(x) = 0.756437, Time so far: 173.3525 sec, Points: 34\n",
            "  Seed 57: f(x) = 0.730531, Time so far: 177.9692 sec, Points: 35\n",
            "  Seed 58: f(x) = 0.728884, Time so far: 183.7106 sec, Points: 36\n",
            "  Seed 59: f(x) = 0.728840, Time so far: 188.3641 sec, Points: 37\n",
            "  Seed 60: f(x) = 0.733077, Time so far: 193.6343 sec, Points: 38\n",
            "  Seed 61: f(x) = 0.730942, Time so far: 198.7505 sec, Points: 39\n",
            "  Seed 62: f(x) = 0.728624, Time so far: 203.4286 sec, Points: 40\n",
            "  Seed 63: f(x) = 0.731434, Time so far: 209.2088 sec, Points: 41\n",
            "  Seed 64: f(x) = 0.732858, Time so far: 213.9018 sec, Points: 42\n",
            "  Seed 65: f(x) = 0.731708, Time so far: 218.9195 sec, Points: 43\n",
            "  Seed 66: f(x) = 0.730044, Time so far: 224.3004 sec, Points: 44\n",
            "  Seed 67: f(x) = 0.728907, Time so far: 228.9972 sec, Points: 45\n",
            "  Seed 68: f(x) = 0.728885, Time so far: 234.7496 sec, Points: 46\n",
            "  Seed 69: f(x) = 0.730294, Time so far: 239.4149 sec, Points: 47\n",
            "  Seed 70: f(x) = 0.728965, Time so far: 244.1912 sec, Points: 48\n",
            "  Seed 71: f(x) = 0.730802, Time so far: 249.8105 sec, Points: 49\n",
            "  Seed 72: f(x) = 0.729334, Time so far: 254.4405 sec, Points: 50\n",
            "  Seed 73: f(x) = 0.728921, Time so far: 260.2186 sec, Points: 51\n",
            "  Seed 74: f(x) = 0.737464, Time so far: 264.7754 sec, Points: 52\n",
            "  Seed 75: f(x) = 0.729273, Time so far: 269.4765 sec, Points: 53\n",
            "  Seed 76: f(x) = 0.759692, Time so far: 275.1903 sec, Points: 54\n",
            "  Seed 77: f(x) = 0.745332, Time so far: 279.8203 sec, Points: 55\n",
            "  Seed 78: f(x) = 0.728903, Time so far: 285.4852 sec, Points: 56\n",
            "  Seed 79: f(x) = 0.730566, Time so far: 290.2853 sec, Points: 57\n",
            "  Seed 80: f(x) = 0.728830, Time so far: 294.9521 sec, Points: 58\n",
            "  Seed 81: f(x) = 0.730847, Time so far: 300.6484 sec, Points: 59\n",
            "  Seed 82: f(x) = 0.733623, Time so far: 305.2825 sec, Points: 60\n",
            "  Seed 83: f(x) = 0.731310, Time so far: 310.6295 sec, Points: 61\n",
            "  Seed 84: f(x) = 0.728902, Time so far: 315.7261 sec, Points: 62\n",
            "  Seed 85: f(x) = 0.728936, Time so far: 320.3786 sec, Points: 63\n",
            "  Seed 86: f(x) = 0.748438, Time so far: 326.0938 sec, Points: 64\n",
            "  Seed 87: f(x) = 0.728936, Time so far: 330.7978 sec, Points: 65\n",
            "  Seed 88: f(x) = 0.730037, Time so far: 335.8563 sec, Points: 66\n",
            "  Seed 89: f(x) = 0.728910, Time so far: 341.1444 sec, Points: 67\n",
            "  Seed 90: f(x) = 0.730112, Time so far: 345.7840 sec, Points: 68\n",
            "  Seed 91: f(x) = 0.728332, Time so far: 351.5235 sec, Points: 69\n",
            "  Seed 92: f(x) = 0.737546, Time so far: 356.1632 sec, Points: 70\n",
            "  Seed 93: f(x) = 0.730531, Time so far: 360.8389 sec, Points: 71\n",
            "  Seed 94: f(x) = 0.742905, Time so far: 366.5794 sec, Points: 72\n",
            "  Seed 95: f(x) = 0.733330, Time so far: 371.2432 sec, Points: 73\n",
            "  Seed 96: f(x) = 0.729575, Time so far: 376.9891 sec, Points: 74\n",
            "  Seed 97: f(x) = 0.728918, Time so far: 381.6200 sec, Points: 75\n",
            "  Seed 98: f(x) = 0.728926, Time so far: 386.3349 sec, Points: 76\n",
            "  Seed 99: f(x) = 0.730155, Time so far: 392.0629 sec, Points: 77\n",
            "  Seed 100: f(x) = 0.730157, Time so far: 396.7024 sec, Points: 78\n",
            "  Seed 101: f(x) = 0.728813, Time so far: 402.3730 sec, Points: 79\n",
            "  Seed 102: f(x) = 0.728840, Time so far: 407.1048 sec, Points: 80\n",
            "  Seed 103: f(x) = 0.729465, Time so far: 411.7299 sec, Points: 81\n",
            "  Seed 104: f(x) = 0.737647, Time so far: 417.4294 sec, Points: 82\n",
            "  Seed 105: f(x) = 0.755994, Time so far: 422.0285 sec, Points: 83\n",
            "  Seed 106: f(x) = 0.728902, Time so far: 427.2474 sec, Points: 84\n",
            "  Seed 107: f(x) = 0.742905, Time so far: 432.4483 sec, Points: 85\n",
            "  Seed 108: f(x) = 0.728903, Time so far: 437.1182 sec, Points: 86\n",
            "  Seed 109: f(x) = 0.759692, Time so far: 442.8454 sec, Points: 87\n",
            "  Seed 110: f(x) = 0.735111, Time so far: 447.5148 sec, Points: 88\n",
            "  Seed 111: f(x) = 0.729960, Time so far: 452.5795 sec, Points: 89\n",
            "  Seed 112: f(x) = 0.729376, Time so far: 457.9330 sec, Points: 90\n",
            "  Seed 113: f(x) = 0.728935, Time so far: 462.6292 sec, Points: 91\n",
            "  Seed 114: f(x) = 0.729334, Time so far: 468.3070 sec, Points: 92\n",
            "  Seed 115: f(x) = 0.728935, Time so far: 472.9930 sec, Points: 93\n",
            "  Seed 116: f(x) = 0.728332, Time so far: 477.6958 sec, Points: 94\n",
            "  Seed 117: f(x) = 0.729877, Time so far: 483.3772 sec, Points: 95\n",
            "  Seed 118: f(x) = 0.728913, Time so far: 488.0877 sec, Points: 96\n",
            "  Seed 119: f(x) = 0.729102, Time so far: 493.8661 sec, Points: 97\n",
            "  Seed 120: f(x) = 0.728885, Time so far: 498.5300 sec, Points: 98\n",
            "  Seed 121: f(x) = 0.746345, Time so far: 503.1886 sec, Points: 99\n",
            "  Seed 122: f(x) = 0.728894, Time so far: 508.9697 sec, Points: 100\n",
            "  Seed 123: f(x) = 0.748438, Time so far: 513.5772 sec, Points: 101\n",
            "  Seed 124: f(x) = 0.728830, Time so far: 519.1197 sec, Points: 102\n",
            "  Seed 125: f(x) = 0.737546, Time so far: 523.9816 sec, Points: 103\n",
            "  Seed 126: f(x) = 0.731755, Time so far: 528.6394 sec, Points: 104\n",
            "  Seed 127: f(x) = 0.731488, Time so far: 534.2923 sec, Points: 105\n",
            "  Seed 128: f(x) = 0.729575, Time so far: 538.9766 sec, Points: 106\n",
            "  Seed 129: f(x) = 0.732699, Time so far: 544.2035 sec, Points: 107\n",
            "  Seed 130: f(x) = 0.728925, Time so far: 549.3112 sec, Points: 108\n",
            "  Seed 131: f(x) = 0.730802, Time so far: 553.9813 sec, Points: 109\n",
            "  Seed 132: f(x) = 0.730445, Time so far: 559.6377 sec, Points: 110\n",
            "  Seed 133: f(x) = 0.739233, Time so far: 564.3053 sec, Points: 111\n",
            "  Seed 134: f(x) = 0.753427, Time so far: 569.2766 sec, Points: 112\n",
            "  Seed 135: f(x) = 0.728881, Time so far: 574.6943 sec, Points: 113\n",
            "  Seed 136: f(x) = 0.797671, Time so far: 574.8466 sec, Points: 114\n",
            "  Seed 137: f(x) = 0.731168, Time so far: 579.4825 sec, Points: 115\n",
            "  Seed 138: f(x) = 0.729575, Time so far: 585.2256 sec, Points: 116\n",
            "  Seed 139: f(x) = 0.728822, Time so far: 589.8860 sec, Points: 117\n",
            "  Seed 140: f(x) = 0.729575, Time so far: 594.6145 sec, Points: 118\n",
            "  Seed 141: f(x) = 0.731368, Time so far: 600.3150 sec, Points: 119\n",
            "  Seed 142: f(x) = 0.975189, Time so far: 604.9645 sec, Points: 120\n",
            "  Seed 143: f(x) = 0.728965, Time so far: 610.6886 sec, Points: 121\n",
            "  Seed 144: f(x) = 0.733986, Time so far: 615.3400 sec, Points: 122\n",
            "  Seed 145: f(x) = 2.127252, Time so far: 620.0466 sec, Points: 123\n",
            "  Seed 146: f(x) = 0.732524, Time so far: 625.7697 sec, Points: 124\n",
            "  Seed 147: f(x) = 0.729354, Time so far: 630.4743 sec, Points: 125\n",
            "  Seed 148: f(x) = 0.730184, Time so far: 636.0675 sec, Points: 126\n",
            "  Seed 149: f(x) = 0.729043, Time so far: 640.8368 sec, Points: 127\n",
            "  Seed 150: f(x) = 0.760559, Time so far: 645.5164 sec, Points: 128\n",
            "  Seed 151: f(x) = 0.729176, Time so far: 651.2699 sec, Points: 129\n",
            "  Seed 152: f(x) = 0.732240, Time so far: 655.8848 sec, Points: 130\n",
            "  Seed 153: f(x) = 0.728879, Time so far: 661.2731 sec, Points: 131\n",
            "  Seed 154: f(x) = 0.731488, Time so far: 666.2739 sec, Points: 132\n",
            "  Seed 155: f(x) = 0.759692, Time so far: 670.9069 sec, Points: 133\n",
            "  Seed 156: f(x) = 0.759692, Time so far: 676.6350 sec, Points: 134\n",
            "  Seed 157: f(x) = 0.731068, Time so far: 681.2927 sec, Points: 135\n",
            "  Seed 158: f(x) = 0.728927, Time so far: 686.3804 sec, Points: 136\n",
            "  Seed 159: f(x) = 0.728881, Time so far: 691.7414 sec, Points: 137\n",
            "  Seed 160: f(x) = 0.729465, Time so far: 696.8712 sec, Points: 138\n",
            "  Seed 161: f(x) = 0.759692, Time so far: 702.5651 sec, Points: 139\n",
            "  Seed 162: f(x) = 0.732858, Time so far: 707.2771 sec, Points: 140\n",
            "  Seed 163: f(x) = 0.730339, Time so far: 712.3356 sec, Points: 141\n",
            "  Seed 164: f(x) = 0.728977, Time so far: 717.6870 sec, Points: 142\n",
            "  Seed 165: f(x) = 0.728921, Time so far: 722.3212 sec, Points: 143\n",
            "  Seed 166: f(x) = 0.734086, Time so far: 728.0950 sec, Points: 144\n",
            "  Seed 167: f(x) = 0.745332, Time so far: 732.7669 sec, Points: 145\n",
            "  Seed 168: f(x) = 0.728903, Time so far: 737.5353 sec, Points: 146\n",
            "  Seed 169: f(x) = 0.766223, Time so far: 743.0943 sec, Points: 147\n",
            "  Seed 170: f(x) = 0.729461, Time so far: 747.7828 sec, Points: 148\n",
            "  Seed 171: f(x) = 0.729328, Time so far: 753.5090 sec, Points: 149\n",
            "  Seed 172: f(x) = 0.729461, Time so far: 758.1579 sec, Points: 150\n",
            "  Seed 173: f(x) = 0.736526, Time so far: 762.8306 sec, Points: 151\n",
            "  Seed 174: f(x) = 0.742905, Time so far: 768.6107 sec, Points: 152\n",
            "  Seed 175: f(x) = 0.730243, Time so far: 773.2637 sec, Points: 153\n",
            "  Seed 176: f(x) = 0.728927, Time so far: 778.9849 sec, Points: 154\n",
            "  Seed 177: f(x) = 0.730279, Time so far: 783.7449 sec, Points: 155\n",
            "  Seed 178: f(x) = 0.730117, Time so far: 788.3703 sec, Points: 156\n",
            "  Seed 179: f(x) = 0.730093, Time so far: 794.0733 sec, Points: 157\n",
            "  Seed 180: f(x) = 0.728902, Time so far: 798.7357 sec, Points: 158\n",
            "  Seed 181: f(x) = 0.730531, Time so far: 804.0137 sec, Points: 159\n",
            "  Seed 182: f(x) = 0.733330, Time so far: 809.1321 sec, Points: 160\n",
            "  Seed 183: f(x) = 0.730662, Time so far: 813.7869 sec, Points: 161\n",
            "  Seed 184: f(x) = 0.728888, Time so far: 819.4728 sec, Points: 162\n",
            "  Seed 185: f(x) = 0.732396, Time so far: 824.1687 sec, Points: 163\n",
            "  Seed 186: f(x) = 0.731434, Time so far: 829.2169 sec, Points: 164\n",
            "  Seed 187: f(x) = 0.728936, Time so far: 834.5479 sec, Points: 165\n",
            "  Seed 188: f(x) = 0.728822, Time so far: 839.2252 sec, Points: 166\n",
            "  Seed 189: f(x) = 0.729615, Time so far: 844.9405 sec, Points: 167\n",
            "  Seed 190: f(x) = 0.729556, Time so far: 849.6288 sec, Points: 168\n",
            "  Seed 191: f(x) = 0.730779, Time so far: 854.4289 sec, Points: 169\n",
            "  Seed 192: f(x) = 0.731368, Time so far: 860.0552 sec, Points: 170\n",
            "  Seed 193: f(x) = 0.730736, Time so far: 864.6862 sec, Points: 171\n",
            "  Seed 194: f(x) = 0.729316, Time so far: 870.4110 sec, Points: 172\n",
            "  Seed 195: f(x) = 0.732407, Time so far: 875.0855 sec, Points: 173\n",
            "  Seed 196: f(x) = 0.729556, Time so far: 879.7708 sec, Points: 174\n",
            "  Seed 197: f(x) = 0.730697, Time so far: 885.4739 sec, Points: 175\n",
            "  Seed 198: f(x) = 0.730306, Time so far: 890.1071 sec, Points: 176\n",
            "  Seed 199: f(x) = 0.728885, Time so far: 895.7898 sec, Points: 177\n",
            "  Seed 200: f(x) = 0.729615, Time so far: 900.5036 sec, Points: 178\n",
            "  Seed 201: f(x) = 0.730531, Time so far: 905.1161 sec, Points: 179\n",
            "  Seed 202: f(x) = 0.728812, Time so far: 910.8117 sec, Points: 180\n",
            "  Seed 203: f(x) = 0.775393, Time so far: 915.4910 sec, Points: 181\n",
            "  Seed 204: f(x) = 0.728835, Time so far: 920.8342 sec, Points: 182\n",
            "  Seed 205: f(x) = 0.728830, Time so far: 925.8736 sec, Points: 183\n",
            "  Seed 206: f(x) = 0.729427, Time so far: 930.5222 sec, Points: 184\n",
            "  Seed 207: f(x) = 0.734181, Time so far: 936.2409 sec, Points: 185\n",
            "  Seed 208: f(x) = 0.730923, Time so far: 940.8645 sec, Points: 186\n",
            "  Seed 209: f(x) = 0.728907, Time so far: 945.9036 sec, Points: 187\n",
            "  Seed 210: f(x) = 0.729268, Time so far: 951.2333 sec, Points: 188\n",
            "  Seed 211: f(x) = 0.731434, Time so far: 955.9125 sec, Points: 189\n",
            "  Seed 212: f(x) = 0.728830, Time so far: 961.6172 sec, Points: 190\n",
            "  Seed 213: f(x) = 0.730942, Time so far: 966.2482 sec, Points: 191\n",
            "  Seed 214: f(x) = 0.728908, Time so far: 971.0021 sec, Points: 192\n",
            "  Seed 215: f(x) = 0.786296, Time so far: 976.6684 sec, Points: 193\n",
            "  Seed 216: f(x) = 0.728919, Time so far: 982.1247 sec, Points: 194\n",
            "  Seed 217: f(x) = 0.734091, Time so far: 988.0731 sec, Points: 195\n",
            "  Seed 218: f(x) = 0.728870, Time so far: 992.7427 sec, Points: 196\n",
            "  Seed 219: f(x) = 0.732010, Time so far: 997.7580 sec, Points: 197\n",
            "  Seed 220: f(x) = 0.730847, Time so far: 1003.0829 sec, Points: 198\n",
            "  Seed 221: f(x) = 0.732495, Time so far: 1007.7654 sec, Points: 199\n",
            "  Seed 222: f(x) = 0.729547, Time so far: 1013.4615 sec, Points: 200\n",
            "  Seed 223: f(x) = 0.729443, Time so far: 1018.1274 sec, Points: 201\n",
            "  Seed 224: f(x) = 0.729268, Time so far: 1022.8048 sec, Points: 202\n",
            "  Seed 225: f(x) = 0.728417, Time so far: 1028.5009 sec, Points: 203\n",
            "  Seed 226: f(x) = 0.730268, Time so far: 1033.1405 sec, Points: 204\n",
            "  Seed 227: f(x) = 0.728812, Time so far: 1038.8836 sec, Points: 205\n",
            "  Seed 228: f(x) = 0.797671, Time so far: 1039.0326 sec, Points: 206\n",
            "  Seed 229: f(x) = 0.730808, Time so far: 1043.7113 sec, Points: 207\n",
            "🔍 Multi-start CG Best: 0.728308 (Time: 1043.7113 sec, Points: 207)\n",
            "\n",
            "📋 Summary of Results for Sigmoid Regression (a9a)\n",
            "┌──────────────────────┬─────────────────┬──────────────┬─────────────────┐\n",
            "│ Method               │ Objective Value │ Runtime (sec) │ Points Evaluated │\n",
            "├──────────────────────┼─────────────────┼──────────────┼─────────────────┤\n",
            "│ VDCG                 │ 0.727501        │ 1039.1539    │ 122             │\n",
            "│ Standard CG          │ 0.737647        │ 4.5644       │ 1               │\n",
            "│ Multi-start CG       │ 0.728308        │ 1043.7113    │ 207             │\n",
            "└──────────────────────┴─────────────────┴──────────────┴─────────────────┘\n"
          ]
        }
      ]
    }
  ],
  "metadata": {
    "colab": {
      "provenance": []
    },
    "kernelspec": {
      "display_name": "Julia",
      "name": "julia"
    },
    "language_info": {
      "name": "julia"
    }
  },
  "nbformat": 4,
  "nbformat_minor": 0
}